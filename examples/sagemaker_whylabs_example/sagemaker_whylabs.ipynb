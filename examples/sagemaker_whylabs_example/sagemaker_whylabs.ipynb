{
 "cells": [
  {
   "cell_type": "markdown",
   "id": "f3400e53",
   "metadata": {},
   "source": [
    "# Amazon SageMaker + WhyLabs"
   ]
  },
  {
   "cell_type": "markdown",
   "id": "f660747c-cc4e-4c4a-b503-652b956979ae",
   "metadata": {},
   "source": [
    "This example shows how to deploy a SageMaker endpoint with WhyLabs integration."
   ]
  },
  {
   "cell_type": "code",
   "execution_count": 1,
   "id": "981d78b1-edf4-4d39-aaec-dd15b5cca686",
   "metadata": {
    "tags": []
   },
   "outputs": [
    {
     "name": "stdout",
     "output_type": "stream",
     "text": [
      "Requirement already satisfied: boto3==1.18.39 in /opt/anaconda3/envs/whylabs-sagemaker/lib/python3.7/site-packages (1.18.39)\n",
      "Requirement already satisfied: python-dotenv==0.19.0 in /opt/anaconda3/envs/whylabs-sagemaker/lib/python3.7/site-packages (0.19.0)\n",
      "Requirement already satisfied: scikit-learn==0.24.2 in /opt/anaconda3/envs/whylabs-sagemaker/lib/python3.7/site-packages (0.24.2)\n",
      "Requirement already satisfied: pandas==1.3.2 in /opt/anaconda3/envs/whylabs-sagemaker/lib/python3.7/site-packages (1.3.2)\n",
      "Requirement already satisfied: botocore<1.22.0,>=1.21.39 in /opt/anaconda3/envs/whylabs-sagemaker/lib/python3.7/site-packages (from boto3==1.18.39) (1.21.44)\n",
      "Requirement already satisfied: s3transfer<0.6.0,>=0.5.0 in /opt/anaconda3/envs/whylabs-sagemaker/lib/python3.7/site-packages (from boto3==1.18.39) (0.5.0)\n",
      "Requirement already satisfied: jmespath<1.0.0,>=0.7.1 in /opt/anaconda3/envs/whylabs-sagemaker/lib/python3.7/site-packages (from boto3==1.18.39) (0.10.0)\n",
      "Requirement already satisfied: python-dateutil>=2.7.3 in /opt/anaconda3/envs/whylabs-sagemaker/lib/python3.7/site-packages (from pandas==1.3.2) (2.8.2)\n",
      "Requirement already satisfied: numpy>=1.17.3 in /opt/anaconda3/envs/whylabs-sagemaker/lib/python3.7/site-packages (from pandas==1.3.2) (1.21.2)\n",
      "Requirement already satisfied: pytz>=2017.3 in /opt/anaconda3/envs/whylabs-sagemaker/lib/python3.7/site-packages (from pandas==1.3.2) (2021.1)\n",
      "Requirement already satisfied: scipy>=0.19.1 in /opt/anaconda3/envs/whylabs-sagemaker/lib/python3.7/site-packages (from scikit-learn==0.24.2) (1.7.1)\n",
      "Requirement already satisfied: threadpoolctl>=2.0.0 in /opt/anaconda3/envs/whylabs-sagemaker/lib/python3.7/site-packages (from scikit-learn==0.24.2) (2.2.0)\n",
      "Requirement already satisfied: joblib>=0.11 in /opt/anaconda3/envs/whylabs-sagemaker/lib/python3.7/site-packages (from scikit-learn==0.24.2) (1.0.1)\n",
      "Requirement already satisfied: urllib3<1.27,>=1.25.4 in /opt/anaconda3/envs/whylabs-sagemaker/lib/python3.7/site-packages (from botocore<1.22.0,>=1.21.39->boto3==1.18.39) (1.26.6)\n",
      "Requirement already satisfied: six>=1.5 in /opt/anaconda3/envs/whylabs-sagemaker/lib/python3.7/site-packages (from python-dateutil>=2.7.3->pandas==1.3.2) (1.16.0)\n"
     ]
    }
   ],
   "source": [
    "!pip install boto3==1.18.39 python-dotenv==0.19.0 scikit-learn==0.24.2 pandas==1.3.2"
   ]
  },
  {
   "cell_type": "code",
   "execution_count": 10,
   "id": "b47f4fc6",
   "metadata": {},
   "outputs": [],
   "source": [
    "import os\n",
    "import json\n",
    "import urllib.request as urllib\n",
    "from joblib import dump\n",
    "import pandas as pd\n",
    "from sklearn.svm import SVC\n",
    "from sklearn.model_selection import train_test_split\n",
    "import boto3\n",
    "from dotenv import dotenv_values\n",
    "from utils import delete_model, delete_endpoint_config, delete_endpoint, is_endpoint_running"
   ]
  },
  {
   "cell_type": "markdown",
   "id": "e87c0b0c-da72-47bd-97d3-7df27fcc8892",
   "metadata": {
    "jp-MarkdownHeadingCollapsed": true,
    "tags": []
   },
   "source": [
    "## Table of Contents\n",
    "- [1 - AWS Configuration](#1)\n",
    "- [2 - Train a Model](#2)\n",
    "- [3 - Custom image building and pushing to ECR](#3)\n",
    "- [4 - Create SageMaker Endpoint](#4)\n",
    "    - [a. Model Creation](#a)\n",
    "    - [b. Endpoint Config Creation](#b)\n",
    "    - [c. Endpoint Creation](#c)\n",
    "- [5 - Test Endpoint](#5)\n",
    "- [6 - Delete AWS resources](#6)"
   ]
  },
  {
   "cell_type": "markdown",
   "id": "50724df5",
   "metadata": {
    "tags": []
   },
   "source": [
    "<a name='1'></a>\n",
    "## 1 - AWS configuration"
   ]
  },
  {
   "cell_type": "code",
   "execution_count": 3,
   "id": "4081508c",
   "metadata": {},
   "outputs": [],
   "source": [
    "AWS_PROFILE_NAME = \"default\"\n",
    "session = boto3.session.Session(profile_name=AWS_PROFILE_NAME)\n",
    "AWS_REGION_NAME = session.region_name"
   ]
  },
  {
   "cell_type": "code",
   "execution_count": 4,
   "id": "d5e0d9e9",
   "metadata": {},
   "outputs": [],
   "source": [
    "sts = session.client(\"sts\")\n",
    "sm = session.client('sagemaker', region_name=AWS_REGION_NAME)\n",
    "AWS_ACCOUNT_ID = sts.get_caller_identity().get(\"Account\")\n",
    "DOCKER_IMAGE_NAME = \"whylabs-sagemaker\""
   ]
  },
  {
   "cell_type": "code",
   "execution_count": 5,
   "id": "ee5efd7b",
   "metadata": {},
   "outputs": [
    {
     "name": "stdout",
     "output_type": "stream",
     "text": [
      "chmod: download_iris.sh: No such file or directory\n"
     ]
    }
   ],
   "source": [
    "!cd code/ && chmod +x download_iris.sh && ./download_iris.sh"
   ]
  },
  {
   "cell_type": "markdown",
   "id": "8f1fa562",
   "metadata": {
    "tags": []
   },
   "source": [
    "<a name='2'></a>\n",
    "## 2 - Train a Model"
   ]
  },
  {
   "cell_type": "markdown",
   "id": "3968df26-9a67-431b-b088-4df371597cc7",
   "metadata": {
    "tags": []
   },
   "source": [
    "Download Iris Species dataset:"
   ]
  },
  {
   "cell_type": "code",
   "execution_count": 6,
   "id": "1cc733fb-2568-4587-9ab9-bf55e9269c32",
   "metadata": {},
   "outputs": [
    {
     "name": "stdout",
     "output_type": "stream",
     "text": [
      " 'dataset' directory already existed. Moving forward\n"
     ]
    }
   ],
   "source": [
    "# Download Iris dataset and save it as csv\n",
    "url = \"https://archive.ics.uci.edu/ml/machine-learning-databases/iris/iris.data\"\n",
    "raw_data = urllib.urlopen(url)\n",
    "try:\n",
    "    os.mkdir(\"code/dataset/\")\n",
    "except Exception as e:\n",
    "    print(\" 'dataset' directory already existed. Moving forward\")\n",
    "# Save data as csv\n",
    "with open('code/dataset/Iris.csv', 'wb') as file:\n",
    "    file.write(raw_data.read())"
   ]
  },
  {
   "cell_type": "markdown",
   "id": "82a89180-9e0c-486b-99f9-b948635cf5db",
   "metadata": {},
   "source": [
    "Split data set into train and test sets"
   ]
  },
  {
   "cell_type": "code",
   "execution_count": 11,
   "id": "e4354322-9286-432c-99d1-188a7306dafd",
   "metadata": {},
   "outputs": [],
   "source": [
    "# Load data\n",
    "data = pd.read_csv('code/dataset/Iris.csv', header=None)\n",
    "# Separating the independent variables from dependent variables\n",
    "X = data.iloc[:, 0:4].values\n",
    "y = data.iloc[:, -1].values\n",
    "x_train, x_test, y_train, y_test = train_test_split(X, y, test_size=0.30)"
   ]
  },
  {
   "cell_type": "markdown",
   "id": "b1884acc-a163-4628-a452-1ff0d54ee1c1",
   "metadata": {},
   "source": [
    "Train the SVM classifier"
   ]
  },
  {
   "cell_type": "code",
   "execution_count": 12,
   "id": "548cfbe8-b3b1-4f79-bd95-90f0717e8a0a",
   "metadata": {},
   "outputs": [
    {
     "name": "stdout",
     "output_type": "stream",
     "text": [
      "Train started.\n",
      "Train finished.\n",
      "Model saved as model.joblib\n"
     ]
    }
   ],
   "source": [
    "# Train a classifier\n",
    "print(\"Train started.\")\n",
    "model = SVC()\n",
    "model.fit(x_train, y_train)\n",
    "print(\"Train finished.\")\n",
    "# Save the model\n",
    "dump(model, 'code/model.joblib')\n",
    "print(\"Model saved as model.joblib\")"
   ]
  },
  {
   "cell_type": "markdown",
   "id": "8da10283-70b7-42c5-b5ac-15feaed3b5e5",
   "metadata": {},
   "source": [
    "Split data set into train and test sets"
   ]
  },
  {
   "cell_type": "markdown",
   "id": "4213ef90",
   "metadata": {
    "tags": []
   },
   "source": [
    "<a name='3'></a>\n",
    "## 3 - Custom image building and pushing to ECR"
   ]
  },
  {
   "cell_type": "code",
   "execution_count": 13,
   "id": "df9d8b42",
   "metadata": {
    "tags": []
   },
   "outputs": [
    {
     "name": "stdout",
     "output_type": "stream",
     "text": [
      "Image name whylabs-sagemaker\n",
      "Profile name default\n",
      "{\n",
      "    \"repositories\": [\n",
      "        {\n",
      "            \"repositoryArn\": \"arn:aws:ecr:us-east-1:377983720232:repository/whylabs-sagemaker\",\n",
      "            \"registryId\": \"377983720232\",\n",
      "            \"repositoryName\": \"whylabs-sagemaker\",\n",
      "            \"repositoryUri\": \"377983720232.dkr.ecr.us-east-1.amazonaws.com/whylabs-sagemaker\",\n",
      "            \"createdAt\": \"2021-09-08T17:32:14-05:00\",\n",
      "            \"imageTagMutability\": \"MUTABLE\",\n",
      "            \"imageScanningConfiguration\": {\n",
      "                \"scanOnPush\": false\n",
      "            },\n",
      "            \"encryptionConfiguration\": {\n",
      "                \"encryptionType\": \"AES256\"\n",
      "            }\n",
      "        }\n",
      "    ]\n",
      "}\n",
      "Login Succeeded\n"
     ]
    },
    {
     "name": "stderr",
     "output_type": "stream",
     "text": [
      "#1 [internal] load build definition from Dockerfile\n",
      "#1 sha256:1d16191eb0edc2a4ae18df11b0c851eedec9e0344d141dee636dba0535e95c11\n",
      "#1 transferring dockerfile: 37B 0.0s done\n",
      "#1 DONE 0.0s\n",
      "\n",
      "#2 [internal] load .dockerignore\n",
      "#2 sha256:90845661462f7aaba624dd9d89b221f22e446fb81e5b005fdaa8c7f1e21862f0\n",
      "#2 transferring context: 35B done\n",
      "#2 DONE 0.0s\n",
      "\n",
      "#3 [internal] load metadata for docker.io/library/ubuntu:18.04\n",
      "#3 sha256:ae46bbb1b755529d0da663ca0256a22acd7c9fe21844946c149800baa67c4e4b\n",
      "#3 DONE 0.6s\n",
      "\n",
      "#4 [ 1/11] FROM docker.io/library/ubuntu:18.04@sha256:9bc830af2bef73276515a29aa896eedfa7bdf4bdbc5c1063b4c457a4bbb8cd79\n",
      "#4 sha256:d1750e31869fe5a60e2fad31896f5d8b06a6c26d3a20b7f5836401e641279689\n",
      "#4 DONE 0.0s\n",
      "\n",
      "#7 [internal] load build context\n",
      "#7 sha256:d7bf9fc60478e826a0a0597dae2b9590d24aa052cdce1d8aacabb0bdbe1a4ad7\n",
      "#7 transferring context: 10.22kB 0.0s done\n",
      "#7 DONE 0.0s\n",
      "\n",
      "#10 [ 6/11] RUN mkdir -p /opt/ml/models\n",
      "#10 sha256:fae6a7def4bb4bcb0ebe5b2b2dcd6e753fc7906fd8eae35ef7ac9fec9302bbcd\n",
      "#10 CACHED\n",
      "\n",
      "#5 [ 2/11] RUN apt-get update &&     apt-get -y upgrade &&     apt-get -y install --no-install-recommends         build-essential         curl         git         jq         libatlas-base-dev         python         python3-pip         nginx         openjdk-8-jdk-headless         unzip         wget         ca-certificates         libssl-dev libffi-dev         python3-setuptools         python3-dev     && rm -rf /var/lib/apt/lists/*\n",
      "#5 sha256:0ab5272c27e25ac9dc37c8aa604492357877b43b8f589cdc16f7f5a416ddcbe2\n",
      "#5 CACHED\n",
      "\n",
      "#6 [ 3/11] RUN pip3 install pip --upgrade\n",
      "#6 sha256:dd11d590a066a1d73ec9fba151e0baa7d733e7e0938a71ba7a2ff9b6b2af239f\n",
      "#6 CACHED\n",
      "\n",
      "#9 [ 5/11] RUN pip3 install -r /requirements.txt &&     rm /requirements.txt\n",
      "#9 sha256:f91b385c7b1823f1f4fd7abe7f64d38e55426eca8f7d34c6a3cf7e68a9a45835\n",
      "#9 CACHED\n",
      "\n",
      "#8 [ 4/11] COPY requirements.txt /requirements.txt\n",
      "#8 sha256:8403a697d4a3e4f5d199b55a0e916ae6c0c6a992c06bec0b8cd87091f049f652\n",
      "#8 CACHED\n",
      "\n",
      "#12 [ 8/11] RUN ln -sf /dev/stdout /var/log/nginx/access.log\n",
      "#12 sha256:9eab155cd4486482d1032a1ef18966082b86abf5dd25091ed1219c49091b0f37\n",
      "#12 CACHED\n",
      "\n",
      "#11 [ 7/11] RUN chmod +rwx /opt/ml/models\n",
      "#11 sha256:afb1047d9ce29b326bcc1c0d04b37748e7df7f52c610e9b407350d065736cd79\n",
      "#11 CACHED\n",
      "\n",
      "#13 [ 9/11] RUN ln -sf /dev/stderr /var/log/nginx/error.log\n",
      "#13 sha256:fddd8b428b7111fe21cd03d0d2e6c78228c81e364f6489fc623a5f8543ca87d5\n",
      "#13 CACHED\n",
      "\n",
      "#14 [10/11] COPY code /opt/program\n",
      "#14 sha256:4a197f866cfa58b00f628509bd04fc1c2079b8e70cf561430453abe6e28e005a\n",
      "#14 DONE 0.0s\n",
      "\n",
      "#15 [11/11] WORKDIR /opt/program\n",
      "#15 sha256:044fff5c9d2babaa25dbfcfaf2b64162051a34bc7ae3b8ec8021496a7e730017\n",
      "#15 DONE 0.0s\n",
      "\n",
      "#16 exporting to image\n",
      "#16 sha256:e8c613e07b0b7ff33893b694f7759a10d42e180f2b4dc349fb57dc6b71dcab00\n",
      "#16 exporting layers 0.0s done\n",
      "#16 writing image sha256:e65d8b8fb9d1f6cc2fd1251a5292a40a778978bd9167ea26ccf66c6a7f116641 done\n",
      "#16 naming to docker.io/library/whylabs-sagemaker done\n",
      "#16 DONE 0.0s\n"
     ]
    },
    {
     "name": "stdout",
     "output_type": "stream",
     "text": [
      "The push refers to repository [377983720232.dkr.ecr.us-east-1.amazonaws.com/whylabs-sagemaker]\n",
      "5f70bf18a086: Preparing\n",
      "2705541a770f: Preparing\n",
      "0db6bc60cf67: Preparing\n",
      "66d55ab066d7: Preparing\n",
      "94df9b81d20b: Preparing\n",
      "1d32553c20b9: Preparing\n",
      "87953760e835: Preparing\n",
      "42fafac3315e: Preparing\n",
      "d20859943999: Preparing\n",
      "cb8615e15e41: Preparing\n",
      "6babb56be259: Preparing\n",
      "42fafac3315e: Waiting\n",
      "cb8615e15e41: Waiting\n",
      "d20859943999: Waiting\n",
      "1d32553c20b9: Waiting\n",
      "6babb56be259: Waiting\n",
      "87953760e835: Waiting\n",
      "0db6bc60cf67: Layer already exists\n",
      "66d55ab066d7: Layer already exists\n",
      "5f70bf18a086: Layer already exists\n",
      "94df9b81d20b: Layer already exists\n",
      "87953760e835: Layer already exists\n",
      "1d32553c20b9: Layer already exists\n",
      "42fafac3315e: Layer already exists\n",
      "d20859943999: Layer already exists\n",
      "cb8615e15e41: Layer already exists\n",
      "6babb56be259: Layer already exists\n",
      "2705541a770f: Pushed\n",
      "latest: digest: sha256:89468379b705a94b5486f987a3b544f59ee9779daba20a6ccbbd50f5cd8a490a size: 2615\n"
     ]
    },
    {
     "data": {
      "text/plain": [
       "0"
      ]
     },
     "execution_count": 13,
     "metadata": {},
     "output_type": "execute_result"
    }
   ],
   "source": [
    "os.system(f\"./build_push.sh {DOCKER_IMAGE_NAME} {AWS_PROFILE_NAME}\")"
   ]
  },
  {
   "cell_type": "markdown",
   "id": "1257c20c",
   "metadata": {
    "tags": []
   },
   "source": [
    "<a name='4'></a>\n",
    "## 4 - Create SageMaker Endpoint"
   ]
  },
  {
   "cell_type": "markdown",
   "id": "ee265032",
   "metadata": {},
   "source": [
    "The steps to deploy a SageMaker model are:\n",
    "\n",
    "1. Create a model\n",
    "2. Create an endpoint configuration\n",
    "3. Create a SageMaker endpoint"
   ]
  },
  {
   "cell_type": "markdown",
   "id": "d962b697",
   "metadata": {
    "tags": []
   },
   "source": [
    "<a name='a'></a>\n",
    "### a. Model Creation"
   ]
  },
  {
   "cell_type": "markdown",
   "id": "70c7197f-e9c1-4fe6-889c-0afb78e0431e",
   "metadata": {},
   "source": [
    "**Replace the following Role ARN accordingly.**"
   ]
  },
  {
   "cell_type": "code",
   "execution_count": 14,
   "id": "3ae36031-eb9b-47e7-b937-a292119e910a",
   "metadata": {},
   "outputs": [],
   "source": [
    "EXECUTION_ROLE_ARN = f\"arn:aws:iam::{AWS_ACCOUNT_ID}:role/SageMakerExecution\""
   ]
  },
  {
   "cell_type": "code",
   "execution_count": 15,
   "id": "d574c0d3",
   "metadata": {},
   "outputs": [],
   "source": [
    "ECR_IMAGE_URI = f\"{AWS_ACCOUNT_ID}.dkr.ecr.{AWS_REGION_NAME}.amazonaws.com/{DOCKER_IMAGE_NAME}:latest\"\n",
    "ENDPOINT_NAME = \"whylabs-sagemaker\"\n",
    "INSTANCE_TYPE = \"ml.m4.xlarge\""
   ]
  },
  {
   "cell_type": "markdown",
   "id": "892bac1b",
   "metadata": {},
   "source": [
    "Load variables important for __WhyLabs configuration__ defined inside __.env file__ as dictionary. This values will be settled once the docker container is running within SageMaker."
   ]
  },
  {
   "cell_type": "code",
   "execution_count": 16,
   "id": "ce597607",
   "metadata": {},
   "outputs": [],
   "source": [
    "# Load .env file as dictionary\n",
    "environment = dotenv_values(\"code/.env\")"
   ]
  },
  {
   "cell_type": "code",
   "execution_count": 17,
   "id": "5ffb2d35",
   "metadata": {},
   "outputs": [],
   "source": [
    "# ECR image to be used\n",
    "PRIMARY_CONTAINER = {\n",
    "    'Image': ECR_IMAGE_URI, \n",
    "    \"Environment\": environment,\n",
    "}"
   ]
  },
  {
   "cell_type": "code",
   "execution_count": 18,
   "id": "f185307a",
   "metadata": {},
   "outputs": [
    {
     "name": "stdout",
     "output_type": "stream",
     "text": [
      "SageMaker model created.\n"
     ]
    }
   ],
   "source": [
    "try:\n",
    "    # Create sagemaker model\n",
    "    r = sm.create_model(\n",
    "        ModelName=ENDPOINT_NAME,\n",
    "        ExecutionRoleArn=EXECUTION_ROLE_ARN,\n",
    "        PrimaryContainer=PRIMARY_CONTAINER,\n",
    "    )\n",
    "    print(\"SageMaker model created.\")\n",
    "except Exception as e:\n",
    "    print(e.response[\"Error\"])"
   ]
  },
  {
   "cell_type": "markdown",
   "id": "93ce7e7b",
   "metadata": {},
   "source": [
    "<a name='b'></a>\n",
    "### b. Endpoint Config creation"
   ]
  },
  {
   "cell_type": "code",
   "execution_count": 19,
   "id": "7f083083",
   "metadata": {},
   "outputs": [],
   "source": [
    "ENDPOINT_CONFIG_NAME = ENDPOINT_NAME + '-config'"
   ]
  },
  {
   "cell_type": "code",
   "execution_count": 20,
   "id": "8e850b3f",
   "metadata": {},
   "outputs": [
    {
     "name": "stdout",
     "output_type": "stream",
     "text": [
      "Endpoint configuration created.\n"
     ]
    }
   ],
   "source": [
    "try:\n",
    "    # create endpoint configuration\n",
    "    _ = sm.create_endpoint_config(\n",
    "        EndpointConfigName=ENDPOINT_CONFIG_NAME,\n",
    "        ProductionVariants=[\n",
    "            {\n",
    "                'InstanceType': INSTANCE_TYPE,\n",
    "                'InitialVariantWeight': 1,\n",
    "                'InitialInstanceCount': 1,\n",
    "                'ModelName': ENDPOINT_NAME,\n",
    "                'VariantName': 'AllTraffic'\n",
    "            }\n",
    "        ]\n",
    "    )\n",
    "    print(\"Endpoint configuration created.\")\n",
    "except Exception as e:\n",
    "    print(e.response[\"Error\"])"
   ]
  },
  {
   "cell_type": "markdown",
   "id": "66497b8a",
   "metadata": {},
   "source": [
    "<a name='c'></a>\n",
    "### c. Endpoint creation"
   ]
  },
  {
   "cell_type": "code",
   "execution_count": 21,
   "id": "86c04791",
   "metadata": {},
   "outputs": [
    {
     "name": "stdout",
     "output_type": "stream",
     "text": [
      "Completed whylabs-sagemaker model endpoint deployment !!!\n"
     ]
    }
   ],
   "source": [
    "try:\n",
    "    # create endpoint\n",
    "    r = sm.create_endpoint(\n",
    "        EndpointName=ENDPOINT_NAME,\n",
    "        EndpointConfigName=ENDPOINT_CONFIG_NAME\n",
    "    )\n",
    "    print(f\"Completed {ENDPOINT_NAME} model endpoint deployment !!!\")\n",
    "except Exception as e:\n",
    "    print(e.response[\"Error\"])"
   ]
  },
  {
   "cell_type": "markdown",
   "id": "2050299b",
   "metadata": {
    "tags": []
   },
   "source": [
    "<a name='5'></a>\n",
    "## 5 - Test Endpoint "
   ]
  },
  {
   "cell_type": "code",
   "execution_count": 22,
   "id": "d631e203",
   "metadata": {},
   "outputs": [],
   "source": [
    "# Payload for /invocations endpoint\n",
    "payload = json.dumps({\n",
    "    \"sepal_length_cm\": 5.1,\n",
    "    \"sepal_width_cm\": 3.5,\n",
    "    \"petal_length_cm\": 1.4,\n",
    "    \"petal_width_cm\": 0.2\n",
    "})"
   ]
  },
  {
   "cell_type": "markdown",
   "id": "5a375d07-1212-4b4e-a56c-d024248d5c61",
   "metadata": {},
   "source": [
    "You have to wait to the model to be in \"InService\" status to test it."
   ]
  },
  {
   "cell_type": "code",
   "execution_count": 24,
   "id": "4ee9b302",
   "metadata": {},
   "outputs": [
    {
     "name": "stdout",
     "output_type": "stream",
     "text": [
      "{'data': {'class': 'Iris-setosa'}, 'message': 'Success'}\n"
     ]
    }
   ],
   "source": [
    "# Invoke the endpoint using\n",
    "sg = session.client(\"runtime.sagemaker\", region_name=AWS_REGION_NAME)\n",
    "status = is_endpoint_running(ENDPOINT_NAME, AWS_PROFILE_NAME, AWS_REGION_NAME)\n",
    "# Check if model was created successfully\n",
    "if status == \"InService\":\n",
    "    response = sg.invoke_endpoint(\n",
    "        EndpointName=ENDPOINT_NAME,\n",
    "        Body=payload,\n",
    "        ContentType='application/json',\n",
    "    )\n",
    "    # Decode the response\n",
    "    print(json.loads(response[\"Body\"].read().decode(\"utf-8\")))\n",
    "else:\n",
    "    print(f\"Endpoint status is {status}.\")"
   ]
  },
  {
   "cell_type": "markdown",
   "id": "ce6eb634-1480-4494-8fdb-83dd3095da31",
   "metadata": {},
   "source": [
    "Response should look like this:\n",
    "```bash\n",
    "{'data': {'class': 'Iris-setosa'}, 'message': 'Success'}\n",
    "```"
   ]
  },
  {
   "cell_type": "markdown",
   "id": "807404f5",
   "metadata": {
    "tags": []
   },
   "source": [
    "<a name='6'></a>\n",
    "## 6 - Delete AWS resources"
   ]
  },
  {
   "cell_type": "code",
   "execution_count": 25,
   "id": "73ca1eea",
   "metadata": {},
   "outputs": [],
   "source": [
    "status = is_endpoint_running(ENDPOINT_NAME, AWS_PROFILE_NAME, AWS_REGION_NAME)"
   ]
  },
  {
   "cell_type": "code",
   "execution_count": 26,
   "id": "acdfd26b",
   "metadata": {},
   "outputs": [
    {
     "name": "stdout",
     "output_type": "stream",
     "text": [
      "Model whylabs-sagemaker deleted.\n",
      "Endpoint configuration whylabs-sagemaker-config deleted.\n",
      "Endpoint whylabs-sagemaker deleted.\n"
     ]
    }
   ],
   "source": [
    "if status == \"InService\":\n",
    "    delete_model(sm, ENDPOINT_NAME)\n",
    "    delete_endpoint_config(sm, ENDPOINT_CONFIG_NAME)\n",
    "    delete_endpoint(sm, ENDPOINT_NAME)"
   ]
  }
 ],
 "metadata": {
  "kernelspec": {
   "display_name": "Python 3 (ipykernel)",
   "language": "python",
   "name": "python3"
  },
  "language_info": {
   "codemirror_mode": {
    "name": "ipython",
    "version": 3
   },
   "file_extension": ".py",
   "mimetype": "text/x-python",
   "name": "python",
   "nbconvert_exporter": "python",
   "pygments_lexer": "ipython3",
   "version": "3.7.11"
  }
 },
 "nbformat": 4,
 "nbformat_minor": 5
}
