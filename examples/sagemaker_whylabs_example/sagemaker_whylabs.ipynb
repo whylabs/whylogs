{
 "cells": [
  {
   "cell_type": "markdown",
   "id": "f3400e53",
   "metadata": {},
   "source": [
    "# Amazon SageMaker + WhyLabs"
   ]
  },
  {
   "cell_type": "markdown",
   "id": "f660747c-cc4e-4c4a-b503-652b956979ae",
   "metadata": {},
   "source": [
    "This example shows how to deploy a SageMaker endpoint with WhyLabs integration."
   ]
  },
  {
   "cell_type": "code",
   "execution_count": null,
   "id": "981d78b1-edf4-4d39-aaec-dd15b5cca686",
   "metadata": {
    "tags": []
   },
   "outputs": [],
   "source": [
    "!pip install boto3==1.18.39 python-dotenv==0.19.0 scikit-learn==0.24.2 pandas==1.3.2"
   ]
  },
  {
   "cell_type": "code",
   "execution_count": null,
   "id": "b47f4fc6",
   "metadata": {},
   "outputs": [],
   "source": [
    "import os\n",
    "import json\n",
    "import random\n",
    "import urllib.request as urllib\n",
    "from joblib import dump\n",
    "import pandas as pd\n",
    "from sklearn.svm import SVC\n",
    "from sklearn.model_selection import train_test_split\n",
    "import boto3\n",
    "from dotenv import dotenv_values\n",
    "from utils import delete_model, delete_endpoint_config, delete_endpoint, is_endpoint_running"
   ]
  },
  {
   "cell_type": "markdown",
   "id": "e87c0b0c-da72-47bd-97d3-7df27fcc8892",
   "metadata": {
    "jp-MarkdownHeadingCollapsed": true,
    "tags": []
   },
   "source": [
    "## Table of Contents\n",
    "- [1 - AWS Configuration](#1)\n",
    "- [2 - Train a Model](#2)\n",
    "- [3 - Custom image building and pushing to ECR](#3)\n",
    "- [4 - Create SageMaker Endpoint](#4)\n",
    "    - [a. Model Creation](#a)\n",
    "    - [b. Endpoint Config Creation](#b)\n",
    "    - [c. Endpoint Creation](#c)\n",
    "- [5 - Test Endpoint](#5)\n",
    "- [6 - Delete AWS resources](#6)"
   ]
  },
  {
   "cell_type": "markdown",
   "id": "50724df5",
   "metadata": {
    "tags": []
   },
   "source": [
    "<a name='1'></a>\n",
    "## 1 - AWS configuration"
   ]
  },
  {
   "cell_type": "code",
   "execution_count": null,
   "id": "4081508c",
   "metadata": {},
   "outputs": [],
   "source": [
    "AWS_PROFILE_NAME = \"default\"\n",
    "session = boto3.session.Session(profile_name=AWS_PROFILE_NAME)\n",
    "AWS_REGION_NAME = session.region_name"
   ]
  },
  {
   "cell_type": "code",
   "execution_count": null,
   "id": "d5e0d9e9",
   "metadata": {},
   "outputs": [],
   "source": [
    "sts = session.client(\"sts\")\n",
    "sm = session.client('sagemaker', region_name=AWS_REGION_NAME)\n",
    "AWS_ACCOUNT_ID = sts.get_caller_identity().get(\"Account\")\n",
    "DOCKER_IMAGE_NAME = \"whylabs-sagemaker\""
   ]
  },
  {
   "cell_type": "markdown",
   "id": "8f1fa562",
   "metadata": {
    "tags": []
   },
   "source": [
    "<a name='2'></a>\n",
    "## 2 - Train a Model"
   ]
  },
  {
   "cell_type": "markdown",
   "id": "3968df26-9a67-431b-b088-4df371597cc7",
   "metadata": {
    "tags": []
   },
   "source": [
    "Download Iris Species dataset:"
   ]
  },
  {
   "cell_type": "code",
   "execution_count": null,
   "id": "1cc733fb-2568-4587-9ab9-bf55e9269c32",
   "metadata": {},
   "outputs": [],
   "source": [
    "# Download Iris dataset and save it as csv\n",
    "url = \"https://archive.ics.uci.edu/ml/machine-learning-databases/iris/iris.data\"\n",
    "raw_data = urllib.urlopen(url)\n",
    "try:\n",
    "    os.mkdir(\"code/dataset/\")\n",
    "    # Save data as csv\n",
    "    with open('code/dataset/Iris.csv', 'wb') as file:\n",
    "        file.write(raw_data.read())\n",
    "        print(\"Dataset downloaded successfully!\")    \n",
    "except Exception as e:\n",
    "    print(\" 'dataset' directory already existed. Moving forward\")"
   ]
  },
  {
   "cell_type": "markdown",
   "id": "82a89180-9e0c-486b-99f9-b948635cf5db",
   "metadata": {},
   "source": [
    "Split data set into train and test sets"
   ]
  },
  {
   "cell_type": "code",
   "execution_count": null,
   "id": "e4354322-9286-432c-99d1-188a7306dafd",
   "metadata": {},
   "outputs": [],
   "source": [
    "# Load data\n",
    "data = pd.read_csv('code/dataset/Iris.csv', header=None)\n",
    "# Separating the independent variables from dependent variables\n",
    "X = data.iloc[:, 0:4].values\n",
    "y = data.iloc[:, -1].values\n",
    "x_train, x_test, y_train, y_test = train_test_split(X, y, test_size=0.30)"
   ]
  },
  {
   "cell_type": "markdown",
   "id": "b1884acc-a163-4628-a452-1ff0d54ee1c1",
   "metadata": {},
   "source": [
    "Train the SVM classifier"
   ]
  },
  {
   "cell_type": "code",
   "execution_count": null,
   "id": "548cfbe8-b3b1-4f79-bd95-90f0717e8a0a",
   "metadata": {},
   "outputs": [],
   "source": [
    "# Train a classifier\n",
    "print(\"Train started.\")\n",
    "model = SVC()\n",
    "model.fit(x_train, y_train)\n",
    "print(\"Train finished.\")\n",
    "# Save the model\n",
    "dump(model, 'code/model.joblib')\n",
    "print(\"Model saved as model.joblib\")"
   ]
  },
  {
   "cell_type": "markdown",
   "id": "8da10283-70b7-42c5-b5ac-15feaed3b5e5",
   "metadata": {},
   "source": [
    "Split data set into train and test sets"
   ]
  },
  {
   "cell_type": "markdown",
   "id": "4213ef90",
   "metadata": {
    "tags": []
   },
   "source": [
    "<a name='3'></a>\n",
    "## 3 - Custom image building and pushing to ECR"
   ]
  },
  {
   "cell_type": "code",
   "execution_count": null,
   "id": "df9d8b42",
   "metadata": {
    "tags": []
   },
   "outputs": [],
   "source": [
    "os.system(f\"./build_push.sh {DOCKER_IMAGE_NAME} {AWS_PROFILE_NAME}\")"
   ]
  },
  {
   "cell_type": "markdown",
   "id": "1257c20c",
   "metadata": {
    "tags": []
   },
   "source": [
    "<a name='4'></a>\n",
    "## 4 - Create SageMaker Endpoint"
   ]
  },
  {
   "cell_type": "markdown",
   "id": "ee265032",
   "metadata": {},
   "source": [
    "The steps to deploy a SageMaker model are:\n",
    "\n",
    "1. Create a model\n",
    "2. Create an endpoint configuration\n",
    "3. Create a SageMaker endpoint"
   ]
  },
  {
   "cell_type": "markdown",
   "id": "d962b697",
   "metadata": {
    "tags": []
   },
   "source": [
    "<a name='a'></a>\n",
    "### a. Model Creation"
   ]
  },
  {
   "cell_type": "markdown",
   "id": "70c7197f-e9c1-4fe6-889c-0afb78e0431e",
   "metadata": {},
   "source": [
    "**Replace the following Role ARN accordingly.**"
   ]
  },
  {
   "cell_type": "code",
   "execution_count": null,
   "id": "3ae36031-eb9b-47e7-b937-a292119e910a",
   "metadata": {},
   "outputs": [],
   "source": [
    "EXECUTION_ROLE_ARN = f\"arn:aws:iam::{AWS_ACCOUNT_ID}:role/SageMakerExecution\""
   ]
  },
  {
   "cell_type": "code",
   "execution_count": null,
   "id": "d574c0d3",
   "metadata": {},
   "outputs": [],
   "source": [
    "ECR_IMAGE_URI = f\"{AWS_ACCOUNT_ID}.dkr.ecr.{AWS_REGION_NAME}.amazonaws.com/{DOCKER_IMAGE_NAME}:latest\"\n",
    "ENDPOINT_NAME = \"whylabs-sagemaker\"\n",
    "INSTANCE_TYPE = \"ml.m4.xlarge\""
   ]
  },
  {
   "cell_type": "markdown",
   "id": "892bac1b",
   "metadata": {},
   "source": [
    "Load variables important for __WhyLabs configuration__ defined inside __.env file__ as dictionary. This values will be settled once the docker container is running within SageMaker."
   ]
  },
  {
   "cell_type": "code",
   "execution_count": null,
   "id": "ce597607",
   "metadata": {},
   "outputs": [],
   "source": [
    "# Load .env file as dictionary\n",
    "environment = dotenv_values(\"code/.env\")"
   ]
  },
  {
   "cell_type": "code",
   "execution_count": null,
   "id": "5ffb2d35",
   "metadata": {},
   "outputs": [],
   "source": [
    "# ECR image to be used\n",
    "PRIMARY_CONTAINER = {\n",
    "    'Image': ECR_IMAGE_URI, \n",
    "    \"Environment\": environment,\n",
    "}"
   ]
  },
  {
   "cell_type": "code",
   "execution_count": null,
   "id": "f185307a",
   "metadata": {},
   "outputs": [],
   "source": [
    "try:\n",
    "    # Create sagemaker model\n",
    "    r = sm.create_model(\n",
    "        ModelName=ENDPOINT_NAME,\n",
    "        ExecutionRoleArn=EXECUTION_ROLE_ARN,\n",
    "        PrimaryContainer=PRIMARY_CONTAINER,\n",
    "    )\n",
    "    print(\"SageMaker model created.\")\n",
    "except Exception as e:\n",
    "    print(e.response[\"Error\"])"
   ]
  },
  {
   "cell_type": "markdown",
   "id": "93ce7e7b",
   "metadata": {},
   "source": [
    "<a name='b'></a>\n",
    "### b. Endpoint Config creation"
   ]
  },
  {
   "cell_type": "code",
   "execution_count": null,
   "id": "7f083083",
   "metadata": {},
   "outputs": [],
   "source": [
    "ENDPOINT_CONFIG_NAME = ENDPOINT_NAME + '-config'"
   ]
  },
  {
   "cell_type": "code",
   "execution_count": null,
   "id": "8e850b3f",
   "metadata": {},
   "outputs": [],
   "source": [
    "try:\n",
    "    # create endpoint configuration\n",
    "    _ = sm.create_endpoint_config(\n",
    "        EndpointConfigName=ENDPOINT_CONFIG_NAME,\n",
    "        ProductionVariants=[\n",
    "            {\n",
    "                'InstanceType': INSTANCE_TYPE,\n",
    "                'InitialVariantWeight': 1,\n",
    "                'InitialInstanceCount': 1,\n",
    "                'ModelName': ENDPOINT_NAME,\n",
    "                'VariantName': 'AllTraffic'\n",
    "            }\n",
    "        ]\n",
    "    )\n",
    "    print(\"Endpoint configuration created.\")\n",
    "except Exception as e:\n",
    "    print(e.response[\"Error\"])"
   ]
  },
  {
   "cell_type": "markdown",
   "id": "66497b8a",
   "metadata": {},
   "source": [
    "<a name='c'></a>\n",
    "### c. Endpoint creation"
   ]
  },
  {
   "cell_type": "code",
   "execution_count": null,
   "id": "86c04791",
   "metadata": {},
   "outputs": [],
   "source": [
    "try:\n",
    "    # create endpoint\n",
    "    r = sm.create_endpoint(\n",
    "        EndpointName=ENDPOINT_NAME,\n",
    "        EndpointConfigName=ENDPOINT_CONFIG_NAME\n",
    "    )\n",
    "    print(f\"Completed {ENDPOINT_NAME} model endpoint deployment !!!\")\n",
    "except Exception as e:\n",
    "    print(e.response[\"Error\"])"
   ]
  },
  {
   "cell_type": "markdown",
   "id": "2050299b",
   "metadata": {
    "tags": []
   },
   "source": [
    "<a name='5'></a>\n",
    "## 5 - Test Endpoint "
   ]
  },
  {
   "cell_type": "markdown",
   "id": "5a375d07-1212-4b4e-a56c-d024248d5c61",
   "metadata": {},
   "source": [
    "You have to wait to the model to be in \"InService\" status to test it."
   ]
  },
  {
   "cell_type": "code",
   "execution_count": null,
   "id": "3a7f10d8-090a-4c91-934e-959a2386a044",
   "metadata": {},
   "outputs": [],
   "source": [
    "labels = [\"sepal_length_cm\", \"sepal_width_cm\", \"petal_length_cm\", \"petal_width_cm\"]"
   ]
  },
  {
   "cell_type": "code",
   "execution_count": null,
   "id": "4ee9b302",
   "metadata": {},
   "outputs": [],
   "source": [
    "# Invoke the endpoint using\n",
    "sg = session.client(\"runtime.sagemaker\", region_name=AWS_REGION_NAME)\n",
    "status = is_endpoint_running(ENDPOINT_NAME, AWS_PROFILE_NAME, AWS_REGION_NAME)\n",
    "# Check if model was created successfully\n",
    "if status == \"InService\":\n",
    "    while True:\n",
    "        # Build a payload with random values\n",
    "        payload = dict(zip(labels, random.choice(x_test)))\n",
    "        payload = json.dumps(payload)\n",
    "        # Send payload to sagemaker endpoint\n",
    "        response = sg.invoke_endpoint(\n",
    "            EndpointName=ENDPOINT_NAME,\n",
    "            Body=payload,\n",
    "            ContentType='application/json',\n",
    "        )\n",
    "        # Decode the response\n",
    "        print(json.loads(response[\"Body\"].read().decode(\"utf-8\")))\n",
    "else:\n",
    "    print(f\"Endpoint status is {status}.\")"
   ]
  },
  {
   "cell_type": "markdown",
   "id": "ce6eb634-1480-4494-8fdb-83dd3095da31",
   "metadata": {},
   "source": [
    "Response should look like this:\n",
    "```bash\n",
    "{'data': {'class': 'Iris-setosa'}, 'message': 'Success'}\n",
    "```"
   ]
  },
  {
   "cell_type": "markdown",
   "id": "807404f5",
   "metadata": {
    "tags": []
   },
   "source": [
    "<a name='6'></a>\n",
    "## 6 - Delete AWS resources"
   ]
  },
  {
   "cell_type": "code",
   "execution_count": null,
   "id": "73ca1eea",
   "metadata": {},
   "outputs": [],
   "source": [
    "status = is_endpoint_running(ENDPOINT_NAME, AWS_PROFILE_NAME, AWS_REGION_NAME)\n",
    "status"
   ]
  },
  {
   "cell_type": "code",
   "execution_count": null,
   "id": "acdfd26b",
   "metadata": {},
   "outputs": [],
   "source": [
    "if status in [\"InService\", \"Failed\"]:\n",
    "    delete_model(sm, ENDPOINT_NAME)\n",
    "    delete_endpoint_config(sm, ENDPOINT_CONFIG_NAME)\n",
    "    delete_endpoint(sm, ENDPOINT_NAME)"
   ]
  },
  {
   "cell_type": "code",
   "execution_count": null,
   "id": "179daa82-b920-44c2-907e-1bc67157ba7f",
   "metadata": {},
   "outputs": [],
   "source": []
  }
 ],
 "metadata": {
  "kernelspec": {
   "display_name": "Python 3 (ipykernel)",
   "language": "python",
   "name": "python3"
  },
  "language_info": {
   "codemirror_mode": {
    "name": "ipython",
    "version": 3
   },
   "file_extension": ".py",
   "mimetype": "text/x-python",
   "name": "python",
   "nbconvert_exporter": "python",
   "pygments_lexer": "ipython3",
   "version": "3.7.11"
  }
 },
 "nbformat": 4,
 "nbformat_minor": 5
}
