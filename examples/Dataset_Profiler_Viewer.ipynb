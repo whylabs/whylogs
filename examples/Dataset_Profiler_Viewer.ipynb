{
 "cells": [
  {
   "cell_type": "markdown",
   "id": "fd78a767",
   "metadata": {},
   "source": [
    "# Dataset Profiler Viewer"
   ]
  },
  {
   "cell_type": "markdown",
   "id": "6be3f6e9",
   "metadata": {},
   "source": [
    "Summarize large datasets in a easy to navigate and shareable view."
   ]
  },
  {
   "cell_type": "code",
   "execution_count": 1,
   "id": "1f0ab34a",
   "metadata": {},
   "outputs": [],
   "source": [
    "import numpy as np\n",
    "import datetime"
   ]
  },
  {
   "cell_type": "code",
   "execution_count": 2,
   "id": "fc04cc42",
   "metadata": {},
   "outputs": [],
   "source": [
    "from whylogs import get_or_create_session\n",
    "from whylogs.core import DatasetProfile\n",
    "from whylogs.viz import profile_viewer"
   ]
  },
  {
   "cell_type": "markdown",
   "id": "0bb295e1",
   "metadata": {},
   "source": [
    "## 🥬 Fresh  Data for Logging"
   ]
  },
  {
   "cell_type": "code",
   "execution_count": 3,
   "id": "1232b2a8",
   "metadata": {},
   "outputs": [
    {
     "name": "stdout",
     "output_type": "stream",
     "text": [
      "Requirement already satisfied: faker in /home/jamie/.cache/pypoetry/virtualenvs/whylogs-dFpe3D9Y-py3.8/lib/python3.8/site-packages (13.3.4)\n",
      "Requirement already satisfied: python-dateutil>=2.4 in /home/jamie/.cache/pypoetry/virtualenvs/whylogs-dFpe3D9Y-py3.8/lib/python3.8/site-packages (from faker) (2.8.2)\n",
      "Requirement already satisfied: six>=1.5 in /home/jamie/.cache/pypoetry/virtualenvs/whylogs-dFpe3D9Y-py3.8/lib/python3.8/site-packages (from python-dateutil>=2.4->faker) (1.16.0)\n"
     ]
    }
   ],
   "source": [
    "!pip install faker"
   ]
  },
  {
   "cell_type": "code",
   "execution_count": 4,
   "id": "7ebc0b5f",
   "metadata": {},
   "outputs": [],
   "source": [
    "from collections import OrderedDict\n",
    "from faker import Faker\n",
    "\n",
    "locales = OrderedDict([\n",
    "    ('en-US', 1),\n",
    "    ('fr-FR', 2),\n",
    "    ('ja_JP', 2),\n",
    "])\n",
    "fake= Faker(locales)\n",
    "distribution = np.concatenate((np.random.normal(0.1, 0.1, 500), np.random.normal(0.6, 0.2, 500)))"
   ]
  },
  {
   "cell_type": "markdown",
   "id": "9adec772",
   "metadata": {},
   "source": [
    "### 📝 Log it"
   ]
  },
  {
   "cell_type": "code",
   "execution_count": 5,
   "id": "2e018520",
   "metadata": {},
   "outputs": [
    {
     "name": "stdout",
     "output_type": "stream",
     "text": [
      "WARN: Missing config\n"
     ]
    }
   ],
   "source": [
    "session = get_or_create_session()\n",
    "def profile_generator():\n",
    "    with session.logger(\"mytestytest\",dataset_timestamp=datetime.datetime(2021, 6, 2)) as logger:\n",
    "        for _ in range(500):\n",
    "            logger.log({\"uniform_integers\": np.random.randint(0,50)})\n",
    "            logger.log({\"strings\": fake.name()})\n",
    "            logger.log({\"mixture_distribution\": np.random.choice(distribution, 1)[0]})\n",
    "            logger.log({\"nulls\": None})\n",
    "        logger.log({\"moah_data\":1})\n",
    "        logger.log({\"moah_data\":1})\n",
    "        logger.log({\"moah_data\":5})\n",
    "        return logger.profile\n",
    "profile=profile_generator()"
   ]
  },
  {
   "cell_type": "markdown",
   "id": "8e4d51a7",
   "metadata": {},
   "source": [
    "## 👀 open viewer"
   ]
  },
  {
   "cell_type": "markdown",
   "id": "462e6010",
   "metadata": {},
   "source": [
    "By calling `profiler_viewer`, it will generate a self contained html file with a summary of your profiled dataset.\n",
    "You can pass an argument for the specific path, otherwise it will save it in your OS temporary folder."
   ]
  },
  {
   "cell_type": "code",
   "execution_count": 6,
   "id": "e293634d",
   "metadata": {},
   "outputs": [
    {
     "data": {
      "text/plain": [
       "'/tmp/tmpdq9b4myt.html'"
      ]
     },
     "execution_count": 6,
     "metadata": {},
     "output_type": "execute_result"
    }
   ],
   "source": [
    "profile_viewer(profiles=[profile], output_path=None)"
   ]
  },
  {
   "cell_type": "markdown",
   "id": "e9cebe5c",
   "metadata": {},
   "source": [
    "### Logging reference profile"
   ]
  },
  {
   "cell_type": "code",
   "execution_count": 7,
   "id": "d36563e9",
   "metadata": {},
   "outputs": [],
   "source": [
    "reference_profile=profile_generator() "
   ]
  },
  {
   "cell_type": "markdown",
   "id": "56dcaef9",
   "metadata": {},
   "source": [
    "### Add reference profile to viewer and open"
   ]
  },
  {
   "cell_type": "code",
   "execution_count": 9,
   "id": "6a4eb38c",
   "metadata": {},
   "outputs": [],
   "source": [
    "from whylogs.logs import display_logging\n",
    "display_logging(level=\"INFO\")\n",
    "output_path = profile_viewer(profiles=[profile], reference_profiles=[reference_profile])\n"
   ]
  }
 ],
 "metadata": {
  "kernelspec": {
   "display_name": "Python 3",
   "language": "python",
   "name": "python3"
  },
  "language_info": {
   "codemirror_mode": {
    "name": "ipython",
    "version": 3
   },
   "file_extension": ".py",
   "mimetype": "text/x-python",
   "name": "python",
   "nbconvert_exporter": "python",
   "pygments_lexer": "ipython3",
   "version": "3.8.10"
  }
 },
 "nbformat": 4,
 "nbformat_minor": 5
}
