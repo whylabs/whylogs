{
 "cells": [
  {
   "cell_type": "markdown",
   "metadata": {},
   "source": [
    "# Dataset Profiler Viewer"
   ]
  },
  {
   "cell_type": "markdown",
   "metadata": {},
   "source": [
    "Summarize large datasets in a easy to navigate and shareable view."
   ]
  },
  {
   "cell_type": "code",
   "execution_count": null,
   "metadata": {},
   "outputs": [],
   "source": [
    "import numpy as np\n",
    "import datetime"
   ]
  },
  {
   "cell_type": "code",
   "execution_count": 1,
   "metadata": {},
   "outputs": [],
   "source": [
    "from whylogs import get_or_create_session\n",
    "from whylogs.core import DatasetProfile\n",
    "from whylogs.viz import profile_viewer"
   ]
  },
  {
   "cell_type": "markdown",
   "metadata": {},
   "source": [
    "## Fresh Data Logging"
   ]
  },
  {
   "cell_type": "code",
   "execution_count": 2,
   "metadata": {},
   "outputs": [
    {
     "name": "stdout",
     "output_type": "stream",
     "text": [
      "Defaulting to user installation because normal site-packages is not writeable\n",
      "Requirement already satisfied: faker in /Users/leandro/.local/lib/python3.8/site-packages (8.12.0)\n",
      "Requirement already satisfied: text-unidecode==1.3 in /Users/leandro/.local/lib/python3.8/site-packages (from faker) (1.3)\n",
      "Requirement already satisfied: python-dateutil>=2.4 in /Users/leandro/.local/lib/python3.8/site-packages (from faker) (2.8.1)\n",
      "Requirement already satisfied: six>=1.5 in /Users/leandro/miniconda3/lib/python3.8/site-packages (from python-dateutil>=2.4->faker) (1.15.0)\n"
     ]
    }
   ],
   "source": [
    "!pip install faker"
   ]
  },
  {
   "cell_type": "code",
   "execution_count": 12,
   "metadata": {},
   "outputs": [],
   "source": [
    "from collections import OrderedDict\n",
    "from faker import Faker\n",
    "\n",
    "locales = OrderedDict([\n",
    "    ('en-US', 1),\n",
    "    ('fr-FR', 2),\n",
    "    ('ja_JP', 2),\n",
    "])\n",
    "fake= Faker(locales)\n",
    "distribution = np.concatenate((np.random.normal(0.1, 0.1, 500), np.random.normal(0.6, 0.2, 500)))"
   ]
  },
  {
   "cell_type": "markdown",
   "metadata": {},
   "source": [
    "### Log it"
   ]
  },
  {
   "cell_type": "code",
   "execution_count": 21,
   "metadata": {},
   "outputs": [],
   "source": [
    "session = get_or_create_session()\n",
    "with session.logger(\"mytestytest\",dataset_timestamp=datetime.datetime(2021, 6, 2)) as logger:\n",
    "    for _ in range(500):\n",
    "        logger.log({\"uniform_integers\": np.random.randint(0,50)})\n",
    "        logger.log({\"strings\": fake.name()})\n",
    "        logger.log({\"mixture_distribution\": np.random.choice(distribution, 1)[0]})\n",
    "        logger.log({\"nulls\": None})\n",
    "\n",
    "    profile=logger.profile"
   ]
  },
  {
   "cell_type": "markdown",
   "metadata": {},
   "source": [
    "By calling `profiler_viewer`, it will generate a self contained html file with a summary of your profiled dataset.\n",
    "You can pass an argument for the specific path, otherwise it will save it in your OS temporary folder."
   ]
  },
  {
   "cell_type": "code",
   "execution_count": 19,
   "metadata": {},
   "outputs": [
    {
     "data": {
      "text/plain": [
       "'/Users/leandro/Desktop/my_dataset.html'"
      ]
     },
     "execution_count": 19,
     "metadata": {},
     "output_type": "execute_result"
    }
   ],
   "source": [
    "profile_viewer(profiles=[profile])"
   ]
  }
 ],
 "metadata": {
  "kernelspec": {
   "display_name": "whylogs-dev",
   "language": "python",
   "name": "whylogs-dev"
  },
  "language_info": {
   "codemirror_mode": {
    "name": "ipython",
    "version": 3
   },
   "file_extension": ".py",
   "mimetype": "text/x-python",
   "name": "python",
   "nbconvert_exporter": "python",
   "pygments_lexer": "ipython3",
   "version": "3.9.6"
  }
 },
 "nbformat": 4,
 "nbformat_minor": 5
}
