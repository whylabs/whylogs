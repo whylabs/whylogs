{
 "cells": [
  {
   "cell_type": "markdown",
   "id": "9a223b2f",
   "metadata": {},
   "source": [
    "# Automating data quality monitoring - Constraints Distributional Measures"
   ]
  },
  {
   "cell_type": "markdown",
   "id": "dace09ab",
   "metadata": {},
   "source": [
    "Suppose you are training a model to predict whether a loan for a certain member of LendingClub will be accepted or not.\n",
    "\n",
    "Here we have sampled 1000 members' data to illustrate how the constraints can be used to automatically enforce data quality.\n",
    "\n",
    "When training an ML model and deploying it in production, sometimes we notice a significant performance degradation. That can often be a consequence of drift in the data that we used for training the model, and the data that needs to be predicted in some batch while the model runs in production."
   ]
  },
  {
   "cell_type": "markdown",
   "id": "16e4db64",
   "metadata": {},
   "source": [
    "'Distributional Measures Constraints' can be used to make data quality checks in a data pipeline automatically. In some cases it's too expensive to perform manual inspection of incoming data every time, so automated checks save a lot of time and effort in these situations. If some of the defined constraints fail, then we might need to take some action before passing the data to the model for prediction."
   ]
  },
  {
   "cell_type": "code",
   "execution_count": 1,
   "id": "507332c6",
   "metadata": {},
   "outputs": [],
   "source": [
    "import pandas as pd\n",
    "import numpy as np\n",
    "import matplotlib.pyplot as plt\n",
    "import seaborn as sns"
   ]
  },
  {
   "cell_type": "code",
   "execution_count": 2,
   "id": "83ccd290",
   "metadata": {},
   "outputs": [
    {
     "name": "stdout",
     "output_type": "stream",
     "text": [
      "WARN: Missing config\n"
     ]
    }
   ],
   "source": [
    "from whylogs import get_or_create_session\n",
    "from whylogs.util.protobuf import message_to_json\n",
    "from whylogs.core.statistics.constraints import DatasetConstraints\n",
    "import warnings\n",
    "warnings.filterwarnings('ignore')\n",
    "\n",
    "# create session\n",
    "session = get_or_create_session()"
   ]
  },
  {
   "cell_type": "markdown",
   "id": "15ab986b",
   "metadata": {},
   "source": [
    "'format_report' is a utility function for displaying more human-readable constraints reports"
   ]
  },
  {
   "cell_type": "code",
   "execution_count": 3,
   "id": "ee5fe8eb",
   "metadata": {},
   "outputs": [],
   "source": [
    "from tabulate import tabulate\n",
    "\n",
    "def indent(txt, spaces=6):\n",
    "    return \"\\n\".join(\" \" * spaces + ln for ln in txt.splitlines())\n",
    "\n",
    "def format_report(r):\n",
    "    # report failures in tabular form\n",
    "    \n",
    "    r_2 = [entry for entry in r if len(entry)==2] # all the single column constraints\n",
    "    \n",
    "    if len(r_2):\n",
    "        print(\"Constraint failures by feature\")\n",
    "    for c,r in r_2:\n",
    "        print(f\"{c}:\")\n",
    "        if len(r[0][0]) > 80: \n",
    "            print(f\"\\ntest_name:\\t{r[0][0]}\\n\")\n",
    "            print(f\"total_run:\\t{r[0][1]}\\n\")\n",
    "            print(f\"failed:\\t\\t{r[0][2]}\\n\")\n",
    "        else:    \n",
    "            print(indent(tabulate(r, tablefmt=\"plain\", headers=['test_name', 'total_run', 'failed'])))"
   ]
  },
  {
   "cell_type": "markdown",
   "id": "35848545",
   "metadata": {},
   "source": [
    "Read the data for the example. The data contains features about 1000 LendingClub members."
   ]
  },
  {
   "cell_type": "code",
   "execution_count": 4,
   "id": "9d5df16e",
   "metadata": {},
   "outputs": [
    {
     "data": {
      "text/html": [
       "<div>\n",
       "<style scoped>\n",
       "    .dataframe tbody tr th:only-of-type {\n",
       "        vertical-align: middle;\n",
       "    }\n",
       "\n",
       "    .dataframe tbody tr th {\n",
       "        vertical-align: top;\n",
       "    }\n",
       "\n",
       "    .dataframe thead th {\n",
       "        text-align: right;\n",
       "    }\n",
       "</style>\n",
       "<table border=\"1\" class=\"dataframe\">\n",
       "  <thead>\n",
       "    <tr style=\"text-align: right;\">\n",
       "      <th></th>\n",
       "      <th>id</th>\n",
       "      <th>member_id</th>\n",
       "      <th>loan_amnt</th>\n",
       "      <th>funded_amnt</th>\n",
       "      <th>funded_amnt_inv</th>\n",
       "      <th>term</th>\n",
       "      <th>int_rate</th>\n",
       "      <th>installment</th>\n",
       "      <th>grade</th>\n",
       "      <th>sub_grade</th>\n",
       "      <th>...</th>\n",
       "      <th>hardship_payoff_balance_amount</th>\n",
       "      <th>hardship_last_payment_amount</th>\n",
       "      <th>disbursement_method</th>\n",
       "      <th>debt_settlement_flag</th>\n",
       "      <th>debt_settlement_flag_date</th>\n",
       "      <th>settlement_status</th>\n",
       "      <th>settlement_date</th>\n",
       "      <th>settlement_amount</th>\n",
       "      <th>settlement_percentage</th>\n",
       "      <th>settlement_term</th>\n",
       "    </tr>\n",
       "  </thead>\n",
       "  <tbody>\n",
       "    <tr>\n",
       "      <th>0</th>\n",
       "      <td>90671227</td>\n",
       "      <td>NaN</td>\n",
       "      <td>4800.0</td>\n",
       "      <td>4800.0</td>\n",
       "      <td>4800.0</td>\n",
       "      <td>36 months</td>\n",
       "      <td>13.49</td>\n",
       "      <td>162.87</td>\n",
       "      <td>C</td>\n",
       "      <td>C2</td>\n",
       "      <td>...</td>\n",
       "      <td>NaN</td>\n",
       "      <td>NaN</td>\n",
       "      <td>Cash</td>\n",
       "      <td>N</td>\n",
       "      <td>NaN</td>\n",
       "      <td>NaN</td>\n",
       "      <td>NaN</td>\n",
       "      <td>NaN</td>\n",
       "      <td>NaN</td>\n",
       "      <td>NaN</td>\n",
       "    </tr>\n",
       "    <tr>\n",
       "      <th>1</th>\n",
       "      <td>90060135</td>\n",
       "      <td>NaN</td>\n",
       "      <td>21600.0</td>\n",
       "      <td>21600.0</td>\n",
       "      <td>21600.0</td>\n",
       "      <td>60 months</td>\n",
       "      <td>9.49</td>\n",
       "      <td>453.54</td>\n",
       "      <td>B</td>\n",
       "      <td>B2</td>\n",
       "      <td>...</td>\n",
       "      <td>NaN</td>\n",
       "      <td>NaN</td>\n",
       "      <td>Cash</td>\n",
       "      <td>N</td>\n",
       "      <td>NaN</td>\n",
       "      <td>NaN</td>\n",
       "      <td>NaN</td>\n",
       "      <td>NaN</td>\n",
       "      <td>NaN</td>\n",
       "      <td>NaN</td>\n",
       "    </tr>\n",
       "    <tr>\n",
       "      <th>2</th>\n",
       "      <td>90501423</td>\n",
       "      <td>NaN</td>\n",
       "      <td>24200.0</td>\n",
       "      <td>24200.0</td>\n",
       "      <td>24200.0</td>\n",
       "      <td>36 months</td>\n",
       "      <td>9.49</td>\n",
       "      <td>775.09</td>\n",
       "      <td>B</td>\n",
       "      <td>B2</td>\n",
       "      <td>...</td>\n",
       "      <td>NaN</td>\n",
       "      <td>NaN</td>\n",
       "      <td>Cash</td>\n",
       "      <td>N</td>\n",
       "      <td>NaN</td>\n",
       "      <td>NaN</td>\n",
       "      <td>NaN</td>\n",
       "      <td>NaN</td>\n",
       "      <td>NaN</td>\n",
       "      <td>NaN</td>\n",
       "    </tr>\n",
       "    <tr>\n",
       "      <th>3</th>\n",
       "      <td>90186302</td>\n",
       "      <td>NaN</td>\n",
       "      <td>3600.0</td>\n",
       "      <td>3600.0</td>\n",
       "      <td>3600.0</td>\n",
       "      <td>36 months</td>\n",
       "      <td>11.49</td>\n",
       "      <td>118.70</td>\n",
       "      <td>B</td>\n",
       "      <td>B5</td>\n",
       "      <td>...</td>\n",
       "      <td>NaN</td>\n",
       "      <td>NaN</td>\n",
       "      <td>Cash</td>\n",
       "      <td>N</td>\n",
       "      <td>NaN</td>\n",
       "      <td>NaN</td>\n",
       "      <td>NaN</td>\n",
       "      <td>NaN</td>\n",
       "      <td>NaN</td>\n",
       "      <td>NaN</td>\n",
       "    </tr>\n",
       "    <tr>\n",
       "      <th>4</th>\n",
       "      <td>90805192</td>\n",
       "      <td>NaN</td>\n",
       "      <td>8000.0</td>\n",
       "      <td>8000.0</td>\n",
       "      <td>8000.0</td>\n",
       "      <td>36 months</td>\n",
       "      <td>10.49</td>\n",
       "      <td>259.99</td>\n",
       "      <td>B</td>\n",
       "      <td>B3</td>\n",
       "      <td>...</td>\n",
       "      <td>NaN</td>\n",
       "      <td>NaN</td>\n",
       "      <td>Cash</td>\n",
       "      <td>N</td>\n",
       "      <td>NaN</td>\n",
       "      <td>NaN</td>\n",
       "      <td>NaN</td>\n",
       "      <td>NaN</td>\n",
       "      <td>NaN</td>\n",
       "      <td>NaN</td>\n",
       "    </tr>\n",
       "  </tbody>\n",
       "</table>\n",
       "<p>5 rows × 151 columns</p>\n",
       "</div>"
      ],
      "text/plain": [
       "         id  member_id  loan_amnt  funded_amnt  funded_amnt_inv        term  \\\n",
       "0  90671227        NaN     4800.0       4800.0           4800.0   36 months   \n",
       "1  90060135        NaN    21600.0      21600.0          21600.0   60 months   \n",
       "2  90501423        NaN    24200.0      24200.0          24200.0   36 months   \n",
       "3  90186302        NaN     3600.0       3600.0           3600.0   36 months   \n",
       "4  90805192        NaN     8000.0       8000.0           8000.0   36 months   \n",
       "\n",
       "   int_rate  installment grade sub_grade  ... hardship_payoff_balance_amount  \\\n",
       "0     13.49       162.87     C        C2  ...                            NaN   \n",
       "1      9.49       453.54     B        B2  ...                            NaN   \n",
       "2      9.49       775.09     B        B2  ...                            NaN   \n",
       "3     11.49       118.70     B        B5  ...                            NaN   \n",
       "4     10.49       259.99     B        B3  ...                            NaN   \n",
       "\n",
       "  hardship_last_payment_amount disbursement_method  debt_settlement_flag  \\\n",
       "0                          NaN                Cash                     N   \n",
       "1                          NaN                Cash                     N   \n",
       "2                          NaN                Cash                     N   \n",
       "3                          NaN                Cash                     N   \n",
       "4                          NaN                Cash                     N   \n",
       "\n",
       "  debt_settlement_flag_date settlement_status settlement_date  \\\n",
       "0                       NaN               NaN             NaN   \n",
       "1                       NaN               NaN             NaN   \n",
       "2                       NaN               NaN             NaN   \n",
       "3                       NaN               NaN             NaN   \n",
       "4                       NaN               NaN             NaN   \n",
       "\n",
       "  settlement_amount settlement_percentage  settlement_term  \n",
       "0               NaN                   NaN              NaN  \n",
       "1               NaN                   NaN              NaN  \n",
       "2               NaN                   NaN              NaN  \n",
       "3               NaN                   NaN              NaN  \n",
       "4               NaN                   NaN              NaN  \n",
       "\n",
       "[5 rows x 151 columns]"
      ]
     },
     "execution_count": 4,
     "metadata": {},
     "output_type": "execute_result"
    }
   ],
   "source": [
    "data = pd.read_csv('data/lending_club_1000.csv')\n",
    "data.head()"
   ]
  },
  {
   "cell_type": "code",
   "execution_count": 5,
   "id": "1ea216a5",
   "metadata": {},
   "outputs": [],
   "source": [
    "# remove whitespace characters from the feature 'term'\n",
    "data.loc[:, 'term'] = [str.strip(term) if not isinstance(term, float) else term for term in data['term'].values]"
   ]
  },
  {
   "cell_type": "markdown",
   "id": "d995802d",
   "metadata": {},
   "source": [
    "Let's suppose that the first 80% of the data (800 columns) were used for training the ML model, and the last 20% of the data is a new unseen batch of data that needs to used to make a prediction."
   ]
  },
  {
   "cell_type": "code",
   "execution_count": 6,
   "id": "d7081dfe",
   "metadata": {},
   "outputs": [],
   "source": [
    "# split the data according to the hypothetic situation\n",
    "data_train = data.iloc[:800, :]\n",
    "data_test = data.iloc[800:, :]"
   ]
  },
  {
   "cell_type": "markdown",
   "id": "6a00e95c",
   "metadata": {},
   "source": [
    "We present some simple and efficient ways to check for data quality and drift."
   ]
  },
  {
   "cell_type": "code",
   "execution_count": 7,
   "id": "d082687d",
   "metadata": {},
   "outputs": [],
   "source": [
    "def show_feature_bar_chart_in_train_and_test_data(feature, training_data, testing_data):\n",
    "    fig, (ax1, ax2) = plt.subplots(1, 2, figsize=(20, 5))\n",
    "    fig.suptitle(f'Distribution of the feature \"{feature}\"')\n",
    "    training_data[feature].value_counts().plot.bar(ax=ax1)\n",
    "    ax1.set_title(\"Training data set\")\n",
    "    testing_data[feature].value_counts().plot.bar(ax=ax2)\n",
    "    ax2.set_title(\"Testing data set\")\n",
    "    plt.show()"
   ]
  },
  {
   "cell_type": "code",
   "execution_count": 8,
   "id": "a7c4cee0",
   "metadata": {},
   "outputs": [],
   "source": [
    "def show_feature_histogram_in_train_and_test_data(feature, training_data, testing_data, bins=20):\n",
    "    plt.figure(figsize=(10, 5))\n",
    "    sns.histplot(training_data[feature], bins=bins, kde=True, ax=plt.gca(), label='Training data set')\n",
    "    sns.histplot(testing_data[feature], bins=bins, kde=True, ax=plt.gca(), label='Testing data set', color='red')\n",
    "    plt.title(f'Distribution of the feature \"{feature}\"')\n",
    "    plt.legend()\n",
    "    plt.show()"
   ]
  },
  {
   "cell_type": "markdown",
   "id": "8dafe94e",
   "metadata": {},
   "source": [
    "## Distributional Measure: Chi-Squared test p-value"
   ]
  },
  {
   "cell_type": "markdown",
   "id": "9bfac8b4",
   "metadata": {},
   "source": [
    "To compare two discrete distributions, we can use the Chi-Squared test, or the KL-Divergence. We first illustrate how to use the 'columnChiSquaredTestPValueGreaterThanConstraint' which defines a constraint on the Chi-Squared test's p-value, to be greater than some value (default is 0.05)"
   ]
  },
  {
   "cell_type": "code",
   "execution_count": 9,
   "id": "ef365cdc",
   "metadata": {},
   "outputs": [],
   "source": [
    "from whylogs.core.statistics.constraints import columnChiSquaredTestPValueGreaterThanConstraint"
   ]
  },
  {
   "cell_type": "code",
   "execution_count": 10,
   "id": "3fcd24cb",
   "metadata": {},
   "outputs": [
    {
     "data": {
      "image/png": "[encoded data removed]",
      "text/plain": [
       "<Figure size 1440x360 with 2 Axes>"
      ]
     },
     "metadata": {
      "needs_background": "light"
     },
     "output_type": "display_data"
    }
   ],
   "source": [
    "show_feature_bar_chart_in_train_and_test_data('grade', data_train, data_test)"
   ]
  },
  {
   "cell_type": "markdown",
   "id": "bb2982b0",
   "metadata": {},
   "source": [
    "From the bar charts, we can see that there is some difference in the distribution of the feaure \"grade\" in the training and testing data set. But this visual inspection does not provide the statistical difference between the distribution and can't be used when implementing data checks automatically."
   ]
  },
  {
   "cell_type": "markdown",
   "id": "4f4036f3",
   "metadata": {},
   "source": [
    "We are going to define a 'columnChiSquaredTestPValueGreaterThanConstraint' constraint which will use the values of the feature 'grade' from the training data set as a reference distribution, and we will set the p-value to 0.05.\n",
    "\n",
    "This constraint can then be applied when logging the test data set, so that we can check if the new distribution of the feature 'grade' in the test data set successfully passes the constraint for the Chi-Squared test p-value to be greater than 0.05, with reference to the distribution of the same feature in the training data set. If so, then this means that the two features likely come from the same distribution."
   ]
  },
  {
   "cell_type": "code",
   "execution_count": 11,
   "id": "2c9d6b00",
   "metadata": {},
   "outputs": [],
   "source": [
    "# define Chi-Squared test p-value greater than constraint\n",
    "grade_chi_squared_p_value_greater_than = columnChiSquaredTestPValueGreaterThanConstraint(\n",
    "    reference_distribution = data_train['grade'].values,\n",
    "    p_value=0.05\n",
    ")"
   ]
  },
  {
   "cell_type": "markdown",
   "id": "c88cd356",
   "metadata": {},
   "source": [
    "## Distributiona Measure: KL-Divergence"
   ]
  },
  {
   "cell_type": "markdown",
   "id": "dc6f7c29",
   "metadata": {},
   "source": [
    "### KL-Divergence constraint: Discrete distribution"
   ]
  },
  {
   "cell_type": "markdown",
   "id": "3f72c632",
   "metadata": {},
   "source": [
    "Another constraint that can be used to detect data drift is the KL-Divergence constraint. This constraint can be applied to two discrete or two continuous distributions. In this subsection we illustrate both cases."
   ]
  },
  {
   "cell_type": "code",
   "execution_count": 12,
   "id": "dfc20ab3",
   "metadata": {},
   "outputs": [],
   "source": [
    "from whylogs.core.statistics.constraints import columnKLDivergenceLessThanConstraint"
   ]
  },
  {
   "cell_type": "markdown",
   "id": "11974d07",
   "metadata": {},
   "source": [
    "Let's plot the distribution of the feature 'term'. From the bar charts we can see that the frequency of the two categories of the feautre '36 months' and '60 months' have drastically changed in the testing data set, compared to the training data set."
   ]
  },
  {
   "cell_type": "code",
   "execution_count": 13,
   "id": "6947451a",
   "metadata": {},
   "outputs": [
    {
     "data": {
      "image/png": "[encoded data removed]",
      "text/plain": [
       "<Figure size 1440x360 with 2 Axes>"
      ]
     },
     "metadata": {
      "needs_background": "light"
     },
     "output_type": "display_data"
    }
   ],
   "source": [
    "show_feature_bar_chart_in_train_and_test_data('term', data_train, data_test)"
   ]
  },
  {
   "cell_type": "markdown",
   "id": "52e3bbc9",
   "metadata": {},
   "source": [
    "To check this in a data pipeline, we can define a 'columnKLDivergenceLessThanConstraint' using the values of the feature 'term' from the training data set as a reference distribution. We also need to define some threshold, above which we can consider the drift to be significant. In this case, let's assume that we did some research and came to the conclusion that the optimal threshold value is 0.5."
   ]
  },
  {
   "cell_type": "code",
   "execution_count": 14,
   "id": "7cb8d72b",
   "metadata": {},
   "outputs": [],
   "source": [
    "term_kl_divergence_less_than = columnKLDivergenceLessThanConstraint(\n",
    "    reference_distribution = data_train['term'].values, \n",
    "    threshold = 0.5\n",
    ")"
   ]
  },
  {
   "cell_type": "markdown",
   "id": "247a8c95",
   "metadata": {},
   "source": [
    "### KL Divergence constraint - continuous distribution"
   ]
  },
  {
   "cell_type": "code",
   "execution_count": 15,
   "id": "30718a9d",
   "metadata": {},
   "outputs": [
    {
     "data": {
      "image/png": "[encoded data removed]",
      "text/plain": [
       "<Figure size 720x360 with 1 Axes>"
      ]
     },
     "metadata": {
      "needs_background": "light"
     },
     "output_type": "display_data"
    }
   ],
   "source": [
    "show_feature_histogram_in_train_and_test_data('int_rate', data_train, data_test)"
   ]
  },
  {
   "cell_type": "markdown",
   "id": "8198a5dd",
   "metadata": {},
   "source": [
    "From this figure we can see that tthe distribution of the feature 'int_rate' in the training and the testing data set is somewhat similar.\n",
    "\n",
    "We can define a KL-Divergence constraint in the same way for continuous distributions, as for discrete. First, we specify that the reference distribution is the values of 'int_rate' in the training data set, and with some careful consideration (hypothetically), we have calculated that the drift should be identified as significant if it the KL-Divergence is larger than 2.5."
   ]
  },
  {
   "cell_type": "code",
   "execution_count": 16,
   "id": "ef6a8105",
   "metadata": {},
   "outputs": [],
   "source": [
    "int_rate_kl_divergence_less_than = columnKLDivergenceLessThanConstraint(\n",
    "    reference_distribution = data_train['int_rate'].values,\n",
    "    threshold = 2.5,\n",
    ")"
   ]
  },
  {
   "cell_type": "markdown",
   "id": "990002f2",
   "metadata": {},
   "source": [
    "# Distributional Measures: KS test p-value"
   ]
  },
  {
   "cell_type": "markdown",
   "id": "a0178ab6",
   "metadata": {},
   "source": [
    "Just like we had the Chi-Squared test p-value constraint for discrete features, we also have the KS test p-value constraint, which can be applied to test if two continuous features come from the same distribution."
   ]
  },
  {
   "cell_type": "markdown",
   "id": "ddcfbbba",
   "metadata": {},
   "source": [
    "This is another constraint that can be used, instead of the KL-Divergence for continuous distributions. You are free to choose whichever suits your use case best."
   ]
  },
  {
   "cell_type": "code",
   "execution_count": 17,
   "id": "fd1e3a38",
   "metadata": {},
   "outputs": [],
   "source": [
    "from whylogs.core.statistics.constraints import parametrizedKSTestPValueGreaterThanConstraint"
   ]
  },
  {
   "cell_type": "code",
   "execution_count": 18,
   "id": "d95e71c0",
   "metadata": {},
   "outputs": [
    {
     "data": {
      "image/png": "[encoded data removed]",
      "text/plain": [
       "<Figure size 720x360 with 1 Axes>"
      ]
     },
     "metadata": {
      "needs_background": "light"
     },
     "output_type": "display_data"
    }
   ],
   "source": [
    "show_feature_histogram_in_train_and_test_data('loan_amnt', data_train, data_test, bins=30)"
   ]
  },
  {
   "cell_type": "markdown",
   "id": "cfef0d1c",
   "metadata": {},
   "source": [
    "The distributions of 'loan_amnt' seems a bit different in both data sets."
   ]
  },
  {
   "cell_type": "markdown",
   "id": "e4aea50f",
   "metadata": {},
   "source": [
    "We can define the 'parametrizedKSTestPValueGreaterThanConstraint' in a similar way to all of the other distributional measures constraints. We set the reference_distribution to be equal to the values of the feature 'loan_amnt' in the training data set, and we set the p-value to 0.05."
   ]
  },
  {
   "cell_type": "code",
   "execution_count": 19,
   "id": "da7f0b90",
   "metadata": {},
   "outputs": [],
   "source": [
    "loan_amnt_ks_test_p_value_greater_than = parametrizedKSTestPValueGreaterThanConstraint(\n",
    "    reference_distribution = data_train['loan_amnt'].values,\n",
    "    p_value = 0.05,\n",
    ")"
   ]
  },
  {
   "cell_type": "markdown",
   "id": "87ac4b0e",
   "metadata": {},
   "source": [
    "# Single Feature Distributional Measure: Entropy"
   ]
  },
  {
   "cell_type": "markdown",
   "id": "4d0168fa",
   "metadata": {},
   "source": [
    "Another use-case we might be interested in is deciding which features provide value, or don't have a large amount of uncertanity within their values. For these reason we can use the 'approximateEntropyBetweenConstraint'."
   ]
  },
  {
   "cell_type": "code",
   "execution_count": 20,
   "id": "ed351f1a",
   "metadata": {},
   "outputs": [],
   "source": [
    "from whylogs.core.statistics.constraints import approximateEntropyBetweenConstraint"
   ]
  },
  {
   "cell_type": "code",
   "execution_count": 21,
   "id": "64e4321f",
   "metadata": {},
   "outputs": [
    {
     "data": {
      "image/png": "[encoded data removed]",
      "text/plain": [
       "<Figure size 1440x360 with 2 Axes>"
      ]
     },
     "metadata": {
      "needs_background": "light"
     },
     "output_type": "display_data"
    }
   ],
   "source": [
    "show_feature_bar_chart_in_train_and_test_data('debt_settlement_flag', data_train, data_test)"
   ]
  },
  {
   "cell_type": "markdown",
   "id": "6dfdfb37",
   "metadata": {},
   "source": [
    "Here we see that the distribution of the feature 'debt_settlement_flag' is very similar in both data sets."
   ]
  },
  {
   "cell_type": "markdown",
   "id": "958ff9f4",
   "metadata": {},
   "source": [
    "To define the constraint, we can calculate the entropy on the training data, or take some apriori value for the entropy which we believe is the groud truth, and then define the bounds within which we expect this value to vary in the data sets."
   ]
  },
  {
   "cell_type": "markdown",
   "id": "0aa3e20c",
   "metadata": {},
   "source": [
    "We define the 'approximateEntropyBetweenConstraint' by specifying the lower and upper values of the interval of valid entropy. In this case we have chosen some reference value 0.15 and we define the bounds to be in the range (0.15-0.05, 0.15+0.05)."
   ]
  },
  {
   "cell_type": "code",
   "execution_count": 22,
   "id": "4a08676e",
   "metadata": {},
   "outputs": [],
   "source": [
    "debt_settlement_flag_approx_entropy_between = approximateEntropyBetweenConstraint(\n",
    "    lower_value = 0.1,\n",
    "    upper_value = 0.20,\n",
    ")"
   ]
  },
  {
   "cell_type": "markdown",
   "id": "ca158648",
   "metadata": {},
   "source": [
    "We have now defined all of the constraints we are interested in. To apply them to a data set, we first create a DataSetConstraints object. This object has arguments for 'value_constraints', 'summary_constraints', 'table_shape_constraints', and 'multi_column_value_constraints'. Since the distributional measures are all of type 'SummaryConstraint' we will only set the 'summary_constraints' argument.\n",
    "\n",
    "We pass a dictionary with keys equalt to the featre names, and a value equal to the list of constraints we want to apply to that feature. The first argument in the initialization is a properties object, but we do not need to set it explicitly."
   ]
  },
  {
   "cell_type": "code",
   "execution_count": 23,
   "id": "b1d022ac",
   "metadata": {},
   "outputs": [],
   "source": [
    "constraints = DatasetConstraints(\n",
    "    None,\n",
    "    summary_constraints = {\n",
    "        \"grade\": [grade_chi_squared_p_value_greater_than],\n",
    "        \"term\": [term_kl_divergence_less_than],\n",
    "        \"int_rate\": [int_rate_kl_divergence_less_than],\n",
    "        \"loan_amnt\": [loan_amnt_ks_test_p_value_greater_than],\n",
    "        \"debt_settlement_flag\": [debt_settlement_flag_approx_entropy_between]\n",
    "    }\n",
    ")"
   ]
  },
  {
   "cell_type": "markdown",
   "id": "a71648fa",
   "metadata": {},
   "source": [
    "After we have defined the constraints we can log the dataframe of choice together with the constraints."
   ]
  },
  {
   "cell_type": "markdown",
   "id": "536f8a8e",
   "metadata": {},
   "source": [
    "We are first going to log the 'data_train' dataframe, to show that all of the constraints will pass without failures, since all of the reference distributions correspond to the data in this dataframe."
   ]
  },
  {
   "cell_type": "code",
   "execution_count": 24,
   "id": "29e7f093",
   "metadata": {},
   "outputs": [],
   "source": [
    "profile = session.log_dataframe(data_train, \"test.data\", constraints=constraints)"
   ]
  },
  {
   "cell_type": "code",
   "execution_count": 25,
   "id": "f6c1c251",
   "metadata": {},
   "outputs": [
    {
     "name": "stdout",
     "output_type": "stream",
     "text": [
      "Constraint failures by feature\n",
      "grade:\n",
      "      test_name                                        total_run    failed\n",
      "      Chi-Squared test p-value is greater than 0.05            1         0\n",
      "term:\n",
      "      test_name                         total_run    failed\n",
      "      KL Divergence is less than 0.5            1         0\n",
      "int_rate:\n",
      "      test_name                         total_run    failed\n",
      "      KL Divergence is less than 2.5            1         0\n",
      "loan_amnt:\n",
      "      test_name                                            total_run    failed\n",
      "      parametrized KS test p-value is greater than 0.05            1         0\n",
      "debt_settlement_flag:\n",
      "      test_name                                     total_run    failed\n",
      "      approximate entropy is between 0.1 and 0.2            1         0\n"
     ]
    }
   ],
   "source": [
    "report = profile.apply_summary_constraints()\n",
    "format_report(report)"
   ]
  },
  {
   "cell_type": "markdown",
   "id": "2affcbb4",
   "metadata": {},
   "source": [
    "The result represents the report generated from the applied constraints. We can see that there are no failures in the constraints for the training data set."
   ]
  },
  {
   "cell_type": "markdown",
   "id": "70ae3961",
   "metadata": {},
   "source": [
    "Now, what really interests us is how the constraints behave on the new unseen data that our model needs to use for prediction.\n",
    "\n",
    "If we log the testing data set with the constraints and then apply them, we can see that some constraints have failed."
   ]
  },
  {
   "cell_type": "code",
   "execution_count": 26,
   "id": "9c906fb0",
   "metadata": {},
   "outputs": [],
   "source": [
    "test_profile = session.log_dataframe(data_test, \"test.data\", constraints=constraints)"
   ]
  },
  {
   "cell_type": "code",
   "execution_count": 27,
   "id": "ad25b25d",
   "metadata": {},
   "outputs": [
    {
     "name": "stdout",
     "output_type": "stream",
     "text": [
      "Constraint failures by feature\n",
      "grade:\n",
      "      test_name                                        total_run    failed\n",
      "      Chi-Squared test p-value is greater than 0.05            2         0\n",
      "term:\n",
      "      test_name                         total_run    failed\n",
      "      KL Divergence is less than 0.5            2         1\n",
      "int_rate:\n",
      "      test_name                         total_run    failed\n",
      "      KL Divergence is less than 2.5            2         0\n",
      "loan_amnt:\n",
      "      test_name                                            total_run    failed\n",
      "      parametrized KS test p-value is greater than 0.05            2         1\n",
      "debt_settlement_flag:\n",
      "      test_name                                     total_run    failed\n",
      "      approximate entropy is between 0.1 and 0.2            2         0\n"
     ]
    }
   ],
   "source": [
    "test_report = test_profile.apply_summary_constraints()\n",
    "format_report(test_report)"
   ]
  },
  {
   "cell_type": "markdown",
   "id": "c8e3e05b",
   "metadata": {},
   "source": [
    "According to this report, we have a failure in the features 'term' and 'loan_amnt' for which we saw that the distributions were different in the two data sets. The outcomes of the constraints signify that there is a high drift for these features in the new data set.\n",
    "\n",
    "You can further automate the process of data quality checks by defining some behaviour in case a constraint fails, such as in the cases show in this example notebook."
   ]
  }
 ],
 "metadata": {
  "kernelspec": {
   "display_name": "Python 3",
   "language": "python",
   "name": "python3"
  },
  "language_info": {
   "codemirror_mode": {
    "name": "ipython",
    "version": 3
   },
   "file_extension": ".py",
   "mimetype": "text/x-python",
   "name": "python",
   "nbconvert_exporter": "python",
   "pygments_lexer": "ipython3",
   "version": "3.8.8"
  }
 },
 "nbformat": 4,
 "nbformat_minor": 5
}
