{
 "cells": [
  {
   "cell_type": "code",
   "execution_count": null,
   "metadata": {},
   "outputs": [],
   "source": [
    "%matplotlib inline\n",
    "\n",
    "import pandas as pd\n",
    "import numpy as np\n",
    "import matplotlib.pyplot as plt"
   ]
  },
  {
   "cell_type": "code",
   "execution_count": null,
   "metadata": {},
   "outputs": [],
   "source": [
    "# Just a simple convenience function to send the internal python\n",
    "# logs to stdout.  Definitely not required\n",
    "from whylabs.logs import display_logging\n",
    "display_logging('debug')"
   ]
  },
  {
   "cell_type": "markdown",
   "metadata": {},
   "source": [
    "## Load data"
   ]
  },
  {
   "cell_type": "code",
   "execution_count": null,
   "metadata": {},
   "outputs": [],
   "source": [
    "# Load some data\n",
    "df = pd.read_csv('lending_club_1000.csv')\n",
    "# Split into a test & training set\n",
    "df_training = df.sample(int(len(df) * 0.8), replace=False, random_state=123)\n",
    "df_test = df.drop(df_training.index)\n",
    "df.head()"
   ]
  },
  {
   "cell_type": "markdown",
   "metadata": {},
   "source": [
    "## Log dataset sketches"
   ]
  },
  {
   "cell_type": "code",
   "execution_count": null,
   "metadata": {},
   "outputs": [],
   "source": [
    "from whylabs.logs import get_or_create_session, get_logger\n",
    "\n",
    "s = get_or_create_session(\n",
    "    output_to_disk=True,\n",
    "    output_flat_summary=True,\n",
    "    output_to_cloud=False, # For now, we won't output to the cloud\n",
    "    bucket='whylabs-isaac', # although we can still configure cloud output\n",
    "    cloud_output_folder='test/logging',\n",
    ")\n",
    "logger = get_logger()"
   ]
  },
  {
   "cell_type": "code",
   "execution_count": null,
   "metadata": {},
   "outputs": [],
   "source": [
    "# Available config options\n",
    "s.config"
   ]
  },
  {
   "cell_type": "markdown",
   "metadata": {},
   "source": [
    "#### Log dataframe"
   ]
  },
  {
   "cell_type": "code",
   "execution_count": null,
   "metadata": {},
   "outputs": [],
   "source": [
    "logger.log_dataframe(df_training, 'training.data')\n",
    "# Then you could do whatever training or calculations you'd like"
   ]
  },
  {
   "cell_type": "markdown",
   "metadata": {},
   "source": [
    "### Inspect profiles/statistics"
   ]
  },
  {
   "cell_type": "code",
   "execution_count": null,
   "metadata": {},
   "outputs": [],
   "source": [
    "# You can also capture the logger response and interact with the generated\n",
    "# profiles\n",
    "\n",
    "# Log the test data\n",
    "response = logger.log_dataframe(df_test, 'test.data')\n",
    "# Inspect the dataset profile sketch\n",
    "prof = response['profile']\n",
    "summary = prof.flat_summary()\n",
    "stats_df = summary['summary']\n",
    "stats_df"
   ]
  },
  {
   "cell_type": "code",
   "execution_count": null,
   "metadata": {},
   "outputs": [],
   "source": [
    "# See one of the inspected histograms\n",
    "hist_data = summary['hist']['fico_range_high']\n",
    "bins = hist_data['bin_edges']\n",
    "n = hist_data['counts']\n",
    "bin_width = np.diff(bins)\n",
    "\n",
    "plt.bar(bins[0:-1], n, bin_width, align='edge')"
   ]
  },
  {
   "cell_type": "markdown",
   "metadata": {},
   "source": [
    "## Load logged data"
   ]
  },
  {
   "cell_type": "code",
   "execution_count": null,
   "metadata": {},
   "outputs": [],
   "source": [
    "import glob"
   ]
  },
  {
   "cell_type": "markdown",
   "metadata": {},
   "source": [
    "### Load flat table statistics"
   ]
  },
  {
   "cell_type": "code",
   "execution_count": null,
   "metadata": {},
   "outputs": [],
   "source": [
    "# Load the flat table statistics from the 'test.data' dataset\n",
    "fnames = glob.glob('whylogs/test.data/dataset_summary/flat_table/dataset_summary*.csv')\n",
    "fnames.sort()\n",
    "# Load the most recent file\n",
    "test_stats = pd.read_csv(fnames[-1])\n",
    "test_stats"
   ]
  },
  {
   "cell_type": "markdown",
   "metadata": {},
   "source": [
    "### Load the full dataset profile sketch"
   ]
  },
  {
   "cell_type": "code",
   "execution_count": null,
   "metadata": {},
   "outputs": [],
   "source": [
    "from whylabs.logs.core import datasetprofile\n",
    "\n",
    "# Load a dataset profile from the 'test.data' dataset\n",
    "fnames = glob.glob('whylogs/test.data/dataset_profile/protobuf/*.bin')\n",
    "fnames.sort()\n",
    "with open(fnames[-1], 'rb') as fp:\n",
    "    test_prof = datasetprofile.DatasetProfile.from_protobuf_string(fp.read())"
   ]
  },
  {
   "cell_type": "markdown",
   "metadata": {},
   "source": [
    "---"
   ]
  },
  {
   "cell_type": "code",
   "execution_count": null,
   "metadata": {},
   "outputs": [],
   "source": [
    "# Not necessary, but you can reset the whylogs session if you want\n",
    "from whylabs.logs.app.session import reset_session\n",
    "reset_session()"
   ]
  }
 ],
 "metadata": {
  "kernelspec": {
   "display_name": "Python [conda env:whylogs]",
   "language": "python",
   "name": "conda-env-whylogs-py"
  },
  "language_info": {
   "codemirror_mode": {
    "name": "ipython",
    "version": 3
   },
   "file_extension": ".py",
   "mimetype": "text/x-python",
   "name": "python",
   "nbconvert_exporter": "python",
   "pygments_lexer": "ipython3",
   "version": "3.7.7"
  }
 },
 "nbformat": 4,
 "nbformat_minor": 4
}
