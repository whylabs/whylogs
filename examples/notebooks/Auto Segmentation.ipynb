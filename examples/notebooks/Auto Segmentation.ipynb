{
 "cells": [
  {
   "cell_type": "markdown",
   "id": "2d43b03a",
   "metadata": {},
   "source": [
    "# Auto Segmentation Example"
   ]
  },
  {
   "cell_type": "markdown",
   "id": "8f040947",
   "metadata": {},
   "source": [
    "First let us create a sample dataset, like an output you might get from a classification model. "
   ]
  },
  {
   "cell_type": "code",
   "execution_count": 65,
   "id": "170c600f",
   "metadata": {},
   "outputs": [],
   "source": [
    "import pandas as pd\n",
    "df = pd.DataFrame({\"target_var\": [\"cat\", \"dog\", \"pig\", \"dog\", \"cat\", \"dog\"],\n",
    "                   \"confidence\": [1.2, 3.4, 4.5, 0.1, 4.5, -0.19],\n",
    "                   \"prediction\": [\"good boy\", \"good boy\", \"good boy\", \"good boy\", \"bad\", \"bad\"]})"
   ]
  },
  {
   "cell_type": "markdown",
   "id": "14cc20ba",
   "metadata": {},
   "source": [
    "In this case one interesting segmentation would be to see how the `confidence` could be segmented by the other features."
   ]
  },
  {
   "cell_type": "markdown",
   "id": "f8cbca64",
   "metadata": {},
   "source": [
    "## Whylogs Auto Segmentation"
   ]
  },
  {
   "cell_type": "code",
   "execution_count": 80,
   "id": "58f60a7d",
   "metadata": {},
   "outputs": [
    {
     "name": "stdout",
     "output_type": "stream",
     "text": [
      "WARN: Missing config\n"
     ]
    }
   ],
   "source": [
    "from whylogs import get_or_create_session\n",
    "whylogs_session = get_or_create_session()"
   ]
  },
  {
   "cell_type": "markdown",
   "id": "ed79eec4",
   "metadata": {},
   "source": [
    "Before we start logging the data, we first run autosegmentation to infer what are the important segments in the data"
   ]
  },
  {
   "cell_type": "code",
   "execution_count": 81,
   "id": "88b9de8f",
   "metadata": {},
   "outputs": [
    {
     "data": {
      "text/plain": [
       "['prediction']"
      ]
     },
     "execution_count": 81,
     "metadata": {},
     "output_type": "execute_result"
    }
   ],
   "source": [
    "sess.estimate_segments(df, name= \"demo1\", target_field=\"target_var\", max_segments=3)"
   ]
  },
  {
   "cell_type": "markdown",
   "id": "31392cf8",
   "metadata": {},
   "source": [
    "This creates a segmentation file `segments.json` in default path `output/{name}` where the `name` we gave above is `demo1`"
   ]
  },
  {
   "cell_type": "code",
   "execution_count": 82,
   "id": "b200c637",
   "metadata": {},
   "outputs": [
    {
     "name": "stdout",
     "output_type": "stream",
     "text": [
      "output/demo1/metadata/segments.json\r\n"
     ]
    }
   ],
   "source": [
    "!ls output/demo1/metadata/*"
   ]
  },
  {
   "cell_type": "markdown",
   "id": "c01bf2a5",
   "metadata": {},
   "source": [
    "Containing the features to be segmented."
   ]
  },
  {
   "cell_type": "code",
   "execution_count": 83,
   "id": "664bd0bc",
   "metadata": {},
   "outputs": [
    {
     "name": "stdout",
     "output_type": "stream",
     "text": [
      "\u001b[1;39m[\r\n",
      "  \u001b[0;32m\"prediction\"\u001b[0m\u001b[1;39m\r\n",
      "\u001b[1;39m]\u001b[0m\r\n"
     ]
    }
   ],
   "source": [
    "!jq . output/demo1/metadata/segments.json"
   ]
  },
  {
   "cell_type": "markdown",
   "id": "ed10b13d",
   "metadata": {},
   "source": [
    "## Log Segmented data"
   ]
  },
  {
   "cell_type": "markdown",
   "id": "afa549e8",
   "metadata": {},
   "source": [
    "You can then proced loging the data, whylogs will segment each of the features above automatically."
   ]
  },
  {
   "cell_type": "code",
   "execution_count": 84,
   "id": "675af96e",
   "metadata": {},
   "outputs": [],
   "source": [
    "sess.log_dataframe(df, dataset_name=\"demo1\")"
   ]
  },
  {
   "cell_type": "code",
   "execution_count": 85,
   "id": "da093d07",
   "metadata": {},
   "outputs": [
    {
     "name": "stdout",
     "output_type": "stream",
     "text": [
      "cat: output/demo1/: Is a directory\r\n"
     ]
    }
   ],
   "source": [
    "!cat output/demo1/"
   ]
  },
  {
   "cell_type": "code",
   "execution_count": 86,
   "id": "44d7adf3",
   "metadata": {},
   "outputs": [
    {
     "name": "stdout",
     "output_type": "stream",
     "text": [
      "output/demo1/27cbaff0-c7c7-4805-ae89-9ed4f548eda7/flat_table/dataset_profile.csv\r\n",
      "output/demo1/27cbaff0-c7c7-4805-ae89-9ed4f548eda7/freq_numbers/dataset_profile.json\r\n",
      "output/demo1/27cbaff0-c7c7-4805-ae89-9ed4f548eda7/frequent_strings/dataset_profile.json\r\n",
      "output/demo1/27cbaff0-c7c7-4805-ae89-9ed4f548eda7/histogram/dataset_profile.json\r\n",
      "output/demo1/27cbaff0-c7c7-4805-ae89-9ed4f548eda7/json/dataset_profile.json\r\n",
      "output/demo1/27cbaff0-c7c7-4805-ae89-9ed4f548eda7/protobuf/dataset_profile.bin\r\n",
      "output/demo1/metadata/segments.json\r\n",
      "\r\n",
      "output/demo1/27cbaff0-c7c7-4805-ae89-9ed4f548eda7:\r\n",
      "\u001b[1m\u001b[36mflat_table\u001b[m\u001b[m       \u001b[1m\u001b[36mfrequent_strings\u001b[m\u001b[m \u001b[1m\u001b[36mjson\u001b[m\u001b[m\r\n",
      "\u001b[1m\u001b[36mfreq_numbers\u001b[m\u001b[m     \u001b[1m\u001b[36mhistogram\u001b[m\u001b[m        \u001b[1m\u001b[36mprotobuf\u001b[m\u001b[m\r\n",
      "\r\n",
      "output/demo1/27cbaff0-c7c7-4805-ae89-9ed4f548eda7/flat_table:\r\n",
      "dataset_profile.csv\r\n",
      "\r\n",
      "output/demo1/27cbaff0-c7c7-4805-ae89-9ed4f548eda7/freq_numbers:\r\n",
      "dataset_profile.json\r\n",
      "\r\n",
      "output/demo1/27cbaff0-c7c7-4805-ae89-9ed4f548eda7/frequent_strings:\r\n",
      "dataset_profile.json\r\n",
      "\r\n",
      "output/demo1/27cbaff0-c7c7-4805-ae89-9ed4f548eda7/histogram:\r\n",
      "dataset_profile.json\r\n",
      "\r\n",
      "output/demo1/27cbaff0-c7c7-4805-ae89-9ed4f548eda7/json:\r\n",
      "dataset_profile.json\r\n",
      "\r\n",
      "output/demo1/27cbaff0-c7c7-4805-ae89-9ed4f548eda7/protobuf:\r\n",
      "dataset_profile.bin\r\n",
      "\r\n",
      "output/demo1/metadata:\r\n",
      "segments.json\r\n"
     ]
    }
   ],
   "source": [
    "!ls output/demo1/**/*"
   ]
  },
  {
   "cell_type": "code",
   "execution_count": 73,
   "id": "85728ab4",
   "metadata": {},
   "outputs": [],
   "source": [
    "sess.close()"
   ]
  },
  {
   "cell_type": "code",
   "execution_count": 64,
   "id": "ee16f000",
   "metadata": {},
   "outputs": [],
   "source": [
    "!rm -rf output/demo1/**/*"
   ]
  },
  {
   "cell_type": "code",
   "execution_count": null,
   "id": "e0dfde44",
   "metadata": {},
   "outputs": [],
   "source": []
  }
 ],
 "metadata": {
  "kernelspec": {
   "display_name": "whylogs-dev",
   "language": "python",
   "name": "whylogs-dev"
  },
  "language_info": {
   "codemirror_mode": {
    "name": "ipython",
    "version": 3
   },
   "file_extension": ".py",
   "mimetype": "text/x-python",
   "name": "python",
   "nbconvert_exporter": "python",
   "pygments_lexer": "ipython3",
   "version": "3.8.5"
  }
 },
 "nbformat": 4,
 "nbformat_minor": 5
}
