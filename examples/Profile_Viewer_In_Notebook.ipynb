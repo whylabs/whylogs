{
 "cells": [
  {
   "cell_type": "markdown",
   "id": "6b36ea8e",
   "metadata": {},
   "source": [
    "# 📈 Whylogs Profile Visualization\n",
    "### gives you various ways to simplify the proccess of detecting dataset drift. Bellow you can see the instructions for creating dummy dataset and list of currently available visual reports."
   ]
  },
  {
   "cell_type": "markdown",
   "id": "be56fca7",
   "metadata": {},
   "source": [
    "### 🗂️Install dependencies and make imports"
   ]
  },
  {
   "cell_type": "code",
   "execution_count": null,
   "id": "29e48da5",
   "metadata": {},
   "outputs": [],
   "source": [
    "!pip install faker\n",
    "!pip install pybars3"
   ]
  },
  {
   "cell_type": "code",
   "execution_count": null,
   "id": "5d40e474",
   "metadata": {},
   "outputs": [],
   "source": [
    "import numpy as np\n",
    "import pandas as pd\n",
    "import datetime\n",
    "from collections import OrderedDict\n",
    "from faker import Faker"
   ]
  },
  {
   "cell_type": "code",
   "execution_count": null,
   "id": "2c3ff3a2",
   "metadata": {},
   "outputs": [],
   "source": [
    "from whylogs import get_or_create_session\n",
    "from whylogs.viz import NotebookProfileViewer\n",
    "from whylogs.core.statistics.constraints import (\n",
    "    columnValuesInSetConstraint,\n",
    "    containsEmailConstraint,\n",
    "    minBetweenConstraint,\n",
    "    maxLessThanEqualConstraint,\n",
    "    parametrizedKSTestPValueGreaterThanConstraint,\n",
    "    columnsMatchSetConstraint,\n",
    "    columnPairValuesInSetConstraint,\n",
    "    sumOfRowValuesOfMultipleColumnsEqualsConstraint,\n",
    "    columnValuesUniqueWithinRow,\n",
    "    DatasetConstraints\n",
    ")"
   ]
  },
  {
   "cell_type": "markdown",
   "id": "272f6054",
   "metadata": {},
   "source": [
    "### ♻️Create dummy data"
   ]
  },
  {
   "cell_type": "code",
   "execution_count": null,
   "id": "41f8a0f9",
   "metadata": {},
   "outputs": [],
   "source": [
    "locales = OrderedDict([\n",
    "    ('en-US', 1),\n",
    "    ('fr-FR', 2),\n",
    "    ('ja_JP', 2),\n",
    "])\n",
    "fake = Faker(locales)\n",
    "distribution = np.concatenate((np.random.normal(0.1, 0.1, 500), np.random.normal(0.6, 0.2, 500)))"
   ]
  },
  {
   "cell_type": "markdown",
   "id": "200841f2",
   "metadata": {},
   "source": [
    "### 📝 Log it\n"
   ]
  },
  {
   "cell_type": "code",
   "execution_count": null,
   "id": "ea4ce6a6",
   "metadata": {},
   "outputs": [],
   "source": [
    "session = get_or_create_session()\n",
    "def profile_generator():\n",
    "    with session.logger(\"mytestytest\", dataset_timestamp=datetime.datetime(2021, 6, 2)) as logger:\n",
    "        for _ in range(500):\n",
    "            logger.log({\"uniform_integers\": np.random.randint(0,50)})\n",
    "            logger.log({\"strings\": fake.name()})\n",
    "            logger.log({\"mixture_distribution\": np.random.choice(distribution, 1)[0]}) \n",
    "            logger.log({\"1mixture_distribution\": np.random.choice(distribution, 1)[0]})\n",
    "            logger.log({\"2mixture_distribution\": np.random.choice(distribution, 1)[0]})\n",
    "            logger.log({\"3mixture_distribution\": np.random.choice(distribution, 1)[0]})\n",
    "            logger.log({\"4mixture_distribution\": np.random.choice(distribution, 1)[0]})\n",
    "            logger.log({\"nulls\": None})\n",
    "        logger.log({\"moah_data\": 1})\n",
    "        logger.log({\"moah_data\": 1})\n",
    "        logger.log({\"moah_data\": 5})\n",
    "\n",
    "        return logger.profile\n",
    "    \n",
    "target_profile = profile_generator()\n",
    "\n",
    "reference_profile = profile_generator()"
   ]
  },
  {
   "cell_type": "markdown",
   "id": "8390f360",
   "metadata": {},
   "source": [
    "## ✨ Vizualize profiles with Whylogs"
   ]
  },
  {
   "cell_type": "markdown",
   "id": "562fbacf",
   "metadata": {},
   "source": [
    "### Initialization\n",
    "Initialize Profile viewer by passing profiles for which you want to get the visualizations"
   ]
  },
  {
   "cell_type": "code",
   "execution_count": null,
   "id": "7dbff14f",
   "metadata": {},
   "outputs": [],
   "source": [
    "visualization = NotebookProfileViewer()\n",
    "visualization.set_profiles(target_profile=target_profile, reference_profile=reference_profile)"
   ]
  },
  {
   "cell_type": "markdown",
   "id": "87ea53b6",
   "metadata": {},
   "source": [
    "###### `*target_profiles`: Profiled dataset which will be reffered as `target`\n",
    "###### `*reference_profiles`: Profiled dataset which will be reffered as `reference`"
   ]
  },
  {
   "cell_type": "markdown",
   "id": "9908a9f9",
   "metadata": {},
   "source": [
    "### Summary Drift Report"
   ]
  },
  {
   "cell_type": "markdown",
   "id": "650d44c4",
   "metadata": {},
   "source": [
    "You can get summary drift report for `target` and `reference` profiles features"
   ]
  },
  {
   "cell_type": "code",
   "execution_count": null,
   "id": "911147eb",
   "metadata": {
    "scrolled": true
   },
   "outputs": [],
   "source": [
    "visualization.summary_drift_report(preferred_cell_height=\"1000px\")"
   ]
  },
  {
   "cell_type": "markdown",
   "id": "c4be405d",
   "metadata": {},
   "source": [
    "###### `preferred_cell_height`: height in `px` for generated visualization cell "
   ]
  },
  {
   "cell_type": "markdown",
   "id": "4dd9e690",
   "metadata": {},
   "source": [
    "### Double histogram"
   ]
  },
  {
   "cell_type": "markdown",
   "id": "28b512ca",
   "metadata": {},
   "source": [
    "You can get double histogram for numerical features"
   ]
  },
  {
   "cell_type": "code",
   "execution_count": null,
   "id": "250bb662",
   "metadata": {
    "scrolled": true
   },
   "outputs": [],
   "source": [
    "visualization.double_histogram(feature_names=\"uniform_integers\")"
   ]
  },
  {
   "cell_type": "markdown",
   "id": "af84a332",
   "metadata": {},
   "source": [
    "###### `*feature_names`: string or list of strings containing names of the features for which you want to see double histogram\n",
    "###### `preferred_cell_height`: height in `px` for generated visualization cell "
   ]
  },
  {
   "cell_type": "markdown",
   "id": "193e306d",
   "metadata": {},
   "source": [
    "### Distribution chart"
   ]
  },
  {
   "cell_type": "markdown",
   "id": "6f4931fb",
   "metadata": {},
   "source": [
    "You can get distirubtion chart for categorical features"
   ]
  },
  {
   "cell_type": "code",
   "execution_count": null,
   "id": "ccc7c73e",
   "metadata": {
    "scrolled": true
   },
   "outputs": [],
   "source": [
    "visualization.distribution_chart(feature_names=\"strings\")"
   ]
  },
  {
   "cell_type": "markdown",
   "id": "cd97db45",
   "metadata": {},
   "source": [
    "###### `*feature_names`: string or list of strings containing names of the features for which you want to see double histogram\n",
    "###### `preferred_cell_height`: height in `px` for generated visualization cell "
   ]
  },
  {
   "cell_type": "markdown",
   "id": "408e1c5b",
   "metadata": {},
   "source": [
    "### Differenced distribution chart"
   ]
  },
  {
   "cell_type": "markdown",
   "id": "4d65b0b4",
   "metadata": {},
   "source": [
    "You can get differenced distirubtion chart for categorical features"
   ]
  },
  {
   "cell_type": "code",
   "execution_count": null,
   "id": "d26b2fa2",
   "metadata": {
    "scrolled": true
   },
   "outputs": [],
   "source": [
    "visualization.difference_distribution_chart(feature_names=\"strings\")"
   ]
  },
  {
   "cell_type": "markdown",
   "id": "92451fbf",
   "metadata": {},
   "source": [
    "###### `*feature_names`: string or list of strings containing names of the features for which you want to see double histogram\n",
    "###### `preferred_cell_height`: height in `px` for generated visualization cell "
   ]
  },
  {
   "cell_type": "markdown",
   "id": "78db1538",
   "metadata": {},
   "source": [
    "### Feature Statistics"
   ]
  },
  {
   "cell_type": "markdown",
   "id": "4dc0e3f6",
   "metadata": {},
   "source": [
    "You can get set of useful statistics for features by passing the profile and feature names"
   ]
  },
  {
   "cell_type": "code",
   "execution_count": null,
   "id": "fb77bcd5",
   "metadata": {
    "scrolled": false
   },
   "outputs": [],
   "source": [
    "visualization.feature_statistics(feature_name=\"mixture_distribution\", profile=\"reference\")"
   ]
  },
  {
   "cell_type": "markdown",
   "id": "8b483a1d",
   "metadata": {},
   "source": [
    "###### `*feature_name`: Any feature name from your profiled dataset\n",
    "###### `profile_name`: `\"target\"` or `\"reference\"`\n",
    "###### `prefered_cell_height`: height in `px` for generated visualization cell "
   ]
  },
  {
   "cell_type": "markdown",
   "id": "a3469ba2",
   "metadata": {},
   "source": [
    "### Generate constraints"
   ]
  },
  {
   "cell_type": "code",
   "execution_count": null,
   "id": "dafab41d",
   "metadata": {},
   "outputs": [],
   "source": [
    "def get_sample_dataset_constraints():\n",
    "    cvisc = columnValuesInSetConstraint(value_set={2, 5, 8})\n",
    "    email_constraint = containsEmailConstraint()\n",
    "\n",
    "    min_gt_constraint = minBetweenConstraint(lower_value=1, upper_value=5)\n",
    "    max_le_constraint = maxLessThanEqualConstraint(value=100)\n",
    "\n",
    "    distribution = np.random.normal(0, 1, 50)\n",
    "\n",
    "    ks_test_p_value_constraint = parametrizedKSTestPValueGreaterThanConstraint(\n",
    "        distribution,\n",
    "        p_value=0.5,\n",
    "        name=\"has a standard normal distribution\"\n",
    "    )\n",
    "\n",
    "    set1 = set([\"col1\", \"col2\"])\n",
    "    columns_match_constraint = columnsMatchSetConstraint(set1)\n",
    "\n",
    "    val_set = {(1, 2), (3, 5)}\n",
    "    col_set = [\"A\", \"B\"]\n",
    "    mcv_constraints = [\n",
    "        columnPairValuesInSetConstraint(column_A=\"A\", column_B=\"B\", value_set=val_set),\n",
    "        sumOfRowValuesOfMultipleColumnsEqualsConstraint(columns=col_set, value=100),\n",
    "        columnValuesUniqueWithinRow(column_A=\"A\", verbose=True),\n",
    "    ]\n",
    "\n",
    "    return DatasetConstraints(\n",
    "        None,\n",
    "        value_constraints={\"A\": [cvisc], \"users\": [email_constraint]},\n",
    "        summary_constraints={\"B\": [max_le_constraint, min_gt_constraint], \"value\": [ks_test_p_value_constraint]},\n",
    "        table_shape_constraints=[columns_match_constraint],\n",
    "        multi_column_value_constraints=mcv_constraints,\n",
    "    )\n",
    "\n",
    "data = pd.DataFrame({\n",
    "    \"A\": [1, 2, 2, 5, 7, 6],\n",
    "    \"B\": [5, 4, 5, 1, 6, 0],\n",
    "    \"users\": [\"john\", \"jane@example.com\", \"alex\", \"bob\", \"anna@example.com\", \"dave\"],\n",
    "    \"value\": [23.4, 123.2, 423.3, 32.1, 42.2, 344.2],\n",
    "})\n",
    "\n",
    "dc = get_sample_dataset_constraints()\n",
    "constraints_profile = session.log_dataframe(data, \"test.data\", constraints=dc)\n",
    "constraints_profile.apply_summary_constraints()\n",
    "constraints_profile.apply_table_shape_constraints()\n",
    "session.close()"
   ]
  },
  {
   "cell_type": "markdown",
   "id": "17ac9327",
   "metadata": {},
   "source": [
    "### Constraints report"
   ]
  },
  {
   "cell_type": "code",
   "execution_count": null,
   "id": "4a2786f8",
   "metadata": {},
   "outputs": [],
   "source": [
    "visualization.constraints_report(dc)"
   ]
  },
  {
   "cell_type": "markdown",
   "id": "b04f735b",
   "metadata": {},
   "source": [
    "### Download prefered cell output"
   ]
  },
  {
   "cell_type": "markdown",
   "id": "2015ff5d",
   "metadata": {},
   "source": [
    "You can also download any of those visualisation in `HTML` format for further analysys, by passing the visualization name"
   ]
  },
  {
   "cell_type": "code",
   "execution_count": null,
   "id": "980d7236",
   "metadata": {},
   "outputs": [],
   "source": [
    "visualization.download(html=visualization.summary_drift_report(), html_file_name='example')"
   ]
  },
  {
   "cell_type": "markdown",
   "id": "01fbed2c",
   "metadata": {},
   "source": [
    "By calling `download()` method of `DisplayProfile` and passing visualizer command, path to be downloaded to (optional) and name of the file you prefer (optional). Exaple `download(visualization.feature(\"title\"), path=\"examlpe/path\", html_file_name=\"example_html_file_name\")`. Command will download HTML format.\n",
    "\n",
    "If path is not passed file will be downloaded to `html_reports` located in whylogs directory by default.\n",
    "\n",
    "If name of the file is not passed it will be name of the dataset followed by timestamp of the profile by default. "
   ]
  },
  {
   "cell_type": "markdown",
   "id": "7ffc293c",
   "metadata": {},
   "source": [
    "###### `*feature_name`: Any feature name from your profiled dataset\n",
    "###### `preferred_path`: save path `default:` `/html_reports` located in whylogs directory\n",
    "###### `html_file_name`: name of the file `default:` name of the dataset followed by timestamp of the profile"
   ]
  }
 ],
 "metadata": {
  "kernelspec": {
   "display_name": "Python 3 (ipykernel)",
   "language": "python",
   "name": "python3"
  },
  "language_info": {
   "codemirror_mode": {
    "name": "ipython",
    "version": 3
   },
   "file_extension": ".py",
   "mimetype": "text/x-python",
   "name": "python",
   "nbconvert_exporter": "python",
   "pygments_lexer": "ipython3",
   "version": "3.8.10"
  }
 },
 "nbformat": 4,
 "nbformat_minor": 5
}
