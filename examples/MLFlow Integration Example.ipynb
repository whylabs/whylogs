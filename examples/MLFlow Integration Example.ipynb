{
 "cells": [
  {
   "cell_type": "markdown",
   "metadata": {},
   "source": [
    "# MLflow + whylogs Integration\n",
    "\n",
    "In this notebook, we will explore the [MLflow](https://mlflow.org/) integration in `whylogs`.\n",
    "\n",
    "This example uses the data from [MLflow's tutorial](https://mlflow.org/docs/latest/tutorials-and-examples/tutorial.html) for demonstration purposes.\n",
    "\n",
    "This tutorial showcases how you can use the whylogs integration to:\n",
    "* Capture data quality metrics while training a linear regression model in `mlflow`\n",
    "* Extract whylogs data back into an in-memory format from the MLflow backend\n",
    "* Visualize this data\n",
    "\n",
    "# Getting Started\n",
    "To run this tutorial:\n",
    "* Install [conda](https://conda.io/projects/conda/en/latest/user-guide/install/index.html)\n",
    "* Create a new environment with conda via `conda create --name whylogs-mlflow python=3.8`\n",
    "    * You'll need to activate the environment with `conda activate whylogs-mlflow`\n",
    "    * You'll need to install pip into the Conda environment `conda install pip`\n",
    "    * To make the environment work with Jupyter notebooks, run `pip install ipykernel` to install the kernel module\n",
    "    * Install the environment as a Jupyter notebook kernel via `python -m ipykernel install --user --name=whylogs-mlflow`\n",
    "* Install MLflow with scikit-learn via `pip install mlflow[extras]`\n",
    "* Install whylogs with matplotlib via `pip install whylogs[viz]`\n",
    "* You can also install the necessary libraries separately:\n",
    "    * MLflow: `pip install mlflow`\n",
    "    * whylogs: `pip install whylogs`\n",
    "    * scikit-learn: `pip install scikit-learn`\n",
    "    * matplotlib: `pip install matplotlib`\n",
    "* In your notebook, ensure you select `whylogs-mlflow` as your kernel\n",
    "\n",
    "# Setup\n",
    "First, we want to filter out noisy warnings"
   ]
  },
  {
   "cell_type": "code",
   "execution_count": null,
   "metadata": {},
   "outputs": [],
   "source": [
    "import warnings\n",
    "warnings.filterwarnings(\"ignore\")\n",
    "warnings.simplefilter('ignore')\n"
   ]
  },
  {
   "cell_type": "code",
   "execution_count": null,
   "metadata": {},
   "outputs": [],
   "source": [
    "import random\n",
    "import time\n",
    "\n",
    "import pandas as pd\n",
    "import mlflow\n",
    "import whylogs\n",
    "from whylogs import get_or_create_session\n",
    "\n",
    "from sklearn.metrics import mean_absolute_error\n",
    "from sklearn.model_selection import train_test_split\n",
    "from sklearn.linear_model import ElasticNet"
   ]
  },
  {
   "cell_type": "markdown",
   "metadata": {},
   "source": [
    "# Enable whylogs Integration\n",
    "\n",
    "Enable whylogs in MLflow to allow storing whylogs statistical profiles with every run. This method returns `True` if whylogs is able to patch MLflow."
   ]
  },
  {
   "cell_type": "code",
   "execution_count": null,
   "metadata": {},
   "outputs": [],
   "source": [
    "assert whylogs.__version__ >= \"0.1.13\" # we need 0.1.13 or later for MLflow integration\n",
    "session = get_or_create_session(\".whylogs_mlflow.yaml\")\n",
    "whylogs.enable_mlflow(session)"
   ]
  },
  {
   "cell_type": "markdown",
   "metadata": {},
   "source": [
    "# Dataset Preparation\n",
    "\n",
    "Download and prepare the UCI wine quality dataset. We sample the test dataset further to represent batches of data produced every second."
   ]
  },
  {
   "cell_type": "code",
   "execution_count": null,
   "metadata": {
    "collapsed": false,
    "jupyter": {
     "outputs_hidden": false
    },
    "pycharm": {
     "name": "#%%\n"
    }
   },
   "outputs": [],
   "source": [
    "data_url = \"http://archive.ics.uci.edu/ml/machine-learning-databases/wine-quality/winequality-red.csv\"\n",
    "data = pd.read_csv(data_url, sep=\";\")\n",
    "data"
   ]
  },
  {
   "cell_type": "code",
   "execution_count": null,
   "metadata": {
    "collapsed": false,
    "jupyter": {
     "outputs_hidden": false
    },
    "pycharm": {
     "name": "#%%\n"
    }
   },
   "outputs": [],
   "source": [
    "# Split the data into training and test sets\n",
    "train, test = train_test_split(data)"
   ]
  },
  {
   "cell_type": "markdown",
   "metadata": {
    "pycharm": {
     "name": "#%% md\n"
    }
   },
   "source": [
    "We can quickly get a sense of the shape of the training dataset by profiling it with whylogs. Later, we can compare the baseline data metrics to the profiles of the batches as they flow through our model.\n",
    "\n",
    "If you'd like to learn more about whylogs, check out our [introductory notebook](https://github.com/whylabs/whylogs-examples/blob/mainline/python/GettingStarted.ipynb)."
   ]
  },
  {
   "cell_type": "code",
   "execution_count": null,
   "metadata": {
    "collapsed": false,
    "jupyter": {
     "outputs_hidden": false
    },
    "pycharm": {
     "name": "#%%\n"
    }
   },
   "outputs": [],
   "source": [
    "from whylogs import get_or_create_session\n",
    "\n",
    "session = get_or_create_session()\n",
    "summary = session.profile_dataframe(train, \"training-data\").flat_summary()['summary']\n",
    "\n",
    "summary"
   ]
  },
  {
   "cell_type": "markdown",
   "metadata": {
    "pycharm": {
     "name": "#%% md\n"
    }
   },
   "source": [
    "Now that we've taken a peek at our training data metrics, there's one last item on our to-do list: split the test data into batches, so we can feed them through our model later on."
   ]
  },
  {
   "cell_type": "code",
   "execution_count": null,
   "metadata": {},
   "outputs": [],
   "source": [
    "# Relocate predicted variable \"quality\" to y vectors\n",
    "train_x = train.drop([\"quality\"], axis=1).reset_index(drop=True)\n",
    "test_x = test.drop([\"quality\"], axis=1).reset_index(drop=True)\n",
    "train_y = train[[\"quality\"]].reset_index(drop=True)\n",
    "test_y = test[[\"quality\"]].reset_index(drop=True)\n",
    "\n",
    "subset_test_x = []\n",
    "subset_test_y = []\n",
    "num_batches = 20\n",
    "for i in range(num_batches):\n",
    "    indices = random.sample(range(len(test)), 5)\n",
    "    subset_test_x.append(test_x.loc[indices, :])\n",
    "    subset_test_y.append(test_y.loc[indices, :])"
   ]
  },
  {
   "cell_type": "markdown",
   "metadata": {},
   "source": [
    "# Train the model\n",
    "We'll train an ElasticNet model using scikit-learn, then run this model for each of the batches of data, logging the model parameters, mean absolute error, and whylogs data metrics.\n",
    "\n",
    "Note that whylogs profiler data is automatically logged when `mlflow.end_run()` is called (implicitly or explicitly)."
   ]
  },
  {
   "cell_type": "code",
   "execution_count": null,
   "metadata": {
    "collapsed": false,
    "jupyter": {
     "outputs_hidden": false
    },
    "pycharm": {
     "name": "#%%\n"
    }
   },
   "outputs": [],
   "source": [
    "# Create an MLflow experiment for our demo\n",
    "experiment_name = \"whylogs demo\"\n",
    "mlflow.set_experiment(experiment_name)\n",
    "\n",
    "model_params = {\"alpha\": 1.0,\n",
    "                \"l1_ratio\": 0.7}\n",
    "\n",
    "lr = ElasticNet(**model_params)\n",
    "lr.fit(train_x, train_y)\n",
    "print(\"ElasticNet model (%s):\" % model_params)"
   ]
  },
  {
   "cell_type": "code",
   "execution_count": null,
   "metadata": {},
   "outputs": [],
   "source": [
    "# run predictions on the batches of data we set up earlier and log whylogs data\n",
    "for i in range(num_batches):\n",
    "    with mlflow.start_run(run_name=f\"Run {i+1}\"):\n",
    "        batch = subset_test_x[i]\n",
    "        predicted_output = lr.predict(batch)\n",
    "\n",
    "        mae = mean_absolute_error(subset_test_y[i], predicted_output)\n",
    "        print(\"Subset %.0f, mean absolute error: %s\" % (i + 1, mae))\n",
    "\n",
    "        mlflow.log_params(model_params)\n",
    "        mlflow.log_metric(\"mae\", mae)\n",
    "\n",
    "        # use whylogs to log data quality metrics for the current batch\n",
    "        mlflow.whylogs.log_pandas(batch)\n",
    "\n",
    "        # wait a second between runs to create a time series of prediction results\n",
    "        time.sleep(1)"
   ]
  },
  {
   "cell_type": "markdown",
   "metadata": {},
   "source": [
    "# Accessing whylogs Data From Your Experiment\n",
    "Now, let's explore our whylogs data inside the MLflow experiment."
   ]
  },
  {
   "cell_type": "code",
   "execution_count": null,
   "metadata": {},
   "outputs": [],
   "source": [
    "client = mlflow.tracking.MlflowClient()\n",
    "experiment = client.get_experiment_by_name(experiment_name)\n",
    "experiment.name, experiment.experiment_id"
   ]
  },
  {
   "cell_type": "markdown",
   "metadata": {},
   "source": [
    "MLflow stores the data profiles as *artifacts*. These can be retrieved in the same way you access MLflow projects, parameters, and metrics.\n",
    "\n",
    "whylogs exposes helper API for accessing whylogs-specific output of an experiment."
   ]
  },
  {
   "cell_type": "code",
   "execution_count": null,
   "metadata": {},
   "outputs": [],
   "source": [
    "whylogs.mlflow.list_whylogs_runs(experiment.experiment_id)"
   ]
  },
  {
   "cell_type": "markdown",
   "metadata": {},
   "source": [
    "# Visualizing whylogs Data\n",
    "Our integration allows you to quickly collect the statistical profiles produced during experimentation."
   ]
  },
  {
   "cell_type": "code",
   "execution_count": null,
   "metadata": {
    "scrolled": true
   },
   "outputs": [],
   "source": [
    "mlflow_profiles = whylogs.mlflow.get_experiment_profiles(experiment.experiment_id)\n",
    "mlflow_profiles"
   ]
  },
  {
   "cell_type": "markdown",
   "metadata": {},
   "source": [
    "You can then use `whylogs.viz` to easily produce visualizations for the whylogs profile data.\n",
    "\n",
    "Below, you can see how the data changed over time in our batches for the column called `free sulfur dioxide`."
   ]
  },
  {
   "cell_type": "code",
   "execution_count": null,
   "metadata": {},
   "outputs": [],
   "source": [
    "from whylogs.viz import ProfileVisualizer\n",
    "\n",
    "viz = ProfileVisualizer()\n",
    "viz.set_profiles(mlflow_profiles)"
   ]
  },
  {
   "cell_type": "code",
   "execution_count": null,
   "metadata": {},
   "outputs": [],
   "source": [
    "viz.plot_distribution(\"free sulfur dioxide\", ts_format=\"%d-%b-%y %H:%M:%S\")"
   ]
  },
  {
   "cell_type": "code",
   "execution_count": null,
   "metadata": {},
   "outputs": [],
   "source": [
    "viz.plot_uniqueness(\"free sulfur dioxide\", ts_format=\"%d-%b-%y %H:%M:%S\")"
   ]
  },
  {
   "cell_type": "code",
   "execution_count": null,
   "metadata": {},
   "outputs": [],
   "source": [
    "viz.plot_missing_values(\"free sulfur dioxide\", ts_format=\"%d-%b-%y %H:%M:%S\")"
   ]
  },
  {
   "cell_type": "code",
   "execution_count": null,
   "metadata": {},
   "outputs": [],
   "source": [
    "viz.plot_data_types(\"free sulfur dioxide\", ts_format=\"%d-%b-%y %H:%M:%S\")"
   ]
  },
  {
   "cell_type": "markdown",
   "metadata": {
    "pycharm": {
     "name": "#%% md\n"
    }
   },
   "source": [
    "We can also plot the mean error of each run for comparison."
   ]
  },
  {
   "cell_type": "code",
   "execution_count": null,
   "metadata": {
    "collapsed": false,
    "jupyter": {
     "outputs_hidden": false
    },
    "pycharm": {
     "name": "#%%\n"
    }
   },
   "outputs": [],
   "source": [
    "import matplotlib.pyplot as plt\n",
    "\n",
    "plt.close('all')\n",
    "\n",
    "runs = mlflow.search_runs(experiment.experiment_id)\n",
    "plt.figure(figsize=(10,2))\n",
    "plt.plot(runs['start_time'], runs['metrics.mae'])\n",
    "plt.show()"
   ]
  },
  {
   "cell_type": "markdown",
   "metadata": {},
   "source": [
    "With whylogs, collecting and visualizing data quality metrics at both training and inference time for your MLflow runs is made dead simple. These metrics can be invaluable when trying to debug model failures or optimize their performance.\n",
    "\n",
    "whylogs data can be visualized in more complex ways. Check out [whylogs.viz](https://whylogs.readthedocs.io/en/latest/api/whylogs.viz.html) for details on the API.\n",
    "\n",
    "In addition, you can also check out how **WhyLabs** can help you visualize data quality metrics by visiting [our sandbox](http://try.whylabsapp.com/). Feel free to reach out to our [slack channel](http://join.slack.whylabs.ai/) if you have any questions!"
   ]
  }
 ],
 "metadata": {
  "kernelspec": {
   "display_name": "Python 3",
   "language": "python",
   "name": "python3"
  },
  "language_info": {
   "codemirror_mode": {
    "name": "ipython",
    "version": 3
   },
   "file_extension": ".py",
   "mimetype": "text/x-python",
   "name": "python",
   "nbconvert_exporter": "python",
   "pygments_lexer": "ipython3",
   "version": "3.8.10"
  }
 },
 "nbformat": 4,
 "nbformat_minor": 4
}
