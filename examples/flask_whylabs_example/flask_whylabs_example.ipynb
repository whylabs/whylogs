{
 "cells": [
  {
   "cell_type": "markdown",
   "id": "3b9c0243",
   "metadata": {},
   "source": [
    "# Flask + WhyLabs"
   ]
  },
  {
   "cell_type": "markdown",
   "id": "da0d282d-476c-4f09-a3a1-8eed85bda60f",
   "metadata": {},
   "source": [
    "This example shows how to deploy an app that integrates whylabs logging."
   ]
  },
  {
   "cell_type": "code",
   "execution_count": null,
   "id": "40e46a2e-56d6-4987-bcaf-e5a350ea2c29",
   "metadata": {},
   "outputs": [],
   "source": [
    "!pip install pandas joblib scikit-learn"
   ]
  },
  {
   "cell_type": "code",
   "execution_count": null,
   "id": "af4884f8",
   "metadata": {
    "tags": []
   },
   "outputs": [],
   "source": [
    "import os\n",
    "import json\n",
    "import random\n",
    "import datetime\n",
    "import numpy as np\n",
    "import time\n",
    "import urllib.request as urllib\n",
    "import requests\n",
    "import pandas as pd\n",
    "from joblib import dump\n",
    "from sklearn.svm import SVC\n",
    "from sklearn.model_selection import train_test_split"
   ]
  },
  {
   "cell_type": "markdown",
   "id": "cce7c893-936f-4b2e-ab43-6d1163c26635",
   "metadata": {
    "tags": []
   },
   "source": [
    "## Table of Contents\n",
    "- [1 - Train Model](#1)\n",
    "- [2 - Build a docker image with app](#2)\n",
    "- [3 - Run the container to serve the API](#3)\n",
    "- [4 - Test endpoint](#4)\n",
    "- [5 - Check WhyLabs Platform](#5)"
   ]
  },
  {
   "cell_type": "markdown",
   "id": "9b50321e-8be0-4605-a94e-2a62a8d4da85",
   "metadata": {},
   "source": [
    "<a name='1'></a>\n",
    "## 1 - Train Model"
   ]
  },
  {
   "cell_type": "markdown",
   "id": "c868f4c2-ab82-4f28-8bae-e495df181eac",
   "metadata": {
    "tags": []
   },
   "source": [
    "Download Iris Species dataset:"
   ]
  },
  {
   "cell_type": "code",
   "execution_count": null,
   "id": "0ab53966-96b4-4d87-9dc8-41063eb867df",
   "metadata": {},
   "outputs": [],
   "source": [
    "# Download Iris dataset and save it as csv\n",
    "url = \"https://archive.ics.uci.edu/ml/machine-learning-databases/iris/iris.data\"\n",
    "raw_data = urllib.urlopen(url)\n",
    "try:\n",
    "    os.mkdir(\"dataset/\")\n",
    "except Exception as e:\n",
    "    print(\" 'dataset' directory already existed. Moving forward\")\n",
    "# Save data as csv\n",
    "with open('dataset/Iris.csv', 'wb') as file:\n",
    "    file.write(raw_data.read())"
   ]
  },
  {
   "cell_type": "markdown",
   "id": "d13c9cbe-62cf-4771-87b2-db356bcbfc61",
   "metadata": {},
   "source": [
    "Split data set into train and test sets"
   ]
  },
  {
   "cell_type": "code",
   "execution_count": null,
   "id": "50c89082-c692-4d34-997b-bcf7249ebf8e",
   "metadata": {},
   "outputs": [],
   "source": [
    "data = pd.read_csv('dataset/Iris.csv', header=None)"
   ]
  },
  {
   "cell_type": "code",
   "execution_count": null,
   "id": "89032204-9c8a-4a15-9894-351b0852d90e",
   "metadata": {},
   "outputs": [],
   "source": [
    "# Separating the independent variables from dependent variables\n",
    "X = data.iloc[:, 0:4].values\n",
    "y = data.iloc[:, -1].values\n",
    "x_train, x_test, y_train, y_test = train_test_split(X, y, test_size=0.30, random_state=0)"
   ]
  },
  {
   "cell_type": "markdown",
   "id": "12684082-52cf-4bc6-bccd-493d890ba0f2",
   "metadata": {},
   "source": [
    "Train the SVM classifier"
   ]
  },
  {
   "cell_type": "code",
   "execution_count": null,
   "id": "ad2f60ac-a949-48fe-bab5-2820c7166535",
   "metadata": {},
   "outputs": [],
   "source": [
    "# Train a classifier\n",
    "print(\"Train started.\")\n",
    "model = SVC()\n",
    "model.fit(x_train, y_train)\n",
    "print(\"Train finished.\")\n",
    "# Save the model\n",
    "dump(model, 'model.joblib')\n",
    "print(\"Model saved as model.joblib\")"
   ]
  },
  {
   "cell_type": "markdown",
   "id": "f4cd57e2",
   "metadata": {
    "tags": []
   },
   "source": [
    "<a name='2'></a>\n",
    "## 2 - Build a docker image with app"
   ]
  },
  {
   "cell_type": "code",
   "execution_count": null,
   "id": "a5b79c0f-92b4-4a6f-b438-936043f32a72",
   "metadata": {},
   "outputs": [],
   "source": [
    "!docker build --build-arg PYTHON_VERSION=3.7 -t whylabs-flask ."
   ]
  },
  {
   "cell_type": "markdown",
   "id": "db160d66",
   "metadata": {
    "tags": []
   },
   "source": [
    "<a name='3'></a>\n",
    "## 3 - Run the container to serve the API"
   ]
  },
  {
   "cell_type": "markdown",
   "id": "f55c9096",
   "metadata": {},
   "source": [
    "Open a terminal and execute the following command:\n",
    "\n",
    "```bash\n",
    "docker run --rm -p 5000:5000 whylabs-flask\n",
    "```"
   ]
  },
  {
   "cell_type": "markdown",
   "id": "d2121916",
   "metadata": {
    "tags": []
   },
   "source": [
    "<a name='4'></a>\n",
    "## 4 - Test endpoint"
   ]
  },
  {
   "cell_type": "markdown",
   "id": "09bc4c3b",
   "metadata": {},
   "source": [
    "- Go to http://0.0.0.0:5000/apidocs/\n",
    "- Open /predict endpoint green tab.\n",
    "- Click Try it out.\n",
    "- Click Execute green button.\n",
    "- Check the response and code, if 200, the API is working!"
   ]
  },
  {
   "cell_type": "markdown",
   "id": "86a7ea86-0535-4115-9bee-4c486db95e6d",
   "metadata": {},
   "source": [
    "The following functions aim to modify the variables distribution in order to test whylabs."
   ]
  },
  {
   "cell_type": "code",
   "execution_count": null,
   "id": "d9733c72-b0e0-49bf-ae95-ec8c8e4f69ab",
   "metadata": {},
   "outputs": [],
   "source": [
    "def modify_random_column_values(data, value: float = np.random.uniform(low=0.0, high=10.0)) -> None:\n",
    "    random_column = None\n",
    "    data_mod = data.copy(deep=True)\n",
    "    try:\n",
    "        number_of_columns = len(data_mod.columns) - 2 # Index and label eliminated\n",
    "        random_column = data_mod.columns[np.random.randint(number_of_columns) + 1]\n",
    "        data_mod[random_column] = value\n",
    "    except Exception as ex:\n",
    "        raise f\"Error adding fix value in random column: {str(random_column)}\"\n",
    "    return data_mod\n",
    "        \n",
    "        \n",
    "def add_random_column_outliers(data, number_outliers: int = 10) -> None:\n",
    "    random_column = None\n",
    "    data_mod = data.copy(deep=True)\n",
    "    try:\n",
    "        number_of_columns = len(data_mod.columns) - 2  # Index and label eliminated\n",
    "        number_of_rows = data_mod.shape[0]\n",
    "        random_column = data_mod.columns[np.random.randint(number_of_columns) + 1]\n",
    "        for i in range(number_outliers):\n",
    "            random_row = np.random.randint(0, number_of_rows)\n",
    "            data_mod.loc[random_row, random_column] = round(np.random.uniform(low=20.0, high=50.0), 2)\n",
    "    except Exception as ex:\n",
    "        raise f\"Error adding outliers in random column: {random_column}\"\n",
    "    return data_mod"
   ]
  },
  {
   "cell_type": "markdown",
   "id": "7e421bc6-0208-4c2d-8a43-ff137d3120b4",
   "metadata": {},
   "source": [
    "Once it's working, you can try to send continous requests to the endpoint:"
   ]
  },
  {
   "cell_type": "code",
   "execution_count": null,
   "id": "b447c8e9-27ce-47d2-90f5-8213c4999979",
   "metadata": {},
   "outputs": [],
   "source": [
    "labels = [\"sepal_length_cm\", \"sepal_width_cm\", \"petal_length_cm\", \"petal_width_cm\"]"
   ]
  },
  {
   "cell_type": "code",
   "execution_count": null,
   "id": "4fc24b76-fd41-4aab-bfed-ecef7e4be008",
   "metadata": {},
   "outputs": [],
   "source": [
    "# modify a variable distribution\n",
    "data_mod = add_random_column_outliers(data, 30)\n",
    "print(\"Dataset distribution modified!\")"
   ]
  },
  {
   "cell_type": "code",
   "execution_count": null,
   "id": "1b0bcbda-09df-4ea3-b1f7-88cb08482a74",
   "metadata": {},
   "outputs": [],
   "source": [
    "url = \"http://0.0.0.0:5000/api/v1\""
   ]
  },
  {
   "cell_type": "code",
   "execution_count": null,
   "id": "26e40127-073e-45ce-bcad-49a2e627e48b",
   "metadata": {
    "tags": []
   },
   "outputs": [],
   "source": [
    "healthy = requests.get(f\"{url}/health\")\n",
    "if healthy.ok:\n",
    "    for k in range(data_mod.shape[0]):\n",
    "        # Build a payload with random values\n",
    "        payload = dict(zip(labels, data_mod.iloc[:, 0:4].values[k]))\n",
    "        print(payload)\n",
    "        response = requests.post(f\"{url}/predict\", json=payload)\n",
    "        if response.ok:\n",
    "            print(response.json())\n",
    "            time.sleep(5)"
   ]
  },
  {
   "cell_type": "markdown",
   "id": "07526f3f-8416-4ce5-bd7a-0751af354f08",
   "metadata": {},
   "source": [
    "<a name='5'></a>\n",
    "## 5 - Check WhyLabs Platform"
   ]
  },
  {
   "cell_type": "markdown",
   "id": "bc242397-de0a-4cc7-a4ba-5628e49cd9c3",
   "metadata": {},
   "source": [
    "- Go to https://hub.whylabsapp.com/models\n",
    "\n",
    "![WhyLabs Models page](assets/1.png)\n",
    "\n",
    "- Select your model (by default is model-1)\n",
    "\n",
    "![WhyLabs model-1 page](assets/2.png)\n",
    "\n",
    "- Select the feature of interest and explore\n",
    "\n",
    "![WhyLabs Feature page](assets/3.png)"
   ]
  }
 ],
 "metadata": {
  "kernelspec": {
   "display_name": "Python 3 (ipykernel)",
   "language": "python",
   "name": "python3"
  },
  "language_info": {
   "codemirror_mode": {
    "name": "ipython",
    "version": 3
   },
   "file_extension": ".py",
   "mimetype": "text/x-python",
   "name": "python",
   "nbconvert_exporter": "python",
   "pygments_lexer": "ipython3",
   "version": "3.7.11"
  }
 },
 "nbformat": 4,
 "nbformat_minor": 5
}
