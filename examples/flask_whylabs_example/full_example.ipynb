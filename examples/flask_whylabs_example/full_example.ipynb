{
 "cells": [
  {
   "cell_type": "markdown",
   "id": "3b9c0243",
   "metadata": {},
   "source": [
    "# Flask + WhyLabs"
   ]
  },
  {
   "cell_type": "markdown",
   "id": "da0d282d-476c-4f09-a3a1-8eed85bda60f",
   "metadata": {},
   "source": [
    "This example shows how to deploy an app that integrates whylabs logging."
   ]
  },
  {
   "cell_type": "code",
   "execution_count": 12,
   "id": "40e46a2e-56d6-4987-bcaf-e5a350ea2c29",
   "metadata": {},
   "outputs": [
    {
     "name": "stdout",
     "output_type": "stream",
     "text": [
      "Requirement already satisfied: pandas in /opt/anaconda3/envs/whylogs-flask/lib/python3.7/site-packages (1.3.3)\n",
      "Requirement already satisfied: joblib in /opt/anaconda3/envs/whylogs-flask/lib/python3.7/site-packages (1.0.1)\n",
      "Requirement already satisfied: scikit-learn in /opt/anaconda3/envs/whylogs-flask/lib/python3.7/site-packages (0.24.2)\n",
      "Requirement already satisfied: pytz>=2017.3 in /opt/anaconda3/envs/whylogs-flask/lib/python3.7/site-packages (from pandas) (2021.1)\n",
      "Requirement already satisfied: python-dateutil>=2.7.3 in /opt/anaconda3/envs/whylogs-flask/lib/python3.7/site-packages (from pandas) (2.8.2)\n",
      "Requirement already satisfied: numpy>=1.17.3 in /opt/anaconda3/envs/whylogs-flask/lib/python3.7/site-packages (from pandas) (1.21.2)\n",
      "Requirement already satisfied: six>=1.5 in /opt/anaconda3/envs/whylogs-flask/lib/python3.7/site-packages (from python-dateutil>=2.7.3->pandas) (1.16.0)\n",
      "Requirement already satisfied: threadpoolctl>=2.0.0 in /opt/anaconda3/envs/whylogs-flask/lib/python3.7/site-packages (from scikit-learn) (2.2.0)\n",
      "Requirement already satisfied: scipy>=0.19.1 in /opt/anaconda3/envs/whylogs-flask/lib/python3.7/site-packages (from scikit-learn) (1.7.1)\n"
     ]
    }
   ],
   "source": [
    "!pip install pandas joblib scikit-learn"
   ]
  },
  {
   "cell_type": "code",
   "execution_count": 13,
   "id": "af4884f8",
   "metadata": {
    "tags": []
   },
   "outputs": [],
   "source": [
    "import os\n",
    "import json\n",
    "import urllib.request as urllib\n",
    "import pandas as pd\n",
    "from joblib import dump\n",
    "from sklearn.svm import SVC\n",
    "from sklearn.model_selection import train_test_split"
   ]
  },
  {
   "cell_type": "markdown",
   "id": "cce7c893-936f-4b2e-ab43-6d1163c26635",
   "metadata": {
    "tags": []
   },
   "source": [
    "## Table of Contents\n",
    "- [1 - Train Model](#1)\n",
    "- [2 - Build a docker image with app](#2)\n",
    "- [3 - Run the container to serve the API](#3)\n",
    "- [4 - Test endpoint](#4)\n",
    "- [5 - Check WhyLabs Platform](#5)"
   ]
  },
  {
   "cell_type": "markdown",
   "id": "9b50321e-8be0-4605-a94e-2a62a8d4da85",
   "metadata": {},
   "source": [
    "<a name='1'></a>\n",
    "## 1 - Train Model"
   ]
  },
  {
   "cell_type": "markdown",
   "id": "c868f4c2-ab82-4f28-8bae-e495df181eac",
   "metadata": {
    "tags": []
   },
   "source": [
    "Download Iris Species dataset:"
   ]
  },
  {
   "cell_type": "code",
   "execution_count": 4,
   "id": "0ab53966-96b4-4d87-9dc8-41063eb867df",
   "metadata": {},
   "outputs": [
    {
     "name": "stdout",
     "output_type": "stream",
     "text": [
      " 'dataset' directory already existed. Moving forward\n"
     ]
    }
   ],
   "source": [
    "# Download Iris dataset and save it as csv\n",
    "url = \"https://archive.ics.uci.edu/ml/machine-learning-databases/iris/iris.data\"\n",
    "raw_data = urllib.urlopen(url)\n",
    "try:\n",
    "    os.mkdir(\"dataset/\")\n",
    "except Exception as e:\n",
    "    print(\" 'dataset' directory already existed. Moving forward\")\n",
    "# Save data as csv\n",
    "with open('dataset/Iris.csv', 'wb') as file:\n",
    "    file.write(raw_data.read())"
   ]
  },
  {
   "cell_type": "markdown",
   "id": "d13c9cbe-62cf-4771-87b2-db356bcbfc61",
   "metadata": {},
   "source": [
    "Split data set into train and test sets"
   ]
  },
  {
   "cell_type": "code",
   "execution_count": 5,
   "id": "752c41a5-58fe-44eb-b7ab-d5b5d1038373",
   "metadata": {},
   "outputs": [],
   "source": [
    "# Load data\n",
    "data = pd.read_csv('dataset/Iris.csv', header=None)\n",
    "# Separating the independent variables from dependent variables\n",
    "X = data.iloc[:, 0:4].values\n",
    "y = data.iloc[:, -1].values\n",
    "x_train, x_test, y_train, y_test = train_test_split(X, y, test_size=0.30)"
   ]
  },
  {
   "cell_type": "markdown",
   "id": "12684082-52cf-4bc6-bccd-493d890ba0f2",
   "metadata": {},
   "source": [
    "Train the SVM classifier"
   ]
  },
  {
   "cell_type": "code",
   "execution_count": 6,
   "id": "ad2f60ac-a949-48fe-bab5-2820c7166535",
   "metadata": {},
   "outputs": [
    {
     "name": "stdout",
     "output_type": "stream",
     "text": [
      "Train started.\n",
      "Train finished.\n",
      "Model saved as model.joblib\n"
     ]
    }
   ],
   "source": [
    "# Train a classifier\n",
    "print(\"Train started.\")\n",
    "model = SVC()\n",
    "model.fit(x_train, y_train)\n",
    "print(\"Train finished.\")\n",
    "# Save the model\n",
    "dump(model, 'model.joblib')\n",
    "print(\"Model saved as model.joblib\")"
   ]
  },
  {
   "cell_type": "markdown",
   "id": "f4cd57e2",
   "metadata": {
    "tags": []
   },
   "source": [
    "<a name='2'></a>\n",
    "## 2 - Build a docker image with app"
   ]
  },
  {
   "cell_type": "code",
   "execution_count": 7,
   "id": "a5b79c0f-92b4-4a6f-b438-936043f32a72",
   "metadata": {},
   "outputs": [
    {
     "name": "stdout",
     "output_type": "stream",
     "text": [
      "\u001b[1A\u001b[1B\u001b[0G\u001b[?25l[+] Building 0.0s (0/1)                                                         \n",
      "\u001b[?25h\u001b[1A\u001b[0G\u001b[?25l[+] Building 0.1s (2/3)                                                         \n",
      "\u001b[34m => [internal] load build definition from Dockerfile                       0.0s\n",
      "\u001b[0m\u001b[34m => => transferring dockerfile: 37B                                        0.0s\n",
      "\u001b[0m\u001b[34m => [internal] load .dockerignore                                          0.0s\n",
      "\u001b[0m\u001b[34m => => transferring context: 34B                                           0.0s\n",
      "\u001b[0m => [internal] load metadata for docker.io/library/python:3.7              0.0s\n",
      "\u001b[?25h\u001b[1A\u001b[1A\u001b[1A\u001b[1A\u001b[1A\u001b[1A\u001b[0G\u001b[?25l[+] Building 0.3s (10/11)                                                       \n",
      "\u001b[34m => [internal] load build definition from Dockerfile                       0.0s\n",
      "\u001b[0m\u001b[34m => => transferring dockerfile: 37B                                        0.0s\n",
      "\u001b[0m\u001b[34m => [internal] load .dockerignore                                          0.0s\n",
      "\u001b[0m\u001b[34m => => transferring context: 34B                                           0.0s\n",
      "\u001b[0m\u001b[34m => [internal] load metadata for docker.io/library/python:3.7              0.0s\n",
      "\u001b[0m\u001b[34m => [1/6] FROM docker.io/library/python:3.7                                0.0s\n",
      "\u001b[0m\u001b[34m => [internal] load build context                                          0.0s\n",
      "\u001b[0m\u001b[34m => => transferring context: 29.58kB                                       0.0s\n",
      "\u001b[0m\u001b[34m => CACHED [2/6] RUN mkdir /app                                            0.0s\n",
      "\u001b[0m\u001b[34m => CACHED [3/6] WORKDIR /app                                              0.0s\n",
      "\u001b[0m\u001b[34m => CACHED [4/6] COPY requirements.txt .                                   0.0s\n",
      "\u001b[0m\u001b[34m => CACHED [5/6] RUN pip install --no-cache-dir -r requirements.txt        0.0s\n",
      "\u001b[0m\u001b[34m => [6/6] COPY ./ /app                                                     0.0s\n",
      "\u001b[0m => exporting to image                                                     0.0s\n",
      "\u001b[34m => => exporting layers                                                    0.0s\n",
      "\u001b[0m => => writing image sha256:a629d321c09eeaae2529806a4ef1ac44cbfd9ab965be2  0.0s\n",
      "\u001b[?25h\u001b[1A\u001b[1A\u001b[1A\u001b[1A\u001b[1A\u001b[1A\u001b[1A\u001b[1A\u001b[1A\u001b[1A\u001b[1A\u001b[1A\u001b[1A\u001b[1A\u001b[1A\u001b[1A\u001b[1A\u001b[0G\u001b[?25l[+] Building 0.3s (11/11) FINISHED                                              \n",
      "\u001b[34m => [internal] load build definition from Dockerfile                       0.0s\n",
      "\u001b[0m\u001b[34m => => transferring dockerfile: 37B                                        0.0s\n",
      "\u001b[0m\u001b[34m => [internal] load .dockerignore                                          0.0s\n",
      "\u001b[0m\u001b[34m => => transferring context: 34B                                           0.0s\n",
      "\u001b[0m\u001b[34m => [internal] load metadata for docker.io/library/python:3.7              0.0s\n",
      "\u001b[0m\u001b[34m => [1/6] FROM docker.io/library/python:3.7                                0.0s\n",
      "\u001b[0m\u001b[34m => [internal] load build context                                          0.0s\n",
      "\u001b[0m\u001b[34m => => transferring context: 29.58kB                                       0.0s\n",
      "\u001b[0m\u001b[34m => CACHED [2/6] RUN mkdir /app                                            0.0s\n",
      "\u001b[0m\u001b[34m => CACHED [3/6] WORKDIR /app                                              0.0s\n",
      "\u001b[0m\u001b[34m => CACHED [4/6] COPY requirements.txt .                                   0.0s\n",
      "\u001b[0m\u001b[34m => CACHED [5/6] RUN pip install --no-cache-dir -r requirements.txt        0.0s\n",
      "\u001b[0m\u001b[34m => [6/6] COPY ./ /app                                                     0.0s\n",
      "\u001b[0m\u001b[34m => exporting to image                                                     0.0s\n",
      "\u001b[0m\u001b[34m => => exporting layers                                                    0.0s\n",
      "\u001b[0m\u001b[34m => => writing image sha256:a629d321c09eeaae2529806a4ef1ac44cbfd9ab965be2  0.0s\n",
      "\u001b[0m\u001b[34m => => naming to docker.io/library/whylabs-flask                           0.0s\n",
      "\u001b[0m\u001b[?25h"
     ]
    }
   ],
   "source": [
    "!docker build --build-arg PYTHON_VERSION=3.7 -t whylabs-flask ."
   ]
  },
  {
   "cell_type": "markdown",
   "id": "db160d66",
   "metadata": {
    "tags": []
   },
   "source": [
    "<a name='3'></a>\n",
    "## 3 - Run the container to serve the API"
   ]
  },
  {
   "cell_type": "markdown",
   "id": "f55c9096",
   "metadata": {},
   "source": [
    "Open a terminal and execute the following command:\n",
    "\n",
    "```bash\n",
    "docker run --rm -p 5000:5000 whylabs-flask\n",
    "```"
   ]
  },
  {
   "cell_type": "markdown",
   "id": "d2121916",
   "metadata": {
    "tags": []
   },
   "source": [
    "<a name='4'></a>\n",
    "## 4 - Test endpoint"
   ]
  },
  {
   "cell_type": "markdown",
   "id": "09bc4c3b",
   "metadata": {},
   "source": [
    "- Go to http://0.0.0.0:5000/apidocs/\n",
    "- Open /predict endpoint green tab.\n",
    "- Click Try it out.\n",
    "- Click Execute green button.\n",
    "- Check the response and code, if 200, the API is working!"
   ]
  },
  {
   "cell_type": "markdown",
   "id": "07526f3f-8416-4ce5-bd7a-0751af354f08",
   "metadata": {},
   "source": [
    "<a name='5'></a>\n",
    "## 5 - Check WhyLabs Platform"
   ]
  },
  {
   "cell_type": "markdown",
   "id": "bc242397-de0a-4cc7-a4ba-5628e49cd9c3",
   "metadata": {},
   "source": [
    "- Go to https://hub.whylabsapp.com/models\n",
    "\n",
    "![WhyLabs Models page](assets/1.png)\n",
    "\n",
    "- Select your model (by default is model-1)\n",
    "\n",
    "![WhyLabs model-1 page](assets/2.png)\n",
    "\n",
    "- Select the feature of interest and explore\n",
    "\n",
    "![WhyLabs Feature page](assets/3.png)"
   ]
  }
 ],
 "metadata": {
  "kernelspec": {
   "display_name": "Python 3 (ipykernel)",
   "language": "python",
   "name": "python3"
  },
  "language_info": {
   "codemirror_mode": {
    "name": "ipython",
    "version": 3
   },
   "file_extension": ".py",
   "mimetype": "text/x-python",
   "name": "python",
   "nbconvert_exporter": "python",
   "pygments_lexer": "ipython3",
   "version": "3.7.11"
  }
 },
 "nbformat": 4,
 "nbformat_minor": 5
}
