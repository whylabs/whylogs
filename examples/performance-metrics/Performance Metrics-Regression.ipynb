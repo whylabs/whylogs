{
 "cells": [
  {
   "cell_type": "markdown",
   "metadata": {},
   "source": [
    "# 🖥️ Monitoring Regression Model Performance Metrics"
   ]
  },
  {
   "cell_type": "markdown",
   "metadata": {},
   "source": [
    "In this tutorial, we'll show how you can log performance metrics of your ML Model with whylogs, and how to send it to your dashboard at Whylabs Platform.\n",
    "We'll follow a regression use case, where we're trying to predict the number of bike rides within the given hour, using data from [Kaggle's Bike Sharing Demand Dataset](https://www.kaggle.com/c/bike-sharing-demand).\n",
    "\n",
    "We will:\n",
    "- Download Bike data\n",
    "- Train a regression model with SKLearn\n",
    "- Log Input/Output features with whylogs\n",
    "- Log Performance Metrics (Targets and Predictions) with whylogs\n",
    "- Show Performance summary at WhyLabs"
   ]
  },
  {
   "cell_type": "markdown",
   "metadata": {},
   "source": [
    "# 🚴 The Data Story"
   ]
  },
  {
   "cell_type": "markdown",
   "metadata": {},
   "source": [
    "In this example, we want to predict the total count of bikes rented during each hour for a given city bikeshare system, using information available prior to the rental period.\n",
    "\n",
    "In real life, we may have the ground truths available only after a certain lag, and it is possible that only a subsample of the complete predictions will eventually be annotated. That is why WhyLabs enables you to decouple the logged features from the performance metrics, allowing you to send the metrics at different times and sizes.\n",
    "\n",
    "To simulate this scenario, we will log the input and output features for every prediction made and, subsequently, we'll also log the predictions, along with the ground truth, for only a subsample of the bike rides. Finally, we'll see how regression metrics are calculated and displayed from the logged information.\n",
    "\n",
    "### Data Fields\n",
    "\n",
    "* __datetime__ - hourly date + timestamp  \n",
    "* __season__\n",
    "    * 1 = spring\n",
    "    * 2 = summer\n",
    "    * 3 = fall\n",
    "    * 4 = winter \n",
    "* __holiday__ - whether the day is considered a holiday\n",
    "* __workingday__ - whether the day is neither a weekend nor holiday\n",
    "* __weather__\n",
    "    * 1: Clear, Few clouds, Partly cloudy, Partly cloudy\n",
    "    * 2: Mist + Cloudy, Mist + Broken clouds, Mist + Few clouds, Mist\n",
    "    * 3: Light Snow, Light Rain + Thunderstorm + Scattered clouds, Light Rain + Scattered clouds\n",
    "    * 4: Heavy Rain + Ice Pallets + Thunderstorm + Mist, Snow + Fog \n",
    "* __temp__ - temperature in Celsius\n",
    "* __atemp__ - \"feels like\" temperature in Celsius\n",
    "* __humidity__ - relative humidity\n",
    "* __windspeed__ - wind speed\n",
    "* __casual__ - number of non-registered user rentals initiated\n",
    "* __registered__ - number of registered user rentals initiated\n",
    "* __(target) count__ - number of total rentals\n",
    "\n",
    "For more information about the data, please check https://www.kaggle.com/c/bike-sharing-demand/data\n",
    "\n"
   ]
  },
  {
   "cell_type": "markdown",
   "metadata": {},
   "source": [
    "# Installing Required Packages"
   ]
  },
  {
   "cell_type": "code",
   "execution_count": 1,
   "metadata": {},
   "outputs": [],
   "source": [
    "%%sh\n",
    "pip install --upgrade pip -q\n",
    "pip install whylogs -U -q\n",
    "pip install sklearn -U -q"
   ]
  },
  {
   "cell_type": "markdown",
   "metadata": {},
   "source": [
    "# Fetching the Data"
   ]
  },
  {
   "cell_type": "markdown",
   "metadata": {},
   "source": [
    "Since we need the labels in order to calculate the metrics, we will train the model using only a fraction of the training set, and use the remainder of it as production data whose features and model performance we want to monitor."
   ]
  },
  {
   "cell_type": "code",
   "execution_count": 2,
   "metadata": {},
   "outputs": [
    {
     "data": {
      "text/html": [
       "<div>\n",
       "<style scoped>\n",
       "    .dataframe tbody tr th:only-of-type {\n",
       "        vertical-align: middle;\n",
       "    }\n",
       "\n",
       "    .dataframe tbody tr th {\n",
       "        vertical-align: top;\n",
       "    }\n",
       "\n",
       "    .dataframe thead th {\n",
       "        text-align: right;\n",
       "    }\n",
       "</style>\n",
       "<table border=\"1\" class=\"dataframe\">\n",
       "  <thead>\n",
       "    <tr style=\"text-align: right;\">\n",
       "      <th></th>\n",
       "      <th>datetime</th>\n",
       "      <th>season</th>\n",
       "      <th>holiday</th>\n",
       "      <th>workingday</th>\n",
       "      <th>weather</th>\n",
       "      <th>temp</th>\n",
       "      <th>atemp</th>\n",
       "      <th>humidity</th>\n",
       "      <th>windspeed</th>\n",
       "      <th>casual</th>\n",
       "      <th>registered</th>\n",
       "      <th>count</th>\n",
       "    </tr>\n",
       "  </thead>\n",
       "  <tbody>\n",
       "    <tr>\n",
       "      <th>8151</th>\n",
       "      <td>2012-07-01 00:00:00</td>\n",
       "      <td>3</td>\n",
       "      <td>0</td>\n",
       "      <td>0</td>\n",
       "      <td>1</td>\n",
       "      <td>31.16</td>\n",
       "      <td>36.365</td>\n",
       "      <td>66</td>\n",
       "      <td>0.0000</td>\n",
       "      <td>27</td>\n",
       "      <td>122</td>\n",
       "      <td>149</td>\n",
       "    </tr>\n",
       "    <tr>\n",
       "      <th>8152</th>\n",
       "      <td>2012-07-01 01:00:00</td>\n",
       "      <td>3</td>\n",
       "      <td>0</td>\n",
       "      <td>0</td>\n",
       "      <td>1</td>\n",
       "      <td>30.34</td>\n",
       "      <td>34.850</td>\n",
       "      <td>70</td>\n",
       "      <td>8.9981</td>\n",
       "      <td>12</td>\n",
       "      <td>81</td>\n",
       "      <td>93</td>\n",
       "    </tr>\n",
       "    <tr>\n",
       "      <th>8153</th>\n",
       "      <td>2012-07-01 02:00:00</td>\n",
       "      <td>3</td>\n",
       "      <td>0</td>\n",
       "      <td>0</td>\n",
       "      <td>1</td>\n",
       "      <td>29.52</td>\n",
       "      <td>34.850</td>\n",
       "      <td>74</td>\n",
       "      <td>6.0032</td>\n",
       "      <td>21</td>\n",
       "      <td>69</td>\n",
       "      <td>90</td>\n",
       "    </tr>\n",
       "    <tr>\n",
       "      <th>8154</th>\n",
       "      <td>2012-07-01 03:00:00</td>\n",
       "      <td>3</td>\n",
       "      <td>0</td>\n",
       "      <td>0</td>\n",
       "      <td>1</td>\n",
       "      <td>29.52</td>\n",
       "      <td>35.605</td>\n",
       "      <td>84</td>\n",
       "      <td>8.9981</td>\n",
       "      <td>6</td>\n",
       "      <td>27</td>\n",
       "      <td>33</td>\n",
       "    </tr>\n",
       "    <tr>\n",
       "      <th>8155</th>\n",
       "      <td>2012-07-01 04:00:00</td>\n",
       "      <td>3</td>\n",
       "      <td>0</td>\n",
       "      <td>0</td>\n",
       "      <td>1</td>\n",
       "      <td>28.70</td>\n",
       "      <td>33.335</td>\n",
       "      <td>79</td>\n",
       "      <td>12.9980</td>\n",
       "      <td>0</td>\n",
       "      <td>4</td>\n",
       "      <td>4</td>\n",
       "    </tr>\n",
       "  </tbody>\n",
       "</table>\n",
       "</div>"
      ],
      "text/plain": [
       "                 datetime  season  holiday  workingday  weather   temp  \\\n",
       "8151  2012-07-01 00:00:00       3        0           0        1  31.16   \n",
       "8152  2012-07-01 01:00:00       3        0           0        1  30.34   \n",
       "8153  2012-07-01 02:00:00       3        0           0        1  29.52   \n",
       "8154  2012-07-01 03:00:00       3        0           0        1  29.52   \n",
       "8155  2012-07-01 04:00:00       3        0           0        1  28.70   \n",
       "\n",
       "       atemp  humidity  windspeed  casual  registered  count  \n",
       "8151  36.365        66     0.0000      27         122    149  \n",
       "8152  34.850        70     8.9981      12          81     93  \n",
       "8153  34.850        74     6.0032      21          69     90  \n",
       "8154  35.605        84     8.9981       6          27     33  \n",
       "8155  33.335        79    12.9980       0           4      4  "
      ]
     },
     "execution_count": 2,
     "metadata": {},
     "output_type": "execute_result"
    }
   ],
   "source": [
    "import pandas as pd\n",
    "\n",
    "df = pd.read_csv(\"https://whylabs-public.s3.us-west-2.amazonaws.com/whylogs_examples/bike_sharing_2012.csv\")\n",
    "\n",
    "# This number (8151) is just to split right at the beginning of a given day (2012-07-01)\n",
    "df_val = df.iloc[8151:,:]\n",
    "df = df.iloc[:8151,:]\n",
    "df_val.head()"
   ]
  },
  {
   "cell_type": "markdown",
   "metadata": {},
   "source": [
    "Let's have a look at our training data. Our target feature is `count`."
   ]
  },
  {
   "cell_type": "code",
   "execution_count": 3,
   "metadata": {},
   "outputs": [
    {
     "name": "stdout",
     "output_type": "stream",
     "text": [
      "<class 'pandas.core.frame.DataFrame'>\n",
      "RangeIndex: 8151 entries, 0 to 8150\n",
      "Data columns (total 12 columns):\n",
      " #   Column      Non-Null Count  Dtype  \n",
      "---  ------      --------------  -----  \n",
      " 0   datetime    8151 non-null   object \n",
      " 1   season      8151 non-null   int64  \n",
      " 2   holiday     8151 non-null   int64  \n",
      " 3   workingday  8151 non-null   int64  \n",
      " 4   weather     8151 non-null   int64  \n",
      " 5   temp        8151 non-null   float64\n",
      " 6   atemp       8151 non-null   float64\n",
      " 7   humidity    8151 non-null   int64  \n",
      " 8   windspeed   8151 non-null   float64\n",
      " 9   casual      8151 non-null   int64  \n",
      " 10  registered  8151 non-null   int64  \n",
      " 11  count       8151 non-null   int64  \n",
      "dtypes: float64(3), int64(8), object(1)\n",
      "memory usage: 764.3+ KB\n"
     ]
    }
   ],
   "source": [
    "df.info()"
   ]
  },
  {
   "cell_type": "markdown",
   "metadata": {},
   "source": [
    "# 📖 Feature Preprocessing & Training the Model"
   ]
  },
  {
   "cell_type": "markdown",
   "metadata": {},
   "source": [
    "We will train a Random Forest regression model using SKLearn. But first, we'll do some basic preprocessing and feature transformation to better suit the data to our model.\n",
    "\n",
    "We won't get into the details of training the model in this example. However, the training code was heavily based on the content present in this [Kaggle Notebook](https://www.kaggle.com/rajmehra03/bike-sharing-demand-rmsle-0-3194/notebook), if you want more information on that (EDA included)."
   ]
  },
  {
   "cell_type": "markdown",
   "metadata": {},
   "source": [
    "Let's define a function to transform our features for both training and validation sets. In addition to the input and target features, we'll also need the timestamps to log it into daily batches. Our function will return these 3 variables."
   ]
  },
  {
   "cell_type": "code",
   "execution_count": 4,
   "metadata": {},
   "outputs": [],
   "source": [
    "def transform_features(df):\n",
    "    season=pd.get_dummies(df['season'],prefix='season')\n",
    "    df=pd.concat([df,season],axis=1)\n",
    "    weather=pd.get_dummies(df['weather'],prefix='weather')\n",
    "    df=pd.concat([df,weather],axis=1)\n",
    "    df.drop(['season','weather'],inplace=True,axis=1)\n",
    "    df[\"hour\"] = [t.hour for t in pd.DatetimeIndex(df.datetime)]\n",
    "    df[\"day\"] = [t.dayofweek for t in pd.DatetimeIndex(df.datetime)]\n",
    "    df[\"month\"] = [t.month for t in pd.DatetimeIndex(df.datetime)]\n",
    "    df['year'] = [t.year for t in pd.DatetimeIndex(df.datetime)]\n",
    "    df['year'] = df['year'].map({2011:0, 2012:1})\n",
    "    df.drop(['casual','registered'],axis=1,inplace=True)\n",
    "    df.columns.to_series().groupby(df.dtypes).groups\n",
    "    \n",
    "    # If given season or weather doesn't appear in the whole df, let's create an empty column for it\n",
    "    for i in range(0,5):\n",
    "        season_i = \"season_{}\".format(i)\n",
    "        weather_i = \"weather_{}\".format(i)\n",
    "        if season_i not in df.columns:\n",
    "            df[season_i]=0\n",
    "        if weather_i not in df.columns:\n",
    "            df[weather_i]=0\n",
    "\n",
    "    return df['datetime'],df.drop(['count','datetime'],axis=1),df['count']"
   ]
  },
  {
   "cell_type": "code",
   "execution_count": 5,
   "metadata": {},
   "outputs": [
    {
     "name": "stdout",
     "output_type": "stream",
     "text": [
      "0.33426422991287585\n"
     ]
    }
   ],
   "source": [
    "from sklearn.ensemble import RandomForestRegressor\n",
    "import numpy as np\n",
    "from sklearn.metrics import mean_squared_log_error\n",
    "\n",
    "_,x_train,y_train = transform_features(df)\n",
    "dates,x_val,y_val = transform_features(df_val)\n",
    "\n",
    "\n",
    "clf = RandomForestRegressor()\n",
    "clf.fit(x_train,y_train)\n",
    "\n",
    "x_val = x_val[x_train.columns]\n",
    "val_pred = clf.predict(x_val)\n",
    "rmsle = np.sqrt(mean_squared_log_error(val_pred,y_val))\n",
    "print(rmsle)\n"
   ]
  },
  {
   "cell_type": "markdown",
   "metadata": {},
   "source": [
    "# ✔️ Setup WhyLabs/Credentials"
   ]
  },
  {
   "cell_type": "markdown",
   "metadata": {},
   "source": [
    "In order to monitor our model's performance, let's first set up a WhyLabs account.\n",
    "We will need two pieces of information:\n",
    "\n",
    "- API token\n",
    "- Organization ID\n",
    "\n",
    "Go to https://whylabs.ai/free and grab a free account. You can follow along with the examples if you wish, but if you’re interested in only following this demonstration, you can go ahead and skip the quick start instructions.\n",
    "\n",
    "After that, you’ll be prompted to create an API token. Once you create it, copy and store it locally. The second important information here is your org ID. Take note of it as well. WhyLabs gives you an example code of how to create a session and send data to your dashboard. You can test it as well and check if data is getting through. Otherwise, after you get your API Token and Org ID, you can go to https://hub.whylabsapp.com/models to see your model’s dashboard. To get to this step, we used the [WhyLabs API Documentation](https://docs.whylabs.ai/docs/whylabs-api/), which also provides additional information about token creation and basic examples on how to use it.\n",
    "\n",
    "\n",
    "Now, when running the code below, you'll be prompted for your API token and ORG ID, which you just created."
   ]
  },
  {
   "cell_type": "code",
   "execution_count": 1,
   "metadata": {},
   "outputs": [
    {
     "name": "stdout",
     "output_type": "stream",
     "text": [
      "Enter your WhyLabs Org ID\n",
      "Enter your WhyLabs API key\n",
      "Using API Key ID:  xxtIbfnVKB\n"
     ]
    }
   ],
   "source": [
    "from datetime import time, timedelta\n",
    "import datetime\n",
    "from typing import Sequence\n",
    "from smart_open import open\n",
    "import pandas as pd\n",
    "import os\n",
    "from whylogs.app import Session\n",
    "from whylogs.app.writers import WhyLabsWriter\n",
    "import getpass\n",
    "\n",
    "\n",
    "\n",
    "# set your org-id here\n",
    "print(\"Enter your WhyLabs Org ID\")\n",
    "os.environ[\"WHYLABS_DEFAULT_ORG_ID\"] = input()\n",
    "\n",
    "# set your API key here\n",
    "print(\"Enter your WhyLabs API key\")\n",
    "os.environ[\"WHYLABS_API_KEY\"] = getpass.getpass()\n",
    "print(\"Using API Key ID: \", os.environ[\"WHYLABS_API_KEY\"][0:10])\n",
    "\n",
    "# Adding the WhyLabs Writer to utilize WhyLabs platform\n",
    "writer = WhyLabsWriter()\n",
    "\n",
    "session = Session(writers=[writer])"
   ]
  },
  {
   "cell_type": "markdown",
   "metadata": {},
   "source": [
    "# 📊 Profiling Input/Output Data"
   ]
  },
  {
   "cell_type": "markdown",
   "metadata": {},
   "source": [
    "We will first profile input/output data. Let's join the input features with the output feature, and then group the data according to the date.\n",
    "\n",
    "We will create profiles in a daily basis, for a period of 7 days. The original dates go from Feb-11-2012 to Feb-17-2012. However, let's bring this closer to the current date and shift the dates so data can be logged within the last 7 days."
   ]
  },
  {
   "cell_type": "code",
   "execution_count": 7,
   "metadata": {},
   "outputs": [],
   "source": [
    "'''\n",
    "features_df contains input features, as well as output features (predictions from the model).\n",
    "'''\n",
    "\n",
    "features_df = x_val\n",
    "# Adding 'output' in the output feature's name enables WhyLabs to recognize it as an output feature.  \n",
    "features_df['output_count'] = y_val\n",
    "features_df['date'] = dates\n",
    "features_df['date'] = pd.to_datetime(features_df['date'])"
   ]
  },
  {
   "cell_type": "markdown",
   "metadata": {},
   "source": [
    "Remember to input your `datasetId` to match your model's ID (If you just created your account, it will be `model-1`)"
   ]
  },
  {
   "cell_type": "code",
   "execution_count": 12,
   "metadata": {},
   "outputs": [
    {
     "name": "stdout",
     "output_type": "stream",
     "text": [
      "logging input/output features for day 0....\n",
      "logging input/output features for day 1....\n",
      "logging input/output features for day 2....\n",
      "logging input/output features for day 3....\n",
      "logging input/output features for day 4....\n",
      "logging input/output features for day 5....\n",
      "logging input/output features for day 6....\n"
     ]
    }
   ],
   "source": [
    "# Run whylogs on historical data and upload to WhyLabs.\n",
    "# Stick to data from the prior seven days for now.\n",
    "import datetime\n",
    "\n",
    "print(\"Enter your Dataset ID\")\n",
    "datasetID = input()\n",
    "\n",
    "\n",
    "now = datetime.datetime.now()\n",
    "for day in range(0, 7):\n",
    "    timestamp = now - timedelta(days=6) + timedelta(days=day)\n",
    "    #First day to log was 11 Feb, but we're logging as if it were 7 days ago. Adding 11 as offset\n",
    "    original_date = 11 + day\n",
    "    cond = (features_df['date'].dt.day==original_date) & (features_df['date'].dt.month==2)\n",
    "    daily_features = features_df.loc[cond]\n",
    "    # We don't need date anymore\n",
    "    daily_features = daily_features.drop(['date'],axis=1)\n",
    "\n",
    "    with session.logger(\n",
    "        # Note: 'datasetId' in whylogs maps to 'model-id' that is provided when you set up a model in WhyLabs\n",
    "        tags={\"datasetId\": datasetID}, dataset_timestamp=timestamp\n",
    "    ) as ylog:\n",
    "        print(\"logging input/output features for day {}....\".format(day))\n",
    "        ylog.log_dataframe(daily_features)"
   ]
  },
  {
   "cell_type": "markdown",
   "metadata": {},
   "source": [
    "# 📊 Profiling Model Metrics"
   ]
  },
  {
   "cell_type": "markdown",
   "metadata": {},
   "source": [
    "Labels might be available in a delayed manner, and in some cases only a subsample of the predictions will eventually be annotated. In this example, we'll log the metrics separately and only for a subsample of the predictions. The goal is to show that you're able to log standard features and metrics separately and of different sizes."
   ]
  },
  {
   "cell_type": "markdown",
   "metadata": {},
   "source": [
    "We'll basically repeat the process, but using `log_metrics` instead of `log_dataframe`. Let's assemble the labels, the predictions and the dates into a single dataframe, subsample it and then send it over to WhyLabs."
   ]
  },
  {
   "cell_type": "code",
   "execution_count": 13,
   "metadata": {},
   "outputs": [],
   "source": [
    "df_metrics = pd.DataFrame()\n",
    "df_metrics['label'] = y_val\n",
    "df_metrics['prediction'] = val_pred.astype(int)\n",
    "df_metrics['date'] = pd.to_datetime(dates)"
   ]
  },
  {
   "cell_type": "code",
   "execution_count": 14,
   "metadata": {},
   "outputs": [],
   "source": [
    "cond = (df_metrics['date'].dt.day>=11) & (df_metrics['date'].dt.month==2) & (df_metrics['date'].dt.day<18)\n",
    "df_metrics = df_metrics.loc[cond]\n"
   ]
  },
  {
   "cell_type": "code",
   "execution_count": 15,
   "metadata": {},
   "outputs": [],
   "source": [
    "metrics_subset = df_metrics.sample(frac=0.8)\n",
    "metrics_subset = metrics_subset.sort_values(by=[\"date\"])"
   ]
  },
  {
   "cell_type": "code",
   "execution_count": 16,
   "metadata": {},
   "outputs": [],
   "source": [
    "# Run whylogs on historical data and upload to WhyLabs.\n",
    "# Stick to data from the prior seven days for now.\n",
    "now = datetime.datetime.now()\n",
    "\n",
    "print(\"Enter your Dataset ID\")\n",
    "datasetID = input()\n",
    "\n",
    "for day in range(0, 7):\n",
    "    timestamp = now - timedelta(days=6) + timedelta(days=day)\n",
    "    original_date = 11 + day\n",
    "    cond = (df_metrics['date'].dt.day==original_date) & (df_metrics['date'].dt.month==2)\n",
    "    daily_metrics = df_metrics.loc[cond]\n",
    "    # We don't need date anymore\n",
    "    daily_metrics = daily_metrics.drop(['date'],axis=1)\n",
    "\n",
    "    with session.logger(\n",
    "        # Note: 'datasetId' in whylogs maps to 'model-id' that is provided when you set up a model in WhyLabs\n",
    "        tags={\"datasetId\": datasetID}, dataset_timestamp=timestamp\n",
    "    ) as ylog:\n",
    "        ylog.log_metrics(targets=daily_metrics[\"label\"].tolist(), \n",
    "                    predictions=daily_metrics[\"prediction\"].tolist(), \n",
    "                    target_field=\"count\",\n",
    "                    prediction_field=\"output_count\")"
   ]
  },
  {
   "cell_type": "code",
   "execution_count": 17,
   "metadata": {},
   "outputs": [],
   "source": [
    "#closing the session once we're done.\n",
    "session.close()"
   ]
  },
  {
   "cell_type": "markdown",
   "metadata": {},
   "source": [
    "At your model's dashboard, you should see the model metrics for the last seven days. For regression, the displayed metrics are:\n",
    "\n",
    "- Total output and input count\n",
    "- Mean Squared Error\n",
    "- Mean Absolute Error\n",
    "- Root Mean Squared Error"
   ]
  },
  {
   "cell_type": "markdown",
   "metadata": {},
   "source": [
    "![alt text](images/regression_metrics.png)\n"
   ]
  }
 ],
 "metadata": {
  "interpreter": {
   "hash": "323493c40bedb65fef2eec2a6e595ce0cca722dcb720da40c0d127c8422c938f"
  },
  "kernelspec": {
   "display_name": "Python 3.8.10 ('base')",
   "language": "python",
   "name": "python3"
  },
  "language_info": {
   "codemirror_mode": {
    "name": "ipython",
    "version": 3
   },
   "file_extension": ".py",
   "mimetype": "text/x-python",
   "name": "python",
   "nbconvert_exporter": "python",
   "pygments_lexer": "ipython3",
   "version": "3.8.10"
  },
  "orig_nbformat": 4
 },
 "nbformat": 4,
 "nbformat_minor": 2
}
