{
 "cells": [
  {
   "cell_type": "code",
   "execution_count": 6,
   "metadata": {},
   "outputs": [
    {
     "name": "stdout",
     "output_type": "stream",
     "text": [
      "Note: you may need to restart the kernel to use updated packages.\n"
     ]
    }
   ],
   "source": [
    "%pip install whylogs pandas numpy -qq"
   ]
  },
  {
   "cell_type": "code",
   "execution_count": null,
   "metadata": {},
   "outputs": [],
   "source": [
    "from typing import Any\n",
    "import pandas as pd\n",
    "import numpy as np\n",
    "\n",
    "def load_testing_data() -> pd.DataFrame:  # TODO remove after user testing\n",
    "    data = pd.read_csv(\"https://guest-session-testing-public.s3.us-west-2.amazonaws.com/adult_income_m.csv\")\n",
    "\n",
    "    def convert_random_values(value: Any) -> Any:\n",
    "        if isinstance(value, int) and np.random.random() < 1 / 100:\n",
    "            return str(value)\n",
    "        return value\n",
    "\n",
    "    data[\"capital-gain\"] = data[\"capital-loss\"].apply(convert_random_values)\n",
    "    data[\"capital-loss\"] = data[\"capital-loss\"].apply(convert_random_values)\n",
    "    return data\n",
    "\n",
    "\n",
    "df = load_testing_data()"
   ]
  },
  {
   "cell_type": "code",
   "execution_count": 1,
   "metadata": {},
   "outputs": [
    {
     "name": "stdout",
     "output_type": "stream",
     "text": [
      "Initialized anonymous session with id session-dwZsmq in config /home/anthony/.config/whylogs/config.ini\n"
     ]
    }
   ],
   "source": [
    "import whylogs as why\n",
    "from whylogs.api.whylabs.session.session_manager import SessionType\n",
    "\n",
    "why.init(session_type=SessionType.WHYLABS_ANONYMOUS)\n",
    "\n",
    "# Also works as a string so we can avoid extra imports in examples\n",
    "why.init(session_type='whylabs_anonymous')\n",
    "\n"
   ]
  },
  {
   "cell_type": "code",
   "execution_count": 5,
   "metadata": {},
   "outputs": [
    {
     "name": "stdout",
     "output_type": "stream",
     "text": [
      "✅ Aggregated 48842 rows into profile 'foo'\n",
      "\n",
      "Visualize and explore this profile with one-click\n",
      "🔍 https://hub.whylabsapp.com/resources/model-1/profiles?sessionToken=session-dwZsmq&profile=ref-Ah2mNAamzboNCYLy\n"
     ]
    },
    {
     "data": {
      "text/plain": [
       "<whylogs.api.logger.result_set.ProfileResultSet at 0x7fe9c0262080>"
      ]
     },
     "execution_count": 5,
     "metadata": {},
     "output_type": "execute_result"
    }
   ],
   "source": [
    "why.log(df, name=\"foo\")"
   ]
  },
  {
   "cell_type": "code",
   "execution_count": 4,
   "metadata": {},
   "outputs": [
    {
     "name": "stdout",
     "output_type": "stream",
     "text": [
      "✅ Aggregated 48842 lines into profile 'foo', 48842 lines into profile 'bar'\n",
      "\n",
      "Visualize and explore the profiles with one-click\n",
      "🔍 https://hub.whylabsapp.com/resources/model-1/profiles?sessionToken=session-dwZsmq&profile=ref-iHwnpzHuGvbl6aNX&profile=ref-dU6akws6kxtXTrNH\n",
      "\n",
      "Or view each profile individually\n",
      " ⤷ https://hub.whylabsapp.com/resources/model-1/profiles?profile=ref-iHwnpzHuGvbl6aNX&sessionToken=session-dwZsmq\n",
      " ⤷ https://hub.whylabsapp.com/resources/model-1/profiles?profile=ref-dU6akws6kxtXTrNH&sessionToken=session-dwZsmq\n"
     ]
    },
    {
     "data": {
      "text/plain": [
       "<whylogs.api.logger.result_set.ViewResultSet at 0x7fe9674c6c80>"
      ]
     },
     "execution_count": 4,
     "metadata": {},
     "output_type": "execute_result"
    }
   ],
   "source": [
    "why.log(multiple={'foo': df, 'bar': df}) "
   ]
  }
 ],
 "metadata": {
  "kernelspec": {
   "display_name": ".venv",
   "language": "python",
   "name": "python3"
  },
  "language_info": {
   "codemirror_mode": {
    "name": "ipython",
    "version": 3
   },
   "file_extension": ".py",
   "mimetype": "text/x-python",
   "name": "python",
   "nbconvert_exporter": "python",
   "pygments_lexer": "ipython3",
   "version": "3.10.11"
  }
 },
 "nbformat": 4,
 "nbformat_minor": 2
}
