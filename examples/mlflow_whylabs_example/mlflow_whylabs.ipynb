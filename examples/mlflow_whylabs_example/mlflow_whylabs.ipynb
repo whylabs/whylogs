{
 "cells": [
  {
   "cell_type": "markdown",
   "metadata": {},
   "source": [
    "# MLFlow + WhyLabs Integration"
   ]
  },
  {
   "cell_type": "markdown",
   "metadata": {},
   "source": [
    "This tutorial showcases how you can use the whylabs integration to:\n",
    "* Capture data quality metrics while training a linear regression model in `mlflow`\n",
    "* Extract whylogs data back into an in-memory format from the MLflow backend\n",
    "* Log same data back into whylabs platform."
   ]
  },
  {
   "cell_type": "markdown",
   "metadata": {},
   "source": [
    "# Getting Started"
   ]
  },
  {
   "cell_type": "markdown",
   "metadata": {},
   "source": [
    "To run this tutorial:\n",
    "* Create and then activate the conda environment included using `environment.yml` file and run this notebook using this new environment `whylabs-mlflow` as kernel.\n",
    "* You'll need to install pip into the conda environment using `conda install pip`"
   ]
  },
  {
   "cell_type": "markdown",
   "metadata": {},
   "source": [
    "# Setup\n",
    "First, we want to filter out noisy warnings"
   ]
  },
  {
   "cell_type": "code",
   "execution_count": 1,
   "metadata": {},
   "outputs": [],
   "source": [
    "import logging\n",
    "logging.basicConfig(level=logging.INFO)"
   ]
  },
  {
   "cell_type": "code",
   "execution_count": 2,
   "metadata": {
    "tags": []
   },
   "outputs": [],
   "source": [
    "import os\n",
    "import random\n",
    "import datetime\n",
    "import random\n",
    "import time\n",
    "import math\n",
    "import numpy as np\n",
    "import pandas as pd\n",
    "import mlflow\n",
    "import whylogs\n",
    "from sklearn.model_selection import KFold\n",
    "from sklearn.metrics import mean_absolute_error\n",
    "from sklearn.model_selection import train_test_split\n",
    "from sklearn.linear_model import ElasticNet\n",
    "from whylogs import get_or_create_session\n",
    "from dotenv import load_dotenv"
   ]
  },
  {
   "cell_type": "code",
   "execution_count": 3,
   "metadata": {},
   "outputs": [
    {
     "data": {
      "text/plain": [
       "True"
      ]
     },
     "execution_count": 3,
     "metadata": {},
     "output_type": "execute_result"
    }
   ],
   "source": [
    "load_dotenv()"
   ]
  },
  {
   "cell_type": "code",
   "execution_count": 4,
   "metadata": {},
   "outputs": [],
   "source": [
    "assert whylogs.__version__ >= \"0.1.13\" # we need 0.1.13 or later for MLflow integration"
   ]
  },
  {
   "cell_type": "code",
   "execution_count": 5,
   "metadata": {},
   "outputs": [],
   "source": [
    "pd.options.mode.chained_assignment = None  # default='warn'"
   ]
  },
  {
   "cell_type": "markdown",
   "metadata": {
    "tags": []
   },
   "source": [
    "# Enable whylogs Integration\n",
    "\n",
    "Enable whylogs in MLflow to allow storing whylogs statistical profiles with every run. This method returns `True` if whylogs is able to patch MLflow. You might want to pass a session"
   ]
  },
  {
   "cell_type": "code",
   "execution_count": 6,
   "metadata": {},
   "outputs": [
    {
     "data": {
      "text/plain": [
       "True"
      ]
     },
     "execution_count": 6,
     "metadata": {},
     "output_type": "execute_result"
    }
   ],
   "source": [
    "session = get_or_create_session(\".whylogs.yaml\")\n",
    "whylogs.enable_mlflow(session)"
   ]
  },
  {
   "cell_type": "markdown",
   "metadata": {
    "tags": []
   },
   "source": [
    "# Dataset Preparation\n",
    "\n",
    "Download and prepare the UCI wine quality dataset. We sample the test dataset further to represent batches of data produced every second."
   ]
  },
  {
   "cell_type": "code",
   "execution_count": 7,
   "metadata": {
    "pycharm": {
     "name": "#%%\n"
    },
    "tags": []
   },
   "outputs": [
    {
     "data": {
      "text/html": [
       "<div>\n",
       "<style scoped>\n",
       "    .dataframe tbody tr th:only-of-type {\n",
       "        vertical-align: middle;\n",
       "    }\n",
       "\n",
       "    .dataframe tbody tr th {\n",
       "        vertical-align: top;\n",
       "    }\n",
       "\n",
       "    .dataframe thead th {\n",
       "        text-align: right;\n",
       "    }\n",
       "</style>\n",
       "<table border=\"1\" class=\"dataframe\">\n",
       "  <thead>\n",
       "    <tr style=\"text-align: right;\">\n",
       "      <th></th>\n",
       "      <th>fixed acidity</th>\n",
       "      <th>volatile acidity</th>\n",
       "      <th>citric acid</th>\n",
       "      <th>residual sugar</th>\n",
       "      <th>chlorides</th>\n",
       "      <th>free sulfur dioxide</th>\n",
       "      <th>total sulfur dioxide</th>\n",
       "      <th>density</th>\n",
       "      <th>pH</th>\n",
       "      <th>sulphates</th>\n",
       "      <th>alcohol</th>\n",
       "      <th>quality</th>\n",
       "    </tr>\n",
       "  </thead>\n",
       "  <tbody>\n",
       "    <tr>\n",
       "      <th>0</th>\n",
       "      <td>7.4</td>\n",
       "      <td>0.70</td>\n",
       "      <td>0.00</td>\n",
       "      <td>1.9</td>\n",
       "      <td>0.076</td>\n",
       "      <td>11.0</td>\n",
       "      <td>34.0</td>\n",
       "      <td>0.9978</td>\n",
       "      <td>3.51</td>\n",
       "      <td>0.56</td>\n",
       "      <td>9.4</td>\n",
       "      <td>5</td>\n",
       "    </tr>\n",
       "    <tr>\n",
       "      <th>1</th>\n",
       "      <td>7.8</td>\n",
       "      <td>0.88</td>\n",
       "      <td>0.00</td>\n",
       "      <td>2.6</td>\n",
       "      <td>0.098</td>\n",
       "      <td>25.0</td>\n",
       "      <td>67.0</td>\n",
       "      <td>0.9968</td>\n",
       "      <td>3.20</td>\n",
       "      <td>0.68</td>\n",
       "      <td>9.8</td>\n",
       "      <td>5</td>\n",
       "    </tr>\n",
       "    <tr>\n",
       "      <th>2</th>\n",
       "      <td>7.8</td>\n",
       "      <td>0.76</td>\n",
       "      <td>0.04</td>\n",
       "      <td>2.3</td>\n",
       "      <td>0.092</td>\n",
       "      <td>15.0</td>\n",
       "      <td>54.0</td>\n",
       "      <td>0.9970</td>\n",
       "      <td>3.26</td>\n",
       "      <td>0.65</td>\n",
       "      <td>9.8</td>\n",
       "      <td>5</td>\n",
       "    </tr>\n",
       "    <tr>\n",
       "      <th>3</th>\n",
       "      <td>11.2</td>\n",
       "      <td>0.28</td>\n",
       "      <td>0.56</td>\n",
       "      <td>1.9</td>\n",
       "      <td>0.075</td>\n",
       "      <td>17.0</td>\n",
       "      <td>60.0</td>\n",
       "      <td>0.9980</td>\n",
       "      <td>3.16</td>\n",
       "      <td>0.58</td>\n",
       "      <td>9.8</td>\n",
       "      <td>6</td>\n",
       "    </tr>\n",
       "    <tr>\n",
       "      <th>4</th>\n",
       "      <td>7.4</td>\n",
       "      <td>0.70</td>\n",
       "      <td>0.00</td>\n",
       "      <td>1.9</td>\n",
       "      <td>0.076</td>\n",
       "      <td>11.0</td>\n",
       "      <td>34.0</td>\n",
       "      <td>0.9978</td>\n",
       "      <td>3.51</td>\n",
       "      <td>0.56</td>\n",
       "      <td>9.4</td>\n",
       "      <td>5</td>\n",
       "    </tr>\n",
       "  </tbody>\n",
       "</table>\n",
       "</div>"
      ],
      "text/plain": [
       "   fixed acidity  volatile acidity  citric acid  residual sugar  chlorides  \\\n",
       "0            7.4              0.70         0.00             1.9      0.076   \n",
       "1            7.8              0.88         0.00             2.6      0.098   \n",
       "2            7.8              0.76         0.04             2.3      0.092   \n",
       "3           11.2              0.28         0.56             1.9      0.075   \n",
       "4            7.4              0.70         0.00             1.9      0.076   \n",
       "\n",
       "   free sulfur dioxide  total sulfur dioxide  density    pH  sulphates  \\\n",
       "0                 11.0                  34.0   0.9978  3.51       0.56   \n",
       "1                 25.0                  67.0   0.9968  3.20       0.68   \n",
       "2                 15.0                  54.0   0.9970  3.26       0.65   \n",
       "3                 17.0                  60.0   0.9980  3.16       0.58   \n",
       "4                 11.0                  34.0   0.9978  3.51       0.56   \n",
       "\n",
       "   alcohol  quality  \n",
       "0      9.4        5  \n",
       "1      9.8        5  \n",
       "2      9.8        5  \n",
       "3      9.8        6  \n",
       "4      9.4        5  "
      ]
     },
     "execution_count": 7,
     "metadata": {},
     "output_type": "execute_result"
    }
   ],
   "source": [
    "data = pd.read_csv(os.environ[\"DATASET_URL\"], sep=\";\")\n",
    "data.head()"
   ]
  },
  {
   "cell_type": "code",
   "execution_count": 8,
   "metadata": {},
   "outputs": [],
   "source": [
    "# Split the data into training and test sets\n",
    "train, test = train_test_split(data)"
   ]
  },
  {
   "cell_type": "code",
   "execution_count": 9,
   "metadata": {},
   "outputs": [],
   "source": [
    "# Relocate predicted variable \"quality\" to y vectors\n",
    "train_x = train.drop([\"quality\"], axis=1).reset_index(drop=True)\n",
    "test_x = test.drop([\"quality\"], axis=1).reset_index(drop=True)\n",
    "train_y = train[[\"quality\"]].reset_index(drop=True)\n",
    "test_y = test[[\"quality\"]].reset_index(drop=True)"
   ]
  },
  {
   "cell_type": "markdown",
   "metadata": {},
   "source": [
    "## Train a model"
   ]
  },
  {
   "cell_type": "markdown",
   "metadata": {},
   "source": [
    "Now, we split the data to simulate multiple machine learning model learning looking for the best hyperparameters (simulation of an hyperparameter optimization processs).\n",
    "\n",
    "First, we split our test sets data to test every algorithm (also, for testing whylogs ability to log dataframes)."
   ]
  },
  {
   "cell_type": "code",
   "execution_count": 10,
   "metadata": {},
   "outputs": [],
   "source": [
    "# Create an MLflow experiment for our demo\n",
    "experiment_name = \"whylogs demo\"\n",
    "mlflow.set_experiment(experiment_name)\n",
    "\n",
    "model_params = {\"alpha\": 1.0,\n",
    "                \"l1_ratio\": 0.7}"
   ]
  },
  {
   "cell_type": "markdown",
   "metadata": {},
   "source": [
    "We can further evaluate the model performance using crossvalidation with 10 folds without overlapping, taking each batch, evaluating the model and then averaging the metrics obtained for each batch.\n",
    "\n",
    "It's essential to index the data given a timestamp index because information is indexed by timestamp in WhyLabs Platform.\n",
    "\n",
    "Note that whylogs profiler data is automatically logged when mlflow.end_run() is called implicitly."
   ]
  },
  {
   "cell_type": "code",
   "execution_count": 11,
   "metadata": {},
   "outputs": [
    {
     "name": "stderr",
     "output_type": "stream",
     "text": [
      "WARNING:whylogs:Using API key ID: 5ISuDTANMy\n"
     ]
    },
    {
     "name": "stdout",
     "output_type": "stream",
     "text": [
      "ElasticNet model ({'alpha': 1.0, 'l1_ratio': 0.7}):\n",
      "Subset 1, mean absolute error: 0.6158390347936468\n",
      "ElasticNet model ({'alpha': 1.0, 'l1_ratio': 0.7}):\n",
      "Subset 2, mean absolute error: 0.6297893893637718\n",
      "ElasticNet model ({'alpha': 1.0, 'l1_ratio': 0.7}):\n",
      "Subset 3, mean absolute error: 0.7512321484795857\n",
      "ElasticNet model ({'alpha': 1.0, 'l1_ratio': 0.7}):\n",
      "Subset 4, mean absolute error: 0.6850834893467308\n",
      "ElasticNet model ({'alpha': 1.0, 'l1_ratio': 0.7}):\n",
      "Subset 5, mean absolute error: 0.638706448034305\n",
      "ElasticNet model ({'alpha': 1.0, 'l1_ratio': 0.7}):\n",
      "Subset 6, mean absolute error: 0.6414529883419526\n",
      "ElasticNet model ({'alpha': 1.0, 'l1_ratio': 0.7}):\n",
      "Subset 7, mean absolute error: 0.6434871133311749\n",
      "ElasticNet model ({'alpha': 1.0, 'l1_ratio': 0.7}):\n",
      "Subset 8, mean absolute error: 0.667673330786725\n",
      "ElasticNet model ({'alpha': 1.0, 'l1_ratio': 0.7}):\n",
      "Subset 9, mean absolute error: 0.7130783318021062\n",
      "ElasticNet model ({'alpha': 1.0, 'l1_ratio': 0.7}):\n",
      "Subset 10, mean absolute error: 0.5760700123388525\n"
     ]
    }
   ],
   "source": [
    "n_folds = 10\n",
    "kf = KFold(n_splits=n_folds)\n",
    "mae_v = []\n",
    "for i, (train_index, test_index) in enumerate(kf.split(train_x)):\n",
    "    with mlflow.start_run(run_name=f\"Run {i + 1}\"):        \n",
    "        X_train, X_test = train_x.loc[train_index], train_x.loc[test_index]\n",
    "        y_train, y_test = train_y.loc[train_index], train_y.loc[test_index]\n",
    "        \n",
    "        # Train a model with each split\n",
    "        lr = ElasticNet(**model_params)\n",
    "        lr.fit(X_train, y_train)\n",
    "        print(\"ElasticNet model (%s):\" % model_params)\n",
    "        \n",
    "        # Evaluate trained model \n",
    "        predicted_output = lr.predict(X_test)\n",
    "        mae = mean_absolute_error(y_test, predicted_output)\n",
    "\n",
    "        # Log to mlflow the hyperparameters and evaluation metric\n",
    "        mlflow.log_params(model_params)\n",
    "        mlflow.log_metric(\"mae\", mae)\n",
    "        X_test[0, \"mae\"] = mae\n",
    "        \n",
    "        for k, v in model_params.items():\n",
    "            train_x.iloc[test_index][k] = v\n",
    "        \n",
    "        # use whylogs to log data quality metrics for the current batch\n",
    "        mlflow.whylogs.log_pandas(\n",
    "            train_x.iloc[test_index], \n",
    "            datetime.datetime.now(datetime.timezone.utc) - datetime.timedelta(days=i)\n",
    "        )\n",
    "        print(\"Subset %.0f, mean absolute error: %s\" % (i + 1, mae))\n",
    "        mae_v.append(mae)\n"
   ]
  },
  {
   "cell_type": "markdown",
   "metadata": {},
   "source": []
  }
 ],
 "metadata": {
  "kernelspec": {
   "display_name": "Python 3",
   "language": "python",
   "name": "python3"
  },
  "language_info": {
   "codemirror_mode": {
    "name": "ipython",
    "version": 3
   },
   "file_extension": ".py",
   "mimetype": "text/x-python",
   "name": "python",
   "nbconvert_exporter": "python",
   "pygments_lexer": "ipython3",
   "version": "3.7.11"
  }
 },
 "nbformat": 4,
 "nbformat_minor": 4
}
