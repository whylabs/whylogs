{
 "cells": [
  {
   "cell_type": "markdown",
   "metadata": {},
   "source": [
    "# MLFlow + WhyLabs Integration"
   ]
  },
  {
   "cell_type": "markdown",
   "metadata": {},
   "source": [
    "This tutorial showcases how you can use the whylabs integration to:\n",
    "* Capture data quality metrics while training a linear regression model in `mlflow`\n",
    "* Extract whylogs data back into an in-memory format from the MLflow backend\n",
    "* Log same data back into whylabs platform."
   ]
  },
  {
   "cell_type": "markdown",
   "metadata": {},
   "source": [
    "# Getting Started"
   ]
  },
  {
   "cell_type": "markdown",
   "metadata": {},
   "source": [
    "To run this tutorial:\n",
    "* Create and then activate the conda environment included using `environment.yml` file and run this notebook using this new environment `whylabs-mlflow` as kernel.\n",
    "* You'll need to install pip into the conda environment using `conda install pip`"
   ]
  },
  {
   "cell_type": "markdown",
   "metadata": {},
   "source": [
    "!pip install mlflow whylogs scikit-learn"
   ]
  },
  {
   "cell_type": "markdown",
   "metadata": {},
   "source": [
    "# Setup\n",
    "First, we want to filter out noisy warnings"
   ]
  },
  {
   "cell_type": "code",
   "execution_count": 1,
   "metadata": {},
   "outputs": [],
   "source": [
    "import logging\n",
    "logging.basicConfig(level=logging.DEBUG)"
   ]
  },
  {
   "cell_type": "code",
   "execution_count": 2,
   "metadata": {
    "tags": []
   },
   "outputs": [
    {
     "name": "stderr",
     "output_type": "stream",
     "text": [
      "DEBUG:whylogs.core.datasetprofile:No module named 'cudf'\n",
      "DEBUG:whylogs.core.datasetprofile:Failed to import CudaDataFrame. Install cudf for CUDA support\n"
     ]
    }
   ],
   "source": [
    "import os\n",
    "import datetime\n",
    "import random\n",
    "import time\n",
    "import pandas as pd\n",
    "import mlflow\n",
    "import whylogs\n",
    "from sklearn.metrics import mean_absolute_error\n",
    "from sklearn.model_selection import train_test_split\n",
    "from sklearn.linear_model import ElasticNet\n",
    "from whylogs import get_or_create_session\n",
    "from dotenv import load_dotenv"
   ]
  },
  {
   "cell_type": "code",
   "execution_count": 3,
   "metadata": {},
   "outputs": [
    {
     "data": {
      "text/plain": [
       "True"
      ]
     },
     "execution_count": 3,
     "metadata": {},
     "output_type": "execute_result"
    }
   ],
   "source": [
    "load_dotenv()"
   ]
  },
  {
   "cell_type": "code",
   "execution_count": 4,
   "metadata": {},
   "outputs": [],
   "source": [
    "assert whylogs.__version__ >= \"0.1.13\" # we need 0.1.13 or later for MLflow integration"
   ]
  },
  {
   "cell_type": "markdown",
   "metadata": {
    "tags": []
   },
   "source": [
    "# Enable whylogs Integration\n",
    "\n",
    "Enable whylogs in MLflow to allow storing whylogs statistical profiles with every run. This method returns `True` if whylogs is able to patch MLflow. You might want to pass a session"
   ]
  },
  {
   "cell_type": "code",
   "execution_count": 5,
   "metadata": {},
   "outputs": [
    {
     "name": "stderr",
     "output_type": "stream",
     "text": [
      "DEBUG:whylogs.mlflow.patcher:Creating a real session for WhyLogsRun\n"
     ]
    },
    {
     "data": {
      "text/plain": [
       "True"
      ]
     },
     "execution_count": 5,
     "metadata": {},
     "output_type": "execute_result"
    }
   ],
   "source": [
    "session = get_or_create_session(path_to_config=\".whylabs.yaml\")\n",
    "session.with_rotation_time = os.environ[\"ROTATION_TIME\"]\n",
    "whylogs.enable_mlflow(session=session)"
   ]
  },
  {
   "cell_type": "markdown",
   "metadata": {
    "tags": []
   },
   "source": [
    "# Dataset Preparation\n",
    "\n",
    "Download and prepare the UCI wine quality dataset. We sample the test dataset further to represent batches of data produced every second."
   ]
  },
  {
   "cell_type": "code",
   "execution_count": 6,
   "metadata": {
    "pycharm": {
     "name": "#%%\n"
    },
    "tags": []
   },
   "outputs": [
    {
     "data": {
      "text/html": [
       "<div>\n",
       "<style scoped>\n",
       "    .dataframe tbody tr th:only-of-type {\n",
       "        vertical-align: middle;\n",
       "    }\n",
       "\n",
       "    .dataframe tbody tr th {\n",
       "        vertical-align: top;\n",
       "    }\n",
       "\n",
       "    .dataframe thead th {\n",
       "        text-align: right;\n",
       "    }\n",
       "</style>\n",
       "<table border=\"1\" class=\"dataframe\">\n",
       "  <thead>\n",
       "    <tr style=\"text-align: right;\">\n",
       "      <th></th>\n",
       "      <th>fixed acidity</th>\n",
       "      <th>volatile acidity</th>\n",
       "      <th>citric acid</th>\n",
       "      <th>residual sugar</th>\n",
       "      <th>chlorides</th>\n",
       "      <th>free sulfur dioxide</th>\n",
       "      <th>total sulfur dioxide</th>\n",
       "      <th>density</th>\n",
       "      <th>pH</th>\n",
       "      <th>sulphates</th>\n",
       "      <th>alcohol</th>\n",
       "      <th>quality</th>\n",
       "    </tr>\n",
       "  </thead>\n",
       "  <tbody>\n",
       "    <tr>\n",
       "      <th>0</th>\n",
       "      <td>7.4</td>\n",
       "      <td>0.70</td>\n",
       "      <td>0.00</td>\n",
       "      <td>1.9</td>\n",
       "      <td>0.076</td>\n",
       "      <td>11.0</td>\n",
       "      <td>34.0</td>\n",
       "      <td>0.9978</td>\n",
       "      <td>3.51</td>\n",
       "      <td>0.56</td>\n",
       "      <td>9.4</td>\n",
       "      <td>5</td>\n",
       "    </tr>\n",
       "    <tr>\n",
       "      <th>1</th>\n",
       "      <td>7.8</td>\n",
       "      <td>0.88</td>\n",
       "      <td>0.00</td>\n",
       "      <td>2.6</td>\n",
       "      <td>0.098</td>\n",
       "      <td>25.0</td>\n",
       "      <td>67.0</td>\n",
       "      <td>0.9968</td>\n",
       "      <td>3.20</td>\n",
       "      <td>0.68</td>\n",
       "      <td>9.8</td>\n",
       "      <td>5</td>\n",
       "    </tr>\n",
       "    <tr>\n",
       "      <th>2</th>\n",
       "      <td>7.8</td>\n",
       "      <td>0.76</td>\n",
       "      <td>0.04</td>\n",
       "      <td>2.3</td>\n",
       "      <td>0.092</td>\n",
       "      <td>15.0</td>\n",
       "      <td>54.0</td>\n",
       "      <td>0.9970</td>\n",
       "      <td>3.26</td>\n",
       "      <td>0.65</td>\n",
       "      <td>9.8</td>\n",
       "      <td>5</td>\n",
       "    </tr>\n",
       "    <tr>\n",
       "      <th>3</th>\n",
       "      <td>11.2</td>\n",
       "      <td>0.28</td>\n",
       "      <td>0.56</td>\n",
       "      <td>1.9</td>\n",
       "      <td>0.075</td>\n",
       "      <td>17.0</td>\n",
       "      <td>60.0</td>\n",
       "      <td>0.9980</td>\n",
       "      <td>3.16</td>\n",
       "      <td>0.58</td>\n",
       "      <td>9.8</td>\n",
       "      <td>6</td>\n",
       "    </tr>\n",
       "    <tr>\n",
       "      <th>4</th>\n",
       "      <td>7.4</td>\n",
       "      <td>0.70</td>\n",
       "      <td>0.00</td>\n",
       "      <td>1.9</td>\n",
       "      <td>0.076</td>\n",
       "      <td>11.0</td>\n",
       "      <td>34.0</td>\n",
       "      <td>0.9978</td>\n",
       "      <td>3.51</td>\n",
       "      <td>0.56</td>\n",
       "      <td>9.4</td>\n",
       "      <td>5</td>\n",
       "    </tr>\n",
       "  </tbody>\n",
       "</table>\n",
       "</div>"
      ],
      "text/plain": [
       "   fixed acidity  volatile acidity  citric acid  residual sugar  chlorides  \\\n",
       "0            7.4              0.70         0.00             1.9      0.076   \n",
       "1            7.8              0.88         0.00             2.6      0.098   \n",
       "2            7.8              0.76         0.04             2.3      0.092   \n",
       "3           11.2              0.28         0.56             1.9      0.075   \n",
       "4            7.4              0.70         0.00             1.9      0.076   \n",
       "\n",
       "   free sulfur dioxide  total sulfur dioxide  density    pH  sulphates  \\\n",
       "0                 11.0                  34.0   0.9978  3.51       0.56   \n",
       "1                 25.0                  67.0   0.9968  3.20       0.68   \n",
       "2                 15.0                  54.0   0.9970  3.26       0.65   \n",
       "3                 17.0                  60.0   0.9980  3.16       0.58   \n",
       "4                 11.0                  34.0   0.9978  3.51       0.56   \n",
       "\n",
       "   alcohol  quality  \n",
       "0      9.4        5  \n",
       "1      9.8        5  \n",
       "2      9.8        5  \n",
       "3      9.8        6  \n",
       "4      9.4        5  "
      ]
     },
     "execution_count": 6,
     "metadata": {},
     "output_type": "execute_result"
    }
   ],
   "source": [
    "data = pd.read_csv(os.environ[\"DATASET_URL\"], sep=\";\")\n",
    "data.head()"
   ]
  },
  {
   "cell_type": "code",
   "execution_count": 7,
   "metadata": {},
   "outputs": [],
   "source": [
    "# Split the data into training and test sets\n",
    "train, test = train_test_split(data)"
   ]
  },
  {
   "cell_type": "code",
   "execution_count": 8,
   "metadata": {},
   "outputs": [],
   "source": [
    "# Relocate predicted variable \"quality\" to y vectors\n",
    "train_x = train.drop([\"quality\"], axis=1).reset_index(drop=True)\n",
    "test_x = test.drop([\"quality\"], axis=1).reset_index(drop=True)\n",
    "train_y = train[[\"quality\"]].reset_index(drop=True)\n",
    "test_y = test[[\"quality\"]].reset_index(drop=True)"
   ]
  },
  {
   "cell_type": "code",
   "execution_count": 9,
   "metadata": {},
   "outputs": [],
   "source": [
    "subset_test_x = []\n",
    "subset_test_y = []\n",
    "num_batches = 20\n",
    "for i in range(num_batches):\n",
    "    indices = random.sample(range(len(test)), 5)\n",
    "    subset_test_x.append(test_x.loc[indices, :])\n",
    "    subset_test_y.append(test_y.loc[indices, :])"
   ]
  },
  {
   "cell_type": "code",
   "execution_count": 10,
   "metadata": {},
   "outputs": [],
   "source": [
    "# Create an MLflow experiment for our demo\n",
    "experiment_name = \"whylogs demo\"\n",
    "mlflow.set_experiment(experiment_name)\n",
    "model_params = {\n",
    "    \"alpha\": 1.0,\n",
    "    \"l1_ratio\": 0.7\n",
    "}"
   ]
  },
  {
   "cell_type": "code",
   "execution_count": 11,
   "metadata": {},
   "outputs": [
    {
     "name": "stdout",
     "output_type": "stream",
     "text": [
      "ElasticNet model ({'alpha': 1.0, 'l1_ratio': 0.7}):\n"
     ]
    }
   ],
   "source": [
    "lr = ElasticNet(**model_params)\n",
    "lr.fit(train_x, train_y)\n",
    "print(\"ElasticNet model (%s):\" % model_params)"
   ]
  },
  {
   "cell_type": "code",
   "execution_count": 12,
   "metadata": {},
   "outputs": [
    {
     "name": "stderr",
     "output_type": "stream",
     "text": [
      "DEBUG:git.cmd:Popen(['git', 'version'], cwd=/Users/nicolasroldan/Documents/Whylabs/whylogs/examples/mlflow_whylabs_example, universal_newlines=False, shell=None, istream=None)\n",
      "DEBUG:git.cmd:Popen(['git', 'version'], cwd=/Users/nicolasroldan/Documents/Whylabs/whylogs/examples/mlflow_whylabs_example, universal_newlines=False, shell=None, istream=None)\n",
      "DEBUG:whylogs.mlflow.patcher:Detect a new run ID. Previous run ID: None. New run ID: 3db5c052aefd42d1804a80aa787daf9b.\n",
      "DEBUG:whylogs.mlflow.patcher:Attempting close patcher WhyLogsRun\n",
      "DEBUG:whylogs.mlflow.patcher:Finished uploading all the loggers\n",
      "DEBUG:whylogs.mlflow.patcher:Finished closing the session\n",
      "DEBUG:whylogs.mlflow.patcher:Creating a new logger for dataset name: 2021-09-20 22:34:30.453647+00:00. Tags: {'mlflow.user': 'nicolasroldan', 'mlflow.runName': 'Run 1', 'mlflow.source.name': '/opt/anaconda3/envs/whylabs-mlflow/lib/python3.7/site-packages/ipykernel_launcher.py', 'mlflow.source.type': 'LOCAL', 'mflow.experiment_id': '1', 'mflow.run_id': '3db5c052aefd42d1804a80aa787daf9b'}\n"
     ]
    },
    {
     "name": "stdout",
     "output_type": "stream",
     "text": [
      "Subset 1, mean absolute error: 0.6301953378702091\n"
     ]
    },
    {
     "name": "stderr",
     "output_type": "stream",
     "text": [
      "DEBUG:whylogs.app.writers:Using tmp dir: /var/folders/0s/qfqb94xj5pg6xz3d_l7xfsqm0000gn/T/tmplv2wpomg\n",
      "DEBUG:whylogs.app.writers:Writing logger /var/folders/0s/qfqb94xj5pg6xz3d_l7xfsqm0000gn/T/tmplv2wpomg/3db5c052aefd42d1804a80aa787daf9b/profile.bin's data to whylogs/3db5c052aefd42d1804a80aa787daf9b\n",
      "DEBUG:smart_open.smart_open_lib:{'uri': '/var/folders/0s/qfqb94xj5pg6xz3d_l7xfsqm0000gn/T/tmplv2wpomg/3db5c052aefd42d1804a80aa787daf9b/profile.bin', 'mode': 'wb', 'buffering': -1, 'encoding': None, 'errors': None, 'newline': None, 'closefd': True, 'opener': None, 'ignore_ext': False, 'compression': None, 'transport_params': None}\n",
      "DEBUG:whylogs.app.writers:Successfully uploaded logger 3db5c052aefd42d1804a80aa787daf9b data to MLFlow\n",
      "DEBUG:whylogs.mlflow.patcher:Closing whylogs before ending the MLFlow run\n",
      "DEBUG:whylogs.mlflow.patcher:Attempting close patcher WhyLogsRun\n",
      "DEBUG:whylogs.app.writers:Using tmp dir: /var/folders/0s/qfqb94xj5pg6xz3d_l7xfsqm0000gn/T/tmpdh0p4ylr\n",
      "DEBUG:whylogs.mlflow.patcher:Finished uploading all the loggers\n",
      "DEBUG:whylogs.app.writers:Writing logger /var/folders/0s/qfqb94xj5pg6xz3d_l7xfsqm0000gn/T/tmpdh0p4ylr/3db5c052aefd42d1804a80aa787daf9b/profile.bin's data to whylogs/3db5c052aefd42d1804a80aa787daf9b\n",
      "DEBUG:whylogs.mlflow.patcher:Finished closing the session\n",
      "DEBUG:smart_open.smart_open_lib:{'uri': '/var/folders/0s/qfqb94xj5pg6xz3d_l7xfsqm0000gn/T/tmpdh0p4ylr/3db5c052aefd42d1804a80aa787daf9b/profile.bin', 'mode': 'wb', 'buffering': -1, 'encoding': None, 'errors': None, 'newline': None, 'closefd': True, 'opener': None, 'ignore_ext': False, 'compression': None, 'transport_params': None}\n",
      "DEBUG:smart_open.smart_open_lib:{'uri': '/var/folders/0s/qfqb94xj5pg6xz3d_l7xfsqm0000gn/T/tmpuwmm5tk2/profile.bin', 'mode': 'wb', 'buffering': -1, 'encoding': None, 'errors': None, 'newline': None, 'closefd': True, 'opener': None, 'ignore_ext': False, 'compression': None, 'transport_params': None}\n",
      "DEBUG:smart_open.smart_open_lib:{'uri': '/var/folders/0s/qfqb94xj5pg6xz3d_l7xfsqm0000gn/T/tmp8e4hopxg/profile.bin', 'mode': 'wb', 'buffering': -1, 'encoding': None, 'errors': None, 'newline': None, 'closefd': True, 'opener': None, 'ignore_ext': False, 'compression': None, 'transport_params': None}\n",
      "DEBUG:whylogs:Upload with WhyLabs API token\n",
      "DEBUG:whylogs:Upload with WhyLabs API token\n",
      "WARNING:whylogs:Using API key ID: 5ISuDTANMy\n",
      "DEBUG:whylogs.app.writers:Successfully uploaded logger 3db5c052aefd42d1804a80aa787daf9b data to MLFlow\n",
      "DEBUG:whylogs.mlflow.patcher:Closing whylogs before ending the MLFlow run\n",
      "DEBUG:whylogs.mlflow.patcher:Attempting close patcher WhyLogsRun\n",
      "DEBUG:whylogs.mlflow.patcher:Finished uploading all the loggers\n",
      "DEBUG:whylogs.mlflow.patcher:Finished closing the session\n",
      "DEBUG:whylogs:Done uploading to org-5557/model-10/1632177280000 to https://api.whylabsapp.com\n",
      "DEBUG:whylogs:Done uploading to org-5557/model-10/1632177270000 to https://api.whylabsapp.com\n",
      "DEBUG:whylogs.mlflow.patcher:Closing whylogs before ending the MLFlow run\n",
      "DEBUG:whylogs.mlflow.patcher:Attempting close patcher WhyLogsRun\n",
      "DEBUG:whylogs.mlflow.patcher:Finished uploading all the loggers\n",
      "DEBUG:whylogs.mlflow.patcher:Finished closing the session\n",
      "DEBUG:whylogs.mlflow.patcher:Detect a new run ID. Previous run ID: None. New run ID: 1a16429818f2434fbc55676f0deabd60.\n",
      "DEBUG:whylogs.mlflow.patcher:Attempting close patcher WhyLogsRun\n",
      "DEBUG:whylogs.mlflow.patcher:Finished uploading all the loggers\n",
      "DEBUG:whylogs.mlflow.patcher:Finished closing the session\n",
      "DEBUG:whylogs.mlflow.patcher:Creating a new logger for dataset name: 2021-09-19 22:35:40.509963+00:00. Tags: {'mlflow.user': 'nicolasroldan', 'mlflow.runName': 'Run 2', 'mlflow.source.name': '/opt/anaconda3/envs/whylabs-mlflow/lib/python3.7/site-packages/ipykernel_launcher.py', 'mlflow.source.type': 'LOCAL', 'mflow.experiment_id': '1', 'mflow.run_id': '1a16429818f2434fbc55676f0deabd60'}\n"
     ]
    },
    {
     "name": "stdout",
     "output_type": "stream",
     "text": [
      "Subset 2, mean absolute error: 0.5195228410174103\n"
     ]
    },
    {
     "name": "stderr",
     "output_type": "stream",
     "text": [
      "DEBUG:whylogs.app.writers:Using tmp dir: /var/folders/0s/qfqb94xj5pg6xz3d_l7xfsqm0000gn/T/tmprk4_03y_\n",
      "DEBUG:smart_open.smart_open_lib:{'uri': '/var/folders/0s/qfqb94xj5pg6xz3d_l7xfsqm0000gn/T/tmpi4934_jp/profile.bin', 'mode': 'wb', 'buffering': -1, 'encoding': None, 'errors': None, 'newline': None, 'closefd': True, 'opener': None, 'ignore_ext': False, 'compression': None, 'transport_params': None}\n",
      "DEBUG:whylogs.app.writers:Writing logger /var/folders/0s/qfqb94xj5pg6xz3d_l7xfsqm0000gn/T/tmprk4_03y_/1a16429818f2434fbc55676f0deabd60/profile.bin's data to whylogs/1a16429818f2434fbc55676f0deabd60\n",
      "DEBUG:smart_open.smart_open_lib:{'uri': '/var/folders/0s/qfqb94xj5pg6xz3d_l7xfsqm0000gn/T/tmprk4_03y_/1a16429818f2434fbc55676f0deabd60/profile.bin', 'mode': 'wb', 'buffering': -1, 'encoding': None, 'errors': None, 'newline': None, 'closefd': True, 'opener': None, 'ignore_ext': False, 'compression': None, 'transport_params': None}\n",
      "DEBUG:whylogs:Upload with WhyLabs API token\n",
      "DEBUG:whylogs.app.writers:Successfully uploaded logger 1a16429818f2434fbc55676f0deabd60 data to MLFlow\n",
      "DEBUG:whylogs.mlflow.patcher:Closing whylogs before ending the MLFlow run\n",
      "DEBUG:whylogs.mlflow.patcher:Attempting close patcher WhyLogsRun\n",
      "DEBUG:smart_open.smart_open_lib:{'uri': '/var/folders/0s/qfqb94xj5pg6xz3d_l7xfsqm0000gn/T/tmpk9d9lcec/profile.bin', 'mode': 'wb', 'buffering': -1, 'encoding': None, 'errors': None, 'newline': None, 'closefd': True, 'opener': None, 'ignore_ext': False, 'compression': None, 'transport_params': None}\n",
      "DEBUG:whylogs.app.writers:Using tmp dir: /var/folders/0s/qfqb94xj5pg6xz3d_l7xfsqm0000gn/T/tmpzq0makle\n",
      "DEBUG:whylogs.mlflow.patcher:Finished uploading all the loggers\n",
      "DEBUG:whylogs:Upload with WhyLabs API token\n",
      "DEBUG:whylogs.app.writers:Writing logger /var/folders/0s/qfqb94xj5pg6xz3d_l7xfsqm0000gn/T/tmpzq0makle/1a16429818f2434fbc55676f0deabd60/profile.bin's data to whylogs/1a16429818f2434fbc55676f0deabd60\n",
      "DEBUG:whylogs.mlflow.patcher:Finished closing the session\n",
      "DEBUG:smart_open.smart_open_lib:{'uri': '/var/folders/0s/qfqb94xj5pg6xz3d_l7xfsqm0000gn/T/tmpzq0makle/1a16429818f2434fbc55676f0deabd60/profile.bin', 'mode': 'wb', 'buffering': -1, 'encoding': None, 'errors': None, 'newline': None, 'closefd': True, 'opener': None, 'ignore_ext': False, 'compression': None, 'transport_params': None}\n",
      "DEBUG:whylogs.app.writers:Successfully uploaded logger 1a16429818f2434fbc55676f0deabd60 data to MLFlow\n",
      "DEBUG:whylogs.mlflow.patcher:Closing whylogs before ending the MLFlow run\n",
      "DEBUG:whylogs.mlflow.patcher:Attempting close patcher WhyLogsRun\n",
      "DEBUG:whylogs.mlflow.patcher:Finished uploading all the loggers\n",
      "DEBUG:whylogs.mlflow.patcher:Finished closing the session\n",
      "DEBUG:whylogs:Done uploading to org-5557/model-10/1632177340000 to https://api.whylabsapp.com\n",
      "DEBUG:whylogs:Done uploading to org-5557/model-10/1632177350000 to https://api.whylabsapp.com\n",
      "DEBUG:whylogs.mlflow.patcher:Closing whylogs before ending the MLFlow run\n",
      "DEBUG:whylogs.mlflow.patcher:Attempting close patcher WhyLogsRun\n",
      "DEBUG:whylogs.mlflow.patcher:Finished uploading all the loggers\n",
      "DEBUG:whylogs.mlflow.patcher:Finished closing the session\n",
      "DEBUG:whylogs.mlflow.patcher:Detect a new run ID. Previous run ID: None. New run ID: 361e1944e7f747e1a1cdb94e0999357f.\n",
      "DEBUG:whylogs.mlflow.patcher:Attempting close patcher WhyLogsRun\n",
      "DEBUG:whylogs.mlflow.patcher:Finished uploading all the loggers\n",
      "DEBUG:whylogs.mlflow.patcher:Finished closing the session\n",
      "DEBUG:whylogs.mlflow.patcher:Creating a new logger for dataset name: 2021-09-18 22:36:50.558024+00:00. Tags: {'mlflow.user': 'nicolasroldan', 'mlflow.runName': 'Run 3', 'mlflow.source.name': '/opt/anaconda3/envs/whylabs-mlflow/lib/python3.7/site-packages/ipykernel_launcher.py', 'mlflow.source.type': 'LOCAL', 'mflow.experiment_id': '1', 'mflow.run_id': '361e1944e7f747e1a1cdb94e0999357f'}\n"
     ]
    },
    {
     "name": "stdout",
     "output_type": "stream",
     "text": [
      "Subset 3, mean absolute error: 0.8548611532639596\n"
     ]
    },
    {
     "name": "stderr",
     "output_type": "stream",
     "text": [
      "DEBUG:smart_open.smart_open_lib:{'uri': '/var/folders/0s/qfqb94xj5pg6xz3d_l7xfsqm0000gn/T/tmp1c_cu0ud/profile.bin', 'mode': 'wb', 'buffering': -1, 'encoding': None, 'errors': None, 'newline': None, 'closefd': True, 'opener': None, 'ignore_ext': False, 'compression': None, 'transport_params': None}\n",
      "DEBUG:whylogs.app.writers:Using tmp dir: /var/folders/0s/qfqb94xj5pg6xz3d_l7xfsqm0000gn/T/tmpr36dk6iu\n",
      "DEBUG:whylogs:Upload with WhyLabs API token\n",
      "DEBUG:whylogs.app.writers:Writing logger /var/folders/0s/qfqb94xj5pg6xz3d_l7xfsqm0000gn/T/tmpr36dk6iu/361e1944e7f747e1a1cdb94e0999357f/profile.bin's data to whylogs/361e1944e7f747e1a1cdb94e0999357f\n",
      "DEBUG:smart_open.smart_open_lib:{'uri': '/var/folders/0s/qfqb94xj5pg6xz3d_l7xfsqm0000gn/T/tmpr36dk6iu/361e1944e7f747e1a1cdb94e0999357f/profile.bin', 'mode': 'wb', 'buffering': -1, 'encoding': None, 'errors': None, 'newline': None, 'closefd': True, 'opener': None, 'ignore_ext': False, 'compression': None, 'transport_params': None}\n",
      "DEBUG:whylogs.app.writers:Successfully uploaded logger 361e1944e7f747e1a1cdb94e0999357f data to MLFlow\n",
      "DEBUG:whylogs.mlflow.patcher:Closing whylogs before ending the MLFlow run\n",
      "DEBUG:whylogs.mlflow.patcher:Attempting close patcher WhyLogsRun\n",
      "DEBUG:smart_open.smart_open_lib:{'uri': '/var/folders/0s/qfqb94xj5pg6xz3d_l7xfsqm0000gn/T/tmpl_zjqc6b/profile.bin', 'mode': 'wb', 'buffering': -1, 'encoding': None, 'errors': None, 'newline': None, 'closefd': True, 'opener': None, 'ignore_ext': False, 'compression': None, 'transport_params': None}\n",
      "DEBUG:whylogs.app.writers:Using tmp dir: /var/folders/0s/qfqb94xj5pg6xz3d_l7xfsqm0000gn/T/tmpy7gl9pkv\n",
      "DEBUG:whylogs.mlflow.patcher:Finished uploading all the loggers\n",
      "DEBUG:whylogs:Upload with WhyLabs API token\n",
      "DEBUG:whylogs.app.writers:Writing logger /var/folders/0s/qfqb94xj5pg6xz3d_l7xfsqm0000gn/T/tmpy7gl9pkv/361e1944e7f747e1a1cdb94e0999357f/profile.bin's data to whylogs/361e1944e7f747e1a1cdb94e0999357f\n",
      "DEBUG:whylogs.mlflow.patcher:Finished closing the session\n",
      "DEBUG:smart_open.smart_open_lib:{'uri': '/var/folders/0s/qfqb94xj5pg6xz3d_l7xfsqm0000gn/T/tmpy7gl9pkv/361e1944e7f747e1a1cdb94e0999357f/profile.bin', 'mode': 'wb', 'buffering': -1, 'encoding': None, 'errors': None, 'newline': None, 'closefd': True, 'opener': None, 'ignore_ext': False, 'compression': None, 'transport_params': None}\n",
      "DEBUG:whylogs.app.writers:Successfully uploaded logger 361e1944e7f747e1a1cdb94e0999357f data to MLFlow\n",
      "DEBUG:whylogs.mlflow.patcher:Closing whylogs before ending the MLFlow run\n",
      "DEBUG:whylogs.mlflow.patcher:Attempting close patcher WhyLogsRun\n",
      "DEBUG:whylogs.mlflow.patcher:Finished uploading all the loggers\n",
      "DEBUG:whylogs.mlflow.patcher:Finished closing the session\n",
      "DEBUG:whylogs:Done uploading to org-5557/model-10/1632177420000 to https://api.whylabsapp.com\n",
      "DEBUG:whylogs:Done uploading to org-5557/model-10/1632177410000 to https://api.whylabsapp.com\n",
      "DEBUG:whylogs.mlflow.patcher:Closing whylogs before ending the MLFlow run\n",
      "DEBUG:whylogs.mlflow.patcher:Attempting close patcher WhyLogsRun\n",
      "DEBUG:whylogs.mlflow.patcher:Finished uploading all the loggers\n",
      "DEBUG:whylogs.mlflow.patcher:Finished closing the session\n",
      "DEBUG:whylogs.mlflow.patcher:Detect a new run ID. Previous run ID: None. New run ID: 2ffaeab3d79247e8a96fb3576a475f13.\n",
      "DEBUG:whylogs.mlflow.patcher:Attempting close patcher WhyLogsRun\n",
      "DEBUG:whylogs.mlflow.patcher:Finished uploading all the loggers\n",
      "DEBUG:whylogs.mlflow.patcher:Finished closing the session\n",
      "DEBUG:whylogs.mlflow.patcher:Creating a new logger for dataset name: 2021-09-17 22:38:00.613747+00:00. Tags: {'mlflow.user': 'nicolasroldan', 'mlflow.runName': 'Run 4', 'mlflow.source.name': '/opt/anaconda3/envs/whylabs-mlflow/lib/python3.7/site-packages/ipykernel_launcher.py', 'mlflow.source.type': 'LOCAL', 'mflow.experiment_id': '1', 'mflow.run_id': '2ffaeab3d79247e8a96fb3576a475f13'}\n"
     ]
    },
    {
     "name": "stdout",
     "output_type": "stream",
     "text": [
      "Subset 4, mean absolute error: 0.9730198651749887\n"
     ]
    },
    {
     "name": "stderr",
     "output_type": "stream",
     "text": [
      "DEBUG:smart_open.smart_open_lib:{'uri': '/var/folders/0s/qfqb94xj5pg6xz3d_l7xfsqm0000gn/T/tmp_4a0wa35/profile.bin', 'mode': 'wb', 'buffering': -1, 'encoding': None, 'errors': None, 'newline': None, 'closefd': True, 'opener': None, 'ignore_ext': False, 'compression': None, 'transport_params': None}\n",
      "DEBUG:whylogs.app.writers:Using tmp dir: /var/folders/0s/qfqb94xj5pg6xz3d_l7xfsqm0000gn/T/tmpz9wefirj\n",
      "DEBUG:whylogs:Upload with WhyLabs API token\n",
      "DEBUG:whylogs.app.writers:Writing logger /var/folders/0s/qfqb94xj5pg6xz3d_l7xfsqm0000gn/T/tmpz9wefirj/2ffaeab3d79247e8a96fb3576a475f13/profile.bin's data to whylogs/2ffaeab3d79247e8a96fb3576a475f13\n",
      "DEBUG:smart_open.smart_open_lib:{'uri': '/var/folders/0s/qfqb94xj5pg6xz3d_l7xfsqm0000gn/T/tmpz9wefirj/2ffaeab3d79247e8a96fb3576a475f13/profile.bin', 'mode': 'wb', 'buffering': -1, 'encoding': None, 'errors': None, 'newline': None, 'closefd': True, 'opener': None, 'ignore_ext': False, 'compression': None, 'transport_params': None}\n",
      "DEBUG:whylogs.app.writers:Successfully uploaded logger 2ffaeab3d79247e8a96fb3576a475f13 data to MLFlow\n",
      "DEBUG:whylogs.mlflow.patcher:Closing whylogs before ending the MLFlow run\n",
      "DEBUG:whylogs.mlflow.patcher:Attempting close patcher WhyLogsRun\n",
      "DEBUG:smart_open.smart_open_lib:{'uri': '/var/folders/0s/qfqb94xj5pg6xz3d_l7xfsqm0000gn/T/tmpg3xsnqce/profile.bin', 'mode': 'wb', 'buffering': -1, 'encoding': None, 'errors': None, 'newline': None, 'closefd': True, 'opener': None, 'ignore_ext': False, 'compression': None, 'transport_params': None}\n",
      "DEBUG:whylogs.mlflow.patcher:Finished uploading all the loggers\n",
      "DEBUG:whylogs.app.writers:Using tmp dir: /var/folders/0s/qfqb94xj5pg6xz3d_l7xfsqm0000gn/T/tmp6qwg6fsk\n",
      "DEBUG:whylogs:Upload with WhyLabs API token\n",
      "DEBUG:whylogs.mlflow.patcher:Finished closing the session\n",
      "DEBUG:whylogs.app.writers:Writing logger /var/folders/0s/qfqb94xj5pg6xz3d_l7xfsqm0000gn/T/tmp6qwg6fsk/2ffaeab3d79247e8a96fb3576a475f13/profile.bin's data to whylogs/2ffaeab3d79247e8a96fb3576a475f13\n",
      "DEBUG:smart_open.smart_open_lib:{'uri': '/var/folders/0s/qfqb94xj5pg6xz3d_l7xfsqm0000gn/T/tmp6qwg6fsk/2ffaeab3d79247e8a96fb3576a475f13/profile.bin', 'mode': 'wb', 'buffering': -1, 'encoding': None, 'errors': None, 'newline': None, 'closefd': True, 'opener': None, 'ignore_ext': False, 'compression': None, 'transport_params': None}\n",
      "DEBUG:whylogs.app.writers:Successfully uploaded logger 2ffaeab3d79247e8a96fb3576a475f13 data to MLFlow\n",
      "DEBUG:whylogs.mlflow.patcher:Closing whylogs before ending the MLFlow run\n",
      "DEBUG:whylogs.mlflow.patcher:Attempting close patcher WhyLogsRun\n",
      "DEBUG:whylogs.mlflow.patcher:Finished uploading all the loggers\n",
      "DEBUG:whylogs.mlflow.patcher:Finished closing the session\n",
      "DEBUG:whylogs:Done uploading to org-5557/model-10/1632177480000 to https://api.whylabsapp.com\n",
      "DEBUG:whylogs:Done uploading to org-5557/model-10/1632177490000 to https://api.whylabsapp.com\n",
      "DEBUG:whylogs.mlflow.patcher:Closing whylogs before ending the MLFlow run\n",
      "DEBUG:whylogs.mlflow.patcher:Attempting close patcher WhyLogsRun\n",
      "DEBUG:whylogs.mlflow.patcher:Finished uploading all the loggers\n",
      "DEBUG:whylogs.mlflow.patcher:Finished closing the session\n",
      "DEBUG:whylogs.mlflow.patcher:Detect a new run ID. Previous run ID: None. New run ID: 6f25e78d7c63413dafdee8be0207f19d.\n",
      "DEBUG:whylogs.mlflow.patcher:Attempting close patcher WhyLogsRun\n",
      "DEBUG:whylogs.mlflow.patcher:Finished uploading all the loggers\n",
      "DEBUG:whylogs.mlflow.patcher:Finished closing the session\n",
      "DEBUG:whylogs.mlflow.patcher:Creating a new logger for dataset name: 2021-09-16 22:39:10.662275+00:00. Tags: {'mlflow.user': 'nicolasroldan', 'mlflow.runName': 'Run 5', 'mlflow.source.name': '/opt/anaconda3/envs/whylabs-mlflow/lib/python3.7/site-packages/ipykernel_launcher.py', 'mlflow.source.type': 'LOCAL', 'mflow.experiment_id': '1', 'mflow.run_id': '6f25e78d7c63413dafdee8be0207f19d'}\n"
     ]
    },
    {
     "name": "stdout",
     "output_type": "stream",
     "text": [
      "Subset 5, mean absolute error: 0.9014815974193315\n"
     ]
    },
    {
     "name": "stderr",
     "output_type": "stream",
     "text": [
      "DEBUG:smart_open.smart_open_lib:{'uri': '/var/folders/0s/qfqb94xj5pg6xz3d_l7xfsqm0000gn/T/tmp91s5isuh/profile.bin', 'mode': 'wb', 'buffering': -1, 'encoding': None, 'errors': None, 'newline': None, 'closefd': True, 'opener': None, 'ignore_ext': False, 'compression': None, 'transport_params': None}\n",
      "DEBUG:whylogs.app.writers:Using tmp dir: /var/folders/0s/qfqb94xj5pg6xz3d_l7xfsqm0000gn/T/tmpxq0k39f3\n",
      "DEBUG:whylogs:Upload with WhyLabs API token\n",
      "DEBUG:whylogs.app.writers:Writing logger /var/folders/0s/qfqb94xj5pg6xz3d_l7xfsqm0000gn/T/tmpxq0k39f3/6f25e78d7c63413dafdee8be0207f19d/profile.bin's data to whylogs/6f25e78d7c63413dafdee8be0207f19d\n",
      "DEBUG:smart_open.smart_open_lib:{'uri': '/var/folders/0s/qfqb94xj5pg6xz3d_l7xfsqm0000gn/T/tmpxq0k39f3/6f25e78d7c63413dafdee8be0207f19d/profile.bin', 'mode': 'wb', 'buffering': -1, 'encoding': None, 'errors': None, 'newline': None, 'closefd': True, 'opener': None, 'ignore_ext': False, 'compression': None, 'transport_params': None}\n",
      "DEBUG:whylogs.app.writers:Successfully uploaded logger 6f25e78d7c63413dafdee8be0207f19d data to MLFlow\n",
      "DEBUG:whylogs.mlflow.patcher:Closing whylogs before ending the MLFlow run\n",
      "DEBUG:whylogs.mlflow.patcher:Attempting close patcher WhyLogsRun\n",
      "DEBUG:smart_open.smart_open_lib:{'uri': '/var/folders/0s/qfqb94xj5pg6xz3d_l7xfsqm0000gn/T/tmp7s3kr_k9/profile.bin', 'mode': 'wb', 'buffering': -1, 'encoding': None, 'errors': None, 'newline': None, 'closefd': True, 'opener': None, 'ignore_ext': False, 'compression': None, 'transport_params': None}\n",
      "DEBUG:whylogs.app.writers:Using tmp dir: /var/folders/0s/qfqb94xj5pg6xz3d_l7xfsqm0000gn/T/tmpugccqjks\n",
      "DEBUG:whylogs.mlflow.patcher:Finished uploading all the loggers\n",
      "DEBUG:whylogs:Upload with WhyLabs API token\n",
      "DEBUG:whylogs.app.writers:Writing logger /var/folders/0s/qfqb94xj5pg6xz3d_l7xfsqm0000gn/T/tmpugccqjks/6f25e78d7c63413dafdee8be0207f19d/profile.bin's data to whylogs/6f25e78d7c63413dafdee8be0207f19d\n",
      "DEBUG:whylogs.mlflow.patcher:Finished closing the session\n",
      "DEBUG:smart_open.smart_open_lib:{'uri': '/var/folders/0s/qfqb94xj5pg6xz3d_l7xfsqm0000gn/T/tmpugccqjks/6f25e78d7c63413dafdee8be0207f19d/profile.bin', 'mode': 'wb', 'buffering': -1, 'encoding': None, 'errors': None, 'newline': None, 'closefd': True, 'opener': None, 'ignore_ext': False, 'compression': None, 'transport_params': None}\n",
      "DEBUG:whylogs.app.writers:Successfully uploaded logger 6f25e78d7c63413dafdee8be0207f19d data to MLFlow\n",
      "DEBUG:whylogs.mlflow.patcher:Closing whylogs before ending the MLFlow run\n",
      "DEBUG:whylogs.mlflow.patcher:Attempting close patcher WhyLogsRun\n",
      "DEBUG:whylogs.mlflow.patcher:Finished uploading all the loggers\n",
      "DEBUG:whylogs.mlflow.patcher:Finished closing the session\n",
      "DEBUG:whylogs:Done uploading to org-5557/model-10/1632177550000 to https://api.whylabsapp.com\n",
      "DEBUG:whylogs:Done uploading to org-5557/model-10/1632177560000 to https://api.whylabsapp.com\n",
      "DEBUG:whylogs.mlflow.patcher:Closing whylogs before ending the MLFlow run\n",
      "DEBUG:whylogs.mlflow.patcher:Attempting close patcher WhyLogsRun\n",
      "DEBUG:whylogs.mlflow.patcher:Finished uploading all the loggers\n",
      "DEBUG:whylogs.mlflow.patcher:Finished closing the session\n",
      "DEBUG:whylogs.mlflow.patcher:Detect a new run ID. Previous run ID: None. New run ID: f4449a29b1cb425493d129dd5ff90137.\n",
      "DEBUG:whylogs.mlflow.patcher:Attempting close patcher WhyLogsRun\n",
      "DEBUG:whylogs.mlflow.patcher:Finished uploading all the loggers\n",
      "DEBUG:whylogs.mlflow.patcher:Finished closing the session\n",
      "DEBUG:whylogs.mlflow.patcher:Creating a new logger for dataset name: 2021-09-15 22:40:20.713230+00:00. Tags: {'mlflow.user': 'nicolasroldan', 'mlflow.runName': 'Run 6', 'mlflow.source.name': '/opt/anaconda3/envs/whylabs-mlflow/lib/python3.7/site-packages/ipykernel_launcher.py', 'mlflow.source.type': 'LOCAL', 'mflow.experiment_id': '1', 'mflow.run_id': 'f4449a29b1cb425493d129dd5ff90137'}\n"
     ]
    },
    {
     "name": "stdout",
     "output_type": "stream",
     "text": [
      "Subset 6, mean absolute error: 0.5183614134066215\n"
     ]
    },
    {
     "name": "stderr",
     "output_type": "stream",
     "text": [
      "DEBUG:smart_open.smart_open_lib:{'uri': '/var/folders/0s/qfqb94xj5pg6xz3d_l7xfsqm0000gn/T/tmpk07ab3t1/profile.bin', 'mode': 'wb', 'buffering': -1, 'encoding': None, 'errors': None, 'newline': None, 'closefd': True, 'opener': None, 'ignore_ext': False, 'compression': None, 'transport_params': None}\n",
      "DEBUG:whylogs.app.writers:Using tmp dir: /var/folders/0s/qfqb94xj5pg6xz3d_l7xfsqm0000gn/T/tmp5fsd4ggc\n",
      "DEBUG:whylogs:Upload with WhyLabs API token\n",
      "DEBUG:whylogs.app.writers:Writing logger /var/folders/0s/qfqb94xj5pg6xz3d_l7xfsqm0000gn/T/tmp5fsd4ggc/f4449a29b1cb425493d129dd5ff90137/profile.bin's data to whylogs/f4449a29b1cb425493d129dd5ff90137\n",
      "DEBUG:smart_open.smart_open_lib:{'uri': '/var/folders/0s/qfqb94xj5pg6xz3d_l7xfsqm0000gn/T/tmp5fsd4ggc/f4449a29b1cb425493d129dd5ff90137/profile.bin', 'mode': 'wb', 'buffering': -1, 'encoding': None, 'errors': None, 'newline': None, 'closefd': True, 'opener': None, 'ignore_ext': False, 'compression': None, 'transport_params': None}\n",
      "DEBUG:whylogs.app.writers:Successfully uploaded logger f4449a29b1cb425493d129dd5ff90137 data to MLFlow\n",
      "DEBUG:whylogs.mlflow.patcher:Closing whylogs before ending the MLFlow run\n",
      "DEBUG:whylogs.mlflow.patcher:Attempting close patcher WhyLogsRun\n",
      "DEBUG:whylogs.app.writers:Using tmp dir: /var/folders/0s/qfqb94xj5pg6xz3d_l7xfsqm0000gn/T/tmp6ym3aai3\n",
      "DEBUG:smart_open.smart_open_lib:{'uri': '/var/folders/0s/qfqb94xj5pg6xz3d_l7xfsqm0000gn/T/tmpkryryhhu/profile.bin', 'mode': 'wb', 'buffering': -1, 'encoding': None, 'errors': None, 'newline': None, 'closefd': True, 'opener': None, 'ignore_ext': False, 'compression': None, 'transport_params': None}\n",
      "DEBUG:whylogs.mlflow.patcher:Finished uploading all the loggers\n",
      "DEBUG:whylogs.app.writers:Writing logger /var/folders/0s/qfqb94xj5pg6xz3d_l7xfsqm0000gn/T/tmp6ym3aai3/f4449a29b1cb425493d129dd5ff90137/profile.bin's data to whylogs/f4449a29b1cb425493d129dd5ff90137\n",
      "DEBUG:whylogs.mlflow.patcher:Finished closing the session\n",
      "DEBUG:whylogs:Upload with WhyLabs API token\n",
      "DEBUG:smart_open.smart_open_lib:{'uri': '/var/folders/0s/qfqb94xj5pg6xz3d_l7xfsqm0000gn/T/tmp6ym3aai3/f4449a29b1cb425493d129dd5ff90137/profile.bin', 'mode': 'wb', 'buffering': -1, 'encoding': None, 'errors': None, 'newline': None, 'closefd': True, 'opener': None, 'ignore_ext': False, 'compression': None, 'transport_params': None}\n",
      "DEBUG:whylogs.app.writers:Successfully uploaded logger f4449a29b1cb425493d129dd5ff90137 data to MLFlow\n",
      "DEBUG:whylogs.mlflow.patcher:Closing whylogs before ending the MLFlow run\n",
      "DEBUG:whylogs.mlflow.patcher:Attempting close patcher WhyLogsRun\n",
      "DEBUG:whylogs.mlflow.patcher:Finished uploading all the loggers\n",
      "DEBUG:whylogs.mlflow.patcher:Finished closing the session\n",
      "DEBUG:whylogs:Done uploading to org-5557/model-10/1632177620000 to https://api.whylabsapp.com\n",
      "DEBUG:whylogs:Done uploading to org-5557/model-10/1632177630000 to https://api.whylabsapp.com\n",
      "DEBUG:whylogs.mlflow.patcher:Closing whylogs before ending the MLFlow run\n",
      "DEBUG:whylogs.mlflow.patcher:Attempting close patcher WhyLogsRun\n",
      "DEBUG:whylogs.mlflow.patcher:Finished uploading all the loggers\n",
      "DEBUG:whylogs.mlflow.patcher:Finished closing the session\n",
      "DEBUG:whylogs.mlflow.patcher:Detect a new run ID. Previous run ID: None. New run ID: 140b29053f91475c8636ab88ba3b2ffc.\n",
      "DEBUG:whylogs.mlflow.patcher:Attempting close patcher WhyLogsRun\n",
      "DEBUG:whylogs.mlflow.patcher:Finished uploading all the loggers\n",
      "DEBUG:whylogs.mlflow.patcher:Finished closing the session\n",
      "DEBUG:whylogs.mlflow.patcher:Creating a new logger for dataset name: 2021-09-14 22:41:30.720380+00:00. Tags: {'mlflow.user': 'nicolasroldan', 'mlflow.runName': 'Run 7', 'mlflow.source.name': '/opt/anaconda3/envs/whylabs-mlflow/lib/python3.7/site-packages/ipykernel_launcher.py', 'mlflow.source.type': 'LOCAL', 'mflow.experiment_id': '1', 'mflow.run_id': '140b29053f91475c8636ab88ba3b2ffc'}\n"
     ]
    },
    {
     "name": "stdout",
     "output_type": "stream",
     "text": [
      "Subset 7, mean absolute error: 0.28817461132672906\n"
     ]
    },
    {
     "name": "stderr",
     "output_type": "stream",
     "text": [
      "DEBUG:smart_open.smart_open_lib:{'uri': '/var/folders/0s/qfqb94xj5pg6xz3d_l7xfsqm0000gn/T/tmposc06bgz/profile.bin', 'mode': 'wb', 'buffering': -1, 'encoding': None, 'errors': None, 'newline': None, 'closefd': True, 'opener': None, 'ignore_ext': False, 'compression': None, 'transport_params': None}\n",
      "DEBUG:whylogs.app.writers:Using tmp dir: /var/folders/0s/qfqb94xj5pg6xz3d_l7xfsqm0000gn/T/tmp58ituhdp\n",
      "DEBUG:whylogs:Upload with WhyLabs API token\n",
      "DEBUG:whylogs.app.writers:Writing logger /var/folders/0s/qfqb94xj5pg6xz3d_l7xfsqm0000gn/T/tmp58ituhdp/140b29053f91475c8636ab88ba3b2ffc/profile.bin's data to whylogs/140b29053f91475c8636ab88ba3b2ffc\n",
      "DEBUG:smart_open.smart_open_lib:{'uri': '/var/folders/0s/qfqb94xj5pg6xz3d_l7xfsqm0000gn/T/tmp58ituhdp/140b29053f91475c8636ab88ba3b2ffc/profile.bin', 'mode': 'wb', 'buffering': -1, 'encoding': None, 'errors': None, 'newline': None, 'closefd': True, 'opener': None, 'ignore_ext': False, 'compression': None, 'transport_params': None}\n",
      "DEBUG:whylogs.app.writers:Successfully uploaded logger 140b29053f91475c8636ab88ba3b2ffc data to MLFlow\n",
      "DEBUG:whylogs.mlflow.patcher:Closing whylogs before ending the MLFlow run\n",
      "DEBUG:whylogs.mlflow.patcher:Attempting close patcher WhyLogsRun\n",
      "DEBUG:smart_open.smart_open_lib:{'uri': '/var/folders/0s/qfqb94xj5pg6xz3d_l7xfsqm0000gn/T/tmptq9o5blm/profile.bin', 'mode': 'wb', 'buffering': -1, 'encoding': None, 'errors': None, 'newline': None, 'closefd': True, 'opener': None, 'ignore_ext': False, 'compression': None, 'transport_params': None}\n",
      "DEBUG:whylogs.app.writers:Using tmp dir: /var/folders/0s/qfqb94xj5pg6xz3d_l7xfsqm0000gn/T/tmp_d3giyln\n",
      "DEBUG:whylogs.mlflow.patcher:Finished uploading all the loggers\n",
      "DEBUG:whylogs:Upload with WhyLabs API token\n",
      "DEBUG:whylogs.app.writers:Writing logger /var/folders/0s/qfqb94xj5pg6xz3d_l7xfsqm0000gn/T/tmp_d3giyln/140b29053f91475c8636ab88ba3b2ffc/profile.bin's data to whylogs/140b29053f91475c8636ab88ba3b2ffc\n",
      "DEBUG:whylogs.mlflow.patcher:Finished closing the session\n",
      "DEBUG:smart_open.smart_open_lib:{'uri': '/var/folders/0s/qfqb94xj5pg6xz3d_l7xfsqm0000gn/T/tmp_d3giyln/140b29053f91475c8636ab88ba3b2ffc/profile.bin', 'mode': 'wb', 'buffering': -1, 'encoding': None, 'errors': None, 'newline': None, 'closefd': True, 'opener': None, 'ignore_ext': False, 'compression': None, 'transport_params': None}\n",
      "DEBUG:whylogs.app.writers:Successfully uploaded logger 140b29053f91475c8636ab88ba3b2ffc data to MLFlow\n",
      "DEBUG:whylogs.mlflow.patcher:Closing whylogs before ending the MLFlow run\n",
      "DEBUG:whylogs.mlflow.patcher:Attempting close patcher WhyLogsRun\n",
      "DEBUG:whylogs.mlflow.patcher:Finished uploading all the loggers\n",
      "DEBUG:whylogs.mlflow.patcher:Finished closing the session\n",
      "DEBUG:whylogs:Done uploading to org-5557/model-10/1632177690000 to https://api.whylabsapp.com\n",
      "DEBUG:whylogs:Done uploading to org-5557/model-10/1632177700000 to https://api.whylabsapp.com\n",
      "DEBUG:whylogs.mlflow.patcher:Closing whylogs before ending the MLFlow run\n",
      "DEBUG:whylogs.mlflow.patcher:Attempting close patcher WhyLogsRun\n",
      "DEBUG:whylogs.mlflow.patcher:Finished uploading all the loggers\n",
      "DEBUG:whylogs.mlflow.patcher:Finished closing the session\n",
      "DEBUG:whylogs.mlflow.patcher:Detect a new run ID. Previous run ID: None. New run ID: 784c432f61e340cdba2b83b15d7c9d77.\n",
      "DEBUG:whylogs.mlflow.patcher:Attempting close patcher WhyLogsRun\n",
      "DEBUG:whylogs.mlflow.patcher:Finished uploading all the loggers\n",
      "DEBUG:whylogs.mlflow.patcher:Finished closing the session\n",
      "DEBUG:whylogs.mlflow.patcher:Creating a new logger for dataset name: 2021-09-13 22:42:40.747202+00:00. Tags: {'mlflow.user': 'nicolasroldan', 'mlflow.runName': 'Run 8', 'mlflow.source.name': '/opt/anaconda3/envs/whylabs-mlflow/lib/python3.7/site-packages/ipykernel_launcher.py', 'mlflow.source.type': 'LOCAL', 'mflow.experiment_id': '1', 'mflow.run_id': '784c432f61e340cdba2b83b15d7c9d77'}\n"
     ]
    },
    {
     "name": "stdout",
     "output_type": "stream",
     "text": [
      "Subset 8, mean absolute error: 0.3436368638563959\n"
     ]
    },
    {
     "name": "stderr",
     "output_type": "stream",
     "text": [
      "DEBUG:smart_open.smart_open_lib:{'uri': '/var/folders/0s/qfqb94xj5pg6xz3d_l7xfsqm0000gn/T/tmpr4t2hf5l/profile.bin', 'mode': 'wb', 'buffering': -1, 'encoding': None, 'errors': None, 'newline': None, 'closefd': True, 'opener': None, 'ignore_ext': False, 'compression': None, 'transport_params': None}\n",
      "DEBUG:whylogs.app.writers:Using tmp dir: /var/folders/0s/qfqb94xj5pg6xz3d_l7xfsqm0000gn/T/tmpbhbjfg0u\n",
      "DEBUG:whylogs:Upload with WhyLabs API token\n",
      "DEBUG:whylogs.app.writers:Writing logger /var/folders/0s/qfqb94xj5pg6xz3d_l7xfsqm0000gn/T/tmpbhbjfg0u/784c432f61e340cdba2b83b15d7c9d77/profile.bin's data to whylogs/784c432f61e340cdba2b83b15d7c9d77\n",
      "DEBUG:smart_open.smart_open_lib:{'uri': '/var/folders/0s/qfqb94xj5pg6xz3d_l7xfsqm0000gn/T/tmpbhbjfg0u/784c432f61e340cdba2b83b15d7c9d77/profile.bin', 'mode': 'wb', 'buffering': -1, 'encoding': None, 'errors': None, 'newline': None, 'closefd': True, 'opener': None, 'ignore_ext': False, 'compression': None, 'transport_params': None}\n",
      "DEBUG:whylogs.app.writers:Successfully uploaded logger 784c432f61e340cdba2b83b15d7c9d77 data to MLFlow\n",
      "DEBUG:whylogs.mlflow.patcher:Closing whylogs before ending the MLFlow run\n",
      "DEBUG:whylogs.mlflow.patcher:Attempting close patcher WhyLogsRun\n",
      "DEBUG:smart_open.smart_open_lib:{'uri': '/var/folders/0s/qfqb94xj5pg6xz3d_l7xfsqm0000gn/T/tmpzafuzai3/profile.bin', 'mode': 'wb', 'buffering': -1, 'encoding': None, 'errors': None, 'newline': None, 'closefd': True, 'opener': None, 'ignore_ext': False, 'compression': None, 'transport_params': None}\n",
      "DEBUG:whylogs.app.writers:Using tmp dir: /var/folders/0s/qfqb94xj5pg6xz3d_l7xfsqm0000gn/T/tmppbb1kchz\n",
      "DEBUG:whylogs.mlflow.patcher:Finished uploading all the loggers\n",
      "DEBUG:whylogs:Upload with WhyLabs API token\n",
      "DEBUG:whylogs.app.writers:Writing logger /var/folders/0s/qfqb94xj5pg6xz3d_l7xfsqm0000gn/T/tmppbb1kchz/784c432f61e340cdba2b83b15d7c9d77/profile.bin's data to whylogs/784c432f61e340cdba2b83b15d7c9d77\n",
      "DEBUG:whylogs.mlflow.patcher:Finished closing the session\n",
      "DEBUG:smart_open.smart_open_lib:{'uri': '/var/folders/0s/qfqb94xj5pg6xz3d_l7xfsqm0000gn/T/tmppbb1kchz/784c432f61e340cdba2b83b15d7c9d77/profile.bin', 'mode': 'wb', 'buffering': -1, 'encoding': None, 'errors': None, 'newline': None, 'closefd': True, 'opener': None, 'ignore_ext': False, 'compression': None, 'transport_params': None}\n",
      "DEBUG:whylogs.app.writers:Successfully uploaded logger 784c432f61e340cdba2b83b15d7c9d77 data to MLFlow\n",
      "DEBUG:whylogs.mlflow.patcher:Closing whylogs before ending the MLFlow run\n",
      "DEBUG:whylogs.mlflow.patcher:Attempting close patcher WhyLogsRun\n",
      "DEBUG:whylogs.mlflow.patcher:Finished uploading all the loggers\n",
      "DEBUG:whylogs.mlflow.patcher:Finished closing the session\n",
      "DEBUG:whylogs:Done uploading to org-5557/model-10/1632177760000 to https://api.whylabsapp.com\n",
      "DEBUG:whylogs:Done uploading to org-5557/model-10/1632177770000 to https://api.whylabsapp.com\n",
      "DEBUG:whylogs.mlflow.patcher:Closing whylogs before ending the MLFlow run\n",
      "DEBUG:whylogs.mlflow.patcher:Attempting close patcher WhyLogsRun\n",
      "DEBUG:whylogs.mlflow.patcher:Finished uploading all the loggers\n",
      "DEBUG:whylogs.mlflow.patcher:Finished closing the session\n",
      "DEBUG:whylogs.mlflow.patcher:Detect a new run ID. Previous run ID: None. New run ID: c053164c2ba44a06ae1f7c3273bd2e0a.\n",
      "DEBUG:whylogs.mlflow.patcher:Attempting close patcher WhyLogsRun\n",
      "DEBUG:whylogs.mlflow.patcher:Finished uploading all the loggers\n",
      "DEBUG:whylogs.mlflow.patcher:Finished closing the session\n",
      "DEBUG:whylogs.mlflow.patcher:Creating a new logger for dataset name: 2021-09-12 22:43:50.802880+00:00. Tags: {'mlflow.user': 'nicolasroldan', 'mlflow.runName': 'Run 9', 'mlflow.source.name': '/opt/anaconda3/envs/whylabs-mlflow/lib/python3.7/site-packages/ipykernel_launcher.py', 'mlflow.source.type': 'LOCAL', 'mflow.experiment_id': '1', 'mflow.run_id': 'c053164c2ba44a06ae1f7c3273bd2e0a'}\n"
     ]
    },
    {
     "name": "stdout",
     "output_type": "stream",
     "text": [
      "Subset 9, mean absolute error: 0.6318029393928082\n"
     ]
    },
    {
     "name": "stderr",
     "output_type": "stream",
     "text": [
      "DEBUG:smart_open.smart_open_lib:{'uri': '/var/folders/0s/qfqb94xj5pg6xz3d_l7xfsqm0000gn/T/tmpi8b4_mun/profile.bin', 'mode': 'wb', 'buffering': -1, 'encoding': None, 'errors': None, 'newline': None, 'closefd': True, 'opener': None, 'ignore_ext': False, 'compression': None, 'transport_params': None}\n",
      "DEBUG:whylogs.app.writers:Using tmp dir: /var/folders/0s/qfqb94xj5pg6xz3d_l7xfsqm0000gn/T/tmpzy4rnmoh\n",
      "DEBUG:whylogs:Upload with WhyLabs API token\n",
      "DEBUG:whylogs.app.writers:Writing logger /var/folders/0s/qfqb94xj5pg6xz3d_l7xfsqm0000gn/T/tmpzy4rnmoh/c053164c2ba44a06ae1f7c3273bd2e0a/profile.bin's data to whylogs/c053164c2ba44a06ae1f7c3273bd2e0a\n",
      "DEBUG:smart_open.smart_open_lib:{'uri': '/var/folders/0s/qfqb94xj5pg6xz3d_l7xfsqm0000gn/T/tmpzy4rnmoh/c053164c2ba44a06ae1f7c3273bd2e0a/profile.bin', 'mode': 'wb', 'buffering': -1, 'encoding': None, 'errors': None, 'newline': None, 'closefd': True, 'opener': None, 'ignore_ext': False, 'compression': None, 'transport_params': None}\n",
      "DEBUG:whylogs.app.writers:Successfully uploaded logger c053164c2ba44a06ae1f7c3273bd2e0a data to MLFlow\n",
      "DEBUG:whylogs.mlflow.patcher:Closing whylogs before ending the MLFlow run\n",
      "DEBUG:whylogs.mlflow.patcher:Attempting close patcher WhyLogsRun\n",
      "DEBUG:smart_open.smart_open_lib:{'uri': '/var/folders/0s/qfqb94xj5pg6xz3d_l7xfsqm0000gn/T/tmp2m46e417/profile.bin', 'mode': 'wb', 'buffering': -1, 'encoding': None, 'errors': None, 'newline': None, 'closefd': True, 'opener': None, 'ignore_ext': False, 'compression': None, 'transport_params': None}\n",
      "DEBUG:whylogs.app.writers:Using tmp dir: /var/folders/0s/qfqb94xj5pg6xz3d_l7xfsqm0000gn/T/tmphp4ep16b\n",
      "DEBUG:whylogs.mlflow.patcher:Finished uploading all the loggers\n",
      "DEBUG:whylogs:Upload with WhyLabs API token\n",
      "DEBUG:whylogs.app.writers:Writing logger /var/folders/0s/qfqb94xj5pg6xz3d_l7xfsqm0000gn/T/tmphp4ep16b/c053164c2ba44a06ae1f7c3273bd2e0a/profile.bin's data to whylogs/c053164c2ba44a06ae1f7c3273bd2e0a\n",
      "DEBUG:whylogs.mlflow.patcher:Finished closing the session\n",
      "DEBUG:smart_open.smart_open_lib:{'uri': '/var/folders/0s/qfqb94xj5pg6xz3d_l7xfsqm0000gn/T/tmphp4ep16b/c053164c2ba44a06ae1f7c3273bd2e0a/profile.bin', 'mode': 'wb', 'buffering': -1, 'encoding': None, 'errors': None, 'newline': None, 'closefd': True, 'opener': None, 'ignore_ext': False, 'compression': None, 'transport_params': None}\n",
      "DEBUG:whylogs.app.writers:Successfully uploaded logger c053164c2ba44a06ae1f7c3273bd2e0a data to MLFlow\n",
      "DEBUG:whylogs.mlflow.patcher:Closing whylogs before ending the MLFlow run\n",
      "DEBUG:whylogs.mlflow.patcher:Attempting close patcher WhyLogsRun\n",
      "DEBUG:whylogs.mlflow.patcher:Finished uploading all the loggers\n",
      "DEBUG:whylogs.mlflow.patcher:Finished closing the session\n",
      "DEBUG:whylogs:Done uploading to org-5557/model-10/1632177840000 to https://api.whylabsapp.com\n",
      "DEBUG:whylogs:Done uploading to org-5557/model-10/1632177830000 to https://api.whylabsapp.com\n",
      "DEBUG:whylogs.mlflow.patcher:Closing whylogs before ending the MLFlow run\n",
      "DEBUG:whylogs.mlflow.patcher:Attempting close patcher WhyLogsRun\n",
      "DEBUG:whylogs.mlflow.patcher:Finished uploading all the loggers\n",
      "DEBUG:whylogs.mlflow.patcher:Finished closing the session\n",
      "DEBUG:whylogs.mlflow.patcher:Detect a new run ID. Previous run ID: None. New run ID: 2d97550f14224420a7d9433be4f29e0c.\n",
      "DEBUG:whylogs.mlflow.patcher:Attempting close patcher WhyLogsRun\n",
      "DEBUG:whylogs.mlflow.patcher:Finished uploading all the loggers\n",
      "DEBUG:whylogs.mlflow.patcher:Finished closing the session\n",
      "DEBUG:whylogs.mlflow.patcher:Creating a new logger for dataset name: 2021-09-11 22:45:00.869219+00:00. Tags: {'mlflow.user': 'nicolasroldan', 'mlflow.runName': 'Run 10', 'mlflow.source.name': '/opt/anaconda3/envs/whylabs-mlflow/lib/python3.7/site-packages/ipykernel_launcher.py', 'mlflow.source.type': 'LOCAL', 'mflow.experiment_id': '1', 'mflow.run_id': '2d97550f14224420a7d9433be4f29e0c'}\n"
     ]
    },
    {
     "name": "stdout",
     "output_type": "stream",
     "text": [
      "Subset 10, mean absolute error: 1.3170058200905572\n"
     ]
    },
    {
     "name": "stderr",
     "output_type": "stream",
     "text": [
      "DEBUG:smart_open.smart_open_lib:{'uri': '/var/folders/0s/qfqb94xj5pg6xz3d_l7xfsqm0000gn/T/tmpanbcv8t9/profile.bin', 'mode': 'wb', 'buffering': -1, 'encoding': None, 'errors': None, 'newline': None, 'closefd': True, 'opener': None, 'ignore_ext': False, 'compression': None, 'transport_params': None}\n",
      "DEBUG:whylogs.app.writers:Using tmp dir: /var/folders/0s/qfqb94xj5pg6xz3d_l7xfsqm0000gn/T/tmpmdgv07aw\n",
      "DEBUG:whylogs:Upload with WhyLabs API token\n",
      "DEBUG:whylogs.app.writers:Writing logger /var/folders/0s/qfqb94xj5pg6xz3d_l7xfsqm0000gn/T/tmpmdgv07aw/2d97550f14224420a7d9433be4f29e0c/profile.bin's data to whylogs/2d97550f14224420a7d9433be4f29e0c\n",
      "DEBUG:smart_open.smart_open_lib:{'uri': '/var/folders/0s/qfqb94xj5pg6xz3d_l7xfsqm0000gn/T/tmpmdgv07aw/2d97550f14224420a7d9433be4f29e0c/profile.bin', 'mode': 'wb', 'buffering': -1, 'encoding': None, 'errors': None, 'newline': None, 'closefd': True, 'opener': None, 'ignore_ext': False, 'compression': None, 'transport_params': None}\n",
      "DEBUG:whylogs.app.writers:Successfully uploaded logger 2d97550f14224420a7d9433be4f29e0c data to MLFlow\n",
      "DEBUG:whylogs.mlflow.patcher:Closing whylogs before ending the MLFlow run\n",
      "DEBUG:whylogs.mlflow.patcher:Attempting close patcher WhyLogsRun\n",
      "DEBUG:smart_open.smart_open_lib:{'uri': '/var/folders/0s/qfqb94xj5pg6xz3d_l7xfsqm0000gn/T/tmpyxpgsra7/profile.bin', 'mode': 'wb', 'buffering': -1, 'encoding': None, 'errors': None, 'newline': None, 'closefd': True, 'opener': None, 'ignore_ext': False, 'compression': None, 'transport_params': None}\n",
      "DEBUG:whylogs.app.writers:Using tmp dir: /var/folders/0s/qfqb94xj5pg6xz3d_l7xfsqm0000gn/T/tmpvv80gidj\n",
      "DEBUG:whylogs.mlflow.patcher:Finished uploading all the loggers\n",
      "DEBUG:whylogs:Upload with WhyLabs API token\n",
      "DEBUG:whylogs.app.writers:Writing logger /var/folders/0s/qfqb94xj5pg6xz3d_l7xfsqm0000gn/T/tmpvv80gidj/2d97550f14224420a7d9433be4f29e0c/profile.bin's data to whylogs/2d97550f14224420a7d9433be4f29e0c\n",
      "DEBUG:whylogs.mlflow.patcher:Finished closing the session\n",
      "DEBUG:smart_open.smart_open_lib:{'uri': '/var/folders/0s/qfqb94xj5pg6xz3d_l7xfsqm0000gn/T/tmpvv80gidj/2d97550f14224420a7d9433be4f29e0c/profile.bin', 'mode': 'wb', 'buffering': -1, 'encoding': None, 'errors': None, 'newline': None, 'closefd': True, 'opener': None, 'ignore_ext': False, 'compression': None, 'transport_params': None}\n",
      "DEBUG:whylogs.app.writers:Successfully uploaded logger 2d97550f14224420a7d9433be4f29e0c data to MLFlow\n",
      "DEBUG:whylogs.mlflow.patcher:Closing whylogs before ending the MLFlow run\n",
      "DEBUG:whylogs.mlflow.patcher:Attempting close patcher WhyLogsRun\n",
      "DEBUG:whylogs.mlflow.patcher:Finished uploading all the loggers\n",
      "DEBUG:whylogs.mlflow.patcher:Finished closing the session\n",
      "DEBUG:whylogs:Done uploading to org-5557/model-10/1632177910000 to https://api.whylabsapp.com\n",
      "DEBUG:whylogs:Done uploading to org-5557/model-10/1632177900000 to https://api.whylabsapp.com\n",
      "DEBUG:whylogs.mlflow.patcher:Closing whylogs before ending the MLFlow run\n",
      "DEBUG:whylogs.mlflow.patcher:Attempting close patcher WhyLogsRun\n",
      "DEBUG:whylogs.mlflow.patcher:Finished uploading all the loggers\n",
      "DEBUG:whylogs.mlflow.patcher:Finished closing the session\n",
      "DEBUG:whylogs.mlflow.patcher:Detect a new run ID. Previous run ID: None. New run ID: 6f63f04b3967462fa78aec6cfb1cee01.\n",
      "DEBUG:whylogs.mlflow.patcher:Attempting close patcher WhyLogsRun\n",
      "DEBUG:whylogs.mlflow.patcher:Finished uploading all the loggers\n",
      "DEBUG:whylogs.mlflow.patcher:Finished closing the session\n",
      "DEBUG:whylogs.mlflow.patcher:Creating a new logger for dataset name: 2021-09-10 22:46:10.917708+00:00. Tags: {'mlflow.user': 'nicolasroldan', 'mlflow.runName': 'Run 11', 'mlflow.source.name': '/opt/anaconda3/envs/whylabs-mlflow/lib/python3.7/site-packages/ipykernel_launcher.py', 'mlflow.source.type': 'LOCAL', 'mflow.experiment_id': '1', 'mflow.run_id': '6f63f04b3967462fa78aec6cfb1cee01'}\n"
     ]
    },
    {
     "name": "stdout",
     "output_type": "stream",
     "text": [
      "Subset 11, mean absolute error: 0.3787520891470402\n"
     ]
    },
    {
     "name": "stderr",
     "output_type": "stream",
     "text": [
      "DEBUG:smart_open.smart_open_lib:{'uri': '/var/folders/0s/qfqb94xj5pg6xz3d_l7xfsqm0000gn/T/tmpefg8zne6/profile.bin', 'mode': 'wb', 'buffering': -1, 'encoding': None, 'errors': None, 'newline': None, 'closefd': True, 'opener': None, 'ignore_ext': False, 'compression': None, 'transport_params': None}\n",
      "DEBUG:whylogs.app.writers:Using tmp dir: /var/folders/0s/qfqb94xj5pg6xz3d_l7xfsqm0000gn/T/tmpisgi8gtp\n",
      "DEBUG:whylogs:Upload with WhyLabs API token\n",
      "DEBUG:whylogs.app.writers:Writing logger /var/folders/0s/qfqb94xj5pg6xz3d_l7xfsqm0000gn/T/tmpisgi8gtp/6f63f04b3967462fa78aec6cfb1cee01/profile.bin's data to whylogs/6f63f04b3967462fa78aec6cfb1cee01\n",
      "DEBUG:smart_open.smart_open_lib:{'uri': '/var/folders/0s/qfqb94xj5pg6xz3d_l7xfsqm0000gn/T/tmpisgi8gtp/6f63f04b3967462fa78aec6cfb1cee01/profile.bin', 'mode': 'wb', 'buffering': -1, 'encoding': None, 'errors': None, 'newline': None, 'closefd': True, 'opener': None, 'ignore_ext': False, 'compression': None, 'transport_params': None}\n",
      "DEBUG:whylogs.app.writers:Successfully uploaded logger 6f63f04b3967462fa78aec6cfb1cee01 data to MLFlow\n",
      "DEBUG:whylogs.mlflow.patcher:Closing whylogs before ending the MLFlow run\n",
      "DEBUG:whylogs.mlflow.patcher:Attempting close patcher WhyLogsRun\n",
      "DEBUG:smart_open.smart_open_lib:{'uri': '/var/folders/0s/qfqb94xj5pg6xz3d_l7xfsqm0000gn/T/tmpfh8qvi55/profile.bin', 'mode': 'wb', 'buffering': -1, 'encoding': None, 'errors': None, 'newline': None, 'closefd': True, 'opener': None, 'ignore_ext': False, 'compression': None, 'transport_params': None}\n",
      "DEBUG:whylogs.app.writers:Using tmp dir: /var/folders/0s/qfqb94xj5pg6xz3d_l7xfsqm0000gn/T/tmppk3od3bq\n",
      "DEBUG:whylogs.mlflow.patcher:Finished uploading all the loggers\n",
      "DEBUG:whylogs:Upload with WhyLabs API token\n",
      "DEBUG:whylogs.app.writers:Writing logger /var/folders/0s/qfqb94xj5pg6xz3d_l7xfsqm0000gn/T/tmppk3od3bq/6f63f04b3967462fa78aec6cfb1cee01/profile.bin's data to whylogs/6f63f04b3967462fa78aec6cfb1cee01\n",
      "DEBUG:whylogs.mlflow.patcher:Finished closing the session\n",
      "DEBUG:smart_open.smart_open_lib:{'uri': '/var/folders/0s/qfqb94xj5pg6xz3d_l7xfsqm0000gn/T/tmppk3od3bq/6f63f04b3967462fa78aec6cfb1cee01/profile.bin', 'mode': 'wb', 'buffering': -1, 'encoding': None, 'errors': None, 'newline': None, 'closefd': True, 'opener': None, 'ignore_ext': False, 'compression': None, 'transport_params': None}\n",
      "DEBUG:whylogs.app.writers:Successfully uploaded logger 6f63f04b3967462fa78aec6cfb1cee01 data to MLFlow\n",
      "DEBUG:whylogs.mlflow.patcher:Closing whylogs before ending the MLFlow run\n",
      "DEBUG:whylogs.mlflow.patcher:Attempting close patcher WhyLogsRun\n",
      "DEBUG:whylogs.mlflow.patcher:Finished uploading all the loggers\n",
      "DEBUG:whylogs.mlflow.patcher:Finished closing the session\n",
      "DEBUG:whylogs:Done uploading to org-5557/model-10/1632177980000 to https://api.whylabsapp.com\n",
      "DEBUG:whylogs:Done uploading to org-5557/model-10/1632177970000 to https://api.whylabsapp.com\n",
      "DEBUG:whylogs.mlflow.patcher:Closing whylogs before ending the MLFlow run\n",
      "DEBUG:whylogs.mlflow.patcher:Attempting close patcher WhyLogsRun\n",
      "DEBUG:whylogs.mlflow.patcher:Finished uploading all the loggers\n",
      "DEBUG:whylogs.mlflow.patcher:Finished closing the session\n",
      "DEBUG:whylogs.mlflow.patcher:Detect a new run ID. Previous run ID: None. New run ID: be65879aa0754956a66581c858d3315e.\n",
      "DEBUG:whylogs.mlflow.patcher:Attempting close patcher WhyLogsRun\n",
      "DEBUG:whylogs.mlflow.patcher:Finished uploading all the loggers\n",
      "DEBUG:whylogs.mlflow.patcher:Finished closing the session\n",
      "DEBUG:whylogs.mlflow.patcher:Creating a new logger for dataset name: 2021-09-09 22:47:20.966635+00:00. Tags: {'mlflow.user': 'nicolasroldan', 'mlflow.runName': 'Run 12', 'mlflow.source.name': '/opt/anaconda3/envs/whylabs-mlflow/lib/python3.7/site-packages/ipykernel_launcher.py', 'mlflow.source.type': 'LOCAL', 'mflow.experiment_id': '1', 'mflow.run_id': 'be65879aa0754956a66581c858d3315e'}\n"
     ]
    },
    {
     "name": "stdout",
     "output_type": "stream",
     "text": [
      "Subset 12, mean absolute error: 0.5633742560393946\n"
     ]
    },
    {
     "name": "stderr",
     "output_type": "stream",
     "text": [
      "DEBUG:smart_open.smart_open_lib:{'uri': '/var/folders/0s/qfqb94xj5pg6xz3d_l7xfsqm0000gn/T/tmpp5n30660/profile.bin', 'mode': 'wb', 'buffering': -1, 'encoding': None, 'errors': None, 'newline': None, 'closefd': True, 'opener': None, 'ignore_ext': False, 'compression': None, 'transport_params': None}\n",
      "DEBUG:whylogs.app.writers:Using tmp dir: /var/folders/0s/qfqb94xj5pg6xz3d_l7xfsqm0000gn/T/tmps137wy3f\n",
      "DEBUG:whylogs.app.writers:Writing logger /var/folders/0s/qfqb94xj5pg6xz3d_l7xfsqm0000gn/T/tmps137wy3f/be65879aa0754956a66581c858d3315e/profile.bin's data to whylogs/be65879aa0754956a66581c858d3315e\n",
      "DEBUG:whylogs:Upload with WhyLabs API token\n",
      "DEBUG:smart_open.smart_open_lib:{'uri': '/var/folders/0s/qfqb94xj5pg6xz3d_l7xfsqm0000gn/T/tmps137wy3f/be65879aa0754956a66581c858d3315e/profile.bin', 'mode': 'wb', 'buffering': -1, 'encoding': None, 'errors': None, 'newline': None, 'closefd': True, 'opener': None, 'ignore_ext': False, 'compression': None, 'transport_params': None}\n",
      "DEBUG:whylogs.app.writers:Successfully uploaded logger be65879aa0754956a66581c858d3315e data to MLFlow\n",
      "DEBUG:whylogs.mlflow.patcher:Closing whylogs before ending the MLFlow run\n",
      "DEBUG:whylogs.mlflow.patcher:Attempting close patcher WhyLogsRun\n",
      "DEBUG:whylogs.app.writers:Using tmp dir: /var/folders/0s/qfqb94xj5pg6xz3d_l7xfsqm0000gn/T/tmpt_8pev7y\n",
      "DEBUG:smart_open.smart_open_lib:{'uri': '/var/folders/0s/qfqb94xj5pg6xz3d_l7xfsqm0000gn/T/tmpvlm1ob5m/profile.bin', 'mode': 'wb', 'buffering': -1, 'encoding': None, 'errors': None, 'newline': None, 'closefd': True, 'opener': None, 'ignore_ext': False, 'compression': None, 'transport_params': None}\n",
      "DEBUG:whylogs.mlflow.patcher:Finished uploading all the loggers\n",
      "DEBUG:whylogs.app.writers:Writing logger /var/folders/0s/qfqb94xj5pg6xz3d_l7xfsqm0000gn/T/tmpt_8pev7y/be65879aa0754956a66581c858d3315e/profile.bin's data to whylogs/be65879aa0754956a66581c858d3315e\n",
      "DEBUG:whylogs.mlflow.patcher:Finished closing the session\n",
      "DEBUG:whylogs:Upload with WhyLabs API token\n",
      "DEBUG:smart_open.smart_open_lib:{'uri': '/var/folders/0s/qfqb94xj5pg6xz3d_l7xfsqm0000gn/T/tmpt_8pev7y/be65879aa0754956a66581c858d3315e/profile.bin', 'mode': 'wb', 'buffering': -1, 'encoding': None, 'errors': None, 'newline': None, 'closefd': True, 'opener': None, 'ignore_ext': False, 'compression': None, 'transport_params': None}\n",
      "DEBUG:whylogs.app.writers:Successfully uploaded logger be65879aa0754956a66581c858d3315e data to MLFlow\n",
      "DEBUG:whylogs.mlflow.patcher:Closing whylogs before ending the MLFlow run\n",
      "DEBUG:whylogs.mlflow.patcher:Attempting close patcher WhyLogsRun\n",
      "DEBUG:whylogs.mlflow.patcher:Finished uploading all the loggers\n",
      "DEBUG:whylogs.mlflow.patcher:Finished closing the session\n",
      "DEBUG:whylogs:Done uploading to org-5557/model-10/1632178040000 to https://api.whylabsapp.com\n",
      "DEBUG:whylogs:Done uploading to org-5557/model-10/1632178050000 to https://api.whylabsapp.com\n",
      "DEBUG:whylogs.mlflow.patcher:Closing whylogs before ending the MLFlow run\n",
      "DEBUG:whylogs.mlflow.patcher:Attempting close patcher WhyLogsRun\n",
      "DEBUG:whylogs.mlflow.patcher:Finished uploading all the loggers\n",
      "DEBUG:whylogs.mlflow.patcher:Finished closing the session\n",
      "DEBUG:whylogs.mlflow.patcher:Detect a new run ID. Previous run ID: None. New run ID: b645798c0992401ba8292b8bef34987c.\n",
      "DEBUG:whylogs.mlflow.patcher:Attempting close patcher WhyLogsRun\n",
      "DEBUG:whylogs.mlflow.patcher:Finished uploading all the loggers\n",
      "DEBUG:whylogs.mlflow.patcher:Finished closing the session\n",
      "DEBUG:whylogs.mlflow.patcher:Creating a new logger for dataset name: 2021-09-08 22:48:31.010478+00:00. Tags: {'mlflow.user': 'nicolasroldan', 'mlflow.runName': 'Run 13', 'mlflow.source.name': '/opt/anaconda3/envs/whylabs-mlflow/lib/python3.7/site-packages/ipykernel_launcher.py', 'mlflow.source.type': 'LOCAL', 'mflow.experiment_id': '1', 'mflow.run_id': 'b645798c0992401ba8292b8bef34987c'}\n"
     ]
    },
    {
     "name": "stdout",
     "output_type": "stream",
     "text": [
      "Subset 13, mean absolute error: 0.6452155441283652\n"
     ]
    },
    {
     "name": "stderr",
     "output_type": "stream",
     "text": [
      "DEBUG:smart_open.smart_open_lib:{'uri': '/var/folders/0s/qfqb94xj5pg6xz3d_l7xfsqm0000gn/T/tmp6t4clz3v/profile.bin', 'mode': 'wb', 'buffering': -1, 'encoding': None, 'errors': None, 'newline': None, 'closefd': True, 'opener': None, 'ignore_ext': False, 'compression': None, 'transport_params': None}\n",
      "DEBUG:whylogs.app.writers:Using tmp dir: /var/folders/0s/qfqb94xj5pg6xz3d_l7xfsqm0000gn/T/tmp5jz1xp1y\n",
      "DEBUG:whylogs:Upload with WhyLabs API token\n",
      "DEBUG:whylogs.app.writers:Writing logger /var/folders/0s/qfqb94xj5pg6xz3d_l7xfsqm0000gn/T/tmp5jz1xp1y/b645798c0992401ba8292b8bef34987c/profile.bin's data to whylogs/b645798c0992401ba8292b8bef34987c\n",
      "DEBUG:smart_open.smart_open_lib:{'uri': '/var/folders/0s/qfqb94xj5pg6xz3d_l7xfsqm0000gn/T/tmp5jz1xp1y/b645798c0992401ba8292b8bef34987c/profile.bin', 'mode': 'wb', 'buffering': -1, 'encoding': None, 'errors': None, 'newline': None, 'closefd': True, 'opener': None, 'ignore_ext': False, 'compression': None, 'transport_params': None}\n",
      "DEBUG:whylogs.app.writers:Successfully uploaded logger b645798c0992401ba8292b8bef34987c data to MLFlow\n",
      "DEBUG:whylogs.mlflow.patcher:Closing whylogs before ending the MLFlow run\n",
      "DEBUG:whylogs.mlflow.patcher:Attempting close patcher WhyLogsRun\n",
      "DEBUG:smart_open.smart_open_lib:{'uri': '/var/folders/0s/qfqb94xj5pg6xz3d_l7xfsqm0000gn/T/tmpl1f_hg5m/profile.bin', 'mode': 'wb', 'buffering': -1, 'encoding': None, 'errors': None, 'newline': None, 'closefd': True, 'opener': None, 'ignore_ext': False, 'compression': None, 'transport_params': None}\n",
      "DEBUG:whylogs.app.writers:Using tmp dir: /var/folders/0s/qfqb94xj5pg6xz3d_l7xfsqm0000gn/T/tmp2_gll55o\n",
      "DEBUG:whylogs.mlflow.patcher:Finished uploading all the loggers\n",
      "DEBUG:whylogs:Upload with WhyLabs API token\n",
      "DEBUG:whylogs.app.writers:Writing logger /var/folders/0s/qfqb94xj5pg6xz3d_l7xfsqm0000gn/T/tmp2_gll55o/b645798c0992401ba8292b8bef34987c/profile.bin's data to whylogs/b645798c0992401ba8292b8bef34987c\n",
      "DEBUG:whylogs.mlflow.patcher:Finished closing the session\n",
      "DEBUG:smart_open.smart_open_lib:{'uri': '/var/folders/0s/qfqb94xj5pg6xz3d_l7xfsqm0000gn/T/tmp2_gll55o/b645798c0992401ba8292b8bef34987c/profile.bin', 'mode': 'wb', 'buffering': -1, 'encoding': None, 'errors': None, 'newline': None, 'closefd': True, 'opener': None, 'ignore_ext': False, 'compression': None, 'transport_params': None}\n",
      "DEBUG:whylogs.app.writers:Successfully uploaded logger b645798c0992401ba8292b8bef34987c data to MLFlow\n",
      "DEBUG:whylogs.mlflow.patcher:Closing whylogs before ending the MLFlow run\n",
      "DEBUG:whylogs.mlflow.patcher:Attempting close patcher WhyLogsRun\n",
      "DEBUG:whylogs.mlflow.patcher:Finished uploading all the loggers\n",
      "DEBUG:whylogs.mlflow.patcher:Finished closing the session\n",
      "DEBUG:whylogs:Done uploading to org-5557/model-10/1632178111000 to https://api.whylabsapp.com\n",
      "DEBUG:whylogs:Done uploading to org-5557/model-10/1632178121000 to https://api.whylabsapp.com\n",
      "DEBUG:whylogs.mlflow.patcher:Closing whylogs before ending the MLFlow run\n",
      "DEBUG:whylogs.mlflow.patcher:Attempting close patcher WhyLogsRun\n",
      "DEBUG:whylogs.mlflow.patcher:Finished uploading all the loggers\n",
      "DEBUG:whylogs.mlflow.patcher:Finished closing the session\n",
      "DEBUG:whylogs.mlflow.patcher:Detect a new run ID. Previous run ID: None. New run ID: 73f25e77e7ce478993faf692b0cebce9.\n",
      "DEBUG:whylogs.mlflow.patcher:Attempting close patcher WhyLogsRun\n",
      "DEBUG:whylogs.mlflow.patcher:Finished uploading all the loggers\n",
      "DEBUG:whylogs.mlflow.patcher:Finished closing the session\n",
      "DEBUG:whylogs.mlflow.patcher:Creating a new logger for dataset name: 2021-09-07 22:49:41.063663+00:00. Tags: {'mlflow.user': 'nicolasroldan', 'mlflow.runName': 'Run 14', 'mlflow.source.name': '/opt/anaconda3/envs/whylabs-mlflow/lib/python3.7/site-packages/ipykernel_launcher.py', 'mlflow.source.type': 'LOCAL', 'mflow.experiment_id': '1', 'mflow.run_id': '73f25e77e7ce478993faf692b0cebce9'}\n"
     ]
    },
    {
     "name": "stdout",
     "output_type": "stream",
     "text": [
      "Subset 14, mean absolute error: 0.7151462103614235\n"
     ]
    },
    {
     "name": "stderr",
     "output_type": "stream",
     "text": [
      "DEBUG:smart_open.smart_open_lib:{'uri': '/var/folders/0s/qfqb94xj5pg6xz3d_l7xfsqm0000gn/T/tmp2ztey4g4/profile.bin', 'mode': 'wb', 'buffering': -1, 'encoding': None, 'errors': None, 'newline': None, 'closefd': True, 'opener': None, 'ignore_ext': False, 'compression': None, 'transport_params': None}\n",
      "DEBUG:whylogs.app.writers:Using tmp dir: /var/folders/0s/qfqb94xj5pg6xz3d_l7xfsqm0000gn/T/tmpnmuazrcs\n",
      "DEBUG:whylogs:Upload with WhyLabs API token\n",
      "DEBUG:whylogs.app.writers:Writing logger /var/folders/0s/qfqb94xj5pg6xz3d_l7xfsqm0000gn/T/tmpnmuazrcs/73f25e77e7ce478993faf692b0cebce9/profile.bin's data to whylogs/73f25e77e7ce478993faf692b0cebce9\n",
      "DEBUG:smart_open.smart_open_lib:{'uri': '/var/folders/0s/qfqb94xj5pg6xz3d_l7xfsqm0000gn/T/tmpnmuazrcs/73f25e77e7ce478993faf692b0cebce9/profile.bin', 'mode': 'wb', 'buffering': -1, 'encoding': None, 'errors': None, 'newline': None, 'closefd': True, 'opener': None, 'ignore_ext': False, 'compression': None, 'transport_params': None}\n",
      "DEBUG:whylogs.app.writers:Successfully uploaded logger 73f25e77e7ce478993faf692b0cebce9 data to MLFlow\n",
      "DEBUG:whylogs.mlflow.patcher:Closing whylogs before ending the MLFlow run\n",
      "DEBUG:whylogs.mlflow.patcher:Attempting close patcher WhyLogsRun\n",
      "DEBUG:smart_open.smart_open_lib:{'uri': '/var/folders/0s/qfqb94xj5pg6xz3d_l7xfsqm0000gn/T/tmpy_yqhlxi/profile.bin', 'mode': 'wb', 'buffering': -1, 'encoding': None, 'errors': None, 'newline': None, 'closefd': True, 'opener': None, 'ignore_ext': False, 'compression': None, 'transport_params': None}\n",
      "DEBUG:whylogs.app.writers:Using tmp dir: /var/folders/0s/qfqb94xj5pg6xz3d_l7xfsqm0000gn/T/tmplh94oy_s\n",
      "DEBUG:whylogs.mlflow.patcher:Finished uploading all the loggers\n",
      "DEBUG:whylogs.app.writers:Writing logger /var/folders/0s/qfqb94xj5pg6xz3d_l7xfsqm0000gn/T/tmplh94oy_s/73f25e77e7ce478993faf692b0cebce9/profile.bin's data to whylogs/73f25e77e7ce478993faf692b0cebce9\n",
      "DEBUG:whylogs:Upload with WhyLabs API token\n",
      "DEBUG:whylogs.mlflow.patcher:Finished closing the session\n",
      "DEBUG:smart_open.smart_open_lib:{'uri': '/var/folders/0s/qfqb94xj5pg6xz3d_l7xfsqm0000gn/T/tmplh94oy_s/73f25e77e7ce478993faf692b0cebce9/profile.bin', 'mode': 'wb', 'buffering': -1, 'encoding': None, 'errors': None, 'newline': None, 'closefd': True, 'opener': None, 'ignore_ext': False, 'compression': None, 'transport_params': None}\n",
      "DEBUG:whylogs.app.writers:Successfully uploaded logger 73f25e77e7ce478993faf692b0cebce9 data to MLFlow\n",
      "DEBUG:whylogs.mlflow.patcher:Closing whylogs before ending the MLFlow run\n",
      "DEBUG:whylogs.mlflow.patcher:Attempting close patcher WhyLogsRun\n",
      "DEBUG:whylogs.mlflow.patcher:Finished uploading all the loggers\n",
      "DEBUG:whylogs.mlflow.patcher:Finished closing the session\n",
      "DEBUG:whylogs:Done uploading to org-5557/model-10/1632178191000 to https://api.whylabsapp.com\n",
      "DEBUG:whylogs:Done uploading to org-5557/model-10/1632178181000 to https://api.whylabsapp.com\n",
      "DEBUG:whylogs.mlflow.patcher:Closing whylogs before ending the MLFlow run\n",
      "DEBUG:whylogs.mlflow.patcher:Attempting close patcher WhyLogsRun\n",
      "DEBUG:whylogs.mlflow.patcher:Finished uploading all the loggers\n",
      "DEBUG:whylogs.mlflow.patcher:Finished closing the session\n",
      "DEBUG:whylogs.mlflow.patcher:Detect a new run ID. Previous run ID: None. New run ID: 62019ccd77db48a591005f2d78c354ec.\n",
      "DEBUG:whylogs.mlflow.patcher:Attempting close patcher WhyLogsRun\n",
      "DEBUG:whylogs.mlflow.patcher:Finished uploading all the loggers\n",
      "DEBUG:whylogs.mlflow.patcher:Finished closing the session\n",
      "DEBUG:whylogs.mlflow.patcher:Creating a new logger for dataset name: 2021-09-06 22:50:51.115258+00:00. Tags: {'mlflow.user': 'nicolasroldan', 'mlflow.runName': 'Run 15', 'mlflow.source.name': '/opt/anaconda3/envs/whylabs-mlflow/lib/python3.7/site-packages/ipykernel_launcher.py', 'mlflow.source.type': 'LOCAL', 'mflow.experiment_id': '1', 'mflow.run_id': '62019ccd77db48a591005f2d78c354ec'}\n"
     ]
    },
    {
     "name": "stdout",
     "output_type": "stream",
     "text": [
      "Subset 15, mean absolute error: 0.5030891989419306\n"
     ]
    },
    {
     "name": "stderr",
     "output_type": "stream",
     "text": [
      "DEBUG:smart_open.smart_open_lib:{'uri': '/var/folders/0s/qfqb94xj5pg6xz3d_l7xfsqm0000gn/T/tmpjsp146qe/profile.bin', 'mode': 'wb', 'buffering': -1, 'encoding': None, 'errors': None, 'newline': None, 'closefd': True, 'opener': None, 'ignore_ext': False, 'compression': None, 'transport_params': None}\n",
      "DEBUG:whylogs.app.writers:Using tmp dir: /var/folders/0s/qfqb94xj5pg6xz3d_l7xfsqm0000gn/T/tmpxtvio35k\n",
      "DEBUG:whylogs:Upload with WhyLabs API token\n",
      "DEBUG:whylogs.app.writers:Writing logger /var/folders/0s/qfqb94xj5pg6xz3d_l7xfsqm0000gn/T/tmpxtvio35k/62019ccd77db48a591005f2d78c354ec/profile.bin's data to whylogs/62019ccd77db48a591005f2d78c354ec\n",
      "DEBUG:smart_open.smart_open_lib:{'uri': '/var/folders/0s/qfqb94xj5pg6xz3d_l7xfsqm0000gn/T/tmpxtvio35k/62019ccd77db48a591005f2d78c354ec/profile.bin', 'mode': 'wb', 'buffering': -1, 'encoding': None, 'errors': None, 'newline': None, 'closefd': True, 'opener': None, 'ignore_ext': False, 'compression': None, 'transport_params': None}\n",
      "DEBUG:whylogs.app.writers:Successfully uploaded logger 62019ccd77db48a591005f2d78c354ec data to MLFlow\n",
      "DEBUG:whylogs.mlflow.patcher:Closing whylogs before ending the MLFlow run\n",
      "DEBUG:whylogs.mlflow.patcher:Attempting close patcher WhyLogsRun\n",
      "DEBUG:smart_open.smart_open_lib:{'uri': '/var/folders/0s/qfqb94xj5pg6xz3d_l7xfsqm0000gn/T/tmp5wks1wve/profile.bin', 'mode': 'wb', 'buffering': -1, 'encoding': None, 'errors': None, 'newline': None, 'closefd': True, 'opener': None, 'ignore_ext': False, 'compression': None, 'transport_params': None}\n",
      "DEBUG:whylogs.app.writers:Using tmp dir: /var/folders/0s/qfqb94xj5pg6xz3d_l7xfsqm0000gn/T/tmp0vq9otyw\n",
      "DEBUG:whylogs.mlflow.patcher:Finished uploading all the loggers\n",
      "DEBUG:whylogs:Upload with WhyLabs API token\n",
      "DEBUG:whylogs.app.writers:Writing logger /var/folders/0s/qfqb94xj5pg6xz3d_l7xfsqm0000gn/T/tmp0vq9otyw/62019ccd77db48a591005f2d78c354ec/profile.bin's data to whylogs/62019ccd77db48a591005f2d78c354ec\n",
      "DEBUG:whylogs.mlflow.patcher:Finished closing the session\n",
      "DEBUG:smart_open.smart_open_lib:{'uri': '/var/folders/0s/qfqb94xj5pg6xz3d_l7xfsqm0000gn/T/tmp0vq9otyw/62019ccd77db48a591005f2d78c354ec/profile.bin', 'mode': 'wb', 'buffering': -1, 'encoding': None, 'errors': None, 'newline': None, 'closefd': True, 'opener': None, 'ignore_ext': False, 'compression': None, 'transport_params': None}\n",
      "DEBUG:whylogs.app.writers:Successfully uploaded logger 62019ccd77db48a591005f2d78c354ec data to MLFlow\n",
      "DEBUG:whylogs.mlflow.patcher:Closing whylogs before ending the MLFlow run\n",
      "DEBUG:whylogs.mlflow.patcher:Attempting close patcher WhyLogsRun\n",
      "DEBUG:whylogs.mlflow.patcher:Finished uploading all the loggers\n",
      "DEBUG:whylogs.mlflow.patcher:Finished closing the session\n",
      "DEBUG:whylogs:Done uploading to org-5557/model-10/1632178261000 to https://api.whylabsapp.com\n",
      "DEBUG:whylogs:Done uploading to org-5557/model-10/1632178251000 to https://api.whylabsapp.com\n",
      "DEBUG:whylogs.mlflow.patcher:Closing whylogs before ending the MLFlow run\n",
      "DEBUG:whylogs.mlflow.patcher:Attempting close patcher WhyLogsRun\n",
      "DEBUG:whylogs.mlflow.patcher:Finished uploading all the loggers\n",
      "DEBUG:whylogs.mlflow.patcher:Finished closing the session\n",
      "DEBUG:whylogs.mlflow.patcher:Detect a new run ID. Previous run ID: None. New run ID: 3faf7a2f8a61411a91d4d04707193ffb.\n",
      "DEBUG:whylogs.mlflow.patcher:Attempting close patcher WhyLogsRun\n",
      "DEBUG:whylogs.mlflow.patcher:Finished uploading all the loggers\n",
      "DEBUG:whylogs.mlflow.patcher:Finished closing the session\n",
      "DEBUG:whylogs.mlflow.patcher:Creating a new logger for dataset name: 2021-09-05 22:52:01.165796+00:00. Tags: {'mlflow.user': 'nicolasroldan', 'mlflow.runName': 'Run 16', 'mlflow.source.name': '/opt/anaconda3/envs/whylabs-mlflow/lib/python3.7/site-packages/ipykernel_launcher.py', 'mlflow.source.type': 'LOCAL', 'mflow.experiment_id': '1', 'mflow.run_id': '3faf7a2f8a61411a91d4d04707193ffb'}\n"
     ]
    },
    {
     "name": "stdout",
     "output_type": "stream",
     "text": [
      "Subset 16, mean absolute error: 0.5731254838179434\n"
     ]
    },
    {
     "name": "stderr",
     "output_type": "stream",
     "text": [
      "DEBUG:smart_open.smart_open_lib:{'uri': '/var/folders/0s/qfqb94xj5pg6xz3d_l7xfsqm0000gn/T/tmprcgytg7e/profile.bin', 'mode': 'wb', 'buffering': -1, 'encoding': None, 'errors': None, 'newline': None, 'closefd': True, 'opener': None, 'ignore_ext': False, 'compression': None, 'transport_params': None}\n",
      "DEBUG:whylogs.app.writers:Using tmp dir: /var/folders/0s/qfqb94xj5pg6xz3d_l7xfsqm0000gn/T/tmpcplke8ca\n",
      "DEBUG:whylogs:Upload with WhyLabs API token\n",
      "DEBUG:whylogs.app.writers:Writing logger /var/folders/0s/qfqb94xj5pg6xz3d_l7xfsqm0000gn/T/tmpcplke8ca/3faf7a2f8a61411a91d4d04707193ffb/profile.bin's data to whylogs/3faf7a2f8a61411a91d4d04707193ffb\n",
      "DEBUG:smart_open.smart_open_lib:{'uri': '/var/folders/0s/qfqb94xj5pg6xz3d_l7xfsqm0000gn/T/tmpcplke8ca/3faf7a2f8a61411a91d4d04707193ffb/profile.bin', 'mode': 'wb', 'buffering': -1, 'encoding': None, 'errors': None, 'newline': None, 'closefd': True, 'opener': None, 'ignore_ext': False, 'compression': None, 'transport_params': None}\n",
      "DEBUG:whylogs.app.writers:Successfully uploaded logger 3faf7a2f8a61411a91d4d04707193ffb data to MLFlow\n",
      "DEBUG:whylogs.mlflow.patcher:Closing whylogs before ending the MLFlow run\n",
      "DEBUG:whylogs.mlflow.patcher:Attempting close patcher WhyLogsRun\n",
      "DEBUG:smart_open.smart_open_lib:{'uri': '/var/folders/0s/qfqb94xj5pg6xz3d_l7xfsqm0000gn/T/tmpdw_0wcxz/profile.bin', 'mode': 'wb', 'buffering': -1, 'encoding': None, 'errors': None, 'newline': None, 'closefd': True, 'opener': None, 'ignore_ext': False, 'compression': None, 'transport_params': None}\n",
      "DEBUG:whylogs.app.writers:Using tmp dir: /var/folders/0s/qfqb94xj5pg6xz3d_l7xfsqm0000gn/T/tmpk1xh4us4\n",
      "DEBUG:whylogs.mlflow.patcher:Finished uploading all the loggers\n",
      "DEBUG:whylogs:Upload with WhyLabs API token\n",
      "DEBUG:whylogs.app.writers:Writing logger /var/folders/0s/qfqb94xj5pg6xz3d_l7xfsqm0000gn/T/tmpk1xh4us4/3faf7a2f8a61411a91d4d04707193ffb/profile.bin's data to whylogs/3faf7a2f8a61411a91d4d04707193ffb\n",
      "DEBUG:whylogs.mlflow.patcher:Finished closing the session\n",
      "DEBUG:smart_open.smart_open_lib:{'uri': '/var/folders/0s/qfqb94xj5pg6xz3d_l7xfsqm0000gn/T/tmpk1xh4us4/3faf7a2f8a61411a91d4d04707193ffb/profile.bin', 'mode': 'wb', 'buffering': -1, 'encoding': None, 'errors': None, 'newline': None, 'closefd': True, 'opener': None, 'ignore_ext': False, 'compression': None, 'transport_params': None}\n",
      "DEBUG:whylogs.app.writers:Successfully uploaded logger 3faf7a2f8a61411a91d4d04707193ffb data to MLFlow\n",
      "DEBUG:whylogs.mlflow.patcher:Closing whylogs before ending the MLFlow run\n",
      "DEBUG:whylogs.mlflow.patcher:Attempting close patcher WhyLogsRun\n",
      "DEBUG:whylogs.mlflow.patcher:Finished uploading all the loggers\n",
      "DEBUG:whylogs.mlflow.patcher:Finished closing the session\n",
      "DEBUG:whylogs:Done uploading to org-5557/model-10/1632178331000 to https://api.whylabsapp.com\n",
      "DEBUG:whylogs:Done uploading to org-5557/model-10/1632178321000 to https://api.whylabsapp.com\n",
      "DEBUG:whylogs.mlflow.patcher:Closing whylogs before ending the MLFlow run\n",
      "DEBUG:whylogs.mlflow.patcher:Attempting close patcher WhyLogsRun\n",
      "DEBUG:whylogs.mlflow.patcher:Finished uploading all the loggers\n",
      "DEBUG:whylogs.mlflow.patcher:Finished closing the session\n",
      "DEBUG:whylogs.mlflow.patcher:Detect a new run ID. Previous run ID: None. New run ID: be6923b086d94562870cb6bee92e4cb9.\n",
      "DEBUG:whylogs.mlflow.patcher:Attempting close patcher WhyLogsRun\n",
      "DEBUG:whylogs.mlflow.patcher:Finished uploading all the loggers\n",
      "DEBUG:whylogs.mlflow.patcher:Finished closing the session\n",
      "DEBUG:whylogs.mlflow.patcher:Creating a new logger for dataset name: 2021-09-04 22:53:11.220806+00:00. Tags: {'mlflow.user': 'nicolasroldan', 'mlflow.runName': 'Run 17', 'mlflow.source.name': '/opt/anaconda3/envs/whylabs-mlflow/lib/python3.7/site-packages/ipykernel_launcher.py', 'mlflow.source.type': 'LOCAL', 'mflow.experiment_id': '1', 'mflow.run_id': 'be6923b086d94562870cb6bee92e4cb9'}\n"
     ]
    },
    {
     "name": "stdout",
     "output_type": "stream",
     "text": [
      "Subset 17, mean absolute error: 0.48540558219334146\n"
     ]
    },
    {
     "name": "stderr",
     "output_type": "stream",
     "text": [
      "DEBUG:smart_open.smart_open_lib:{'uri': '/var/folders/0s/qfqb94xj5pg6xz3d_l7xfsqm0000gn/T/tmp1sf3to7d/profile.bin', 'mode': 'wb', 'buffering': -1, 'encoding': None, 'errors': None, 'newline': None, 'closefd': True, 'opener': None, 'ignore_ext': False, 'compression': None, 'transport_params': None}\n",
      "DEBUG:whylogs.app.writers:Using tmp dir: /var/folders/0s/qfqb94xj5pg6xz3d_l7xfsqm0000gn/T/tmp7b7e5lrc\n",
      "DEBUG:whylogs:Upload with WhyLabs API token\n",
      "DEBUG:whylogs.app.writers:Writing logger /var/folders/0s/qfqb94xj5pg6xz3d_l7xfsqm0000gn/T/tmp7b7e5lrc/be6923b086d94562870cb6bee92e4cb9/profile.bin's data to whylogs/be6923b086d94562870cb6bee92e4cb9\n",
      "DEBUG:smart_open.smart_open_lib:{'uri': '/var/folders/0s/qfqb94xj5pg6xz3d_l7xfsqm0000gn/T/tmp7b7e5lrc/be6923b086d94562870cb6bee92e4cb9/profile.bin', 'mode': 'wb', 'buffering': -1, 'encoding': None, 'errors': None, 'newline': None, 'closefd': True, 'opener': None, 'ignore_ext': False, 'compression': None, 'transport_params': None}\n",
      "DEBUG:whylogs.app.writers:Successfully uploaded logger be6923b086d94562870cb6bee92e4cb9 data to MLFlow\n",
      "DEBUG:whylogs.mlflow.patcher:Closing whylogs before ending the MLFlow run\n",
      "DEBUG:whylogs.mlflow.patcher:Attempting close patcher WhyLogsRun\n",
      "DEBUG:smart_open.smart_open_lib:{'uri': '/var/folders/0s/qfqb94xj5pg6xz3d_l7xfsqm0000gn/T/tmpllaq69ao/profile.bin', 'mode': 'wb', 'buffering': -1, 'encoding': None, 'errors': None, 'newline': None, 'closefd': True, 'opener': None, 'ignore_ext': False, 'compression': None, 'transport_params': None}\n",
      "DEBUG:whylogs.app.writers:Using tmp dir: /var/folders/0s/qfqb94xj5pg6xz3d_l7xfsqm0000gn/T/tmpw25v4mmn\n",
      "DEBUG:whylogs.mlflow.patcher:Finished uploading all the loggers\n",
      "DEBUG:whylogs:Upload with WhyLabs API token\n",
      "DEBUG:whylogs.app.writers:Writing logger /var/folders/0s/qfqb94xj5pg6xz3d_l7xfsqm0000gn/T/tmpw25v4mmn/be6923b086d94562870cb6bee92e4cb9/profile.bin's data to whylogs/be6923b086d94562870cb6bee92e4cb9\n",
      "DEBUG:whylogs.mlflow.patcher:Finished closing the session\n",
      "DEBUG:smart_open.smart_open_lib:{'uri': '/var/folders/0s/qfqb94xj5pg6xz3d_l7xfsqm0000gn/T/tmpw25v4mmn/be6923b086d94562870cb6bee92e4cb9/profile.bin', 'mode': 'wb', 'buffering': -1, 'encoding': None, 'errors': None, 'newline': None, 'closefd': True, 'opener': None, 'ignore_ext': False, 'compression': None, 'transport_params': None}\n",
      "DEBUG:whylogs.app.writers:Successfully uploaded logger be6923b086d94562870cb6bee92e4cb9 data to MLFlow\n",
      "DEBUG:whylogs.mlflow.patcher:Closing whylogs before ending the MLFlow run\n",
      "DEBUG:whylogs.mlflow.patcher:Attempting close patcher WhyLogsRun\n",
      "DEBUG:whylogs.mlflow.patcher:Finished uploading all the loggers\n",
      "DEBUG:whylogs.mlflow.patcher:Finished closing the session\n",
      "DEBUG:whylogs:Done uploading to org-5557/model-10/1632178401000 to https://api.whylabsapp.com\n",
      "DEBUG:whylogs:Done uploading to org-5557/model-10/1632178391000 to https://api.whylabsapp.com\n",
      "DEBUG:whylogs.mlflow.patcher:Closing whylogs before ending the MLFlow run\n",
      "DEBUG:whylogs.mlflow.patcher:Attempting close patcher WhyLogsRun\n",
      "DEBUG:whylogs.mlflow.patcher:Finished uploading all the loggers\n",
      "DEBUG:whylogs.mlflow.patcher:Finished closing the session\n",
      "DEBUG:whylogs.mlflow.patcher:Detect a new run ID. Previous run ID: None. New run ID: 32bed5ae15d641c4bbf93ad3bd9e0072.\n",
      "DEBUG:whylogs.mlflow.patcher:Attempting close patcher WhyLogsRun\n",
      "DEBUG:whylogs.mlflow.patcher:Finished uploading all the loggers\n",
      "DEBUG:whylogs.mlflow.patcher:Finished closing the session\n",
      "DEBUG:whylogs.mlflow.patcher:Creating a new logger for dataset name: 2021-09-03 22:54:21.266820+00:00. Tags: {'mlflow.user': 'nicolasroldan', 'mlflow.runName': 'Run 18', 'mlflow.source.name': '/opt/anaconda3/envs/whylabs-mlflow/lib/python3.7/site-packages/ipykernel_launcher.py', 'mlflow.source.type': 'LOCAL', 'mflow.experiment_id': '1', 'mflow.run_id': '32bed5ae15d641c4bbf93ad3bd9e0072'}\n"
     ]
    },
    {
     "name": "stdout",
     "output_type": "stream",
     "text": [
      "Subset 18, mean absolute error: 0.37498509354707715\n"
     ]
    },
    {
     "name": "stderr",
     "output_type": "stream",
     "text": [
      "DEBUG:smart_open.smart_open_lib:{'uri': '/var/folders/0s/qfqb94xj5pg6xz3d_l7xfsqm0000gn/T/tmpm5rrgi9h/profile.bin', 'mode': 'wb', 'buffering': -1, 'encoding': None, 'errors': None, 'newline': None, 'closefd': True, 'opener': None, 'ignore_ext': False, 'compression': None, 'transport_params': None}\n",
      "DEBUG:whylogs.app.writers:Using tmp dir: /var/folders/0s/qfqb94xj5pg6xz3d_l7xfsqm0000gn/T/tmphmlxgnjl\n",
      "DEBUG:whylogs:Upload with WhyLabs API token\n",
      "DEBUG:whylogs.app.writers:Writing logger /var/folders/0s/qfqb94xj5pg6xz3d_l7xfsqm0000gn/T/tmphmlxgnjl/32bed5ae15d641c4bbf93ad3bd9e0072/profile.bin's data to whylogs/32bed5ae15d641c4bbf93ad3bd9e0072\n",
      "DEBUG:smart_open.smart_open_lib:{'uri': '/var/folders/0s/qfqb94xj5pg6xz3d_l7xfsqm0000gn/T/tmphmlxgnjl/32bed5ae15d641c4bbf93ad3bd9e0072/profile.bin', 'mode': 'wb', 'buffering': -1, 'encoding': None, 'errors': None, 'newline': None, 'closefd': True, 'opener': None, 'ignore_ext': False, 'compression': None, 'transport_params': None}\n",
      "DEBUG:whylogs.app.writers:Successfully uploaded logger 32bed5ae15d641c4bbf93ad3bd9e0072 data to MLFlow\n",
      "DEBUG:whylogs.mlflow.patcher:Closing whylogs before ending the MLFlow run\n",
      "DEBUG:whylogs.mlflow.patcher:Attempting close patcher WhyLogsRun\n",
      "DEBUG:smart_open.smart_open_lib:{'uri': '/var/folders/0s/qfqb94xj5pg6xz3d_l7xfsqm0000gn/T/tmp6hb5eop5/profile.bin', 'mode': 'wb', 'buffering': -1, 'encoding': None, 'errors': None, 'newline': None, 'closefd': True, 'opener': None, 'ignore_ext': False, 'compression': None, 'transport_params': None}\n",
      "DEBUG:whylogs.app.writers:Using tmp dir: /var/folders/0s/qfqb94xj5pg6xz3d_l7xfsqm0000gn/T/tmpn69k0kzv\n",
      "DEBUG:whylogs.mlflow.patcher:Finished uploading all the loggers\n",
      "DEBUG:whylogs:Upload with WhyLabs API token\n",
      "DEBUG:whylogs.app.writers:Writing logger /var/folders/0s/qfqb94xj5pg6xz3d_l7xfsqm0000gn/T/tmpn69k0kzv/32bed5ae15d641c4bbf93ad3bd9e0072/profile.bin's data to whylogs/32bed5ae15d641c4bbf93ad3bd9e0072\n",
      "DEBUG:whylogs.mlflow.patcher:Finished closing the session\n",
      "DEBUG:smart_open.smart_open_lib:{'uri': '/var/folders/0s/qfqb94xj5pg6xz3d_l7xfsqm0000gn/T/tmpn69k0kzv/32bed5ae15d641c4bbf93ad3bd9e0072/profile.bin', 'mode': 'wb', 'buffering': -1, 'encoding': None, 'errors': None, 'newline': None, 'closefd': True, 'opener': None, 'ignore_ext': False, 'compression': None, 'transport_params': None}\n",
      "DEBUG:whylogs.app.writers:Successfully uploaded logger 32bed5ae15d641c4bbf93ad3bd9e0072 data to MLFlow\n",
      "DEBUG:whylogs.mlflow.patcher:Closing whylogs before ending the MLFlow run\n",
      "DEBUG:whylogs.mlflow.patcher:Attempting close patcher WhyLogsRun\n",
      "DEBUG:whylogs.mlflow.patcher:Finished uploading all the loggers\n",
      "DEBUG:whylogs.mlflow.patcher:Finished closing the session\n",
      "DEBUG:whylogs:Done uploading to org-5557/model-10/1632178471000 to https://api.whylabsapp.com\n",
      "DEBUG:whylogs:Done uploading to org-5557/model-10/1632178461000 to https://api.whylabsapp.com\n",
      "DEBUG:whylogs.mlflow.patcher:Closing whylogs before ending the MLFlow run\n",
      "DEBUG:whylogs.mlflow.patcher:Attempting close patcher WhyLogsRun\n",
      "DEBUG:whylogs.mlflow.patcher:Finished uploading all the loggers\n",
      "DEBUG:whylogs.mlflow.patcher:Finished closing the session\n"
     ]
    },
    {
     "ename": "KeyboardInterrupt",
     "evalue": "",
     "output_type": "error",
     "traceback": [
      "\u001b[0;31m---------------------------------------------------------------------------\u001b[0m",
      "\u001b[0;31mKeyboardInterrupt\u001b[0m                         Traceback (most recent call last)",
      "\u001b[0;32m<ipython-input-12-a8d9bf006257>\u001b[0m in \u001b[0;36m<module>\u001b[0;34m\u001b[0m\n\u001b[1;32m     17\u001b[0m \u001b[0;34m\u001b[0m\u001b[0m\n\u001b[1;32m     18\u001b[0m         \u001b[0mmlflow\u001b[0m\u001b[0;34m.\u001b[0m\u001b[0mwhylogs\u001b[0m\u001b[0;34m.\u001b[0m\u001b[0mlog_pandas\u001b[0m\u001b[0;34m(\u001b[0m\u001b[0mbatch\u001b[0m\u001b[0;34m,\u001b[0m \u001b[0mdatetime\u001b[0m\u001b[0;34m.\u001b[0m\u001b[0mdatetime\u001b[0m\u001b[0;34m.\u001b[0m\u001b[0mnow\u001b[0m\u001b[0;34m(\u001b[0m\u001b[0mdatetime\u001b[0m\u001b[0;34m.\u001b[0m\u001b[0mtimezone\u001b[0m\u001b[0;34m.\u001b[0m\u001b[0mutc\u001b[0m\u001b[0;34m)\u001b[0m \u001b[0;34m-\u001b[0m \u001b[0mdatetime\u001b[0m\u001b[0;34m.\u001b[0m\u001b[0mtimedelta\u001b[0m\u001b[0;34m(\u001b[0m\u001b[0mdays\u001b[0m\u001b[0;34m=\u001b[0m\u001b[0mi\u001b[0m\u001b[0;34m)\u001b[0m\u001b[0;34m)\u001b[0m\u001b[0;34m\u001b[0m\u001b[0;34m\u001b[0m\u001b[0m\n\u001b[0;32m---> 19\u001b[0;31m         \u001b[0mtime\u001b[0m\u001b[0;34m.\u001b[0m\u001b[0msleep\u001b[0m\u001b[0;34m(\u001b[0m\u001b[0;36m70\u001b[0m\u001b[0;34m)\u001b[0m\u001b[0;34m\u001b[0m\u001b[0;34m\u001b[0m\u001b[0m\n\u001b[0m",
      "\u001b[0;31mKeyboardInterrupt\u001b[0m: "
     ]
    }
   ],
   "source": [
    "# run predictions on the batches of data we set up earlier and log whylogs data\n",
    "for i in range(num_batches):\n",
    "    with mlflow.start_run(run_name=f\"Run {i + 1}\"):\n",
    "        batch = subset_test_x[i]\n",
    "        predicted_output = lr.predict(batch)\n",
    "\n",
    "        mae = mean_absolute_error(subset_test_y[i], predicted_output)\n",
    "        print(\"Subset %.0f, mean absolute error: %s\" % (i + 1, mae))\n",
    "\n",
    "        mlflow.log_params(model_params)\n",
    "        mlflow.log_metric(\"mae\", mae)\n",
    "        batch[\"mae\"] = mae\n",
    "\n",
    "        for k, v in model_params.items():\n",
    "            batch[k] = v\n",
    "        # use whylogs to log data quality metrics for the current batch\n",
    "\n",
    "        mlflow.whylogs.log_pandas(\n",
    "            batch, \n",
    "            datetime.datetime.now(datetime.timezone.utc) - datetime.timedelta(days=i)\n",
    "        )\n",
    "        time.sleep(70)"
   ]
  },
  {
   "cell_type": "code",
   "execution_count": null,
   "metadata": {},
   "outputs": [],
   "source": []
  }
 ],
 "metadata": {
  "kernelspec": {
   "display_name": "Python 3",
   "language": "python",
   "name": "python3"
  },
  "language_info": {
   "codemirror_mode": {
    "name": "ipython",
    "version": 3
   },
   "file_extension": ".py",
   "mimetype": "text/x-python",
   "name": "python",
   "nbconvert_exporter": "python",
   "pygments_lexer": "ipython3",
   "version": "3.8.5"
  }
 },
 "nbformat": 4,
 "nbformat_minor": 4
}
