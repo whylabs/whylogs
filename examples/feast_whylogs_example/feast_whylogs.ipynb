{
 "cells": [
  {
   "cell_type": "code",
   "execution_count": 1,
   "metadata": {
    "cell_id": "a5128f15-129b-439d-a18d-7b4c3fcf5193",
    "deepnote_cell_height": 262.75,
    "deepnote_cell_type": "code",
    "deepnote_to_be_reexecuted": false,
    "execution_millis": 30173,
    "execution_start": 1645028373805,
    "source_hash": "9327dbe7",
    "tags": []
   },
   "outputs": [],
   "source": [
    "%%sh\n",
    "pip install --upgrade pip -q\n",
    "pip install whylogs -U -q\n",
    "pip install feast -U -q\n",
    "pip install Pygments -q\n"
   ]
  },
  {
   "cell_type": "markdown",
   "metadata": {
    "cell_id": "de903b6c-4909-4723-af84-34562ed0c672",
    "deepnote_cell_height": 1075.78125,
    "deepnote_cell_type": "markdown",
    "tags": []
   },
   "source": [
    "# Context\n",
    "\n",
    "In this walkthrough, we'll see how you can use Feast and whylogs together at different parts of your ML pipeline - We'll use Feast to set up an online feature store, and then use it to enrich our serving data with additional features. After assembling our feature vector, we'll proceed to log it with whylogs. As the requests for prediction arrives, the logged input features will be statistically profiled. We will explore these profiles to see what kind of insights we can have.\n",
    "\n",
    "\n",
    "\n",
    "To do so, we'll use a sample dataset of daily taxi rides in NYC, extracted from [here](https://www1.nyc.gov/site/tlc/about/tlc-trip-record-data.page). Our final goal could be a prediction requested at the start of a given ride. This prediction could be whether the customer will give a high tip to the driver, or maybe whether the customer will give him a good review.  As an input to the prediction model, in addition to the ride information (like number of passengers, day of the week or trip distance), we might be interested in enriching our feature vector with information about the driver, like the driver's average speed, average rating or avg trips in the last 24 hours, with the hopes of improving the model's performances.\n",
    "\n",
    "![alt text](images/context.jpg \"Title\")\n",
    "\n",
    "The info about the specific ride will be known at inference time. However, the driver statistics might be available to us in a different data source, updated at specific time intervals. We will join these information to assemble a single feature vector by using Feast to set up an online feature store. Feast will materialize the features into the online store from a data source file. This data source will have driver statistic's, according the each driver's ID updated in an hourly basis.\n",
    "\n",
    "We will simulate a production pipeline, where requests for predictions will be made at different timestamps. We'll then log the feature vectors for each request into daily profiles for a period of 7 days. We'll then see how to inspect the summary for a given profile, and how to inspect multiple profiles across time."
   ]
  },
  {
   "cell_type": "markdown",
   "metadata": {
    "cell_id": "a49c1024-fd11-4224-bb90-4f7ce7d83512",
    "deepnote_cell_height": 420.734375,
    "deepnote_cell_type": "markdown",
    "tags": []
   },
   "source": [
    "# Changes in Data\n",
    "\n",
    "Let's consider some scenarios in which logging and visualizing features would be helpful.\n",
    "\n",
    "## Data Freshness\n",
    "\n",
    "In this example, we have updated information about drivers in an hourly basis. Let's simulate a scenario in which this frequency gets affected by some reason, and for a particular period we have new information accessible only in 2-hour cycles.\n",
    "\n",
    "## Changes in Customer Behavior\n",
    "\n",
    "Let's consider a scenario where people's behavior changes: maybe people are riding less and in groups of fewer people.  For example, when covid started, the number of rides certainly plummeted, and we could expect to see a dip in the number of passengers for each ride (for social distancing measures).\n",
    "\n",
    "We could also have a change in the criterias people use to rate a driver. For example, now the given rates, or reviews, for each driver could be affected by specific services provided, like the presence of alcohol and/or physical barriers to ensure social distancing. \n"
   ]
  },
  {
   "cell_type": "markdown",
   "metadata": {
    "cell_id": "813ead78-a12b-4dd1-a17b-1c85ae987814",
    "deepnote_cell_height": 82,
    "deepnote_cell_type": "markdown",
    "tags": []
   },
   "source": [
    "# The Feature Repository"
   ]
  },
  {
   "cell_type": "markdown",
   "metadata": {
    "cell_id": "b3e8d011-dcb0-4943-b991-5c48cd276f9e",
    "deepnote_cell_height": 82,
    "deepnote_cell_type": "markdown",
    "tags": []
   },
   "source": [
    "## Registering feature definitions and deploying your feature store"
   ]
  },
  {
   "cell_type": "markdown",
   "metadata": {},
   "source": [
    "For this walkthrough, the feature repository is already created for you in the `feature_repo` folder. It was first created using [Feast's quickstart example](https://docs.feast.dev/getting-started/quickstart) as a guide, and then making the required changes to adapt to our use case.  Let's navigate to it:"
   ]
  },
  {
   "cell_type": "code",
   "execution_count": 3,
   "metadata": {},
   "outputs": [
    {
     "name": "stdout",
     "output_type": "stream",
     "text": [
      "/mnt/c/Users/felip/OneDrive/Documentos/Projects/whylogs-felipeadachi/examples/feast_whylogs_example/feature_repo\n"
     ]
    }
   ],
   "source": [
    "%cd feast_whylogs_example/feature_repo\n",
    "# Depending on where you're running this notebook from, you might need to change the above line with:\n",
    "# %cd feature_repo\n"
   ]
  },
  {
   "cell_type": "markdown",
   "metadata": {},
   "source": [
    "Make sure you're on the right folder. You should see an empty data folder (we'll populate it with our data source later), the `example.py` python script, which contains our feature definitions, and the `feature_store.yaml` configuration file."
   ]
  },
  {
   "cell_type": "code",
   "execution_count": 4,
   "metadata": {},
   "outputs": [
    {
     "name": "stdout",
     "output_type": "stream",
     "text": [
      ".:\n",
      "__init__.py  data  example.py  feature_store.yaml\n",
      "\n",
      "./data:\n"
     ]
    }
   ],
   "source": [
    "!ls -R"
   ]
  },
  {
   "cell_type": "markdown",
   "metadata": {},
   "source": [
    "Now, let's download our data source and store it locally in our feature repository:"
   ]
  },
  {
   "cell_type": "code",
   "execution_count": 3,
   "metadata": {},
   "outputs": [
    {
     "name": "stdout",
     "output_type": "stream",
     "text": [
      "Loading data from https://whylabs-public.s3.us-west-2.amazonaws.com/whylogs_examples/feast_integration/driver_stats.parquet\n",
      "Saving file source locally\n"
     ]
    }
   ],
   "source": [
    "import pandas as pd\n",
    "path = f\"https://whylabs-public.s3.us-west-2.amazonaws.com/whylogs_examples/feast_integration/driver_stats.parquet\"\n",
    "print(f\"Loading data from {path}\")\n",
    "driver_stats = pd.read_parquet(path)\n",
    "print(f\"Saving file source locally\")\n",
    "\n",
    "driver_stats.to_parquet(\"data/driver_stats.parquet\")"
   ]
  },
  {
   "cell_type": "markdown",
   "metadata": {},
   "source": [
    "In the data source, we have driver's statistics on an hourly basis, such as the average trips done on the last 24 hours, average rating on the last month and average driving speed. You can see more information on how this data was created at the end of this notebook, in the Appendix."
   ]
  },
  {
   "cell_type": "code",
   "execution_count": 4,
   "metadata": {},
   "outputs": [
    {
     "data": {
      "text/plain": [
       "index                     float64\n",
       "event_timestamp    datetime64[ns]\n",
       "driver_id                   int64\n",
       "created            datetime64[ns]\n",
       "avg_daily_trips             int64\n",
       "rate_1m                     int64\n",
       "avg_speed                 float64\n",
       "dtype: object"
      ]
     },
     "execution_count": 4,
     "metadata": {},
     "output_type": "execute_result"
    }
   ],
   "source": [
    "driver_stats.dtypes"
   ]
  },
  {
   "cell_type": "markdown",
   "metadata": {},
   "source": [
    "Now, we will scan the python files in our feature repository for feature views/entity definitions, register the objects and deploy the infrastructure with the `feast apply command`."
   ]
  },
  {
   "cell_type": "code",
   "execution_count": 5,
   "metadata": {
    "cell_id": "c7e6cf46-41bf-46df-8322-4829e00089e6",
    "deepnote_cell_height": 132.375,
    "deepnote_cell_type": "code",
    "deepnote_to_be_reexecuted": false,
    "execution_millis": 3388,
    "execution_start": 1645028504756,
    "source_hash": "109b5466",
    "tags": []
   },
   "outputs": [
    {
     "name": "stdout",
     "output_type": "stream",
     "text": [
      "Created entity \u001b[1m\u001b[32mdriver_id\u001b[0m\n",
      "Created feature view \u001b[1m\u001b[32mdriver_hourly_stats\u001b[0m\n"
     ]
    }
   ],
   "source": [
    "!feast apply"
   ]
  },
  {
   "cell_type": "markdown",
   "metadata": {},
   "source": [
    "Let's also load our rides dataframe. In it we, have features about rides made during 10-Feb to 16-Feb (2020), such as the number of passengers, trip distante and pickup date and time. "
   ]
  },
  {
   "cell_type": "code",
   "execution_count": 6,
   "metadata": {},
   "outputs": [
    {
     "name": "stdout",
     "output_type": "stream",
     "text": [
      "Loading data from https://whylabs-public.s3.us-west-2.amazonaws.com/whylogs_examples/nyc_taxi_rides_feb_2020_changed.parquet\n"
     ]
    },
    {
     "data": {
      "text/plain": [
       "pickup_weekday                   int64\n",
       "passenger_count                float64\n",
       "trip_distance                  float64\n",
       "PULocationID                     int64\n",
       "tpep_pickup_datetime    datetime64[ns]\n",
       "pickup_date                     object\n",
       "dtype: object"
      ]
     },
     "execution_count": 6,
     "metadata": {},
     "output_type": "execute_result"
    }
   ],
   "source": [
    "import pandas as pd\n",
    "\n",
    "path = f\"https://whylabs-public.s3.us-west-2.amazonaws.com/whylogs_examples/nyc_taxi_rides_feb_2020_changed.parquet\"\n",
    "print(f\"Loading data from {path}\")\n",
    "rides_df = pd.read_parquet(path)\n",
    "\n",
    "rides_df.dtypes"
   ]
  },
  {
   "cell_type": "markdown",
   "metadata": {
    "cell_id": "e043e469-5beb-4a6b-9f56-fdd56197c457",
    "deepnote_cell_height": 82,
    "deepnote_cell_type": "markdown",
    "tags": []
   },
   "source": [
    "# Additional Transformations"
   ]
  },
  {
   "cell_type": "markdown",
   "metadata": {},
   "source": [
    "The real dataset doesn't contain information regarding the taxi driver that conducted the ride. Since our goal is to enrich the dataset with driver features from an external data source, we will create a `driver_id` column. For simplicity, let's consider that this dataset contains ride information of only 2 drivers (IDs `1001` and `1002`)"
   ]
  },
  {
   "cell_type": "code",
   "execution_count": 7,
   "metadata": {
    "cell_id": "f3856ea3-97aa-4a05-8f8f-c05c37e7d143",
    "deepnote_cell_height": 99,
    "deepnote_cell_type": "code",
    "deepnote_to_be_reexecuted": false,
    "execution_millis": 6,
    "execution_start": 1645028524538,
    "source_hash": "77077597",
    "tags": []
   },
   "outputs": [],
   "source": [
    "import numpy as np\n",
    "rides_df['driver_id'] = np.random.randint(1001, 1003, rides_df.shape[0])"
   ]
  },
  {
   "cell_type": "markdown",
   "metadata": {
    "cell_id": "0bc7c4e0-f344-4c9d-9f6f-8e7b6b7d4139",
    "deepnote_cell_height": 82,
    "deepnote_cell_type": "markdown",
    "tags": []
   },
   "source": [
    "# Features: Load, Fetch and Log"
   ]
  },
  {
   "cell_type": "markdown",
   "metadata": {
    "cell_id": "500d0a8f-11f3-4e7b-b65c-aa4b6adb6c7d",
    "deepnote_cell_height": 201.34375,
    "deepnote_cell_type": "markdown",
    "tags": []
   },
   "source": [
    "We will iterate on `rides_df`, where each row represents a point in time in which we will request a prediction. For each request, we will:\n",
    "\n",
    "- Materialize latest features into our online feature store\n",
    "- Get features from the online feature store\n",
    "- Join the features from the online store (driver features) with ride features\n",
    "- Log features with whylogs into a profile\n",
    "\n",
    "We'll consider that the __materialization__ job is run hourly. To simulate that, we will call __materialize__ for the last rounded hour, based on the request's timestamp `tpep_pickup_datetime`."
   ]
  },
  {
   "cell_type": "code",
   "execution_count": 8,
   "metadata": {
    "cell_id": "6b44ecc2-e8a3-4068-8dd5-ac149c3f28ea",
    "deepnote_cell_height": 1799,
    "deepnote_cell_type": "code",
    "deepnote_to_be_reexecuted": false,
    "execution_millis": 79479,
    "execution_start": 1644597331774,
    "source_hash": "9dbe7dc0",
    "tags": []
   },
   "outputs": [
    {
     "name": "stderr",
     "output_type": "stream",
     "text": [
      "/home/felipeadachi/miniconda3/envs/feast/lib/python3.8/site-packages/marshmallow/fields.py:173: RemovedInMarshmallow4Warning: The 'default' argument to fields is deprecated. Use 'dump_default' instead.\n",
      "  warnings.warn(\n",
      "/home/felipeadachi/miniconda3/envs/feast/lib/python3.8/site-packages/marshmallow/fields.py:181: RemovedInMarshmallow4Warning: The 'missing' argument to fields is deprecated. Use 'load_default' instead.\n",
      "  warnings.warn(\n",
      "/home/felipeadachi/miniconda3/envs/feast/lib/python3.8/site-packages/whylogs/core/types/typeddataconverter.py:15: DeprecationWarning: `np.float` is a deprecated alias for the builtin `float`. To silence this warning, use `float` by itself. Doing this will not modify any behavior and is safe. If you specifically wanted the numpy scalar type, use `np.float64` here.\n",
      "Deprecated in NumPy 1.20; for more details and guidance: https://numpy.org/devdocs/release/1.20.0-notes.html#deprecations\n",
      "  FLOAT_TYPES = (float, np.float)\n",
      "02/24/2022 01:36:17 PM INFO:No config file loaded\n"
     ]
    },
    {
     "name": "stdout",
     "output_type": "stream",
     "text": [
      "WARN: Missing config\n",
      "Materializing \u001b[1m\u001b[32m1\u001b[0m feature views from \u001b[1m\u001b[32m2020-02-10 00:00:00-03:00\u001b[0m to \u001b[1m\u001b[32m2020-02-10 01:00:00-03:00\u001b[0m into the \u001b[1m\u001b[32msqlite\u001b[0m online store.\n",
      "\n",
      "\u001b[1m\u001b[32mdriver_hourly_stats\u001b[0m:\n"
     ]
    },
    {
     "name": "stderr",
     "output_type": "stream",
     "text": [
      "/home/felipeadachi/miniconda3/envs/feast/lib/python3.8/site-packages/feast/infra/offline_stores/file.py:334: FutureWarning: Passing a set as an indexer is deprecated and will raise in a future version. Use a list instead.\n",
      "  return last_values_df[columns_to_extract]\n",
      "100%|█████████████████████████████████████████████████████████████████| 2/2 [00:00<00:00, 64.53it/s]\n",
      "/home/felipeadachi/miniconda3/envs/feast/lib/python3.8/site-packages/feast/infra/offline_stores/file.py:334: FutureWarning: Passing a set as an indexer is deprecated and will raise in a future version. Use a list instead.\n",
      "  return last_values_df[columns_to_extract]\n"
     ]
    },
    {
     "name": "stdout",
     "output_type": "stream",
     "text": [
      "request timestamp: 2020-02-10 00:23:21\n",
      "######################################################\n",
      "request timestamp: 2020-02-10 01:19:01\n",
      "######################################################\n",
      "request timestamp: 2020-02-10 01:29:23\n",
      "######################################################\n",
      "request timestamp: 2020-02-10 02:44:20\n",
      "Materializing \u001b[1m\u001b[32m1\u001b[0m feature views from \u001b[1m\u001b[32m2020-02-10 01:00:00-03:00\u001b[0m to \u001b[1m\u001b[32m2020-02-10 02:00:00-03:00\u001b[0m into the \u001b[1m\u001b[32msqlite\u001b[0m online store.\n",
      "\n",
      "\u001b[1m\u001b[32mdriver_hourly_stats\u001b[0m:\n"
     ]
    },
    {
     "name": "stderr",
     "output_type": "stream",
     "text": [
      "100%|█████████████████████████████████████████████████████████████████| 2/2 [00:00<00:00, 98.72it/s]\n",
      "/home/felipeadachi/miniconda3/envs/feast/lib/python3.8/site-packages/feast/infra/offline_stores/file.py:334: FutureWarning: Passing a set as an indexer is deprecated and will raise in a future version. Use a list instead.\n",
      "  return last_values_df[columns_to_extract]\n"
     ]
    },
    {
     "name": "stdout",
     "output_type": "stream",
     "text": [
      "######################################################\n",
      "request timestamp: 2020-02-10 04:12:22\n",
      "Materializing \u001b[1m\u001b[32m1\u001b[0m feature views from \u001b[1m\u001b[32m2020-02-10 03:00:00-03:00\u001b[0m to \u001b[1m\u001b[32m2020-02-10 04:00:00-03:00\u001b[0m into the \u001b[1m\u001b[32msqlite\u001b[0m online store.\n",
      "\n",
      "\u001b[1m\u001b[32mdriver_hourly_stats\u001b[0m:\n"
     ]
    },
    {
     "name": "stderr",
     "output_type": "stream",
     "text": [
      "100%|█████████████████████████████████████████████████████████████████| 2/2 [00:00<00:00, 82.20it/s]\n",
      "/home/felipeadachi/miniconda3/envs/feast/lib/python3.8/site-packages/feast/infra/offline_stores/file.py:334: FutureWarning: Passing a set as an indexer is deprecated and will raise in a future version. Use a list instead.\n",
      "  return last_values_df[columns_to_extract]\n"
     ]
    },
    {
     "name": "stdout",
     "output_type": "stream",
     "text": [
      "######################################################\n",
      "request timestamp: 2020-02-10 05:09:40\n",
      "Materializing \u001b[1m\u001b[32m1\u001b[0m feature views from \u001b[1m\u001b[32m2020-02-10 04:00:00-03:00\u001b[0m to \u001b[1m\u001b[32m2020-02-10 05:00:00-03:00\u001b[0m into the \u001b[1m\u001b[32msqlite\u001b[0m online store.\n",
      "\n",
      "\u001b[1m\u001b[32mdriver_hourly_stats\u001b[0m:\n"
     ]
    },
    {
     "name": "stderr",
     "output_type": "stream",
     "text": [
      "100%|█████████████████████████████████████████████████████████████████| 2/2 [00:00<00:00, 95.82it/s]\n",
      "/home/felipeadachi/miniconda3/envs/feast/lib/python3.8/site-packages/feast/infra/offline_stores/file.py:334: FutureWarning: Passing a set as an indexer is deprecated and will raise in a future version. Use a list instead.\n",
      "  return last_values_df[columns_to_extract]\n"
     ]
    },
    {
     "name": "stdout",
     "output_type": "stream",
     "text": [
      "######################################################\n",
      "request timestamp: 2020-02-10 06:25:30\n",
      "Materializing \u001b[1m\u001b[32m1\u001b[0m feature views from \u001b[1m\u001b[32m2020-02-10 05:00:00-03:00\u001b[0m to \u001b[1m\u001b[32m2020-02-10 06:00:00-03:00\u001b[0m into the \u001b[1m\u001b[32msqlite\u001b[0m online store.\n",
      "\n",
      "\u001b[1m\u001b[32mdriver_hourly_stats\u001b[0m:\n"
     ]
    },
    {
     "name": "stderr",
     "output_type": "stream",
     "text": [
      "100%|█████████████████████████████████████████████████████████████████| 2/2 [00:00<00:00, 90.34it/s]\n"
     ]
    },
    {
     "name": "stdout",
     "output_type": "stream",
     "text": [
      "######################################################\n",
      "request timestamp: 2020-02-10 06:33:09\n",
      "######################################################\n",
      "request timestamp: 2020-02-10 07:04:14\n"
     ]
    },
    {
     "name": "stderr",
     "output_type": "stream",
     "text": [
      "/home/felipeadachi/miniconda3/envs/feast/lib/python3.8/site-packages/feast/infra/offline_stores/file.py:334: FutureWarning: Passing a set as an indexer is deprecated and will raise in a future version. Use a list instead.\n",
      "  return last_values_df[columns_to_extract]\n"
     ]
    },
    {
     "name": "stdout",
     "output_type": "stream",
     "text": [
      "Materializing \u001b[1m\u001b[32m1\u001b[0m feature views from \u001b[1m\u001b[32m2020-02-10 06:00:00-03:00\u001b[0m to \u001b[1m\u001b[32m2020-02-10 07:00:00-03:00\u001b[0m into the \u001b[1m\u001b[32msqlite\u001b[0m online store.\n",
      "\n",
      "\u001b[1m\u001b[32mdriver_hourly_stats\u001b[0m:\n"
     ]
    },
    {
     "name": "stderr",
     "output_type": "stream",
     "text": [
      "100%|█████████████████████████████████████████████████████████████████| 2/2 [00:00<00:00, 85.76it/s]\n"
     ]
    },
    {
     "name": "stdout",
     "output_type": "stream",
     "text": [
      "######################################################\n",
      "request timestamp: 2020-02-10 07:08:17\n",
      "######################################################\n",
      "request timestamp: 2020-02-10 07:10:55\n",
      "######################################################\n",
      "request timestamp: 2020-02-10 07:28:50\n",
      "######################################################\n",
      "request timestamp: 2020-02-10 07:31:06\n",
      "######################################################\n",
      "request timestamp: 2020-02-10 07:33:24\n",
      "######################################################\n",
      "request timestamp: 2020-02-10 08:04:45\n",
      "Materializing \u001b[1m\u001b[32m1\u001b[0m feature views from \u001b[1m\u001b[32m2020-02-10 07:00:00-03:00\u001b[0m to \u001b[1m\u001b[32m2020-02-10 08:00:00-03:00\u001b[0m into the \u001b[1m\u001b[32msqlite\u001b[0m online store.\n",
      "\n",
      "\u001b[1m\u001b[32mdriver_hourly_stats\u001b[0m:\n"
     ]
    },
    {
     "name": "stderr",
     "output_type": "stream",
     "text": [
      "/home/felipeadachi/miniconda3/envs/feast/lib/python3.8/site-packages/feast/infra/offline_stores/file.py:334: FutureWarning: Passing a set as an indexer is deprecated and will raise in a future version. Use a list instead.\n",
      "  return last_values_df[columns_to_extract]\n",
      "100%|█████████████████████████████████████████████████████████████████| 2/2 [00:00<00:00, 83.54it/s]\n"
     ]
    },
    {
     "name": "stdout",
     "output_type": "stream",
     "text": [
      "######################################################\n",
      "request timestamp: 2020-02-10 08:06:05\n",
      "######################################################\n",
      "request timestamp: 2020-02-10 08:29:17\n",
      "######################################################\n",
      "request timestamp: 2020-02-10 08:32:48\n",
      "######################################################\n",
      "request timestamp: 2020-02-10 08:34:16\n",
      "######################################################\n",
      "request timestamp: 2020-02-10 08:39:47\n",
      "######################################################\n",
      "request timestamp: 2020-02-10 08:47:59\n"
     ]
    },
    {
     "name": "stderr",
     "output_type": "stream",
     "text": [
      "/home/felipeadachi/miniconda3/envs/feast/lib/python3.8/site-packages/feast/infra/offline_stores/file.py:334: FutureWarning: Passing a set as an indexer is deprecated and will raise in a future version. Use a list instead.\n",
      "  return last_values_df[columns_to_extract]\n"
     ]
    },
    {
     "name": "stdout",
     "output_type": "stream",
     "text": [
      "######################################################\n",
      "request timestamp: 2020-02-10 08:55:23\n",
      "######################################################\n",
      "request timestamp: 2020-02-10 09:00:31\n",
      "Materializing \u001b[1m\u001b[32m1\u001b[0m feature views from \u001b[1m\u001b[32m2020-02-10 08:00:00-03:00\u001b[0m to \u001b[1m\u001b[32m2020-02-10 09:00:00-03:00\u001b[0m into the \u001b[1m\u001b[32msqlite\u001b[0m online store.\n",
      "\n",
      "\u001b[1m\u001b[32mdriver_hourly_stats\u001b[0m:\n"
     ]
    },
    {
     "name": "stderr",
     "output_type": "stream",
     "text": [
      "100%|█████████████████████████████████████████████████████████████████| 2/2 [00:00<00:00, 88.18it/s]\n"
     ]
    },
    {
     "name": "stdout",
     "output_type": "stream",
     "text": [
      "######################################################\n",
      "request timestamp: 2020-02-10 09:04:21\n",
      "######################################################\n",
      "request timestamp: 2020-02-10 09:04:36\n",
      "######################################################\n",
      "request timestamp: 2020-02-10 09:07:42\n",
      "######################################################\n",
      "request timestamp: 2020-02-10 09:10:56\n",
      "######################################################\n",
      "request timestamp: 2020-02-10 09:18:23\n",
      "######################################################\n",
      "request timestamp: 2020-02-10 09:26:47\n",
      "######################################################\n",
      "request timestamp: 2020-02-10 09:42:47\n",
      "######################################################\n",
      "request timestamp: 2020-02-10 10:05:28\n",
      "Materializing \u001b[1m\u001b[32m1\u001b[0m feature views from \u001b[1m\u001b[32m2020-02-10 09:00:00-03:00\u001b[0m to \u001b[1m\u001b[32m2020-02-10 10:00:00-03:00\u001b[0m into the \u001b[1m\u001b[32msqlite\u001b[0m online store.\n",
      "\n",
      "\u001b[1m\u001b[32mdriver_hourly_stats\u001b[0m:\n"
     ]
    },
    {
     "name": "stderr",
     "output_type": "stream",
     "text": [
      "/home/felipeadachi/miniconda3/envs/feast/lib/python3.8/site-packages/feast/infra/offline_stores/file.py:334: FutureWarning: Passing a set as an indexer is deprecated and will raise in a future version. Use a list instead.\n",
      "  return last_values_df[columns_to_extract]\n",
      "100%|█████████████████████████████████████████████████████████████████| 2/2 [00:00<00:00, 68.05it/s]\n"
     ]
    },
    {
     "name": "stdout",
     "output_type": "stream",
     "text": [
      "######################################################\n",
      "request timestamp: 2020-02-10 10:07:00\n",
      "######################################################\n",
      "request timestamp: 2020-02-10 10:25:54\n",
      "######################################################\n",
      "request timestamp: 2020-02-10 10:27:14\n",
      "######################################################\n",
      "request timestamp: 2020-02-10 10:31:00\n",
      "######################################################\n",
      "request timestamp: 2020-02-10 11:26:02\n",
      "Materializing \u001b[1m\u001b[32m1\u001b[0m feature views from \u001b[1m\u001b[32m2020-02-10 10:00:00-03:00\u001b[0m to \u001b[1m\u001b[32m2020-02-10 11:00:00-03:00\u001b[0m into the \u001b[1m\u001b[32msqlite\u001b[0m online store.\n",
      "\n",
      "\u001b[1m\u001b[32mdriver_hourly_stats\u001b[0m:\n"
     ]
    },
    {
     "name": "stderr",
     "output_type": "stream",
     "text": [
      "/home/felipeadachi/miniconda3/envs/feast/lib/python3.8/site-packages/feast/infra/offline_stores/file.py:334: FutureWarning: Passing a set as an indexer is deprecated and will raise in a future version. Use a list instead.\n",
      "  return last_values_df[columns_to_extract]\n",
      "100%|█████████████████████████████████████████████████████████████████| 2/2 [00:00<00:00, 92.65it/s]\n"
     ]
    },
    {
     "name": "stdout",
     "output_type": "stream",
     "text": [
      "######################################################\n",
      "request timestamp: 2020-02-10 11:27:20\n",
      "######################################################\n",
      "request timestamp: 2020-02-10 11:28:09\n",
      "######################################################\n",
      "request timestamp: 2020-02-10 11:36:24\n",
      "######################################################\n",
      "request timestamp: 2020-02-10 12:23:29\n",
      "Materializing \u001b[1m\u001b[32m1\u001b[0m feature views from \u001b[1m\u001b[32m2020-02-10 11:00:00-03:00\u001b[0m to \u001b[1m\u001b[32m2020-02-10 12:00:00-03:00\u001b[0m into the \u001b[1m\u001b[32msqlite\u001b[0m online store.\n",
      "\n",
      "\u001b[1m\u001b[32mdriver_hourly_stats\u001b[0m:\n"
     ]
    },
    {
     "name": "stderr",
     "output_type": "stream",
     "text": [
      "/home/felipeadachi/miniconda3/envs/feast/lib/python3.8/site-packages/feast/infra/offline_stores/file.py:334: FutureWarning: Passing a set as an indexer is deprecated and will raise in a future version. Use a list instead.\n",
      "  return last_values_df[columns_to_extract]\n",
      "100%|█████████████████████████████████████████████████████████████████| 2/2 [00:00<00:00, 78.51it/s]\n"
     ]
    },
    {
     "name": "stdout",
     "output_type": "stream",
     "text": [
      "######################################################\n",
      "request timestamp: 2020-02-10 12:28:16\n",
      "######################################################\n",
      "request timestamp: 2020-02-10 13:04:01\n",
      "Materializing \u001b[1m\u001b[32m1\u001b[0m feature views from \u001b[1m\u001b[32m2020-02-10 12:00:00-03:00\u001b[0m to \u001b[1m\u001b[32m2020-02-10 13:00:00-03:00\u001b[0m into the \u001b[1m\u001b[32msqlite\u001b[0m online store.\n",
      "\n",
      "\u001b[1m\u001b[32mdriver_hourly_stats\u001b[0m:\n"
     ]
    },
    {
     "name": "stderr",
     "output_type": "stream",
     "text": [
      "/home/felipeadachi/miniconda3/envs/feast/lib/python3.8/site-packages/feast/infra/offline_stores/file.py:334: FutureWarning: Passing a set as an indexer is deprecated and will raise in a future version. Use a list instead.\n",
      "  return last_values_df[columns_to_extract]\n",
      "100%|█████████████████████████████████████████████████████████████████| 2/2 [00:00<00:00, 77.44it/s]\n"
     ]
    },
    {
     "name": "stdout",
     "output_type": "stream",
     "text": [
      "######################################################\n",
      "request timestamp: 2020-02-10 13:16:55\n",
      "######################################################\n",
      "request timestamp: 2020-02-10 13:22:15\n",
      "######################################################\n",
      "request timestamp: 2020-02-10 13:31:53\n",
      "######################################################\n",
      "request timestamp: 2020-02-10 13:32:54\n",
      "######################################################\n",
      "request timestamp: 2020-02-10 13:48:58\n",
      "######################################################\n",
      "request timestamp: 2020-02-10 14:00:59\n",
      "Materializing \u001b[1m\u001b[32m1\u001b[0m feature views from \u001b[1m\u001b[32m2020-02-10 13:00:00-03:00\u001b[0m to \u001b[1m\u001b[32m2020-02-10 14:00:00-03:00\u001b[0m into the \u001b[1m\u001b[32msqlite\u001b[0m online store.\n",
      "\n",
      "\u001b[1m\u001b[32mdriver_hourly_stats\u001b[0m:\n"
     ]
    },
    {
     "name": "stderr",
     "output_type": "stream",
     "text": [
      "/home/felipeadachi/miniconda3/envs/feast/lib/python3.8/site-packages/feast/infra/offline_stores/file.py:334: FutureWarning: Passing a set as an indexer is deprecated and will raise in a future version. Use a list instead.\n",
      "  return last_values_df[columns_to_extract]\n",
      "100%|█████████████████████████████████████████████████████████████████| 2/2 [00:00<00:00, 95.05it/s]\n"
     ]
    },
    {
     "name": "stdout",
     "output_type": "stream",
     "text": [
      "######################################################\n",
      "request timestamp: 2020-02-10 14:14:46\n",
      "######################################################\n",
      "request timestamp: 2020-02-10 14:59:21\n",
      "######################################################\n",
      "request timestamp: 2020-02-10 15:19:13\n",
      "Materializing \u001b[1m\u001b[32m1\u001b[0m feature views from \u001b[1m\u001b[32m2020-02-10 14:00:00-03:00\u001b[0m to \u001b[1m\u001b[32m2020-02-10 15:00:00-03:00\u001b[0m into the \u001b[1m\u001b[32msqlite\u001b[0m online store.\n",
      "\n",
      "\u001b[1m\u001b[32mdriver_hourly_stats\u001b[0m:\n"
     ]
    },
    {
     "name": "stderr",
     "output_type": "stream",
     "text": [
      "/home/felipeadachi/miniconda3/envs/feast/lib/python3.8/site-packages/feast/infra/offline_stores/file.py:334: FutureWarning: Passing a set as an indexer is deprecated and will raise in a future version. Use a list instead.\n",
      "  return last_values_df[columns_to_extract]\n",
      "100%|█████████████████████████████████████████████████████████████████| 2/2 [00:00<00:00, 81.11it/s]\n"
     ]
    },
    {
     "name": "stdout",
     "output_type": "stream",
     "text": [
      "######################################################\n",
      "request timestamp: 2020-02-10 15:41:00\n",
      "######################################################\n",
      "request timestamp: 2020-02-10 15:45:49\n",
      "######################################################\n",
      "request timestamp: 2020-02-10 16:15:14\n",
      "Materializing \u001b[1m\u001b[32m1\u001b[0m feature views from \u001b[1m\u001b[32m2020-02-10 15:00:00-03:00\u001b[0m to \u001b[1m\u001b[32m2020-02-10 16:00:00-03:00\u001b[0m into the \u001b[1m\u001b[32msqlite\u001b[0m online store.\n",
      "\n",
      "\u001b[1m\u001b[32mdriver_hourly_stats\u001b[0m:\n"
     ]
    },
    {
     "name": "stderr",
     "output_type": "stream",
     "text": [
      "/home/felipeadachi/miniconda3/envs/feast/lib/python3.8/site-packages/feast/infra/offline_stores/file.py:334: FutureWarning: Passing a set as an indexer is deprecated and will raise in a future version. Use a list instead.\n",
      "  return last_values_df[columns_to_extract]\n",
      "100%|█████████████████████████████████████████████████████████████████| 2/2 [00:00<00:00, 90.13it/s]\n"
     ]
    },
    {
     "name": "stdout",
     "output_type": "stream",
     "text": [
      "######################################################\n",
      "request timestamp: 2020-02-10 16:20:37\n",
      "######################################################\n",
      "request timestamp: 2020-02-10 16:28:17\n",
      "######################################################\n",
      "request timestamp: 2020-02-10 16:40:33\n",
      "######################################################\n",
      "request timestamp: 2020-02-10 16:44:13\n",
      "######################################################\n",
      "request timestamp: 2020-02-10 16:45:15\n",
      "######################################################\n",
      "request timestamp: 2020-02-10 16:45:46\n",
      "######################################################\n",
      "request timestamp: 2020-02-10 17:04:12\n",
      "Materializing \u001b[1m\u001b[32m1\u001b[0m feature views from \u001b[1m\u001b[32m2020-02-10 16:00:00-03:00\u001b[0m to \u001b[1m\u001b[32m2020-02-10 17:00:00-03:00\u001b[0m into the \u001b[1m\u001b[32msqlite\u001b[0m online store.\n",
      "\n",
      "\u001b[1m\u001b[32mdriver_hourly_stats\u001b[0m:\n"
     ]
    },
    {
     "name": "stderr",
     "output_type": "stream",
     "text": [
      "/home/felipeadachi/miniconda3/envs/feast/lib/python3.8/site-packages/feast/infra/offline_stores/file.py:334: FutureWarning: Passing a set as an indexer is deprecated and will raise in a future version. Use a list instead.\n",
      "  return last_values_df[columns_to_extract]\n",
      "100%|█████████████████████████████████████████████████████████████████| 2/2 [00:00<00:00, 87.90it/s]\n"
     ]
    },
    {
     "name": "stdout",
     "output_type": "stream",
     "text": [
      "######################################################\n",
      "request timestamp: 2020-02-10 17:18:01\n",
      "######################################################\n",
      "request timestamp: 2020-02-10 17:41:14\n",
      "######################################################\n",
      "request timestamp: 2020-02-10 17:43:09\n",
      "######################################################\n",
      "request timestamp: 2020-02-10 17:47:37\n",
      "######################################################\n",
      "request timestamp: 2020-02-10 18:01:47\n",
      "Materializing \u001b[1m\u001b[32m1\u001b[0m feature views from \u001b[1m\u001b[32m2020-02-10 17:00:00-03:00\u001b[0m to \u001b[1m\u001b[32m2020-02-10 18:00:00-03:00\u001b[0m into the \u001b[1m\u001b[32msqlite\u001b[0m online store.\n",
      "\n",
      "\u001b[1m\u001b[32mdriver_hourly_stats\u001b[0m:\n"
     ]
    },
    {
     "name": "stderr",
     "output_type": "stream",
     "text": [
      "/home/felipeadachi/miniconda3/envs/feast/lib/python3.8/site-packages/feast/infra/offline_stores/file.py:334: FutureWarning: Passing a set as an indexer is deprecated and will raise in a future version. Use a list instead.\n",
      "  return last_values_df[columns_to_extract]\n",
      "100%|█████████████████████████████████████████████████████████████████| 2/2 [00:00<00:00, 87.94it/s]\n"
     ]
    },
    {
     "name": "stdout",
     "output_type": "stream",
     "text": [
      "######################################################\n",
      "request timestamp: 2020-02-10 18:05:25\n",
      "######################################################\n",
      "request timestamp: 2020-02-10 18:15:10\n",
      "######################################################\n",
      "request timestamp: 2020-02-10 18:20:39\n",
      "######################################################\n",
      "request timestamp: 2020-02-10 18:38:11\n",
      "######################################################\n",
      "request timestamp: 2020-02-10 18:38:17\n",
      "######################################################\n",
      "request timestamp: 2020-02-10 18:41:53\n",
      "######################################################\n",
      "request timestamp: 2020-02-10 18:46:52\n",
      "######################################################\n",
      "request timestamp: 2020-02-10 18:47:45\n",
      "######################################################\n",
      "request timestamp: 2020-02-10 18:51:16\n",
      "######################################################\n",
      "request timestamp: 2020-02-10 18:52:50\n",
      "######################################################\n",
      "request timestamp: 2020-02-10 19:20:22\n",
      "Materializing \u001b[1m\u001b[32m1\u001b[0m feature views from \u001b[1m\u001b[32m2020-02-10 18:00:00-03:00\u001b[0m to \u001b[1m\u001b[32m2020-02-10 19:00:00-03:00\u001b[0m into the \u001b[1m\u001b[32msqlite\u001b[0m online store.\n",
      "\n",
      "\u001b[1m\u001b[32mdriver_hourly_stats\u001b[0m:\n"
     ]
    },
    {
     "name": "stderr",
     "output_type": "stream",
     "text": [
      "/home/felipeadachi/miniconda3/envs/feast/lib/python3.8/site-packages/feast/infra/offline_stores/file.py:334: FutureWarning: Passing a set as an indexer is deprecated and will raise in a future version. Use a list instead.\n",
      "  return last_values_df[columns_to_extract]\n",
      "100%|█████████████████████████████████████████████████████████████████| 2/2 [00:00<00:00, 89.17it/s]\n"
     ]
    },
    {
     "name": "stdout",
     "output_type": "stream",
     "text": [
      "######################################################\n",
      "request timestamp: 2020-02-10 19:26:52\n",
      "######################################################\n",
      "request timestamp: 2020-02-10 19:35:20\n",
      "######################################################\n",
      "request timestamp: 2020-02-10 19:46:19\n",
      "######################################################\n",
      "request timestamp: 2020-02-10 19:56:58\n",
      "######################################################\n",
      "request timestamp: 2020-02-10 19:59:48\n"
     ]
    },
    {
     "name": "stderr",
     "output_type": "stream",
     "text": [
      "/home/felipeadachi/miniconda3/envs/feast/lib/python3.8/site-packages/feast/infra/offline_stores/file.py:334: FutureWarning: Passing a set as an indexer is deprecated and will raise in a future version. Use a list instead.\n",
      "  return last_values_df[columns_to_extract]\n"
     ]
    },
    {
     "name": "stdout",
     "output_type": "stream",
     "text": [
      "######################################################\n",
      "request timestamp: 2020-02-10 20:27:19\n",
      "Materializing \u001b[1m\u001b[32m1\u001b[0m feature views from \u001b[1m\u001b[32m2020-02-10 19:00:00-03:00\u001b[0m to \u001b[1m\u001b[32m2020-02-10 20:00:00-03:00\u001b[0m into the \u001b[1m\u001b[32msqlite\u001b[0m online store.\n",
      "\n",
      "\u001b[1m\u001b[32mdriver_hourly_stats\u001b[0m:\n"
     ]
    },
    {
     "name": "stderr",
     "output_type": "stream",
     "text": [
      "100%|████████████████████████████████████████████████████████████████| 2/2 [00:00<00:00, 101.00it/s]\n"
     ]
    },
    {
     "name": "stdout",
     "output_type": "stream",
     "text": [
      "######################################################\n",
      "request timestamp: 2020-02-10 20:44:10\n",
      "######################################################\n",
      "request timestamp: 2020-02-10 20:47:55\n",
      "######################################################\n",
      "request timestamp: 2020-02-10 21:02:12\n",
      "Materializing \u001b[1m\u001b[32m1\u001b[0m feature views from \u001b[1m\u001b[32m2020-02-10 20:00:00-03:00\u001b[0m to \u001b[1m\u001b[32m2020-02-10 21:00:00-03:00\u001b[0m into the \u001b[1m\u001b[32msqlite\u001b[0m online store.\n",
      "\n",
      "\u001b[1m\u001b[32mdriver_hourly_stats\u001b[0m:\n"
     ]
    },
    {
     "name": "stderr",
     "output_type": "stream",
     "text": [
      "/home/felipeadachi/miniconda3/envs/feast/lib/python3.8/site-packages/feast/infra/offline_stores/file.py:334: FutureWarning: Passing a set as an indexer is deprecated and will raise in a future version. Use a list instead.\n",
      "  return last_values_df[columns_to_extract]\n",
      "100%|█████████████████████████████████████████████████████████████████| 2/2 [00:00<00:00, 96.15it/s]\n"
     ]
    },
    {
     "name": "stdout",
     "output_type": "stream",
     "text": [
      "######################################################\n",
      "request timestamp: 2020-02-10 21:11:36\n",
      "######################################################\n",
      "request timestamp: 2020-02-10 21:14:46\n",
      "######################################################\n",
      "request timestamp: 2020-02-10 21:21:39\n",
      "######################################################\n",
      "request timestamp: 2020-02-10 21:21:47\n",
      "######################################################\n",
      "request timestamp: 2020-02-10 21:28:17\n",
      "######################################################\n",
      "request timestamp: 2020-02-10 21:48:17\n",
      "######################################################\n",
      "request timestamp: 2020-02-10 21:49:44\n",
      "######################################################\n",
      "request timestamp: 2020-02-10 21:59:06\n",
      "######################################################\n",
      "request timestamp: 2020-02-10 22:05:36\n"
     ]
    },
    {
     "name": "stderr",
     "output_type": "stream",
     "text": [
      "/home/felipeadachi/miniconda3/envs/feast/lib/python3.8/site-packages/feast/infra/offline_stores/file.py:334: FutureWarning: Passing a set as an indexer is deprecated and will raise in a future version. Use a list instead.\n",
      "  return last_values_df[columns_to_extract]\n"
     ]
    },
    {
     "name": "stdout",
     "output_type": "stream",
     "text": [
      "Materializing \u001b[1m\u001b[32m1\u001b[0m feature views from \u001b[1m\u001b[32m2020-02-10 21:00:00-03:00\u001b[0m to \u001b[1m\u001b[32m2020-02-10 22:00:00-03:00\u001b[0m into the \u001b[1m\u001b[32msqlite\u001b[0m online store.\n",
      "\n",
      "\u001b[1m\u001b[32mdriver_hourly_stats\u001b[0m:\n"
     ]
    },
    {
     "name": "stderr",
     "output_type": "stream",
     "text": [
      "100%|█████████████████████████████████████████████████████████████████| 2/2 [00:00<00:00, 83.85it/s]\n"
     ]
    },
    {
     "name": "stdout",
     "output_type": "stream",
     "text": [
      "######################################################\n",
      "request timestamp: 2020-02-10 22:15:21\n",
      "######################################################\n",
      "request timestamp: 2020-02-10 22:36:33\n",
      "######################################################\n",
      "request timestamp: 2020-02-10 23:42:33\n",
      "Materializing \u001b[1m\u001b[32m1\u001b[0m feature views from \u001b[1m\u001b[32m2020-02-10 22:00:00-03:00\u001b[0m to \u001b[1m\u001b[32m2020-02-10 23:00:00-03:00\u001b[0m into the \u001b[1m\u001b[32msqlite\u001b[0m online store.\n",
      "\n",
      "\u001b[1m\u001b[32mdriver_hourly_stats\u001b[0m:\n"
     ]
    },
    {
     "name": "stderr",
     "output_type": "stream",
     "text": [
      "/home/felipeadachi/miniconda3/envs/feast/lib/python3.8/site-packages/feast/infra/offline_stores/file.py:334: FutureWarning: Passing a set as an indexer is deprecated and will raise in a future version. Use a list instead.\n",
      "  return last_values_df[columns_to_extract]\n",
      "100%|█████████████████████████████████████████████████████████████████| 2/2 [00:00<00:00, 88.12it/s]"
     ]
    },
    {
     "name": "stdout",
     "output_type": "stream",
     "text": [
      "######################################################\n",
      "request timestamp: 2020-02-11 00:18:07\n",
      "{'PULocationID': 230,\n",
      " 'driver_avg_daily_trips': 35,\n",
      " 'driver_avg_speed': 17.030000686645508,\n",
      " 'driver_rate_1m': 3,\n",
      " 'passenger_count': 1.0,\n",
      " 'pickup_weekday': 0,\n",
      " 'trip_distance': 0.63}\n"
     ]
    },
    {
     "name": "stderr",
     "output_type": "stream",
     "text": [
      "\n"
     ]
    }
   ],
   "source": [
    "from datetime import datetime, timedelta\n",
    "from pprint import pprint\n",
    "from feast import FeatureStore\n",
    "from whylogs import get_or_create_session\n",
    "import os\n",
    "session = get_or_create_session()\n",
    "\n",
    "# store = FeatureStore(repo_path=\"feast_whylogs_example/feature_repo\")\n",
    "store = FeatureStore(repo_path=\".\")\n",
    "j=0\n",
    "\n",
    "prev_time = datetime(2020, 2, 10, 00, 00)\n",
    "target_time = datetime(2020, 2, 10, 1, 00)\n",
    "store.materialize(start_date=prev_time,end_date=target_time)\n",
    "\n",
    "day_to_log = datetime(2020, 2, 10)\n",
    "\n",
    "with session.logger(dataset_name=\"my_dataset\",dataset_timestamp=day_to_log) as logger:\n",
    "    for index,row in rides_df.iterrows():\n",
    "\n",
    "        request_timestamp = row['tpep_pickup_datetime']\n",
    "        print(\"request timestamp: {}\".format(request_timestamp))\n",
    "\n",
    "        if request_timestamp.day > day_to_log.day:\n",
    "            break\n",
    "\n",
    "        if request_timestamp>target_time + timedelta(hours=1):\n",
    "            target_time = datetime(request_timestamp.year,request_timestamp.month,request_timestamp.day,request_timestamp.hour)\n",
    "            prev_time = target_time - timedelta(hours=1)\n",
    "            store.materialize(start_date=prev_time,end_date=target_time)\n",
    "\n",
    "\n",
    "        driver_feature_vector = store.get_online_features(\n",
    "        features=[\n",
    "            \"driver_hourly_stats:rate_1m\",\n",
    "            \"driver_hourly_stats:avg_daily_trips\",\n",
    "            \"driver_hourly_stats:avg_speed\"\n",
    "\n",
    "        ],\n",
    "        entity_rows=[{\"driver_id\": row['driver_id']},],\n",
    "        ).to_dict()\n",
    "\n",
    "        # Get features from both ride and driver\n",
    "        assembled_feature_vector = {\n",
    "            \"pickup_weekday\": row[\"pickup_weekday\"],\n",
    "            \"passenger_count\": row[\"passenger_count\"],\n",
    "            \"trip_distance\": row[\"trip_distance\"],\n",
    "            \"PULocationID\": row[\"PULocationID\"],\n",
    "            \"driver_avg_daily_trips\": driver_feature_vector[\"avg_daily_trips\"][0],\n",
    "            \"driver_rate_1m\": driver_feature_vector[\"rate_1m\"][0],\n",
    "            \"driver_avg_speed\": driver_feature_vector[\"avg_speed\"][0],\n",
    "\n",
    "        }\n",
    "\n",
    "        # Now that we have the complete set of features, model prediction could go here.\n",
    "\n",
    "        logger.log(assembled_feature_vector)\n",
    "        print(\"######################################################\")\n",
    "    \n",
    "    pprint(assembled_feature_vector)    \n",
    "    profile = logger.profile"
   ]
  },
  {
   "cell_type": "markdown",
   "metadata": {
    "cell_id": "71bfa479-e783-4ea5-870f-628c46696efb",
    "deepnote_cell_height": 82,
    "deepnote_cell_type": "markdown",
    "tags": []
   },
   "source": [
    "# Inspecting the logged profile"
   ]
  },
  {
   "cell_type": "markdown",
   "metadata": {
    "cell_id": "5042e1c1-221a-4dec-bca7-e3fc461628cd",
    "deepnote_cell_height": 52.390625,
    "deepnote_cell_type": "markdown",
    "tags": []
   },
   "source": [
    "You can use whylog's `profile_viewer` to select and view your profile:"
   ]
  },
  {
   "cell_type": "code",
   "execution_count": 9,
   "metadata": {
    "cell_id": "b23ab681-413f-4ae9-9c91-1efd1601cb5e",
    "deepnote_cell_height": 99,
    "deepnote_cell_type": "code",
    "deepnote_to_be_reexecuted": false,
    "execution_millis": 9,
    "execution_start": 1643981506426,
    "source_hash": "9288dcd1",
    "tags": []
   },
   "outputs": [],
   "source": [
    "from whylogs.viz import profile_viewer\n",
    "profile_viewer()"
   ]
  },
  {
   "cell_type": "markdown",
   "metadata": {
    "cell_id": "a6b76c4d-53e3-4d7a-abbb-e9553b9e6fb4",
    "deepnote_cell_height": 111.171875,
    "deepnote_cell_type": "markdown",
    "tags": []
   },
   "source": [
    "In a notebook environment, the command above will not work. But if you execute it locally as a python script, the Profile Viewer should be opened on your default browser, where you can select and load a profile JSON summary. The default path for the JSON summary is set as `output/{dataset_name}/{session_id}/json/dataset_profile.json`.\n",
    "\n",
    "You can then navigate and view the profile's features and associated statistics, as depicted in the image below:"
   ]
  },
  {
   "cell_type": "markdown",
   "metadata": {
    "cell_id": "505fdde4-ea9a-4d4d-aa14-0d1ac86fcad2",
    "deepnote_cell_height": 645.515625,
    "deepnote_cell_type": "markdown",
    "deepnote_to_be_reexecuted": false,
    "execution_millis": 662,
    "execution_start": 1644608727749,
    "source_hash": "effa8f30",
    "tags": []
   },
   "source": [
    "![alt text](images/profile_viewer.png \"Title\")"
   ]
  },
  {
   "cell_type": "markdown",
   "metadata": {
    "cell_id": "85202890-268a-46a9-aeb6-4108b8465f54",
    "deepnote_cell_height": 74.78125,
    "deepnote_cell_type": "markdown",
    "tags": []
   },
   "source": [
    "Whenever a logger is closed (in this case, when the `with` statement ends), the profile is saved to disk, which is what we use on the Profile Viewer above. We also stored the profile in-memory as the `profile` variable. Let's use it to check the profile's summary in tabular format:"
   ]
  },
  {
   "cell_type": "code",
   "execution_count": 10,
   "metadata": {
    "cell_id": "12aaf990-bf8f-4b85-af87-d4ca67757980",
    "deepnote_cell_height": 459,
    "deepnote_cell_type": "code",
    "deepnote_output_heights": [
     null,
     21.1875
    ],
    "deepnote_to_be_reexecuted": false,
    "execution_millis": 277,
    "execution_start": 1644597686026,
    "source_hash": "46051ba0",
    "tags": []
   },
   "outputs": [
    {
     "data": {
      "text/html": [
       "<div>\n",
       "<style scoped>\n",
       "    .dataframe tbody tr th:only-of-type {\n",
       "        vertical-align: middle;\n",
       "    }\n",
       "\n",
       "    .dataframe tbody tr th {\n",
       "        vertical-align: top;\n",
       "    }\n",
       "\n",
       "    .dataframe thead th {\n",
       "        text-align: right;\n",
       "    }\n",
       "</style>\n",
       "<table border=\"1\" class=\"dataframe\">\n",
       "  <thead>\n",
       "    <tr style=\"text-align: right;\">\n",
       "      <th></th>\n",
       "      <th>column</th>\n",
       "      <th>count</th>\n",
       "      <th>null_count</th>\n",
       "      <th>bool_count</th>\n",
       "      <th>numeric_count</th>\n",
       "      <th>max</th>\n",
       "      <th>mean</th>\n",
       "      <th>min</th>\n",
       "      <th>stddev</th>\n",
       "      <th>nunique_numbers</th>\n",
       "      <th>...</th>\n",
       "      <th>stddev_token_length</th>\n",
       "      <th>quantile_0.0000</th>\n",
       "      <th>quantile_0.0100</th>\n",
       "      <th>quantile_0.0500</th>\n",
       "      <th>quantile_0.2500</th>\n",
       "      <th>quantile_0.5000</th>\n",
       "      <th>quantile_0.7500</th>\n",
       "      <th>quantile_0.9500</th>\n",
       "      <th>quantile_0.9900</th>\n",
       "      <th>quantile_1.0000</th>\n",
       "    </tr>\n",
       "  </thead>\n",
       "  <tbody>\n",
       "    <tr>\n",
       "      <th>0</th>\n",
       "      <td>passenger_count</td>\n",
       "      <td>98.0</td>\n",
       "      <td>1.0</td>\n",
       "      <td>0.0</td>\n",
       "      <td>97.0</td>\n",
       "      <td>6.000000</td>\n",
       "      <td>1.422680</td>\n",
       "      <td>0.00</td>\n",
       "      <td>1.197524</td>\n",
       "      <td>6.0</td>\n",
       "      <td>...</td>\n",
       "      <td>0.0</td>\n",
       "      <td>0.00</td>\n",
       "      <td>0.00</td>\n",
       "      <td>1.00</td>\n",
       "      <td>1.00</td>\n",
       "      <td>1.000000</td>\n",
       "      <td>1.000000</td>\n",
       "      <td>5.000000</td>\n",
       "      <td>6.000000</td>\n",
       "      <td>6.000000</td>\n",
       "    </tr>\n",
       "    <tr>\n",
       "      <th>1</th>\n",
       "      <td>PULocationID</td>\n",
       "      <td>98.0</td>\n",
       "      <td>0.0</td>\n",
       "      <td>0.0</td>\n",
       "      <td>98.0</td>\n",
       "      <td>264.000000</td>\n",
       "      <td>161.663265</td>\n",
       "      <td>41.00</td>\n",
       "      <td>64.712997</td>\n",
       "      <td>39.0</td>\n",
       "      <td>...</td>\n",
       "      <td>0.0</td>\n",
       "      <td>41.00</td>\n",
       "      <td>41.00</td>\n",
       "      <td>50.00</td>\n",
       "      <td>113.00</td>\n",
       "      <td>161.000000</td>\n",
       "      <td>231.000000</td>\n",
       "      <td>262.000000</td>\n",
       "      <td>264.000000</td>\n",
       "      <td>264.000000</td>\n",
       "    </tr>\n",
       "    <tr>\n",
       "      <th>2</th>\n",
       "      <td>trip_distance</td>\n",
       "      <td>98.0</td>\n",
       "      <td>0.0</td>\n",
       "      <td>0.0</td>\n",
       "      <td>98.0</td>\n",
       "      <td>20.220000</td>\n",
       "      <td>2.791531</td>\n",
       "      <td>0.24</td>\n",
       "      <td>3.606351</td>\n",
       "      <td>83.0</td>\n",
       "      <td>...</td>\n",
       "      <td>0.0</td>\n",
       "      <td>0.24</td>\n",
       "      <td>0.24</td>\n",
       "      <td>0.40</td>\n",
       "      <td>0.89</td>\n",
       "      <td>1.620000</td>\n",
       "      <td>2.900000</td>\n",
       "      <td>11.840000</td>\n",
       "      <td>20.219999</td>\n",
       "      <td>20.219999</td>\n",
       "    </tr>\n",
       "    <tr>\n",
       "      <th>3</th>\n",
       "      <td>driver_avg_daily_trips</td>\n",
       "      <td>98.0</td>\n",
       "      <td>0.0</td>\n",
       "      <td>0.0</td>\n",
       "      <td>98.0</td>\n",
       "      <td>44.000000</td>\n",
       "      <td>28.693878</td>\n",
       "      <td>9.00</td>\n",
       "      <td>7.096403</td>\n",
       "      <td>19.0</td>\n",
       "      <td>...</td>\n",
       "      <td>0.0</td>\n",
       "      <td>9.00</td>\n",
       "      <td>9.00</td>\n",
       "      <td>15.00</td>\n",
       "      <td>25.00</td>\n",
       "      <td>29.000000</td>\n",
       "      <td>35.000000</td>\n",
       "      <td>37.000000</td>\n",
       "      <td>44.000000</td>\n",
       "      <td>44.000000</td>\n",
       "    </tr>\n",
       "    <tr>\n",
       "      <th>4</th>\n",
       "      <td>driver_rate_1m</td>\n",
       "      <td>98.0</td>\n",
       "      <td>0.0</td>\n",
       "      <td>0.0</td>\n",
       "      <td>98.0</td>\n",
       "      <td>4.000000</td>\n",
       "      <td>2.693878</td>\n",
       "      <td>1.00</td>\n",
       "      <td>0.751742</td>\n",
       "      <td>4.0</td>\n",
       "      <td>...</td>\n",
       "      <td>0.0</td>\n",
       "      <td>1.00</td>\n",
       "      <td>1.00</td>\n",
       "      <td>1.00</td>\n",
       "      <td>2.00</td>\n",
       "      <td>3.000000</td>\n",
       "      <td>3.000000</td>\n",
       "      <td>4.000000</td>\n",
       "      <td>4.000000</td>\n",
       "      <td>4.000000</td>\n",
       "    </tr>\n",
       "    <tr>\n",
       "      <th>5</th>\n",
       "      <td>driver_avg_speed</td>\n",
       "      <td>98.0</td>\n",
       "      <td>0.0</td>\n",
       "      <td>0.0</td>\n",
       "      <td>98.0</td>\n",
       "      <td>31.139999</td>\n",
       "      <td>20.484184</td>\n",
       "      <td>12.00</td>\n",
       "      <td>3.887992</td>\n",
       "      <td>39.0</td>\n",
       "      <td>...</td>\n",
       "      <td>0.0</td>\n",
       "      <td>12.00</td>\n",
       "      <td>12.00</td>\n",
       "      <td>14.83</td>\n",
       "      <td>18.08</td>\n",
       "      <td>20.110001</td>\n",
       "      <td>22.370001</td>\n",
       "      <td>27.969999</td>\n",
       "      <td>31.139999</td>\n",
       "      <td>31.139999</td>\n",
       "    </tr>\n",
       "    <tr>\n",
       "      <th>6</th>\n",
       "      <td>pickup_weekday</td>\n",
       "      <td>98.0</td>\n",
       "      <td>0.0</td>\n",
       "      <td>0.0</td>\n",
       "      <td>98.0</td>\n",
       "      <td>0.000000</td>\n",
       "      <td>0.000000</td>\n",
       "      <td>0.00</td>\n",
       "      <td>0.000000</td>\n",
       "      <td>1.0</td>\n",
       "      <td>...</td>\n",
       "      <td>0.0</td>\n",
       "      <td>0.00</td>\n",
       "      <td>0.00</td>\n",
       "      <td>0.00</td>\n",
       "      <td>0.00</td>\n",
       "      <td>0.000000</td>\n",
       "      <td>0.000000</td>\n",
       "      <td>0.000000</td>\n",
       "      <td>0.000000</td>\n",
       "      <td>0.000000</td>\n",
       "    </tr>\n",
       "  </tbody>\n",
       "</table>\n",
       "<p>7 rows × 40 columns</p>\n",
       "</div>"
      ],
      "text/plain": [
       "                   column  count  null_count  bool_count  numeric_count  \\\n",
       "0         passenger_count   98.0         1.0         0.0           97.0   \n",
       "1            PULocationID   98.0         0.0         0.0           98.0   \n",
       "2           trip_distance   98.0         0.0         0.0           98.0   \n",
       "3  driver_avg_daily_trips   98.0         0.0         0.0           98.0   \n",
       "4          driver_rate_1m   98.0         0.0         0.0           98.0   \n",
       "5        driver_avg_speed   98.0         0.0         0.0           98.0   \n",
       "6          pickup_weekday   98.0         0.0         0.0           98.0   \n",
       "\n",
       "          max        mean    min     stddev  nunique_numbers  ...  \\\n",
       "0    6.000000    1.422680   0.00   1.197524              6.0  ...   \n",
       "1  264.000000  161.663265  41.00  64.712997             39.0  ...   \n",
       "2   20.220000    2.791531   0.24   3.606351             83.0  ...   \n",
       "3   44.000000   28.693878   9.00   7.096403             19.0  ...   \n",
       "4    4.000000    2.693878   1.00   0.751742              4.0  ...   \n",
       "5   31.139999   20.484184  12.00   3.887992             39.0  ...   \n",
       "6    0.000000    0.000000   0.00   0.000000              1.0  ...   \n",
       "\n",
       "   stddev_token_length  quantile_0.0000  quantile_0.0100  quantile_0.0500  \\\n",
       "0                  0.0             0.00             0.00             1.00   \n",
       "1                  0.0            41.00            41.00            50.00   \n",
       "2                  0.0             0.24             0.24             0.40   \n",
       "3                  0.0             9.00             9.00            15.00   \n",
       "4                  0.0             1.00             1.00             1.00   \n",
       "5                  0.0            12.00            12.00            14.83   \n",
       "6                  0.0             0.00             0.00             0.00   \n",
       "\n",
       "   quantile_0.2500  quantile_0.5000  quantile_0.7500  quantile_0.9500  \\\n",
       "0             1.00         1.000000         1.000000         5.000000   \n",
       "1           113.00       161.000000       231.000000       262.000000   \n",
       "2             0.89         1.620000         2.900000        11.840000   \n",
       "3            25.00        29.000000        35.000000        37.000000   \n",
       "4             2.00         3.000000         3.000000         4.000000   \n",
       "5            18.08        20.110001        22.370001        27.969999   \n",
       "6             0.00         0.000000         0.000000         0.000000   \n",
       "\n",
       "   quantile_0.9900  quantile_1.0000  \n",
       "0         6.000000         6.000000  \n",
       "1       264.000000       264.000000  \n",
       "2        20.219999        20.219999  \n",
       "3        44.000000        44.000000  \n",
       "4         4.000000         4.000000  \n",
       "5        31.139999        31.139999  \n",
       "6         0.000000         0.000000  \n",
       "\n",
       "[7 rows x 40 columns]"
      ]
     },
     "execution_count": 10,
     "metadata": {},
     "output_type": "execute_result"
    }
   ],
   "source": [
    "summaries = profile.flat_summary()\n",
    "summaries['summary']"
   ]
  },
  {
   "cell_type": "markdown",
   "metadata": {
    "cell_id": "05c52f42-d248-4520-b43f-afe281c46d59",
    "deepnote_cell_height": 82,
    "deepnote_cell_type": "markdown",
    "deepnote_to_be_reexecuted": false,
    "execution_start": 1644002560972,
    "source_hash": "a4fd8ea9",
    "tags": []
   },
   "source": [
    "# Inspecting multiple profiles across time"
   ]
  },
  {
   "cell_type": "markdown",
   "metadata": {
    "cell_id": "6e79347a-888b-4386-ba2e-d330304626a0",
    "deepnote_cell_height": 277.515625,
    "deepnote_cell_type": "markdown",
    "tags": []
   },
   "source": [
    "Now, let's add some data error issues into the dataset and see how we could visually inspect this with some of whylog's functionalites. The dataset was changed in the following way:\n",
    "\n",
    "- Feb 10: No changes\n",
    "- Feb 11: (__Data update error__) New driver features are available only in 2 hour cycles. Simulating a scenario in which the sampling frequency is affected for some reason.\n",
    "- Feb 12: No changes\n",
    "- Feb 13: No changes\n",
    "- Feb 14: (__Feature drift__) Based on the considerations made on section __Changes in Data__, we will: a) Reduce the number of passengers (`passenger_count`), b) Reduce `avg_daily_trips` and increase the standard deviation of `rate_1m`'s distribution. For more information of how that was done, please see __Appendix - Changing the Dataset__. \n",
    "- Feb 15: (__Feature drift__) The same as above, but increasing the magnitude of changes.\n",
    "- Feb 16: (__Feature drift__) The same as above, but increasing the magnitude of changes."
   ]
  },
  {
   "cell_type": "markdown",
   "metadata": {
    "cell_id": "8dd6f56d-d868-448e-9091-a77361855e9a",
    "deepnote_cell_height": 52.390625,
    "deepnote_cell_type": "markdown",
    "tags": []
   },
   "source": [
    "We will repeat the previous process, only this time we'll load, fetch and log features for each of the days above. We'll also store the profiles for each day in-memory, so we can inspect them later."
   ]
  },
  {
   "cell_type": "code",
   "execution_count": 17,
   "metadata": {
    "cell_id": "5c3188a5-48ab-41f6-9b34-fc790a6d451a",
    "deepnote_cell_height": 1889,
    "deepnote_cell_type": "code",
    "deepnote_to_be_reexecuted": false,
    "execution_millis": 440030,
    "execution_start": 1645028573742,
    "source_hash": "25d40ea5",
    "tags": []
   },
   "outputs": [
    {
     "name": "stderr",
     "output_type": "stream",
     "text": [
      "/home/felipeadachi/miniconda3/envs/feast/lib/python3.8/site-packages/feast/infra/offline_stores/file.py:334: FutureWarning: Passing a set as an indexer is deprecated and will raise in a future version. Use a list instead.\n",
      "  return last_values_df[columns_to_extract]\n"
     ]
    },
    {
     "name": "stdout",
     "output_type": "stream",
     "text": [
      "Materializing \u001b[1m\u001b[32m1\u001b[0m feature views from \u001b[1m\u001b[32m2020-02-10 00:00:00-03:00\u001b[0m to \u001b[1m\u001b[32m2020-02-10 01:00:00-03:00\u001b[0m into the \u001b[1m\u001b[32msqlite\u001b[0m online store.\n",
      "\n",
      "\u001b[1m\u001b[32mdriver_hourly_stats\u001b[0m:\n"
     ]
    },
    {
     "name": "stderr",
     "output_type": "stream",
     "text": [
      "100%|█████████████████████████████████████████████████████████████████| 2/2 [00:00<00:00, 74.93it/s]\n",
      "/home/felipeadachi/miniconda3/envs/feast/lib/python3.8/site-packages/feast/infra/offline_stores/file.py:334: FutureWarning: Passing a set as an indexer is deprecated and will raise in a future version. Use a list instead.\n",
      "  return last_values_df[columns_to_extract]\n"
     ]
    },
    {
     "name": "stdout",
     "output_type": "stream",
     "text": [
      "Materializing \u001b[1m\u001b[32m1\u001b[0m feature views from \u001b[1m\u001b[32m2020-02-10 01:00:00-03:00\u001b[0m to \u001b[1m\u001b[32m2020-02-10 02:00:00-03:00\u001b[0m into the \u001b[1m\u001b[32msqlite\u001b[0m online store.\n",
      "\n",
      "\u001b[1m\u001b[32mdriver_hourly_stats\u001b[0m:\n"
     ]
    },
    {
     "name": "stderr",
     "output_type": "stream",
     "text": [
      "100%|█████████████████████████████████████████████████████████████████| 2/2 [00:00<00:00, 90.62it/s]\n",
      "/home/felipeadachi/miniconda3/envs/feast/lib/python3.8/site-packages/feast/infra/offline_stores/file.py:334: FutureWarning: Passing a set as an indexer is deprecated and will raise in a future version. Use a list instead.\n",
      "  return last_values_df[columns_to_extract]\n"
     ]
    },
    {
     "name": "stdout",
     "output_type": "stream",
     "text": [
      "Materializing \u001b[1m\u001b[32m1\u001b[0m feature views from \u001b[1m\u001b[32m2020-02-10 03:00:00-03:00\u001b[0m to \u001b[1m\u001b[32m2020-02-10 04:00:00-03:00\u001b[0m into the \u001b[1m\u001b[32msqlite\u001b[0m online store.\n",
      "\n",
      "\u001b[1m\u001b[32mdriver_hourly_stats\u001b[0m:\n"
     ]
    },
    {
     "name": "stderr",
     "output_type": "stream",
     "text": [
      "100%|████████████████████████████████████████████████████████████████| 2/2 [00:00<00:00, 109.70it/s]"
     ]
    },
    {
     "name": "stdout",
     "output_type": "stream",
     "text": [
      "Materializing \u001b[1m\u001b[32m1\u001b[0m feature views from \u001b[1m\u001b[32m2020-02-10 04:00:00-03:00\u001b[0m to \u001b[1m\u001b[32m2020-02-10 05:00:00-03:00\u001b[0m into the \u001b[1m\u001b[32msqlite\u001b[0m online store.\n",
      "\n",
      "\u001b[1m\u001b[32mdriver_hourly_stats\u001b[0m:\n"
     ]
    },
    {
     "name": "stderr",
     "output_type": "stream",
     "text": [
      "\n",
      "/home/felipeadachi/miniconda3/envs/feast/lib/python3.8/site-packages/feast/infra/offline_stores/file.py:334: FutureWarning: Passing a set as an indexer is deprecated and will raise in a future version. Use a list instead.\n",
      "  return last_values_df[columns_to_extract]\n",
      "100%|████████████████████████████████████████████████████████████████| 2/2 [00:00<00:00, 116.44it/s]\n"
     ]
    },
    {
     "name": "stdout",
     "output_type": "stream",
     "text": [
      "Materializing \u001b[1m\u001b[32m1\u001b[0m feature views from \u001b[1m\u001b[32m2020-02-10 05:00:00-03:00\u001b[0m to \u001b[1m\u001b[32m2020-02-10 06:00:00-03:00\u001b[0m into the \u001b[1m\u001b[32msqlite\u001b[0m online store.\n",
      "\n",
      "\u001b[1m\u001b[32mdriver_hourly_stats\u001b[0m:\n"
     ]
    },
    {
     "name": "stderr",
     "output_type": "stream",
     "text": [
      "/home/felipeadachi/miniconda3/envs/feast/lib/python3.8/site-packages/feast/infra/offline_stores/file.py:334: FutureWarning: Passing a set as an indexer is deprecated and will raise in a future version. Use a list instead.\n",
      "  return last_values_df[columns_to_extract]\n",
      "100%|█████████████████████████████████████████████████████████████████| 2/2 [00:00<00:00, 83.90it/s]\n",
      "/home/felipeadachi/miniconda3/envs/feast/lib/python3.8/site-packages/feast/infra/offline_stores/file.py:334: FutureWarning: Passing a set as an indexer is deprecated and will raise in a future version. Use a list instead.\n",
      "  return last_values_df[columns_to_extract]\n"
     ]
    },
    {
     "name": "stdout",
     "output_type": "stream",
     "text": [
      "Materializing \u001b[1m\u001b[32m1\u001b[0m feature views from \u001b[1m\u001b[32m2020-02-10 06:00:00-03:00\u001b[0m to \u001b[1m\u001b[32m2020-02-10 07:00:00-03:00\u001b[0m into the \u001b[1m\u001b[32msqlite\u001b[0m online store.\n",
      "\n",
      "\u001b[1m\u001b[32mdriver_hourly_stats\u001b[0m:\n"
     ]
    },
    {
     "name": "stderr",
     "output_type": "stream",
     "text": [
      "100%|█████████████████████████████████████████████████████████████████| 2/2 [00:00<00:00, 89.40it/s]\n"
     ]
    },
    {
     "name": "stdout",
     "output_type": "stream",
     "text": [
      "Materializing \u001b[1m\u001b[32m1\u001b[0m feature views from \u001b[1m\u001b[32m2020-02-10 07:00:00-03:00\u001b[0m to \u001b[1m\u001b[32m2020-02-10 08:00:00-03:00\u001b[0m into the \u001b[1m\u001b[32msqlite\u001b[0m online store.\n",
      "\n",
      "\u001b[1m\u001b[32mdriver_hourly_stats\u001b[0m:\n"
     ]
    },
    {
     "name": "stderr",
     "output_type": "stream",
     "text": [
      "/home/felipeadachi/miniconda3/envs/feast/lib/python3.8/site-packages/feast/infra/offline_stores/file.py:334: FutureWarning: Passing a set as an indexer is deprecated and will raise in a future version. Use a list instead.\n",
      "  return last_values_df[columns_to_extract]\n",
      "100%|█████████████████████████████████████████████████████████████████| 2/2 [00:00<00:00, 96.46it/s]\n"
     ]
    },
    {
     "name": "stdout",
     "output_type": "stream",
     "text": [
      "Materializing \u001b[1m\u001b[32m1\u001b[0m feature views from \u001b[1m\u001b[32m2020-02-10 08:00:00-03:00\u001b[0m to \u001b[1m\u001b[32m2020-02-10 09:00:00-03:00\u001b[0m into the \u001b[1m\u001b[32msqlite\u001b[0m online store.\n",
      "\n",
      "\u001b[1m\u001b[32mdriver_hourly_stats\u001b[0m:\n"
     ]
    },
    {
     "name": "stderr",
     "output_type": "stream",
     "text": [
      "/home/felipeadachi/miniconda3/envs/feast/lib/python3.8/site-packages/feast/infra/offline_stores/file.py:334: FutureWarning: Passing a set as an indexer is deprecated and will raise in a future version. Use a list instead.\n",
      "  return last_values_df[columns_to_extract]\n",
      "100%|█████████████████████████████████████████████████████████████████| 2/2 [00:00<00:00, 95.11it/s]\n"
     ]
    },
    {
     "name": "stdout",
     "output_type": "stream",
     "text": [
      "Materializing \u001b[1m\u001b[32m1\u001b[0m feature views from \u001b[1m\u001b[32m2020-02-10 09:00:00-03:00\u001b[0m to \u001b[1m\u001b[32m2020-02-10 10:00:00-03:00\u001b[0m into the \u001b[1m\u001b[32msqlite\u001b[0m online store.\n",
      "\n",
      "\u001b[1m\u001b[32mdriver_hourly_stats\u001b[0m:\n"
     ]
    },
    {
     "name": "stderr",
     "output_type": "stream",
     "text": [
      "/home/felipeadachi/miniconda3/envs/feast/lib/python3.8/site-packages/feast/infra/offline_stores/file.py:334: FutureWarning: Passing a set as an indexer is deprecated and will raise in a future version. Use a list instead.\n",
      "  return last_values_df[columns_to_extract]\n",
      "100%|█████████████████████████████████████████████████████████████████| 2/2 [00:00<00:00, 98.32it/s]\n",
      "/home/felipeadachi/miniconda3/envs/feast/lib/python3.8/site-packages/feast/infra/offline_stores/file.py:334: FutureWarning: Passing a set as an indexer is deprecated and will raise in a future version. Use a list instead.\n",
      "  return last_values_df[columns_to_extract]\n"
     ]
    },
    {
     "name": "stdout",
     "output_type": "stream",
     "text": [
      "Materializing \u001b[1m\u001b[32m1\u001b[0m feature views from \u001b[1m\u001b[32m2020-02-10 10:00:00-03:00\u001b[0m to \u001b[1m\u001b[32m2020-02-10 11:00:00-03:00\u001b[0m into the \u001b[1m\u001b[32msqlite\u001b[0m online store.\n",
      "\n",
      "\u001b[1m\u001b[32mdriver_hourly_stats\u001b[0m:\n"
     ]
    },
    {
     "name": "stderr",
     "output_type": "stream",
     "text": [
      "100%|████████████████████████████████████████████████████████████████| 2/2 [00:00<00:00, 102.54it/s]\n",
      "/home/felipeadachi/miniconda3/envs/feast/lib/python3.8/site-packages/feast/infra/offline_stores/file.py:334: FutureWarning: Passing a set as an indexer is deprecated and will raise in a future version. Use a list instead.\n",
      "  return last_values_df[columns_to_extract]\n"
     ]
    },
    {
     "name": "stdout",
     "output_type": "stream",
     "text": [
      "Materializing \u001b[1m\u001b[32m1\u001b[0m feature views from \u001b[1m\u001b[32m2020-02-10 11:00:00-03:00\u001b[0m to \u001b[1m\u001b[32m2020-02-10 12:00:00-03:00\u001b[0m into the \u001b[1m\u001b[32msqlite\u001b[0m online store.\n",
      "\n",
      "\u001b[1m\u001b[32mdriver_hourly_stats\u001b[0m:\n"
     ]
    },
    {
     "name": "stderr",
     "output_type": "stream",
     "text": [
      "100%|█████████████████████████████████████████████████████████████████| 2/2 [00:00<00:00, 82.54it/s]\n",
      "/home/felipeadachi/miniconda3/envs/feast/lib/python3.8/site-packages/feast/infra/offline_stores/file.py:334: FutureWarning: Passing a set as an indexer is deprecated and will raise in a future version. Use a list instead.\n",
      "  return last_values_df[columns_to_extract]\n"
     ]
    },
    {
     "name": "stdout",
     "output_type": "stream",
     "text": [
      "Materializing \u001b[1m\u001b[32m1\u001b[0m feature views from \u001b[1m\u001b[32m2020-02-10 12:00:00-03:00\u001b[0m to \u001b[1m\u001b[32m2020-02-10 13:00:00-03:00\u001b[0m into the \u001b[1m\u001b[32msqlite\u001b[0m online store.\n",
      "\n",
      "\u001b[1m\u001b[32mdriver_hourly_stats\u001b[0m:\n"
     ]
    },
    {
     "name": "stderr",
     "output_type": "stream",
     "text": [
      "100%|████████████████████████████████████████████████████████████████| 2/2 [00:00<00:00, 102.85it/s]\n"
     ]
    },
    {
     "name": "stdout",
     "output_type": "stream",
     "text": [
      "Materializing \u001b[1m\u001b[32m1\u001b[0m feature views from \u001b[1m\u001b[32m2020-02-10 13:00:00-03:00\u001b[0m to \u001b[1m\u001b[32m2020-02-10 14:00:00-03:00\u001b[0m into the \u001b[1m\u001b[32msqlite\u001b[0m online store.\n",
      "\n",
      "\u001b[1m\u001b[32mdriver_hourly_stats\u001b[0m:\n"
     ]
    },
    {
     "name": "stderr",
     "output_type": "stream",
     "text": [
      "/home/felipeadachi/miniconda3/envs/feast/lib/python3.8/site-packages/feast/infra/offline_stores/file.py:334: FutureWarning: Passing a set as an indexer is deprecated and will raise in a future version. Use a list instead.\n",
      "  return last_values_df[columns_to_extract]\n",
      "100%|█████████████████████████████████████████████████████████████████| 2/2 [00:00<00:00, 95.81it/s]\n"
     ]
    },
    {
     "name": "stdout",
     "output_type": "stream",
     "text": [
      "Materializing \u001b[1m\u001b[32m1\u001b[0m feature views from \u001b[1m\u001b[32m2020-02-10 14:00:00-03:00\u001b[0m to \u001b[1m\u001b[32m2020-02-10 15:00:00-03:00\u001b[0m into the \u001b[1m\u001b[32msqlite\u001b[0m online store.\n",
      "\n",
      "\u001b[1m\u001b[32mdriver_hourly_stats\u001b[0m:\n"
     ]
    },
    {
     "name": "stderr",
     "output_type": "stream",
     "text": [
      "/home/felipeadachi/miniconda3/envs/feast/lib/python3.8/site-packages/feast/infra/offline_stores/file.py:334: FutureWarning: Passing a set as an indexer is deprecated and will raise in a future version. Use a list instead.\n",
      "  return last_values_df[columns_to_extract]\n",
      "100%|████████████████████████████████████████████████████████████████| 2/2 [00:00<00:00, 107.79it/s]\n"
     ]
    },
    {
     "name": "stdout",
     "output_type": "stream",
     "text": [
      "Materializing \u001b[1m\u001b[32m1\u001b[0m feature views from \u001b[1m\u001b[32m2020-02-10 15:00:00-03:00\u001b[0m to \u001b[1m\u001b[32m2020-02-10 16:00:00-03:00\u001b[0m into the \u001b[1m\u001b[32msqlite\u001b[0m online store.\n",
      "\n",
      "\u001b[1m\u001b[32mdriver_hourly_stats\u001b[0m:\n"
     ]
    },
    {
     "name": "stderr",
     "output_type": "stream",
     "text": [
      "/home/felipeadachi/miniconda3/envs/feast/lib/python3.8/site-packages/feast/infra/offline_stores/file.py:334: FutureWarning: Passing a set as an indexer is deprecated and will raise in a future version. Use a list instead.\n",
      "  return last_values_df[columns_to_extract]\n",
      "100%|████████████████████████████████████████████████████████████████| 2/2 [00:00<00:00, 108.74it/s]\n"
     ]
    },
    {
     "name": "stdout",
     "output_type": "stream",
     "text": [
      "Materializing \u001b[1m\u001b[32m1\u001b[0m feature views from \u001b[1m\u001b[32m2020-02-10 16:00:00-03:00\u001b[0m to \u001b[1m\u001b[32m2020-02-10 17:00:00-03:00\u001b[0m into the \u001b[1m\u001b[32msqlite\u001b[0m online store.\n",
      "\n",
      "\u001b[1m\u001b[32mdriver_hourly_stats\u001b[0m:\n"
     ]
    },
    {
     "name": "stderr",
     "output_type": "stream",
     "text": [
      "/home/felipeadachi/miniconda3/envs/feast/lib/python3.8/site-packages/feast/infra/offline_stores/file.py:334: FutureWarning: Passing a set as an indexer is deprecated and will raise in a future version. Use a list instead.\n",
      "  return last_values_df[columns_to_extract]\n",
      "100%|█████████████████████████████████████████████████████████████████| 2/2 [00:00<00:00, 96.16it/s]\n",
      "/home/felipeadachi/miniconda3/envs/feast/lib/python3.8/site-packages/feast/infra/offline_stores/file.py:334: FutureWarning: Passing a set as an indexer is deprecated and will raise in a future version. Use a list instead.\n",
      "  return last_values_df[columns_to_extract]\n"
     ]
    },
    {
     "name": "stdout",
     "output_type": "stream",
     "text": [
      "Materializing \u001b[1m\u001b[32m1\u001b[0m feature views from \u001b[1m\u001b[32m2020-02-10 17:00:00-03:00\u001b[0m to \u001b[1m\u001b[32m2020-02-10 18:00:00-03:00\u001b[0m into the \u001b[1m\u001b[32msqlite\u001b[0m online store.\n",
      "\n",
      "\u001b[1m\u001b[32mdriver_hourly_stats\u001b[0m:\n"
     ]
    },
    {
     "name": "stderr",
     "output_type": "stream",
     "text": [
      "100%|█████████████████████████████████████████████████████████████████| 2/2 [00:00<00:00, 84.87it/s]\n"
     ]
    },
    {
     "name": "stdout",
     "output_type": "stream",
     "text": [
      "Materializing \u001b[1m\u001b[32m1\u001b[0m feature views from \u001b[1m\u001b[32m2020-02-10 18:00:00-03:00\u001b[0m to \u001b[1m\u001b[32m2020-02-10 19:00:00-03:00\u001b[0m into the \u001b[1m\u001b[32msqlite\u001b[0m online store.\n",
      "\n",
      "\u001b[1m\u001b[32mdriver_hourly_stats\u001b[0m:\n"
     ]
    },
    {
     "name": "stderr",
     "output_type": "stream",
     "text": [
      "/home/felipeadachi/miniconda3/envs/feast/lib/python3.8/site-packages/feast/infra/offline_stores/file.py:334: FutureWarning: Passing a set as an indexer is deprecated and will raise in a future version. Use a list instead.\n",
      "  return last_values_df[columns_to_extract]\n",
      "100%|█████████████████████████████████████████████████████████████████| 2/2 [00:00<00:00, 97.44it/s]"
     ]
    },
    {
     "name": "stdout",
     "output_type": "stream",
     "text": [
      "Materializing \u001b[1m\u001b[32m1\u001b[0m feature views from \u001b[1m\u001b[32m2020-02-10 19:00:00-03:00\u001b[0m to \u001b[1m\u001b[32m2020-02-10 20:00:00-03:00\u001b[0m into the \u001b[1m\u001b[32msqlite\u001b[0m online store.\n",
      "\n",
      "\u001b[1m\u001b[32mdriver_hourly_stats\u001b[0m:\n"
     ]
    },
    {
     "name": "stderr",
     "output_type": "stream",
     "text": [
      "\n",
      "/home/felipeadachi/miniconda3/envs/feast/lib/python3.8/site-packages/feast/infra/offline_stores/file.py:334: FutureWarning: Passing a set as an indexer is deprecated and will raise in a future version. Use a list instead.\n",
      "  return last_values_df[columns_to_extract]\n",
      "100%|████████████████████████████████████████████████████████████████| 2/2 [00:00<00:00, 101.74it/s]\n",
      "/home/felipeadachi/miniconda3/envs/feast/lib/python3.8/site-packages/feast/infra/offline_stores/file.py:334: FutureWarning: Passing a set as an indexer is deprecated and will raise in a future version. Use a list instead.\n",
      "  return last_values_df[columns_to_extract]\n"
     ]
    },
    {
     "name": "stdout",
     "output_type": "stream",
     "text": [
      "Materializing \u001b[1m\u001b[32m1\u001b[0m feature views from \u001b[1m\u001b[32m2020-02-10 20:00:00-03:00\u001b[0m to \u001b[1m\u001b[32m2020-02-10 21:00:00-03:00\u001b[0m into the \u001b[1m\u001b[32msqlite\u001b[0m online store.\n",
      "\n",
      "\u001b[1m\u001b[32mdriver_hourly_stats\u001b[0m:\n"
     ]
    },
    {
     "name": "stderr",
     "output_type": "stream",
     "text": [
      "100%|█████████████████████████████████████████████████████████████████| 2/2 [00:00<00:00, 74.47it/s]\n"
     ]
    },
    {
     "name": "stdout",
     "output_type": "stream",
     "text": [
      "Materializing \u001b[1m\u001b[32m1\u001b[0m feature views from \u001b[1m\u001b[32m2020-02-10 21:00:00-03:00\u001b[0m to \u001b[1m\u001b[32m2020-02-10 22:00:00-03:00\u001b[0m into the \u001b[1m\u001b[32msqlite\u001b[0m online store.\n",
      "\n",
      "\u001b[1m\u001b[32mdriver_hourly_stats\u001b[0m:\n"
     ]
    },
    {
     "name": "stderr",
     "output_type": "stream",
     "text": [
      "/home/felipeadachi/miniconda3/envs/feast/lib/python3.8/site-packages/feast/infra/offline_stores/file.py:334: FutureWarning: Passing a set as an indexer is deprecated and will raise in a future version. Use a list instead.\n",
      "  return last_values_df[columns_to_extract]\n",
      "100%|█████████████████████████████████████████████████████████████████| 2/2 [00:00<00:00, 80.35it/s]\n",
      "/home/felipeadachi/miniconda3/envs/feast/lib/python3.8/site-packages/feast/infra/offline_stores/file.py:334: FutureWarning: Passing a set as an indexer is deprecated and will raise in a future version. Use a list instead.\n",
      "  return last_values_df[columns_to_extract]\n"
     ]
    },
    {
     "name": "stdout",
     "output_type": "stream",
     "text": [
      "Materializing \u001b[1m\u001b[32m1\u001b[0m feature views from \u001b[1m\u001b[32m2020-02-10 22:00:00-03:00\u001b[0m to \u001b[1m\u001b[32m2020-02-10 23:00:00-03:00\u001b[0m into the \u001b[1m\u001b[32msqlite\u001b[0m online store.\n",
      "\n",
      "\u001b[1m\u001b[32mdriver_hourly_stats\u001b[0m:\n"
     ]
    },
    {
     "name": "stderr",
     "output_type": "stream",
     "text": [
      "100%|████████████████████████████████████████████████████████████████| 2/2 [00:00<00:00, 104.67it/s]\n"
     ]
    },
    {
     "name": "stdout",
     "output_type": "stream",
     "text": [
      "Closing logger for day 2020-02-10 00:00:00....\n",
      "Starting logger for day 2020-02-11 00:00:00....\n",
      "Materializing \u001b[1m\u001b[32m1\u001b[0m feature views from \u001b[1m\u001b[32m2020-02-10 23:00:00-03:00\u001b[0m to \u001b[1m\u001b[32m2020-02-11 00:00:00-03:00\u001b[0m into the \u001b[1m\u001b[32msqlite\u001b[0m online store.\n",
      "\n",
      "\u001b[1m\u001b[32mdriver_hourly_stats\u001b[0m:\n"
     ]
    },
    {
     "name": "stderr",
     "output_type": "stream",
     "text": [
      "/home/felipeadachi/miniconda3/envs/feast/lib/python3.8/site-packages/feast/infra/offline_stores/file.py:334: FutureWarning: Passing a set as an indexer is deprecated and will raise in a future version. Use a list instead.\n",
      "  return last_values_df[columns_to_extract]\n",
      "100%|█████████████████████████████████████████████████████████████████| 2/2 [00:00<00:00, 75.99it/s]\n"
     ]
    },
    {
     "name": "stdout",
     "output_type": "stream",
     "text": [
      "Materializing \u001b[1m\u001b[32m1\u001b[0m feature views from \u001b[1m\u001b[32m2020-02-11 00:00:00-03:00\u001b[0m to \u001b[1m\u001b[32m2020-02-11 01:00:00-03:00\u001b[0m into the \u001b[1m\u001b[32msqlite\u001b[0m online store.\n",
      "\n",
      "\u001b[1m\u001b[32mdriver_hourly_stats\u001b[0m:\n"
     ]
    },
    {
     "name": "stderr",
     "output_type": "stream",
     "text": [
      "/home/felipeadachi/miniconda3/envs/feast/lib/python3.8/site-packages/feast/infra/offline_stores/file.py:334: FutureWarning: Passing a set as an indexer is deprecated and will raise in a future version. Use a list instead.\n",
      "  return last_values_df[columns_to_extract]\n",
      "100%|█████████████████████████████████████████████████████████████████| 2/2 [00:00<00:00, 82.76it/s]\n",
      "/home/felipeadachi/miniconda3/envs/feast/lib/python3.8/site-packages/feast/infra/offline_stores/file.py:334: FutureWarning: Passing a set as an indexer is deprecated and will raise in a future version. Use a list instead.\n",
      "  return last_values_df[columns_to_extract]\n"
     ]
    },
    {
     "name": "stdout",
     "output_type": "stream",
     "text": [
      "Materializing \u001b[1m\u001b[32m1\u001b[0m feature views from \u001b[1m\u001b[32m2020-02-11 04:00:00-03:00\u001b[0m to \u001b[1m\u001b[32m2020-02-11 05:00:00-03:00\u001b[0m into the \u001b[1m\u001b[32msqlite\u001b[0m online store.\n",
      "\n",
      "\u001b[1m\u001b[32mdriver_hourly_stats\u001b[0m:\n"
     ]
    },
    {
     "name": "stderr",
     "output_type": "stream",
     "text": [
      "100%|█████████████████████████████████████████████████████████████████| 2/2 [00:00<00:00, 67.93it/s]\n",
      "/home/felipeadachi/miniconda3/envs/feast/lib/python3.8/site-packages/feast/infra/offline_stores/file.py:334: FutureWarning: Passing a set as an indexer is deprecated and will raise in a future version. Use a list instead.\n",
      "  return last_values_df[columns_to_extract]\n"
     ]
    },
    {
     "name": "stdout",
     "output_type": "stream",
     "text": [
      "Materializing \u001b[1m\u001b[32m1\u001b[0m feature views from \u001b[1m\u001b[32m2020-02-11 05:00:00-03:00\u001b[0m to \u001b[1m\u001b[32m2020-02-11 06:00:00-03:00\u001b[0m into the \u001b[1m\u001b[32msqlite\u001b[0m online store.\n",
      "\n",
      "\u001b[1m\u001b[32mdriver_hourly_stats\u001b[0m:\n"
     ]
    },
    {
     "name": "stderr",
     "output_type": "stream",
     "text": [
      "0it [00:00, ?it/s]\n",
      "/home/felipeadachi/miniconda3/envs/feast/lib/python3.8/site-packages/feast/infra/offline_stores/file.py:334: FutureWarning: Passing a set as an indexer is deprecated and will raise in a future version. Use a list instead.\n",
      "  return last_values_df[columns_to_extract]\n"
     ]
    },
    {
     "name": "stdout",
     "output_type": "stream",
     "text": [
      "Materializing \u001b[1m\u001b[32m1\u001b[0m feature views from \u001b[1m\u001b[32m2020-02-11 06:00:00-03:00\u001b[0m to \u001b[1m\u001b[32m2020-02-11 07:00:00-03:00\u001b[0m into the \u001b[1m\u001b[32msqlite\u001b[0m online store.\n",
      "\n",
      "\u001b[1m\u001b[32mdriver_hourly_stats\u001b[0m:\n"
     ]
    },
    {
     "name": "stderr",
     "output_type": "stream",
     "text": [
      "100%|█████████████████████████████████████████████████████████████████| 2/2 [00:00<00:00, 89.66it/s]\n"
     ]
    },
    {
     "name": "stdout",
     "output_type": "stream",
     "text": [
      "Materializing \u001b[1m\u001b[32m1\u001b[0m feature views from \u001b[1m\u001b[32m2020-02-11 07:00:00-03:00\u001b[0m to \u001b[1m\u001b[32m2020-02-11 08:00:00-03:00\u001b[0m into the \u001b[1m\u001b[32msqlite\u001b[0m online store.\n",
      "\n",
      "\u001b[1m\u001b[32mdriver_hourly_stats\u001b[0m:\n"
     ]
    },
    {
     "name": "stderr",
     "output_type": "stream",
     "text": [
      "/home/felipeadachi/miniconda3/envs/feast/lib/python3.8/site-packages/feast/infra/offline_stores/file.py:334: FutureWarning: Passing a set as an indexer is deprecated and will raise in a future version. Use a list instead.\n",
      "  return last_values_df[columns_to_extract]\n",
      "0it [00:00, ?it/s]\n"
     ]
    },
    {
     "name": "stdout",
     "output_type": "stream",
     "text": [
      "Materializing \u001b[1m\u001b[32m1\u001b[0m feature views from \u001b[1m\u001b[32m2020-02-11 08:00:00-03:00\u001b[0m to \u001b[1m\u001b[32m2020-02-11 09:00:00-03:00\u001b[0m into the \u001b[1m\u001b[32msqlite\u001b[0m online store.\n",
      "\n",
      "\u001b[1m\u001b[32mdriver_hourly_stats\u001b[0m:\n"
     ]
    },
    {
     "name": "stderr",
     "output_type": "stream",
     "text": [
      "/home/felipeadachi/miniconda3/envs/feast/lib/python3.8/site-packages/feast/infra/offline_stores/file.py:334: FutureWarning: Passing a set as an indexer is deprecated and will raise in a future version. Use a list instead.\n",
      "  return last_values_df[columns_to_extract]\n",
      "100%|█████████████████████████████████████████████████████████████████| 2/2 [00:00<00:00, 94.10it/s]\n"
     ]
    },
    {
     "name": "stdout",
     "output_type": "stream",
     "text": [
      "Materializing \u001b[1m\u001b[32m1\u001b[0m feature views from \u001b[1m\u001b[32m2020-02-11 09:00:00-03:00\u001b[0m to \u001b[1m\u001b[32m2020-02-11 10:00:00-03:00\u001b[0m into the \u001b[1m\u001b[32msqlite\u001b[0m online store.\n",
      "\n",
      "\u001b[1m\u001b[32mdriver_hourly_stats\u001b[0m:\n"
     ]
    },
    {
     "name": "stderr",
     "output_type": "stream",
     "text": [
      "/home/felipeadachi/miniconda3/envs/feast/lib/python3.8/site-packages/feast/infra/offline_stores/file.py:334: FutureWarning: Passing a set as an indexer is deprecated and will raise in a future version. Use a list instead.\n",
      "  return last_values_df[columns_to_extract]\n",
      "0it [00:00, ?it/s]\n",
      "/home/felipeadachi/miniconda3/envs/feast/lib/python3.8/site-packages/feast/infra/offline_stores/file.py:334: FutureWarning: Passing a set as an indexer is deprecated and will raise in a future version. Use a list instead.\n",
      "  return last_values_df[columns_to_extract]\n"
     ]
    },
    {
     "name": "stdout",
     "output_type": "stream",
     "text": [
      "Materializing \u001b[1m\u001b[32m1\u001b[0m feature views from \u001b[1m\u001b[32m2020-02-11 10:00:00-03:00\u001b[0m to \u001b[1m\u001b[32m2020-02-11 11:00:00-03:00\u001b[0m into the \u001b[1m\u001b[32msqlite\u001b[0m online store.\n",
      "\n",
      "\u001b[1m\u001b[32mdriver_hourly_stats\u001b[0m:\n"
     ]
    },
    {
     "name": "stderr",
     "output_type": "stream",
     "text": [
      "100%|█████████████████████████████████████████████████████████████████| 2/2 [00:00<00:00, 84.42it/s]\n"
     ]
    },
    {
     "name": "stdout",
     "output_type": "stream",
     "text": [
      "Materializing \u001b[1m\u001b[32m1\u001b[0m feature views from \u001b[1m\u001b[32m2020-02-11 11:00:00-03:00\u001b[0m to \u001b[1m\u001b[32m2020-02-11 12:00:00-03:00\u001b[0m into the \u001b[1m\u001b[32msqlite\u001b[0m online store.\n",
      "\n",
      "\u001b[1m\u001b[32mdriver_hourly_stats\u001b[0m:\n"
     ]
    },
    {
     "name": "stderr",
     "output_type": "stream",
     "text": [
      "/home/felipeadachi/miniconda3/envs/feast/lib/python3.8/site-packages/feast/infra/offline_stores/file.py:334: FutureWarning: Passing a set as an indexer is deprecated and will raise in a future version. Use a list instead.\n",
      "  return last_values_df[columns_to_extract]\n",
      "0it [00:00, ?it/s]\n",
      "/home/felipeadachi/miniconda3/envs/feast/lib/python3.8/site-packages/feast/infra/offline_stores/file.py:334: FutureWarning: Passing a set as an indexer is deprecated and will raise in a future version. Use a list instead.\n",
      "  return last_values_df[columns_to_extract]\n"
     ]
    },
    {
     "name": "stdout",
     "output_type": "stream",
     "text": [
      "Materializing \u001b[1m\u001b[32m1\u001b[0m feature views from \u001b[1m\u001b[32m2020-02-11 12:00:00-03:00\u001b[0m to \u001b[1m\u001b[32m2020-02-11 13:00:00-03:00\u001b[0m into the \u001b[1m\u001b[32msqlite\u001b[0m online store.\n",
      "\n",
      "\u001b[1m\u001b[32mdriver_hourly_stats\u001b[0m:\n"
     ]
    },
    {
     "name": "stderr",
     "output_type": "stream",
     "text": [
      "100%|████████████████████████████████████████████████████████████████| 2/2 [00:00<00:00, 101.50it/s]\n"
     ]
    },
    {
     "name": "stdout",
     "output_type": "stream",
     "text": [
      "Materializing \u001b[1m\u001b[32m1\u001b[0m feature views from \u001b[1m\u001b[32m2020-02-11 13:00:00-03:00\u001b[0m to \u001b[1m\u001b[32m2020-02-11 14:00:00-03:00\u001b[0m into the \u001b[1m\u001b[32msqlite\u001b[0m online store.\n",
      "\n",
      "\u001b[1m\u001b[32mdriver_hourly_stats\u001b[0m:\n"
     ]
    },
    {
     "name": "stderr",
     "output_type": "stream",
     "text": [
      "/home/felipeadachi/miniconda3/envs/feast/lib/python3.8/site-packages/feast/infra/offline_stores/file.py:334: FutureWarning: Passing a set as an indexer is deprecated and will raise in a future version. Use a list instead.\n",
      "  return last_values_df[columns_to_extract]\n",
      "0it [00:00, ?it/s]\n",
      "/home/felipeadachi/miniconda3/envs/feast/lib/python3.8/site-packages/feast/infra/offline_stores/file.py:334: FutureWarning: Passing a set as an indexer is deprecated and will raise in a future version. Use a list instead.\n",
      "  return last_values_df[columns_to_extract]\n"
     ]
    },
    {
     "name": "stdout",
     "output_type": "stream",
     "text": [
      "Materializing \u001b[1m\u001b[32m1\u001b[0m feature views from \u001b[1m\u001b[32m2020-02-11 14:00:00-03:00\u001b[0m to \u001b[1m\u001b[32m2020-02-11 15:00:00-03:00\u001b[0m into the \u001b[1m\u001b[32msqlite\u001b[0m online store.\n",
      "\n",
      "\u001b[1m\u001b[32mdriver_hourly_stats\u001b[0m:\n"
     ]
    },
    {
     "name": "stderr",
     "output_type": "stream",
     "text": [
      "100%|████████████████████████████████████████████████████████████████| 2/2 [00:00<00:00, 119.93it/s]\n",
      "/home/felipeadachi/miniconda3/envs/feast/lib/python3.8/site-packages/feast/infra/offline_stores/file.py:334: FutureWarning: Passing a set as an indexer is deprecated and will raise in a future version. Use a list instead.\n",
      "  return last_values_df[columns_to_extract]\n"
     ]
    },
    {
     "name": "stdout",
     "output_type": "stream",
     "text": [
      "Materializing \u001b[1m\u001b[32m1\u001b[0m feature views from \u001b[1m\u001b[32m2020-02-11 15:00:00-03:00\u001b[0m to \u001b[1m\u001b[32m2020-02-11 16:00:00-03:00\u001b[0m into the \u001b[1m\u001b[32msqlite\u001b[0m online store.\n",
      "\n",
      "\u001b[1m\u001b[32mdriver_hourly_stats\u001b[0m:\n"
     ]
    },
    {
     "name": "stderr",
     "output_type": "stream",
     "text": [
      "0it [00:00, ?it/s]\n",
      "/home/felipeadachi/miniconda3/envs/feast/lib/python3.8/site-packages/feast/infra/offline_stores/file.py:334: FutureWarning: Passing a set as an indexer is deprecated and will raise in a future version. Use a list instead.\n",
      "  return last_values_df[columns_to_extract]\n"
     ]
    },
    {
     "name": "stdout",
     "output_type": "stream",
     "text": [
      "Materializing \u001b[1m\u001b[32m1\u001b[0m feature views from \u001b[1m\u001b[32m2020-02-11 16:00:00-03:00\u001b[0m to \u001b[1m\u001b[32m2020-02-11 17:00:00-03:00\u001b[0m into the \u001b[1m\u001b[32msqlite\u001b[0m online store.\n",
      "\n",
      "\u001b[1m\u001b[32mdriver_hourly_stats\u001b[0m:\n"
     ]
    },
    {
     "name": "stderr",
     "output_type": "stream",
     "text": [
      "100%|████████████████████████████████████████████████████████████████| 2/2 [00:00<00:00, 101.69it/s]\n",
      "/home/felipeadachi/miniconda3/envs/feast/lib/python3.8/site-packages/feast/infra/offline_stores/file.py:334: FutureWarning: Passing a set as an indexer is deprecated and will raise in a future version. Use a list instead.\n",
      "  return last_values_df[columns_to_extract]\n"
     ]
    },
    {
     "name": "stdout",
     "output_type": "stream",
     "text": [
      "Materializing \u001b[1m\u001b[32m1\u001b[0m feature views from \u001b[1m\u001b[32m2020-02-11 17:00:00-03:00\u001b[0m to \u001b[1m\u001b[32m2020-02-11 18:00:00-03:00\u001b[0m into the \u001b[1m\u001b[32msqlite\u001b[0m online store.\n",
      "\n",
      "\u001b[1m\u001b[32mdriver_hourly_stats\u001b[0m:\n"
     ]
    },
    {
     "name": "stderr",
     "output_type": "stream",
     "text": [
      "0it [00:00, ?it/s]\n",
      "/home/felipeadachi/miniconda3/envs/feast/lib/python3.8/site-packages/feast/infra/offline_stores/file.py:334: FutureWarning: Passing a set as an indexer is deprecated and will raise in a future version. Use a list instead.\n",
      "  return last_values_df[columns_to_extract]\n"
     ]
    },
    {
     "name": "stdout",
     "output_type": "stream",
     "text": [
      "Materializing \u001b[1m\u001b[32m1\u001b[0m feature views from \u001b[1m\u001b[32m2020-02-11 18:00:00-03:00\u001b[0m to \u001b[1m\u001b[32m2020-02-11 19:00:00-03:00\u001b[0m into the \u001b[1m\u001b[32msqlite\u001b[0m online store.\n",
      "\n",
      "\u001b[1m\u001b[32mdriver_hourly_stats\u001b[0m:\n"
     ]
    },
    {
     "name": "stderr",
     "output_type": "stream",
     "text": [
      "100%|█████████████████████████████████████████████████████████████████| 2/2 [00:00<00:00, 44.68it/s]\n",
      "/home/felipeadachi/miniconda3/envs/feast/lib/python3.8/site-packages/feast/infra/offline_stores/file.py:334: FutureWarning: Passing a set as an indexer is deprecated and will raise in a future version. Use a list instead.\n",
      "  return last_values_df[columns_to_extract]\n"
     ]
    },
    {
     "name": "stdout",
     "output_type": "stream",
     "text": [
      "Materializing \u001b[1m\u001b[32m1\u001b[0m feature views from \u001b[1m\u001b[32m2020-02-11 19:00:00-03:00\u001b[0m to \u001b[1m\u001b[32m2020-02-11 20:00:00-03:00\u001b[0m into the \u001b[1m\u001b[32msqlite\u001b[0m online store.\n",
      "\n",
      "\u001b[1m\u001b[32mdriver_hourly_stats\u001b[0m:\n"
     ]
    },
    {
     "name": "stderr",
     "output_type": "stream",
     "text": [
      "0it [00:00, ?it/s]\n",
      "/home/felipeadachi/miniconda3/envs/feast/lib/python3.8/site-packages/feast/infra/offline_stores/file.py:334: FutureWarning: Passing a set as an indexer is deprecated and will raise in a future version. Use a list instead.\n",
      "  return last_values_df[columns_to_extract]\n"
     ]
    },
    {
     "name": "stdout",
     "output_type": "stream",
     "text": [
      "Materializing \u001b[1m\u001b[32m1\u001b[0m feature views from \u001b[1m\u001b[32m2020-02-11 20:00:00-03:00\u001b[0m to \u001b[1m\u001b[32m2020-02-11 21:00:00-03:00\u001b[0m into the \u001b[1m\u001b[32msqlite\u001b[0m online store.\n",
      "\n",
      "\u001b[1m\u001b[32mdriver_hourly_stats\u001b[0m:\n"
     ]
    },
    {
     "name": "stderr",
     "output_type": "stream",
     "text": [
      "100%|█████████████████████████████████████████████████████████████████| 2/2 [00:00<00:00, 87.50it/s]\n"
     ]
    },
    {
     "name": "stdout",
     "output_type": "stream",
     "text": [
      "Materializing \u001b[1m\u001b[32m1\u001b[0m feature views from \u001b[1m\u001b[32m2020-02-11 21:00:00-03:00\u001b[0m to \u001b[1m\u001b[32m2020-02-11 22:00:00-03:00\u001b[0m into the \u001b[1m\u001b[32msqlite\u001b[0m online store.\n",
      "\n",
      "\u001b[1m\u001b[32mdriver_hourly_stats\u001b[0m:\n"
     ]
    },
    {
     "name": "stderr",
     "output_type": "stream",
     "text": [
      "/home/felipeadachi/miniconda3/envs/feast/lib/python3.8/site-packages/feast/infra/offline_stores/file.py:334: FutureWarning: Passing a set as an indexer is deprecated and will raise in a future version. Use a list instead.\n",
      "  return last_values_df[columns_to_extract]\n",
      "0it [00:00, ?it/s]\n",
      "/home/felipeadachi/miniconda3/envs/feast/lib/python3.8/site-packages/feast/infra/offline_stores/file.py:334: FutureWarning: Passing a set as an indexer is deprecated and will raise in a future version. Use a list instead.\n",
      "  return last_values_df[columns_to_extract]\n"
     ]
    },
    {
     "name": "stdout",
     "output_type": "stream",
     "text": [
      "Materializing \u001b[1m\u001b[32m1\u001b[0m feature views from \u001b[1m\u001b[32m2020-02-11 22:00:00-03:00\u001b[0m to \u001b[1m\u001b[32m2020-02-11 23:00:00-03:00\u001b[0m into the \u001b[1m\u001b[32msqlite\u001b[0m online store.\n",
      "\n",
      "\u001b[1m\u001b[32mdriver_hourly_stats\u001b[0m:\n"
     ]
    },
    {
     "name": "stderr",
     "output_type": "stream",
     "text": [
      "100%|█████████████████████████████████████████████████████████████████| 2/2 [00:00<00:00, 94.71it/s]\n"
     ]
    },
    {
     "name": "stdout",
     "output_type": "stream",
     "text": [
      "Closing logger for day 2020-02-11 00:00:00....\n",
      "Starting logger for day 2020-02-12 00:00:00....\n",
      "Materializing \u001b[1m\u001b[32m1\u001b[0m feature views from \u001b[1m\u001b[32m2020-02-11 23:00:00-03:00\u001b[0m to \u001b[1m\u001b[32m2020-02-12 00:00:00-03:00\u001b[0m into the \u001b[1m\u001b[32msqlite\u001b[0m online store.\n",
      "\n",
      "\u001b[1m\u001b[32mdriver_hourly_stats\u001b[0m:\n"
     ]
    },
    {
     "name": "stderr",
     "output_type": "stream",
     "text": [
      "/home/felipeadachi/miniconda3/envs/feast/lib/python3.8/site-packages/feast/infra/offline_stores/file.py:334: FutureWarning: Passing a set as an indexer is deprecated and will raise in a future version. Use a list instead.\n",
      "  return last_values_df[columns_to_extract]\n",
      "0it [00:00, ?it/s]\n",
      "/home/felipeadachi/miniconda3/envs/feast/lib/python3.8/site-packages/feast/infra/offline_stores/file.py:334: FutureWarning: Passing a set as an indexer is deprecated and will raise in a future version. Use a list instead.\n",
      "  return last_values_df[columns_to_extract]\n"
     ]
    },
    {
     "name": "stdout",
     "output_type": "stream",
     "text": [
      "Materializing \u001b[1m\u001b[32m1\u001b[0m feature views from \u001b[1m\u001b[32m2020-02-12 00:00:00-03:00\u001b[0m to \u001b[1m\u001b[32m2020-02-12 01:00:00-03:00\u001b[0m into the \u001b[1m\u001b[32msqlite\u001b[0m online store.\n",
      "\n",
      "\u001b[1m\u001b[32mdriver_hourly_stats\u001b[0m:\n"
     ]
    },
    {
     "name": "stderr",
     "output_type": "stream",
     "text": [
      "100%|█████████████████████████████████████████████████████████████████| 2/2 [00:00<00:00, 48.22it/s]"
     ]
    },
    {
     "name": "stdout",
     "output_type": "stream",
     "text": [
      "Materializing \u001b[1m\u001b[32m1\u001b[0m feature views from \u001b[1m\u001b[32m2020-02-12 03:00:00-03:00\u001b[0m to \u001b[1m\u001b[32m2020-02-12 04:00:00-03:00\u001b[0m into the \u001b[1m\u001b[32msqlite\u001b[0m online store.\n",
      "\n",
      "\u001b[1m\u001b[32mdriver_hourly_stats\u001b[0m:\n"
     ]
    },
    {
     "name": "stderr",
     "output_type": "stream",
     "text": [
      "\n",
      "/home/felipeadachi/miniconda3/envs/feast/lib/python3.8/site-packages/feast/infra/offline_stores/file.py:334: FutureWarning: Passing a set as an indexer is deprecated and will raise in a future version. Use a list instead.\n",
      "  return last_values_df[columns_to_extract]\n",
      "100%|█████████████████████████████████████████████████████████████████| 2/2 [00:00<00:00, 91.34it/s]\n",
      "/home/felipeadachi/miniconda3/envs/feast/lib/python3.8/site-packages/feast/infra/offline_stores/file.py:334: FutureWarning: Passing a set as an indexer is deprecated and will raise in a future version. Use a list instead.\n",
      "  return last_values_df[columns_to_extract]\n"
     ]
    },
    {
     "name": "stdout",
     "output_type": "stream",
     "text": [
      "Materializing \u001b[1m\u001b[32m1\u001b[0m feature views from \u001b[1m\u001b[32m2020-02-12 06:00:00-03:00\u001b[0m to \u001b[1m\u001b[32m2020-02-12 07:00:00-03:00\u001b[0m into the \u001b[1m\u001b[32msqlite\u001b[0m online store.\n",
      "\n",
      "\u001b[1m\u001b[32mdriver_hourly_stats\u001b[0m:\n"
     ]
    },
    {
     "name": "stderr",
     "output_type": "stream",
     "text": [
      "100%|█████████████████████████████████████████████████████████████████| 2/2 [00:00<00:00, 77.23it/s]\n"
     ]
    },
    {
     "name": "stdout",
     "output_type": "stream",
     "text": [
      "Materializing \u001b[1m\u001b[32m1\u001b[0m feature views from \u001b[1m\u001b[32m2020-02-12 07:00:00-03:00\u001b[0m to \u001b[1m\u001b[32m2020-02-12 08:00:00-03:00\u001b[0m into the \u001b[1m\u001b[32msqlite\u001b[0m online store.\n",
      "\n",
      "\u001b[1m\u001b[32mdriver_hourly_stats\u001b[0m:\n"
     ]
    },
    {
     "name": "stderr",
     "output_type": "stream",
     "text": [
      "/home/felipeadachi/miniconda3/envs/feast/lib/python3.8/site-packages/feast/infra/offline_stores/file.py:334: FutureWarning: Passing a set as an indexer is deprecated and will raise in a future version. Use a list instead.\n",
      "  return last_values_df[columns_to_extract]\n",
      "100%|█████████████████████████████████████████████████████████████████| 2/2 [00:00<00:00, 71.44it/s]\n"
     ]
    },
    {
     "name": "stdout",
     "output_type": "stream",
     "text": [
      "Materializing \u001b[1m\u001b[32m1\u001b[0m feature views from \u001b[1m\u001b[32m2020-02-12 08:00:00-03:00\u001b[0m to \u001b[1m\u001b[32m2020-02-12 09:00:00-03:00\u001b[0m into the \u001b[1m\u001b[32msqlite\u001b[0m online store.\n",
      "\n",
      "\u001b[1m\u001b[32mdriver_hourly_stats\u001b[0m:\n"
     ]
    },
    {
     "name": "stderr",
     "output_type": "stream",
     "text": [
      "/home/felipeadachi/miniconda3/envs/feast/lib/python3.8/site-packages/feast/infra/offline_stores/file.py:334: FutureWarning: Passing a set as an indexer is deprecated and will raise in a future version. Use a list instead.\n",
      "  return last_values_df[columns_to_extract]\n",
      "100%|████████████████████████████████████████████████████████████████| 2/2 [00:00<00:00, 101.02it/s]\n",
      "/home/felipeadachi/miniconda3/envs/feast/lib/python3.8/site-packages/feast/infra/offline_stores/file.py:334: FutureWarning: Passing a set as an indexer is deprecated and will raise in a future version. Use a list instead.\n",
      "  return last_values_df[columns_to_extract]\n"
     ]
    },
    {
     "name": "stdout",
     "output_type": "stream",
     "text": [
      "Materializing \u001b[1m\u001b[32m1\u001b[0m feature views from \u001b[1m\u001b[32m2020-02-12 09:00:00-03:00\u001b[0m to \u001b[1m\u001b[32m2020-02-12 10:00:00-03:00\u001b[0m into the \u001b[1m\u001b[32msqlite\u001b[0m online store.\n",
      "\n",
      "\u001b[1m\u001b[32mdriver_hourly_stats\u001b[0m:\n"
     ]
    },
    {
     "name": "stderr",
     "output_type": "stream",
     "text": [
      "100%|█████████████████████████████████████████████████████████████████| 2/2 [00:00<00:00, 98.10it/s]\n"
     ]
    },
    {
     "name": "stdout",
     "output_type": "stream",
     "text": [
      "Materializing \u001b[1m\u001b[32m1\u001b[0m feature views from \u001b[1m\u001b[32m2020-02-12 10:00:00-03:00\u001b[0m to \u001b[1m\u001b[32m2020-02-12 11:00:00-03:00\u001b[0m into the \u001b[1m\u001b[32msqlite\u001b[0m online store.\n",
      "\n",
      "\u001b[1m\u001b[32mdriver_hourly_stats\u001b[0m:\n"
     ]
    },
    {
     "name": "stderr",
     "output_type": "stream",
     "text": [
      "/home/felipeadachi/miniconda3/envs/feast/lib/python3.8/site-packages/feast/infra/offline_stores/file.py:334: FutureWarning: Passing a set as an indexer is deprecated and will raise in a future version. Use a list instead.\n",
      "  return last_values_df[columns_to_extract]\n",
      "100%|█████████████████████████████████████████████████████████████████| 2/2 [00:00<00:00, 89.72it/s]\n",
      "/home/felipeadachi/miniconda3/envs/feast/lib/python3.8/site-packages/feast/infra/offline_stores/file.py:334: FutureWarning: Passing a set as an indexer is deprecated and will raise in a future version. Use a list instead.\n",
      "  return last_values_df[columns_to_extract]\n"
     ]
    },
    {
     "name": "stdout",
     "output_type": "stream",
     "text": [
      "Materializing \u001b[1m\u001b[32m1\u001b[0m feature views from \u001b[1m\u001b[32m2020-02-12 11:00:00-03:00\u001b[0m to \u001b[1m\u001b[32m2020-02-12 12:00:00-03:00\u001b[0m into the \u001b[1m\u001b[32msqlite\u001b[0m online store.\n",
      "\n",
      "\u001b[1m\u001b[32mdriver_hourly_stats\u001b[0m:\n"
     ]
    },
    {
     "name": "stderr",
     "output_type": "stream",
     "text": [
      "100%|█████████████████████████████████████████████████████████████████| 2/2 [00:00<00:00, 86.22it/s]\n"
     ]
    },
    {
     "name": "stdout",
     "output_type": "stream",
     "text": [
      "Materializing \u001b[1m\u001b[32m1\u001b[0m feature views from \u001b[1m\u001b[32m2020-02-12 12:00:00-03:00\u001b[0m to \u001b[1m\u001b[32m2020-02-12 13:00:00-03:00\u001b[0m into the \u001b[1m\u001b[32msqlite\u001b[0m online store.\n",
      "\n",
      "\u001b[1m\u001b[32mdriver_hourly_stats\u001b[0m:\n"
     ]
    },
    {
     "name": "stderr",
     "output_type": "stream",
     "text": [
      "/home/felipeadachi/miniconda3/envs/feast/lib/python3.8/site-packages/feast/infra/offline_stores/file.py:334: FutureWarning: Passing a set as an indexer is deprecated and will raise in a future version. Use a list instead.\n",
      "  return last_values_df[columns_to_extract]\n",
      "100%|█████████████████████████████████████████████████████████████████| 2/2 [00:00<00:00, 94.35it/s]\n"
     ]
    },
    {
     "name": "stdout",
     "output_type": "stream",
     "text": [
      "Materializing \u001b[1m\u001b[32m1\u001b[0m feature views from \u001b[1m\u001b[32m2020-02-12 13:00:00-03:00\u001b[0m to \u001b[1m\u001b[32m2020-02-12 14:00:00-03:00\u001b[0m into the \u001b[1m\u001b[32msqlite\u001b[0m online store.\n",
      "\n",
      "\u001b[1m\u001b[32mdriver_hourly_stats\u001b[0m:\n"
     ]
    },
    {
     "name": "stderr",
     "output_type": "stream",
     "text": [
      "/home/felipeadachi/miniconda3/envs/feast/lib/python3.8/site-packages/feast/infra/offline_stores/file.py:334: FutureWarning: Passing a set as an indexer is deprecated and will raise in a future version. Use a list instead.\n",
      "  return last_values_df[columns_to_extract]\n",
      "100%|████████████████████████████████████████████████████████████████| 2/2 [00:00<00:00, 100.30it/s]\n"
     ]
    },
    {
     "name": "stdout",
     "output_type": "stream",
     "text": [
      "Materializing \u001b[1m\u001b[32m1\u001b[0m feature views from \u001b[1m\u001b[32m2020-02-12 14:00:00-03:00\u001b[0m to \u001b[1m\u001b[32m2020-02-12 15:00:00-03:00\u001b[0m into the \u001b[1m\u001b[32msqlite\u001b[0m online store.\n",
      "\n",
      "\u001b[1m\u001b[32mdriver_hourly_stats\u001b[0m:\n"
     ]
    },
    {
     "name": "stderr",
     "output_type": "stream",
     "text": [
      "/home/felipeadachi/miniconda3/envs/feast/lib/python3.8/site-packages/feast/infra/offline_stores/file.py:334: FutureWarning: Passing a set as an indexer is deprecated and will raise in a future version. Use a list instead.\n",
      "  return last_values_df[columns_to_extract]\n",
      "100%|████████████████████████████████████████████████████████████████| 2/2 [00:00<00:00, 106.25it/s]\n",
      "/home/felipeadachi/miniconda3/envs/feast/lib/python3.8/site-packages/feast/infra/offline_stores/file.py:334: FutureWarning: Passing a set as an indexer is deprecated and will raise in a future version. Use a list instead.\n",
      "  return last_values_df[columns_to_extract]\n"
     ]
    },
    {
     "name": "stdout",
     "output_type": "stream",
     "text": [
      "Materializing \u001b[1m\u001b[32m1\u001b[0m feature views from \u001b[1m\u001b[32m2020-02-12 15:00:00-03:00\u001b[0m to \u001b[1m\u001b[32m2020-02-12 16:00:00-03:00\u001b[0m into the \u001b[1m\u001b[32msqlite\u001b[0m online store.\n",
      "\n",
      "\u001b[1m\u001b[32mdriver_hourly_stats\u001b[0m:\n"
     ]
    },
    {
     "name": "stderr",
     "output_type": "stream",
     "text": [
      "100%|█████████████████████████████████████████████████████████████████| 2/2 [00:00<00:00, 97.67it/s]\n"
     ]
    },
    {
     "name": "stdout",
     "output_type": "stream",
     "text": [
      "Materializing \u001b[1m\u001b[32m1\u001b[0m feature views from \u001b[1m\u001b[32m2020-02-12 16:00:00-03:00\u001b[0m to \u001b[1m\u001b[32m2020-02-12 17:00:00-03:00\u001b[0m into the \u001b[1m\u001b[32msqlite\u001b[0m online store.\n",
      "\n",
      "\u001b[1m\u001b[32mdriver_hourly_stats\u001b[0m:\n"
     ]
    },
    {
     "name": "stderr",
     "output_type": "stream",
     "text": [
      "/home/felipeadachi/miniconda3/envs/feast/lib/python3.8/site-packages/feast/infra/offline_stores/file.py:334: FutureWarning: Passing a set as an indexer is deprecated and will raise in a future version. Use a list instead.\n",
      "  return last_values_df[columns_to_extract]\n",
      "100%|████████████████████████████████████████████████████████████████| 2/2 [00:00<00:00, 114.97it/s]\n"
     ]
    },
    {
     "name": "stdout",
     "output_type": "stream",
     "text": [
      "Materializing \u001b[1m\u001b[32m1\u001b[0m feature views from \u001b[1m\u001b[32m2020-02-12 17:00:00-03:00\u001b[0m to \u001b[1m\u001b[32m2020-02-12 18:00:00-03:00\u001b[0m into the \u001b[1m\u001b[32msqlite\u001b[0m online store.\n",
      "\n",
      "\u001b[1m\u001b[32mdriver_hourly_stats\u001b[0m:\n"
     ]
    },
    {
     "name": "stderr",
     "output_type": "stream",
     "text": [
      "/home/felipeadachi/miniconda3/envs/feast/lib/python3.8/site-packages/feast/infra/offline_stores/file.py:334: FutureWarning: Passing a set as an indexer is deprecated and will raise in a future version. Use a list instead.\n",
      "  return last_values_df[columns_to_extract]\n",
      "100%|█████████████████████████████████████████████████████████████████| 2/2 [00:00<00:00, 98.00it/s]\n"
     ]
    },
    {
     "name": "stdout",
     "output_type": "stream",
     "text": [
      "Materializing \u001b[1m\u001b[32m1\u001b[0m feature views from \u001b[1m\u001b[32m2020-02-12 18:00:00-03:00\u001b[0m to \u001b[1m\u001b[32m2020-02-12 19:00:00-03:00\u001b[0m into the \u001b[1m\u001b[32msqlite\u001b[0m online store.\n",
      "\n",
      "\u001b[1m\u001b[32mdriver_hourly_stats\u001b[0m:\n"
     ]
    },
    {
     "name": "stderr",
     "output_type": "stream",
     "text": [
      "/home/felipeadachi/miniconda3/envs/feast/lib/python3.8/site-packages/feast/infra/offline_stores/file.py:334: FutureWarning: Passing a set as an indexer is deprecated and will raise in a future version. Use a list instead.\n",
      "  return last_values_df[columns_to_extract]\n",
      "100%|████████████████████████████████████████████████████████████████| 2/2 [00:00<00:00, 120.11it/s]\n",
      "/home/felipeadachi/miniconda3/envs/feast/lib/python3.8/site-packages/feast/infra/offline_stores/file.py:334: FutureWarning: Passing a set as an indexer is deprecated and will raise in a future version. Use a list instead.\n",
      "  return last_values_df[columns_to_extract]\n"
     ]
    },
    {
     "name": "stdout",
     "output_type": "stream",
     "text": [
      "Materializing \u001b[1m\u001b[32m1\u001b[0m feature views from \u001b[1m\u001b[32m2020-02-12 19:00:00-03:00\u001b[0m to \u001b[1m\u001b[32m2020-02-12 20:00:00-03:00\u001b[0m into the \u001b[1m\u001b[32msqlite\u001b[0m online store.\n",
      "\n",
      "\u001b[1m\u001b[32mdriver_hourly_stats\u001b[0m:\n"
     ]
    },
    {
     "name": "stderr",
     "output_type": "stream",
     "text": [
      "100%|█████████████████████████████████████████████████████████████████| 2/2 [00:00<00:00, 86.96it/s]"
     ]
    },
    {
     "name": "stdout",
     "output_type": "stream",
     "text": [
      "Materializing \u001b[1m\u001b[32m1\u001b[0m feature views from \u001b[1m\u001b[32m2020-02-12 20:00:00-03:00\u001b[0m to \u001b[1m\u001b[32m2020-02-12 21:00:00-03:00\u001b[0m into the \u001b[1m\u001b[32msqlite\u001b[0m online store.\n",
      "\n",
      "\u001b[1m\u001b[32mdriver_hourly_stats\u001b[0m:\n"
     ]
    },
    {
     "name": "stderr",
     "output_type": "stream",
     "text": [
      "\n",
      "/home/felipeadachi/miniconda3/envs/feast/lib/python3.8/site-packages/feast/infra/offline_stores/file.py:334: FutureWarning: Passing a set as an indexer is deprecated and will raise in a future version. Use a list instead.\n",
      "  return last_values_df[columns_to_extract]\n",
      "100%|█████████████████████████████████████████████████████████████████| 2/2 [00:00<00:00, 39.77it/s]\n",
      "/home/felipeadachi/miniconda3/envs/feast/lib/python3.8/site-packages/feast/infra/offline_stores/file.py:334: FutureWarning: Passing a set as an indexer is deprecated and will raise in a future version. Use a list instead.\n",
      "  return last_values_df[columns_to_extract]\n"
     ]
    },
    {
     "name": "stdout",
     "output_type": "stream",
     "text": [
      "Materializing \u001b[1m\u001b[32m1\u001b[0m feature views from \u001b[1m\u001b[32m2020-02-12 21:00:00-03:00\u001b[0m to \u001b[1m\u001b[32m2020-02-12 22:00:00-03:00\u001b[0m into the \u001b[1m\u001b[32msqlite\u001b[0m online store.\n",
      "\n",
      "\u001b[1m\u001b[32mdriver_hourly_stats\u001b[0m:\n"
     ]
    },
    {
     "name": "stderr",
     "output_type": "stream",
     "text": [
      "100%|█████████████████████████████████████████████████████████████████| 2/2 [00:00<00:00, 93.40it/s]\n"
     ]
    },
    {
     "name": "stdout",
     "output_type": "stream",
     "text": [
      "Materializing \u001b[1m\u001b[32m1\u001b[0m feature views from \u001b[1m\u001b[32m2020-02-12 22:00:00-03:00\u001b[0m to \u001b[1m\u001b[32m2020-02-12 23:00:00-03:00\u001b[0m into the \u001b[1m\u001b[32msqlite\u001b[0m online store.\n",
      "\n",
      "\u001b[1m\u001b[32mdriver_hourly_stats\u001b[0m:\n"
     ]
    },
    {
     "name": "stderr",
     "output_type": "stream",
     "text": [
      "/home/felipeadachi/miniconda3/envs/feast/lib/python3.8/site-packages/feast/infra/offline_stores/file.py:334: FutureWarning: Passing a set as an indexer is deprecated and will raise in a future version. Use a list instead.\n",
      "  return last_values_df[columns_to_extract]\n",
      "100%|█████████████████████████████████████████████████████████████████| 2/2 [00:00<00:00, 87.31it/s]\n"
     ]
    },
    {
     "name": "stdout",
     "output_type": "stream",
     "text": [
      "Closing logger for day 2020-02-12 00:00:00....\n",
      "Starting logger for day 2020-02-13 00:00:00....\n",
      "Materializing \u001b[1m\u001b[32m1\u001b[0m feature views from \u001b[1m\u001b[32m2020-02-13 01:00:00-03:00\u001b[0m to \u001b[1m\u001b[32m2020-02-13 02:00:00-03:00\u001b[0m into the \u001b[1m\u001b[32msqlite\u001b[0m online store.\n",
      "\n",
      "\u001b[1m\u001b[32mdriver_hourly_stats\u001b[0m:\n"
     ]
    },
    {
     "name": "stderr",
     "output_type": "stream",
     "text": [
      "/home/felipeadachi/miniconda3/envs/feast/lib/python3.8/site-packages/feast/infra/offline_stores/file.py:334: FutureWarning: Passing a set as an indexer is deprecated and will raise in a future version. Use a list instead.\n",
      "  return last_values_df[columns_to_extract]\n",
      "100%|█████████████████████████████████████████████████████████████████| 2/2 [00:00<00:00, 76.88it/s]\n"
     ]
    },
    {
     "name": "stdout",
     "output_type": "stream",
     "text": [
      "Materializing \u001b[1m\u001b[32m1\u001b[0m feature views from \u001b[1m\u001b[32m2020-02-13 03:00:00-03:00\u001b[0m to \u001b[1m\u001b[32m2020-02-13 04:00:00-03:00\u001b[0m into the \u001b[1m\u001b[32msqlite\u001b[0m online store.\n",
      "\n",
      "\u001b[1m\u001b[32mdriver_hourly_stats\u001b[0m:\n"
     ]
    },
    {
     "name": "stderr",
     "output_type": "stream",
     "text": [
      "/home/felipeadachi/miniconda3/envs/feast/lib/python3.8/site-packages/feast/infra/offline_stores/file.py:334: FutureWarning: Passing a set as an indexer is deprecated and will raise in a future version. Use a list instead.\n",
      "  return last_values_df[columns_to_extract]\n",
      "100%|█████████████████████████████████████████████████████████████████| 2/2 [00:00<00:00, 90.47it/s]\n",
      "/home/felipeadachi/miniconda3/envs/feast/lib/python3.8/site-packages/feast/infra/offline_stores/file.py:334: FutureWarning: Passing a set as an indexer is deprecated and will raise in a future version. Use a list instead.\n",
      "  return last_values_df[columns_to_extract]\n"
     ]
    },
    {
     "name": "stdout",
     "output_type": "stream",
     "text": [
      "Materializing \u001b[1m\u001b[32m1\u001b[0m feature views from \u001b[1m\u001b[32m2020-02-13 04:00:00-03:00\u001b[0m to \u001b[1m\u001b[32m2020-02-13 05:00:00-03:00\u001b[0m into the \u001b[1m\u001b[32msqlite\u001b[0m online store.\n",
      "\n",
      "\u001b[1m\u001b[32mdriver_hourly_stats\u001b[0m:\n"
     ]
    },
    {
     "name": "stderr",
     "output_type": "stream",
     "text": [
      "100%|█████████████████████████████████████████████████████████████████| 2/2 [00:00<00:00, 93.05it/s]\n",
      "/home/felipeadachi/miniconda3/envs/feast/lib/python3.8/site-packages/feast/infra/offline_stores/file.py:334: FutureWarning: Passing a set as an indexer is deprecated and will raise in a future version. Use a list instead.\n",
      "  return last_values_df[columns_to_extract]\n"
     ]
    },
    {
     "name": "stdout",
     "output_type": "stream",
     "text": [
      "Materializing \u001b[1m\u001b[32m1\u001b[0m feature views from \u001b[1m\u001b[32m2020-02-13 05:00:00-03:00\u001b[0m to \u001b[1m\u001b[32m2020-02-13 06:00:00-03:00\u001b[0m into the \u001b[1m\u001b[32msqlite\u001b[0m online store.\n",
      "\n",
      "\u001b[1m\u001b[32mdriver_hourly_stats\u001b[0m:\n"
     ]
    },
    {
     "name": "stderr",
     "output_type": "stream",
     "text": [
      "100%|█████████████████████████████████████████████████████████████████| 2/2 [00:00<00:00, 96.92it/s]\n",
      "/home/felipeadachi/miniconda3/envs/feast/lib/python3.8/site-packages/feast/infra/offline_stores/file.py:334: FutureWarning: Passing a set as an indexer is deprecated and will raise in a future version. Use a list instead.\n",
      "  return last_values_df[columns_to_extract]\n"
     ]
    },
    {
     "name": "stdout",
     "output_type": "stream",
     "text": [
      "Materializing \u001b[1m\u001b[32m1\u001b[0m feature views from \u001b[1m\u001b[32m2020-02-13 06:00:00-03:00\u001b[0m to \u001b[1m\u001b[32m2020-02-13 07:00:00-03:00\u001b[0m into the \u001b[1m\u001b[32msqlite\u001b[0m online store.\n",
      "\n",
      "\u001b[1m\u001b[32mdriver_hourly_stats\u001b[0m:\n"
     ]
    },
    {
     "name": "stderr",
     "output_type": "stream",
     "text": [
      "100%|█████████████████████████████████████████████████████████████████| 2/2 [00:00<00:00, 94.05it/s]\n"
     ]
    },
    {
     "name": "stdout",
     "output_type": "stream",
     "text": [
      "Materializing \u001b[1m\u001b[32m1\u001b[0m feature views from \u001b[1m\u001b[32m2020-02-13 07:00:00-03:00\u001b[0m to \u001b[1m\u001b[32m2020-02-13 08:00:00-03:00\u001b[0m into the \u001b[1m\u001b[32msqlite\u001b[0m online store.\n",
      "\n",
      "\u001b[1m\u001b[32mdriver_hourly_stats\u001b[0m:\n"
     ]
    },
    {
     "name": "stderr",
     "output_type": "stream",
     "text": [
      "/home/felipeadachi/miniconda3/envs/feast/lib/python3.8/site-packages/feast/infra/offline_stores/file.py:334: FutureWarning: Passing a set as an indexer is deprecated and will raise in a future version. Use a list instead.\n",
      "  return last_values_df[columns_to_extract]\n",
      "100%|█████████████████████████████████████████████████████████████████| 2/2 [00:00<00:00, 98.77it/s]\n",
      "/home/felipeadachi/miniconda3/envs/feast/lib/python3.8/site-packages/feast/infra/offline_stores/file.py:334: FutureWarning: Passing a set as an indexer is deprecated and will raise in a future version. Use a list instead.\n",
      "  return last_values_df[columns_to_extract]\n"
     ]
    },
    {
     "name": "stdout",
     "output_type": "stream",
     "text": [
      "Materializing \u001b[1m\u001b[32m1\u001b[0m feature views from \u001b[1m\u001b[32m2020-02-13 08:00:00-03:00\u001b[0m to \u001b[1m\u001b[32m2020-02-13 09:00:00-03:00\u001b[0m into the \u001b[1m\u001b[32msqlite\u001b[0m online store.\n",
      "\n",
      "\u001b[1m\u001b[32mdriver_hourly_stats\u001b[0m:\n"
     ]
    },
    {
     "name": "stderr",
     "output_type": "stream",
     "text": [
      "100%|█████████████████████████████████████████████████████████████████| 2/2 [00:00<00:00, 79.12it/s]"
     ]
    },
    {
     "name": "stdout",
     "output_type": "stream",
     "text": [
      "Materializing \u001b[1m\u001b[32m1\u001b[0m feature views from \u001b[1m\u001b[32m2020-02-13 09:00:00-03:00\u001b[0m to \u001b[1m\u001b[32m2020-02-13 10:00:00-03:00\u001b[0m into the \u001b[1m\u001b[32msqlite\u001b[0m online store.\n",
      "\n",
      "\u001b[1m\u001b[32mdriver_hourly_stats\u001b[0m:\n"
     ]
    },
    {
     "name": "stderr",
     "output_type": "stream",
     "text": [
      "\n",
      "/home/felipeadachi/miniconda3/envs/feast/lib/python3.8/site-packages/feast/infra/offline_stores/file.py:334: FutureWarning: Passing a set as an indexer is deprecated and will raise in a future version. Use a list instead.\n",
      "  return last_values_df[columns_to_extract]\n",
      "100%|█████████████████████████████████████████████████████████████████| 2/2 [00:00<00:00, 96.44it/s]\n",
      "/home/felipeadachi/miniconda3/envs/feast/lib/python3.8/site-packages/feast/infra/offline_stores/file.py:334: FutureWarning: Passing a set as an indexer is deprecated and will raise in a future version. Use a list instead.\n",
      "  return last_values_df[columns_to_extract]\n"
     ]
    },
    {
     "name": "stdout",
     "output_type": "stream",
     "text": [
      "Materializing \u001b[1m\u001b[32m1\u001b[0m feature views from \u001b[1m\u001b[32m2020-02-13 10:00:00-03:00\u001b[0m to \u001b[1m\u001b[32m2020-02-13 11:00:00-03:00\u001b[0m into the \u001b[1m\u001b[32msqlite\u001b[0m online store.\n",
      "\n",
      "\u001b[1m\u001b[32mdriver_hourly_stats\u001b[0m:\n"
     ]
    },
    {
     "name": "stderr",
     "output_type": "stream",
     "text": [
      "100%|█████████████████████████████████████████████████████████████████| 2/2 [00:00<00:00, 50.77it/s]\n"
     ]
    },
    {
     "name": "stdout",
     "output_type": "stream",
     "text": [
      "Materializing \u001b[1m\u001b[32m1\u001b[0m feature views from \u001b[1m\u001b[32m2020-02-13 11:00:00-03:00\u001b[0m to \u001b[1m\u001b[32m2020-02-13 12:00:00-03:00\u001b[0m into the \u001b[1m\u001b[32msqlite\u001b[0m online store.\n",
      "\n",
      "\u001b[1m\u001b[32mdriver_hourly_stats\u001b[0m:\n"
     ]
    },
    {
     "name": "stderr",
     "output_type": "stream",
     "text": [
      "/home/felipeadachi/miniconda3/envs/feast/lib/python3.8/site-packages/feast/infra/offline_stores/file.py:334: FutureWarning: Passing a set as an indexer is deprecated and will raise in a future version. Use a list instead.\n",
      "  return last_values_df[columns_to_extract]\n",
      "100%|█████████████████████████████████████████████████████████████████| 2/2 [00:00<00:00, 91.89it/s]\n"
     ]
    },
    {
     "name": "stdout",
     "output_type": "stream",
     "text": [
      "Materializing \u001b[1m\u001b[32m1\u001b[0m feature views from \u001b[1m\u001b[32m2020-02-13 12:00:00-03:00\u001b[0m to \u001b[1m\u001b[32m2020-02-13 13:00:00-03:00\u001b[0m into the \u001b[1m\u001b[32msqlite\u001b[0m online store.\n",
      "\n",
      "\u001b[1m\u001b[32mdriver_hourly_stats\u001b[0m:\n"
     ]
    },
    {
     "name": "stderr",
     "output_type": "stream",
     "text": [
      "/home/felipeadachi/miniconda3/envs/feast/lib/python3.8/site-packages/feast/infra/offline_stores/file.py:334: FutureWarning: Passing a set as an indexer is deprecated and will raise in a future version. Use a list instead.\n",
      "  return last_values_df[columns_to_extract]\n",
      "100%|████████████████████████████████████████████████████████████████| 2/2 [00:00<00:00, 106.62it/s]\n"
     ]
    },
    {
     "name": "stdout",
     "output_type": "stream",
     "text": [
      "Materializing \u001b[1m\u001b[32m1\u001b[0m feature views from \u001b[1m\u001b[32m2020-02-13 13:00:00-03:00\u001b[0m to \u001b[1m\u001b[32m2020-02-13 14:00:00-03:00\u001b[0m into the \u001b[1m\u001b[32msqlite\u001b[0m online store.\n",
      "\n",
      "\u001b[1m\u001b[32mdriver_hourly_stats\u001b[0m:\n"
     ]
    },
    {
     "name": "stderr",
     "output_type": "stream",
     "text": [
      "/home/felipeadachi/miniconda3/envs/feast/lib/python3.8/site-packages/feast/infra/offline_stores/file.py:334: FutureWarning: Passing a set as an indexer is deprecated and will raise in a future version. Use a list instead.\n",
      "  return last_values_df[columns_to_extract]\n",
      "100%|█████████████████████████████████████████████████████████████████| 2/2 [00:00<00:00, 91.55it/s]\n"
     ]
    },
    {
     "name": "stdout",
     "output_type": "stream",
     "text": [
      "Materializing \u001b[1m\u001b[32m1\u001b[0m feature views from \u001b[1m\u001b[32m2020-02-13 14:00:00-03:00\u001b[0m to \u001b[1m\u001b[32m2020-02-13 15:00:00-03:00\u001b[0m into the \u001b[1m\u001b[32msqlite\u001b[0m online store.\n",
      "\n",
      "\u001b[1m\u001b[32mdriver_hourly_stats\u001b[0m:\n"
     ]
    },
    {
     "name": "stderr",
     "output_type": "stream",
     "text": [
      "/home/felipeadachi/miniconda3/envs/feast/lib/python3.8/site-packages/feast/infra/offline_stores/file.py:334: FutureWarning: Passing a set as an indexer is deprecated and will raise in a future version. Use a list instead.\n",
      "  return last_values_df[columns_to_extract]\n",
      "100%|█████████████████████████████████████████████████████████████████| 2/2 [00:00<00:00, 85.77it/s]\n",
      "/home/felipeadachi/miniconda3/envs/feast/lib/python3.8/site-packages/feast/infra/offline_stores/file.py:334: FutureWarning: Passing a set as an indexer is deprecated and will raise in a future version. Use a list instead.\n",
      "  return last_values_df[columns_to_extract]\n"
     ]
    },
    {
     "name": "stdout",
     "output_type": "stream",
     "text": [
      "Materializing \u001b[1m\u001b[32m1\u001b[0m feature views from \u001b[1m\u001b[32m2020-02-13 15:00:00-03:00\u001b[0m to \u001b[1m\u001b[32m2020-02-13 16:00:00-03:00\u001b[0m into the \u001b[1m\u001b[32msqlite\u001b[0m online store.\n",
      "\n",
      "\u001b[1m\u001b[32mdriver_hourly_stats\u001b[0m:\n"
     ]
    },
    {
     "name": "stderr",
     "output_type": "stream",
     "text": [
      "100%|█████████████████████████████████████████████████████████████████| 2/2 [00:00<00:00, 93.83it/s]\n",
      "/home/felipeadachi/miniconda3/envs/feast/lib/python3.8/site-packages/feast/infra/offline_stores/file.py:334: FutureWarning: Passing a set as an indexer is deprecated and will raise in a future version. Use a list instead.\n",
      "  return last_values_df[columns_to_extract]\n"
     ]
    },
    {
     "name": "stdout",
     "output_type": "stream",
     "text": [
      "Materializing \u001b[1m\u001b[32m1\u001b[0m feature views from \u001b[1m\u001b[32m2020-02-13 16:00:00-03:00\u001b[0m to \u001b[1m\u001b[32m2020-02-13 17:00:00-03:00\u001b[0m into the \u001b[1m\u001b[32msqlite\u001b[0m online store.\n",
      "\n",
      "\u001b[1m\u001b[32mdriver_hourly_stats\u001b[0m:\n"
     ]
    },
    {
     "name": "stderr",
     "output_type": "stream",
     "text": [
      "100%|████████████████████████████████████████████████████████████████| 2/2 [00:00<00:00, 109.00it/s]\n",
      "/home/felipeadachi/miniconda3/envs/feast/lib/python3.8/site-packages/feast/infra/offline_stores/file.py:334: FutureWarning: Passing a set as an indexer is deprecated and will raise in a future version. Use a list instead.\n",
      "  return last_values_df[columns_to_extract]\n"
     ]
    },
    {
     "name": "stdout",
     "output_type": "stream",
     "text": [
      "Materializing \u001b[1m\u001b[32m1\u001b[0m feature views from \u001b[1m\u001b[32m2020-02-13 17:00:00-03:00\u001b[0m to \u001b[1m\u001b[32m2020-02-13 18:00:00-03:00\u001b[0m into the \u001b[1m\u001b[32msqlite\u001b[0m online store.\n",
      "\n",
      "\u001b[1m\u001b[32mdriver_hourly_stats\u001b[0m:\n"
     ]
    },
    {
     "name": "stderr",
     "output_type": "stream",
     "text": [
      "100%|█████████████████████████████████████████████████████████████████| 2/2 [00:00<00:00, 95.62it/s]\n"
     ]
    },
    {
     "name": "stdout",
     "output_type": "stream",
     "text": [
      "Materializing \u001b[1m\u001b[32m1\u001b[0m feature views from \u001b[1m\u001b[32m2020-02-13 18:00:00-03:00\u001b[0m to \u001b[1m\u001b[32m2020-02-13 19:00:00-03:00\u001b[0m into the \u001b[1m\u001b[32msqlite\u001b[0m online store.\n",
      "\n",
      "\u001b[1m\u001b[32mdriver_hourly_stats\u001b[0m:\n"
     ]
    },
    {
     "name": "stderr",
     "output_type": "stream",
     "text": [
      "/home/felipeadachi/miniconda3/envs/feast/lib/python3.8/site-packages/feast/infra/offline_stores/file.py:334: FutureWarning: Passing a set as an indexer is deprecated and will raise in a future version. Use a list instead.\n",
      "  return last_values_df[columns_to_extract]\n",
      "100%|████████████████████████████████████████████████████████████████| 2/2 [00:00<00:00, 107.76it/s]\n",
      "/home/felipeadachi/miniconda3/envs/feast/lib/python3.8/site-packages/feast/infra/offline_stores/file.py:334: FutureWarning: Passing a set as an indexer is deprecated and will raise in a future version. Use a list instead.\n",
      "  return last_values_df[columns_to_extract]\n"
     ]
    },
    {
     "name": "stdout",
     "output_type": "stream",
     "text": [
      "Materializing \u001b[1m\u001b[32m1\u001b[0m feature views from \u001b[1m\u001b[32m2020-02-13 19:00:00-03:00\u001b[0m to \u001b[1m\u001b[32m2020-02-13 20:00:00-03:00\u001b[0m into the \u001b[1m\u001b[32msqlite\u001b[0m online store.\n",
      "\n",
      "\u001b[1m\u001b[32mdriver_hourly_stats\u001b[0m:\n"
     ]
    },
    {
     "name": "stderr",
     "output_type": "stream",
     "text": [
      "100%|█████████████████████████████████████████████████████████████████| 2/2 [00:00<00:00, 22.01it/s]\n",
      "/home/felipeadachi/miniconda3/envs/feast/lib/python3.8/site-packages/feast/infra/offline_stores/file.py:334: FutureWarning: Passing a set as an indexer is deprecated and will raise in a future version. Use a list instead.\n",
      "  return last_values_df[columns_to_extract]\n"
     ]
    },
    {
     "name": "stdout",
     "output_type": "stream",
     "text": [
      "Materializing \u001b[1m\u001b[32m1\u001b[0m feature views from \u001b[1m\u001b[32m2020-02-13 20:00:00-03:00\u001b[0m to \u001b[1m\u001b[32m2020-02-13 21:00:00-03:00\u001b[0m into the \u001b[1m\u001b[32msqlite\u001b[0m online store.\n",
      "\n",
      "\u001b[1m\u001b[32mdriver_hourly_stats\u001b[0m:\n"
     ]
    },
    {
     "name": "stderr",
     "output_type": "stream",
     "text": [
      "100%|█████████████████████████████████████████████████████████████████| 2/2 [00:00<00:00, 97.12it/s]\n"
     ]
    },
    {
     "name": "stdout",
     "output_type": "stream",
     "text": [
      "Materializing \u001b[1m\u001b[32m1\u001b[0m feature views from \u001b[1m\u001b[32m2020-02-13 21:00:00-03:00\u001b[0m to \u001b[1m\u001b[32m2020-02-13 22:00:00-03:00\u001b[0m into the \u001b[1m\u001b[32msqlite\u001b[0m online store.\n",
      "\n",
      "\u001b[1m\u001b[32mdriver_hourly_stats\u001b[0m:\n"
     ]
    },
    {
     "name": "stderr",
     "output_type": "stream",
     "text": [
      "/home/felipeadachi/miniconda3/envs/feast/lib/python3.8/site-packages/feast/infra/offline_stores/file.py:334: FutureWarning: Passing a set as an indexer is deprecated and will raise in a future version. Use a list instead.\n",
      "  return last_values_df[columns_to_extract]\n",
      "100%|█████████████████████████████████████████████████████████████████| 2/2 [00:00<00:00, 94.15it/s]\n"
     ]
    },
    {
     "name": "stdout",
     "output_type": "stream",
     "text": [
      "Materializing \u001b[1m\u001b[32m1\u001b[0m feature views from \u001b[1m\u001b[32m2020-02-13 22:00:00-03:00\u001b[0m to \u001b[1m\u001b[32m2020-02-13 23:00:00-03:00\u001b[0m into the \u001b[1m\u001b[32msqlite\u001b[0m online store.\n",
      "\n",
      "\u001b[1m\u001b[32mdriver_hourly_stats\u001b[0m:\n"
     ]
    },
    {
     "name": "stderr",
     "output_type": "stream",
     "text": [
      "/home/felipeadachi/miniconda3/envs/feast/lib/python3.8/site-packages/feast/infra/offline_stores/file.py:334: FutureWarning: Passing a set as an indexer is deprecated and will raise in a future version. Use a list instead.\n",
      "  return last_values_df[columns_to_extract]\n",
      "100%|█████████████████████████████████████████████████████████████████| 2/2 [00:00<00:00, 95.10it/s]\n"
     ]
    },
    {
     "name": "stdout",
     "output_type": "stream",
     "text": [
      "Closing logger for day 2020-02-13 00:00:00....\n",
      "Starting logger for day 2020-02-14 00:00:00....\n",
      "Materializing \u001b[1m\u001b[32m1\u001b[0m feature views from \u001b[1m\u001b[32m2020-02-13 23:00:00-03:00\u001b[0m to \u001b[1m\u001b[32m2020-02-14 00:00:00-03:00\u001b[0m into the \u001b[1m\u001b[32msqlite\u001b[0m online store.\n",
      "\n",
      "\u001b[1m\u001b[32mdriver_hourly_stats\u001b[0m:\n"
     ]
    },
    {
     "name": "stderr",
     "output_type": "stream",
     "text": [
      "/home/felipeadachi/miniconda3/envs/feast/lib/python3.8/site-packages/feast/infra/offline_stores/file.py:334: FutureWarning: Passing a set as an indexer is deprecated and will raise in a future version. Use a list instead.\n",
      "  return last_values_df[columns_to_extract]\n",
      "100%|█████████████████████████████████████████████████████████████████| 2/2 [00:00<00:00, 75.65it/s]\n",
      "/home/felipeadachi/miniconda3/envs/feast/lib/python3.8/site-packages/feast/infra/offline_stores/file.py:334: FutureWarning: Passing a set as an indexer is deprecated and will raise in a future version. Use a list instead.\n",
      "  return last_values_df[columns_to_extract]\n"
     ]
    },
    {
     "name": "stdout",
     "output_type": "stream",
     "text": [
      "Materializing \u001b[1m\u001b[32m1\u001b[0m feature views from \u001b[1m\u001b[32m2020-02-14 00:00:00-03:00\u001b[0m to \u001b[1m\u001b[32m2020-02-14 01:00:00-03:00\u001b[0m into the \u001b[1m\u001b[32msqlite\u001b[0m online store.\n",
      "\n",
      "\u001b[1m\u001b[32mdriver_hourly_stats\u001b[0m:\n"
     ]
    },
    {
     "name": "stderr",
     "output_type": "stream",
     "text": [
      "100%|█████████████████████████████████████████████████████████████████| 2/2 [00:00<00:00, 97.64it/s]\n",
      "/home/felipeadachi/miniconda3/envs/feast/lib/python3.8/site-packages/feast/infra/offline_stores/file.py:334: FutureWarning: Passing a set as an indexer is deprecated and will raise in a future version. Use a list instead.\n",
      "  return last_values_df[columns_to_extract]\n"
     ]
    },
    {
     "name": "stdout",
     "output_type": "stream",
     "text": [
      "Materializing \u001b[1m\u001b[32m1\u001b[0m feature views from \u001b[1m\u001b[32m2020-02-14 01:00:00-03:00\u001b[0m to \u001b[1m\u001b[32m2020-02-14 02:00:00-03:00\u001b[0m into the \u001b[1m\u001b[32msqlite\u001b[0m online store.\n",
      "\n",
      "\u001b[1m\u001b[32mdriver_hourly_stats\u001b[0m:\n"
     ]
    },
    {
     "name": "stderr",
     "output_type": "stream",
     "text": [
      "100%|█████████████████████████████████████████████████████████████████| 2/2 [00:00<00:00, 99.38it/s]\n",
      "/home/felipeadachi/miniconda3/envs/feast/lib/python3.8/site-packages/feast/infra/offline_stores/file.py:334: FutureWarning: Passing a set as an indexer is deprecated and will raise in a future version. Use a list instead.\n",
      "  return last_values_df[columns_to_extract]\n"
     ]
    },
    {
     "name": "stdout",
     "output_type": "stream",
     "text": [
      "Materializing \u001b[1m\u001b[32m1\u001b[0m feature views from \u001b[1m\u001b[32m2020-02-14 05:00:00-03:00\u001b[0m to \u001b[1m\u001b[32m2020-02-14 06:00:00-03:00\u001b[0m into the \u001b[1m\u001b[32msqlite\u001b[0m online store.\n",
      "\n",
      "\u001b[1m\u001b[32mdriver_hourly_stats\u001b[0m:\n"
     ]
    },
    {
     "name": "stderr",
     "output_type": "stream",
     "text": [
      "100%|████████████████████████████████████████████████████████████████| 2/2 [00:00<00:00, 108.24it/s]\n",
      "/home/felipeadachi/miniconda3/envs/feast/lib/python3.8/site-packages/feast/infra/offline_stores/file.py:334: FutureWarning: Passing a set as an indexer is deprecated and will raise in a future version. Use a list instead.\n",
      "  return last_values_df[columns_to_extract]\n"
     ]
    },
    {
     "name": "stdout",
     "output_type": "stream",
     "text": [
      "Materializing \u001b[1m\u001b[32m1\u001b[0m feature views from \u001b[1m\u001b[32m2020-02-14 06:00:00-03:00\u001b[0m to \u001b[1m\u001b[32m2020-02-14 07:00:00-03:00\u001b[0m into the \u001b[1m\u001b[32msqlite\u001b[0m online store.\n",
      "\n",
      "\u001b[1m\u001b[32mdriver_hourly_stats\u001b[0m:\n"
     ]
    },
    {
     "name": "stderr",
     "output_type": "stream",
     "text": [
      "100%|█████████████████████████████████████████████████████████████████| 2/2 [00:00<00:00, 95.20it/s]\n"
     ]
    },
    {
     "name": "stdout",
     "output_type": "stream",
     "text": [
      "Materializing \u001b[1m\u001b[32m1\u001b[0m feature views from \u001b[1m\u001b[32m2020-02-14 07:00:00-03:00\u001b[0m to \u001b[1m\u001b[32m2020-02-14 08:00:00-03:00\u001b[0m into the \u001b[1m\u001b[32msqlite\u001b[0m online store.\n",
      "\n",
      "\u001b[1m\u001b[32mdriver_hourly_stats\u001b[0m:\n"
     ]
    },
    {
     "name": "stderr",
     "output_type": "stream",
     "text": [
      "/home/felipeadachi/miniconda3/envs/feast/lib/python3.8/site-packages/feast/infra/offline_stores/file.py:334: FutureWarning: Passing a set as an indexer is deprecated and will raise in a future version. Use a list instead.\n",
      "  return last_values_df[columns_to_extract]\n",
      "100%|█████████████████████████████████████████████████████████████████| 2/2 [00:00<00:00, 90.61it/s]\n"
     ]
    },
    {
     "name": "stdout",
     "output_type": "stream",
     "text": [
      "Materializing \u001b[1m\u001b[32m1\u001b[0m feature views from \u001b[1m\u001b[32m2020-02-14 08:00:00-03:00\u001b[0m to \u001b[1m\u001b[32m2020-02-14 09:00:00-03:00\u001b[0m into the \u001b[1m\u001b[32msqlite\u001b[0m online store.\n",
      "\n",
      "\u001b[1m\u001b[32mdriver_hourly_stats\u001b[0m:\n"
     ]
    },
    {
     "name": "stderr",
     "output_type": "stream",
     "text": [
      "/home/felipeadachi/miniconda3/envs/feast/lib/python3.8/site-packages/feast/infra/offline_stores/file.py:334: FutureWarning: Passing a set as an indexer is deprecated and will raise in a future version. Use a list instead.\n",
      "  return last_values_df[columns_to_extract]\n",
      "100%|████████████████████████████████████████████████████████████████| 2/2 [00:00<00:00, 102.67it/s]\n",
      "/home/felipeadachi/miniconda3/envs/feast/lib/python3.8/site-packages/feast/infra/offline_stores/file.py:334: FutureWarning: Passing a set as an indexer is deprecated and will raise in a future version. Use a list instead.\n",
      "  return last_values_df[columns_to_extract]\n"
     ]
    },
    {
     "name": "stdout",
     "output_type": "stream",
     "text": [
      "Materializing \u001b[1m\u001b[32m1\u001b[0m feature views from \u001b[1m\u001b[32m2020-02-14 09:00:00-03:00\u001b[0m to \u001b[1m\u001b[32m2020-02-14 10:00:00-03:00\u001b[0m into the \u001b[1m\u001b[32msqlite\u001b[0m online store.\n",
      "\n",
      "\u001b[1m\u001b[32mdriver_hourly_stats\u001b[0m:\n"
     ]
    },
    {
     "name": "stderr",
     "output_type": "stream",
     "text": [
      "100%|█████████████████████████████████████████████████████████████████| 2/2 [00:00<00:00, 70.80it/s]\n",
      "/home/felipeadachi/miniconda3/envs/feast/lib/python3.8/site-packages/feast/infra/offline_stores/file.py:334: FutureWarning: Passing a set as an indexer is deprecated and will raise in a future version. Use a list instead.\n",
      "  return last_values_df[columns_to_extract]\n"
     ]
    },
    {
     "name": "stdout",
     "output_type": "stream",
     "text": [
      "Materializing \u001b[1m\u001b[32m1\u001b[0m feature views from \u001b[1m\u001b[32m2020-02-14 10:00:00-03:00\u001b[0m to \u001b[1m\u001b[32m2020-02-14 11:00:00-03:00\u001b[0m into the \u001b[1m\u001b[32msqlite\u001b[0m online store.\n",
      "\n",
      "\u001b[1m\u001b[32mdriver_hourly_stats\u001b[0m:\n"
     ]
    },
    {
     "name": "stderr",
     "output_type": "stream",
     "text": [
      "100%|████████████████████████████████████████████████████████████████| 2/2 [00:00<00:00, 111.85it/s]\n",
      "/home/felipeadachi/miniconda3/envs/feast/lib/python3.8/site-packages/feast/infra/offline_stores/file.py:334: FutureWarning: Passing a set as an indexer is deprecated and will raise in a future version. Use a list instead.\n",
      "  return last_values_df[columns_to_extract]\n"
     ]
    },
    {
     "name": "stdout",
     "output_type": "stream",
     "text": [
      "Materializing \u001b[1m\u001b[32m1\u001b[0m feature views from \u001b[1m\u001b[32m2020-02-14 11:00:00-03:00\u001b[0m to \u001b[1m\u001b[32m2020-02-14 12:00:00-03:00\u001b[0m into the \u001b[1m\u001b[32msqlite\u001b[0m online store.\n",
      "\n",
      "\u001b[1m\u001b[32mdriver_hourly_stats\u001b[0m:\n"
     ]
    },
    {
     "name": "stderr",
     "output_type": "stream",
     "text": [
      "100%|████████████████████████████████████████████████████████████████| 2/2 [00:00<00:00, 104.10it/s]\n",
      "/home/felipeadachi/miniconda3/envs/feast/lib/python3.8/site-packages/feast/infra/offline_stores/file.py:334: FutureWarning: Passing a set as an indexer is deprecated and will raise in a future version. Use a list instead.\n",
      "  return last_values_df[columns_to_extract]\n"
     ]
    },
    {
     "name": "stdout",
     "output_type": "stream",
     "text": [
      "Materializing \u001b[1m\u001b[32m1\u001b[0m feature views from \u001b[1m\u001b[32m2020-02-14 12:00:00-03:00\u001b[0m to \u001b[1m\u001b[32m2020-02-14 13:00:00-03:00\u001b[0m into the \u001b[1m\u001b[32msqlite\u001b[0m online store.\n",
      "\n",
      "\u001b[1m\u001b[32mdriver_hourly_stats\u001b[0m:\n"
     ]
    },
    {
     "name": "stderr",
     "output_type": "stream",
     "text": [
      "100%|████████████████████████████████████████████████████████████████| 2/2 [00:00<00:00, 100.12it/s]\n",
      "/home/felipeadachi/miniconda3/envs/feast/lib/python3.8/site-packages/feast/infra/offline_stores/file.py:334: FutureWarning: Passing a set as an indexer is deprecated and will raise in a future version. Use a list instead.\n",
      "  return last_values_df[columns_to_extract]\n"
     ]
    },
    {
     "name": "stdout",
     "output_type": "stream",
     "text": [
      "Materializing \u001b[1m\u001b[32m1\u001b[0m feature views from \u001b[1m\u001b[32m2020-02-14 13:00:00-03:00\u001b[0m to \u001b[1m\u001b[32m2020-02-14 14:00:00-03:00\u001b[0m into the \u001b[1m\u001b[32msqlite\u001b[0m online store.\n",
      "\n",
      "\u001b[1m\u001b[32mdriver_hourly_stats\u001b[0m:\n"
     ]
    },
    {
     "name": "stderr",
     "output_type": "stream",
     "text": [
      "100%|█████████████████████████████████████████████████████████████████| 2/2 [00:00<00:00, 64.14it/s]\n",
      "/home/felipeadachi/miniconda3/envs/feast/lib/python3.8/site-packages/feast/infra/offline_stores/file.py:334: FutureWarning: Passing a set as an indexer is deprecated and will raise in a future version. Use a list instead.\n",
      "  return last_values_df[columns_to_extract]\n"
     ]
    },
    {
     "name": "stdout",
     "output_type": "stream",
     "text": [
      "Materializing \u001b[1m\u001b[32m1\u001b[0m feature views from \u001b[1m\u001b[32m2020-02-14 14:00:00-03:00\u001b[0m to \u001b[1m\u001b[32m2020-02-14 15:00:00-03:00\u001b[0m into the \u001b[1m\u001b[32msqlite\u001b[0m online store.\n",
      "\n",
      "\u001b[1m\u001b[32mdriver_hourly_stats\u001b[0m:\n"
     ]
    },
    {
     "name": "stderr",
     "output_type": "stream",
     "text": [
      "100%|████████████████████████████████████████████████████████████████| 2/2 [00:00<00:00, 109.78it/s]\n",
      "/home/felipeadachi/miniconda3/envs/feast/lib/python3.8/site-packages/feast/infra/offline_stores/file.py:334: FutureWarning: Passing a set as an indexer is deprecated and will raise in a future version. Use a list instead.\n",
      "  return last_values_df[columns_to_extract]\n"
     ]
    },
    {
     "name": "stdout",
     "output_type": "stream",
     "text": [
      "Materializing \u001b[1m\u001b[32m1\u001b[0m feature views from \u001b[1m\u001b[32m2020-02-14 15:00:00-03:00\u001b[0m to \u001b[1m\u001b[32m2020-02-14 16:00:00-03:00\u001b[0m into the \u001b[1m\u001b[32msqlite\u001b[0m online store.\n",
      "\n",
      "\u001b[1m\u001b[32mdriver_hourly_stats\u001b[0m:\n"
     ]
    },
    {
     "name": "stderr",
     "output_type": "stream",
     "text": [
      "100%|████████████████████████████████████████████████████████████████| 2/2 [00:00<00:00, 106.94it/s]\n"
     ]
    },
    {
     "name": "stdout",
     "output_type": "stream",
     "text": [
      "Materializing \u001b[1m\u001b[32m1\u001b[0m feature views from \u001b[1m\u001b[32m2020-02-14 16:00:00-03:00\u001b[0m to \u001b[1m\u001b[32m2020-02-14 17:00:00-03:00\u001b[0m into the \u001b[1m\u001b[32msqlite\u001b[0m online store.\n",
      "\n",
      "\u001b[1m\u001b[32mdriver_hourly_stats\u001b[0m:\n"
     ]
    },
    {
     "name": "stderr",
     "output_type": "stream",
     "text": [
      "/home/felipeadachi/miniconda3/envs/feast/lib/python3.8/site-packages/feast/infra/offline_stores/file.py:334: FutureWarning: Passing a set as an indexer is deprecated and will raise in a future version. Use a list instead.\n",
      "  return last_values_df[columns_to_extract]\n",
      "100%|█████████████████████████████████████████████████████████████████| 2/2 [00:00<00:00, 99.60it/s]\n"
     ]
    },
    {
     "name": "stdout",
     "output_type": "stream",
     "text": [
      "Materializing \u001b[1m\u001b[32m1\u001b[0m feature views from \u001b[1m\u001b[32m2020-02-14 17:00:00-03:00\u001b[0m to \u001b[1m\u001b[32m2020-02-14 18:00:00-03:00\u001b[0m into the \u001b[1m\u001b[32msqlite\u001b[0m online store.\n",
      "\n",
      "\u001b[1m\u001b[32mdriver_hourly_stats\u001b[0m:\n"
     ]
    },
    {
     "name": "stderr",
     "output_type": "stream",
     "text": [
      "/home/felipeadachi/miniconda3/envs/feast/lib/python3.8/site-packages/feast/infra/offline_stores/file.py:334: FutureWarning: Passing a set as an indexer is deprecated and will raise in a future version. Use a list instead.\n",
      "  return last_values_df[columns_to_extract]\n",
      "100%|█████████████████████████████████████████████████████████████████| 2/2 [00:00<00:00, 89.45it/s]\n",
      "/home/felipeadachi/miniconda3/envs/feast/lib/python3.8/site-packages/feast/infra/offline_stores/file.py:334: FutureWarning: Passing a set as an indexer is deprecated and will raise in a future version. Use a list instead.\n",
      "  return last_values_df[columns_to_extract]\n"
     ]
    },
    {
     "name": "stdout",
     "output_type": "stream",
     "text": [
      "Materializing \u001b[1m\u001b[32m1\u001b[0m feature views from \u001b[1m\u001b[32m2020-02-14 18:00:00-03:00\u001b[0m to \u001b[1m\u001b[32m2020-02-14 19:00:00-03:00\u001b[0m into the \u001b[1m\u001b[32msqlite\u001b[0m online store.\n",
      "\n",
      "\u001b[1m\u001b[32mdriver_hourly_stats\u001b[0m:\n"
     ]
    },
    {
     "name": "stderr",
     "output_type": "stream",
     "text": [
      "100%|█████████████████████████████████████████████████████████████████| 2/2 [00:00<00:00, 96.07it/s]\n",
      "/home/felipeadachi/miniconda3/envs/feast/lib/python3.8/site-packages/feast/infra/offline_stores/file.py:334: FutureWarning: Passing a set as an indexer is deprecated and will raise in a future version. Use a list instead.\n",
      "  return last_values_df[columns_to_extract]\n"
     ]
    },
    {
     "name": "stdout",
     "output_type": "stream",
     "text": [
      "Materializing \u001b[1m\u001b[32m1\u001b[0m feature views from \u001b[1m\u001b[32m2020-02-14 19:00:00-03:00\u001b[0m to \u001b[1m\u001b[32m2020-02-14 20:00:00-03:00\u001b[0m into the \u001b[1m\u001b[32msqlite\u001b[0m online store.\n",
      "\n",
      "\u001b[1m\u001b[32mdriver_hourly_stats\u001b[0m:\n"
     ]
    },
    {
     "name": "stderr",
     "output_type": "stream",
     "text": [
      "100%|█████████████████████████████████████████████████████████████████| 2/2 [00:00<00:00, 64.41it/s]"
     ]
    },
    {
     "name": "stdout",
     "output_type": "stream",
     "text": [
      "Materializing \u001b[1m\u001b[32m1\u001b[0m feature views from \u001b[1m\u001b[32m2020-02-14 20:00:00-03:00\u001b[0m to \u001b[1m\u001b[32m2020-02-14 21:00:00-03:00\u001b[0m into the \u001b[1m\u001b[32msqlite\u001b[0m online store.\n",
      "\n",
      "\u001b[1m\u001b[32mdriver_hourly_stats\u001b[0m:\n"
     ]
    },
    {
     "name": "stderr",
     "output_type": "stream",
     "text": [
      "\n",
      "/home/felipeadachi/miniconda3/envs/feast/lib/python3.8/site-packages/feast/infra/offline_stores/file.py:334: FutureWarning: Passing a set as an indexer is deprecated and will raise in a future version. Use a list instead.\n",
      "  return last_values_df[columns_to_extract]\n",
      "100%|█████████████████████████████████████████████████████████████████| 2/2 [00:00<00:00, 94.52it/s]\n"
     ]
    },
    {
     "name": "stdout",
     "output_type": "stream",
     "text": [
      "Materializing \u001b[1m\u001b[32m1\u001b[0m feature views from \u001b[1m\u001b[32m2020-02-14 21:00:00-03:00\u001b[0m to \u001b[1m\u001b[32m2020-02-14 22:00:00-03:00\u001b[0m into the \u001b[1m\u001b[32msqlite\u001b[0m online store.\n",
      "\n",
      "\u001b[1m\u001b[32mdriver_hourly_stats\u001b[0m:\n"
     ]
    },
    {
     "name": "stderr",
     "output_type": "stream",
     "text": [
      "/home/felipeadachi/miniconda3/envs/feast/lib/python3.8/site-packages/feast/infra/offline_stores/file.py:334: FutureWarning: Passing a set as an indexer is deprecated and will raise in a future version. Use a list instead.\n",
      "  return last_values_df[columns_to_extract]\n",
      "100%|████████████████████████████████████████████████████████████████| 2/2 [00:00<00:00, 118.00it/s]\n",
      "/home/felipeadachi/miniconda3/envs/feast/lib/python3.8/site-packages/feast/infra/offline_stores/file.py:334: FutureWarning: Passing a set as an indexer is deprecated and will raise in a future version. Use a list instead.\n",
      "  return last_values_df[columns_to_extract]\n"
     ]
    },
    {
     "name": "stdout",
     "output_type": "stream",
     "text": [
      "Materializing \u001b[1m\u001b[32m1\u001b[0m feature views from \u001b[1m\u001b[32m2020-02-14 22:00:00-03:00\u001b[0m to \u001b[1m\u001b[32m2020-02-14 23:00:00-03:00\u001b[0m into the \u001b[1m\u001b[32msqlite\u001b[0m online store.\n",
      "\n",
      "\u001b[1m\u001b[32mdriver_hourly_stats\u001b[0m:\n"
     ]
    },
    {
     "name": "stderr",
     "output_type": "stream",
     "text": [
      "100%|████████████████████████████████████████████████████████████████| 2/2 [00:00<00:00, 105.82it/s]\n"
     ]
    },
    {
     "name": "stdout",
     "output_type": "stream",
     "text": [
      "Closing logger for day 2020-02-14 00:00:00....\n",
      "Starting logger for day 2020-02-15 00:00:00....\n",
      "Materializing \u001b[1m\u001b[32m1\u001b[0m feature views from \u001b[1m\u001b[32m2020-02-14 23:00:00-03:00\u001b[0m to \u001b[1m\u001b[32m2020-02-15 00:00:00-03:00\u001b[0m into the \u001b[1m\u001b[32msqlite\u001b[0m online store.\n",
      "\n",
      "\u001b[1m\u001b[32mdriver_hourly_stats\u001b[0m:\n"
     ]
    },
    {
     "name": "stderr",
     "output_type": "stream",
     "text": [
      "/home/felipeadachi/miniconda3/envs/feast/lib/python3.8/site-packages/feast/infra/offline_stores/file.py:334: FutureWarning: Passing a set as an indexer is deprecated and will raise in a future version. Use a list instead.\n",
      "  return last_values_df[columns_to_extract]\n",
      "100%|█████████████████████████████████████████████████████████████████| 2/2 [00:00<00:00, 69.27it/s]"
     ]
    },
    {
     "name": "stdout",
     "output_type": "stream",
     "text": [
      "Materializing \u001b[1m\u001b[32m1\u001b[0m feature views from \u001b[1m\u001b[32m2020-02-15 00:00:00-03:00\u001b[0m to \u001b[1m\u001b[32m2020-02-15 01:00:00-03:00\u001b[0m into the \u001b[1m\u001b[32msqlite\u001b[0m online store.\n",
      "\n",
      "\u001b[1m\u001b[32mdriver_hourly_stats\u001b[0m:\n"
     ]
    },
    {
     "name": "stderr",
     "output_type": "stream",
     "text": [
      "\n",
      "/home/felipeadachi/miniconda3/envs/feast/lib/python3.8/site-packages/feast/infra/offline_stores/file.py:334: FutureWarning: Passing a set as an indexer is deprecated and will raise in a future version. Use a list instead.\n",
      "  return last_values_df[columns_to_extract]\n",
      "100%|████████████████████████████████████████████████████████████████| 2/2 [00:00<00:00, 101.59it/s]\n"
     ]
    },
    {
     "name": "stdout",
     "output_type": "stream",
     "text": [
      "Materializing \u001b[1m\u001b[32m1\u001b[0m feature views from \u001b[1m\u001b[32m2020-02-15 01:00:00-03:00\u001b[0m to \u001b[1m\u001b[32m2020-02-15 02:00:00-03:00\u001b[0m into the \u001b[1m\u001b[32msqlite\u001b[0m online store.\n",
      "\n",
      "\u001b[1m\u001b[32mdriver_hourly_stats\u001b[0m:\n"
     ]
    },
    {
     "name": "stderr",
     "output_type": "stream",
     "text": [
      "/home/felipeadachi/miniconda3/envs/feast/lib/python3.8/site-packages/feast/infra/offline_stores/file.py:334: FutureWarning: Passing a set as an indexer is deprecated and will raise in a future version. Use a list instead.\n",
      "  return last_values_df[columns_to_extract]\n",
      "100%|████████████████████████████████████████████████████████████████| 2/2 [00:00<00:00, 104.77it/s]\n"
     ]
    },
    {
     "name": "stdout",
     "output_type": "stream",
     "text": [
      "Materializing \u001b[1m\u001b[32m1\u001b[0m feature views from \u001b[1m\u001b[32m2020-02-15 02:00:00-03:00\u001b[0m to \u001b[1m\u001b[32m2020-02-15 03:00:00-03:00\u001b[0m into the \u001b[1m\u001b[32msqlite\u001b[0m online store.\n",
      "\n",
      "\u001b[1m\u001b[32mdriver_hourly_stats\u001b[0m:\n"
     ]
    },
    {
     "name": "stderr",
     "output_type": "stream",
     "text": [
      "/home/felipeadachi/miniconda3/envs/feast/lib/python3.8/site-packages/feast/infra/offline_stores/file.py:334: FutureWarning: Passing a set as an indexer is deprecated and will raise in a future version. Use a list instead.\n",
      "  return last_values_df[columns_to_extract]\n",
      "100%|█████████████████████████████████████████████████████████████████| 2/2 [00:00<00:00, 93.34it/s]\n"
     ]
    },
    {
     "name": "stdout",
     "output_type": "stream",
     "text": [
      "Materializing \u001b[1m\u001b[32m1\u001b[0m feature views from \u001b[1m\u001b[32m2020-02-15 06:00:00-03:00\u001b[0m to \u001b[1m\u001b[32m2020-02-15 07:00:00-03:00\u001b[0m into the \u001b[1m\u001b[32msqlite\u001b[0m online store.\n",
      "\n",
      "\u001b[1m\u001b[32mdriver_hourly_stats\u001b[0m:\n"
     ]
    },
    {
     "name": "stderr",
     "output_type": "stream",
     "text": [
      "/home/felipeadachi/miniconda3/envs/feast/lib/python3.8/site-packages/feast/infra/offline_stores/file.py:334: FutureWarning: Passing a set as an indexer is deprecated and will raise in a future version. Use a list instead.\n",
      "  return last_values_df[columns_to_extract]\n",
      "100%|█████████████████████████████████████████████████████████████████| 2/2 [00:00<00:00, 89.91it/s]\n",
      "/home/felipeadachi/miniconda3/envs/feast/lib/python3.8/site-packages/feast/infra/offline_stores/file.py:334: FutureWarning: Passing a set as an indexer is deprecated and will raise in a future version. Use a list instead.\n",
      "  return last_values_df[columns_to_extract]\n"
     ]
    },
    {
     "name": "stdout",
     "output_type": "stream",
     "text": [
      "Materializing \u001b[1m\u001b[32m1\u001b[0m feature views from \u001b[1m\u001b[32m2020-02-15 07:00:00-03:00\u001b[0m to \u001b[1m\u001b[32m2020-02-15 08:00:00-03:00\u001b[0m into the \u001b[1m\u001b[32msqlite\u001b[0m online store.\n",
      "\n",
      "\u001b[1m\u001b[32mdriver_hourly_stats\u001b[0m:\n"
     ]
    },
    {
     "name": "stderr",
     "output_type": "stream",
     "text": [
      "100%|█████████████████████████████████████████████████████████████████| 2/2 [00:00<00:00, 90.71it/s]\n"
     ]
    },
    {
     "name": "stdout",
     "output_type": "stream",
     "text": [
      "Materializing \u001b[1m\u001b[32m1\u001b[0m feature views from \u001b[1m\u001b[32m2020-02-15 08:00:00-03:00\u001b[0m to \u001b[1m\u001b[32m2020-02-15 09:00:00-03:00\u001b[0m into the \u001b[1m\u001b[32msqlite\u001b[0m online store.\n",
      "\n",
      "\u001b[1m\u001b[32mdriver_hourly_stats\u001b[0m:\n"
     ]
    },
    {
     "name": "stderr",
     "output_type": "stream",
     "text": [
      "/home/felipeadachi/miniconda3/envs/feast/lib/python3.8/site-packages/feast/infra/offline_stores/file.py:334: FutureWarning: Passing a set as an indexer is deprecated and will raise in a future version. Use a list instead.\n",
      "  return last_values_df[columns_to_extract]\n",
      "100%|█████████████████████████████████████████████████████████████████| 2/2 [00:00<00:00, 94.31it/s]\n",
      "/home/felipeadachi/miniconda3/envs/feast/lib/python3.8/site-packages/feast/infra/offline_stores/file.py:334: FutureWarning: Passing a set as an indexer is deprecated and will raise in a future version. Use a list instead.\n",
      "  return last_values_df[columns_to_extract]\n"
     ]
    },
    {
     "name": "stdout",
     "output_type": "stream",
     "text": [
      "Materializing \u001b[1m\u001b[32m1\u001b[0m feature views from \u001b[1m\u001b[32m2020-02-15 09:00:00-03:00\u001b[0m to \u001b[1m\u001b[32m2020-02-15 10:00:00-03:00\u001b[0m into the \u001b[1m\u001b[32msqlite\u001b[0m online store.\n",
      "\n",
      "\u001b[1m\u001b[32mdriver_hourly_stats\u001b[0m:\n"
     ]
    },
    {
     "name": "stderr",
     "output_type": "stream",
     "text": [
      "100%|█████████████████████████████████████████████████████████████████| 2/2 [00:00<00:00, 60.63it/s]\n"
     ]
    },
    {
     "name": "stdout",
     "output_type": "stream",
     "text": [
      "Materializing \u001b[1m\u001b[32m1\u001b[0m feature views from \u001b[1m\u001b[32m2020-02-15 10:00:00-03:00\u001b[0m to \u001b[1m\u001b[32m2020-02-15 11:00:00-03:00\u001b[0m into the \u001b[1m\u001b[32msqlite\u001b[0m online store.\n",
      "\n",
      "\u001b[1m\u001b[32mdriver_hourly_stats\u001b[0m:\n"
     ]
    },
    {
     "name": "stderr",
     "output_type": "stream",
     "text": [
      "/home/felipeadachi/miniconda3/envs/feast/lib/python3.8/site-packages/feast/infra/offline_stores/file.py:334: FutureWarning: Passing a set as an indexer is deprecated and will raise in a future version. Use a list instead.\n",
      "  return last_values_df[columns_to_extract]\n",
      "100%|█████████████████████████████████████████████████████████████████| 2/2 [00:00<00:00, 93.43it/s]\n"
     ]
    },
    {
     "name": "stdout",
     "output_type": "stream",
     "text": [
      "Materializing \u001b[1m\u001b[32m1\u001b[0m feature views from \u001b[1m\u001b[32m2020-02-15 11:00:00-03:00\u001b[0m to \u001b[1m\u001b[32m2020-02-15 12:00:00-03:00\u001b[0m into the \u001b[1m\u001b[32msqlite\u001b[0m online store.\n",
      "\n",
      "\u001b[1m\u001b[32mdriver_hourly_stats\u001b[0m:\n"
     ]
    },
    {
     "name": "stderr",
     "output_type": "stream",
     "text": [
      "/home/felipeadachi/miniconda3/envs/feast/lib/python3.8/site-packages/feast/infra/offline_stores/file.py:334: FutureWarning: Passing a set as an indexer is deprecated and will raise in a future version. Use a list instead.\n",
      "  return last_values_df[columns_to_extract]\n",
      "100%|█████████████████████████████████████████████████████████████████| 2/2 [00:00<00:00, 88.54it/s]\n"
     ]
    },
    {
     "name": "stdout",
     "output_type": "stream",
     "text": [
      "Materializing \u001b[1m\u001b[32m1\u001b[0m feature views from \u001b[1m\u001b[32m2020-02-15 12:00:00-03:00\u001b[0m to \u001b[1m\u001b[32m2020-02-15 13:00:00-03:00\u001b[0m into the \u001b[1m\u001b[32msqlite\u001b[0m online store.\n",
      "\n",
      "\u001b[1m\u001b[32mdriver_hourly_stats\u001b[0m:\n"
     ]
    },
    {
     "name": "stderr",
     "output_type": "stream",
     "text": [
      "/home/felipeadachi/miniconda3/envs/feast/lib/python3.8/site-packages/feast/infra/offline_stores/file.py:334: FutureWarning: Passing a set as an indexer is deprecated and will raise in a future version. Use a list instead.\n",
      "  return last_values_df[columns_to_extract]\n",
      "100%|████████████████████████████████████████████████████████████████| 2/2 [00:00<00:00, 108.59it/s]\n"
     ]
    },
    {
     "name": "stdout",
     "output_type": "stream",
     "text": [
      "Materializing \u001b[1m\u001b[32m1\u001b[0m feature views from \u001b[1m\u001b[32m2020-02-15 13:00:00-03:00\u001b[0m to \u001b[1m\u001b[32m2020-02-15 14:00:00-03:00\u001b[0m into the \u001b[1m\u001b[32msqlite\u001b[0m online store.\n",
      "\n",
      "\u001b[1m\u001b[32mdriver_hourly_stats\u001b[0m:\n"
     ]
    },
    {
     "name": "stderr",
     "output_type": "stream",
     "text": [
      "/home/felipeadachi/miniconda3/envs/feast/lib/python3.8/site-packages/feast/infra/offline_stores/file.py:334: FutureWarning: Passing a set as an indexer is deprecated and will raise in a future version. Use a list instead.\n",
      "  return last_values_df[columns_to_extract]\n",
      "100%|█████████████████████████████████████████████████████████████████| 2/2 [00:00<00:00, 95.63it/s]\n",
      "/home/felipeadachi/miniconda3/envs/feast/lib/python3.8/site-packages/feast/infra/offline_stores/file.py:334: FutureWarning: Passing a set as an indexer is deprecated and will raise in a future version. Use a list instead.\n",
      "  return last_values_df[columns_to_extract]\n"
     ]
    },
    {
     "name": "stdout",
     "output_type": "stream",
     "text": [
      "Materializing \u001b[1m\u001b[32m1\u001b[0m feature views from \u001b[1m\u001b[32m2020-02-15 14:00:00-03:00\u001b[0m to \u001b[1m\u001b[32m2020-02-15 15:00:00-03:00\u001b[0m into the \u001b[1m\u001b[32msqlite\u001b[0m online store.\n",
      "\n",
      "\u001b[1m\u001b[32mdriver_hourly_stats\u001b[0m:\n"
     ]
    },
    {
     "name": "stderr",
     "output_type": "stream",
     "text": [
      "100%|█████████████████████████████████████████████████████████████████| 2/2 [00:00<00:00, 54.26it/s]"
     ]
    },
    {
     "name": "stdout",
     "output_type": "stream",
     "text": [
      "Materializing \u001b[1m\u001b[32m1\u001b[0m feature views from \u001b[1m\u001b[32m2020-02-15 15:00:00-03:00\u001b[0m to \u001b[1m\u001b[32m2020-02-15 16:00:00-03:00\u001b[0m into the \u001b[1m\u001b[32msqlite\u001b[0m online store.\n",
      "\n",
      "\u001b[1m\u001b[32mdriver_hourly_stats\u001b[0m:\n"
     ]
    },
    {
     "name": "stderr",
     "output_type": "stream",
     "text": [
      "\n",
      "/home/felipeadachi/miniconda3/envs/feast/lib/python3.8/site-packages/feast/infra/offline_stores/file.py:334: FutureWarning: Passing a set as an indexer is deprecated and will raise in a future version. Use a list instead.\n",
      "  return last_values_df[columns_to_extract]\n",
      "100%|█████████████████████████████████████████████████████████████████| 2/2 [00:00<00:00, 92.17it/s]\n",
      "/home/felipeadachi/miniconda3/envs/feast/lib/python3.8/site-packages/feast/infra/offline_stores/file.py:334: FutureWarning: Passing a set as an indexer is deprecated and will raise in a future version. Use a list instead.\n",
      "  return last_values_df[columns_to_extract]\n"
     ]
    },
    {
     "name": "stdout",
     "output_type": "stream",
     "text": [
      "Materializing \u001b[1m\u001b[32m1\u001b[0m feature views from \u001b[1m\u001b[32m2020-02-15 16:00:00-03:00\u001b[0m to \u001b[1m\u001b[32m2020-02-15 17:00:00-03:00\u001b[0m into the \u001b[1m\u001b[32msqlite\u001b[0m online store.\n",
      "\n",
      "\u001b[1m\u001b[32mdriver_hourly_stats\u001b[0m:\n"
     ]
    },
    {
     "name": "stderr",
     "output_type": "stream",
     "text": [
      "100%|█████████████████████████████████████████████████████████████████| 2/2 [00:00<00:00, 98.61it/s]"
     ]
    },
    {
     "name": "stdout",
     "output_type": "stream",
     "text": [
      "Materializing \u001b[1m\u001b[32m1\u001b[0m feature views from \u001b[1m\u001b[32m2020-02-15 17:00:00-03:00\u001b[0m to \u001b[1m\u001b[32m2020-02-15 18:00:00-03:00\u001b[0m into the \u001b[1m\u001b[32msqlite\u001b[0m online store.\n",
      "\n",
      "\u001b[1m\u001b[32mdriver_hourly_stats\u001b[0m:\n"
     ]
    },
    {
     "name": "stderr",
     "output_type": "stream",
     "text": [
      "\n",
      "/home/felipeadachi/miniconda3/envs/feast/lib/python3.8/site-packages/feast/infra/offline_stores/file.py:334: FutureWarning: Passing a set as an indexer is deprecated and will raise in a future version. Use a list instead.\n",
      "  return last_values_df[columns_to_extract]\n",
      "100%|████████████████████████████████████████████████████████████████| 2/2 [00:00<00:00, 105.00it/s]\n"
     ]
    },
    {
     "name": "stdout",
     "output_type": "stream",
     "text": [
      "Materializing \u001b[1m\u001b[32m1\u001b[0m feature views from \u001b[1m\u001b[32m2020-02-15 18:00:00-03:00\u001b[0m to \u001b[1m\u001b[32m2020-02-15 19:00:00-03:00\u001b[0m into the \u001b[1m\u001b[32msqlite\u001b[0m online store.\n",
      "\n",
      "\u001b[1m\u001b[32mdriver_hourly_stats\u001b[0m:\n"
     ]
    },
    {
     "name": "stderr",
     "output_type": "stream",
     "text": [
      "/home/felipeadachi/miniconda3/envs/feast/lib/python3.8/site-packages/feast/infra/offline_stores/file.py:334: FutureWarning: Passing a set as an indexer is deprecated and will raise in a future version. Use a list instead.\n",
      "  return last_values_df[columns_to_extract]\n",
      "100%|█████████████████████████████████████████████████████████████████| 2/2 [00:00<00:00, 94.75it/s]\n"
     ]
    },
    {
     "name": "stdout",
     "output_type": "stream",
     "text": [
      "Materializing \u001b[1m\u001b[32m1\u001b[0m feature views from \u001b[1m\u001b[32m2020-02-15 19:00:00-03:00\u001b[0m to \u001b[1m\u001b[32m2020-02-15 20:00:00-03:00\u001b[0m into the \u001b[1m\u001b[32msqlite\u001b[0m online store.\n",
      "\n",
      "\u001b[1m\u001b[32mdriver_hourly_stats\u001b[0m:\n"
     ]
    },
    {
     "name": "stderr",
     "output_type": "stream",
     "text": [
      "/home/felipeadachi/miniconda3/envs/feast/lib/python3.8/site-packages/feast/infra/offline_stores/file.py:334: FutureWarning: Passing a set as an indexer is deprecated and will raise in a future version. Use a list instead.\n",
      "  return last_values_df[columns_to_extract]\n",
      "100%|████████████████████████████████████████████████████████████████| 2/2 [00:00<00:00, 105.77it/s]\n"
     ]
    },
    {
     "name": "stdout",
     "output_type": "stream",
     "text": [
      "Materializing \u001b[1m\u001b[32m1\u001b[0m feature views from \u001b[1m\u001b[32m2020-02-15 21:00:00-03:00\u001b[0m to \u001b[1m\u001b[32m2020-02-15 22:00:00-03:00\u001b[0m into the \u001b[1m\u001b[32msqlite\u001b[0m online store.\n",
      "\n",
      "\u001b[1m\u001b[32mdriver_hourly_stats\u001b[0m:\n"
     ]
    },
    {
     "name": "stderr",
     "output_type": "stream",
     "text": [
      "/home/felipeadachi/miniconda3/envs/feast/lib/python3.8/site-packages/feast/infra/offline_stores/file.py:334: FutureWarning: Passing a set as an indexer is deprecated and will raise in a future version. Use a list instead.\n",
      "  return last_values_df[columns_to_extract]\n",
      "100%|████████████████████████████████████████████████████████████████| 2/2 [00:00<00:00, 101.86it/s]\n"
     ]
    },
    {
     "name": "stdout",
     "output_type": "stream",
     "text": [
      "Materializing \u001b[1m\u001b[32m1\u001b[0m feature views from \u001b[1m\u001b[32m2020-02-15 22:00:00-03:00\u001b[0m to \u001b[1m\u001b[32m2020-02-15 23:00:00-03:00\u001b[0m into the \u001b[1m\u001b[32msqlite\u001b[0m online store.\n",
      "\n",
      "\u001b[1m\u001b[32mdriver_hourly_stats\u001b[0m:\n"
     ]
    },
    {
     "name": "stderr",
     "output_type": "stream",
     "text": [
      "/home/felipeadachi/miniconda3/envs/feast/lib/python3.8/site-packages/feast/infra/offline_stores/file.py:334: FutureWarning: Passing a set as an indexer is deprecated and will raise in a future version. Use a list instead.\n",
      "  return last_values_df[columns_to_extract]\n",
      "100%|████████████████████████████████████████████████████████████████| 2/2 [00:00<00:00, 107.08it/s]\n"
     ]
    },
    {
     "name": "stdout",
     "output_type": "stream",
     "text": [
      "Closing logger for day 2020-02-15 00:00:00....\n",
      "Starting logger for day 2020-02-16 00:00:00....\n",
      "Materializing \u001b[1m\u001b[32m1\u001b[0m feature views from \u001b[1m\u001b[32m2020-02-15 23:00:00-03:00\u001b[0m to \u001b[1m\u001b[32m2020-02-16 00:00:00-03:00\u001b[0m into the \u001b[1m\u001b[32msqlite\u001b[0m online store.\n",
      "\n",
      "\u001b[1m\u001b[32mdriver_hourly_stats\u001b[0m:\n"
     ]
    },
    {
     "name": "stderr",
     "output_type": "stream",
     "text": [
      "/home/felipeadachi/miniconda3/envs/feast/lib/python3.8/site-packages/feast/infra/offline_stores/file.py:334: FutureWarning: Passing a set as an indexer is deprecated and will raise in a future version. Use a list instead.\n",
      "  return last_values_df[columns_to_extract]\n",
      "100%|█████████████████████████████████████████████████████████████████| 2/2 [00:00<00:00, 70.08it/s]\n",
      "/home/felipeadachi/miniconda3/envs/feast/lib/python3.8/site-packages/feast/infra/offline_stores/file.py:334: FutureWarning: Passing a set as an indexer is deprecated and will raise in a future version. Use a list instead.\n",
      "  return last_values_df[columns_to_extract]\n"
     ]
    },
    {
     "name": "stdout",
     "output_type": "stream",
     "text": [
      "Materializing \u001b[1m\u001b[32m1\u001b[0m feature views from \u001b[1m\u001b[32m2020-02-16 00:00:00-03:00\u001b[0m to \u001b[1m\u001b[32m2020-02-16 01:00:00-03:00\u001b[0m into the \u001b[1m\u001b[32msqlite\u001b[0m online store.\n",
      "\n",
      "\u001b[1m\u001b[32mdriver_hourly_stats\u001b[0m:\n"
     ]
    },
    {
     "name": "stderr",
     "output_type": "stream",
     "text": [
      "100%|████████████████████████████████████████████████████████████████| 2/2 [00:00<00:00, 108.15it/s]\n",
      "/home/felipeadachi/miniconda3/envs/feast/lib/python3.8/site-packages/feast/infra/offline_stores/file.py:334: FutureWarning: Passing a set as an indexer is deprecated and will raise in a future version. Use a list instead.\n",
      "  return last_values_df[columns_to_extract]\n"
     ]
    },
    {
     "name": "stdout",
     "output_type": "stream",
     "text": [
      "Materializing \u001b[1m\u001b[32m1\u001b[0m feature views from \u001b[1m\u001b[32m2020-02-16 01:00:00-03:00\u001b[0m to \u001b[1m\u001b[32m2020-02-16 02:00:00-03:00\u001b[0m into the \u001b[1m\u001b[32msqlite\u001b[0m online store.\n",
      "\n",
      "\u001b[1m\u001b[32mdriver_hourly_stats\u001b[0m:\n"
     ]
    },
    {
     "name": "stderr",
     "output_type": "stream",
     "text": [
      "100%|████████████████████████████████████████████████████████████████| 2/2 [00:00<00:00, 111.18it/s]\n"
     ]
    },
    {
     "name": "stdout",
     "output_type": "stream",
     "text": [
      "Materializing \u001b[1m\u001b[32m1\u001b[0m feature views from \u001b[1m\u001b[32m2020-02-16 04:00:00-03:00\u001b[0m to \u001b[1m\u001b[32m2020-02-16 05:00:00-03:00\u001b[0m into the \u001b[1m\u001b[32msqlite\u001b[0m online store.\n",
      "\n",
      "\u001b[1m\u001b[32mdriver_hourly_stats\u001b[0m:\n"
     ]
    },
    {
     "name": "stderr",
     "output_type": "stream",
     "text": [
      "/home/felipeadachi/miniconda3/envs/feast/lib/python3.8/site-packages/feast/infra/offline_stores/file.py:334: FutureWarning: Passing a set as an indexer is deprecated and will raise in a future version. Use a list instead.\n",
      "  return last_values_df[columns_to_extract]\n",
      "100%|████████████████████████████████████████████████████████████████| 2/2 [00:00<00:00, 109.91it/s]\n"
     ]
    },
    {
     "name": "stdout",
     "output_type": "stream",
     "text": [
      "Materializing \u001b[1m\u001b[32m1\u001b[0m feature views from \u001b[1m\u001b[32m2020-02-16 07:00:00-03:00\u001b[0m to \u001b[1m\u001b[32m2020-02-16 08:00:00-03:00\u001b[0m into the \u001b[1m\u001b[32msqlite\u001b[0m online store.\n",
      "\n",
      "\u001b[1m\u001b[32mdriver_hourly_stats\u001b[0m:\n"
     ]
    },
    {
     "name": "stderr",
     "output_type": "stream",
     "text": [
      "/home/felipeadachi/miniconda3/envs/feast/lib/python3.8/site-packages/feast/infra/offline_stores/file.py:334: FutureWarning: Passing a set as an indexer is deprecated and will raise in a future version. Use a list instead.\n",
      "  return last_values_df[columns_to_extract]\n",
      "100%|█████████████████████████████████████████████████████████████████| 2/2 [00:00<00:00, 96.25it/s]\n",
      "/home/felipeadachi/miniconda3/envs/feast/lib/python3.8/site-packages/feast/infra/offline_stores/file.py:334: FutureWarning: Passing a set as an indexer is deprecated and will raise in a future version. Use a list instead.\n",
      "  return last_values_df[columns_to_extract]\n"
     ]
    },
    {
     "name": "stdout",
     "output_type": "stream",
     "text": [
      "Materializing \u001b[1m\u001b[32m1\u001b[0m feature views from \u001b[1m\u001b[32m2020-02-16 08:00:00-03:00\u001b[0m to \u001b[1m\u001b[32m2020-02-16 09:00:00-03:00\u001b[0m into the \u001b[1m\u001b[32msqlite\u001b[0m online store.\n",
      "\n",
      "\u001b[1m\u001b[32mdriver_hourly_stats\u001b[0m:\n"
     ]
    },
    {
     "name": "stderr",
     "output_type": "stream",
     "text": [
      "100%|█████████████████████████████████████████████████████████████████| 2/2 [00:00<00:00, 97.89it/s]\n",
      "/home/felipeadachi/miniconda3/envs/feast/lib/python3.8/site-packages/feast/infra/offline_stores/file.py:334: FutureWarning: Passing a set as an indexer is deprecated and will raise in a future version. Use a list instead.\n",
      "  return last_values_df[columns_to_extract]\n"
     ]
    },
    {
     "name": "stdout",
     "output_type": "stream",
     "text": [
      "Materializing \u001b[1m\u001b[32m1\u001b[0m feature views from \u001b[1m\u001b[32m2020-02-16 09:00:00-03:00\u001b[0m to \u001b[1m\u001b[32m2020-02-16 10:00:00-03:00\u001b[0m into the \u001b[1m\u001b[32msqlite\u001b[0m online store.\n",
      "\n",
      "\u001b[1m\u001b[32mdriver_hourly_stats\u001b[0m:\n"
     ]
    },
    {
     "name": "stderr",
     "output_type": "stream",
     "text": [
      "100%|█████████████████████████████████████████████████████████████████| 2/2 [00:00<00:00, 85.93it/s]\n",
      "/home/felipeadachi/miniconda3/envs/feast/lib/python3.8/site-packages/feast/infra/offline_stores/file.py:334: FutureWarning: Passing a set as an indexer is deprecated and will raise in a future version. Use a list instead.\n",
      "  return last_values_df[columns_to_extract]\n"
     ]
    },
    {
     "name": "stdout",
     "output_type": "stream",
     "text": [
      "Materializing \u001b[1m\u001b[32m1\u001b[0m feature views from \u001b[1m\u001b[32m2020-02-16 10:00:00-03:00\u001b[0m to \u001b[1m\u001b[32m2020-02-16 11:00:00-03:00\u001b[0m into the \u001b[1m\u001b[32msqlite\u001b[0m online store.\n",
      "\n",
      "\u001b[1m\u001b[32mdriver_hourly_stats\u001b[0m:\n"
     ]
    },
    {
     "name": "stderr",
     "output_type": "stream",
     "text": [
      "100%|████████████████████████████████████████████████████████████████| 2/2 [00:00<00:00, 104.45it/s]\n"
     ]
    },
    {
     "name": "stdout",
     "output_type": "stream",
     "text": [
      "Materializing \u001b[1m\u001b[32m1\u001b[0m feature views from \u001b[1m\u001b[32m2020-02-16 11:00:00-03:00\u001b[0m to \u001b[1m\u001b[32m2020-02-16 12:00:00-03:00\u001b[0m into the \u001b[1m\u001b[32msqlite\u001b[0m online store.\n",
      "\n",
      "\u001b[1m\u001b[32mdriver_hourly_stats\u001b[0m:\n"
     ]
    },
    {
     "name": "stderr",
     "output_type": "stream",
     "text": [
      "/home/felipeadachi/miniconda3/envs/feast/lib/python3.8/site-packages/feast/infra/offline_stores/file.py:334: FutureWarning: Passing a set as an indexer is deprecated and will raise in a future version. Use a list instead.\n",
      "  return last_values_df[columns_to_extract]\n",
      "100%|█████████████████████████████████████████████████████████████████| 2/2 [00:00<00:00, 97.92it/s]\n",
      "/home/felipeadachi/miniconda3/envs/feast/lib/python3.8/site-packages/feast/infra/offline_stores/file.py:334: FutureWarning: Passing a set as an indexer is deprecated and will raise in a future version. Use a list instead.\n",
      "  return last_values_df[columns_to_extract]\n"
     ]
    },
    {
     "name": "stdout",
     "output_type": "stream",
     "text": [
      "Materializing \u001b[1m\u001b[32m1\u001b[0m feature views from \u001b[1m\u001b[32m2020-02-16 12:00:00-03:00\u001b[0m to \u001b[1m\u001b[32m2020-02-16 13:00:00-03:00\u001b[0m into the \u001b[1m\u001b[32msqlite\u001b[0m online store.\n",
      "\n",
      "\u001b[1m\u001b[32mdriver_hourly_stats\u001b[0m:\n"
     ]
    },
    {
     "name": "stderr",
     "output_type": "stream",
     "text": [
      "100%|████████████████████████████████████████████████████████████████| 2/2 [00:00<00:00, 110.07it/s]\n",
      "/home/felipeadachi/miniconda3/envs/feast/lib/python3.8/site-packages/feast/infra/offline_stores/file.py:334: FutureWarning: Passing a set as an indexer is deprecated and will raise in a future version. Use a list instead.\n",
      "  return last_values_df[columns_to_extract]\n"
     ]
    },
    {
     "name": "stdout",
     "output_type": "stream",
     "text": [
      "Materializing \u001b[1m\u001b[32m1\u001b[0m feature views from \u001b[1m\u001b[32m2020-02-16 13:00:00-03:00\u001b[0m to \u001b[1m\u001b[32m2020-02-16 14:00:00-03:00\u001b[0m into the \u001b[1m\u001b[32msqlite\u001b[0m online store.\n",
      "\n",
      "\u001b[1m\u001b[32mdriver_hourly_stats\u001b[0m:\n"
     ]
    },
    {
     "name": "stderr",
     "output_type": "stream",
     "text": [
      "100%|█████████████████████████████████████████████████████████████████| 2/2 [00:00<00:00, 82.34it/s]\n"
     ]
    },
    {
     "name": "stdout",
     "output_type": "stream",
     "text": [
      "Materializing \u001b[1m\u001b[32m1\u001b[0m feature views from \u001b[1m\u001b[32m2020-02-16 14:00:00-03:00\u001b[0m to \u001b[1m\u001b[32m2020-02-16 15:00:00-03:00\u001b[0m into the \u001b[1m\u001b[32msqlite\u001b[0m online store.\n",
      "\n",
      "\u001b[1m\u001b[32mdriver_hourly_stats\u001b[0m:\n"
     ]
    },
    {
     "name": "stderr",
     "output_type": "stream",
     "text": [
      "/home/felipeadachi/miniconda3/envs/feast/lib/python3.8/site-packages/feast/infra/offline_stores/file.py:334: FutureWarning: Passing a set as an indexer is deprecated and will raise in a future version. Use a list instead.\n",
      "  return last_values_df[columns_to_extract]\n",
      "100%|████████████████████████████████████████████████████████████████| 2/2 [00:00<00:00, 115.36it/s]\n",
      "/home/felipeadachi/miniconda3/envs/feast/lib/python3.8/site-packages/feast/infra/offline_stores/file.py:334: FutureWarning: Passing a set as an indexer is deprecated and will raise in a future version. Use a list instead.\n",
      "  return last_values_df[columns_to_extract]\n"
     ]
    },
    {
     "name": "stdout",
     "output_type": "stream",
     "text": [
      "Materializing \u001b[1m\u001b[32m1\u001b[0m feature views from \u001b[1m\u001b[32m2020-02-16 15:00:00-03:00\u001b[0m to \u001b[1m\u001b[32m2020-02-16 16:00:00-03:00\u001b[0m into the \u001b[1m\u001b[32msqlite\u001b[0m online store.\n",
      "\n",
      "\u001b[1m\u001b[32mdriver_hourly_stats\u001b[0m:\n"
     ]
    },
    {
     "name": "stderr",
     "output_type": "stream",
     "text": [
      "100%|████████████████████████████████████████████████████████████████| 2/2 [00:00<00:00, 107.68it/s]\n",
      "/home/felipeadachi/miniconda3/envs/feast/lib/python3.8/site-packages/feast/infra/offline_stores/file.py:334: FutureWarning: Passing a set as an indexer is deprecated and will raise in a future version. Use a list instead.\n",
      "  return last_values_df[columns_to_extract]\n"
     ]
    },
    {
     "name": "stdout",
     "output_type": "stream",
     "text": [
      "Materializing \u001b[1m\u001b[32m1\u001b[0m feature views from \u001b[1m\u001b[32m2020-02-16 16:00:00-03:00\u001b[0m to \u001b[1m\u001b[32m2020-02-16 17:00:00-03:00\u001b[0m into the \u001b[1m\u001b[32msqlite\u001b[0m online store.\n",
      "\n",
      "\u001b[1m\u001b[32mdriver_hourly_stats\u001b[0m:\n"
     ]
    },
    {
     "name": "stderr",
     "output_type": "stream",
     "text": [
      "100%|█████████████████████████████████████████████████████████████████| 2/2 [00:00<00:00, 86.98it/s]\n"
     ]
    },
    {
     "name": "stdout",
     "output_type": "stream",
     "text": [
      "Materializing \u001b[1m\u001b[32m1\u001b[0m feature views from \u001b[1m\u001b[32m2020-02-16 17:00:00-03:00\u001b[0m to \u001b[1m\u001b[32m2020-02-16 18:00:00-03:00\u001b[0m into the \u001b[1m\u001b[32msqlite\u001b[0m online store.\n",
      "\n",
      "\u001b[1m\u001b[32mdriver_hourly_stats\u001b[0m:\n"
     ]
    },
    {
     "name": "stderr",
     "output_type": "stream",
     "text": [
      "/home/felipeadachi/miniconda3/envs/feast/lib/python3.8/site-packages/feast/infra/offline_stores/file.py:334: FutureWarning: Passing a set as an indexer is deprecated and will raise in a future version. Use a list instead.\n",
      "  return last_values_df[columns_to_extract]\n",
      "100%|█████████████████████████████████████████████████████████████████| 2/2 [00:00<00:00, 73.87it/s]\n",
      "/home/felipeadachi/miniconda3/envs/feast/lib/python3.8/site-packages/feast/infra/offline_stores/file.py:334: FutureWarning: Passing a set as an indexer is deprecated and will raise in a future version. Use a list instead.\n",
      "  return last_values_df[columns_to_extract]\n"
     ]
    },
    {
     "name": "stdout",
     "output_type": "stream",
     "text": [
      "Materializing \u001b[1m\u001b[32m1\u001b[0m feature views from \u001b[1m\u001b[32m2020-02-16 18:00:00-03:00\u001b[0m to \u001b[1m\u001b[32m2020-02-16 19:00:00-03:00\u001b[0m into the \u001b[1m\u001b[32msqlite\u001b[0m online store.\n",
      "\n",
      "\u001b[1m\u001b[32mdriver_hourly_stats\u001b[0m:\n"
     ]
    },
    {
     "name": "stderr",
     "output_type": "stream",
     "text": [
      "100%|█████████████████████████████████████████████████████████████████| 2/2 [00:00<00:00, 83.91it/s]\n",
      "/home/felipeadachi/miniconda3/envs/feast/lib/python3.8/site-packages/feast/infra/offline_stores/file.py:334: FutureWarning: Passing a set as an indexer is deprecated and will raise in a future version. Use a list instead.\n",
      "  return last_values_df[columns_to_extract]\n"
     ]
    },
    {
     "name": "stdout",
     "output_type": "stream",
     "text": [
      "Materializing \u001b[1m\u001b[32m1\u001b[0m feature views from \u001b[1m\u001b[32m2020-02-16 19:00:00-03:00\u001b[0m to \u001b[1m\u001b[32m2020-02-16 20:00:00-03:00\u001b[0m into the \u001b[1m\u001b[32msqlite\u001b[0m online store.\n",
      "\n",
      "\u001b[1m\u001b[32mdriver_hourly_stats\u001b[0m:\n"
     ]
    },
    {
     "name": "stderr",
     "output_type": "stream",
     "text": [
      "100%|████████████████████████████████████████████████████████████████| 2/2 [00:00<00:00, 102.67it/s]\n"
     ]
    },
    {
     "name": "stdout",
     "output_type": "stream",
     "text": [
      "Materializing \u001b[1m\u001b[32m1\u001b[0m feature views from \u001b[1m\u001b[32m2020-02-16 20:00:00-03:00\u001b[0m to \u001b[1m\u001b[32m2020-02-16 21:00:00-03:00\u001b[0m into the \u001b[1m\u001b[32msqlite\u001b[0m online store.\n",
      "\n",
      "\u001b[1m\u001b[32mdriver_hourly_stats\u001b[0m:\n"
     ]
    },
    {
     "name": "stderr",
     "output_type": "stream",
     "text": [
      "/home/felipeadachi/miniconda3/envs/feast/lib/python3.8/site-packages/feast/infra/offline_stores/file.py:334: FutureWarning: Passing a set as an indexer is deprecated and will raise in a future version. Use a list instead.\n",
      "  return last_values_df[columns_to_extract]\n",
      "100%|█████████████████████████████████████████████████████████████████| 2/2 [00:00<00:00, 85.38it/s]\n"
     ]
    },
    {
     "name": "stdout",
     "output_type": "stream",
     "text": [
      "Materializing \u001b[1m\u001b[32m1\u001b[0m feature views from \u001b[1m\u001b[32m2020-02-16 21:00:00-03:00\u001b[0m to \u001b[1m\u001b[32m2020-02-16 22:00:00-03:00\u001b[0m into the \u001b[1m\u001b[32msqlite\u001b[0m online store.\n",
      "\n",
      "\u001b[1m\u001b[32mdriver_hourly_stats\u001b[0m:\n"
     ]
    },
    {
     "name": "stderr",
     "output_type": "stream",
     "text": [
      "/home/felipeadachi/miniconda3/envs/feast/lib/python3.8/site-packages/feast/infra/offline_stores/file.py:334: FutureWarning: Passing a set as an indexer is deprecated and will raise in a future version. Use a list instead.\n",
      "  return last_values_df[columns_to_extract]\n",
      "100%|█████████████████████████████████████████████████████████████████| 2/2 [00:00<00:00, 58.13it/s]\n",
      "/home/felipeadachi/miniconda3/envs/feast/lib/python3.8/site-packages/feast/infra/offline_stores/file.py:334: FutureWarning: Passing a set as an indexer is deprecated and will raise in a future version. Use a list instead.\n",
      "  return last_values_df[columns_to_extract]\n"
     ]
    },
    {
     "name": "stdout",
     "output_type": "stream",
     "text": [
      "Materializing \u001b[1m\u001b[32m1\u001b[0m feature views from \u001b[1m\u001b[32m2020-02-16 22:00:00-03:00\u001b[0m to \u001b[1m\u001b[32m2020-02-16 23:00:00-03:00\u001b[0m into the \u001b[1m\u001b[32msqlite\u001b[0m online store.\n",
      "\n",
      "\u001b[1m\u001b[32mdriver_hourly_stats\u001b[0m:\n"
     ]
    },
    {
     "name": "stderr",
     "output_type": "stream",
     "text": [
      "100%|█████████████████████████████████████████████████████████████████| 2/2 [00:00<00:00, 98.79it/s]\n"
     ]
    },
    {
     "name": "stdout",
     "output_type": "stream",
     "text": [
      "{'PULocationID': 170,\n",
      " 'driver_avg_daily_trips': 6,\n",
      " 'driver_avg_speed': 21.68000030517578,\n",
      " 'driver_rate_1m': 1,\n",
      " 'passenger_count': 1.0,\n",
      " 'pickup_weekday': 6,\n",
      " 'trip_distance': 0.63}\n"
     ]
    }
   ],
   "source": [
    "from datetime import datetime, timedelta\n",
    "from pprint import pprint\n",
    "from feast import FeatureStore\n",
    "from whylogs import get_or_create_session\n",
    "\n",
    "session = get_or_create_session()\n",
    "\n",
    "store = FeatureStore(repo_path=\".\")\n",
    "\n",
    "prev_time = datetime(2020, 2, 10, 00, 00)\n",
    "target_time = datetime(2020, 2, 10, 1, 00)\n",
    "store.materialize(start_date=prev_time,end_date=target_time)\n",
    "\n",
    "# Initializing logger for the first day\n",
    "day_to_log = datetime(2020, 2, 10)\n",
    "logger = session.logger(dataset_name=\"my_dataset\",dataset_timestamp=day_to_log)\n",
    "\n",
    "profiles = []\n",
    "for index,row in rides_df.iterrows():\n",
    "\n",
    "    request_timestamp = row['tpep_pickup_datetime']\n",
    "\n",
    "    # If new request is from the next day, close logger, save profile in-memory and start logger for the next day\n",
    "    if request_timestamp.day > day_to_log.day:\n",
    "        print(\"Closing logger for day {}....\".format(day_to_log))\n",
    "        profile = logger.close()\n",
    "        profiles.append(profile)\n",
    "        day_to_log = request_timestamp.replace(hour=0, minute=0, second=0, microsecond=0)\n",
    "        print(\"Starting logger for day {}....\".format(day_to_log))\n",
    "        logger = session.logger(dataset_name=\"my_dataset\",dataset_timestamp=day_to_log)\n",
    "\n",
    "    if request_timestamp>target_time + timedelta(hours=1):\n",
    "        target_time = datetime(request_timestamp.year,request_timestamp.month,request_timestamp.day,request_timestamp.hour)\n",
    "        prev_time = target_time - timedelta(hours=1)\n",
    "        store.materialize(start_date=prev_time,end_date=target_time)\n",
    "\n",
    "    driver_feature_vector = store.get_online_features(\n",
    "    features=[\n",
    "        \"driver_hourly_stats:rate_1m\",\n",
    "        \"driver_hourly_stats:avg_daily_trips\",\n",
    "        \"driver_hourly_stats:avg_speed\"\n",
    "    ],\n",
    "    entity_rows=[{\"driver_id\": row['driver_id']},],\n",
    "    ).to_dict()\n",
    "\n",
    "    # Get features from both ride and driver\n",
    "    assembled_feature_vector = {\n",
    "        \"pickup_weekday\": row[\"pickup_weekday\"],\n",
    "        \"passenger_count\": row[\"passenger_count\"],\n",
    "        \"trip_distance\": row[\"trip_distance\"],\n",
    "        \"PULocationID\": row[\"PULocationID\"],\n",
    "        \"driver_avg_daily_trips\": driver_feature_vector[\"avg_daily_trips\"][0],\n",
    "        \"driver_rate_1m\": driver_feature_vector[\"rate_1m\"][0],\n",
    "        \"driver_avg_speed\": driver_feature_vector[\"avg_speed\"][0],\n",
    "\n",
    "    }\n",
    "\n",
    "    # Now that we have the complete set of features, model prediction could go here.\n",
    "\n",
    "    logger.log(assembled_feature_vector)\n",
    "pprint(assembled_feature_vector)\n",
    "\n",
    "profile = logger.close()\n",
    "profiles.append(profile)"
   ]
  },
  {
   "cell_type": "code",
   "execution_count": 12,
   "metadata": {
    "cell_id": "58103c68-2e2f-4565-a61b-1fecd6f931e9",
    "deepnote_cell_height": 166.1875,
    "deepnote_cell_type": "code",
    "deepnote_output_heights": [
     null,
     117.1875
    ],
    "deepnote_to_be_reexecuted": false,
    "execution_millis": 2646,
    "execution_start": 1645029022273,
    "source_hash": "55e49c3f",
    "tags": []
   },
   "outputs": [
    {
     "name": "stderr",
     "output_type": "stream",
     "text": [
      "/home/felipeadachi/miniconda3/envs/feast/lib/python3.8/site-packages/matplotlib_inline/config.py:66: DeprecationWarning: InlineBackend._figure_formats_changed is deprecated in traitlets 4.1: use @observe and @unobserve instead.\n",
      "  def _figure_formats_changed(self, name, old, new):\n"
     ]
    }
   ],
   "source": [
    "from whylogs.viz import ProfileVisualizer\n",
    "\n",
    "viz = ProfileVisualizer()\n",
    "viz.set_profiles(profiles)"
   ]
  },
  {
   "cell_type": "code",
   "execution_count": 13,
   "metadata": {
    "cell_id": "9ea9c8e7-b525-420d-8a27-b5fb649065a0",
    "deepnote_cell_height": 623.09375,
    "deepnote_cell_type": "code",
    "deepnote_output_heights": [
     null,
     378.96875
    ],
    "deepnote_to_be_reexecuted": false,
    "execution_millis": 1036,
    "execution_start": 1644598357486,
    "source_hash": "74d1d489",
    "tags": []
   },
   "outputs": [
    {
     "name": "stderr",
     "output_type": "stream",
     "text": [
      "02/24/2022 01:37:36 PM WARNING:findfont: Font family ['sans-serif'] not found. Falling back to DejaVu Sans.\n",
      "02/24/2022 01:37:36 PM WARNING:findfont: Generic family 'sans-serif' not found because none of the following families were found: Asap, Verdana\n",
      "02/24/2022 01:37:36 PM WARNING:findfont: Font family ['sans-serif'] not found. Falling back to DejaVu Sans.\n",
      "02/24/2022 01:37:36 PM WARNING:findfont: Generic family 'sans-serif' not found because none of the following families were found: Asap, Verdana\n",
      "02/24/2022 01:37:36 PM WARNING:findfont: Font family ['sans-serif'] not found. Falling back to DejaVu Sans.\n",
      "02/24/2022 01:37:36 PM WARNING:findfont: Generic family 'sans-serif' not found because none of the following families were found: Asap, Verdana\n"
     ]
    },
    {
     "data": {
      "image/png": "[encoded data removed]",
      "text/plain": [
       "<Figure size 2000x400 with 1 Axes>"
      ]
     },
     "execution_count": 13,
     "metadata": {},
     "output_type": "execute_result"
    }
   ],
   "source": [
    "viz.plot_distribution(\"passenger_count\")"
   ]
  },
  {
   "cell_type": "markdown",
   "metadata": {
    "cell_id": "9e7d46be-1cc5-48fb-a68b-8c3a367ec8ff",
    "deepnote_cell_height": 74.78125,
    "deepnote_cell_type": "markdown",
    "tags": []
   },
   "source": [
    "The distribution of number of passengers before Feb 14 doesn't seem to be unconventional. After that, the 5-95% range falls between 1-2 passengers, which is enough to prompt a more detailed investigation."
   ]
  },
  {
   "cell_type": "code",
   "execution_count": 14,
   "metadata": {
    "cell_id": "5a2d120b-95b5-4669-9356-d8a2c56a7c48",
    "deepnote_cell_height": 496.640625,
    "deepnote_cell_type": "code",
    "deepnote_output_heights": [
     399.640625
    ],
    "deepnote_to_be_reexecuted": false,
    "execution_millis": 759,
    "execution_start": 1644598370321,
    "source_hash": "8f8c7f44",
    "tags": []
   },
   "outputs": [
    {
     "data": {
      "image/png": "[encoded data removed]",
      "text/plain": [
       "<Figure size 2000x400 with 1 Axes>"
      ]
     },
     "execution_count": 14,
     "metadata": {},
     "output_type": "execute_result"
    }
   ],
   "source": [
    "viz.plot_distribution(\"driver_avg_daily_trips\")"
   ]
  },
  {
   "cell_type": "markdown",
   "metadata": {
    "cell_id": "3c16e6ee-844d-4dc2-8004-fae8b1155f52",
    "deepnote_cell_height": 52.390625,
    "deepnote_cell_type": "markdown",
    "tags": []
   },
   "source": [
    "From Feb 14 onwards, as expected, there's a visible reduction in avg daily trips, without much changes in the standard deviation."
   ]
  },
  {
   "cell_type": "code",
   "execution_count": 15,
   "metadata": {
    "cell_id": "99978e62-64ea-4ef0-954a-d830df614ac2",
    "deepnote_cell_height": 622.859375,
    "deepnote_cell_type": "code",
    "deepnote_output_heights": [
     null,
     378.734375
    ],
    "deepnote_to_be_reexecuted": false,
    "execution_millis": 574,
    "execution_start": 1645029042352,
    "source_hash": "e468444d",
    "tags": []
   },
   "outputs": [
    {
     "data": {
      "image/png": "[encoded data removed]",
      "text/plain": [
       "<Figure size 2000x400 with 1 Axes>"
      ]
     },
     "execution_count": 15,
     "metadata": {},
     "output_type": "execute_result"
    }
   ],
   "source": [
    "viz.plot_distribution(\"driver_rate_1m\")"
   ]
  },
  {
   "cell_type": "markdown",
   "metadata": {
    "cell_id": "33ec5bd2-22dc-4e0c-8b8b-a843d9176fc1",
    "deepnote_cell_height": 52.390625,
    "deepnote_cell_type": "markdown",
    "tags": []
   },
   "source": [
    "As with the previous plots, the changes injected in `rate_1m` is also visible by plotting the feature's distribution."
   ]
  },
  {
   "cell_type": "code",
   "execution_count": 16,
   "metadata": {
    "cell_id": "7670d90c-2fe2-4e5d-9949-1f6fdd5d4cc6",
    "deepnote_cell_height": 471.90625,
    "deepnote_cell_type": "code",
    "deepnote_output_heights": [
     374.90625
    ],
    "deepnote_to_be_reexecuted": false,
    "execution_millis": 420,
    "execution_start": 1644598435649,
    "source_hash": "8ad409f3",
    "tags": []
   },
   "outputs": [
    {
     "data": {
      "image/png": "[encoded data removed]",
      "text/plain": [
       "<Figure size 2000x400 with 1 Axes>"
      ]
     },
     "execution_count": 16,
     "metadata": {},
     "output_type": "execute_result"
    }
   ],
   "source": [
    "viz.plot_uniqueness(\"driver_avg_speed\")"
   ]
  },
  {
   "cell_type": "markdown",
   "metadata": {
    "cell_id": "b424147f-fe29-49ec-9954-433d9a6653b6",
    "deepnote_cell_height": 74.78125,
    "deepnote_cell_type": "markdown",
    "tags": []
   },
   "source": [
    "Although indirectly, the unique values of `driver_avg_speed` reflect the fact that for Feb 11 we have half the points available of driver statistics and, so, approximately half of unique values for the average speed."
   ]
  },
  {
   "cell_type": "markdown",
   "metadata": {
    "cell_id": "4d78b80c-42be-4823-8228-750c19d51cc4",
    "deepnote_cell_height": 82,
    "deepnote_cell_type": "markdown",
    "is_collapsed": false,
    "tags": []
   },
   "source": [
    "# Appendix - Changing the Dataset"
   ]
  },
  {
   "cell_type": "markdown",
   "metadata": {
    "cell_id": "d29248e7-2d0c-490b-967d-7b5d786edac4",
    "deepnote_cell_height": 74.78125,
    "deepnote_cell_type": "markdown",
    "tags": []
   },
   "source": [
    "This section is not really a part of the demonstration. It's just to show the changes made in the dataset that originated the `driver_stats_changed.parquet` file that will be used in the beginning of the notebook."
   ]
  },
  {
   "cell_type": "markdown",
   "metadata": {
    "cell_id": "86d151d9-7454-4382-af0b-5d0e434cd324",
    "deepnote_cell_height": 130.78125,
    "deepnote_cell_type": "markdown",
    "tags": []
   },
   "source": [
    "## Driver Statistics\n",
    "\n",
    "The NYC taxi datasets provides only information about rides, but in this example we want to show an example of using an online feature store to enrich ride information with driver statistics. So, we'll fabricate some driver statistics and link them with the rides dataset  (__nyc_taxi_rides_feb_2020.parquet__) through the `Driver_ID` key."
   ]
  },
  {
   "cell_type": "code",
   "execution_count": 17,
   "metadata": {
    "cell_id": "018468ac-ad1b-4ed7-b47b-4f75c885a6c6",
    "deepnote_cell_height": 315,
    "deepnote_cell_type": "code",
    "deepnote_to_be_reexecuted": false,
    "execution_millis": 23,
    "execution_start": 1645028244218,
    "source_hash": "725bdef6",
    "tags": []
   },
   "outputs": [
    {
     "name": "stderr",
     "output_type": "stream",
     "text": [
      "/tmp/ipykernel_4294/1586377622.py:5: FutureWarning: Argument `closed` is deprecated in favor of `inclusive`.\n",
      "  {'event_timestamp': pd.date_range('2020-02-10', '2020-02-17', freq='1H', closed='left')}\n",
      "/tmp/ipykernel_4294/1586377622.py:10: FutureWarning: Argument `closed` is deprecated in favor of `inclusive`.\n",
      "  {'event_timestamp': pd.date_range('2020-02-10', '2020-02-17', freq='1H', closed='left')}\n"
     ]
    }
   ],
   "source": [
    "import pandas as pd\n",
    "\n",
    "\n",
    "dstats = pd.DataFrame(\n",
    "        {'event_timestamp': pd.date_range('2020-02-10', '2020-02-17', freq='1H', closed='left')}\n",
    "     )\n",
    "dstats['driver_id'] = '1001'\n",
    "\n",
    "dstats2 = pd.DataFrame(\n",
    "        {'event_timestamp': pd.date_range('2020-02-10', '2020-02-17', freq='1H', closed='left')}\n",
    "     )\n",
    "dstats2['driver_id'] = '1002'\n",
    "\n",
    "dstats_tot = pd.concat([dstats, dstats2])"
   ]
  },
  {
   "cell_type": "code",
   "execution_count": 18,
   "metadata": {
    "cell_id": "f51f412d-c1c7-46a0-b034-5d6e5d72d74b",
    "deepnote_cell_height": 81,
    "deepnote_cell_type": "code",
    "deepnote_to_be_reexecuted": false,
    "execution_millis": 9,
    "execution_start": 1645028270725,
    "source_hash": "1edc92b2",
    "tags": []
   },
   "outputs": [],
   "source": [
    "dstats_tot = dstats_tot.sort_values(by=[\"event_timestamp\",\"driver_id\"])"
   ]
  },
  {
   "cell_type": "code",
   "execution_count": 19,
   "metadata": {
    "cell_id": "240df262-1a5f-4ab7-99b7-83011ad159f7",
    "deepnote_cell_height": 99,
    "deepnote_cell_type": "code",
    "deepnote_to_be_reexecuted": false,
    "execution_millis": 3,
    "execution_start": 1645028276457,
    "source_hash": "8de3bf4d",
    "tags": []
   },
   "outputs": [],
   "source": [
    "import datetime\n",
    "dstats_tot['created'] = datetime.datetime.now()"
   ]
  },
  {
   "cell_type": "code",
   "execution_count": 20,
   "metadata": {
    "cell_id": "250fe3fb-4523-434d-ba9b-fc65de1e86ab",
    "deepnote_cell_height": 189,
    "deepnote_cell_type": "code",
    "deepnote_to_be_reexecuted": false,
    "execution_millis": 8,
    "execution_start": 1645028281414,
    "source_hash": "639e1fd2",
    "tags": []
   },
   "outputs": [],
   "source": [
    "import numpy as np\n",
    "\n",
    "mu, sigma = 30, 6 # mean and standard deviation\n",
    "s = np.random.normal(mu, sigma, len(dstats_tot))\n",
    "daily_trips = np.round(s)\n",
    "daily_trips = [int(x) for x in daily_trips]\n",
    "dstats_tot['avg_daily_trips'] = daily_trips"
   ]
  },
  {
   "cell_type": "code",
   "execution_count": 21,
   "metadata": {
    "cell_id": "eeac0c0c-c557-4163-9783-65a696a80b04",
    "deepnote_cell_height": 225,
    "deepnote_cell_type": "code",
    "deepnote_to_be_reexecuted": false,
    "execution_millis": 735,
    "execution_start": 1645028293087,
    "source_hash": "9399dc6",
    "tags": []
   },
   "outputs": [],
   "source": [
    "from scipy.stats import truncnorm\n",
    "\n",
    "def get_truncated_normal(mean=3, sd=0.75, low=1, upp=11):\n",
    "    return truncnorm(\n",
    "        (low - mean) / sd, (upp - mean) / sd, loc=mean, scale=sd)\n",
    "\n",
    "X = get_truncated_normal()\n",
    "\n",
    "dstats_tot['rate_1m'] = [int(x) for x in X.rvs(len(dstats_tot))]"
   ]
  },
  {
   "cell_type": "code",
   "execution_count": 22,
   "metadata": {
    "cell_id": "a42b7248-06b4-454f-946a-564c76094ba7",
    "deepnote_cell_height": 189,
    "deepnote_cell_type": "code",
    "deepnote_to_be_reexecuted": false,
    "execution_millis": 0,
    "execution_start": 1645028297986,
    "source_hash": "7768cfc0",
    "tags": []
   },
   "outputs": [],
   "source": [
    "import numpy as np\n",
    "\n",
    "mu, sigma = 20, 4 # mean and standard deviation\n",
    "s = np.random.normal(mu, sigma, len(dstats_tot))\n",
    "avg_speed = np.round(s,2)\n",
    "avg_speed\n",
    "dstats_tot['avg_speed'] = avg_speed"
   ]
  },
  {
   "cell_type": "markdown",
   "metadata": {
    "cell_id": "1ba7fae2-ef01-46a6-ba18-f4de87faaa1c",
    "deepnote_cell_height": 62,
    "deepnote_cell_type": "markdown",
    "tags": []
   },
   "source": [
    "### Adding changes - Stats Update Frequency"
   ]
  },
  {
   "cell_type": "code",
   "execution_count": 23,
   "metadata": {
    "cell_id": "d082e41d-bae4-46b1-9a1c-affab45d23e3",
    "deepnote_cell_height": 135,
    "deepnote_cell_type": "code",
    "deepnote_to_be_reexecuted": false,
    "execution_millis": 21,
    "execution_start": 1645028303211,
    "source_hash": "974118e8",
    "tags": []
   },
   "outputs": [],
   "source": [
    "dstats_tot = dstats_tot.reset_index()\n",
    "cond = (dstats_tot['event_timestamp'].dt.day==11) & (dstats_tot['event_timestamp'].dt.month==2) & ((dstats_tot['event_timestamp'].dt.hour%2)!=0)\n",
    "df2 = dstats_tot.loc[cond]\n",
    "dstats_tot = dstats_tot[~dstats_tot.isin(df2)].dropna()"
   ]
  },
  {
   "cell_type": "markdown",
   "metadata": {
    "cell_id": "1e033143-b572-4101-a57b-44762746a9bd",
    "deepnote_cell_height": 122.78125,
    "deepnote_cell_type": "markdown",
    "deepnote_to_be_reexecuted": false,
    "execution_millis": 1,
    "execution_start": 1644849312421,
    "source_hash": "d4b6560f",
    "tags": []
   },
   "source": [
    "### Adding changes - Rate_1m\n",
    "\n",
    "We're assuming that this change in customer's behaviour would not change the mean of the distribution, but would have an increased standard deviation, making the rates be more spreaded, increasing the frequency of extreme ratings (positive or negative)."
   ]
  },
  {
   "cell_type": "code",
   "execution_count": 24,
   "metadata": {
    "cell_id": "0db74771-a49e-4327-bbea-992e6478ae65",
    "deepnote_cell_height": 189,
    "deepnote_cell_type": "code",
    "deepnote_to_be_reexecuted": false,
    "execution_millis": 0,
    "execution_start": 1645028311961,
    "source_hash": "8b53504a",
    "tags": []
   },
   "outputs": [],
   "source": [
    "import numpy as np\n",
    "cond = (dstats_tot['event_timestamp'].dt.day==14) & (dstats_tot['event_timestamp'].dt.month==2)\n",
    "size = len(dstats_tot.loc[cond])\n",
    "\n",
    "X = get_truncated_normal(mean=3, sd=2, low=1, upp=11)\n",
    "rate_1m = [int(x) for x in X.rvs(size)]\n",
    "dstats_tot.loc[cond, 'rate_1m'] = rate_1m"
   ]
  },
  {
   "cell_type": "code",
   "execution_count": 25,
   "metadata": {
    "cell_id": "922542d2-8b37-4016-9c7e-08153f2df0fc",
    "deepnote_cell_height": 189,
    "deepnote_cell_type": "code",
    "deepnote_to_be_reexecuted": false,
    "execution_millis": 6,
    "execution_start": 1645028316780,
    "source_hash": "3765392e",
    "tags": []
   },
   "outputs": [],
   "source": [
    "import numpy as np\n",
    "cond = (dstats_tot['event_timestamp'].dt.day==15) & (dstats_tot['event_timestamp'].dt.month==2)\n",
    "size = len(dstats_tot.loc[cond])\n",
    "\n",
    "X = get_truncated_normal(mean=3, sd=3, low=1, upp=11)\n",
    "rate_1m = [int(x) for x in X.rvs(size)]\n",
    "dstats_tot.loc[cond, 'rate_1m'] = rate_1m"
   ]
  },
  {
   "cell_type": "code",
   "execution_count": 26,
   "metadata": {
    "cell_id": "d5585a50-342f-4b21-8586-515e9444939d",
    "deepnote_cell_height": 189,
    "deepnote_cell_type": "code",
    "deepnote_to_be_reexecuted": false,
    "execution_millis": 3,
    "execution_start": 1645028320674,
    "source_hash": "47a3fc77",
    "tags": []
   },
   "outputs": [],
   "source": [
    "import numpy as np\n",
    "cond = (dstats_tot['event_timestamp'].dt.day==16) & (dstats_tot['event_timestamp'].dt.month==2)\n",
    "size = len(dstats_tot.loc[cond])\n",
    "\n",
    "X = get_truncated_normal(mean=3, sd=4, low=1, upp=11)\n",
    "rate_1m = [int(x) for x in X.rvs(size)]\n",
    "dstats_tot.loc[cond, 'rate_1m'] = rate_1m"
   ]
  },
  {
   "cell_type": "markdown",
   "metadata": {
    "cell_id": "cec3a4d7-6a01-4e2f-a74b-f05564cd47ab",
    "deepnote_cell_height": 62,
    "deepnote_cell_type": "markdown",
    "deepnote_to_be_reexecuted": false,
    "execution_millis": 1,
    "execution_start": 1644849464186,
    "source_hash": "f50be616",
    "tags": []
   },
   "source": [
    "### Adding Changes - Avg Daily Trips"
   ]
  },
  {
   "cell_type": "code",
   "execution_count": 27,
   "metadata": {
    "cell_id": "1a3ef184-bd7f-49f2-8a13-568fc87c2180",
    "deepnote_cell_height": 243,
    "deepnote_cell_type": "code",
    "deepnote_to_be_reexecuted": false,
    "execution_millis": 3,
    "execution_start": 1645028324212,
    "source_hash": "465c95fb",
    "tags": []
   },
   "outputs": [],
   "source": [
    "cond = (dstats_tot['event_timestamp'].dt.day==14) & (dstats_tot['event_timestamp'].dt.month==2)\n",
    "size = len(dstats_tot.loc[cond])\n",
    "\n",
    "mu, sigma = 24, 6 # mean and standard deviation\n",
    "s = np.random.normal(mu, sigma, size)\n",
    "daily_trips = np.round(s)\n",
    "daily_trips = [int(x) if x>0 else 0 for x in daily_trips]\n",
    "# daily_trips\n",
    "\n",
    "dstats_tot.loc[cond, 'avg_daily_trips'] = daily_trips"
   ]
  },
  {
   "cell_type": "code",
   "execution_count": 28,
   "metadata": {
    "cell_id": "2f7e0dc6-5ced-43ef-9e1d-36b3ca33e2f6",
    "deepnote_cell_height": 243,
    "deepnote_cell_type": "code",
    "deepnote_to_be_reexecuted": false,
    "execution_millis": 8,
    "execution_start": 1645028326717,
    "source_hash": "18b54ce6",
    "tags": []
   },
   "outputs": [],
   "source": [
    "cond = (dstats_tot['event_timestamp'].dt.day==15) & (dstats_tot['event_timestamp'].dt.month==2)\n",
    "size = len(dstats_tot.loc[cond])\n",
    "\n",
    "mu, sigma = 12, 6 # mean and standard deviation\n",
    "s = np.random.normal(mu, sigma, size)\n",
    "daily_trips = np.round(s)\n",
    "daily_trips = [int(x) if x>0 else 0 for x in daily_trips]\n",
    "# daily_trips\n",
    "\n",
    "dstats_tot.loc[cond, 'avg_daily_trips'] = daily_trips"
   ]
  },
  {
   "cell_type": "code",
   "execution_count": 29,
   "metadata": {
    "cell_id": "029bca72-3427-4a72-bee5-dfd37bfc7a00",
    "deepnote_cell_height": 243,
    "deepnote_cell_type": "code",
    "deepnote_to_be_reexecuted": false,
    "execution_millis": 7,
    "execution_start": 1645028329180,
    "source_hash": "7071f367",
    "tags": []
   },
   "outputs": [],
   "source": [
    "cond = (dstats_tot['event_timestamp'].dt.day==16) & (dstats_tot['event_timestamp'].dt.month==2)\n",
    "size = len(dstats_tot.loc[cond])\n",
    "\n",
    "mu, sigma = 3, 6 # mean and standard deviation\n",
    "s = np.random.normal(mu, sigma, size)\n",
    "daily_trips = np.round(s)\n",
    "daily_trips = [int(x) if x>0 else 0 for x in daily_trips]\n",
    "# daily_trips\n",
    "\n",
    "dstats_tot.loc[cond, 'avg_daily_trips'] = daily_trips"
   ]
  },
  {
   "cell_type": "code",
   "execution_count": 30,
   "metadata": {
    "cell_id": "fcf49813-4cd4-4bc5-8d5f-e8a97f9e3ec7",
    "deepnote_cell_height": 99,
    "deepnote_cell_type": "code",
    "deepnote_to_be_reexecuted": false,
    "execution_millis": 294,
    "execution_start": 1645028342957,
    "source_hash": "4b6dc89f",
    "tags": []
   },
   "outputs": [],
   "source": [
    "dstats_tot = dstats_tot.astype({'driver_id': 'int64','avg_daily_trips':'int64','rate_1m':'int64'})\n",
    "dstats_tot.to_parquet(\"driver_stats.parquet\")"
   ]
  },
  {
   "cell_type": "markdown",
   "metadata": {
    "cell_id": "531b2db8-7b5c-49f4-a3b3-b992f18d9f98",
    "deepnote_cell_height": 70,
    "deepnote_cell_type": "markdown",
    "tags": []
   },
   "source": [
    "## Rides Dataset"
   ]
  },
  {
   "cell_type": "markdown",
   "metadata": {
    "cell_id": "c35dc825-45b6-44b3-acee-adf869239cc9",
    "deepnote_cell_height": 147.5625,
    "deepnote_cell_type": "markdown",
    "tags": []
   },
   "source": [
    "The `nyc_taxi_rides_feb_2020.parquet` was extracted from [the TLC trip record data](https://www1.nyc.gov/site/tlc/about/tlc-trip-record-data.page). We randomly sampled the data and selected a few chosen features, in order to reduce the dataset for this demonstration.\n",
    "\n",
    "In addition, one features was created: The day of the week, based from `tpep_pickup_datetime`.\n",
    "\n",
    "The original features are described in this [data dictionary](https://www1.nyc.gov/assets/tlc/downloads/pdf/data_dictionary_trip_records_yellow.pdf)."
   ]
  },
  {
   "cell_type": "code",
   "execution_count": 8,
   "metadata": {
    "cell_id": "f4b5c6d0-9001-4bc2-b252-e7b2e1270a9c",
    "deepnote_cell_height": 117,
    "deepnote_cell_type": "code",
    "deepnote_to_be_reexecuted": false,
    "execution_millis": 0,
    "execution_start": 1645029314962,
    "source_hash": "5691d52d",
    "tags": []
   },
   "outputs": [],
   "source": [
    "import pandas as pd\n",
    "\n",
    "df_final = pd.read_parquet(\"https://whylabs-public.s3.us-west-2.amazonaws.com/whylogs_examples/nyc_taxi_rides_feb_2020.parquet\")"
   ]
  },
  {
   "cell_type": "markdown",
   "metadata": {
    "cell_id": "99bd1579-1114-49af-9af1-d45b7564521e",
    "deepnote_cell_height": 62,
    "deepnote_cell_type": "markdown",
    "tags": []
   },
   "source": [
    "### Reducing Passenger Count"
   ]
  },
  {
   "cell_type": "code",
   "execution_count": 9,
   "metadata": {
    "cell_id": "f735d71c-91ea-4df5-93db-058dcb22274f",
    "deepnote_cell_height": 207,
    "deepnote_cell_type": "code",
    "deepnote_to_be_reexecuted": false,
    "execution_millis": 17,
    "execution_start": 1645029322856,
    "source_hash": "71a0b501",
    "tags": []
   },
   "outputs": [],
   "source": [
    "cond = (df_final['tpep_pickup_datetime'].dt.day==14) & (df_final['tpep_pickup_datetime'].dt.month==2)\n",
    "df_final.loc[cond, 'passenger_count'] = df_final[cond]['passenger_count'].apply(lambda x: x-1 if x>1 else 1)\n",
    "\n",
    "cond = (df_final['tpep_pickup_datetime'].dt.day==15) & (df_final['tpep_pickup_datetime'].dt.month==2)\n",
    "df_final.loc[cond, 'passenger_count'] = df_final[cond]['passenger_count'].apply(lambda x: x-2 if x-2>0 else 1)\n",
    "\n",
    "cond = (df_final['tpep_pickup_datetime'].dt.day==16) & (df_final['tpep_pickup_datetime'].dt.month==2)\n",
    "df_final.loc[cond, 'passenger_count'] = df_final[cond]['passenger_count'].apply(lambda x: x-3 if x-3>0 else 1)"
   ]
  },
  {
   "cell_type": "code",
   "execution_count": 10,
   "metadata": {
    "cell_id": "d1a9ae6d-e621-4314-a749-03a33eca0126",
    "deepnote_cell_height": 81,
    "deepnote_cell_type": "code",
    "deepnote_to_be_reexecuted": false,
    "execution_millis": 10,
    "execution_start": 1645029337656,
    "source_hash": "c6aecf25",
    "tags": []
   },
   "outputs": [],
   "source": [
    "df_final.to_parquet(\"nyc_taxi_rides_feb_2020_changed.parquet\")"
   ]
  },
  {
   "cell_type": "markdown",
   "metadata": {
    "created_in_deepnote_cell": true,
    "deepnote_cell_type": "markdown",
    "tags": []
   },
   "source": [
    "<a style='text-decoration:none;line-height:16px;display:flex;color:#5B5B62;padding:10px;justify-content:end;' href='https://deepnote.com?utm_source=created-in-deepnote-cell&projectId=00e43ad4-9473-4fa9-be6f-62af4ce1f0de' target=\"_blank\">\n",
    "<img alt='Created in deepnote.com' style='display:inline;max-height:16px;margin:0px;margin-right:7.5px;' src='data:image/svg+xml;base64,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' > </img>\n",
    "Created in <span style='font-weight:600;margin-left:4px;'>Deepnote</span></a>"
   ]
  }
 ],
 "metadata": {
  "deepnote": {
   "is_reactive": false
  },
  "deepnote_execution_queue": [],
  "deepnote_notebook_id": "6e2d27d1-2ead-4876-a7d8-b9bb4ed36dda",
  "interpreter": {
   "hash": "916dbcbb3f70747c44a77c7bcd40155683ae19c65e1c03b4aa3499c5328201f1"
  },
  "kernelspec": {
   "display_name": "Python 3.8.10 64-bit",
   "language": "python",
   "name": "python3"
  },
  "language_info": {
   "codemirror_mode": {
    "name": "ipython",
    "version": 3
   },
   "file_extension": ".py",
   "mimetype": "text/x-python",
   "name": "python",
   "nbconvert_exporter": "python",
   "pygments_lexer": "ipython3",
   "version": "3.8.12"
  },
  "orig_nbformat": 2
 },
 "nbformat": 4,
 "nbformat_minor": 2
}
