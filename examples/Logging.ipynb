{
 "cells": [
  {
   "cell_type": "code",
   "execution_count": null,
   "source": [
    "import os.path\n",
    "import pandas as pd"
   ],
   "outputs": [],
   "metadata": {}
  },
  {
   "cell_type": "markdown",
   "source": [
    "In this notebook, we will explore how to generate logs using the whylogs Python library. \n",
    "\n",
    "The resulting profile can also be produced from the command line interface. The workflow to work with these files, along with deeper analysis and visualization examples, can be found in the `Analysis.ipynb` that is generated with `whylabs init`.\n",
    "\n",
    "# Generating logs from whylogs Python library\n",
    "\n",
    "To generate logs using Python, we will import the whylogs library, initialize a logging session with whylogs, read in our raw data from file, and pass this data to our session.\n",
    "\n",
    "First, import the relevant session and logger functions."
   ],
   "metadata": {}
  },
  {
   "cell_type": "code",
   "execution_count": null,
   "source": [
    "from whylogs import get_or_create_session"
   ],
   "outputs": [],
   "metadata": {}
  },
  {
   "cell_type": "code",
   "execution_count": null,
   "source": [
    "session = get_or_create_session()"
   ],
   "outputs": [],
   "metadata": {}
  },
  {
   "cell_type": "markdown",
   "source": [
    "We will now download an example dataset from Lending Club, an online financial lending platform. The dataset is located in the package's `notebooks/` folder for now.\n",
    "\n",
    "Feel free to use the below cell to orient yourself and guide `data_file` to the correct filepath."
   ],
   "metadata": {}
  },
  {
   "cell_type": "code",
   "execution_count": null,
   "source": [
    "print(\"Current working directory:\", os.getcwd())"
   ],
   "outputs": [],
   "metadata": {}
  },
  {
   "cell_type": "code",
   "execution_count": null,
   "source": [],
   "outputs": [],
   "metadata": {}
  },
  {
   "cell_type": "code",
   "execution_count": null,
   "source": [
    "data_file = \"data/lending_club_1000.csv\""
   ],
   "outputs": [],
   "metadata": {
    "scrolled": true
   }
  },
  {
   "cell_type": "code",
   "execution_count": null,
   "source": [
    "data = pd.read_csv(os.path.join(data_file))\n",
    "data"
   ],
   "outputs": [],
   "metadata": {
    "scrolled": true
   }
  },
  {
   "cell_type": "markdown",
   "source": [
    "We should see a Pandas dataframe containing the 1000 rows of our Lending Club data sample.\n",
    "\n",
    "Now that we have the raw data, we can pass it into the whylogs logger. It is often useful to pass a string label such as \"demo.data\" along with the dataset for future reference.\n",
    "\n",
    "The `log_dataframe` function will profile the given dataset using the whylogs library. When we capture the logger response, we can interact with the generated profiles."
   ],
   "metadata": {}
  },
  {
   "cell_type": "code",
   "execution_count": null,
   "source": [
    "profile = session.log_dataframe(data, 'test.data')\n",
    "print(profile)"
   ],
   "outputs": [],
   "metadata": {}
  },
  {
   "cell_type": "markdown",
   "source": [
    "The flat summary, histograms, and frequency information can be found inside this summary object. \n",
    "\n",
    "For more information about the contents of these objects, consult the `Analysis.ipynb` notebook."
   ],
   "metadata": {}
  },
  {
   "cell_type": "code",
   "execution_count": null,
   "source": [
    "summary = profile.flat_summary()\n",
    "flat_summary = summary['summary']\n",
    "flat_summary"
   ],
   "outputs": [],
   "metadata": {}
  },
  {
   "cell_type": "code",
   "execution_count": null,
   "source": [
    "print(flat_summary[\"column\"].unique())"
   ],
   "outputs": [],
   "metadata": {}
  },
  {
   "cell_type": "code",
   "execution_count": null,
   "source": [
    "histograms = summary['hist']\n",
    "histograms[\"delinq_amnt\"]"
   ],
   "outputs": [],
   "metadata": {}
  },
  {
   "cell_type": "code",
   "execution_count": null,
   "source": [
    "frequencies = summary['frequent_strings']\n",
    "frequent_strings = [key for key in frequencies.keys()]\n",
    "print(frequent_strings)\n",
    "frequencies[frequent_strings[0]]"
   ],
   "outputs": [],
   "metadata": {}
  },
  {
   "cell_type": "markdown",
   "source": [
    "## Additional options for our whylogs session\n",
    "We chose the most simple configuration above, but there are a number of convenient options that can be set.\n",
    "\n",
    "**Cloud storage:** You may set the an AWS S3 bucket to have these logs automatically pushed to the cloud. You must have valid AWS configuration settings to be able to do so.\n",
    "\n",
    "**Binary file:** By default, we produce a binary file that contains raw objects used to summarize the data passed in. Navigating this file is beyond the scope of this notebook, however. This is listed under the *output_protobuf* option.\n",
    "\n",
    "**Flat and JSON summaries:** By default, we produce a flat summary in the CSV format along with histogram and frequency summaries in the JSON format.\n",
    "\n",
    "You can see these configuration options and others paired with the session in the `session.config` object."
   ],
   "metadata": {}
  },
  {
   "cell_type": "code",
   "execution_count": null,
   "source": [],
   "outputs": [],
   "metadata": {}
  },
  {
   "cell_type": "markdown",
   "source": [
    "## Display and resetting the session\n",
    "\n",
    "There is also a convenience function to send the internal Python logs to stdout."
   ],
   "metadata": {}
  },
  {
   "cell_type": "code",
   "execution_count": null,
   "source": [
    "from whylogs.logs import display_logging\n",
    "display_logging('debug')"
   ],
   "outputs": [],
   "metadata": {}
  },
  {
   "cell_type": "markdown",
   "source": [
    "When you are done with your session, run the `reset_session` function."
   ],
   "metadata": {}
  },
  {
   "cell_type": "code",
   "execution_count": null,
   "source": [
    "from whylogs.app.session import reset_default_session\n",
    "reset_default_session()"
   ],
   "outputs": [],
   "metadata": {}
  },
  {
   "cell_type": "code",
   "execution_count": null,
   "source": [],
   "outputs": [],
   "metadata": {}
  }
 ],
 "metadata": {
  "kernelspec": {
   "name": "python3",
   "display_name": "Python 3.8.10 64-bit"
  },
  "language_info": {
   "codemirror_mode": {
    "name": "ipython",
    "version": 3
   },
   "file_extension": ".py",
   "mimetype": "text/x-python",
   "name": "python",
   "nbconvert_exporter": "python",
   "pygments_lexer": "ipython3",
   "version": "3.8.10"
  },
  "interpreter": {
   "hash": "916dbcbb3f70747c44a77c7bcd40155683ae19c65e1c03b4aa3499c5328201f1"
  }
 },
 "nbformat": 4,
 "nbformat_minor": 4
}