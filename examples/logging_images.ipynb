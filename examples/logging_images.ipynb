{
 "cells": [
  {
   "cell_type": "markdown",
   "metadata": {},
   "source": [
    "## Using WhyLogs to Profile Images\n",
    "---"
   ]
  },
  {
   "cell_type": "markdown",
   "metadata": {},
   "source": [
    "This notebook provides an example how you can use whylogs to profile unstructure data like images."
   ]
  },
  {
   "cell_type": "code",
   "execution_count": null,
   "metadata": {},
   "outputs": [],
   "source": [
    "from PIL import Image\n",
    "import numpy as np\n",
    "import os\n",
    "from matplotlib.pyplot import imshow\n",
    "import matplotlib.pyplot as plt\n",
    "%matplotlib inline\n",
    "%load_ext autoreload\n",
    "%autoreload 2\n",
    "import seaborn as sns"
   ]
  },
  {
   "cell_type": "code",
   "execution_count": null,
   "metadata": {
    "scrolled": false
   },
   "outputs": [],
   "source": [
    "with open(\"../testdata/images/flower2.jpg\",\"rb\") as img_f:\n",
    "    img= Image.open(img_f)\n",
    "    imshow(np.asarray(img))\n",
    "    w,h = img.size\n",
    "    total_num_pixels= w*h\n",
    "    print(\"withd :\\t{}\\nheight:\\t{}\\nnumber of pixels:{}\".format(w,h,total_num_pixels))"
   ]
  },
  {
   "cell_type": "markdown",
   "metadata": {},
   "source": [
    "We can create logger and create a profile sketch of the image data"
   ]
  },
  {
   "cell_type": "code",
   "execution_count": null,
   "metadata": {},
   "outputs": [],
   "source": [
    "from whylogs import get_or_create_session\n",
    "_session=None\n",
    "session = get_or_create_session()\n",
    "logger=session.logger(\"image_dataset2\")\n",
    "logger.log_image(os.path.join(\n",
    "    \"..\",\"testdata\", \"images\", \"flower2.jpg\"))\n",
    "profile=logger.profile\n",
    "\n"
   ]
  },
  {
   "cell_type": "markdown",
   "metadata": {},
   "source": [
    "You can obtain the histogram sketch of image data features. e.g Saturation below"
   ]
  },
  {
   "cell_type": "code",
   "execution_count": null,
   "metadata": {},
   "outputs": [],
   "source": [
    "imageProfiles = profile.flat_summary()[\"hist\"]\n",
    "print(imageProfiles[\"Saturation\"])"
   ]
  },
  {
   "cell_type": "markdown",
   "metadata": {},
   "source": [
    "Along with all the metadata collected from the image"
   ]
  },
  {
   "cell_type": "code",
   "execution_count": null,
   "metadata": {},
   "outputs": [],
   "source": [
    "print(profile.flat_summary()[\"summary\"][\"column\"].values)"
   ]
  },
  {
   "cell_type": "markdown",
   "metadata": {},
   "source": [
    "## Custom Functions\n",
    "---\n"
   ]
  },
  {
   "cell_type": "markdown",
   "metadata": {},
   "source": [
    "One can also create custom functions to profile image specific features. E.g. Two example below demostrate get the average of image pixels per column, while the second function simple allow you to create a distribution sketch of the blue values. Also ComposeTransforms functions allow you mix and match functions to create new features to monitor."
   ]
  },
  {
   "cell_type": "code",
   "execution_count": null,
   "metadata": {},
   "outputs": [],
   "source": [
    "class AvgValue:\n",
    "    \n",
    "    def __call__(self, x):\n",
    "        return np.mean(np.array(x)).reshape(-1,1)\n",
    "    def __repr__(self,):\n",
    "        return self.__class__.__name__\n",
    "    \n",
    "mylamdda =(lambda x: np.mean(x,axis=1).reshape(-1,1))"
   ]
  },
  {
   "cell_type": "code",
   "execution_count": null,
   "metadata": {},
   "outputs": [],
   "source": [
    "class MyBlue:\n",
    "    def __call__(self, x):\n",
    "        _,_,b= x.split()\n",
    "        return np.array(b).reshape(-1,1)\n",
    "    def __repr__(self,):\n",
    "        return self.__class__.__name__"
   ]
  },
  {
   "cell_type": "code",
   "execution_count": null,
   "metadata": {
    "scrolled": true
   },
   "outputs": [],
   "source": [
    "from whylogs.features.transforms import ComposeTransforms, Brightness,Saturation\n",
    "_session=None\n",
    "session=None\n",
    "session = get_or_create_session()\n",
    "logger2=session.logger(\"image_dataset_custom_functions\")\n",
    "\n",
    "logger2.log_image(os.path.join(\n",
    "    \"..\",\"testdata\", \"images\", \"flower2.jpg\"),\n",
    "                 feature_transforms = [ AvgValue(), MyBlue(), ComposeTransforms([MyBlue(),AvgValue()])])\n",
    "\n",
    "profile2=logger2.profile\n",
    "\n",
    "print(profile2.flat_summary()[\"summary\"][\"column\"].values)"
   ]
  },
  {
   "cell_type": "markdown",
   "metadata": {},
   "source": [
    "## Check histograms "
   ]
  },
  {
   "cell_type": "markdown",
   "metadata": {},
   "source": [
    "We can obtain the idenvidual histograms for the features  "
   ]
  },
  {
   "cell_type": "code",
   "execution_count": null,
   "metadata": {},
   "outputs": [],
   "source": [
    "minnpf = np.frompyfunc(lambda x, y: min(x,y), 2, 1)\n",
    "maxnpf = np.frompyfunc(lambda x, y: max(x,y), 2, 1)\n",
    "\n",
    "\n",
    "def get_custom_histogram_info(profiles, variable, n_bins):\n",
    "    summaries = [profile.flat_summary()[\"summary\"] for profile in profiles]\n",
    "    min_range= minnpf.accumulate([ summary[summary[\"column\"]==variable][\"min\"].values[0] for summary in summaries], dtype=np.object).astype(np.int)\n",
    "    max_range= maxnpf.accumulate([ summary[summary[\"column\"]==variable][\"max\"].values[0] for summary in summaries], dtype=np.object).astype(np.int)\n",
    "    \n",
    "    bins = np.linspace(int(min_range), int(max_range), int((max_range-min_range)/n_bins))\n",
    "\n",
    "    counts= [ profile.columns[variable].number_tracker.histogram.get_pmf(bins[:-1]) for profile in profiles]\n",
    "    return bins, counts\n",
    "\n",
    "\n",
    "def plot_distribution_shift(profiles, variable, n_bins):\n",
    "    \"\"\"Visualization for distribution shift\"\"\"\n",
    "    \n",
    "    bins, counts = get_custom_histogram_info(profiles, variable, n_bins)\n",
    "\n",
    "    fig, ax = plt.subplots(figsize=(10, 3))\n",
    "    for idx, profile in enumerate(profiles):\n",
    "        sns.histplot(x=bins, weights=counts[idx], bins=n_bins, \n",
    "                 label=profile.name, alpha=0.7, ax=ax)\n",
    "   \n",
    "    ax.legend()\n",
    "    plt.show()\n"
   ]
  },
  {
   "cell_type": "code",
   "execution_count": null,
   "metadata": {},
   "outputs": [],
   "source": [
    "plot_distribution_shift([profile2],\"MyBlue\",10)"
   ]
  },
  {
   "cell_type": "code",
   "execution_count": null,
   "metadata": {},
   "outputs": [],
   "source": [
    "plot_distribution_shift([profile],\"Saturation\",10)"
   ]
  }
 ],
 "metadata": {
  "kernelspec": {
   "display_name": "Python 3",
   "language": "python",
   "name": "python3"
  },
  "language_info": {
   "codemirror_mode": {
    "name": "ipython",
    "version": 3
   },
   "file_extension": ".py",
   "mimetype": "text/x-python",
   "name": "python",
   "nbconvert_exporter": "python",
   "pygments_lexer": "ipython3",
   "version": "3.8.5"
  }
 },
 "nbformat": 4,
 "nbformat_minor": 4
}
