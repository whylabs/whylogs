{
 "cells": [
  {
   "cell_type": "markdown",
   "metadata": {},
   "source": [
    "# Flask + WhyLabs"
   ]
  },
  {
   "cell_type": "code",
   "execution_count": 3,
   "metadata": {
    "tags": []
   },
   "outputs": [],
   "source": [
    "import os\n",
    "import json\n",
    "import pandas as pd\n",
    "import requests\n",
    "from joblib import dump\n",
    "from sklearn.svm import SVC\n",
    "from sklearn.model_selection import train_test_split\n",
    "import boto3"
   ]
  },
  {
   "cell_type": "markdown",
   "metadata": {
    "tags": []
   },
   "source": [
    "## Download Iris dataset"
   ]
  },
  {
   "cell_type": "code",
   "execution_count": 4,
   "metadata": {},
   "outputs": [
    {
     "name": "stdout",
     "output_type": "stream",
     "text": [
      "Downloading iris.zip to /Users/nicolasroldan/Documents/Whylabs/whylogs/examples/flask_sklearn_example/dataset\n",
      "  0%|                                               | 0.00/3.60k [00:00<?, ?B/s]\n",
      "100%|██████████████████████████████████████| 3.60k/3.60k [00:00<00:00, 3.25MB/s]\n",
      "Archive:  iris.zip\n",
      "  inflating: Iris.csv                \n",
      "  inflating: database.sqlite         \n"
     ]
    }
   ],
   "source": [
    "!chmod +x download_iris.sh && ./download_iris.sh"
   ]
  },
  {
   "cell_type": "markdown",
   "metadata": {
    "tags": []
   },
   "source": [
    "## Train data"
   ]
  },
  {
   "cell_type": "code",
   "execution_count": 5,
   "metadata": {},
   "outputs": [],
   "source": [
    "data = pd.read_csv('dataset/iris.csv')\n",
    "# Separating the independent variables from dependent variables\n",
    "X = data.drop(['Id', 'Species'], axis=1)\n",
    "y = data['Species']\n",
    "x_train, x_test, y_train, y_test = train_test_split(X, y, test_size=0.30)"
   ]
  },
  {
   "cell_type": "code",
   "execution_count": 6,
   "metadata": {},
   "outputs": [
    {
     "name": "stdout",
     "output_type": "stream",
     "text": [
      "Train started...\n",
      "Train ended...\n",
      "Model saved!\n"
     ]
    }
   ],
   "source": [
    "# Train a classifier\n",
    "print(\"Train started...\")\n",
    "model = SVC()\n",
    "model.fit(x_train, y_train)\n",
    "print(\"Train ended...\")\n",
    "# Save the model\n",
    "dump(model, 'model.joblib')\n",
    "print(\"Model saved!\")"
   ]
  },
  {
   "cell_type": "markdown",
   "metadata": {},
   "source": [
    "## Build the docker image"
   ]
  },
  {
   "cell_type": "code",
   "execution_count": 7,
   "metadata": {
    "tags": []
   },
   "outputs": [
    {
     "name": "stderr",
     "output_type": "stream",
     "text": [
      "#1 [internal] load build definition from Dockerfile\n",
      "#1 sha256:19597448eff4e431b9abfc8eb6df5923418ca2189ce33186b9cc279606d28efc\n",
      "#1 transferring dockerfile: 37B 0.0s done\n",
      "#1 DONE 0.0s\n",
      "\n",
      "#2 [internal] load .dockerignore\n",
      "#2 sha256:488ad9013deeecd5adebcb7e5d4826802845c9f4c1af418025397e50cf6f3533\n",
      "#2 transferring context: 34B done\n",
      "#2 DONE 0.0s\n",
      "\n",
      "#3 [internal] load metadata for docker.io/library/python:3.7\n",
      "#3 sha256:2e83735093f2e645c7660e349795ae80186113afc054af8bdc7501e99da12131\n",
      "#3 ...\n",
      "\n",
      "#4 [auth] library/python:pull token for registry-1.docker.io\n",
      "#4 sha256:906525567757b2b899147cc232c7565d048dab4b8be8181e1aa4a8c6f6f428f2\n",
      "#4 DONE 0.0s\n",
      "\n",
      "#3 [internal] load metadata for docker.io/library/python:3.7\n",
      "#3 sha256:2e83735093f2e645c7660e349795ae80186113afc054af8bdc7501e99da12131\n",
      "#3 DONE 1.7s\n",
      "\n",
      "#5 [1/6] FROM docker.io/library/python:3.7@sha256:2f8af5fa73dd59a8d3b65fe56273bdd5ab9a991bc92ebf434960183e22d6b91a\n",
      "#5 sha256:dfa2226fef6538e7b83826fbcb1d1db44561108fab944ef5abeb5eb619b92757\n",
      "#5 DONE 0.0s\n",
      "\n",
      "#8 [internal] load build context\n",
      "#8 sha256:faddd797c5b699731a95635160b3a8971aa0f94575824e17141a25c1fc321a8c\n",
      "#8 transferring context: 15.56kB done\n",
      "#8 DONE 0.0s\n",
      "\n",
      "#9 [4/6] COPY requirements.txt .\n",
      "#9 sha256:c47d64dd8072f6ace181f38c02d6851a85bc8477e17fad3e6bbaf7a4e5cdc664\n",
      "#9 CACHED\n",
      "\n",
      "#6 [2/6] RUN mkdir /app\n",
      "#6 sha256:2c72e24390016215e23c6e68c3b0314beb37db601040d6f0cd6ac4a9ae87f711\n",
      "#6 CACHED\n",
      "\n",
      "#7 [3/6] WORKDIR /app\n",
      "#7 sha256:244ef6d8ff6043a7b6a55ed240f0ceb2387f1c5d9e7522703ce887a315d81bed\n",
      "#7 CACHED\n",
      "\n",
      "#10 [5/6] RUN pip install --no-cache-dir -r requirements.txt\n",
      "#10 sha256:b20fc8c92941192e5e8f6a3d6aa02dbf243cad024ce0005b6524510ca2b76c29\n",
      "#10 CACHED\n",
      "\n",
      "#11 [6/6] COPY ./ /app\n",
      "#11 sha256:37384dedc2aef03d49731973d50417a473a1901190c2d4f251d7da4469bd0f3f\n",
      "#11 DONE 0.0s\n",
      "\n",
      "#12 exporting to image\n",
      "#12 sha256:e8c613e07b0b7ff33893b694f7759a10d42e180f2b4dc349fb57dc6b71dcab00\n",
      "#12 exporting layers 0.0s done\n",
      "#12 writing image sha256:f2a74df63759e4d50b5a9c6c19b72f400082eabb6d0c9f75c411ca40f439fbed done\n",
      "#12 naming to docker.io/library/whylabs-flask done\n",
      "#12 DONE 0.0s\n"
     ]
    },
    {
     "data": {
      "text/plain": [
       "0"
      ]
     },
     "execution_count": 7,
     "metadata": {},
     "output_type": "execute_result"
    }
   ],
   "source": [
    "os.system(\"docker build --build-arg PYTHON_VERSION=3.7 -t whylabs-flask .\")"
   ]
  },
  {
   "cell_type": "markdown",
   "metadata": {
    "tags": []
   },
   "source": [
    "## Run the container to serve the API"
   ]
  },
  {
   "cell_type": "markdown",
   "metadata": {},
   "source": [
    "Open a terminal and execute the following command:\n",
    "\n",
    "```bash\n",
    "docker run --rm -p 5000:5000 whylabs-flask\n",
    "```"
   ]
  },
  {
   "cell_type": "markdown",
   "metadata": {
    "tags": []
   },
   "source": [
    "## Test endpoint"
   ]
  },
  {
   "cell_type": "markdown",
   "metadata": {},
   "source": [
    "- Go to http://0.0.0.0:5000/apidocs/\n",
    "- Open /predict endpoint green tab.\n",
    "- Click Try it out.\n",
    "- Click Execute green button.\n",
    "- Check the response and code, if 200, the API is working!"
   ]
  },
  {
   "cell_type": "markdown",
   "metadata": {},
   "source": [
    "## Check the readme.md"
   ]
  }
 ],
 "metadata": {
  "kernelspec": {
   "display_name": "Python 3",
   "language": "python",
   "name": "python3"
  },
  "language_info": {
   "codemirror_mode": {
    "name": "ipython",
    "version": 3
   },
   "file_extension": ".py",
   "mimetype": "text/x-python",
   "name": "python",
   "nbconvert_exporter": "python",
   "pygments_lexer": "ipython3",
   "version": "3.8.5"
  }
 },
 "nbformat": 4,
 "nbformat_minor": 5
}
