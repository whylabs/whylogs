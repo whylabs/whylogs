{
 "cells": [
  {
   "cell_type": "markdown",
   "id": "610f2a13-c173-4c91-aa23-158fa76d5200",
   "metadata": {},
   "source": [
    "# Amazon SageMaker + WhyLabs"
   ]
  },
  {
   "cell_type": "code",
   "execution_count": 19,
   "id": "0b42460f-c9bb-4380-aca7-8fe01cbcd28b",
   "metadata": {},
   "outputs": [],
   "source": [
    "import os\n",
    "import json\n",
    "import pandas as pd\n",
    "from joblib import dump\n",
    "from sklearn.svm import SVC\n",
    "from sklearn.model_selection import train_test_split\n",
    "import boto3\n",
    "from dotenv import dotenv_values\n",
    "from utils import delete_model, delete_endpoint_config, delete_endpoint, is_endpoint_running"
   ]
  },
  {
   "cell_type": "markdown",
   "id": "71922af9-d88b-400a-8456-6f29a31cf419",
   "metadata": {
    "tags": []
   },
   "source": [
    "## AWS configuration"
   ]
  },
  {
   "cell_type": "code",
   "execution_count": 6,
   "id": "3c28ce56-5f73-45e1-bb38-7b08e6e7cb8f",
   "metadata": {},
   "outputs": [],
   "source": [
    "AWS_PROFILE_NAME = \"mfa\"\n",
    "session = boto3.session.Session(profile_name=AWS_PROFILE_NAME)\n",
    "AWS_REGION_NAME = session.region_name"
   ]
  },
  {
   "cell_type": "code",
   "execution_count": 7,
   "id": "c49b8614-fcdf-4a5e-ace1-2991c91e6931",
   "metadata": {},
   "outputs": [],
   "source": [
    "sts = session.client(\"sts\")\n",
    "sm = session.client('sagemaker', region_name=AWS_REGION_NAME)\n",
    "AWS_ACCOUNT_ID = sts.get_caller_identity().get(\"Account\")\n",
    "DOCKER_IMAGE_NAME = \"whylabs-sagemaker\""
   ]
  },
  {
   "cell_type": "markdown",
   "id": "552f76f7-ce43-49e8-9f7c-d10b4da31574",
   "metadata": {
    "tags": []
   },
   "source": [
    "## Download Iris dataset"
   ]
  },
  {
   "cell_type": "code",
   "execution_count": 18,
   "id": "de6110ca-2947-4ba5-a78d-e21ae3fcff1e",
   "metadata": {},
   "outputs": [
    {
     "name": "stdout",
     "output_type": "stream",
     "text": [
      "Downloading iris.zip to /Users/nicolasroldan/Documents/Whylabs/whylogs/examples/sagemaker_sklearn_example/code/dataset\n",
      "  0%|                                               | 0.00/3.60k [00:00<?, ?B/s]\n",
      "100%|██████████████████████████████████████| 3.60k/3.60k [00:00<00:00, 3.02MB/s]\n",
      "Archive:  iris.zip\n",
      "  inflating: Iris.csv                \n",
      "  inflating: database.sqlite         \n"
     ]
    }
   ],
   "source": [
    "!cd code/ && chmod +x download_iris.sh && ./download_iris.sh"
   ]
  },
  {
   "cell_type": "markdown",
   "id": "5d1ebade-c373-411d-8589-adf5ac368f68",
   "metadata": {
    "tags": []
   },
   "source": [
    "## Train data"
   ]
  },
  {
   "cell_type": "code",
   "execution_count": 21,
   "id": "7b60b4bb-677c-4f02-8417-7ec3f9b89d70",
   "metadata": {},
   "outputs": [],
   "source": [
    "data = pd.read_csv('code/dataset/iris.csv')\n",
    "# Separating the independent variables from dependent variables\n",
    "X = data.drop(['Id', 'Species'], axis=1)\n",
    "y = data['Species']\n",
    "x_train, x_test, y_train, y_test = train_test_split(X, y, test_size=0.30)"
   ]
  },
  {
   "cell_type": "code",
   "execution_count": 23,
   "id": "ff372c7d-8698-4c77-8275-a2116cc93823",
   "metadata": {},
   "outputs": [
    {
     "name": "stdout",
     "output_type": "stream",
     "text": [
      "Train started...\n",
      "Train ended...\n",
      "Model saved!\n"
     ]
    }
   ],
   "source": [
    "# Train a classifier\n",
    "print(\"Train started...\")\n",
    "model = SVC()\n",
    "model.fit(x_train, y_train)\n",
    "print(\"Train ended...\")\n",
    "# Save the model\n",
    "dump(model, 'code/model.joblib')\n",
    "print(\"Model saved!\")"
   ]
  },
  {
   "cell_type": "markdown",
   "id": "707e1738-3050-4231-af04-89e39bca1fad",
   "metadata": {
    "tags": []
   },
   "source": [
    "## Custom image building and pushing to ECR"
   ]
  },
  {
   "cell_type": "code",
   "execution_count": 27,
   "id": "75a4b507-8ae6-48d5-b736-d8e664cef679",
   "metadata": {},
   "outputs": [
    {
     "name": "stdout",
     "output_type": "stream",
     "text": [
      "Image name whylabs-sagemaker\n",
      "Profile name mfa\n",
      "{\n",
      "    \"repositories\": [\n",
      "        {\n",
      "            \"repositoryArn\": \"arn:aws:ecr:us-east-1:377983720232:repository/whylabs-sagemaker\",\n",
      "            \"registryId\": \"377983720232\",\n",
      "            \"repositoryName\": \"whylabs-sagemaker\",\n",
      "            \"repositoryUri\": \"377983720232.dkr.ecr.us-east-1.amazonaws.com/whylabs-sagemaker\",\n",
      "            \"createdAt\": \"2021-09-08T17:32:14-05:00\",\n",
      "            \"imageTagMutability\": \"MUTABLE\",\n",
      "            \"imageScanningConfiguration\": {\n",
      "                \"scanOnPush\": false\n",
      "            },\n",
      "            \"encryptionConfiguration\": {\n",
      "                \"encryptionType\": \"AES256\"\n",
      "            }\n",
      "        }\n",
      "    ]\n",
      "}\n",
      "Login Succeeded\n"
     ]
    },
    {
     "name": "stderr",
     "output_type": "stream",
     "text": [
      "#1 [internal] load build definition from Dockerfile\n",
      "#1 sha256:cc4c7e8f914b38f171550b8a1471ed97c5b57dd3a4393b87b077329d1f536d0f\n",
      "#1 transferring dockerfile: 37B 0.0s done\n",
      "#1 DONE 0.0s\n",
      "\n",
      "#2 [internal] load .dockerignore\n",
      "#2 sha256:099bd16ad98efdc6b980f0a99439bbdd3b15e6c185a04c4f90b86415e9800abc\n",
      "#2 transferring context: 34B done\n",
      "#2 DONE 0.0s\n",
      "\n",
      "#3 [internal] load metadata for docker.io/library/ubuntu:18.04\n",
      "#3 sha256:ae46bbb1b755529d0da663ca0256a22acd7c9fe21844946c149800baa67c4e4b\n",
      "#3 ...\n",
      "\n",
      "#4 [auth] library/ubuntu:pull token for registry-1.docker.io\n",
      "#4 sha256:47b3f140945da5d6f0fc00cd51298a2b1bcaf71fd5a4d2d073f7a30acee4664b\n",
      "#4 DONE 0.0s\n",
      "\n",
      "#3 [internal] load metadata for docker.io/library/ubuntu:18.04\n",
      "#3 sha256:ae46bbb1b755529d0da663ca0256a22acd7c9fe21844946c149800baa67c4e4b\n",
      "#3 DONE 1.6s\n",
      "\n",
      "#5 [ 1/11] FROM docker.io/library/ubuntu:18.04@sha256:9bc830af2bef73276515a29aa896eedfa7bdf4bdbc5c1063b4c457a4bbb8cd79\n",
      "#5 sha256:d1750e31869fe5a60e2fad31896f5d8b06a6c26d3a20b7f5836401e641279689\n",
      "#5 DONE 0.0s\n",
      "\n",
      "#8 [internal] load build context\n",
      "#8 sha256:9e90b51284a6b6d839056941334a8d6e28829f1b6335f6e103fdcac1d8632149\n",
      "#8 transferring context: 31.66kB done\n",
      "#8 DONE 0.0s\n",
      "\n",
      "#6 [ 2/11] RUN apt-get update &&     apt-get -y upgrade &&     apt-get -y install --no-install-recommends         build-essential         curl         git         jq         libatlas-base-dev         python         python3-pip         nginx         openjdk-8-jdk-headless         unzip         wget         ca-certificates         libssl-dev libffi-dev         python3-setuptools         python3-dev     && rm -rf /var/lib/apt/lists/*\n",
      "#6 sha256:0ab5272c27e25ac9dc37c8aa604492357877b43b8f589cdc16f7f5a416ddcbe2\n",
      "#6 CACHED\n",
      "\n",
      "#7 [ 3/11] RUN pip3 install pip --upgrade\n",
      "#7 sha256:dd11d590a066a1d73ec9fba151e0baa7d733e7e0938a71ba7a2ff9b6b2af239f\n",
      "#7 CACHED\n",
      "\n",
      "#9 [ 4/11] COPY requirements.txt /requirements.txt\n",
      "#9 sha256:649d8e8b535dd5f7b76244c4dfaa552a923daebb01218a9964704b56347f0934\n",
      "#9 DONE 0.0s\n",
      "\n",
      "#10 [ 5/11] RUN pip3 install -r /requirements.txt &&     rm /requirements.txt\n",
      "#10 sha256:9c9538aa182d8e41af844a430abe5b04904896a36bedaaccd3669756136ad107\n",
      "#10 1.205 Ignoring pandas: markers 'python_version >= \"3.7\"' don't match your environment\n",
      "#10 1.581 Collecting scikit-learn==0.24.2\n",
      "#10 1.643   Downloading scikit_learn-0.24.2-cp36-cp36m-manylinux2010_x86_64.whl (22.2 MB)\n",
      "#10 4.447 Collecting Flask==2.0.1\n",
      "#10 4.455   Downloading Flask-2.0.1-py3-none-any.whl (94 kB)\n",
      "#10 4.512 Collecting gunicorn==20.1.0\n",
      "#10 4.525   Downloading gunicorn-20.1.0-py3-none-any.whl (79 kB)\n",
      "#10 4.821 Collecting gevent==21.8.0\n",
      "#10 4.830   Downloading gevent-21.8.0-cp36-cp36m-manylinux_2_12_x86_64.manylinux2010_x86_64.whl (5.6 MB)\n",
      "#10 5.597 Collecting whylogs==0.6.2\n",
      "#10 5.613   Downloading whylogs-0.6.2-py3-none-any.whl (2.1 MB)\n",
      "#10 5.874 Collecting python-dotenv==0.19.0\n",
      "#10 5.882   Downloading python_dotenv-0.19.0-py2.py3-none-any.whl (17 kB)\n",
      "#10 5.939 Collecting joblib==1.0.1\n",
      "#10 6.007   Downloading joblib-1.0.1-py3-none-any.whl (303 kB)\n",
      "#10 6.183 Collecting flask_cors==3.0.10\n",
      "#10 6.192   Downloading Flask_Cors-3.0.10-py2.py3-none-any.whl (14 kB)\n",
      "#10 6.339 Collecting pydantic==1.8.2\n",
      "#10 6.348   Downloading pydantic-1.8.2-cp36-cp36m-manylinux2014_x86_64.whl (10.2 MB)\n",
      "#10 7.634 Collecting Flask-Pydantic==0.8.0\n",
      "#10 7.643   Downloading Flask_Pydantic-0.8.0-py3-none-any.whl (9.3 kB)\n",
      "#10 8.229 Collecting boto3==1.18.38\n",
      "#10 8.244   Downloading boto3-1.18.38-py3-none-any.whl (131 kB)\n",
      "#10 8.520 Collecting jupyterlab==3.1.12\n",
      "#10 8.533   Downloading jupyterlab-3.1.12-py3-none-any.whl (8.5 MB)\n",
      "#10 9.528 Collecting threadpoolctl>=2.0.0\n",
      "#10 9.536   Downloading threadpoolctl-2.2.0-py3-none-any.whl (12 kB)\n",
      "#10 10.04 Collecting numpy>=1.13.3\n",
      "#10 10.05   Downloading numpy-1.19.5-cp36-cp36m-manylinux2010_x86_64.whl (14.8 MB)\n",
      "#10 11.98 Collecting scipy>=0.19.1\n",
      "#10 12.74   Downloading scipy-1.5.4-cp36-cp36m-manylinux1_x86_64.whl (25.9 MB)\n",
      "#10 15.68 Collecting Werkzeug>=2.0\n",
      "#10 15.70   Downloading Werkzeug-2.0.1-py3-none-any.whl (288 kB)\n",
      "#10 15.77 Collecting click>=7.1.2\n",
      "#10 15.78   Downloading click-8.0.1-py3-none-any.whl (97 kB)\n",
      "#10 15.82 Collecting itsdangerous>=2.0\n",
      "#10 15.84   Downloading itsdangerous-2.0.1-py3-none-any.whl (18 kB)\n",
      "#10 15.88 Collecting Jinja2>=3.0\n",
      "#10 15.95   Downloading Jinja2-3.0.1-py3-none-any.whl (133 kB)\n",
      "#10 15.98 Requirement already satisfied: setuptools>=3.0 in /usr/lib/python3/dist-packages (from gunicorn==20.1.0->-r /requirements.txt (line 3)) (39.0.1)\n",
      "#10 16.16 Collecting greenlet<2.0,>=1.1.0\n",
      "#10 16.28   Downloading greenlet-1.1.1-cp36-cp36m-manylinux_2_17_x86_64.manylinux2014_x86_64.whl (140 kB)\n",
      "#10 16.33 Collecting zope.event\n",
      "#10 16.33   Downloading zope.event-4.5.0-py2.py3-none-any.whl (6.8 kB)\n",
      "#10 16.61 Collecting zope.interface\n",
      "#10 16.62   Downloading zope.interface-5.4.0-cp36-cp36m-manylinux2010_x86_64.whl (251 kB)\n",
      "#10 16.96 Collecting pandas>=1.0.0\n",
      "#10 16.99   Downloading pandas-1.1.5-cp36-cp36m-manylinux1_x86_64.whl (9.5 MB)\n",
      "#10 18.60 Collecting botocore>=1.17.44\n",
      "#10 18.62   Downloading botocore-1.21.42-py3-none-any.whl (7.9 MB)\n",
      "#10 19.48 Collecting xlrd<3.0.0,>=2.0.1\n",
      "#10 19.49   Downloading xlrd-2.0.1-py2.py3-none-any.whl (96 kB)\n",
      "#10 19.62 Collecting whylabs-datasketches>=2.2.0b1\n",
      "#10 19.64   Downloading whylabs_datasketches-2.2.0b1-cp36-cp36m-manylinux2010_x86_64.whl (410 kB)\n",
      "#10 19.81 Collecting tqdm<5.0.0,>=4.60.0\n",
      "#10 19.82   Downloading tqdm-4.62.2-py2.py3-none-any.whl (76 kB)\n",
      "#10 20.12 Collecting matplotlib<4.0.0,>=3.0.3\n",
      "#10 20.14   Downloading matplotlib-3.3.4-cp36-cp36m-manylinux1_x86_64.whl (11.5 MB)\n",
      "#10 21.51 Collecting pyyaml>=5.3.1\n",
      "#10 21.52   Downloading PyYAML-5.4.1-cp36-cp36m-manylinux1_x86_64.whl (640 kB)\n",
      "#10 21.71 Collecting smart-open>=4.1.2\n",
      "#10 21.72   Downloading smart_open-5.2.1-py3-none-any.whl (58 kB)\n",
      "#10 21.84 Collecting whylabs-client\n",
      "#10 21.85   Downloading whylabs_client-0.1-py3-none-any.whl (118 kB)\n",
      "#10 21.90 Collecting python-dateutil>=2.8.1\n",
      "#10 21.91   Downloading python_dateutil-2.8.2-py2.py3-none-any.whl (247 kB)\n",
      "#10 22.08 Collecting mlflow<1.14,>=1.13\n",
      "#10 22.09   Downloading mlflow-1.13.1-py3-none-any.whl (14.1 MB)\n",
      "#10 23.78 Collecting puremagic\n",
      "#10 23.79   Downloading puremagic-1.10-py3-none-any.whl (31 kB)\n",
      "#10 24.00 Collecting marshmallow>=3.7.1\n",
      "#10 24.01   Downloading marshmallow-3.13.0-py2.py3-none-any.whl (47 kB)\n",
      "#10 24.07 Collecting openpyxl<4.0.0,>=3.0.7\n",
      "#10 24.09   Downloading openpyxl-3.0.8-py2.py3-none-any.whl (244 kB)\n",
      "#10 24.43 Collecting protobuf>=3.15.5\n",
      "#10 24.46   Downloading protobuf-3.18.0-cp36-cp36m-manylinux_2_17_x86_64.manylinux2014_x86_64.whl (1.1 MB)\n",
      "#10 24.64 Collecting Six\n",
      "#10 24.65   Downloading six-1.16.0-py2.py3-none-any.whl (11 kB)\n",
      "#10 24.69 Collecting dataclasses>=0.6\n",
      "#10 24.70   Downloading dataclasses-0.8-py3-none-any.whl (19 kB)\n",
      "#10 24.76 Collecting typing-extensions>=3.7.4.3\n",
      "#10 24.77   Downloading typing_extensions-3.10.0.2-py3-none-any.whl (26 kB)\n",
      "#10 24.93 Collecting jmespath<1.0.0,>=0.7.1\n",
      "#10 24.94   Downloading jmespath-0.10.0-py2.py3-none-any.whl (24 kB)\n",
      "#10 24.97 Collecting s3transfer<0.6.0,>=0.5.0\n",
      "#10 24.99   Downloading s3transfer-0.5.0-py3-none-any.whl (79 kB)\n",
      "#10 25.14 Collecting tornado>=6.1.0\n",
      "#10 25.15   Downloading tornado-6.1-cp36-cp36m-manylinux2010_x86_64.whl (427 kB)\n",
      "#10 25.30 Collecting jupyterlab-server~=2.3\n",
      "#10 25.31   Downloading jupyterlab_server-2.8.1-py3-none-any.whl (58 kB)\n",
      "#10 25.35 Collecting nbclassic~=0.2\n",
      "#10 25.36   Downloading nbclassic-0.3.1-py3-none-any.whl (18 kB)\n",
      "#10 25.42 Collecting packaging\n",
      "#10 25.43   Downloading packaging-21.0-py3-none-any.whl (40 kB)\n",
      "#10 25.52 Collecting jupyter-server~=1.4\n",
      "#10 25.52   Downloading jupyter_server-1.11.0-py3-none-any.whl (393 kB)\n",
      "#10 25.72 Collecting ipython\n",
      "#10 25.73   Downloading ipython-7.16.1-py3-none-any.whl (785 kB)\n",
      "#10 25.88 Collecting jupyter-core\n",
      "#10 25.89   Downloading jupyter_core-4.7.1-py3-none-any.whl (82 kB)\n",
      "#10 25.97 Collecting urllib3<1.27,>=1.25.4\n",
      "#10 25.97   Downloading urllib3-1.26.6-py2.py3-none-any.whl (138 kB)\n",
      "#10 26.08 Collecting importlib-metadata\n",
      "#10 26.09   Downloading importlib_metadata-4.8.1-py3-none-any.whl (17 kB)\n",
      "#10 26.21 Collecting MarkupSafe>=2.0\n",
      "#10 26.23   Downloading MarkupSafe-2.0.1-cp36-cp36m-manylinux_2_5_x86_64.manylinux1_x86_64.manylinux_2_12_x86_64.manylinux2010_x86_64.whl (30 kB)\n",
      "#10 26.30 Collecting terminado>=0.8.3\n",
      "#10 26.31   Downloading terminado-0.12.1-py3-none-any.whl (15 kB)\n",
      "#10 26.36 Collecting jupyter-client>=6.1.1\n",
      "#10 26.37   Downloading jupyter_client-7.0.2-py3-none-any.whl (122 kB)\n",
      "#10 26.42 Collecting anyio<4,>=3.1.0\n",
      "#10 26.43   Downloading anyio-3.3.1-py3-none-any.whl (77 kB)\n",
      "#10 26.47 Collecting ipython-genutils\n",
      "#10 26.48   Downloading ipython_genutils-0.2.0-py2.py3-none-any.whl (26 kB)\n",
      "#10 26.52 Collecting traitlets>=4.2.1\n",
      "#10 26.54   Downloading traitlets-4.3.3-py2.py3-none-any.whl (75 kB)\n",
      "#10 26.58 Collecting nbformat\n",
      "#10 26.58   Downloading nbformat-5.1.3-py3-none-any.whl (178 kB)\n",
      "#10 26.65 Collecting prometheus-client\n",
      "#10 26.66   Downloading prometheus_client-0.11.0-py2.py3-none-any.whl (56 kB)\n",
      "#10 26.72 Collecting nbconvert\n",
      "#10 26.73   Downloading nbconvert-6.0.7-py3-none-any.whl (552 kB)\n",
      "#10 26.86 Collecting argon2-cffi\n",
      "#10 26.87   Downloading argon2_cffi-21.1.0-cp35-abi3-manylinux_2_5_x86_64.manylinux1_x86_64.whl (96 kB)\n",
      "#10 26.93 Collecting websocket-client\n",
      "#10 26.94   Downloading websocket_client-1.2.1-py2.py3-none-any.whl (52 kB)\n",
      "#10 26.97 Collecting Send2Trash\n",
      "#10 26.98   Downloading Send2Trash-1.8.0-py3-none-any.whl (18 kB)\n",
      "#10 27.01 Collecting requests-unixsocket\n",
      "#10 27.02   Downloading requests_unixsocket-0.2.0-py2.py3-none-any.whl (11 kB)\n",
      "#10 27.37 Collecting pyzmq>=17\n",
      "#10 27.53   Downloading pyzmq-22.3.0-cp36-cp36m-manylinux_2_5_x86_64.manylinux1_x86_64.whl (1.1 MB)\n",
      "#10 27.71 Collecting sniffio>=1.1\n",
      "#10 27.72   Downloading sniffio-1.2.0-py3-none-any.whl (10 kB)\n",
      "#10 27.75 Collecting idna>=2.8\n",
      "#10 27.76   Downloading idna-3.2-py3-none-any.whl (59 kB)\n",
      "#10 27.87 Collecting entrypoints\n",
      "#10 27.89   Downloading entrypoints-0.3-py2.py3-none-any.whl (11 kB)\n",
      "#10 27.94 Collecting nest-asyncio>=1.5\n",
      "#10 27.95   Downloading nest_asyncio-1.5.1-py3-none-any.whl (5.0 kB)\n",
      "#10 28.03 Collecting json5\n",
      "#10 28.04   Downloading json5-0.9.6-py2.py3-none-any.whl (18 kB)\n",
      "#10 28.13 Collecting requests\n",
      "#10 28.14   Downloading requests-2.26.0-py2.py3-none-any.whl (62 kB)\n",
      "#10 28.18 Collecting babel\n",
      "#10 28.19   Downloading Babel-2.9.1-py2.py3-none-any.whl (8.8 MB)\n",
      "#10 29.24 Collecting jsonschema>=3.0.1\n",
      "#10 29.25   Downloading jsonschema-3.2.0-py2.py3-none-any.whl (56 kB)\n",
      "#10 29.34 Collecting pyrsistent>=0.14.0\n",
      "#10 29.35   Downloading pyrsistent-0.18.0-cp36-cp36m-manylinux1_x86_64.whl (117 kB)\n",
      "#10 29.40 Collecting attrs>=17.4.0\n",
      "#10 29.41   Downloading attrs-21.2.0-py2.py3-none-any.whl (53 kB)\n",
      "#10 29.57 Collecting pyparsing!=2.0.4,!=2.1.2,!=2.1.6,>=2.0.3\n",
      "#10 29.58   Downloading pyparsing-2.4.7-py2.py3-none-any.whl (67 kB)\n",
      "#10 29.66 Collecting kiwisolver>=1.0.1\n",
      "#10 29.68   Downloading kiwisolver-1.3.1-cp36-cp36m-manylinux1_x86_64.whl (1.1 MB)\n",
      "#10 30.29 Collecting pillow>=6.2.0\n",
      "#10 30.30   Downloading Pillow-8.3.2-cp36-cp36m-manylinux_2_17_x86_64.manylinux2014_x86_64.whl (3.0 MB)\n",
      "#10 30.67 Collecting cycler>=0.10\n",
      "#10 30.67   Downloading cycler-0.10.0-py2.py3-none-any.whl (6.5 kB)\n",
      "#10 30.80 Collecting gitpython>=2.1.0\n",
      "#10 30.81   Downloading GitPython-3.1.18-py3-none-any.whl (170 kB)\n",
      "#10 30.94 Collecting querystring-parser\n",
      "#10 30.95   Downloading querystring_parser-1.2.4-py2.py3-none-any.whl (7.9 kB)\n",
      "#10 31.00 Collecting docker>=4.0.0\n",
      "#10 31.01   Downloading docker-5.0.2-py2.py3-none-any.whl (145 kB)\n",
      "#10 31.17 Collecting prometheus-flask-exporter\n",
      "#10 31.29   Downloading prometheus_flask_exporter-0.18.2.tar.gz (22 kB)\n",
      "#10 31.72 Collecting cloudpickle\n",
      "#10 31.73   Downloading cloudpickle-2.0.0-py3-none-any.whl (25 kB)\n",
      "#10 31.77 Collecting azure-storage-blob>=12.0.0\n",
      "#10 31.78   Downloading azure_storage_blob-12.8.1-py2.py3-none-any.whl (345 kB)\n",
      "#10 31.88 Collecting sqlparse>=0.3.1\n",
      "#10 31.89   Downloading sqlparse-0.4.2-py3-none-any.whl (42 kB)\n",
      "#10 31.93 Collecting databricks-cli>=0.8.7\n",
      "#10 31.94   Downloading databricks-cli-0.15.0.tar.gz (56 kB)\n",
      "#10 32.25 Collecting alembic<=1.4.1\n",
      "#10 32.26   Downloading alembic-1.4.1.tar.gz (1.1 MB)\n",
      "#10 33.18 Collecting sqlalchemy\n",
      "#10 33.20   Downloading SQLAlchemy-1.4.23-cp36-cp36m-manylinux_2_5_x86_64.manylinux1_x86_64.manylinux_2_17_x86_64.manylinux2014_x86_64.whl (1.5 MB)\n",
      "#10 33.41 Collecting Mako\n",
      "#10 33.43   Downloading Mako-1.1.5-py2.py3-none-any.whl (75 kB)\n",
      "#10 33.48 Collecting python-editor>=0.3\n",
      "#10 33.49   Downloading python_editor-1.0.4-py3-none-any.whl (4.9 kB)\n",
      "#10 33.56 Collecting msrest>=0.6.18\n",
      "#10 33.57   Downloading msrest-0.6.21-py2.py3-none-any.whl (85 kB)\n",
      "#10 34.04 Collecting cryptography>=2.1.4\n",
      "#10 34.06   Downloading cryptography-3.4.8-cp36-abi3-manylinux_2_24_x86_64.whl (3.0 MB)\n",
      "#10 34.47 Collecting azure-core<2.0.0,>=1.10.0\n",
      "#10 34.48   Downloading azure_core-1.18.0-py2.py3-none-any.whl (166 kB)\n",
      "#10 34.77 Collecting cffi>=1.12\n",
      "#10 34.79   Downloading cffi-1.14.6-cp36-cp36m-manylinux1_x86_64.whl (401 kB)\n",
      "#10 34.88 Collecting pycparser\n",
      "#10 34.89   Downloading pycparser-2.20-py2.py3-none-any.whl (112 kB)\n",
      "#10 34.95 Collecting tabulate>=0.7.7\n",
      "#10 34.95   Downloading tabulate-0.8.9-py3-none-any.whl (25 kB)\n",
      "#10 35.03 Collecting gitdb<5,>=4.0.1\n",
      "#10 35.04   Downloading gitdb-4.0.7-py3-none-any.whl (63 kB)\n",
      "#10 35.17 Collecting smmap<5,>=3.0.1\n",
      "#10 35.19   Downloading smmap-4.0.0-py2.py3-none-any.whl (24 kB)\n",
      "#10 35.27 Collecting certifi>=2017.4.17\n",
      "#10 35.28   Downloading certifi-2021.5.30-py2.py3-none-any.whl (145 kB)\n",
      "#10 35.33 Collecting requests-oauthlib>=0.5.0\n",
      "#10 35.34   Downloading requests_oauthlib-1.3.0-py2.py3-none-any.whl (23 kB)\n",
      "#10 35.38 Collecting isodate>=0.6.0\n",
      "#10 35.39   Downloading isodate-0.6.0-py2.py3-none-any.whl (45 kB)\n",
      "#10 35.50 Collecting notebook<7\n",
      "#10 35.51   Downloading notebook-6.4.4-py3-none-any.whl (9.9 MB)\n",
      "#10 36.73 Collecting ipykernel\n",
      "#10 36.74   Downloading ipykernel-5.5.5-py3-none-any.whl (120 kB)\n",
      "#10 36.80 Collecting et-xmlfile\n",
      "#10 36.81   Downloading et_xmlfile-1.1.0-py3-none-any.whl (4.7 kB)\n",
      "#10 36.97 Collecting pytz>=2017.2\n",
      "#10 36.98   Downloading pytz-2021.1-py2.py3-none-any.whl (510 kB)\n",
      "#10 37.23 Collecting charset-normalizer~=2.0.0\n",
      "#10 37.25   Downloading charset_normalizer-2.0.5-py3-none-any.whl (37 kB)\n",
      "#10 37.33 Collecting oauthlib>=3.0.0\n",
      "#10 37.34   Downloading oauthlib-3.1.1-py2.py3-none-any.whl (146 kB)\n",
      "#10 37.63 Collecting contextvars>=2.1\n",
      "#10 37.63   Downloading contextvars-2.4.tar.gz (9.6 kB)\n",
      "#10 38.23 Collecting immutables>=0.9\n",
      "#10 38.24   Downloading immutables-0.16-cp36-cp36m-manylinux_2_5_x86_64.manylinux1_x86_64.whl (103 kB)\n",
      "#10 38.42 Collecting ptyprocess\n",
      "#10 38.43   Downloading ptyprocess-0.7.0-py2.py3-none-any.whl (13 kB)\n",
      "#10 38.56 Collecting decorator\n",
      "#10 38.57   Downloading decorator-5.1.0-py3-none-any.whl (9.1 kB)\n",
      "#10 38.87 Collecting zipp>=0.5\n",
      "#10 38.88   Downloading zipp-3.5.0-py3-none-any.whl (5.7 kB)\n",
      "#10 39.04 Collecting jedi>=0.10\n",
      "#10 39.05   Downloading jedi-0.18.0-py2.py3-none-any.whl (1.4 MB)\n",
      "#10 39.25 Collecting backcall\n",
      "#10 39.25   Downloading backcall-0.2.0-py2.py3-none-any.whl (11 kB)\n",
      "#10 39.28 Collecting pexpect\n",
      "#10 39.29   Downloading pexpect-4.8.0-py2.py3-none-any.whl (59 kB)\n",
      "#10 39.39 Collecting prompt-toolkit!=3.0.0,!=3.0.1,<3.1.0,>=2.0.0\n",
      "#10 39.40   Downloading prompt_toolkit-3.0.20-py3-none-any.whl (370 kB)\n",
      "#10 39.58 Collecting pygments\n",
      "#10 39.59   Downloading Pygments-2.10.0-py3-none-any.whl (1.0 MB)\n",
      "#10 39.72 Collecting pickleshare\n",
      "#10 39.73   Downloading pickleshare-0.7.5-py2.py3-none-any.whl (6.9 kB)\n",
      "#10 39.80 Collecting parso<0.9.0,>=0.8.0\n",
      "#10 39.81   Downloading parso-0.8.2-py2.py3-none-any.whl (94 kB)\n",
      "#10 39.90 Collecting wcwidth\n",
      "#10 39.91   Downloading wcwidth-0.2.5-py2.py3-none-any.whl (30 kB)\n",
      "#10 40.06 Collecting nbclient<0.6.0,>=0.5.0\n",
      "#10 40.07   Downloading nbclient-0.5.4-py3-none-any.whl (66 kB)\n",
      "#10 40.10 Collecting pandocfilters>=1.4.1\n",
      "#10 40.11   Downloading pandocfilters-1.5.0-py2.py3-none-any.whl (8.7 kB)\n",
      "#10 40.14 Collecting testpath\n",
      "#10 40.15   Downloading testpath-0.5.0-py3-none-any.whl (84 kB)\n",
      "#10 40.18 Collecting jupyterlab-pygments\n",
      "#10 40.19   Downloading jupyterlab_pygments-0.1.2-py2.py3-none-any.whl (4.6 kB)\n",
      "#10 40.24 Collecting mistune<2,>=0.8.1\n",
      "#10 40.25   Downloading mistune-0.8.4-py2.py3-none-any.whl (16 kB)\n",
      "#10 40.30 Collecting defusedxml\n",
      "#10 40.31   Downloading defusedxml-0.7.1-py2.py3-none-any.whl (25 kB)\n",
      "#10 40.36 Collecting bleach\n",
      "#10 40.37   Downloading bleach-4.1.0-py2.py3-none-any.whl (157 kB)\n",
      "#10 40.49 Collecting async-generator\n",
      "#10 40.50   Downloading async_generator-1.10-py3-none-any.whl (18 kB)\n",
      "#10 40.63 Collecting webencodings\n",
      "#10 40.64   Downloading webencodings-0.5.1-py2.py3-none-any.whl (11 kB)\n",
      "#10 40.85 Collecting argparse\n",
      "#10 40.86   Downloading argparse-1.4.0-py2.py3-none-any.whl (23 kB)\n",
      "#10 41.14 Using legacy 'setup.py install' for alembic, since package 'wheel' is not installed.\n",
      "#10 41.14 Using legacy 'setup.py install' for databricks-cli, since package 'wheel' is not installed.\n",
      "#10 41.14 Using legacy 'setup.py install' for contextvars, since package 'wheel' is not installed.\n",
      "#10 41.14 Using legacy 'setup.py install' for prometheus-flask-exporter, since package 'wheel' is not installed.\n",
      "#10 42.12 Installing collected packages: zipp, typing-extensions, Six, ipython-genutils, decorator, traitlets, pyrsistent, importlib-metadata, attrs, wcwidth, urllib3, tornado, pyzmq, python-dateutil, pyparsing, ptyprocess, parso, nest-asyncio, jupyter-core, jsonschema, immutables, idna, entrypoints, charset-normalizer, certifi, webencodings, requests, pygments, pycparser, prompt-toolkit, pickleshare, pexpect, packaging, oauthlib, nbformat, MarkupSafe, jupyter-client, jedi, dataclasses, contextvars, backcall, async-generator, Werkzeug, testpath, sniffio, smmap, requests-oauthlib, pandocfilters, nbclient, mistune, jupyterlab-pygments, jmespath, Jinja2, itsdangerous, isodate, ipython, greenlet, defusedxml, click, cffi, bleach, websocket-client, terminado, tabulate, sqlalchemy, Send2Trash, requests-unixsocket, pytz, python-editor, prometheus-client, numpy, nbconvert, msrest, Mako, ipykernel, gitdb, Flask, cryptography, botocore, azure-core, argon2-cffi, anyio, threadpoolctl, sqlparse, scipy, s3transfer, querystring-parser, pyyaml, protobuf, prometheus-flask-exporter, pillow, pandas, notebook, kiwisolver, jupyter-server, json5, joblib, gunicorn, gitpython, et-xmlfile, docker, databricks-cli, cycler, cloudpickle, babel, azure-storage-blob, argparse, alembic, zope.interface, zope.event, xlrd, whylabs-datasketches, whylabs-client, tqdm, smart-open, scikit-learn, pydantic, puremagic, openpyxl, nbclassic, mlflow, matplotlib, marshmallow, jupyterlab-server, boto3, whylogs, python-dotenv, jupyterlab, gevent, Flask-Pydantic, flask-cors\n",
      "#10 45.28     Running setup.py install for contextvars: started\n",
      "#10 45.57     Running setup.py install for contextvars: finished with status 'done'\n",
      "#10 54.73     Running setup.py install for prometheus-flask-exporter: started\n",
      "#10 55.02     Running setup.py install for prometheus-flask-exporter: finished with status 'done'\n",
      "#10 59.58     Running setup.py install for databricks-cli: started\n",
      "#10 59.89     Running setup.py install for databricks-cli: finished with status 'done'\n",
      "#10 60.71     Running setup.py install for alembic: started\n",
      "#10 61.08     Running setup.py install for alembic: finished with status 'done'\n",
      "#10 68.82 Successfully installed Flask-2.0.1 Flask-Pydantic-0.8.0 Jinja2-3.0.1 Mako-1.1.5 MarkupSafe-2.0.1 Send2Trash-1.8.0 Six-1.16.0 Werkzeug-2.0.1 alembic-1.4.1 anyio-3.3.1 argon2-cffi-21.1.0 argparse-1.4.0 async-generator-1.10 attrs-21.2.0 azure-core-1.18.0 azure-storage-blob-12.8.1 babel-2.9.1 backcall-0.2.0 bleach-4.1.0 boto3-1.18.38 botocore-1.21.42 certifi-2021.5.30 cffi-1.14.6 charset-normalizer-2.0.5 click-8.0.1 cloudpickle-2.0.0 contextvars-2.4 cryptography-3.4.8 cycler-0.10.0 databricks-cli-0.15.0 dataclasses-0.8 decorator-5.1.0 defusedxml-0.7.1 docker-5.0.2 entrypoints-0.3 et-xmlfile-1.1.0 flask-cors-3.0.10 gevent-21.8.0 gitdb-4.0.7 gitpython-3.1.18 greenlet-1.1.1 gunicorn-20.1.0 idna-3.2 immutables-0.16 importlib-metadata-4.8.1 ipykernel-5.5.5 ipython-7.16.1 ipython-genutils-0.2.0 isodate-0.6.0 itsdangerous-2.0.1 jedi-0.18.0 jmespath-0.10.0 joblib-1.0.1 json5-0.9.6 jsonschema-3.2.0 jupyter-client-7.0.2 jupyter-core-4.7.1 jupyter-server-1.11.0 jupyterlab-3.1.12 jupyterlab-pygments-0.1.2 jupyterlab-server-2.8.1 kiwisolver-1.3.1 marshmallow-3.13.0 matplotlib-3.3.4 mistune-0.8.4 mlflow-1.13.1 msrest-0.6.21 nbclassic-0.3.1 nbclient-0.5.4 nbconvert-6.0.7 nbformat-5.1.3 nest-asyncio-1.5.1 notebook-6.4.4 numpy-1.19.5 oauthlib-3.1.1 openpyxl-3.0.8 packaging-21.0 pandas-1.1.5 pandocfilters-1.5.0 parso-0.8.2 pexpect-4.8.0 pickleshare-0.7.5 pillow-8.3.2 prometheus-client-0.11.0 prometheus-flask-exporter-0.18.2 prompt-toolkit-3.0.20 protobuf-3.18.0 ptyprocess-0.7.0 puremagic-1.10 pycparser-2.20 pydantic-1.8.2 pygments-2.10.0 pyparsing-2.4.7 pyrsistent-0.18.0 python-dateutil-2.8.2 python-dotenv-0.19.0 python-editor-1.0.4 pytz-2021.1 pyyaml-5.4.1 pyzmq-22.3.0 querystring-parser-1.2.4 requests-2.26.0 requests-oauthlib-1.3.0 requests-unixsocket-0.2.0 s3transfer-0.5.0 scikit-learn-0.24.2 scipy-1.5.4 smart-open-5.2.1 smmap-4.0.0 sniffio-1.2.0 sqlalchemy-1.4.23 sqlparse-0.4.2 tabulate-0.8.9 terminado-0.12.1 testpath-0.5.0 threadpoolctl-2.2.0 tornado-6.1 tqdm-4.62.2 traitlets-4.3.3 typing-extensions-3.10.0.2 urllib3-1.26.6 wcwidth-0.2.5 webencodings-0.5.1 websocket-client-1.2.1 whylabs-client-0.1 whylabs-datasketches-2.2.0b1 whylogs-0.6.2 xlrd-2.0.1 zipp-3.5.0 zope.event-4.5.0 zope.interface-5.4.0\n",
      "#10 68.82 WARNING: Running pip as the 'root' user can result in broken permissions and conflicting behaviour with the system package manager. It is recommended to use a virtual environment instead: https://pip.pypa.io/warnings/venv\n",
      "#10 DONE 70.5s\n",
      "\n",
      "#11 [ 6/11] RUN mkdir -p /opt/ml/models\n",
      "#11 sha256:91a9f2d2f5de53b685e9259d1f6f634a2e837898677a8d0e0144fafc7d5af7c2\n",
      "#11 DONE 0.4s\n",
      "\n",
      "#12 [ 7/11] RUN chmod +rwx /opt/ml/models\n",
      "#12 sha256:e7be9f67a48e98c4331ad2adac40deef90159272f1bcdf452aa28619a9e226e1\n",
      "#12 DONE 0.2s\n",
      "\n",
      "#13 [ 8/11] RUN ln -sf /dev/stdout /var/log/nginx/access.log\n",
      "#13 sha256:dcf9a79a791d2aeea4b8a9d4ee3907a23a8349c51a19c76323552aefa2bc9def\n",
      "#13 DONE 0.3s\n",
      "\n",
      "#14 [ 9/11] RUN ln -sf /dev/stderr /var/log/nginx/error.log\n",
      "#14 sha256:931758f87aa99b6c4710a09110f710b5312fc7fb400875a5aa20725c56cb1508\n",
      "#14 DONE 0.3s\n",
      "\n",
      "#15 [10/11] COPY code /opt/program\n",
      "#15 sha256:ef605c74355feaf92a5d836249e6908c72712a9c453ea3e2446a473dc2a749a2\n",
      "#15 DONE 0.0s\n",
      "\n",
      "#16 [11/11] WORKDIR /opt/program\n",
      "#16 sha256:dbcc828cfc82493790cb627cec1d25f913be30b0cea72a2fb00d3260313d4681\n",
      "#16 DONE 0.0s\n",
      "\n",
      "#17 exporting to image\n",
      "#17 sha256:e8c613e07b0b7ff33893b694f7759a10d42e180f2b4dc349fb57dc6b71dcab00\n",
      "#17 exporting layers\n",
      "#17 exporting layers 7.1s done\n",
      "#17 writing image sha256:666b11a971e01677f76e598b03d5929379b8718feec6b7231a20871d805ed7e6 done\n",
      "#17 naming to docker.io/library/whylabs-sagemaker done\n",
      "#17 DONE 7.1s\n"
     ]
    },
    {
     "name": "stdout",
     "output_type": "stream",
     "text": [
      "The push refers to repository [377983720232.dkr.ecr.us-east-1.amazonaws.com/whylabs-sagemaker]\n",
      "5f70bf18a086: Preparing\n",
      "4d451d2c4725: Preparing\n",
      "71766944aaf8: Preparing\n",
      "69960a2b0055: Preparing\n",
      "eb2a7046ea56: Preparing\n",
      "fbee2ef86e65: Preparing\n",
      "8cc0a0dc03b0: Preparing\n",
      "5a8d62feae95: Preparing\n",
      "d20859943999: Preparing\n",
      "cb8615e15e41: Preparing\n",
      "6babb56be259: Preparing\n",
      "cb8615e15e41: Waiting\n",
      "6babb56be259: Waiting\n",
      "d20859943999: Waiting\n",
      "8cc0a0dc03b0: Waiting\n",
      "5a8d62feae95: Waiting\n",
      "fbee2ef86e65: Waiting\n",
      "5f70bf18a086: Layer already exists\n",
      "69960a2b0055: Pushed\n",
      "71766944aaf8: Pushed\n",
      "eb2a7046ea56: Pushed\n",
      "4d451d2c4725: Pushed\n",
      "d20859943999: Layer already exists\n",
      "fbee2ef86e65: Pushed\n",
      "cb8615e15e41: Layer already exists\n",
      "6babb56be259: Layer already exists\n",
      "5a8d62feae95: Pushed\n",
      "8cc0a0dc03b0: Pushed\n",
      "latest: digest: sha256:89393ee182b462861c32a95b32c10ff805d38afc5e29971faa6e58cfbfe47c4d size: 2616\n"
     ]
    },
    {
     "data": {
      "text/plain": [
       "0"
      ]
     },
     "execution_count": 27,
     "metadata": {},
     "output_type": "execute_result"
    }
   ],
   "source": [
    "os.system(f\"./build_push.sh {DOCKER_IMAGE_NAME} {AWS_PROFILE_NAME}\")"
   ]
  },
  {
   "cell_type": "markdown",
   "id": "3a99df86-6ae2-4fc5-b77b-4ce8866fcb9c",
   "metadata": {
    "tags": []
   },
   "source": [
    "## Create SageMaker Endpoint"
   ]
  },
  {
   "cell_type": "markdown",
   "id": "745649ba-3397-4f69-aa47-9b59497a5322",
   "metadata": {},
   "source": [
    "The steps to deploy a SageMaker model are:\n",
    "\n",
    "1. Create a model\n",
    "2. Create an endpoint configuration\n",
    "3. Create a SageMaker endpoint"
   ]
  },
  {
   "cell_type": "markdown",
   "id": "42cb7666-53c6-43c8-b0b0-5b4d07092987",
   "metadata": {
    "tags": []
   },
   "source": [
    "### 1. Model Creation"
   ]
  },
  {
   "cell_type": "code",
   "execution_count": 28,
   "id": "83887aea-7fc1-42de-bb15-d18cd6857a0a",
   "metadata": {},
   "outputs": [],
   "source": [
    "ECR_IMAGE_URI = f\"{AWS_ACCOUNT_ID}.dkr.ecr.{AWS_REGION_NAME}.amazonaws.com/{DOCKER_IMAGE_NAME}:latest\"\n",
    "ENDPOINT_NAME = \"whylabs-sagemaker\"\n",
    "EXECUTION_ROLE_ARN = f\"arn:aws:iam::{AWS_ACCOUNT_ID}:role/SageMakerExecution\"\n",
    "INSTANCE_TYPE = \"ml.m4.xlarge\""
   ]
  },
  {
   "cell_type": "markdown",
   "id": "165d64e8-fa09-4cee-afb4-b08e9b8dd2d6",
   "metadata": {},
   "source": [
    "Load variables important for __WhyLabs configuration__ defined inside __.env file__ as dictionary. This values will be settled once the docker container is running within SageMaker."
   ]
  },
  {
   "cell_type": "code",
   "execution_count": 29,
   "id": "92a61e0e-ae0a-42d2-82ac-4f4f9954ff65",
   "metadata": {},
   "outputs": [],
   "source": [
    "# Load .env file as dictionary\n",
    "environment = dotenv_values(\"code/.env\")"
   ]
  },
  {
   "cell_type": "code",
   "execution_count": 30,
   "id": "bae2eeb2-1b8c-4edb-969c-d60231393435",
   "metadata": {},
   "outputs": [],
   "source": [
    "# ECR image to be used\n",
    "PRIMARY_CONTAINER = {\n",
    "    'Image': ECR_IMAGE_URI, \n",
    "    \"Environment\": environment,\n",
    "}"
   ]
  },
  {
   "cell_type": "code",
   "execution_count": 31,
   "id": "f36a316b-f3dd-4e8f-90ce-e483c1726d6f",
   "metadata": {},
   "outputs": [
    {
     "name": "stdout",
     "output_type": "stream",
     "text": [
      "SageMaker model created.\n"
     ]
    }
   ],
   "source": [
    "try:\n",
    "    # Create sagemaker model\n",
    "    r = sm.create_model(\n",
    "        ModelName=ENDPOINT_NAME,\n",
    "        ExecutionRoleArn=EXECUTION_ROLE_ARN,\n",
    "        PrimaryContainer=PRIMARY_CONTAINER,\n",
    "    )\n",
    "    print(\"SageMaker model created.\")\n",
    "except Exception as e:\n",
    "    print(e.response[\"Error\"])"
   ]
  },
  {
   "cell_type": "markdown",
   "id": "77416eff-ed61-435e-a45a-b78ea2150142",
   "metadata": {},
   "source": [
    "### 2. Endpoint Config creation"
   ]
  },
  {
   "cell_type": "code",
   "execution_count": 32,
   "id": "51cb4f49-2aed-405d-9ff2-5a56f9bf69e8",
   "metadata": {},
   "outputs": [],
   "source": [
    "ENDPOINT_CONFIG_NAME = ENDPOINT_NAME + '-config'"
   ]
  },
  {
   "cell_type": "code",
   "execution_count": 33,
   "id": "817870a2-13fd-4937-bec1-08e83b04649a",
   "metadata": {},
   "outputs": [
    {
     "name": "stdout",
     "output_type": "stream",
     "text": [
      "Endpoint configuration created.\n"
     ]
    }
   ],
   "source": [
    "try:\n",
    "    # create endpoint configuration\n",
    "    _ = sm.create_endpoint_config(\n",
    "        EndpointConfigName=ENDPOINT_CONFIG_NAME,\n",
    "        ProductionVariants=[\n",
    "            {\n",
    "                'InstanceType': INSTANCE_TYPE,\n",
    "                'InitialVariantWeight': 1,\n",
    "                'InitialInstanceCount': 1,\n",
    "                'ModelName': ENDPOINT_NAME,\n",
    "                'VariantName': 'AllTraffic'\n",
    "            }\n",
    "        ]\n",
    "    )\n",
    "    print(\"Endpoint configuration created.\")\n",
    "except Exception as e:\n",
    "    print(e.response[\"Error\"])"
   ]
  },
  {
   "cell_type": "markdown",
   "id": "31adabb4-99e4-49b0-901e-996fb2858bcd",
   "metadata": {},
   "source": [
    "### 3. Endpoint creation"
   ]
  },
  {
   "cell_type": "code",
   "execution_count": 35,
   "id": "cf5b0cca-d415-45bf-867a-04e232ebd4fb",
   "metadata": {},
   "outputs": [
    {
     "name": "stdout",
     "output_type": "stream",
     "text": [
      "{'Message': 'Cannot create already existing endpoint \"arn:aws:sagemaker:us-east-1:377983720232:endpoint/whylabs-sagemaker\".', 'Code': 'ValidationException'}\n"
     ]
    }
   ],
   "source": [
    "try:\n",
    "    # create endpoint\n",
    "    r = sm.create_endpoint(\n",
    "        EndpointName=ENDPOINT_NAME,\n",
    "        EndpointConfigName=ENDPOINT_CONFIG_NAME\n",
    "    )\n",
    "    print(f\"Completed {ENDPOINT_NAME} model endpoint deployment !!!\")\n",
    "except Exception as e:\n",
    "    print(e.response[\"Error\"])"
   ]
  },
  {
   "cell_type": "markdown",
   "id": "171495b4-5047-4271-b4e8-b1be77edb4a6",
   "metadata": {
    "tags": []
   },
   "source": [
    "## Test Endpoint "
   ]
  },
  {
   "cell_type": "code",
   "execution_count": 36,
   "id": "8b02bdd0-daa2-4695-86cc-a94286d9d68b",
   "metadata": {},
   "outputs": [],
   "source": [
    "# Payload for /invocations endpoint\n",
    "payload = json.dumps({\n",
    "    \"sepal_length_cm\": 5.1,\n",
    "    \"sepal_width_cm\": 3.5,\n",
    "    \"petal_length_cm\": 1.4,\n",
    "    \"petal_width_cm\": 0.2\n",
    "})"
   ]
  },
  {
   "cell_type": "code",
   "execution_count": 38,
   "id": "620cd2c3-2336-430f-82ea-49326797d669",
   "metadata": {},
   "outputs": [
    {
     "name": "stdout",
     "output_type": "stream",
     "text": [
      "Endpoint status is Creating\n"
     ]
    }
   ],
   "source": [
    "# Invoke the endpoint using\n",
    "sg = session.client(\"runtime.sagemaker\", region_name=AWS_REGION_NAME)\n",
    "status = is_endpoint_running(ENDPOINT_NAME, AWS_PROFILE_NAME, AWS_REGION_NAME)\n",
    "# Check if model was created successfully\n",
    "if status == \"InService\":\n",
    "    response = sg.invoke_endpoint(\n",
    "        EndpointName=ENDPOINT_NAME,\n",
    "        Body=payload,\n",
    "        ContentType='application/json',\n",
    "    )\n",
    "    # Decode the response\n",
    "    print(json.loads(response[\"Body\"].read().decode(\"utf-8\")))\n",
    "else:\n",
    "    print(f\"Endpoint status is {status}.\")"
   ]
  },
  {
   "cell_type": "markdown",
   "id": "89cc3616-f5b2-4b74-8bac-3079da0579e4",
   "metadata": {
    "tags": []
   },
   "source": [
    "## Delete AWS resources"
   ]
  },
  {
   "cell_type": "code",
   "execution_count": null,
   "id": "ba6cdc66-cc4d-4e03-8326-e56bdd087153",
   "metadata": {},
   "outputs": [],
   "source": [
    "status = is_endpoint_running(ENDPOINT_NAME, AWS_PROFILE_NAME, AWS_REGION_NAME)"
   ]
  },
  {
   "cell_type": "code",
   "execution_count": null,
   "id": "69af58d2-208b-4c7b-a68a-f6a3e4351de4",
   "metadata": {},
   "outputs": [],
   "source": [
    "if status == \"InService\":\n",
    "    delete_model(sm, ENDPOINT_NAME)\n",
    "    delete_endpoint_config(sm, ENDPOINT_CONFIG_NAME)\n",
    "    delete_endpoint(sm, ENDPOINT_NAME)"
   ]
  },
  {
   "cell_type": "code",
   "execution_count": null,
   "id": "05665218-0ec8-4a2b-bcd9-363532c6a5bc",
   "metadata": {},
   "outputs": [],
   "source": []
  }
 ],
 "metadata": {
  "kernelspec": {
   "display_name": "Python 3 (ipykernel)",
   "language": "python",
   "name": "python3"
  },
  "language_info": {
   "codemirror_mode": {
    "name": "ipython",
    "version": 3
   },
   "file_extension": ".py",
   "mimetype": "text/x-python",
   "name": "python",
   "nbconvert_exporter": "python",
   "pygments_lexer": "ipython3",
   "version": "3.7.11"
  }
 },
 "nbformat": 4,
 "nbformat_minor": 5
}
