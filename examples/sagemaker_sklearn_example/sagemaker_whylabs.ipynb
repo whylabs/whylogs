{
 "cells": [
  {
   "cell_type": "markdown",
   "metadata": {},
   "source": [
    "# Amazon SageMaker + WhyLabs"
   ]
  },
  {
   "cell_type": "code",
   "execution_count": 1,
   "metadata": {},
   "outputs": [
    {
     "ename": "ModuleNotFoundError",
     "evalue": "No module named 'dotenv'",
     "output_type": "error",
     "traceback": [
      "\u001b[0;31m---------------------------------------------------------------------------\u001b[0m",
      "\u001b[0;31mModuleNotFoundError\u001b[0m                       Traceback (most recent call last)",
      "\u001b[0;32m<ipython-input-1-d66e5d431ad3>\u001b[0m in \u001b[0;36m<module>\u001b[0;34m\u001b[0m\n\u001b[1;32m      6\u001b[0m \u001b[0;32mfrom\u001b[0m \u001b[0msklearn\u001b[0m\u001b[0;34m.\u001b[0m\u001b[0mmodel_selection\u001b[0m \u001b[0;32mimport\u001b[0m \u001b[0mtrain_test_split\u001b[0m\u001b[0;34m\u001b[0m\u001b[0;34m\u001b[0m\u001b[0m\n\u001b[1;32m      7\u001b[0m \u001b[0;32mimport\u001b[0m \u001b[0mboto3\u001b[0m\u001b[0;34m\u001b[0m\u001b[0;34m\u001b[0m\u001b[0m\n\u001b[0;32m----> 8\u001b[0;31m \u001b[0;32mfrom\u001b[0m \u001b[0mdotenv\u001b[0m \u001b[0;32mimport\u001b[0m \u001b[0mdotenv_values\u001b[0m\u001b[0;34m\u001b[0m\u001b[0;34m\u001b[0m\u001b[0m\n\u001b[0m\u001b[1;32m      9\u001b[0m \u001b[0;32mfrom\u001b[0m \u001b[0mutils\u001b[0m \u001b[0;32mimport\u001b[0m \u001b[0mdelete_model\u001b[0m\u001b[0;34m,\u001b[0m \u001b[0mdelete_endpoint_config\u001b[0m\u001b[0;34m,\u001b[0m \u001b[0mdelete_endpoint\u001b[0m\u001b[0;34m,\u001b[0m \u001b[0mis_endpoint_running\u001b[0m\u001b[0;34m\u001b[0m\u001b[0;34m\u001b[0m\u001b[0m\n",
      "\u001b[0;31mModuleNotFoundError\u001b[0m: No module named 'dotenv'"
     ]
    }
   ],
   "source": [
    "import os\n",
    "import json\n",
    "import pandas as pd\n",
    "from joblib import dump\n",
    "from sklearn.svm import SVC\n",
    "from sklearn.model_selection import train_test_split\n",
    "import boto3\n",
    "from dotenv import dotenv_values\n",
    "from utils import delete_model, delete_endpoint_config, delete_endpoint, is_endpoint_running"
   ]
  },
  {
   "cell_type": "markdown",
   "metadata": {
    "tags": []
   },
   "source": [
    "## AWS configuration"
   ]
  },
  {
   "cell_type": "code",
   "execution_count": null,
   "metadata": {},
   "outputs": [],
   "source": [
    "AWS_PROFILE_NAME = \"mfa\"\n",
    "session = boto3.session.Session(profile_name=AWS_PROFILE_NAME)\n",
    "AWS_REGION_NAME = session.region_name"
   ]
  },
  {
   "cell_type": "code",
   "execution_count": null,
   "metadata": {},
   "outputs": [],
   "source": [
    "sts = session.client(\"sts\")\n",
    "sm = session.client('sagemaker', region_name=AWS_REGION_NAME)\n",
    "AWS_ACCOUNT_ID = sts.get_caller_identity().get(\"Account\")\n",
    "DOCKER_IMAGE_NAME = \"whylabs-sagemaker\""
   ]
  },
  {
   "cell_type": "markdown",
   "metadata": {
    "tags": []
   },
   "source": [
    "## Download Iris dataset"
   ]
  },
  {
   "cell_type": "code",
   "execution_count": 4,
   "metadata": {},
   "outputs": [
    {
     "name": "stdout",
     "output_type": "stream",
     "text": [
      "Downloading iris.zip to /Users/nicolasroldan/Documents/Whylabs/whylogs/examples/sagemaker_sklearn_example/code/dataset\n",
      "  0%|                                               | 0.00/3.60k [00:00<?, ?B/s]\n",
      "100%|██████████████████████████████████████| 3.60k/3.60k [00:00<00:00, 2.29MB/s]\n",
      "Archive:  iris.zip\n",
      "  inflating: Iris.csv                \n",
      "  inflating: database.sqlite         \n"
     ]
    }
   ],
   "source": [
    "!cd code/ && chmod +x download_iris.sh && ./download_iris.sh"
   ]
  },
  {
   "cell_type": "markdown",
   "metadata": {
    "tags": []
   },
   "source": [
    "## Train data"
   ]
  },
  {
   "cell_type": "code",
   "execution_count": 5,
   "metadata": {},
   "outputs": [],
   "source": [
    "data = pd.read_csv('code/dataset/iris.csv')\n",
    "# Separating the independent variables from dependent variables\n",
    "X = data.drop(['Id', 'Species'], axis=1)\n",
    "y = data['Species']\n",
    "x_train, x_test, y_train, y_test = train_test_split(X, y, test_size=0.30)"
   ]
  },
  {
   "cell_type": "code",
   "execution_count": 6,
   "metadata": {},
   "outputs": [
    {
     "name": "stdout",
     "output_type": "stream",
     "text": [
      "Train started...\n",
      "Train ended...\n",
      "Model saved!\n"
     ]
    }
   ],
   "source": [
    "# Train a classifier\n",
    "print(\"Train started...\")\n",
    "model = SVC()\n",
    "model.fit(x_train, y_train)\n",
    "print(\"Train ended...\")\n",
    "# Save the model\n",
    "dump(model, 'code/model.joblib')\n",
    "print(\"Model saved!\")"
   ]
  },
  {
   "cell_type": "markdown",
   "metadata": {
    "tags": []
   },
   "source": [
    "## Custom image building and pushing to ECR"
   ]
  },
  {
   "cell_type": "code",
   "execution_count": 7,
   "metadata": {},
   "outputs": [
    {
     "name": "stdout",
     "output_type": "stream",
     "text": [
      "Image name whylabs-sagemaker\n",
      "Profile name mfa\n",
      "{\n",
      "    \"repositories\": [\n",
      "        {\n",
      "            \"repositoryArn\": \"arn:aws:ecr:us-east-1:377983720232:repository/whylabs-sagemaker\",\n",
      "            \"registryId\": \"377983720232\",\n",
      "            \"repositoryName\": \"whylabs-sagemaker\",\n",
      "            \"repositoryUri\": \"377983720232.dkr.ecr.us-east-1.amazonaws.com/whylabs-sagemaker\",\n",
      "            \"createdAt\": \"2021-09-08T17:32:14-05:00\",\n",
      "            \"imageTagMutability\": \"MUTABLE\",\n",
      "            \"imageScanningConfiguration\": {\n",
      "                \"scanOnPush\": false\n",
      "            },\n",
      "            \"encryptionConfiguration\": {\n",
      "                \"encryptionType\": \"AES256\"\n",
      "            }\n",
      "        }\n",
      "    ]\n",
      "}\n",
      "Login Succeeded\n"
     ]
    },
    {
     "name": "stderr",
     "output_type": "stream",
     "text": [
      "#1 [internal] load build definition from Dockerfile\n",
      "#1 sha256:f77260dcca3cfa466099575458323d0e1016512a0191b3c00f70f9cc680010ad\n",
      "#1 transferring dockerfile: 37B 0.0s done\n",
      "#1 DONE 0.0s\n",
      "\n",
      "#2 [internal] load .dockerignore\n",
      "#2 sha256:d09fddc37bc5a1413d3f99958c38fd31326e0a30e66ab8ea49851242e67734bc\n",
      "#2 transferring context: 34B done\n",
      "#2 DONE 0.0s\n",
      "\n",
      "#3 [internal] load metadata for docker.io/library/ubuntu:18.04\n",
      "#3 sha256:ae46bbb1b755529d0da663ca0256a22acd7c9fe21844946c149800baa67c4e4b\n",
      "#3 ...\n",
      "\n",
      "#4 [auth] library/ubuntu:pull token for registry-1.docker.io\n",
      "#4 sha256:5782b95021a2dd25006dc79546856c77030e9a6db932c55b2f3595acfd16520b\n",
      "#4 DONE 0.0s\n",
      "\n",
      "#3 [internal] load metadata for docker.io/library/ubuntu:18.04\n",
      "#3 sha256:ae46bbb1b755529d0da663ca0256a22acd7c9fe21844946c149800baa67c4e4b\n",
      "#3 DONE 2.1s\n",
      "\n",
      "#5 [ 1/11] FROM docker.io/library/ubuntu:18.04@sha256:9bc830af2bef73276515a29aa896eedfa7bdf4bdbc5c1063b4c457a4bbb8cd79\n",
      "#5 sha256:d1750e31869fe5a60e2fad31896f5d8b06a6c26d3a20b7f5836401e641279689\n",
      "#5 DONE 0.0s\n",
      "\n",
      "#8 [internal] load build context\n",
      "#8 sha256:9bd6187d0f046a9c72375182b46525e3c3f2ca7df0363c1cec8dfc1d8e296b54\n",
      "#8 transferring context: 9.93kB done\n",
      "#8 DONE 0.0s\n",
      "\n",
      "#12 [ 7/11] RUN chmod +rwx /opt/ml/models\n",
      "#12 sha256:39e69110669c049fca90c9654aba290ac3bc955340b76316fee8c86b4925e664\n",
      "#12 CACHED\n",
      "\n",
      "#11 [ 6/11] RUN mkdir -p /opt/ml/models\n",
      "#11 sha256:c90e82eebce9b367cfb36c87326c7ae652c169c4999f237499ea4bc1980c0295\n",
      "#11 CACHED\n",
      "\n",
      "#13 [ 8/11] RUN ln -sf /dev/stdout /var/log/nginx/access.log\n",
      "#13 sha256:6325d62d67b1bc2deb19615526ba2dd459db138c3489808c6f966928a564fe57\n",
      "#13 CACHED\n",
      "\n",
      "#7 [ 3/11] RUN pip3 install pip --upgrade\n",
      "#7 sha256:dd11d590a066a1d73ec9fba151e0baa7d733e7e0938a71ba7a2ff9b6b2af239f\n",
      "#7 CACHED\n",
      "\n",
      "#10 [ 5/11] RUN pip3 install -r /requirements.txt &&     rm /requirements.txt\n",
      "#10 sha256:f48c4e3855e1a8c423030087f64b3abdaf78e7d2eb03f7d511765e2835b5a56c\n",
      "#10 CACHED\n",
      "\n",
      "#6 [ 2/11] RUN apt-get update &&     apt-get -y upgrade &&     apt-get -y install --no-install-recommends         build-essential         curl         git         jq         libatlas-base-dev         python         python3-pip         nginx         openjdk-8-jdk-headless         unzip         wget         ca-certificates         libssl-dev libffi-dev         python3-setuptools         python3-dev     && rm -rf /var/lib/apt/lists/*\n",
      "#6 sha256:0ab5272c27e25ac9dc37c8aa604492357877b43b8f589cdc16f7f5a416ddcbe2\n",
      "#6 CACHED\n",
      "\n",
      "#9 [ 4/11] COPY requirements.txt /requirements.txt\n",
      "#9 sha256:edfe5225b8defa85de37467bb13601fec83f19022dd4a022c1f8640085f86500\n",
      "#9 CACHED\n",
      "\n",
      "#14 [ 9/11] RUN ln -sf /dev/stderr /var/log/nginx/error.log\n",
      "#14 sha256:a72f61d44bb7f997c0fbf861cfe6dffe695b2b9c654045dbb70d0076b12a5c1e\n",
      "#14 CACHED\n",
      "\n",
      "#15 [10/11] COPY code /opt/program\n",
      "#15 sha256:5436b4c82fe8832b12f6019ebe02dc62b572529d0bfdaeba3f12c46fb688eea1\n",
      "#15 DONE 0.0s\n",
      "\n",
      "#16 [11/11] WORKDIR /opt/program\n",
      "#16 sha256:edbb2e151940b4b6532216d4b1fbcb58b2309045cbdbd060e88c351bb8578fcd\n",
      "#16 DONE 0.0s\n",
      "\n",
      "#17 exporting to image\n",
      "#17 sha256:e8c613e07b0b7ff33893b694f7759a10d42e180f2b4dc349fb57dc6b71dcab00\n",
      "#17 exporting layers 0.0s done\n",
      "#17 writing image sha256:d0f4f3c7d8fe8664864418978513af47dc1ba1e57065e7c734ab8bc2c72ea5c2\n",
      "#17 writing image sha256:d0f4f3c7d8fe8664864418978513af47dc1ba1e57065e7c734ab8bc2c72ea5c2 done\n",
      "#17 naming to docker.io/library/whylabs-sagemaker done\n",
      "#17 DONE 0.0s\n"
     ]
    },
    {
     "name": "stdout",
     "output_type": "stream",
     "text": [
      "The push refers to repository [377983720232.dkr.ecr.us-east-1.amazonaws.com/whylabs-sagemaker]\n",
      "5f70bf18a086: Preparing\n",
      "4743e5bef456: Preparing\n",
      "71766944aaf8: Preparing\n",
      "69960a2b0055: Preparing\n",
      "eb2a7046ea56: Preparing\n",
      "fbee2ef86e65: Preparing\n",
      "8cc0a0dc03b0: Preparing\n",
      "5a8d62feae95: Preparing\n",
      "d20859943999: Preparing\n",
      "cb8615e15e41: Preparing\n",
      "6babb56be259: Preparing\n",
      "8cc0a0dc03b0: Waiting\n",
      "5a8d62feae95: Waiting\n",
      "d20859943999: Waiting\n",
      "cb8615e15e41: Waiting\n",
      "fbee2ef86e65: Waiting\n",
      "71766944aaf8: Layer already exists\n",
      "5f70bf18a086: Layer already exists\n",
      "eb2a7046ea56: Layer already exists\n",
      "69960a2b0055: Layer already exists\n",
      "fbee2ef86e65: Layer already exists\n",
      "8cc0a0dc03b0: Layer already exists\n",
      "d20859943999: Layer already exists\n",
      "5a8d62feae95: Layer already exists\n",
      "cb8615e15e41: Layer already exists\n",
      "6babb56be259: Layer already exists\n",
      "4743e5bef456: Pushed\n",
      "latest: digest: sha256:4bfdf44e2fa7914fc56e003465c44794121168aa1b4c62e0249c12cd536002ac size: 2616\n"
     ]
    },
    {
     "data": {
      "text/plain": [
       "0"
      ]
     },
     "execution_count": 7,
     "metadata": {},
     "output_type": "execute_result"
    }
   ],
   "source": [
    "os.system(f\"./build_push.sh {DOCKER_IMAGE_NAME} {AWS_PROFILE_NAME}\")"
   ]
  },
  {
   "cell_type": "markdown",
   "metadata": {
    "tags": []
   },
   "source": [
    "## Create SageMaker Endpoint"
   ]
  },
  {
   "cell_type": "markdown",
   "metadata": {},
   "source": [
    "The steps to deploy a SageMaker model are:\n",
    "\n",
    "1. Create a model\n",
    "2. Create an endpoint configuration\n",
    "3. Create a SageMaker endpoint"
   ]
  },
  {
   "cell_type": "markdown",
   "metadata": {
    "tags": []
   },
   "source": [
    "### 1. Model Creation"
   ]
  },
  {
   "cell_type": "code",
   "execution_count": 8,
   "metadata": {},
   "outputs": [],
   "source": [
    "ECR_IMAGE_URI = f\"{AWS_ACCOUNT_ID}.dkr.ecr.{AWS_REGION_NAME}.amazonaws.com/{DOCKER_IMAGE_NAME}:latest\"\n",
    "ENDPOINT_NAME = \"whylabs-sagemaker\"\n",
    "EXECUTION_ROLE_ARN = f\"arn:aws:iam::{AWS_ACCOUNT_ID}:role/SageMakerExecution\"\n",
    "INSTANCE_TYPE = \"ml.m4.xlarge\""
   ]
  },
  {
   "cell_type": "markdown",
   "metadata": {},
   "source": [
    "Load variables important for __WhyLabs configuration__ defined inside __.env file__ as dictionary. This values will be settled once the docker container is running within SageMaker."
   ]
  },
  {
   "cell_type": "code",
   "execution_count": 9,
   "metadata": {},
   "outputs": [],
   "source": [
    "# Load .env file as dictionary\n",
    "environment = dotenv_values(\"code/.env\")"
   ]
  },
  {
   "cell_type": "code",
   "execution_count": 10,
   "metadata": {},
   "outputs": [],
   "source": [
    "# ECR image to be used\n",
    "PRIMARY_CONTAINER = {\n",
    "    'Image': ECR_IMAGE_URI, \n",
    "    \"Environment\": environment,\n",
    "}"
   ]
  },
  {
   "cell_type": "code",
   "execution_count": 11,
   "metadata": {},
   "outputs": [
    {
     "name": "stdout",
     "output_type": "stream",
     "text": [
      "SageMaker model created.\n"
     ]
    }
   ],
   "source": [
    "try:\n",
    "    # Create sagemaker model\n",
    "    r = sm.create_model(\n",
    "        ModelName=ENDPOINT_NAME,\n",
    "        ExecutionRoleArn=EXECUTION_ROLE_ARN,\n",
    "        PrimaryContainer=PRIMARY_CONTAINER,\n",
    "    )\n",
    "    print(\"SageMaker model created.\")\n",
    "except Exception as e:\n",
    "    print(e.response[\"Error\"])"
   ]
  },
  {
   "cell_type": "markdown",
   "metadata": {},
   "source": [
    "### 2. Endpoint Config creation"
   ]
  },
  {
   "cell_type": "code",
   "execution_count": 12,
   "metadata": {},
   "outputs": [],
   "source": [
    "ENDPOINT_CONFIG_NAME = ENDPOINT_NAME + '-config'"
   ]
  },
  {
   "cell_type": "code",
   "execution_count": 13,
   "metadata": {},
   "outputs": [
    {
     "name": "stdout",
     "output_type": "stream",
     "text": [
      "Endpoint configuration created.\n"
     ]
    }
   ],
   "source": [
    "try:\n",
    "    # create endpoint configuration\n",
    "    _ = sm.create_endpoint_config(\n",
    "        EndpointConfigName=ENDPOINT_CONFIG_NAME,\n",
    "        ProductionVariants=[\n",
    "            {\n",
    "                'InstanceType': INSTANCE_TYPE,\n",
    "                'InitialVariantWeight': 1,\n",
    "                'InitialInstanceCount': 1,\n",
    "                'ModelName': ENDPOINT_NAME,\n",
    "                'VariantName': 'AllTraffic'\n",
    "            }\n",
    "        ]\n",
    "    )\n",
    "    print(\"Endpoint configuration created.\")\n",
    "except Exception as e:\n",
    "    print(e.response[\"Error\"])"
   ]
  },
  {
   "cell_type": "markdown",
   "metadata": {},
   "source": [
    "### 3. Endpoint creation"
   ]
  },
  {
   "cell_type": "code",
   "execution_count": 14,
   "metadata": {},
   "outputs": [
    {
     "name": "stdout",
     "output_type": "stream",
     "text": [
      "Completed whylabs-sagemaker model endpoint deployment !!!\n"
     ]
    }
   ],
   "source": [
    "try:\n",
    "    # create endpoint\n",
    "    r = sm.create_endpoint(\n",
    "        EndpointName=ENDPOINT_NAME,\n",
    "        EndpointConfigName=ENDPOINT_CONFIG_NAME\n",
    "    )\n",
    "    print(f\"Completed {ENDPOINT_NAME} model endpoint deployment !!!\")\n",
    "except Exception as e:\n",
    "    print(e.response[\"Error\"])"
   ]
  },
  {
   "cell_type": "markdown",
   "metadata": {
    "tags": []
   },
   "source": [
    "## Test Endpoint "
   ]
  },
  {
   "cell_type": "code",
   "execution_count": 19,
   "metadata": {},
   "outputs": [],
   "source": [
    "# Payload for /invocations endpoint\n",
    "payload = json.dumps({\n",
    "    \"sepal_length_cm\": 5.1,\n",
    "    \"sepal_width_cm\": 3.5,\n",
    "    \"petal_length_cm\": 1.4,\n",
    "    \"petal_width_cm\": 0.2\n",
    "})"
   ]
  },
  {
   "cell_type": "code",
   "execution_count": 20,
   "metadata": {},
   "outputs": [
    {
     "name": "stdout",
     "output_type": "stream",
     "text": [
      "{'data': {'class': 'Iris-setosa'}, 'message': 'Success'}\n"
     ]
    }
   ],
   "source": [
    "# Invoke the endpoint using\n",
    "sg = session.client(\"runtime.sagemaker\", region_name=AWS_REGION_NAME)\n",
    "status = is_endpoint_running(ENDPOINT_NAME, AWS_PROFILE_NAME, AWS_REGION_NAME)\n",
    "# Check if model was created successfully\n",
    "if status == \"InService\":\n",
    "    response = sg.invoke_endpoint(\n",
    "        EndpointName=ENDPOINT_NAME,\n",
    "        Body=payload,\n",
    "        ContentType='application/json',\n",
    "    )\n",
    "    # Decode the response\n",
    "    print(json.loads(response[\"Body\"].read().decode(\"utf-8\")))\n",
    "else:\n",
    "    print(f\"Endpoint status is {status}.\")"
   ]
  },
  {
   "cell_type": "markdown",
   "metadata": {
    "tags": []
   },
   "source": [
    "## Delete AWS resources"
   ]
  },
  {
   "cell_type": "code",
   "execution_count": 21,
   "metadata": {},
   "outputs": [],
   "source": [
    "status = is_endpoint_running(ENDPOINT_NAME, AWS_PROFILE_NAME, AWS_REGION_NAME)"
   ]
  },
  {
   "cell_type": "code",
   "execution_count": 22,
   "metadata": {},
   "outputs": [
    {
     "name": "stdout",
     "output_type": "stream",
     "text": [
      "Model whylabs-sagemaker deleted.\n",
      "Endpoint configuration whylabs-sagemaker-config deleted.\n",
      "Endpoint whylabs-sagemaker deleted.\n"
     ]
    }
   ],
   "source": [
    "if status == \"InService\":\n",
    "    delete_model(sm, ENDPOINT_NAME)\n",
    "    delete_endpoint_config(sm, ENDPOINT_CONFIG_NAME)\n",
    "    delete_endpoint(sm, ENDPOINT_NAME)"
   ]
  },
  {
   "cell_type": "code",
   "execution_count": null,
   "metadata": {},
   "outputs": [],
   "source": []
  }
 ],
 "metadata": {
  "kernelspec": {
   "display_name": "Python 3",
   "language": "python",
   "name": "python3"
  },
  "language_info": {
   "codemirror_mode": {
    "name": "ipython",
    "version": 3
   },
   "file_extension": ".py",
   "mimetype": "text/x-python",
   "name": "python",
   "nbconvert_exporter": "python",
   "pygments_lexer": "ipython3",
   "version": "3.8.5"
  }
 },
 "nbformat": 4,
 "nbformat_minor": 5
}
