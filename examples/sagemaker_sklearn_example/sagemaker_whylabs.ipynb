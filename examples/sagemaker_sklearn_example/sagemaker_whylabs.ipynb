{
 "cells": [
  {
   "cell_type": "markdown",
   "id": "f3400e53",
   "metadata": {},
   "source": [
    "# Amazon SageMaker + WhyLabs"
   ]
  },
  {
   "cell_type": "code",
   "execution_count": 1,
   "id": "b47f4fc6",
   "metadata": {},
   "outputs": [],
   "source": [
    "import os\n",
    "import json\n",
    "import pandas as pd\n",
    "from joblib import dump\n",
    "from sklearn.svm import SVC\n",
    "from sklearn.model_selection import train_test_split\n",
    "import boto3\n",
    "from dotenv import dotenv_values\n",
    "from utils import delete_model, delete_endpoint_config, delete_endpoint, is_endpoint_running"
   ]
  },
  {
   "cell_type": "markdown",
   "id": "50724df5",
   "metadata": {
    "tags": []
   },
   "source": [
    "## AWS configuration"
   ]
  },
  {
   "cell_type": "code",
   "execution_count": 2,
   "id": "4081508c",
   "metadata": {},
   "outputs": [],
   "source": [
    "AWS_PROFILE_NAME = \"mfa\"\n",
    "session = boto3.session.Session(profile_name=AWS_PROFILE_NAME)\n",
    "AWS_REGION_NAME = session.region_name"
   ]
  },
  {
   "cell_type": "code",
   "execution_count": 3,
   "id": "d5e0d9e9",
   "metadata": {},
   "outputs": [],
   "source": [
    "sts = session.client(\"sts\")\n",
    "sm = session.client('sagemaker', region_name=AWS_REGION_NAME)\n",
    "AWS_ACCOUNT_ID = sts.get_caller_identity().get(\"Account\")\n",
    "DOCKER_IMAGE_NAME = \"whylabs-sagemaker\""
   ]
  },
  {
   "cell_type": "markdown",
   "id": "1e8e5357",
   "metadata": {
    "tags": []
   },
   "source": [
    "## Download Iris dataset"
   ]
  },
  {
   "cell_type": "code",
   "execution_count": 4,
   "id": "ee5efd7b",
   "metadata": {},
   "outputs": [
    {
     "name": "stdout",
     "output_type": "stream",
     "text": [
      "Downloading iris.zip to /Users/nicolasroldan/Documents/Whylabs/whylogs/examples/sagemaker_sklearn_example/code/dataset\n",
      "  0%|                                               | 0.00/3.60k [00:00<?, ?B/s]\n",
      "100%|██████████████████████████████████████| 3.60k/3.60k [00:00<00:00, 2.38MB/s]\n",
      "Archive:  iris.zip\n",
      "  inflating: Iris.csv                \n",
      "  inflating: database.sqlite         \n"
     ]
    }
   ],
   "source": [
    "!cd code/ && chmod +x download_iris.sh && ./download_iris.sh"
   ]
  },
  {
   "cell_type": "markdown",
   "id": "8f1fa562",
   "metadata": {
    "tags": []
   },
   "source": [
    "## Train data"
   ]
  },
  {
   "cell_type": "code",
   "execution_count": 5,
   "id": "9d626da2",
   "metadata": {},
   "outputs": [],
   "source": [
    "data = pd.read_csv('code/dataset/iris.csv')\n",
    "# Separating the independent variables from dependent variables\n",
    "X = data.drop(['Id', 'Species'], axis=1)\n",
    "y = data['Species']\n",
    "x_train, x_test, y_train, y_test = train_test_split(X, y, test_size=0.30)"
   ]
  },
  {
   "cell_type": "code",
   "execution_count": 6,
   "id": "d5059ea4",
   "metadata": {},
   "outputs": [
    {
     "name": "stdout",
     "output_type": "stream",
     "text": [
      "Train started...\n",
      "Train ended...\n",
      "Model saved!\n"
     ]
    }
   ],
   "source": [
    "# Train a classifier\n",
    "print(\"Train started...\")\n",
    "model = SVC()\n",
    "model.fit(x_train, y_train)\n",
    "print(\"Train ended...\")\n",
    "# Save the model\n",
    "dump(model, 'code/model.joblib')\n",
    "print(\"Model saved!\")"
   ]
  },
  {
   "cell_type": "markdown",
   "id": "4213ef90",
   "metadata": {
    "tags": []
   },
   "source": [
    "## Custom image building and pushing to ECR"
   ]
  },
  {
   "cell_type": "code",
   "execution_count": 7,
   "id": "df9d8b42",
   "metadata": {},
   "outputs": [
    {
     "name": "stdout",
     "output_type": "stream",
     "text": [
      "Image name whylabs-sagemaker\n",
      "Profile name mfa\n",
      "{\n",
      "    \"repositories\": [\n",
      "        {\n",
      "            \"repositoryArn\": \"arn:aws:ecr:us-east-1:377983720232:repository/whylabs-sagemaker\",\n",
      "            \"registryId\": \"377983720232\",\n",
      "            \"repositoryName\": \"whylabs-sagemaker\",\n",
      "            \"repositoryUri\": \"377983720232.dkr.ecr.us-east-1.amazonaws.com/whylabs-sagemaker\",\n",
      "            \"createdAt\": \"2021-09-08T17:32:14-05:00\",\n",
      "            \"imageTagMutability\": \"MUTABLE\",\n",
      "            \"imageScanningConfiguration\": {\n",
      "                \"scanOnPush\": false\n",
      "            },\n",
      "            \"encryptionConfiguration\": {\n",
      "                \"encryptionType\": \"AES256\"\n",
      "            }\n",
      "        }\n",
      "    ]\n",
      "}\n",
      "Login Succeeded\n"
     ]
    },
    {
     "name": "stderr",
     "output_type": "stream",
     "text": [
      "#1 [internal] load build definition from Dockerfile\n",
      "#1 sha256:b8e7433dfee4f7ed8d6dc0fefb18dc20390190f6d52e521b7ccfe47ca756829e\n",
      "#1 transferring dockerfile: 1.54kB 0.0s done\n",
      "#1 DONE 0.0s\n",
      "\n",
      "#2 [internal] load .dockerignore\n",
      "#2 sha256:e73cd679c8fda7df9b86ac869ffaf2f99f7908427037a7d7b5e62b551cecbd40\n",
      "#2 transferring context: 180B done\n",
      "#2 DONE 0.0s\n",
      "\n",
      "#3 [internal] load metadata for docker.io/library/ubuntu:18.04\n",
      "#3 sha256:ae46bbb1b755529d0da663ca0256a22acd7c9fe21844946c149800baa67c4e4b\n",
      "#3 ...\n",
      "\n",
      "#4 [auth] library/ubuntu:pull token for registry-1.docker.io\n",
      "#4 sha256:68ac9a20f42b3821532595ab49b2d680fc5e8ff3e66d06f8b759abd252125da6\n",
      "#4 DONE 0.0s\n",
      "\n",
      "#3 [internal] load metadata for docker.io/library/ubuntu:18.04\n",
      "#3 sha256:ae46bbb1b755529d0da663ca0256a22acd7c9fe21844946c149800baa67c4e4b\n",
      "#3 DONE 1.8s\n",
      "\n",
      "#15 [ 1/11] FROM docker.io/library/ubuntu:18.04@sha256:9bc830af2bef73276515a29aa896eedfa7bdf4bdbc5c1063b4c457a4bbb8cd79\n",
      "#15 sha256:d1750e31869fe5a60e2fad31896f5d8b06a6c26d3a20b7f5836401e641279689\n",
      "#15 DONE 0.0s\n",
      "\n",
      "#16 [internal] load build context\n",
      "#16 sha256:15838cb8366b1c1b5b612b64050befde6870c7626fd827597999cef24c6e2e95\n",
      "#16 transferring context: 23.66kB 0.0s done\n",
      "#16 DONE 0.0s\n",
      "\n",
      "#5 [ 2/11] RUN apt-get update &&     apt-get -y upgrade &&     apt-get -y install --no-install-recommends         build-essential         curl         git         jq         libatlas-base-dev         python         python3-pip         nginx         openjdk-8-jdk-headless         unzip         wget         ca-certificates         libssl-dev libffi-dev         python3-setuptools         python3-dev     && rm -rf /var/lib/apt/lists/*\n",
      "#5 sha256:0ab5272c27e25ac9dc37c8aa604492357877b43b8f589cdc16f7f5a416ddcbe2\n",
      "#5 CACHED\n",
      "\n",
      "#6 [ 3/11] RUN pip3 install pip --upgrade\n",
      "#6 sha256:dd11d590a066a1d73ec9fba151e0baa7d733e7e0938a71ba7a2ff9b6b2af239f\n",
      "#6 CACHED\n",
      "\n",
      "#7 [ 4/11] COPY requirements.txt /requirements.txt\n",
      "#7 sha256:758546d4951cd55d31f860eab58ce87420d21d499b005e4dd218e766269c4fa3\n",
      "#7 DONE 0.0s\n",
      "\n",
      "#8 [ 5/11] RUN pip3 install -r /requirements.txt &&     rm /requirements.txt\n",
      "#8 sha256:ce2ec737fcfc7ed5ab39a96963bcc006d6b5c4f1423bda05195b964e4d680c2e\n",
      "#8 1.480 Ignoring pandas: markers 'python_version >= \"3.7\"' don't match your environment\n",
      "#8 1.833 Collecting scikit-learn==0.24.2\n",
      "#8 1.876   Downloading scikit_learn-0.24.2-cp36-cp36m-manylinux2010_x86_64.whl (22.2 MB)\n",
      "#8 4.002 Collecting Flask==2.0.1\n",
      "#8 4.009   Downloading Flask-2.0.1-py3-none-any.whl (94 kB)\n",
      "#8 4.063 Collecting gunicorn==20.1.0\n",
      "#8 4.073   Downloading gunicorn-20.1.0-py3-none-any.whl (79 kB)\n",
      "#8 4.428 Collecting gevent==21.8.0\n",
      "#8 4.437   Downloading gevent-21.8.0-cp36-cp36m-manylinux_2_12_x86_64.manylinux2010_x86_64.whl (5.6 MB)\n",
      "#8 5.038 Collecting whylogs==0.6.2\n",
      "#8 5.054   Downloading whylogs-0.6.2-py3-none-any.whl (2.1 MB)\n",
      "#8 5.291 Collecting python-dotenv==0.19.0\n",
      "#8 5.299   Downloading python_dotenv-0.19.0-py2.py3-none-any.whl (17 kB)\n",
      "#8 5.370 Collecting joblib==1.0.1\n",
      "#8 5.382   Downloading joblib-1.0.1-py3-none-any.whl (303 kB)\n",
      "#8 5.448 Collecting flask_cors==3.0.10\n",
      "#8 5.455   Downloading Flask_Cors-3.0.10-py2.py3-none-any.whl (14 kB)\n",
      "#8 5.643 Collecting pydantic==1.8.2\n",
      "#8 5.651   Downloading pydantic-1.8.2-cp36-cp36m-manylinux2014_x86_64.whl (10.2 MB)\n",
      "#8 6.740 Collecting Flask-Pydantic==0.8.0\n",
      "#8 6.751   Downloading Flask_Pydantic-0.8.0-py3-none-any.whl (9.3 kB)\n",
      "#8 7.444 Collecting boto3==1.18.38\n",
      "#8 7.456   Downloading boto3-1.18.38-py3-none-any.whl (131 kB)\n",
      "#8 7.828 Collecting jupyterlab==3.1.12\n",
      "#8 7.835   Downloading jupyterlab-3.1.12-py3-none-any.whl (8.5 MB)\n",
      "#8 8.723 Collecting APScheduler==3.7.0\n",
      "#8 8.735   Downloading APScheduler-3.7.0-py2.py3-none-any.whl (59 kB)\n",
      "#8 8.916 Collecting threadpoolctl>=2.0.0\n",
      "#8 8.924   Downloading threadpoolctl-2.2.0-py3-none-any.whl (12 kB)\n",
      "#8 9.624 Collecting numpy>=1.13.3\n",
      "#8 9.633   Downloading numpy-1.19.5-cp36-cp36m-manylinux2010_x86_64.whl (14.8 MB)\n",
      "#8 11.45 Collecting scipy>=0.19.1\n",
      "#8 11.46   Downloading scipy-1.5.4-cp36-cp36m-manylinux1_x86_64.whl (25.9 MB)\n",
      "#8 13.95 Collecting click>=7.1.2\n",
      "#8 13.96   Downloading click-8.0.1-py3-none-any.whl (97 kB)\n",
      "#8 14.00 Collecting itsdangerous>=2.0\n",
      "#8 14.01   Downloading itsdangerous-2.0.1-py3-none-any.whl (18 kB)\n",
      "#8 14.06 Collecting Jinja2>=3.0\n",
      "#8 14.06   Downloading Jinja2-3.0.1-py3-none-any.whl (133 kB)\n",
      "#8 14.15 Collecting Werkzeug>=2.0\n",
      "#8 14.16   Downloading Werkzeug-2.0.1-py3-none-any.whl (288 kB)\n",
      "#8 14.21 Requirement already satisfied: setuptools>=3.0 in /usr/lib/python3/dist-packages (from gunicorn==20.1.0->-r /requirements.txt (line 3)) (39.0.1)\n",
      "#8 14.31 Collecting zope.event\n",
      "#8 14.32   Downloading zope.event-4.5.0-py2.py3-none-any.whl (6.8 kB)\n",
      "#8 14.52 Collecting greenlet<2.0,>=1.1.0\n",
      "#8 14.53   Downloading greenlet-1.1.1-cp36-cp36m-manylinux_2_17_x86_64.manylinux2014_x86_64.whl (140 kB)\n",
      "#8 14.90 Collecting zope.interface\n",
      "#8 14.92   Downloading zope.interface-5.4.0-cp36-cp36m-manylinux2010_x86_64.whl (251 kB)\n",
      "#8 15.08 Collecting whylabs-client\n",
      "#8 15.09   Downloading whylabs_client-0.1-py3-none-any.whl (118 kB)\n",
      "#8 15.22 Collecting whylabs-datasketches>=2.2.0b1\n",
      "#8 15.23   Downloading whylabs_datasketches-2.2.0b1-cp36-cp36m-manylinux2010_x86_64.whl (410 kB)\n",
      "#8 16.27 Collecting botocore>=1.17.44\n",
      "#8 16.27   Downloading botocore-1.21.43-py3-none-any.whl (7.9 MB)\n",
      "#8 17.30 Collecting xlrd<3.0.0,>=2.0.1\n",
      "#8 17.30   Downloading xlrd-2.0.1-py2.py3-none-any.whl (96 kB)\n",
      "#8 17.34 Collecting puremagic\n",
      "#8 17.35   Downloading puremagic-1.10-py3-none-any.whl (31 kB)\n",
      "#8 17.68 Collecting pandas>=1.0.0\n",
      "#8 17.69   Downloading pandas-1.1.5-cp36-cp36m-manylinux1_x86_64.whl (9.5 MB)\n",
      "#8 18.96 Collecting matplotlib<4.0.0,>=3.0.3\n",
      "#8 18.97   Downloading matplotlib-3.3.4-cp36-cp36m-manylinux1_x86_64.whl (11.5 MB)\n",
      "#8 20.32 Collecting marshmallow>=3.7.1\n",
      "#8 20.33   Downloading marshmallow-3.13.0-py2.py3-none-any.whl (47 kB)\n",
      "#8 20.47 Collecting mlflow<1.14,>=1.13\n",
      "#8 20.48   Downloading mlflow-1.13.1-py3-none-any.whl (14.1 MB)\n",
      "#8 21.83 Collecting python-dateutil>=2.8.1\n",
      "#8 21.84   Downloading python_dateutil-2.8.2-py2.py3-none-any.whl (247 kB)\n",
      "#8 21.94 Collecting openpyxl<4.0.0,>=3.0.7\n",
      "#8 21.94   Downloading openpyxl-3.0.8-py2.py3-none-any.whl (244 kB)\n",
      "#8 22.09 Collecting smart-open>=4.1.2\n",
      "#8 22.10   Downloading smart_open-5.2.1-py3-none-any.whl (58 kB)\n",
      "#8 22.26 Collecting tqdm<5.0.0,>=4.60.0\n",
      "#8 22.27   Downloading tqdm-4.62.2-py2.py3-none-any.whl (76 kB)\n",
      "#8 22.61 Collecting protobuf>=3.15.5\n",
      "#8 22.63   Downloading protobuf-3.18.0-cp36-cp36m-manylinux_2_17_x86_64.manylinux2014_x86_64.whl (1.1 MB)\n",
      "#8 22.81 Collecting pyyaml>=5.3.1\n",
      "#8 22.82   Downloading PyYAML-5.4.1-cp36-cp36m-manylinux1_x86_64.whl (640 kB)\n",
      "#8 22.94 Collecting Six\n",
      "#8 22.95   Downloading six-1.16.0-py2.py3-none-any.whl (11 kB)\n",
      "#8 22.99 Collecting dataclasses>=0.6\n",
      "#8 23.00   Downloading dataclasses-0.8-py3-none-any.whl (19 kB)\n",
      "#8 23.03 Collecting typing-extensions>=3.7.4.3\n",
      "#8 23.04   Downloading typing_extensions-3.10.0.2-py3-none-any.whl (26 kB)\n",
      "#8 23.10 Collecting jmespath<1.0.0,>=0.7.1\n",
      "#8 23.11   Downloading jmespath-0.10.0-py2.py3-none-any.whl (24 kB)\n",
      "#8 23.14 Collecting s3transfer<0.6.0,>=0.5.0\n",
      "#8 23.15   Downloading s3transfer-0.5.0-py3-none-any.whl (79 kB)\n",
      "#8 23.36 Collecting jupyter-core\n",
      "#8 23.37   Downloading jupyter_core-4.8.1-py3-none-any.whl (86 kB)\n",
      "#8 23.55 Collecting jupyterlab-server~=2.3\n",
      "#8 23.56   Downloading jupyterlab_server-2.8.1-py3-none-any.whl (58 kB)\n",
      "#8 23.63 Collecting nbclassic~=0.2\n",
      "#8 23.64   Downloading nbclassic-0.3.2-py3-none-any.whl (18 kB)\n",
      "#8 23.69 Collecting packaging\n",
      "#8 23.70   Downloading packaging-21.0-py3-none-any.whl (40 kB)\n",
      "#8 23.87 Collecting ipython\n",
      "#8 23.92   Downloading ipython-7.16.1-py3-none-any.whl (785 kB)\n",
      "#8 24.15 Collecting tornado>=6.1.0\n",
      "#8 24.16   Downloading tornado-6.1-cp36-cp36m-manylinux2010_x86_64.whl (427 kB)\n",
      "#8 24.36 Collecting jupyter-server~=1.4\n",
      "#8 24.37   Downloading jupyter_server-1.11.0-py3-none-any.whl (393 kB)\n",
      "#8 24.49 Collecting tzlocal~=2.0\n",
      "#8 24.50   Downloading tzlocal-2.1-py2.py3-none-any.whl (16 kB)\n",
      "#8 24.66 Collecting pytz\n",
      "#8 24.67   Downloading pytz-2021.1-py2.py3-none-any.whl (510 kB)\n",
      "#8 24.82 Collecting urllib3<1.27,>=1.25.4\n",
      "#8 24.83   Downloading urllib3-1.26.6-py2.py3-none-any.whl (138 kB)\n",
      "#8 24.95 Collecting importlib-metadata\n",
      "#8 24.96   Downloading importlib_metadata-4.8.1-py3-none-any.whl (17 kB)\n",
      "#8 25.12 Collecting MarkupSafe>=2.0\n",
      "#8 25.13   Downloading MarkupSafe-2.0.1-cp36-cp36m-manylinux_2_5_x86_64.manylinux1_x86_64.manylinux_2_12_x86_64.manylinux2010_x86_64.whl (30 kB)\n",
      "#8 25.22 Collecting traitlets>=4.2.1\n",
      "#8 25.23   Downloading traitlets-4.3.3-py2.py3-none-any.whl (75 kB)\n",
      "#8 25.28 Collecting prometheus-client\n",
      "#8 25.29   Downloading prometheus_client-0.11.0-py2.py3-none-any.whl (56 kB)\n",
      "#8 25.32 Collecting ipython-genutils\n",
      "#8 25.33   Downloading ipython_genutils-0.2.0-py2.py3-none-any.whl (26 kB)\n",
      "#8 25.41 Collecting nbconvert\n",
      "#8 25.42   Downloading nbconvert-6.0.7-py3-none-any.whl (552 kB)\n",
      "#8 25.51 Collecting Send2Trash\n",
      "#8 25.52   Downloading Send2Trash-1.8.0-py3-none-any.whl (18 kB)\n",
      "#8 25.65 Collecting terminado>=0.8.3\n",
      "#8 25.66   Downloading terminado-0.12.1-py3-none-any.whl (15 kB)\n",
      "#8 25.68 Collecting requests-unixsocket\n",
      "#8 25.69   Downloading requests_unixsocket-0.2.0-py2.py3-none-any.whl (11 kB)\n",
      "#8 25.75 Collecting anyio<4,>=3.1.0\n",
      "#8 25.76   Downloading anyio-3.3.1-py3-none-any.whl (77 kB)\n",
      "#8 25.92 Collecting websocket-client\n",
      "#8 25.93   Downloading websocket_client-1.2.1-py2.py3-none-any.whl (52 kB)\n",
      "#8 25.97 Collecting nbformat\n",
      "#8 25.98   Downloading nbformat-5.1.3-py3-none-any.whl (178 kB)\n",
      "#8 26.48 Collecting pyzmq>=17\n",
      "#8 26.49   Downloading pyzmq-22.3.0-cp36-cp36m-manylinux_2_5_x86_64.manylinux1_x86_64.whl (1.1 MB)\n",
      "#8 26.67 Collecting jupyter-client>=6.1.1\n",
      "#8 26.68   Downloading jupyter_client-7.0.3-py3-none-any.whl (122 kB)\n",
      "#8 26.78 Collecting argon2-cffi\n",
      "#8 26.79   Downloading argon2_cffi-21.1.0-cp35-abi3-manylinux_2_5_x86_64.manylinux1_x86_64.whl (96 kB)\n",
      "#8 26.87 Collecting idna>=2.8\n",
      "#8 26.88   Downloading idna-3.2-py3-none-any.whl (59 kB)\n",
      "#8 26.92 Collecting sniffio>=1.1\n",
      "#8 26.93   Downloading sniffio-1.2.0-py3-none-any.whl (10 kB)\n",
      "#8 27.02 Collecting entrypoints\n",
      "#8 27.03   Downloading entrypoints-0.3-py2.py3-none-any.whl (11 kB)\n",
      "#8 27.08 Collecting nest-asyncio>=1.5\n",
      "#8 27.09   Downloading nest_asyncio-1.5.1-py3-none-any.whl (5.0 kB)\n",
      "#8 27.22 Collecting jsonschema>=3.0.1\n",
      "#8 27.23   Downloading jsonschema-3.2.0-py2.py3-none-any.whl (56 kB)\n",
      "#8 27.39 Collecting babel\n",
      "#8 27.39   Downloading Babel-2.9.1-py2.py3-none-any.whl (8.8 MB)\n",
      "#8 28.26 Collecting json5\n",
      "#8 28.27   Downloading json5-0.9.6-py2.py3-none-any.whl (18 kB)\n",
      "#8 28.38 Collecting requests\n",
      "#8 28.39   Downloading requests-2.26.0-py2.py3-none-any.whl (62 kB)\n",
      "#8 28.50 Collecting pyrsistent>=0.14.0\n",
      "#8 28.51   Downloading pyrsistent-0.18.0-cp36-cp36m-manylinux1_x86_64.whl (117 kB)\n",
      "#8 28.59 Collecting attrs>=17.4.0\n",
      "#8 28.60   Downloading attrs-21.2.0-py2.py3-none-any.whl (53 kB)\n",
      "#8 28.85 Collecting kiwisolver>=1.0.1\n",
      "#8 28.86   Downloading kiwisolver-1.3.1-cp36-cp36m-manylinux1_x86_64.whl (1.1 MB)\n",
      "#8 29.01 Collecting cycler>=0.10\n",
      "#8 29.02   Downloading cycler-0.10.0-py2.py3-none-any.whl (6.5 kB)\n",
      "#8 29.13 Collecting pyparsing!=2.0.4,!=2.1.2,!=2.1.6,>=2.0.3\n",
      "#8 29.14   Downloading pyparsing-2.4.7-py2.py3-none-any.whl (67 kB)\n",
      "#8 29.84 Collecting pillow>=6.2.0\n",
      "#8 29.86   Downloading Pillow-8.3.2-cp36-cp36m-manylinux_2_17_x86_64.manylinux2014_x86_64.whl (3.0 MB)\n",
      "#8 30.31 Collecting querystring-parser\n",
      "#8 30.32   Downloading querystring_parser-1.2.4-py2.py3-none-any.whl (7.9 kB)\n",
      "#8 30.42 Collecting alembic<=1.4.1\n",
      "#8 30.43   Downloading alembic-1.4.1.tar.gz (1.1 MB)\n",
      "#8 31.16 Collecting sqlparse>=0.3.1\n",
      "#8 31.17   Downloading sqlparse-0.4.2-py3-none-any.whl (42 kB)\n",
      "#8 31.22 Collecting prometheus-flask-exporter\n",
      "#8 31.23   Downloading prometheus_flask_exporter-0.18.2.tar.gz (22 kB)\n",
      "#8 31.63 Collecting gitpython>=2.1.0\n",
      "#8 31.64   Downloading GitPython-3.1.18-py3-none-any.whl (170 kB)\n",
      "#8 31.83 Collecting docker>=4.0.0\n",
      "#8 31.84   Downloading docker-5.0.2-py2.py3-none-any.whl (145 kB)\n",
      "#8 31.89 Collecting cloudpickle\n",
      "#8 31.90   Downloading cloudpickle-2.0.0-py3-none-any.whl (25 kB)\n",
      "#8 32.03 Collecting azure-storage-blob>=12.0.0\n",
      "#8 32.05   Downloading azure_storage_blob-12.8.1-py2.py3-none-any.whl (345 kB)\n",
      "#8 32.60 Collecting sqlalchemy\n",
      "#8 32.61   Downloading SQLAlchemy-1.4.23-cp36-cp36m-manylinux_2_5_x86_64.manylinux1_x86_64.manylinux_2_17_x86_64.manylinux2014_x86_64.whl (1.5 MB)\n",
      "#8 32.90 Collecting databricks-cli>=0.8.7\n",
      "#8 32.91   Downloading databricks-cli-0.15.0.tar.gz (56 kB)\n",
      "#8 33.42 Collecting Mako\n",
      "#8 33.43   Downloading Mako-1.1.5-py2.py3-none-any.whl (75 kB)\n",
      "#8 33.61 Collecting python-editor>=0.3\n",
      "#8 33.62   Downloading python_editor-1.0.4-py3-none-any.whl (4.9 kB)\n",
      "#8 33.72 Collecting msrest>=0.6.18\n",
      "#8 33.73   Downloading msrest-0.6.21-py2.py3-none-any.whl (85 kB)\n",
      "#8 33.79 Collecting azure-core<2.0.0,>=1.10.0\n",
      "#8 33.80   Downloading azure_core-1.18.0-py2.py3-none-any.whl (166 kB)\n",
      "#8 34.50 Collecting cryptography>=2.1.4\n",
      "#8 34.51   Downloading cryptography-3.4.8-cp36-abi3-manylinux_2_24_x86_64.whl (3.0 MB)\n",
      "#8 35.17 Collecting cffi>=1.12\n",
      "#8 35.19   Downloading cffi-1.14.6-cp36-cp36m-manylinux1_x86_64.whl (401 kB)\n",
      "#8 35.26 Collecting pycparser\n",
      "#8 35.27   Downloading pycparser-2.20-py2.py3-none-any.whl (112 kB)\n",
      "#8 35.33 Collecting tabulate>=0.7.7\n",
      "#8 35.33   Downloading tabulate-0.8.9-py3-none-any.whl (25 kB)\n",
      "#8 35.42 Collecting gitdb<5,>=4.0.1\n",
      "#8 35.43   Downloading gitdb-4.0.7-py3-none-any.whl (63 kB)\n",
      "#8 35.57 Collecting smmap<5,>=3.0.1\n",
      "#8 35.58   Downloading smmap-4.0.0-py2.py3-none-any.whl (24 kB)\n",
      "#8 35.64 Collecting isodate>=0.6.0\n",
      "#8 35.65   Downloading isodate-0.6.0-py2.py3-none-any.whl (45 kB)\n",
      "#8 35.72 Collecting certifi>=2017.4.17\n",
      "#8 35.73   Downloading certifi-2021.5.30-py2.py3-none-any.whl (145 kB)\n",
      "#8 35.79 Collecting requests-oauthlib>=0.5.0\n",
      "#8 35.80   Downloading requests_oauthlib-1.3.0-py2.py3-none-any.whl (23 kB)\n",
      "#8 35.93 Collecting notebook<7\n",
      "#8 35.94   Downloading notebook-6.4.4-py3-none-any.whl (9.9 MB)\n",
      "#8 37.05 Collecting ipykernel\n",
      "#8 37.06   Downloading ipykernel-5.5.5-py3-none-any.whl (120 kB)\n",
      "#8 37.14 Collecting et-xmlfile\n",
      "#8 37.14   Downloading et_xmlfile-1.1.0-py3-none-any.whl (4.7 kB)\n",
      "#8 37.38 Collecting charset-normalizer~=2.0.0\n",
      "#8 37.39   Downloading charset_normalizer-2.0.5-py3-none-any.whl (37 kB)\n",
      "#8 37.49 Collecting oauthlib>=3.0.0\n",
      "#8 37.50   Downloading oauthlib-3.1.1-py2.py3-none-any.whl (146 kB)\n",
      "#8 37.94 Collecting contextvars>=2.1\n",
      "#8 37.95   Downloading contextvars-2.4.tar.gz (9.6 kB)\n",
      "#8 38.43 Collecting immutables>=0.9\n",
      "#8 38.44   Downloading immutables-0.16-cp36-cp36m-manylinux_2_5_x86_64.manylinux1_x86_64.whl (103 kB)\n",
      "#8 38.70 Collecting ptyprocess\n",
      "#8 38.71   Downloading ptyprocess-0.7.0-py2.py3-none-any.whl (13 kB)\n",
      "#8 38.86 Collecting decorator\n",
      "#8 38.87   Downloading decorator-5.1.0-py3-none-any.whl (9.1 kB)\n",
      "#8 39.31 Collecting zipp>=0.5\n",
      "#8 39.32   Downloading zipp-3.5.0-py3-none-any.whl (5.7 kB)\n",
      "#8 39.54 Collecting pexpect\n",
      "#8 39.55   Downloading pexpect-4.8.0-py2.py3-none-any.whl (59 kB)\n",
      "#8 39.58 Collecting pickleshare\n",
      "#8 39.59   Downloading pickleshare-0.7.5-py2.py3-none-any.whl (6.9 kB)\n",
      "#8 39.64 Collecting jedi>=0.10\n",
      "#8 39.65   Downloading jedi-0.18.0-py2.py3-none-any.whl (1.4 MB)\n",
      "#8 39.87 Collecting pygments\n",
      "#8 39.88   Downloading Pygments-2.10.0-py3-none-any.whl (1.0 MB)\n",
      "#8 40.11 Collecting prompt-toolkit!=3.0.0,!=3.0.1,<3.1.0,>=2.0.0\n",
      "#8 40.12   Downloading prompt_toolkit-3.0.20-py3-none-any.whl (370 kB)\n",
      "#8 40.18 Collecting backcall\n",
      "#8 40.19   Downloading backcall-0.2.0-py2.py3-none-any.whl (11 kB)\n",
      "#8 40.29 Collecting parso<0.9.0,>=0.8.0\n",
      "#8 40.31   Downloading parso-0.8.2-py2.py3-none-any.whl (94 kB)\n",
      "#8 40.43 Collecting wcwidth\n",
      "#8 40.44   Downloading wcwidth-0.2.5-py2.py3-none-any.whl (30 kB)\n",
      "#8 40.63 Collecting testpath\n",
      "#8 40.64   Downloading testpath-0.5.0-py3-none-any.whl (84 kB)\n",
      "#8 40.73 Collecting bleach\n",
      "#8 40.75   Downloading bleach-4.1.0-py2.py3-none-any.whl (157 kB)\n",
      "#8 40.82 Collecting nbclient<0.6.0,>=0.5.0\n",
      "#8 40.83   Downloading nbclient-0.5.4-py3-none-any.whl (66 kB)\n",
      "#8 40.89 Collecting defusedxml\n",
      "#8 40.90   Downloading defusedxml-0.7.1-py2.py3-none-any.whl (25 kB)\n",
      "#8 40.97 Collecting mistune<2,>=0.8.1\n",
      "#8 40.97   Downloading mistune-0.8.4-py2.py3-none-any.whl (16 kB)\n",
      "#8 41.01 Collecting jupyterlab-pygments\n",
      "#8 41.02   Downloading jupyterlab_pygments-0.1.2-py2.py3-none-any.whl (4.6 kB)\n",
      "#8 41.05 Collecting pandocfilters>=1.4.1\n",
      "#8 41.06   Downloading pandocfilters-1.5.0-py2.py3-none-any.whl (8.7 kB)\n",
      "#8 41.34 Collecting async-generator\n",
      "#8 41.35   Downloading async_generator-1.10-py3-none-any.whl (18 kB)\n",
      "#8 41.57 Collecting webencodings\n",
      "#8 41.57   Downloading webencodings-0.5.1-py2.py3-none-any.whl (11 kB)\n",
      "#8 41.84 Collecting argparse\n",
      "#8 41.85   Downloading argparse-1.4.0-py2.py3-none-any.whl (23 kB)\n",
      "#8 42.27 Using legacy 'setup.py install' for alembic, since package 'wheel' is not installed.\n",
      "#8 42.27 Using legacy 'setup.py install' for databricks-cli, since package 'wheel' is not installed.\n",
      "#8 42.28 Using legacy 'setup.py install' for contextvars, since package 'wheel' is not installed.\n",
      "#8 42.28 Using legacy 'setup.py install' for prometheus-flask-exporter, since package 'wheel' is not installed.\n",
      "#8 43.78 Installing collected packages: zipp, typing-extensions, Six, ipython-genutils, decorator, traitlets, pyrsistent, importlib-metadata, attrs, wcwidth, urllib3, tornado, pyzmq, python-dateutil, pyparsing, ptyprocess, parso, nest-asyncio, jupyter-core, jsonschema, immutables, idna, entrypoints, charset-normalizer, certifi, webencodings, requests, pygments, pycparser, prompt-toolkit, pickleshare, pexpect, packaging, oauthlib, nbformat, MarkupSafe, jupyter-client, jedi, dataclasses, contextvars, backcall, async-generator, Werkzeug, testpath, sniffio, smmap, requests-oauthlib, pandocfilters, nbclient, mistune, jupyterlab-pygments, jmespath, Jinja2, itsdangerous, isodate, ipython, greenlet, defusedxml, click, cffi, bleach, websocket-client, terminado, tabulate, sqlalchemy, Send2Trash, requests-unixsocket, pytz, python-editor, prometheus-client, numpy, nbconvert, msrest, Mako, ipykernel, gitdb, Flask, cryptography, botocore, azure-core, argon2-cffi, anyio, threadpoolctl, sqlparse, scipy, s3transfer, querystring-parser, pyyaml, protobuf, prometheus-flask-exporter, pillow, pandas, notebook, kiwisolver, jupyter-server, json5, joblib, gunicorn, gitpython, et-xmlfile, docker, databricks-cli, cycler, cloudpickle, babel, azure-storage-blob, argparse, alembic, zope.interface, zope.event, xlrd, whylabs-datasketches, whylabs-client, tzlocal, tqdm, smart-open, scikit-learn, pydantic, puremagic, openpyxl, nbclassic, mlflow, matplotlib, marshmallow, jupyterlab-server, boto3, whylogs, python-dotenv, jupyterlab, gevent, Flask-Pydantic, flask-cors, APScheduler\n",
      "#8 48.13     Running setup.py install for contextvars: started\n",
      "#8 48.49     Running setup.py install for contextvars: finished with status 'done'\n",
      "#8 60.49     Running setup.py install for prometheus-flask-exporter: started\n",
      "#8 60.89     Running setup.py install for prometheus-flask-exporter: finished with status 'done'\n",
      "#8 67.23     Running setup.py install for databricks-cli: started\n",
      "#8 67.68     Running setup.py install for databricks-cli: finished with status 'done'\n",
      "#8 68.75     Running setup.py install for alembic: started\n",
      "#8 69.24     Running setup.py install for alembic: finished with status 'done'\n",
      "#8 78.34 Successfully installed APScheduler-3.7.0 Flask-2.0.1 Flask-Pydantic-0.8.0 Jinja2-3.0.1 Mako-1.1.5 MarkupSafe-2.0.1 Send2Trash-1.8.0 Six-1.16.0 Werkzeug-2.0.1 alembic-1.4.1 anyio-3.3.1 argon2-cffi-21.1.0 argparse-1.4.0 async-generator-1.10 attrs-21.2.0 azure-core-1.18.0 azure-storage-blob-12.8.1 babel-2.9.1 backcall-0.2.0 bleach-4.1.0 boto3-1.18.38 botocore-1.21.43 certifi-2021.5.30 cffi-1.14.6 charset-normalizer-2.0.5 click-8.0.1 cloudpickle-2.0.0 contextvars-2.4 cryptography-3.4.8 cycler-0.10.0 databricks-cli-0.15.0 dataclasses-0.8 decorator-5.1.0 defusedxml-0.7.1 docker-5.0.2 entrypoints-0.3 et-xmlfile-1.1.0 flask-cors-3.0.10 gevent-21.8.0 gitdb-4.0.7 gitpython-3.1.18 greenlet-1.1.1 gunicorn-20.1.0 idna-3.2 immutables-0.16 importlib-metadata-4.8.1 ipykernel-5.5.5 ipython-7.16.1 ipython-genutils-0.2.0 isodate-0.6.0 itsdangerous-2.0.1 jedi-0.18.0 jmespath-0.10.0 joblib-1.0.1 json5-0.9.6 jsonschema-3.2.0 jupyter-client-7.0.3 jupyter-core-4.8.1 jupyter-server-1.11.0 jupyterlab-3.1.12 jupyterlab-pygments-0.1.2 jupyterlab-server-2.8.1 kiwisolver-1.3.1 marshmallow-3.13.0 matplotlib-3.3.4 mistune-0.8.4 mlflow-1.13.1 msrest-0.6.21 nbclassic-0.3.2 nbclient-0.5.4 nbconvert-6.0.7 nbformat-5.1.3 nest-asyncio-1.5.1 notebook-6.4.4 numpy-1.19.5 oauthlib-3.1.1 openpyxl-3.0.8 packaging-21.0 pandas-1.1.5 pandocfilters-1.5.0 parso-0.8.2 pexpect-4.8.0 pickleshare-0.7.5 pillow-8.3.2 prometheus-client-0.11.0 prometheus-flask-exporter-0.18.2 prompt-toolkit-3.0.20 protobuf-3.18.0 ptyprocess-0.7.0 puremagic-1.10 pycparser-2.20 pydantic-1.8.2 pygments-2.10.0 pyparsing-2.4.7 pyrsistent-0.18.0 python-dateutil-2.8.2 python-dotenv-0.19.0 python-editor-1.0.4 pytz-2021.1 pyyaml-5.4.1 pyzmq-22.3.0 querystring-parser-1.2.4 requests-2.26.0 requests-oauthlib-1.3.0 requests-unixsocket-0.2.0 s3transfer-0.5.0 scikit-learn-0.24.2 scipy-1.5.4 smart-open-5.2.1 smmap-4.0.0 sniffio-1.2.0 sqlalchemy-1.4.23 sqlparse-0.4.2 tabulate-0.8.9 terminado-0.12.1 testpath-0.5.0 threadpoolctl-2.2.0 tornado-6.1 tqdm-4.62.2 traitlets-4.3.3 typing-extensions-3.10.0.2 tzlocal-2.1 urllib3-1.26.6 wcwidth-0.2.5 webencodings-0.5.1 websocket-client-1.2.1 whylabs-client-0.1 whylabs-datasketches-2.2.0b1 whylogs-0.6.2 xlrd-2.0.1 zipp-3.5.0 zope.event-4.5.0 zope.interface-5.4.0\n",
      "#8 78.34 WARNING: Running pip as the 'root' user can result in broken permissions and conflicting behaviour with the system package manager. It is recommended to use a virtual environment instead: https://pip.pypa.io/warnings/venv\n",
      "#8 DONE 80.7s\n",
      "\n",
      "#9 [ 6/11] RUN mkdir -p /opt/ml/models\n",
      "#9 sha256:51751ac8e164c6fedcdda3fba7eb05b691bc50dacabe2d5f11cf93552866c2ae\n",
      "#9 DONE 0.5s\n",
      "\n",
      "#10 [ 7/11] RUN chmod +rwx /opt/ml/models\n",
      "#10 sha256:f03fe63a123edd4e4e4fe966f9cdfebfcc710539d83f7da807f6b871548729b8\n",
      "#10 DONE 0.4s\n",
      "\n",
      "#11 [ 8/11] RUN ln -sf /dev/stdout /var/log/nginx/access.log\n",
      "#11 sha256:62cd3103c49f16aa8501a9aa53890e458121c96986c55c9a784cce0a72b88bbd\n",
      "#11 DONE 0.3s\n",
      "\n",
      "#12 [ 9/11] RUN ln -sf /dev/stderr /var/log/nginx/error.log\n",
      "#12 sha256:72bdc5cbea253863062b38b317ccc0f0ea4ab255079144e8e57b273b2702d467\n",
      "#12 DONE 0.4s\n",
      "\n",
      "#13 [10/11] COPY code /opt/program\n",
      "#13 sha256:79570a16f86d2710e808ed6288705613a178db2381ea9cbb374a153d309ddd6f\n",
      "#13 DONE 0.0s\n",
      "\n",
      "#14 [11/11] WORKDIR /opt/program\n",
      "#14 sha256:d6779058bfa24f576587b99c1923176f56bea3edc8577434b1f7da01c995962d\n",
      "#14 DONE 0.0s\n",
      "\n",
      "#17 exporting to image\n",
      "#17 sha256:e8c613e07b0b7ff33893b694f7759a10d42e180f2b4dc349fb57dc6b71dcab00\n",
      "#17 exporting layers\n",
      "#17 exporting layers 10.1s done\n",
      "#17 writing image sha256:53c2796c0ae84e8f8d3e307434717d76a972bf1afe0204a9ccefaeb9279c8bcd done\n",
      "#17 naming to docker.io/library/whylabs-sagemaker done\n",
      "#17 DONE 10.1s\n"
     ]
    },
    {
     "name": "stdout",
     "output_type": "stream",
     "text": [
      "The push refers to repository [377983720232.dkr.ecr.us-east-1.amazonaws.com/whylabs-sagemaker]\n",
      "5f70bf18a086: Preparing\n",
      "3b202542e03c: Preparing\n",
      "0db6bc60cf67: Preparing\n",
      "66d55ab066d7: Preparing\n",
      "94df9b81d20b: Preparing\n",
      "1d32553c20b9: Preparing\n",
      "87953760e835: Preparing\n",
      "42fafac3315e: Preparing\n",
      "d20859943999: Preparing\n",
      "cb8615e15e41: Preparing\n",
      "6babb56be259: Preparing\n",
      "d20859943999: Waiting\n",
      "cb8615e15e41: Waiting\n",
      "1d32553c20b9: Waiting\n",
      "87953760e835: Waiting\n",
      "42fafac3315e: Waiting\n",
      "6babb56be259: Waiting\n",
      "5f70bf18a086: Layer already exists\n",
      "94df9b81d20b: Pushed\n",
      "66d55ab066d7: Pushed\n",
      "3b202542e03c: Pushed\n",
      "1d32553c20b9: Pushed\n",
      "d20859943999: Layer already exists\n",
      "0db6bc60cf67: Pushed\n",
      "6babb56be259: Layer already exists\n",
      "cb8615e15e41: Layer already exists\n",
      "42fafac3315e: Pushed\n",
      "87953760e835: Pushed\n",
      "latest: digest: sha256:9bc3ce4ea9d5b21b18c6d300c7d0d89239dbb51fabd3be9a7494ffd038901809 size: 2615\n"
     ]
    },
    {
     "data": {
      "text/plain": [
       "0"
      ]
     },
     "execution_count": 7,
     "metadata": {},
     "output_type": "execute_result"
    }
   ],
   "source": [
    "os.system(f\"./build_push.sh {DOCKER_IMAGE_NAME} {AWS_PROFILE_NAME}\")"
   ]
  },
  {
   "cell_type": "markdown",
   "id": "1257c20c",
   "metadata": {
    "tags": []
   },
   "source": [
    "## Create SageMaker Endpoint"
   ]
  },
  {
   "cell_type": "markdown",
   "id": "ee265032",
   "metadata": {},
   "source": [
    "The steps to deploy a SageMaker model are:\n",
    "\n",
    "1. Create a model\n",
    "2. Create an endpoint configuration\n",
    "3. Create a SageMaker endpoint"
   ]
  },
  {
   "cell_type": "markdown",
   "id": "d962b697",
   "metadata": {
    "tags": []
   },
   "source": [
    "### 1. Model Creation"
   ]
  },
  {
   "cell_type": "code",
   "execution_count": 8,
   "id": "d574c0d3",
   "metadata": {},
   "outputs": [],
   "source": [
    "ECR_IMAGE_URI = f\"{AWS_ACCOUNT_ID}.dkr.ecr.{AWS_REGION_NAME}.amazonaws.com/{DOCKER_IMAGE_NAME}:latest\"\n",
    "ENDPOINT_NAME = \"whylabs-sagemaker\"\n",
    "EXECUTION_ROLE_ARN = f\"arn:aws:iam::{AWS_ACCOUNT_ID}:role/SageMakerExecution\"\n",
    "INSTANCE_TYPE = \"ml.m4.xlarge\""
   ]
  },
  {
   "cell_type": "markdown",
   "id": "892bac1b",
   "metadata": {},
   "source": [
    "Load variables important for __WhyLabs configuration__ defined inside __.env file__ as dictionary. This values will be settled once the docker container is running within SageMaker."
   ]
  },
  {
   "cell_type": "code",
   "execution_count": 9,
   "id": "ce597607",
   "metadata": {},
   "outputs": [],
   "source": [
    "# Load .env file as dictionary\n",
    "environment = dotenv_values(\"code/.env\")"
   ]
  },
  {
   "cell_type": "code",
   "execution_count": 10,
   "id": "5ffb2d35",
   "metadata": {},
   "outputs": [],
   "source": [
    "# ECR image to be used\n",
    "PRIMARY_CONTAINER = {\n",
    "    'Image': ECR_IMAGE_URI, \n",
    "    \"Environment\": environment,\n",
    "}"
   ]
  },
  {
   "cell_type": "code",
   "execution_count": 11,
   "id": "f185307a",
   "metadata": {},
   "outputs": [
    {
     "name": "stdout",
     "output_type": "stream",
     "text": [
      "SageMaker model created.\n"
     ]
    }
   ],
   "source": [
    "try:\n",
    "    # Create sagemaker model\n",
    "    r = sm.create_model(\n",
    "        ModelName=ENDPOINT_NAME,\n",
    "        ExecutionRoleArn=EXECUTION_ROLE_ARN,\n",
    "        PrimaryContainer=PRIMARY_CONTAINER,\n",
    "    )\n",
    "    print(\"SageMaker model created.\")\n",
    "except Exception as e:\n",
    "    print(e.response[\"Error\"])"
   ]
  },
  {
   "cell_type": "markdown",
   "id": "93ce7e7b",
   "metadata": {},
   "source": [
    "### 2. Endpoint Config creation"
   ]
  },
  {
   "cell_type": "code",
   "execution_count": 12,
   "id": "7f083083",
   "metadata": {},
   "outputs": [],
   "source": [
    "ENDPOINT_CONFIG_NAME = ENDPOINT_NAME + '-config'"
   ]
  },
  {
   "cell_type": "code",
   "execution_count": 13,
   "id": "8e850b3f",
   "metadata": {},
   "outputs": [
    {
     "name": "stdout",
     "output_type": "stream",
     "text": [
      "Endpoint configuration created.\n"
     ]
    }
   ],
   "source": [
    "try:\n",
    "    # create endpoint configuration\n",
    "    _ = sm.create_endpoint_config(\n",
    "        EndpointConfigName=ENDPOINT_CONFIG_NAME,\n",
    "        ProductionVariants=[\n",
    "            {\n",
    "                'InstanceType': INSTANCE_TYPE,\n",
    "                'InitialVariantWeight': 1,\n",
    "                'InitialInstanceCount': 1,\n",
    "                'ModelName': ENDPOINT_NAME,\n",
    "                'VariantName': 'AllTraffic'\n",
    "            }\n",
    "        ]\n",
    "    )\n",
    "    print(\"Endpoint configuration created.\")\n",
    "except Exception as e:\n",
    "    print(e.response[\"Error\"])"
   ]
  },
  {
   "cell_type": "markdown",
   "id": "66497b8a",
   "metadata": {},
   "source": [
    "### 3. Endpoint creation"
   ]
  },
  {
   "cell_type": "code",
   "execution_count": 14,
   "id": "86c04791",
   "metadata": {},
   "outputs": [
    {
     "name": "stdout",
     "output_type": "stream",
     "text": [
      "Completed whylabs-sagemaker model endpoint deployment !!!\n"
     ]
    }
   ],
   "source": [
    "try:\n",
    "    # create endpoint\n",
    "    r = sm.create_endpoint(\n",
    "        EndpointName=ENDPOINT_NAME,\n",
    "        EndpointConfigName=ENDPOINT_CONFIG_NAME\n",
    "    )\n",
    "    print(f\"Completed {ENDPOINT_NAME} model endpoint deployment !!!\")\n",
    "except Exception as e:\n",
    "    print(e.response[\"Error\"])"
   ]
  },
  {
   "cell_type": "markdown",
   "id": "2050299b",
   "metadata": {
    "tags": []
   },
   "source": [
    "## Test Endpoint "
   ]
  },
  {
   "cell_type": "code",
   "execution_count": 15,
   "id": "d631e203",
   "metadata": {},
   "outputs": [],
   "source": [
    "# Payload for /invocations endpoint\n",
    "payload = json.dumps({\n",
    "    \"sepal_length_cm\": 5.1,\n",
    "    \"sepal_width_cm\": 3.5,\n",
    "    \"petal_length_cm\": 1.4,\n",
    "    \"petal_width_cm\": 0.2\n",
    "})"
   ]
  },
  {
   "cell_type": "code",
   "execution_count": 17,
   "id": "4ee9b302",
   "metadata": {},
   "outputs": [
    {
     "ename": "ModelError",
     "evalue": "An error occurred (ModelError) when calling the InvokeEndpoint operation: Received server error (502) from primary with message \"<html>\r\n<head><title>502 Bad Gateway</title></head>\r\n<body bgcolor=\"white\">\r\n<center><h1>502 Bad Gateway</h1></center>\r\n<hr><center>nginx/1.14.0 (Ubuntu)</center>\r\n</body>\r\n</html>\r\n\". See https://us-east-1.console.aws.amazon.com/cloudwatch/home?region=us-east-1#logEventViewer:group=/aws/sagemaker/Endpoints/whylabs-sagemaker in account 377983720232 for more information.",
     "output_type": "error",
     "traceback": [
      "\u001b[0;31m---------------------------------------------------------------------------\u001b[0m",
      "\u001b[0;31mModelError\u001b[0m                                Traceback (most recent call last)",
      "\u001b[0;32m/var/folders/0s/qfqb94xj5pg6xz3d_l7xfsqm0000gn/T/ipykernel_16737/3788379675.py\u001b[0m in \u001b[0;36m<module>\u001b[0;34m\u001b[0m\n\u001b[1;32m      7\u001b[0m         \u001b[0mEndpointName\u001b[0m\u001b[0;34m=\u001b[0m\u001b[0mENDPOINT_NAME\u001b[0m\u001b[0;34m,\u001b[0m\u001b[0;34m\u001b[0m\u001b[0;34m\u001b[0m\u001b[0m\n\u001b[1;32m      8\u001b[0m         \u001b[0mBody\u001b[0m\u001b[0;34m=\u001b[0m\u001b[0mpayload\u001b[0m\u001b[0;34m,\u001b[0m\u001b[0;34m\u001b[0m\u001b[0;34m\u001b[0m\u001b[0m\n\u001b[0;32m----> 9\u001b[0;31m         \u001b[0mContentType\u001b[0m\u001b[0;34m=\u001b[0m\u001b[0;34m'application/json'\u001b[0m\u001b[0;34m,\u001b[0m\u001b[0;34m\u001b[0m\u001b[0;34m\u001b[0m\u001b[0m\n\u001b[0m\u001b[1;32m     10\u001b[0m     )\n\u001b[1;32m     11\u001b[0m     \u001b[0;31m# Decode the response\u001b[0m\u001b[0;34m\u001b[0m\u001b[0;34m\u001b[0m\u001b[0;34m\u001b[0m\u001b[0m\n",
      "\u001b[0;32m/opt/anaconda3/envs/whylabs/lib/python3.7/site-packages/botocore/client.py\u001b[0m in \u001b[0;36m_api_call\u001b[0;34m(self, *args, **kwargs)\u001b[0m\n\u001b[1;32m    384\u001b[0m                     \"%s() only accepts keyword arguments.\" % py_operation_name)\n\u001b[1;32m    385\u001b[0m             \u001b[0;31m# The \"self\" in this scope is referring to the BaseClient.\u001b[0m\u001b[0;34m\u001b[0m\u001b[0;34m\u001b[0m\u001b[0;34m\u001b[0m\u001b[0m\n\u001b[0;32m--> 386\u001b[0;31m             \u001b[0;32mreturn\u001b[0m \u001b[0mself\u001b[0m\u001b[0;34m.\u001b[0m\u001b[0m_make_api_call\u001b[0m\u001b[0;34m(\u001b[0m\u001b[0moperation_name\u001b[0m\u001b[0;34m,\u001b[0m \u001b[0mkwargs\u001b[0m\u001b[0;34m)\u001b[0m\u001b[0;34m\u001b[0m\u001b[0;34m\u001b[0m\u001b[0m\n\u001b[0m\u001b[1;32m    387\u001b[0m \u001b[0;34m\u001b[0m\u001b[0m\n\u001b[1;32m    388\u001b[0m         \u001b[0m_api_call\u001b[0m\u001b[0;34m.\u001b[0m\u001b[0m__name__\u001b[0m \u001b[0;34m=\u001b[0m \u001b[0mstr\u001b[0m\u001b[0;34m(\u001b[0m\u001b[0mpy_operation_name\u001b[0m\u001b[0;34m)\u001b[0m\u001b[0;34m\u001b[0m\u001b[0;34m\u001b[0m\u001b[0m\n",
      "\u001b[0;32m/opt/anaconda3/envs/whylabs/lib/python3.7/site-packages/botocore/client.py\u001b[0m in \u001b[0;36m_make_api_call\u001b[0;34m(self, operation_name, api_params)\u001b[0m\n\u001b[1;32m    703\u001b[0m             \u001b[0merror_code\u001b[0m \u001b[0;34m=\u001b[0m \u001b[0mparsed_response\u001b[0m\u001b[0;34m.\u001b[0m\u001b[0mget\u001b[0m\u001b[0;34m(\u001b[0m\u001b[0;34m\"Error\"\u001b[0m\u001b[0;34m,\u001b[0m \u001b[0;34m{\u001b[0m\u001b[0;34m}\u001b[0m\u001b[0;34m)\u001b[0m\u001b[0;34m.\u001b[0m\u001b[0mget\u001b[0m\u001b[0;34m(\u001b[0m\u001b[0;34m\"Code\"\u001b[0m\u001b[0;34m)\u001b[0m\u001b[0;34m\u001b[0m\u001b[0;34m\u001b[0m\u001b[0m\n\u001b[1;32m    704\u001b[0m             \u001b[0merror_class\u001b[0m \u001b[0;34m=\u001b[0m \u001b[0mself\u001b[0m\u001b[0;34m.\u001b[0m\u001b[0mexceptions\u001b[0m\u001b[0;34m.\u001b[0m\u001b[0mfrom_code\u001b[0m\u001b[0;34m(\u001b[0m\u001b[0merror_code\u001b[0m\u001b[0;34m)\u001b[0m\u001b[0;34m\u001b[0m\u001b[0;34m\u001b[0m\u001b[0m\n\u001b[0;32m--> 705\u001b[0;31m             \u001b[0;32mraise\u001b[0m \u001b[0merror_class\u001b[0m\u001b[0;34m(\u001b[0m\u001b[0mparsed_response\u001b[0m\u001b[0;34m,\u001b[0m \u001b[0moperation_name\u001b[0m\u001b[0;34m)\u001b[0m\u001b[0;34m\u001b[0m\u001b[0;34m\u001b[0m\u001b[0m\n\u001b[0m\u001b[1;32m    706\u001b[0m         \u001b[0;32melse\u001b[0m\u001b[0;34m:\u001b[0m\u001b[0;34m\u001b[0m\u001b[0;34m\u001b[0m\u001b[0m\n\u001b[1;32m    707\u001b[0m             \u001b[0;32mreturn\u001b[0m \u001b[0mparsed_response\u001b[0m\u001b[0;34m\u001b[0m\u001b[0;34m\u001b[0m\u001b[0m\n",
      "\u001b[0;31mModelError\u001b[0m: An error occurred (ModelError) when calling the InvokeEndpoint operation: Received server error (502) from primary with message \"<html>\r\n<head><title>502 Bad Gateway</title></head>\r\n<body bgcolor=\"white\">\r\n<center><h1>502 Bad Gateway</h1></center>\r\n<hr><center>nginx/1.14.0 (Ubuntu)</center>\r\n</body>\r\n</html>\r\n\". See https://us-east-1.console.aws.amazon.com/cloudwatch/home?region=us-east-1#logEventViewer:group=/aws/sagemaker/Endpoints/whylabs-sagemaker in account 377983720232 for more information."
     ]
    }
   ],
   "source": [
    "# Invoke the endpoint using\n",
    "sg = session.client(\"runtime.sagemaker\", region_name=AWS_REGION_NAME)\n",
    "status = is_endpoint_running(ENDPOINT_NAME, AWS_PROFILE_NAME, AWS_REGION_NAME)\n",
    "# Check if model was created successfully\n",
    "if status == \"InService\":\n",
    "    response = sg.invoke_endpoint(\n",
    "        EndpointName=ENDPOINT_NAME,\n",
    "        Body=payload,\n",
    "        ContentType='application/json',\n",
    "    )\n",
    "    # Decode the response\n",
    "    print(json.loads(response[\"Body\"].read().decode(\"utf-8\")))\n",
    "else:\n",
    "    print(f\"Endpoint status is {status}.\")"
   ]
  },
  {
   "cell_type": "markdown",
   "id": "807404f5",
   "metadata": {
    "tags": []
   },
   "source": [
    "## Delete AWS resources"
   ]
  },
  {
   "cell_type": "code",
   "execution_count": null,
   "id": "73ca1eea",
   "metadata": {},
   "outputs": [],
   "source": [
    "status = is_endpoint_running(ENDPOINT_NAME, AWS_PROFILE_NAME, AWS_REGION_NAME)"
   ]
  },
  {
   "cell_type": "code",
   "execution_count": null,
   "id": "acdfd26b",
   "metadata": {},
   "outputs": [],
   "source": [
    "if status == \"InService\":\n",
    "    delete_model(sm, ENDPOINT_NAME)\n",
    "    delete_endpoint_config(sm, ENDPOINT_CONFIG_NAME)\n",
    "    delete_endpoint(sm, ENDPOINT_NAME)"
   ]
  },
  {
   "cell_type": "code",
   "execution_count": null,
   "id": "03da4537",
   "metadata": {},
   "outputs": [],
   "source": []
  }
 ],
 "metadata": {
  "kernelspec": {
   "display_name": "Python 3 (ipykernel)",
   "language": "python",
   "name": "python3"
  },
  "language_info": {
   "codemirror_mode": {
    "name": "ipython",
    "version": 3
   },
   "file_extension": ".py",
   "mimetype": "text/x-python",
   "name": "python",
   "nbconvert_exporter": "python",
   "pygments_lexer": "ipython3",
   "version": "3.7.11"
  }
 },
 "nbformat": 4,
 "nbformat_minor": 5
}
