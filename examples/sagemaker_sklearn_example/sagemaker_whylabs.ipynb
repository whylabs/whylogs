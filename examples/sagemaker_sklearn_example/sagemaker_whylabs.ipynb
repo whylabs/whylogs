{
 "cells": [
  {
   "cell_type": "markdown",
   "id": "610f2a13-c173-4c91-aa23-158fa76d5200",
   "metadata": {},
   "source": [
    "# Amazon SageMaker + WhyLabs"
   ]
  },
  {
   "cell_type": "code",
   "execution_count": null,
   "id": "0b42460f-c9bb-4380-aca7-8fe01cbcd28b",
   "metadata": {},
   "outputs": [],
   "source": [
    "import json\n",
    "import boto3\n",
    "from dotenv import dotenv_values\n",
    "from utils import delete_model, delete_endpoint_config, delete_endpoint, is_endpoint_running"
   ]
  },
  {
   "cell_type": "markdown",
   "id": "71922af9-d88b-400a-8456-6f29a31cf419",
   "metadata": {
    "tags": []
   },
   "source": [
    "## AWS configuration"
   ]
  },
  {
   "cell_type": "code",
   "execution_count": null,
   "id": "3c28ce56-5f73-45e1-bb38-7b08e6e7cb8f",
   "metadata": {},
   "outputs": [],
   "source": [
    "AWS_PROFILE_NAME = \"mfa\"\n",
    "AWS_REGION_NAME = session.region_name"
   ]
  },
  {
   "cell_type": "code",
   "execution_count": null,
   "id": "c49b8614-fcdf-4a5e-ace1-2991c91e6931",
   "metadata": {},
   "outputs": [],
   "source": [
    "session = boto3.session.Session(profile_name=AWS_PROFILE_NAME)\n",
    "sts = session.client(\"sts\")\n",
    "sm = session.client('sagemaker', region_name=AWS_REGION_NAME)\n",
    "AWS_ACCOUNT_ID = sts.get_caller_identity().get(\"Account\")\n",
    "DOCKER_IMAGE_NAME = \"whylabs-sagemaker\""
   ]
  },
  {
   "cell_type": "markdown",
   "id": "707e1738-3050-4231-af04-89e39bca1fad",
   "metadata": {},
   "source": [
    "## Custom image building and pushing to ECR"
   ]
  },
  {
   "cell_type": "code",
   "execution_count": 3,
   "id": "f9030bee-d19a-45db-8241-4c2dbc811d02",
   "metadata": {},
   "outputs": [
    {
     "name": "stdout",
     "output_type": "stream",
     "text": [
      "Image name whylabs-sagemaker\n",
      "Profile name default\n",
      "\n",
      "An error occurred (ExpiredToken) when calling the GetCallerIdentity operation: The security token included in the request is expired\n"
     ]
    }
   ],
   "source": [
    "!./build_push.sh $DOCKER_IMAGE_NAME $AWS_PROFILE_NAME"
   ]
  },
  {
   "cell_type": "markdown",
   "id": "3a99df86-6ae2-4fc5-b77b-4ce8866fcb9c",
   "metadata": {
    "jp-MarkdownHeadingCollapsed": true,
    "tags": []
   },
   "source": [
    "## Create SageMaker Endpoint"
   ]
  },
  {
   "cell_type": "markdown",
   "id": "745649ba-3397-4f69-aa47-9b59497a5322",
   "metadata": {},
   "source": [
    "The steps to deploy a SageMaker model are:\n",
    "\n",
    "1. Create a model\n",
    "2. Create an endpoint configuration\n",
    "3. Create a SageMaker endpoint"
   ]
  },
  {
   "cell_type": "markdown",
   "id": "42cb7666-53c6-43c8-b0b0-5b4d07092987",
   "metadata": {
    "tags": []
   },
   "source": [
    "### 1. Model Creation"
   ]
  },
  {
   "cell_type": "code",
   "execution_count": null,
   "id": "83887aea-7fc1-42de-bb15-d18cd6857a0a",
   "metadata": {},
   "outputs": [],
   "source": [
    "ECR_IMAGE_URI = f\"{AWS_ACCOUNT_ID}.dkr.ecr.{AWS_REGION_NAME}.amazonaws.com/{DOCKER_IMAGE_NAME}:latest\"\n",
    "ENDPOINT_NAME = \"whylabs-sagemaker\"\n",
    "EXECUTION_ROLE_ARN = f\"arn:aws:iam::{AWS_ACCOUNT_ID}:role/SageMakerExecution\"\n",
    "INSTANCE_TYPE = \"ml.m4.xlarge\""
   ]
  },
  {
   "cell_type": "markdown",
   "id": "165d64e8-fa09-4cee-afb4-b08e9b8dd2d6",
   "metadata": {},
   "source": [
    "Load variables important for __WhyLabs configuration__ defined inside __.env file__ as dictionary. This values will be settled once the docker container is running within SageMaker."
   ]
  },
  {
   "cell_type": "code",
   "execution_count": null,
   "id": "92a61e0e-ae0a-42d2-82ac-4f4f9954ff65",
   "metadata": {},
   "outputs": [],
   "source": [
    "# Load .env file as dictionary\n",
    "environment = dotenv_values(\"code/.env\")"
   ]
  },
  {
   "cell_type": "code",
   "execution_count": null,
   "id": "bae2eeb2-1b8c-4edb-969c-d60231393435",
   "metadata": {},
   "outputs": [],
   "source": [
    "# ECR image to be used\n",
    "PRIMARY_CONTAINER = {\n",
    "    'Image': ECR_IMAGE_URI, \n",
    "    \"Environment\": environment,\n",
    "}"
   ]
  },
  {
   "cell_type": "code",
   "execution_count": null,
   "id": "f36a316b-f3dd-4e8f-90ce-e483c1726d6f",
   "metadata": {},
   "outputs": [],
   "source": [
    "try:\n",
    "    # Create sagemaker model\n",
    "    r = sm.create_model(\n",
    "        ModelName=ENDPOINT_NAME,\n",
    "        ExecutionRoleArn=EXECUTION_ROLE_ARN,\n",
    "        PrimaryContainer=PRIMARY_CONTAINER,\n",
    "    )\n",
    "    print(\"SageMaker model created.\")\n",
    "except Exception as e:\n",
    "    print(e.response[\"Error\"])"
   ]
  },
  {
   "cell_type": "markdown",
   "id": "77416eff-ed61-435e-a45a-b78ea2150142",
   "metadata": {},
   "source": [
    "### 2. Endpoint Config creation"
   ]
  },
  {
   "cell_type": "code",
   "execution_count": null,
   "id": "51cb4f49-2aed-405d-9ff2-5a56f9bf69e8",
   "metadata": {},
   "outputs": [],
   "source": [
    "ENDPOINT_CONFIG_NAME = ENDPOINT_NAME + '-config'"
   ]
  },
  {
   "cell_type": "code",
   "execution_count": null,
   "id": "817870a2-13fd-4937-bec1-08e83b04649a",
   "metadata": {},
   "outputs": [],
   "source": [
    "try:\n",
    "    # create endpoint configuration\n",
    "    _ = sm.create_endpoint_config(\n",
    "        EndpointConfigName=ENDPOINT_CONFIG_NAME,\n",
    "        ProductionVariants=[\n",
    "            {\n",
    "                'InstanceType': INSTANCE_TYPE,\n",
    "                'InitialVariantWeight': 1,\n",
    "                'InitialInstanceCount': 1,\n",
    "                'ModelName': ENDPOINT_NAME,\n",
    "                'VariantName': 'AllTraffic'\n",
    "            }\n",
    "        ]\n",
    "    )\n",
    "    print(\"Endpoint configuration created.\")\n",
    "except Exception as e:\n",
    "    print(e.response[\"Error\"])"
   ]
  },
  {
   "cell_type": "markdown",
   "id": "31adabb4-99e4-49b0-901e-996fb2858bcd",
   "metadata": {},
   "source": [
    "### 3. Endpoint creation"
   ]
  },
  {
   "cell_type": "code",
   "execution_count": null,
   "id": "cf5b0cca-d415-45bf-867a-04e232ebd4fb",
   "metadata": {},
   "outputs": [],
   "source": [
    "try:\n",
    "    # create endpoint\n",
    "    r = sm.create_endpoint(\n",
    "        EndpointName=ENDPOINT_NAME,\n",
    "        EndpointConfigName=ENDPOINT_CONFIG_NAME\n",
    "    )\n",
    "    print(f\"Completed {endpoint_name} model endpoint deployment !!!\")\n",
    "except Exception as e:\n",
    "    print(e.response[\"Error\"])"
   ]
  },
  {
   "cell_type": "markdown",
   "id": "171495b4-5047-4271-b4e8-b1be77edb4a6",
   "metadata": {
    "jp-MarkdownHeadingCollapsed": true,
    "tags": []
   },
   "source": [
    "## Test Endpoint "
   ]
  },
  {
   "cell_type": "code",
   "execution_count": null,
   "id": "8b02bdd0-daa2-4695-86cc-a94286d9d68b",
   "metadata": {},
   "outputs": [],
   "source": [
    "# Payload for /invocations endpoint\n",
    "payload = json.dumps({\n",
    "    \"sepal_length_cm\": 5.1,\n",
    "    \"sepal_width_cm\": 3.5,\n",
    "    \"petal_length_cm\": 1.4,\n",
    "    \"petal_width_cm\": 0.2\n",
    "})"
   ]
  },
  {
   "cell_type": "code",
   "execution_count": null,
   "id": "620cd2c3-2336-430f-82ea-49326797d669",
   "metadata": {},
   "outputs": [],
   "source": [
    "# Invoke the endpoint using\n",
    "sg = session.client(\"runtime.sagemaker\", region_name=AWS_REGION_NAME)\n",
    "status = is_endpoint_running(ENDPOINT_NAME, AWS_PROFILE_NAME, AWS_REGION_NAME)\n",
    "# Check if model was created successfully\n",
    "if status == \"InService\":\n",
    "    response = sg.invoke_endpoint(\n",
    "        EndpointName=ENDPOINT_NAME,\n",
    "        Body=payload,\n",
    "        ContentType='application/json',\n",
    "    )\n",
    "    # Decode the response\n",
    "    print(json.loads(response[\"Body\"].read().decode(\"utf-8\")))\n",
    "else:\n",
    "    print(f\"Endpoint status is {status}\")"
   ]
  },
  {
   "cell_type": "markdown",
   "id": "89cc3616-f5b2-4b74-8bac-3079da0579e4",
   "metadata": {
    "jp-MarkdownHeadingCollapsed": true,
    "tags": []
   },
   "source": [
    "## Delete AWS resources"
   ]
  },
  {
   "cell_type": "code",
   "execution_count": null,
   "id": "ba6cdc66-cc4d-4e03-8326-e56bdd087153",
   "metadata": {},
   "outputs": [],
   "source": [
    "status = is_endpoint_running(ENDPOINT_NAME, AWS_PROFILE_NAME, AWS_REGION_NAME)"
   ]
  },
  {
   "cell_type": "code",
   "execution_count": null,
   "id": "69af58d2-208b-4c7b-a68a-f6a3e4351de4",
   "metadata": {},
   "outputs": [],
   "source": [
    "if status == \"InService\":\n",
    "    delete_model(sm, ENDPOINT_NAME)\n",
    "    delete_endpoint_config(sm, ENDPOINT_CONFIG_NAME)\n",
    "    delete_endpoint(sm, ENDPOINT_NAME)"
   ]
  },
  {
   "cell_type": "code",
   "execution_count": null,
   "id": "a8d37e23-1d1b-41ed-8d49-3c532e2b8093",
   "metadata": {},
   "outputs": [],
   "source": []
  },
  {
   "cell_type": "code",
   "execution_count": null,
   "id": "05665218-0ec8-4a2b-bcd9-363532c6a5bc",
   "metadata": {},
   "outputs": [],
   "source": []
  }
 ],
 "metadata": {
  "kernelspec": {
   "display_name": "Python 3 (ipykernel)",
   "language": "python",
   "name": "python3"
  },
  "language_info": {
   "codemirror_mode": {
    "name": "ipython",
    "version": 3
   },
   "file_extension": ".py",
   "mimetype": "text/x-python",
   "name": "python",
   "nbconvert_exporter": "python",
   "pygments_lexer": "ipython3",
   "version": "3.7.11"
  }
 },
 "nbformat": 4,
 "nbformat_minor": 5
}
