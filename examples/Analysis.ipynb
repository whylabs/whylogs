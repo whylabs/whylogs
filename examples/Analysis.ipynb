{
 "cells": [
  {
   "cell_type": "code",
   "execution_count": null,
   "metadata": {},
   "outputs": [],
   "source": [
    "%matplotlib inline\n",
    "\n",
    "import re\n",
    "import os.path\n",
    "\n",
    "import pandas as pd\n",
    "import numpy as np\n",
    "import matplotlib.pyplot as plt"
   ]
  },
  {
   "cell_type": "markdown",
   "metadata": {},
   "source": [
    "In this notebook, we will explore the generated files produced from `whylogs init` in the command line interface. This file has been generated during that process and should include helpful metadata to ease exploration.\n",
    "\n",
    "\n",
    "# Reading logs generated from whylogs CLI\n",
    "\n",
    "Running whylogs will produce the following four files:\n",
    "1. A flat summary file;\n",
    "2. A histograms file;\n",
    "3. A frequency file; and\n",
    "4. A binary file containing the raw data objects\n",
    "\n",
    "To interact with these files, we will be downloading and reading the generated profile into Pandas as dataframes.\n",
    "\n",
    "First, let's collect needed metadata from the command line process."
   ]
  },
  {
   "cell_type": "code",
   "execution_count": null,
   "metadata": {},
   "outputs": [],
   "source": [
    "# This cell is a generated using the `whylogs init` command and may note run.\n",
    "# If this notebook has not been created as a result of that command, replace commented variables\n",
    "# with strings containing the appropriate values for your use case.\n",
    "project_dir = \"<your project dir>\"\n",
    "datetime_column = None"
   ]
  },
  {
   "cell_type": "markdown",
   "metadata": {},
   "source": [
    "whylogs calculates and displays a number of metrics for the data that passes through. The carefully chosen metrics balance efficient storage and in-depth analysis of your data."
   ]
  },
  {
   "cell_type": "code",
   "execution_count": null,
   "metadata": {},
   "outputs": [],
   "source": [
    "# TODO: After generated cell, must confirm with Andy's CLI experience\n",
    "flat_summary = pd.read_csv(os.path.join(profile_dir, \"summary_summary.csv\"))\n",
    "flat_summary"
   ]
  },
  {
   "cell_type": "markdown",
   "metadata": {},
   "source": [
    "The flat summary file contains a summary of each variable of the dataset. It contains metrics that include descriptive statistics as well as metrics specifically for numeric, text, and categorical variables."
   ]
  },
  {
   "cell_type": "markdown",
   "metadata": {},
   "source": [
    "Let's look at the available variables from the dataset that are logged in the profile's flat_summary."
   ]
  },
  {
   "cell_type": "code",
   "execution_count": null,
   "metadata": {},
   "outputs": [],
   "source": [
    "# Print available variables for flat_summary\n",
    "print(flat_summary[\"column\"].unique())"
   ]
  },
  {
   "cell_type": "markdown",
   "metadata": {},
   "source": [
    "Choose one variable to do a deep dive."
   ]
  },
  {
   "cell_type": "code",
   "execution_count": null,
   "metadata": {},
   "outputs": [],
   "source": [
    "# Filter flat_summary to the desired variable\n",
    "variable = \"mths_since_last_record\"\n",
    "data = flat_summary[flat_summary[\"column\"]==variable]"
   ]
  },
  {
   "cell_type": "markdown",
   "metadata": {},
   "source": [
    "The inferred variable type metrics can tell us a lot about errors that may occur in the process."
   ]
  },
  {
   "cell_type": "code",
   "execution_count": null,
   "metadata": {},
   "outputs": [],
   "source": [
    "# Print data type percentage\n",
    "print(\"Percentage of data in inferred data type:\", data[\"inferred_dtype\"].values)"
   ]
  },
  {
   "cell_type": "markdown",
   "metadata": {},
   "source": [
    "Let's look at some metrics that hold type count information."
   ]
  },
  {
   "cell_type": "code",
   "execution_count": null,
   "metadata": {},
   "outputs": [],
   "source": [
    "# List all type count metrics\n",
    "regex = re.compile(\"type_(.*)_count\")\n",
    "metrics = list(filter(regex.match, flat_summary.columns))"
   ]
  },
  {
   "cell_type": "markdown",
   "metadata": {},
   "source": [
    "We can display this information using whichever visualization tools you are used to. Below is a simple chart created in `matplotlib`."
   ]
  },
  {
   "cell_type": "code",
   "execution_count": null,
   "metadata": {},
   "outputs": [],
   "source": [
    "# Display all type count metrics using matplotlib\n",
    "x = [i for i, _ in enumerate(metrics)]\n",
    "fig, ax = plt.subplots()\n",
    "plt.bar(x, np.squeeze(data[metrics].values))\n",
    "plt.title(\"Type counts for \"+variable)\n",
    "plt.ylabel(\"Count\")\n",
    "plt.xticks(x, metrics)\n",
    "plt.setp(ax.get_xticklabels(), rotation=-30, horizontalalignment='left')\n",
    "plt.show()"
   ]
  },
  {
   "cell_type": "markdown",
   "metadata": {},
   "source": [
    "In addition to the type metrics, there are loads of other useful metrics in the whylogs summaries. These include but are not limited to descriptive statistics, estimations with error intervals, and metrics related to missing values."
   ]
  },
  {
   "cell_type": "code",
   "execution_count": null,
   "metadata": {},
   "outputs": [],
   "source": [
    "metrics = flat_summary.columns\n",
    "print(metrics)"
   ]
  },
  {
   "cell_type": "markdown",
   "metadata": {},
   "source": [
    "There are many more visualizations one might generate from the flat_summary file.\n",
    "\n",
    "Let's move onto the histogram file. The histogram file contains information for numeric variables that allow us to create histograms and analyze distribution.\n",
    "\n",
    "We'll grab the data for another variable and plot it."
   ]
  },
  {
   "cell_type": "code",
   "execution_count": null,
   "metadata": {},
   "outputs": [],
   "source": [
    "histograms = pd.read_json(os.path.join(profile_dir, \"summary_histogram.json\"))"
   ]
  },
  {
   "cell_type": "code",
   "execution_count": null,
   "metadata": {},
   "outputs": [],
   "source": [
    "# Print valid variables for histograms\n",
    "print(histograms.keys())"
   ]
  },
  {
   "cell_type": "code",
   "execution_count": null,
   "metadata": {},
   "outputs": [],
   "source": [
    "# Filter flat_summary to the desired variable\n",
    "variable = \"mths_since_last_record\""
   ]
  },
  {
   "cell_type": "markdown",
   "metadata": {},
   "source": [
    "We can display this information from the histogram."
   ]
  },
  {
   "cell_type": "code",
   "execution_count": null,
   "metadata": {},
   "outputs": [],
   "source": [
    "# See one of the inspected histograms\n",
    "bins = histograms[variable]['bin_edges']\n",
    "n = histograms[variable]['counts']\n",
    "bin_width = np.diff(bins)\n",
    "\n",
    "plt.bar(bins[0:-1], n, bin_width, align='edge')\n",
    "plt.title(\"Histogram for \"+variable)\n",
    "plt.ylabel(\"Count\")\n",
    "plt.show()"
   ]
  },
  {
   "cell_type": "markdown",
   "metadata": {},
   "source": [
    "Finally, we have more detailed information on the frequencies of many variables in the dataset. These can be accessed through the generated frequencies file."
   ]
  },
  {
   "cell_type": "code",
   "execution_count": null,
   "metadata": {},
   "outputs": [],
   "source": [
    "frequencies = pd.read_csv(os.path.join(profile_dir, \"summary_strings.json\"))"
   ]
  }
 ],
 "metadata": {
  "kernelspec": {
   "display_name": "Python 3",
   "language": "python",
   "name": "python3"
  },
  "language_info": {
   "codemirror_mode": {
    "name": "ipython",
    "version": 3
   },
   "file_extension": ".py",
   "mimetype": "text/x-python",
   "name": "python",
   "nbconvert_exporter": "python",
   "pygments_lexer": "ipython3",
   "version": "3.8.8"
  },
  "pycharm": {
   "stem_cell": {
    "cell_type": "raw",
    "metadata": {
     "collapsed": false
    },
    "source": []
   }
  }
 },
 "nbformat": 4,
 "nbformat_minor": 4
}
