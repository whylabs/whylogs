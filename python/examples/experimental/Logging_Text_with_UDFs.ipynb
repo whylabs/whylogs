{
 "cells": [
  {
   "cell_type": "code",
   "execution_count": 2,
   "metadata": {},
   "outputs": [
    {
     "name": "stdout",
     "output_type": "stream",
     "text": [
      "\n",
      "\u001b[1m[\u001b[0m\u001b[34;49mnotice\u001b[0m\u001b[1;39;49m]\u001b[0m\u001b[39;49m A new release of pip is available: \u001b[0m\u001b[31;49m23.1.1\u001b[0m\u001b[39;49m -> \u001b[0m\u001b[32;49m23.1.2\u001b[0m\n",
      "\u001b[1m[\u001b[0m\u001b[34;49mnotice\u001b[0m\u001b[1;39;49m]\u001b[0m\u001b[39;49m To update, run: \u001b[0m\u001b[32;49mpip install --upgrade pip\u001b[0m\n",
      "Note: you may need to restart the kernel to use updated packages.\n"
     ]
    }
   ],
   "source": [
    "%pip install whylogs[all] textstat -q"
   ]
  },
  {
   "cell_type": "code",
   "execution_count": 3,
   "metadata": {},
   "outputs": [
    {
     "name": "stderr",
     "output_type": "stream",
     "text": [
      "/home/jamie/projects/v1/whylogs/python/.venv/lib/python3.8/site-packages/tqdm/auto.py:21: TqdmWarning: IProgress not found. Please update jupyter and ipywidgets. See https://ipywidgets.readthedocs.io/en/stable/user_install.html\n",
      "  from .autonotebook import tqdm as notebook_tqdm\n",
      "Downloading builder script: 100%|██████████| 4.31k/4.31k [00:00<00:00, 2.51MB/s]\n",
      "Downloading metadata: 100%|██████████| 2.17k/2.17k [00:00<00:00, 1.29MB/s]\n",
      "Downloading readme: 100%|██████████| 7.59k/7.59k [00:00<00:00, 2.99MB/s]\n"
     ]
    },
    {
     "name": "stdout",
     "output_type": "stream",
     "text": [
      "Downloading and preparing dataset imdb/plain_text to /home/jamie/.cache/huggingface/datasets/imdb/plain_text/1.0.0/d613c88cf8fa3bab83b4ded3713f1f74830d1100e171db75bbddb80b3345c9c0...\n"
     ]
    },
    {
     "name": "stderr",
     "output_type": "stream",
     "text": [
      "Downloading data: 100%|██████████| 84.1M/84.1M [00:02<00:00, 32.1MB/s]\n",
      "                                                                                              \r"
     ]
    },
    {
     "name": "stdout",
     "output_type": "stream",
     "text": [
      "Dataset imdb downloaded and prepared to /home/jamie/.cache/huggingface/datasets/imdb/plain_text/1.0.0/d613c88cf8fa3bab83b4ded3713f1f74830d1100e171db75bbddb80b3345c9c0. Subsequent calls will reuse this data.\n"
     ]
    },
    {
     "name": "stderr",
     "output_type": "stream",
     "text": [
      "100%|██████████| 3/3 [00:00<00:00, 398.45it/s]\n"
     ]
    }
   ],
   "source": [
    "from datasets import load_dataset\n",
    "\n",
    "dataset = load_dataset(\"imdb\")"
   ]
  },
  {
   "cell_type": "code",
   "execution_count": 4,
   "metadata": {},
   "outputs": [
    {
     "data": {
      "text/plain": [
       "DatasetDict({\n",
       "    train: Dataset({\n",
       "        features: ['text', 'label'],\n",
       "        num_rows: 25000\n",
       "    })\n",
       "    test: Dataset({\n",
       "        features: ['text', 'label'],\n",
       "        num_rows: 25000\n",
       "    })\n",
       "    unsupervised: Dataset({\n",
       "        features: ['text', 'label'],\n",
       "        num_rows: 50000\n",
       "    })\n",
       "})"
      ]
     },
     "execution_count": 4,
     "metadata": {},
     "output_type": "execute_result"
    }
   ],
   "source": [
    "dataset"
   ]
  },
  {
   "cell_type": "code",
   "execution_count": 15,
   "metadata": {},
   "outputs": [
    {
     "data": {
      "text/plain": [
       "'I rented I AM CURIOUS-YELLOW from my video store because of all the controversy that surrounded it when it was first released in 1967. I also heard that at first it was seized by U.S. customs if it ever tried to enter this country, therefore being a fan of films considered \"controversial\" I really had to see this for myself.<br /><br />The plot is centered around a young Swedish drama student named Lena who wants to learn everything she can about life. In particular she wants to focus her attentions to making some sort of documentary on what the average Swede thought about certain political issues such as the Vietnam War and race issues in the United States. In between asking politicians and ordinary denizens of Stockholm about their opinions on politics, she has sex with her drama teacher, classmates, and married men.<br /><br />What kills me about I AM CURIOUS-YELLOW is that 40 years ago, this was considered pornographic. Really, the sex and nudity scenes are few and far between, even then it\\'s not shot like some cheaply made porno. While my countrymen mind find it shocking, in reality sex and nudity are a major staple in Swedish cinema. Even Ingmar Bergman, arguably their answer to good old boy John Ford, had sex scenes in his films.<br /><br />I do commend the filmmakers for the fact that any sex shown in the film is shown for artistic purposes rather than just to shock people and make money to be shown in pornographic theaters in America. I AM CURIOUS-YELLOW is a good film for anyone wanting to study the meat and potatoes (no pun intended) of Swedish cinema. But really, this film doesn\\'t have much of a plot.'"
      ]
     },
     "execution_count": 15,
     "metadata": {},
     "output_type": "execute_result"
    }
   ],
   "source": [
    "import pandas as pd\n",
    "\n",
    "df = pd.DataFrame(data=dataset[\"train\"][\"text\"], columns=[\"text\"])\n",
    "df.head()"
   ]
  },
  {
   "cell_type": "code",
   "execution_count": 17,
   "metadata": {},
   "outputs": [
    {
     "name": "stdout",
     "output_type": "stream",
     "text": [
      "9.6\n",
      "10.9\n"
     ]
    }
   ],
   "source": [
    "import textstat\n",
    "\n",
    "# lets look at some scores from textstat,\n",
    "# nice and numeric so we can just wire these as whylogs UDFs\n",
    "print(textstat.flesch_kincaid_grade(df[\"text\"][0]))\n",
    "print(textstat.flesch_kincaid_grade(df[\"text\"][1]))"
   ]
  },
  {
   "cell_type": "code",
   "execution_count": 24,
   "metadata": {},
   "outputs": [],
   "source": [
    "from whylogs.core.datatypes import String\n",
    "from whylogs.experimental.core.metrics.udf_metric import (\n",
    "    register_metric_udf,\n",
    ")\n",
    "\n",
    "#Here's how you can wire a udf, just add the decorator like these three examples\n",
    "\n",
    "@register_metric_udf(col_type=String)\n",
    "def flesch_kincaid_grade(text: str) -> float:\n",
    "    # TODO: check if input is actually a string, try/except\n",
    "    return textstat.flesch_kincaid_grade(text)\n",
    "\n",
    "@register_metric_udf(col_type=String)\n",
    "def smog_index(text: str) -> float:\n",
    "    # TODO: check if input is actually a string, try/except\n",
    "    return textstat.smog_index(text)\n",
    "\n",
    "@register_metric_udf(col_type=String)\n",
    "def dale_chall_readability_score(text: str) -> float:\n",
    "    # TODO: check if input is actually a string, try/except\n",
    "    return textstat.dale_chall_readability_score(text)\n",
    "\n"
   ]
  },
  {
   "cell_type": "code",
   "execution_count": 25,
   "metadata": {},
   "outputs": [],
   "source": [
    "from whylogs.core.resolvers import STANDARD_RESOLVER\n",
    "from whylogs.core.schema import DeclarativeSchema\n",
    "from whylogs.experimental.core.metrics.udf_metric import (\n",
    "    generate_udf_schema,\n",
    ")\n",
    "\n",
    "# This is the glue code to wire in any udfs decorated previously\n",
    "# And this is something Jamie could extend by reading from a metric hub\n",
    "# but for now we can just decorate a few metrics like the cell above\n",
    "schema = DeclarativeSchema(\n",
    "    STANDARD_RESOLVER + generate_udf_schema(),\n",
    ")"
   ]
  },
  {
   "cell_type": "code",
   "execution_count": 27,
   "metadata": {},
   "outputs": [],
   "source": [
    "import whylogs as why\n",
    "\n",
    "# Then loggint the text with the collection of udfs is pretty easy (if slow on 25k rows of text)\n",
    "results = why.log(df, schema=schema)\n"
   ]
  },
  {
   "cell_type": "code",
   "execution_count": 28,
   "metadata": {},
   "outputs": [
    {
     "data": {
      "text/html": [
       "<div>\n",
       "<style scoped>\n",
       "    .dataframe tbody tr th:only-of-type {\n",
       "        vertical-align: middle;\n",
       "    }\n",
       "\n",
       "    .dataframe tbody tr th {\n",
       "        vertical-align: top;\n",
       "    }\n",
       "\n",
       "    .dataframe thead th {\n",
       "        text-align: right;\n",
       "    }\n",
       "</style>\n",
       "<table border=\"1\" class=\"dataframe\">\n",
       "  <thead>\n",
       "    <tr style=\"text-align: right;\">\n",
       "      <th></th>\n",
       "      <th>cardinality/est</th>\n",
       "      <th>cardinality/lower_1</th>\n",
       "      <th>cardinality/upper_1</th>\n",
       "      <th>counts/inf</th>\n",
       "      <th>counts/n</th>\n",
       "      <th>counts/nan</th>\n",
       "      <th>counts/null</th>\n",
       "      <th>distribution/max</th>\n",
       "      <th>distribution/mean</th>\n",
       "      <th>distribution/median</th>\n",
       "      <th>...</th>\n",
       "      <th>udf/smog_index:distribution/q_90</th>\n",
       "      <th>udf/smog_index:distribution/q_95</th>\n",
       "      <th>udf/smog_index:distribution/q_99</th>\n",
       "      <th>udf/smog_index:distribution/stddev</th>\n",
       "      <th>udf/smog_index:types/boolean</th>\n",
       "      <th>udf/smog_index:types/fractional</th>\n",
       "      <th>udf/smog_index:types/integral</th>\n",
       "      <th>udf/smog_index:types/object</th>\n",
       "      <th>udf/smog_index:types/string</th>\n",
       "      <th>udf/smog_index:types/tensor</th>\n",
       "    </tr>\n",
       "    <tr>\n",
       "      <th>column</th>\n",
       "      <th></th>\n",
       "      <th></th>\n",
       "      <th></th>\n",
       "      <th></th>\n",
       "      <th></th>\n",
       "      <th></th>\n",
       "      <th></th>\n",
       "      <th></th>\n",
       "      <th></th>\n",
       "      <th></th>\n",
       "      <th></th>\n",
       "      <th></th>\n",
       "      <th></th>\n",
       "      <th></th>\n",
       "      <th></th>\n",
       "      <th></th>\n",
       "      <th></th>\n",
       "      <th></th>\n",
       "      <th></th>\n",
       "      <th></th>\n",
       "      <th></th>\n",
       "    </tr>\n",
       "  </thead>\n",
       "  <tbody>\n",
       "    <tr>\n",
       "      <th>text</th>\n",
       "      <td>24879.188998</td>\n",
       "      <td>24561.455792</td>\n",
       "      <td>25204.84395</td>\n",
       "      <td>0</td>\n",
       "      <td>25000</td>\n",
       "      <td>0</td>\n",
       "      <td>0</td>\n",
       "      <td>NaN</td>\n",
       "      <td>0.0</td>\n",
       "      <td>None</td>\n",
       "      <td>...</td>\n",
       "      <td>12.9</td>\n",
       "      <td>13.8</td>\n",
       "      <td>15.9</td>\n",
       "      <td>2.25992</td>\n",
       "      <td>0</td>\n",
       "      <td>25000</td>\n",
       "      <td>0</td>\n",
       "      <td>0</td>\n",
       "      <td>0</td>\n",
       "      <td>0</td>\n",
       "    </tr>\n",
       "  </tbody>\n",
       "</table>\n",
       "<p>1 rows × 110 columns</p>\n",
       "</div>"
      ],
      "text/plain": [
       "        cardinality/est  cardinality/lower_1  cardinality/upper_1  counts/inf  \\\n",
       "column                                                                          \n",
       "text       24879.188998         24561.455792          25204.84395           0   \n",
       "\n",
       "        counts/n  counts/nan  counts/null  distribution/max  \\\n",
       "column                                                        \n",
       "text       25000           0            0               NaN   \n",
       "\n",
       "        distribution/mean distribution/median  ...  \\\n",
       "column                                         ...   \n",
       "text                  0.0                None  ...   \n",
       "\n",
       "        udf/smog_index:distribution/q_90  udf/smog_index:distribution/q_95  \\\n",
       "column                                                                       \n",
       "text                                12.9                              13.8   \n",
       "\n",
       "       udf/smog_index:distribution/q_99 udf/smog_index:distribution/stddev  \\\n",
       "column                                                                       \n",
       "text                               15.9                            2.25992   \n",
       "\n",
       "       udf/smog_index:types/boolean udf/smog_index:types/fractional  \\\n",
       "column                                                                \n",
       "text                              0                           25000   \n",
       "\n",
       "       udf/smog_index:types/integral udf/smog_index:types/object  \\\n",
       "column                                                             \n",
       "text                               0                           0   \n",
       "\n",
       "       udf/smog_index:types/string udf/smog_index:types/tensor  \n",
       "column                                                          \n",
       "text                             0                           0  \n",
       "\n",
       "[1 rows x 110 columns]"
      ]
     },
     "execution_count": 28,
     "metadata": {},
     "output_type": "execute_result"
    }
   ],
   "source": [
    "# we can upload these to whylabs but lets check if the udfs show up here\n",
    "results.view().to_pandas()"
   ]
  }
 ],
 "metadata": {
  "kernelspec": {
   "display_name": ".venv",
   "language": "python",
   "name": "python3"
  },
  "language_info": {
   "codemirror_mode": {
    "name": "ipython",
    "version": 3
   },
   "file_extension": ".py",
   "mimetype": "text/x-python",
   "name": "python",
   "nbconvert_exporter": "python",
   "pygments_lexer": "ipython3",
   "version": "3.8.10"
  },
  "orig_nbformat": 4
 },
 "nbformat": 4,
 "nbformat_minor": 2
}
