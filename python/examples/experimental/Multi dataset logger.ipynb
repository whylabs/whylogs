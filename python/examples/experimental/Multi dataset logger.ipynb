{
 "cells": [
  {
   "cell_type": "code",
   "execution_count": 1,
   "id": "d026913b",
   "metadata": {},
   "outputs": [
    {
     "name": "stdout",
     "output_type": "stream",
     "text": [
      "Requirement already satisfied: whylogs[whylabs] in /home/anthony/workspace/whylogs/python/.venv/lib/python3.10/site-packages (1.1.28)\n",
      "Requirement already satisfied: whylogs-sketching>=3.4.1.dev3 in /home/anthony/workspace/whylogs/python/.venv/lib/python3.10/site-packages (from whylogs[whylabs]) (3.4.1.dev3)\n",
      "Requirement already satisfied: protobuf>=3.19.4 in /home/anthony/workspace/whylogs/python/.venv/lib/python3.10/site-packages (from whylogs[whylabs]) (4.22.1)\n",
      "Requirement already satisfied: typing-extensions>=3.10 in /home/anthony/workspace/whylogs/python/.venv/lib/python3.10/site-packages (from whylogs[whylabs]) (4.5.0)\n",
      "Requirement already satisfied: requests<3.0,>=2.27 in /home/anthony/workspace/whylogs/python/.venv/lib/python3.10/site-packages (from whylogs[whylabs]) (2.28.2)\n",
      "Requirement already satisfied: whylabs-client>=0.4.2 in /home/anthony/workspace/whylogs/python/.venv/lib/python3.10/site-packages (from whylogs[whylabs]) (0.4.3)\n",
      "Requirement already satisfied: charset-normalizer<4,>=2 in /home/anthony/workspace/whylogs/python/.venv/lib/python3.10/site-packages (from requests<3.0,>=2.27->whylogs[whylabs]) (3.1.0)\n",
      "Requirement already satisfied: urllib3<1.27,>=1.21.1 in /home/anthony/workspace/whylogs/python/.venv/lib/python3.10/site-packages (from requests<3.0,>=2.27->whylogs[whylabs]) (1.26.15)\n",
      "Requirement already satisfied: certifi>=2017.4.17 in /home/anthony/workspace/whylogs/python/.venv/lib/python3.10/site-packages (from requests<3.0,>=2.27->whylogs[whylabs]) (2022.12.7)\n",
      "Requirement already satisfied: idna<4,>=2.5 in /home/anthony/workspace/whylogs/python/.venv/lib/python3.10/site-packages (from requests<3.0,>=2.27->whylogs[whylabs]) (3.4)\n",
      "Requirement already satisfied: python-dateutil in /home/anthony/workspace/whylogs/python/.venv/lib/python3.10/site-packages (from whylabs-client>=0.4.2->whylogs[whylabs]) (2.8.2)\n",
      "Requirement already satisfied: six>=1.5 in /home/anthony/workspace/whylogs/python/.venv/lib/python3.10/site-packages (from python-dateutil->whylabs-client>=0.4.2->whylogs[whylabs]) (1.16.0)\n",
      "\n",
      "\u001b[1m[\u001b[0m\u001b[34;49mnotice\u001b[0m\u001b[1;39;49m]\u001b[0m\u001b[39;49m A new release of pip is available: \u001b[0m\u001b[31;49m23.0.1\u001b[0m\u001b[39;49m -> \u001b[0m\u001b[32;49m23.1.2\u001b[0m\n",
      "\u001b[1m[\u001b[0m\u001b[34;49mnotice\u001b[0m\u001b[1;39;49m]\u001b[0m\u001b[39;49m To update, run: \u001b[0m\u001b[32;49m/home/anthony/workspace/whylogs/python/.venv/bin/python -m pip install --upgrade pip\u001b[0m\n",
      "Note: you may need to restart the kernel to use updated packages.\n",
      "Requirement already satisfied: faster-fifo in /home/anthony/workspace/whylogs/python/.venv/lib/python3.10/site-packages (1.4.5)\n",
      "Requirement already satisfied: cython>=0.29 in /home/anthony/workspace/whylogs/python/.venv/lib/python3.10/site-packages (from faster-fifo) (0.29.34)\n",
      "Requirement already satisfied: setuptools>=45.2.0 in /home/anthony/workspace/whylogs/python/.venv/lib/python3.10/site-packages (from faster-fifo) (67.6.0)\n",
      "\n",
      "\u001b[1m[\u001b[0m\u001b[34;49mnotice\u001b[0m\u001b[1;39;49m]\u001b[0m\u001b[39;49m A new release of pip is available: \u001b[0m\u001b[31;49m23.0.1\u001b[0m\u001b[39;49m -> \u001b[0m\u001b[32;49m23.1.2\u001b[0m\n",
      "\u001b[1m[\u001b[0m\u001b[34;49mnotice\u001b[0m\u001b[1;39;49m]\u001b[0m\u001b[39;49m To update, run: \u001b[0m\u001b[32;49m/home/anthony/workspace/whylogs/python/.venv/bin/python -m pip install --upgrade pip\u001b[0m\n",
      "Note: you may need to restart the kernel to use updated packages.\n"
     ]
    }
   ],
   "source": [
    "%pip install whylogs[whylabs]\n",
    "%pip install faster-fifo "
   ]
  },
  {
   "cell_type": "code",
   "execution_count": 2,
   "id": "c5ac0c04",
   "metadata": {},
   "outputs": [
    {
     "name": "stderr",
     "output_type": "stream",
     "text": [
      "/home/anthony/workspace/whylogs/python/.venv/lib/python3.10/site-packages/scipy/__init__.py:146: UserWarning: A NumPy version >=1.16.5 and <1.23.0 is required for this version of SciPy (detected version 1.24.2\n",
      "  warnings.warn(f\"A NumPy version >={np_minversion} and <{np_maxversion}\"\n"
     ]
    }
   ],
   "source": [
    "from whylogs.api.logger.experimental.multi_dataset_logger.process_logger import ProfileActor\n",
    "from whylogs.api.logger.experimental.multi_dataset_logger.time_util import TimeGranularity, Schedule\n",
    "from whylogs.api.writer.whylabs import WhyLabsWriter\n",
    "\n",
    "import os, getpass\n",
    "\n",
    "import logging\n",
    "logger = logging.getLogger()\n",
    "logger.setLevel(logging.DEBUG)"
   ]
  },
  {
   "cell_type": "code",
   "execution_count": 3,
   "id": "510d69d6",
   "metadata": {},
   "outputs": [
    {
     "name": "stdout",
     "output_type": "stream",
     "text": [
      "Enter your WhyLabs Org ID\n"
     ]
    }
   ],
   "source": [
    "print(\"Enter your WhyLabs Org ID\")\n",
    "os.environ[\"WHYLABS_DEFAULT_ORG_ID\"] = \"org-0\""
   ]
  },
  {
   "cell_type": "code",
   "execution_count": 4,
   "id": "592b1f42",
   "metadata": {},
   "outputs": [
    {
     "name": "stdout",
     "output_type": "stream",
     "text": [
      "Enter your WhyLabs API key\n",
      "Using API Key ID:  hDQSx9nXzJ\n"
     ]
    }
   ],
   "source": [
    "print(\"Enter your WhyLabs API key\")\n",
    "os.environ[\"WHYLABS_API_KEY\"] = \"hDQSx9nXzJ.viriMIcZYTnnlAob7wSl7Nbg18v84vISOS5uHYTzFVTNSvEplSlfO\"\n",
    "print(\"Using API Key ID: \", os.environ[\"WHYLABS_API_KEY\"][0:10])\n"
   ]
  },
  {
   "cell_type": "code",
   "execution_count": 5,
   "id": "92827496",
   "metadata": {},
   "outputs": [],
   "source": [
    "# Create a logger that will write hourly profiles to WhyLabs every 10 minutes\n",
    "writer = WhyLabsWriter(\n",
    "    org_id=os.environ[\"WHYLABS_DEFAULT_ORG_ID\"], \n",
    "    api_key=os.environ[\"WHYLABS_API_KEY\"], \n",
    "    dataset_id=\"model-48\"\n",
    ")\n",
    "schedule = Schedule(cadence=TimeGranularity.Minute, interval=1)\n",
    "logger = ProfileActor(\n",
    "    aggregate_by=TimeGranularity.Hour, \n",
    "    write_schedule=schedule,\n",
    "    writers=[writer],\n",
    "    # Can optionally provide a dataset schema here as well.\n",
    ")"
   ]
  },
  {
   "cell_type": "code",
   "execution_count": 6,
   "id": "e029ae5c",
   "metadata": {},
   "outputs": [],
   "source": [
    "data = [\n",
    "    {'col1': 2, 'col2': 6.0, 'col3': 'FOO'},\n",
    "    {'col1': 57, 'col2': 7.0, 'col3': 'BAR'},\n",
    "    {'col1': 2, 'col2': 9.0, 'col3': 'FOO'},\n",
    "    {'col1': 60, 'col2': 1.1, 'col3': 'FOO'},\n",
    "    {'col4': 6000},\n",
    "]"
   ]
  },
  {
   "cell_type": "code",
   "execution_count": 7,
   "id": "337e97f1",
   "metadata": {},
   "outputs": [],
   "source": [
    "# Log a collection of rows. It can be a single row, or a pandas data frame as well.\n",
    "logger.log(data)"
   ]
  },
  {
   "cell_type": "code",
   "execution_count": null,
   "id": "fa823ca6",
   "metadata": {},
   "outputs": [],
   "source": []
  },
  {
   "cell_type": "code",
   "execution_count": 8,
   "id": "066c2dfc",
   "metadata": {},
   "outputs": [],
   "source": [
    "# Manually trigger a write.\n",
    "# logger.flush()\n",
    "\n",
    "# Writes also automatically happen when you close the logger\n",
    "# logger.close()"
   ]
  }
 ],
 "metadata": {
  "kernelspec": {
   "display_name": "Python 3 (ipykernel)",
   "language": "python",
   "name": "python3"
  },
  "language_info": {
   "codemirror_mode": {
    "name": "ipython",
    "version": 3
   },
   "file_extension": ".py",
   "mimetype": "text/x-python",
   "name": "python",
   "nbconvert_exporter": "python",
   "pygments_lexer": "ipython3",
   "version": "3.10.8"
  }
 },
 "nbformat": 4,
 "nbformat_minor": 5
}
