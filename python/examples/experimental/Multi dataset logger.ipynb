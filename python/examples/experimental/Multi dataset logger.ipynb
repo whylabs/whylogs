{
 "cells": [
  {
   "cell_type": "code",
   "execution_count": null,
   "id": "d026913b",
   "metadata": {},
   "outputs": [],
   "source": [
    "%pip install whylogs[whylabs]"
   ]
  },
  {
   "cell_type": "code",
   "execution_count": 5,
   "id": "c5ac0c04",
   "metadata": {},
   "outputs": [],
   "source": [
    "from whylogs.api.logger.experimental.multi_dataset_logger.multi_dataset_rolling_logger import MultiDatasetRollingLogger\n",
    "from whylogs.api.logger.experimental.multi_dataset_logger.time_util import TimeGranularity, Schedule\n",
    "from whylogs.api.writer.whylabs import WhyLabsWriter\n",
    "\n",
    "import os, getpass"
   ]
  },
  {
   "cell_type": "code",
   "execution_count": 6,
   "id": "510d69d6",
   "metadata": {},
   "outputs": [
    {
     "name": "stdout",
     "output_type": "stream",
     "text": [
      "Enter your WhyLabs Org ID\n",
      "org-123\n"
     ]
    }
   ],
   "source": [
    "print(\"Enter your WhyLabs Org ID\")\n",
    "os.environ[\"WHYLABS_DEFAULT_ORG_ID\"] = input()"
   ]
  },
  {
   "cell_type": "code",
   "execution_count": 7,
   "id": "592b1f42",
   "metadata": {},
   "outputs": [
    {
     "name": "stdout",
     "output_type": "stream",
     "text": [
      "Enter your WhyLabs API key\n",
      "········\n",
      "Using API Key ID:  xxxxxxxxxx\n"
     ]
    }
   ],
   "source": [
    "print(\"Enter your WhyLabs API key\")\n",
    "os.environ[\"WHYLABS_API_KEY\"] = getpass.getpass()\n",
    "print(\"Using API Key ID: \", os.environ[\"WHYLABS_API_KEY\"][0:10])\n"
   ]
  },
  {
   "cell_type": "code",
   "execution_count": 9,
   "id": "92827496",
   "metadata": {},
   "outputs": [],
   "source": [
    "# Create a logger that will write hourly profiles to WhyLabs every 10 minutes\n",
    "writer = WhyLabsWriter(\n",
    "    org_id=os.environ[\"WHYLABS_DEFAULT_ORG_ID\"], \n",
    "    api_key=os.environ[\"WHYLABS_API_KEY\"], \n",
    "    dataset_id=\"model-1\"\n",
    ")\n",
    "schedule = Schedule(cadence=TimeGranularity.Minute, interval=10)\n",
    "logger = MultiDatasetRollingLogger(\n",
    "    aggregate_by=TimeGranularity.Hour, \n",
    "    write_schedule=schedule,\n",
    "    writers=[writer],\n",
    "    # Can optionally provide a dataset schema here as well.\n",
    ")"
   ]
  },
  {
   "cell_type": "code",
   "execution_count": 10,
   "id": "e029ae5c",
   "metadata": {},
   "outputs": [],
   "source": [
    "data = [\n",
    "    {'col1': 2, 'col2': 6.0, 'col3': 'FOO'},\n",
    "    {'col1': 57, 'col2': 7.0, 'col3': 'BAR'},\n",
    "    {'col1': 2, 'col2': 9.0, 'col3': 'FOO'},\n",
    "    {'col1': 60, 'col2': 1.1, 'col3': 'FOO'},\n",
    "]"
   ]
  },
  {
   "cell_type": "code",
   "execution_count": 11,
   "id": "337e97f1",
   "metadata": {},
   "outputs": [],
   "source": [
    "# Log a collectio nof rows. It can be a single row, or a pandas data frame as well.\n",
    "logger.log(data)"
   ]
  },
  {
   "cell_type": "code",
   "execution_count": null,
   "id": "066c2dfc",
   "metadata": {},
   "outputs": [],
   "source": [
    "# Manually trigger a write.\n",
    "logger.flush()\n",
    "\n",
    "# Writes also automatically happen when you close the logger\n",
    "logger.close()"
   ]
  }
 ],
 "metadata": {
  "kernelspec": {
   "display_name": "Python 3 (ipykernel)",
   "language": "python",
   "name": "python3"
  },
  "language_info": {
   "codemirror_mode": {
    "name": "ipython",
    "version": 3
   },
   "file_extension": ".py",
   "mimetype": "text/x-python",
   "name": "python",
   "nbconvert_exporter": "python",
   "pygments_lexer": "ipython3",
   "version": "3.10.8"
  }
 },
 "nbformat": 4,
 "nbformat_minor": 5
}
