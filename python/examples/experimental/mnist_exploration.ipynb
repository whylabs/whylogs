{
 "cells": [
  {
   "cell_type": "code",
   "execution_count": null,
   "metadata": {},
   "outputs": [],
   "source": [
    "import os\n",
    "import pickle as pkl\n",
    "\n",
    "import numpy as np\n",
    "import pandas as pd\n",
    "import seaborn as sns\n",
    "import matplotlib.pyplot as plt\n",
    "\n",
    "from sklearn.cluster import KMeans\n",
    "from sklearn.datasets import fetch_openml\n",
    "from sklearn.decomposition import PCA\n",
    "from sklearn.manifold import TSNE\n",
    "from sklearn.metrics.pairwise import cosine_distances, euclidean_distances\n",
    "from sklearn.model_selection import train_test_split\n",
    "\n",
    "np.set_printoptions(suppress=True)"
   ]
  },
  {
   "cell_type": "code",
   "execution_count": null,
   "metadata": {},
   "outputs": [],
   "source": [
    "if os.path.exists(\"mnist_784_X_y.pkl\"):\n",
    "    X, y = pkl.load(open(\"mnist_784_X_y.pkl\", 'rb'))\n",
    "else:\n",
    "    X, y = fetch_openml(\"mnist_784\", version=1, return_X_y=True, as_frame=False)\n",
    "\n",
    "X_train, X_test, y_train, y_test = train_test_split(X, y, test_size=0.1)"
   ]
  },
  {
   "cell_type": "code",
   "execution_count": null,
   "metadata": {},
   "outputs": [],
   "source": [
    "X_test_reversed = np.flip(X_test, axis=1)\n",
    "X_test_sorted = np.sort(X_test, axis=1)\n",
    "X_test_normalized = X_test / 255.0\n",
    "X_test_clipped = np.clip(X_test, a_min=0, a_max=200)\n",
    "X_test_shift_no_1s = X_test[y_test!=\"1\", :]\n",
    "y_test_shift_no_1s = y_test[y_test!=\"1\"]\n",
    "X_test_shift_no_9s = X_test[y_test!=\"9\", :]\n",
    "y_test_shift_no_9s = y_test[y_test!=\"9\"]"
   ]
  },
  {
   "attachments": {},
   "cell_type": "markdown",
   "metadata": {},
   "source": [
    "The centroid references always matched the label, but the counts of closest references did not match. Consider label 9 in our PCA. Very nearby are the centroids for 7 and 4. So in the cases "
   ]
  },
  {
   "cell_type": "code",
   "execution_count": null,
   "metadata": {},
   "outputs": [],
   "source": [
    "class ReferenceSelector:\n",
    "    def __init__(self):\n",
    "        self.n_references = 0\n",
    "        self.ref_labels = None\n",
    "\n",
    "    def calculate_references(self, X: np.array, y: np.array):\n",
    "        raise NotImplementedError()"
   ]
  },
  {
   "cell_type": "code",
   "execution_count": null,
   "metadata": {},
   "outputs": [],
   "source": [
    "class PCACentroids(ReferenceSelector):\n",
    "    def __init__(self, n_components=2, lower_percentile_limit=0, upper_percentile_limit=0):\n",
    "        super().__init__()\n",
    "        self.n_components = n_components\n",
    "        self.lower_percentile_limit = lower_percentile_limit\n",
    "        self.upper_percentile_limit = upper_percentile_limit\n",
    "\n",
    "    def calculate_references(self, X: np.array, y: np.array):\n",
    "        # Fit PCA\n",
    "        pca = PCA(n_components=self.n_components)\n",
    "        X_pca = pca.fit_transform(X)\n",
    "\n",
    "        # Find centroids for each label in PCA space\n",
    "        n_labels = np.unique(y).shape[0]\n",
    "        refs = [None] * n_labels\n",
    "        labels = sorted(np.unique(y))\n",
    "        self.n_references = len(labels)\n",
    "        self.ref_labels = labels\n",
    "        for i, label in enumerate(labels):\n",
    "            filtered_X_pca = X_pca[y==label]\n",
    "            if self.lower_percentile_limit != 0 or self.upper_percentile_limit != 0:\n",
    "                lp = np.percentile(filtered_X_pca, self.lower_percentile_limit)\n",
    "                up = np.percentile(filtered_X_pca, self.upper_percentile_limit)\n",
    "                filtered_X_pca = filtered_X_pca[(lp < filtered_X_pca) & (filtered_X_pca < up)]\n",
    "            refs[i] = filtered_X_pca.mean(axis=0)\n",
    "        refs = np.array(refs)\n",
    "\n",
    "        # Convert centroids back to raw space\n",
    "        raw_refs = pca.inverse_transform(refs)\n",
    "\n",
    "        return raw_refs"
   ]
  },
  {
   "cell_type": "code",
   "execution_count": null,
   "metadata": {},
   "outputs": [],
   "source": [
    "class PCAKMeans(ReferenceSelector):\n",
    "    def __init__(self, n_clusters=8, n_components=2, kmeans_kwargs={}):\n",
    "        super().__init__()\n",
    "        self.n_clusters = n_clusters\n",
    "        self.n_components = n_components\n",
    "        self.kmeans_kwargs = kmeans_kwargs\n",
    "\n",
    "    def calculate_references(self, X: np.array, y: np.array):\n",
    "        self.n_references = self.n_clusters\n",
    "        self.ref_labels = list(range(self.n_clusters))\n",
    "\n",
    "        # Fit PCA first\n",
    "        pca = PCA(n_components=self.n_components)\n",
    "        X_pca = pca.fit_transform(X)\n",
    "\n",
    "        # Find k-means clusters\n",
    "        kmeans = KMeans(n_clusters=self.n_clusters, **self.kmeans_kwargs)\n",
    "        kmeans.fit(X_pca)\n",
    "        refs = kmeans.cluster_centers_\n",
    "        \n",
    "        # Convert centroids back to raw space\n",
    "        raw_refs = pca.inverse_transform(refs)\n",
    "\n",
    "        return raw_refs"
   ]
  },
  {
   "cell_type": "code",
   "execution_count": null,
   "metadata": {},
   "outputs": [],
   "source": [
    "class EmbeddingsAnalysis:\n",
    "    distance_fns = {'euclidean': euclidean_distances, 'cosine': cosine_distances}\n",
    "\n",
    "    def __init__(self, X, y=None, \n",
    "                 distance='cosine',\n",
    "                 reference_selector: ReferenceSelector = PCACentroids(n_components=2)):\n",
    "        if distance not in EmbeddingsAnalysis.distance_fns:\n",
    "            raise ValueError(f\"Distance not valid. Choose one of {list(EmbeddingsAnalysis.distance_fns.keys())}.\")\n",
    "        self.X = X\n",
    "        self.y = y\n",
    "        self.labels = sorted(np.unique(y))\n",
    "        self.distance_method = EmbeddingsAnalysis.distance_fns[distance]\n",
    "        self.plot_pca = None\n",
    "        self.X_plot_pca = None\n",
    "        self.refs_plot_pca = None\n",
    "        self.X_ref_dists = None\n",
    "        self.X_ref_closest = None\n",
    "\n",
    "        print(\"Calculating references...\", end=\" \")\n",
    "        self.refs = reference_selector.calculate_references(X, y)\n",
    "        self.n_references = reference_selector.n_references\n",
    "        self.ref_labels = reference_selector.ref_labels\n",
    "        print(\"Done.\")\n",
    "\n",
    "        print(\"Calculating distances from data points to references...\", end=\" \")\n",
    "        self.X_ref_dists = self.distance_method(self.X, self.refs)\n",
    "        print(\"Done.\")\n",
    "\n",
    "        print(\"Finding closest reference for each data point...\", end=\" \")\n",
    "        self.X_ref_closest = np.argmin(self.X_ref_dists, axis=1)\n",
    "        print(\"Done.\")\n",
    "\n",
    "    def plot(self, X = None, y = None, n: int = 1000, show_references: bool = True, method: str = 'pca'):\n",
    "        if self.X_plot_pca is None:\n",
    "            print(\"Fitting PCA to data for plot for all data...\", end=\" \")\n",
    "            # Fit PCA\n",
    "            self.plot_pca = PCA(n_components=2)\n",
    "            self.X_plot_pca = self.plot_pca.fit_transform(self.X)\n",
    "            print(\"Done.\")\n",
    "        \n",
    "        X_plot = self.X_plot_pca if X is None else self.plot_pca.transform(X)\n",
    "        y_plot = self.y if y is None else y\n",
    "\n",
    "        fig, ax = plt.subplots()\n",
    "        \n",
    "        if y_plot is not None:\n",
    "            sns.scatterplot(x=X_plot[:n, 0], y=X_plot[:n, 1], hue=y_plot[:n], s=20, ax=ax)\n",
    "        else:\n",
    "            sns.scatterplot(x=X_plot[:n, 0], y=X_plot[:n, 1], s=20, ax=ax)\n",
    "        \n",
    "        if show_references and self.refs is not None:\n",
    "            if self.refs_plot_pca is None:\n",
    "                self.refs_plot_pca = self.plot_pca.transform(self.refs)\n",
    "            sns.scatterplot(x=self.refs_plot_pca[:, 0], y=self.refs_plot_pca[:, 1], color=\"black\", marker=\"X\", s=0, ax=ax)\n",
    "            # centroid labels\n",
    "            for i, ref_label in enumerate(self.ref_labels):\n",
    "                plt.text(x=self.refs_plot_pca[i, 0], y=self.refs_plot_pca[i, 1], s=str(i), horizontalalignment='center', \n",
    "                        color='black', weight='bold')\n",
    "    \n",
    "    def plot_reference_distances(self, X = None, n: int = 1000):\n",
    "        X_plot = self.X_ref_dists if X is None else self.distance_method(X, self.refs)\n",
    "        \n",
    "        return sns.displot(data=pd.melt(pd.DataFrame(X_plot[:n]), var_name=\"Reference index\", value_name=\"Distance\"),\n",
    "                               x=\"Distance\", col=\"Reference index\", col_wrap=2, kind='kde', height=1, aspect=3)\n",
    "\n",
    "    def plot_closest_references_by_label(self, X = None, y = None, n: int = None):\n",
    "        X_plot = self.X_ref_closest if X is None else np.argmin(self.distance_method(X, self.refs), axis=1)\n",
    "        y_plot = self.y if X is None else y\n",
    "        \n",
    "        if n is None: \n",
    "            n = len(X_plot)\n",
    "        \n",
    "        closest_ref_count_by_label = []\n",
    "        for label in self.labels:\n",
    "            closest_ref_count_by_label.append(np.bincount(X_plot[:n][y_plot[:n]==label], \n",
    "                                                          minlength=self.n_references))\n",
    "        closest_ref_count_by_label = np.array(closest_ref_count_by_label)\n",
    "\n",
    "        return sns.heatmap(closest_ref_count_by_label, annot=True, fmt=\".0f\", linewidth=1, linecolor='w').set(xlabel=\"Closest reference\", ylabel=\"True label\")\n",
    "    \n",
    "    def plot_closest_references(self, X = None, y = None, n: int = None):\n",
    "        X_plot = self.X_ref_closest if X is None else np.argmin(self.distance_method(X, self.refs), axis=1)\n",
    "        y_plot = self.y if X is None else y\n",
    "        \n",
    "        if n is None:\n",
    "            n = len(X_plot)\n",
    "        closest_ref_count = np.bincount(X_plot[:n], minlength=self.n_references)\n",
    "\n",
    "        return sns.barplot(x=list(range(self.n_references)), y=closest_ref_count\n",
    "                          ).set(xlabel=\"Reference index\", ylabel=\"Closest count\")"
   ]
  },
  {
   "cell_type": "code",
   "execution_count": null,
   "metadata": {},
   "outputs": [],
   "source": [
    "b = EmbeddingsAnalysis(X_train, y_train, distance='euclidean', reference_selector=PCACentroids(n_components=20))"
   ]
  },
  {
   "cell_type": "code",
   "execution_count": null,
   "metadata": {},
   "outputs": [],
   "source": [
    "b.plot()"
   ]
  },
  {
   "cell_type": "code",
   "execution_count": null,
   "metadata": {},
   "outputs": [],
   "source": [
    "b.plot(X=X_test_shift_no_1s, y=y_test_shift_no_1s)\n"
   ]
  },
  {
   "cell_type": "code",
   "execution_count": null,
   "metadata": {},
   "outputs": [],
   "source": [
    "b.plot_reference_distances()"
   ]
  },
  {
   "cell_type": "code",
   "execution_count": null,
   "metadata": {},
   "outputs": [],
   "source": [
    "b.plot_reference_distances(X=X_test_shift_no_1s)"
   ]
  },
  {
   "cell_type": "code",
   "execution_count": null,
   "metadata": {},
   "outputs": [],
   "source": [
    "b.plot_closest_references()"
   ]
  },
  {
   "cell_type": "code",
   "execution_count": null,
   "metadata": {},
   "outputs": [],
   "source": [
    "b.plot_closest_references(X=X_test_shift_no_1s, y=y_test_shift_no_1s)"
   ]
  },
  {
   "cell_type": "code",
   "execution_count": null,
   "metadata": {},
   "outputs": [],
   "source": [
    "b.plot_closest_references_by_label()"
   ]
  },
  {
   "cell_type": "code",
   "execution_count": null,
   "metadata": {},
   "outputs": [],
   "source": [
    "{|\"bel(X=X_test_shift_no_1s, y=y_test_shift_no_1s)"
   ]
  },
  {
   "cell_type": "code",
   "execution_count": null,
   "metadata": {},
   "outputs": [],
   "source": [
    "a = EmbeddingsAnalysis(X, y, reference_selector=PCACentroids(n_components=20))"
   ]
  },
  {
   "cell_type": "code",
   "execution_count": null,
   "metadata": {},
   "outputs": [],
   "source": [
    "a.plot()"
   ]
  },
  {
   "cell_type": "code",
   "execution_count": null,
   "metadata": {},
   "outputs": [],
   "source": [
    "a.plot_closest_references_by_label()"
   ]
  },
  {
   "cell_type": "code",
   "execution_count": null,
   "metadata": {},
   "outputs": [],
   "source": [
    "a.plot_reference_distances()"
   ]
  },
  {
   "cell_type": "code",
   "execution_count": null,
   "metadata": {},
   "outputs": [],
   "source": [
    "np.flip(np.array([[1, 2, 3, 4], [5, 6, 7, 8]]), axis=1)"
   ]
  },
  {
   "cell_type": "code",
   "execution_count": null,
   "metadata": {},
   "outputs": [],
   "source": [
    "np.array([[1, 2, 3, 4], [5, 6, 7, 8]]).shape"
   ]
  },
  {
   "cell_type": "code",
   "execution_count": null,
   "metadata": {},
   "outputs": [],
   "source": [
    "EmbeddingsAnalysis.distance_fns[\"euclidean\"](X_test_shift_no_9s, X_test[:5, :])"
   ]
  },
  {
   "cell_type": "code",
   "execution_count": null,
   "metadata": {},
   "outputs": [],
   "source": [
    "EmbeddingsAnalysis.distance_fns[\"euclidean\"](X_test, X_test[:5, :])"
   ]
  },
  {
   "cell_type": "code",
   "execution_count": null,
   "metadata": {},
   "outputs": [],
   "source": []
  }
 ],
 "metadata": {
  "kernelspec": {
   "display_name": "research-dl",
   "language": "python",
   "name": "python3"
  },
  "language_info": {
   "codemirror_mode": {
    "name": "ipython",
    "version": 3
   },
   "file_extension": ".py",
   "mimetype": "text/x-python",
   "name": "python",
   "nbconvert_exporter": "python",
   "pygments_lexer": "ipython3",
   "version": "3.8.12 (default, Oct 12 2021, 13:49:34) \n[GCC 7.5.0]"
  },
  "orig_nbformat": 4,
  "vscode": {
   "interpreter": {
    "hash": "e037ab8a9a789fbcd7b7ae894529bf4eec6c76193172b2d82376b6f8a22803f8"
   }
  }
 },
 "nbformat": 4,
 "nbformat_minor": 2
}
