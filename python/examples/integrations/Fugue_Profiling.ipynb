{
 "cells": [
  {
   "cell_type": "markdown",
   "metadata": {},
   "source": [
    "# Fugue (Spark, Ray, Dask) Integration\n",
    "\n",
    "[![Open in Colab](https://colab.research.google.com/assets/colab-badge.svg)](https://colab.research.google.com/github/whylabs/whylogs/blob/mainline/python/examples/integrations/Fugue_Profiling.ipynb)\n",
    "\n",
    "\n",
    "Hi! Perhaps you're already feeling confident with our library, but you really wish there was an easy way to plug our profiling into your existing **Spark, Dask or Ray** clusters or existing **Databricks, Coiled or Anyscale** platforms. Well, glad you've made it here, because this is what we are going to cover in this example notebook 😃\n",
    "\n",
    "If you wish to have other insights on how to use whylogs, feel free to check our [other existing examples](https://github.com/whylabs/whylogs/tree/mainline/python/examples), as they might be extremely useful!\n",
    "\n",
    "For detailed questions regarding [Fugue](https://github.com/fugue-project/fugue), please join Fugue's Slack channel: [![Slack Status](https://img.shields.io/badge/slack-join_chat-white.svg?logo=slack&style=social)](http://slack.fugue.ai)"
   ]
  },
  {
   "cell_type": "markdown",
   "metadata": {},
   "source": [
    "## Installing the extra dependency\n",
    "\n",
    "As we want to enable users to have exactly what they need to use from whylogs, the `pyspark` integration comes as an extra dependency. In order to have it available, install according to the following table:\n",
    "\n",
    "| Run Whylogs on ... | Installation Command |\n",
    "|:---|:---|\n",
    "| Any Spark cluster (including Databricks Notebooks) | `pip install 'whylogs[fugue]' 'fugue[spark]'` |\n",
    "| Databricks (remote access) | `pip install 'whylogs[fugue]' 'fugue-cloudprovider[databricks]'` |\n",
    "| Any Ray cluster (including Anyscale Notebooks) | `pip install 'whylogs[fugue]' 'fugue[ray]'` |\n",
    "| Anyscale (remote access) | `pip install 'whylogs[fugue]' 'fugue-cloudprovider[anyscale]'` |\n",
    "| Any Dask cluster | `pip install 'whylogs[fugue]' 'fugue[dask]'` |\n",
    "| Coiled  | `pip install 'whylogs[fugue]' 'fugue-cloudprovider[coiled]'` |\n",
    "\n",
    "For example, in this notebook we are using a local Spark cluster, so we should:"
   ]
  },
  {
   "cell_type": "code",
   "execution_count": null,
   "metadata": {},
   "outputs": [],
   "source": [
    "# Note: you may need to restart the kernel to use updated packages.\n",
    "%pip install 'whylogs[fugue]' 'fugue[spark]'"
   ]
  },
  {
   "cell_type": "markdown",
   "metadata": {},
   "source": [
    "The following environment variable should NOT need to be set in your own environment."
   ]
  },
  {
   "cell_type": "code",
   "execution_count": null,
   "metadata": {},
   "outputs": [],
   "source": [
    "import os\n",
    "\n",
    "os.environ[\"PROTOCOL_BUFFERS_PYTHON_IMPLEMENTATION\"] = \"python\""
   ]
  },
  {
   "cell_type": "markdown",
   "metadata": {},
   "source": [
    "## Constructing a dataset"
   ]
  },
  {
   "cell_type": "code",
   "execution_count": null,
   "metadata": {},
   "outputs": [],
   "source": [
    "import pandas as pd\n",
    "import numpy as np\n",
    "\n",
    "n = 100\n",
    "np.random.seed(0)\n",
    "tdf = pd.DataFrame(\n",
    "    dict(\n",
    "        a=np.random.choice([1, 2, 3], n),\n",
    "        b=np.random.choice([\"a\", \"b\"], n),\n",
    "        c=np.random.random(n),\n",
    "        d=np.random.choice([\"xy\", \"z\"], n),\n",
    "    )\n",
    ")\n",
    "tdf.to_parquet(\"/tmp/test.parquet\")\n",
    "tdf"
   ]
  },
  {
   "cell_type": "markdown",
   "metadata": {},
   "source": [
    "## Profiling using Whylogs + Fugue\n",
    "\n",
    "The simplest way to use `profile` is equivalent to use `why.log(df).view()`"
   ]
  },
  {
   "cell_type": "code",
   "execution_count": null,
   "metadata": {},
   "outputs": [],
   "source": [
    "from whylogs.api.fugue import fugue_profile\n",
    "\n",
    "fugue_profile(tdf).to_pandas()"
   ]
  },
  {
   "cell_type": "markdown",
   "metadata": {},
   "source": [
    "We can select the columns for profiling"
   ]
  },
  {
   "cell_type": "code",
   "execution_count": null,
   "metadata": {},
   "outputs": [],
   "source": [
    "fugue_profile(tdf, profile_cols=[\"c\",\"d\"]).to_pandas()"
   ]
  },
  {
   "cell_type": "markdown",
   "metadata": {},
   "source": [
    "Now assuming we want to use Spark to profile the dataset distributedly and assuming this is how we get a SparkSession:"
   ]
  },
  {
   "cell_type": "code",
   "execution_count": null,
   "metadata": {},
   "outputs": [],
   "source": [
    "from pyspark.sql import SparkSession\n",
    "\n",
    "spark = SparkSession.builder.getOrCreate()"
   ]
  },
  {
   "cell_type": "markdown",
   "metadata": {},
   "source": [
    "If we want to profile the pandas df on Spark:"
   ]
  },
  {
   "cell_type": "code",
   "execution_count": null,
   "metadata": {},
   "outputs": [],
   "source": [
    "fugue_profile(tdf, engine=spark)"
   ]
  },
  {
   "cell_type": "markdown",
   "metadata": {},
   "source": [
    "If we want to profile a SparkDataFrame:"
   ]
  },
  {
   "cell_type": "code",
   "execution_count": null,
   "metadata": {},
   "outputs": [],
   "source": [
    "spark_df = spark.createDataFrame(tdf)\n",
    "fugue_profile(spark_df)"
   ]
  },
  {
   "cell_type": "markdown",
   "metadata": {},
   "source": [
    "We can also directly profile a parquet file or a folder of parquet files locally or on the cloud (the file will be loaded distributedly):"
   ]
  },
  {
   "cell_type": "code",
   "execution_count": null,
   "metadata": {},
   "outputs": [],
   "source": [
    "fugue_profile(\"/tmp/test.parquet\", engine=spark)"
   ]
  },
  {
   "cell_type": "markdown",
   "metadata": {},
   "source": [
    "It is very similar to profile datasets or files using other backends, there will be detailed guides in the later sections.\n",
    "\n",
    "## Profiling on logical partitions\n",
    "\n",
    "If we want to profile `tdf` grouped by columns `a` and `b`"
   ]
  },
  {
   "cell_type": "code",
   "execution_count": null,
   "metadata": {},
   "outputs": [],
   "source": [
    "fugue_profile(tdf, partition={\"by\":[\"a\",\"b\"]})"
   ]
  },
  {
   "cell_type": "markdown",
   "metadata": {},
   "source": [
    "We can also control the output profile field:"
   ]
  },
  {
   "cell_type": "code",
   "execution_count": null,
   "metadata": {},
   "outputs": [],
   "source": [
    "res = fugue_profile(tdf, partition={\"by\":[\"a\",\"b\"]}, profile_field=\"x\")\n",
    "res"
   ]
  },
  {
   "cell_type": "markdown",
   "metadata": {},
   "source": [
    "Here is how to retrieve the views:"
   ]
  },
  {
   "cell_type": "code",
   "execution_count": null,
   "metadata": {},
   "outputs": [],
   "source": [
    "from whylogs import DatasetProfileView\n",
    "\n",
    "res.x.apply(DatasetProfileView.deserialize)"
   ]
  },
  {
   "cell_type": "markdown",
   "metadata": {},
   "source": [
    "When we profile a large number of partitions using a distributed backend and don't want to collect them on a local machine, we can keep the output as the native distributed dataframe, for example:"
   ]
  },
  {
   "cell_type": "code",
   "execution_count": null,
   "metadata": {},
   "outputs": [],
   "source": [
    "fugue_profile(tdf, partition={\"by\":[\"a\",\"b\"]}, engine=spark, as_local=False) # returns a native pyspark dataframe"
   ]
  },
  {
   "cell_type": "markdown",
   "metadata": {},
   "source": [
    "We may also directly save the output to a file distributedly:"
   ]
  },
  {
   "cell_type": "code",
   "execution_count": null,
   "metadata": {},
   "outputs": [],
   "source": [
    "fugue_profile(tdf, partition={\"by\":[\"a\",\"b\"]}, save_path=\"/tmp/output1.parquet\", engine=spark)\n",
    "fugue_profile(\"/tmp/test.parquet\", partition={\"by\":[\"a\",\"b\"]}, save_path=\"/tmp/output2.parquet\", engine=spark)"
   ]
  },
  {
   "cell_type": "code",
   "execution_count": null,
   "metadata": {},
   "outputs": [],
   "source": [
    "!ls /tmp/output*.parquet"
   ]
  },
  {
   "attachments": {},
   "cell_type": "markdown",
   "metadata": {},
   "source": [
    "## Using `fugue_profile` in the Fugue API way\n",
    "\n",
    "[Fugue API](https://fugue.readthedocs.io/en/latest/top_api.html) is a collection of standalone platform agnostic functions for common big data operations. `fugue_profile` is following the same style and can be used like one of them. In the previous example we do data profiling from file to file with one function. While it is compact, it overloads the function, making it hard to read and maintain. Instead, if we follow the best practice, we can do this alternatively:"
   ]
  },
  {
   "cell_type": "code",
   "execution_count": null,
   "metadata": {},
   "outputs": [],
   "source": [
    "import fugue.api as fa\n",
    "\n",
    "with fa.engine_context(spark):\n",
    "    df = fa.load(\"/tmp/test.parquet\")\n",
    "    res = fugue_profile(df, partition={\"by\":[\"a\",\"b\"]})\n",
    "    fa.save(res, \"/tmp/output2.parquet\")"
   ]
  },
  {
   "attachments": {},
   "cell_type": "markdown",
   "metadata": {},
   "source": [
    "Execution wise, it is the same as the previous example. But this makes one line of code do one thing, which is a better coding style\n",
    "\n",
    "## Visualization in FugueSQL\n",
    "\n",
    "Whylogs profile visualization is a auto-registered extension in Fugue. The namespace is `why` and the extension name is `viz`.\n",
    "\n",
    "Here is how you use the extension:"
   ]
  },
  {
   "cell_type": "code",
   "execution_count": null,
   "metadata": {},
   "outputs": [],
   "source": [
    "import whylogs.api.fugue.registry  # you don't really need to import this explicitly, the registration is automatic\n",
    "import fugue.api as fa\n",
    "\n",
    "fa.fugue_sql_flow(\"\"\"\n",
    "-- visualize a single dataframe's profile\n",
    "OUTPUT df USING why:viz\n",
    "-- compare profiles, must set reference and target\n",
    "OUTPUT target=df, reference=df USING why:viz\n",
    "\"\"\", df = tdf).run();"
   ]
  },
  {
   "attachments": {},
   "cell_type": "markdown",
   "metadata": {},
   "source": [
    "If running using a distributed backend, the profling will be done by `fugue_profile`"
   ]
  },
  {
   "cell_type": "code",
   "execution_count": null,
   "metadata": {},
   "outputs": [],
   "source": [
    "fa.fugue_sql_flow(\"\"\"\n",
    "df = LOAD \"/tmp/test.parquet\"\n",
    "\n",
    "OUTPUT USING why:viz\n",
    "\n",
    "OUTPUT target=df, reference=df USING why:viz\n",
    "\"\"\").run(spark);"
   ]
  },
  {
   "attachments": {},
   "cell_type": "markdown",
   "metadata": {},
   "source": [
    "\n",
    "\n",
    "## Performance Tips\n",
    "\n",
    "### Spark\n",
    "\n",
    "Please use `Fugue >= 0.8.0`, which enables Pandas UDF by default\n",
    "\n",
    "It is also beneficial to enabled pandas UDF on Spark to get better performance. We need to follow [this instruction](https://spark.apache.org/docs/3.0.0/sql-pyspark-pandas-with-arrow.html#enabling-for-conversion-tofrom-pandas) to enable `spark.sql.execution.arrow.pyspark.enabled`.\n",
    "\n",
    "When we profile a dataframe without logical partition, we may control the number of partitions in order to control the parallelism:\n",
    "\n",
    "```python\n",
    "fugue_profile(..., partition={\"num\": 200}, engine=spark)\n",
    "```\n",
    "\n",
    "If we don't specify `num` then the default partitioning of the input dataframe will be used. If the input dataframe is a local dataframe such as pandas dataframe, the default partitioning will be the number of CPUs of the Spark cluster.\n",
    "\n",
    "When we profile a dataframe with logical partitions, we can also be explicit on how many physical partitions to use:\n",
    "\n",
    "```python\n",
    "fugue_profile(..., partition={\"by\":[\"a\",\"b\"], \"num\": 200}, engine=spark)\n",
    "```\n",
    "\n",
    "But the convention in Spark is to set `spark.shuffle.partitions` when starting the Spark cluster. And an ideal number should be 2-4 times of the total CPUs.\n",
    "\n",
    "### Ray\n",
    "\n",
    "When we profile a dataframe without logical partition, we should control the number of partitions in order to control the parallelism:\n",
    "\n",
    "```python\n",
    "fugue_profile(..., partition={\"num\": 200}, engine=\"ray\")\n",
    "```\n",
    "\n",
    "If we don't specify `num` then the default partitioning of the input dataframe will be used. If the input dataframe is a local dataframe such as pandas dataframe, the default partitioning will be 1. **So in Ray, it is always a good idea to be explicit about `num`**\n",
    "\n",
    "When we profile a dataframe with logical partitions, we should also be explicit on how many physical partitions to use:\n",
    "\n",
    "```python\n",
    "fugue_profile(..., partition={\"by\":[\"a\",\"b\"], \"num\": 200}, engine=\"ray\")\n",
    "```\n",
    "\n",
    "### Dask\n",
    "\n",
    "When we profile a dataframe without logical partition, we should control the number of partitions in order to control the parallelism:\n",
    "\n",
    "```python\n",
    "fugue_profile(..., partition={\"num\": 200}, engine=dask_client)\n",
    "```\n",
    "\n",
    "If we don't specify `num` then the default partitioning of the input dataframe will be used. If the input dataframe is a local dataframe such as pandas dataframe, the default partitioning will be a small number representing the local CPUs. **So in Dask, it is always a good idea to be explicit about `num`**\n",
    "\n",
    "When we profile a dataframe with logical partitions, we should also be explicit on how many physical partitions to use:\n",
    "\n",
    "```python\n",
    "fugue_profile(..., partition={\"by\":[\"a\",\"b\"], \"num\": 200}, engine=dask_client)\n",
    "```\n",
    "\n",
    "**No matter in Spark, Ray or Dask, no matter which way to set `num`, setting it to 2 times of the total cluster CPUs will in general work very well.**\n",
    "\n",
    "## Accessing distributed platforms\n",
    "\n",
    "In Fugue, accessing distributed platforms can be very simple. For example with proper setups, to profile a large S3 folder using Databricks, Anyscale or Coiled will be as simple as:\n",
    "\n",
    "```python\n",
    "fugue_profile(\"s3://<path>\", engine=\"db:<databricks_cluster_id>\")\n",
    "fugue_profile(\"s3://<path>\", engine=\"<anyscale_cluster_uri>\")\n",
    "fugue_profile(\"s3://<path>\", engine=\"coiled:<coiled_cluster_id>\")\n",
    "```\n",
    "\n",
    "For details of each platform, please read the instructions for [Databricks](https://fugue-tutorials.readthedocs.io/tutorials/integrations/cloudproviders/databricks.html), [Anyscale](https://fugue-tutorials.readthedocs.io/tutorials/integrations/cloudproviders/anyscale.html) and [Coiled](https://fugue-tutorials.readthedocs.io/tutorials/integrations/cloudproviders/coiled.html)"
   ]
  },
  {
   "cell_type": "markdown",
   "metadata": {},
   "source": []
  }
 ],
 "metadata": {
  "kernelspec": {
   "display_name": ".venv",
   "language": "python",
   "name": "python3"
  },
  "language_info": {
   "codemirror_mode": {
    "name": "ipython",
    "version": 3
   },
   "file_extension": ".py",
   "mimetype": "text/x-python",
   "name": "python",
   "nbconvert_exporter": "python",
   "pygments_lexer": "ipython3",
   "version": "3.10.8"
  },
  "vscode": {
   "interpreter": {
    "hash": "5dd5901cadfd4b29c2aaf95ecd29c0c3b10829ad94dcfe59437dbee391154aea"
   }
  }
 },
 "nbformat": 4,
 "nbformat_minor": 2
}
