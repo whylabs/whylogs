{
 "cells": [
  {
   "cell_type": "markdown",
   "metadata": {},
   "source": [
    "# Monitoring Regression Model Performance Metrics\n",
    "\n",
    "[![Open in Colab](https://colab.research.google.com/assets/colab-badge.svg)](https://colab.research.google.com/github/whylabs/whylogs/blob/mainline/python/examples/integrations/writers/Writing_Regression_Performance_Metrics_to_WhyLabs.ipynb)"
   ]
  },
  {
   "cell_type": "markdown",
   "metadata": {},
   "source": [
    "In this tutorial, we'll show how you can log performance metrics of your ML Model with whylogs, and how to send it to your dashboard at Whylabs Platform. We'll follow a regression use case, where we're predicting the temperature of a given location based on metereological features.\n",
    "\n",
    "We will:\n",
    "\n",
    "- Download Weather Data for 7 days\n",
    "- Log daily input features with whylogs\n",
    "- Log daily regression performance metrics with whylogs\n",
    "- Write logged profiles to WhyLabs' dashboard\n",
    "- Show performance summary at WhyLabs"
   ]
  },
  {
   "cell_type": "markdown",
   "metadata": {},
   "source": [
    "## Installing whylogs\n",
    "\n",
    "First, let's install __whylogs__. Since we want to write to WhyLabs, we'll install the __whylabs__ extra. Additionally, we'll use the __datasets__ module, so let's install it as well:"
   ]
  },
  {
   "cell_type": "code",
   "execution_count": 1,
   "metadata": {},
   "outputs": [],
   "source": [
    "# %pip install whylogs[whylabs,datasets]"
   ]
  },
  {
   "cell_type": "markdown",
   "metadata": {},
   "source": [
    "## 🌤️ The Data - Weather Forecast Dataset"
   ]
  },
  {
   "cell_type": "markdown",
   "metadata": {},
   "source": [
    "In this example, we will use the Weather Forecast Dataset, using whylogs' __Datasets__ module.\n",
    "\n",
    "This dataset contains several meteorological features at a particular place (defined by latitude and longitude features) and time. The task is to predict the temperature based on the input features.\n",
    "\n",
    "The original data is described in [Shifts: A Dataset of Real Distributional Shift Across Multiple Large-Scale Tasks](https://arxiv.org/pdf/2107.07455.pdf), by **Malinin, Andrey, et al.**, and was further transformed to compose the current dataset. You can have more information about the resulting dataset and how to use it at https://whylogs.readthedocs.io/en/latest/datasets/weather.html."
   ]
  },
  {
   "cell_type": "markdown",
   "metadata": {},
   "source": [
    "### Downloading the data into daily batches"
   ]
  },
  {
   "cell_type": "markdown",
   "metadata": {},
   "source": [
    "Let's download 7 batches with 7 days worth of data, corresponding to the last 7 days. We can use directly the __datasets__ module for that."
   ]
  },
  {
   "cell_type": "code",
   "execution_count": 1,
   "metadata": {},
   "outputs": [],
   "source": [
    "from whylogs.datasets import Weather\n",
    "from datetime import datetime, timezone, timedelta\n",
    "dataset = Weather()\n",
    "\n",
    "start_timestamp = datetime.now(timezone.utc) - timedelta(days=7)\n",
    "dataset.set_parameters(inference_start_timestamp=start_timestamp)\n",
    "\n",
    "daily_batches = dataset.get_inference_data(number_batches=7)\n",
    "\n",
    "#batches is an iterator, so let's get the list for this\n",
    "daily_batches = list(daily_batches)"
   ]
  },
  {
   "cell_type": "markdown",
   "metadata": {},
   "source": [
    "Since in this example we're mainly concerned with regression metrics, let's select a subset of the available features, for simplicity.\n",
    "\n",
    "__meta_climate__, __meta_latitude__, __meta_longitude__ will be our input features, while __prediction_temperature__ is the predicted feature given by a trained ML model and the __temperature__ feature is our target.\n",
    "\n",
    "Let's take a look at the data for the first day:"
   ]
  },
  {
   "cell_type": "code",
   "execution_count": 2,
   "metadata": {},
   "outputs": [
    {
     "data": {
      "text/html": [
       "<div>\n",
       "<style scoped>\n",
       "    .dataframe tbody tr th:only-of-type {\n",
       "        vertical-align: middle;\n",
       "    }\n",
       "\n",
       "    .dataframe tbody tr th {\n",
       "        vertical-align: top;\n",
       "    }\n",
       "\n",
       "    .dataframe thead th {\n",
       "        text-align: right;\n",
       "    }\n",
       "</style>\n",
       "<table border=\"1\" class=\"dataframe\">\n",
       "  <thead>\n",
       "    <tr style=\"text-align: right;\">\n",
       "      <th></th>\n",
       "      <th>meta_climate</th>\n",
       "      <th>meta_latitude</th>\n",
       "      <th>meta_longitude</th>\n",
       "      <th>prediction_temperature</th>\n",
       "      <th>temperature</th>\n",
       "    </tr>\n",
       "    <tr>\n",
       "      <th>date</th>\n",
       "      <th></th>\n",
       "      <th></th>\n",
       "      <th></th>\n",
       "      <th></th>\n",
       "      <th></th>\n",
       "    </tr>\n",
       "  </thead>\n",
       "  <tbody>\n",
       "    <tr>\n",
       "      <th>2022-09-07 00:00:00+00:00</th>\n",
       "      <td>mild temperate</td>\n",
       "      <td>38.891300</td>\n",
       "      <td>-6.821330</td>\n",
       "      <td>9.163181</td>\n",
       "      <td>10.0</td>\n",
       "    </tr>\n",
       "    <tr>\n",
       "      <th>2022-09-07 00:00:00+00:00</th>\n",
       "      <td>tropical</td>\n",
       "      <td>12.216667</td>\n",
       "      <td>109.216667</td>\n",
       "      <td>26.220221</td>\n",
       "      <td>27.0</td>\n",
       "    </tr>\n",
       "    <tr>\n",
       "      <th>2022-09-07 00:00:00+00:00</th>\n",
       "      <td>dry</td>\n",
       "      <td>37.991699</td>\n",
       "      <td>-101.746002</td>\n",
       "      <td>13.178478</td>\n",
       "      <td>15.0</td>\n",
       "    </tr>\n",
       "    <tr>\n",
       "      <th>2022-09-07 00:00:00+00:00</th>\n",
       "      <td>mild temperate</td>\n",
       "      <td>-23.333599</td>\n",
       "      <td>-51.130100</td>\n",
       "      <td>23.255124</td>\n",
       "      <td>25.0</td>\n",
       "    </tr>\n",
       "    <tr>\n",
       "      <th>2022-09-07 00:00:00+00:00</th>\n",
       "      <td>mild temperate</td>\n",
       "      <td>-23.479445</td>\n",
       "      <td>-52.012222</td>\n",
       "      <td>27.851674</td>\n",
       "      <td>32.0</td>\n",
       "    </tr>\n",
       "  </tbody>\n",
       "</table>\n",
       "</div>"
      ],
      "text/plain": [
       "                             meta_climate  meta_latitude  meta_longitude  \\\n",
       "date                                                                       \n",
       "2022-09-07 00:00:00+00:00  mild temperate      38.891300       -6.821330   \n",
       "2022-09-07 00:00:00+00:00        tropical      12.216667      109.216667   \n",
       "2022-09-07 00:00:00+00:00             dry      37.991699     -101.746002   \n",
       "2022-09-07 00:00:00+00:00  mild temperate     -23.333599      -51.130100   \n",
       "2022-09-07 00:00:00+00:00  mild temperate     -23.479445      -52.012222   \n",
       "\n",
       "                           prediction_temperature  temperature  \n",
       "date                                                            \n",
       "2022-09-07 00:00:00+00:00                9.163181         10.0  \n",
       "2022-09-07 00:00:00+00:00               26.220221         27.0  \n",
       "2022-09-07 00:00:00+00:00               13.178478         15.0  \n",
       "2022-09-07 00:00:00+00:00               23.255124         25.0  \n",
       "2022-09-07 00:00:00+00:00               27.851674         32.0  "
      ]
     },
     "execution_count": 2,
     "metadata": {},
     "output_type": "execute_result"
    }
   ],
   "source": [
    "columns = [\"meta_climate\",\"meta_latitude\",\"meta_longitude\",\"prediction_temperature\",\"temperature\"]\n",
    "df = daily_batches[0].data[columns]\n",
    "\n",
    "df.head()"
   ]
  },
  {
   "cell_type": "markdown",
   "metadata": {},
   "source": [
    "## ✔️ Setting the Environment Variables\n",
    "\n",
    "In order to send our profile to WhyLabs, let's first set up an account. You can skip this if you already have an account and a model set up.\n",
    "\n",
    "We will need three pieces of information:\n",
    "\n",
    "- API token\n",
    "- Organization ID\n",
    "- Dataset ID (or model-id)\n",
    "\n",
    "Go to https://whylabs.ai/free and grab a free account. You can follow along with the examples if you wish, but if you’re interested in only following this demonstration, you can go ahead and skip the quick start instructions.\n",
    "\n",
    "After that, you’ll be prompted to create an API token. Once you create it, copy and store it locally. The second important information here is your org ID. Take note of it as well. After you get your API Token and Org ID, you can go to https://hub.whylabsapp.com/models to see your projects dashboard. You can create a new project and take note of it's ID (if it's a model project it will look like `model-xxxx`)."
   ]
  },
  {
   "cell_type": "code",
   "execution_count": 3,
   "metadata": {},
   "outputs": [
    {
     "name": "stdout",
     "output_type": "stream",
     "text": [
      "Enter your WhyLabs Org ID\n",
      "Enter your WhyLabs Dataset ID\n",
      "Enter your WhyLabs API key\n",
      "Using API Key ID:  z8fYdnQwHr\n"
     ]
    }
   ],
   "source": [
    "import getpass\n",
    "import os\n",
    "\n",
    "# set your org-id here - should be something like \"org-xxxx\"\n",
    "print(\"Enter your WhyLabs Org ID\") \n",
    "os.environ[\"WHYLABS_DEFAULT_ORG_ID\"] = input()\n",
    "\n",
    "# set your datased_id (or model_id) here - should be something like \"model-xxxx\"\n",
    "print(\"Enter your WhyLabs Dataset ID\")\n",
    "os.environ[\"WHYLABS_DEFAULT_DATASET_ID\"] = input()\n",
    "\n",
    "\n",
    "# set your API key here\n",
    "print(\"Enter your WhyLabs API key\")\n",
    "os.environ[\"WHYLABS_API_KEY\"] = getpass.getpass()\n",
    "print(\"Using API Key ID: \", os.environ[\"WHYLABS_API_KEY\"][0:10])"
   ]
  },
  {
   "cell_type": "markdown",
   "metadata": {},
   "source": [
    "## 📊 Profiling the Data + Sending to WhyLabs"
   ]
  },
  {
   "cell_type": "markdown",
   "metadata": {},
   "source": [
    "Traditionally, data is logged by calling `why.log()`. In this case, we'll use `why.log_regression_metrics()`, which will log data all the same, but additionally it will compute regression metrics and add them to your results.\n",
    "\n",
    "`log_regression_metrics` takes the complete dataframe as input (with input/output features, as well as your prediction column and target column). We also have to define which column is our target (in this case, `temperature`) and which is our prediction column (`prediction_temperature` in this case).\n",
    "\n",
    "Once the profile is logged, we can set it's timestamp for the proper day as given by our batch's timestamp.\n",
    "\n",
    "Now that we have properly timestamped profiles with regression metrics, we can use the `writer` method to send it to WhyLabs:"
   ]
  },
  {
   "cell_type": "code",
   "execution_count": 4,
   "metadata": {},
   "outputs": [
    {
     "name": "stdout",
     "output_type": "stream",
     "text": [
      "logging data for date 2022-09-07 00:00:00+00:00\n",
      "writing profiles to whylabs...\n",
      "logging data for date 2022-09-08 00:00:00+00:00\n",
      "writing profiles to whylabs...\n",
      "logging data for date 2022-09-09 00:00:00+00:00\n",
      "writing profiles to whylabs...\n",
      "logging data for date 2022-09-10 00:00:00+00:00\n",
      "writing profiles to whylabs...\n",
      "logging data for date 2022-09-11 00:00:00+00:00\n",
      "writing profiles to whylabs...\n",
      "logging data for date 2022-09-12 00:00:00+00:00\n",
      "writing profiles to whylabs...\n",
      "logging data for date 2022-09-13 00:00:00+00:00\n",
      "writing profiles to whylabs...\n"
     ]
    }
   ],
   "source": [
    "from whylogs.api.writer.whylabs import WhyLabsWriter\n",
    "import whylogs as why\n",
    "\n",
    "columns = [\"meta_climate\",\"meta_latitude\",\"meta_longitude\",\"prediction_temperature\",\"temperature\"]\n",
    "for batch in daily_batches:\n",
    "    dataset_timestamp = batch.timestamp\n",
    "\n",
    "    df = batch.data[columns]\n",
    "    print(\"logging data for date {}\".format(dataset_timestamp))\n",
    "    results = why.log_regression_metrics(df, target_column = \"temperature\", prediction_column = \"prediction_temperature\")\n",
    "\n",
    "    profile = results.profile()\n",
    "    profile.set_dataset_timestamp(dataset_timestamp)\n",
    "    print(\"writing profiles to whylabs...\")\n",
    "    results.writer(\"whylabs\").write()"
   ]
  },
  {
   "cell_type": "markdown",
   "metadata": {},
   "source": [
    "You can also access directly the regression metrics from your results:"
   ]
  },
  {
   "cell_type": "code",
   "execution_count": 12,
   "metadata": {},
   "outputs": [
    {
     "data": {
      "text/plain": [
       "8.142721906296876"
      ]
     },
     "execution_count": 12,
     "metadata": {},
     "output_type": "execute_result"
    }
   ],
   "source": [
    "# other available metrics are: mean_absolute_error and root_mean_squared_error\n",
    "results.performance_metrics.regression_metrics.mean_squared_error()"
   ]
  },
  {
   "cell_type": "markdown",
   "metadata": {},
   "source": [
    "And that's it! You just sent your profiles to WhyLabs.\n",
    "\n",
    "At your model's dashboard, you should see the model metrics for the last seven days. For regression, the displayed metrics are:\n",
    "\n",
    "- Total output and input count\n",
    "- Mean Squared Error\n",
    "- Mean Absolute Error\n",
    "- Root Mean Squared Error"
   ]
  },
  {
   "cell_type": "markdown",
   "metadata": {},
   "source": [
    "![alt text](images/regression_metrics.png)"
   ]
  }
 ],
 "metadata": {
  "kernelspec": {
   "display_name": "Python 3.8.10 ('.venv': venv)",
   "language": "python",
   "name": "python3"
  },
  "language_info": {
   "codemirror_mode": {
    "name": "ipython",
    "version": 3
   },
   "file_extension": ".py",
   "mimetype": "text/x-python",
   "name": "python",
   "nbconvert_exporter": "python",
   "pygments_lexer": "ipython3",
   "version": "3.8.10"
  },
  "orig_nbformat": 4,
  "vscode": {
   "interpreter": {
    "hash": "8430e7bcc333486e417258c6fadac662061ebd166d9f3c5ccb12c1968aa41625"
   }
  }
 },
 "nbformat": 4,
 "nbformat_minor": 2
}
