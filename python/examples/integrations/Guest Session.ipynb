{
 "cells": [
  {
   "cell_type": "code",
   "execution_count": null,
   "metadata": {},
   "outputs": [],
   "source": [
    "%pip install whylogs"
   ]
  },
  {
   "cell_type": "code",
   "execution_count": 2,
   "metadata": {},
   "outputs": [
    {
     "name": "stdout",
     "output_type": "stream",
     "text": [
      "Initialized anonymous session with id session-fyYbYb in config /home/anthony/.config/whylogs/config.ini\n",
      "Visualize and explore this profile with one-click\n",
      "🔍 https://hub.whylabsapp.com/resources/model-1/profiles?sessionToken=session-fyYbYb&profile=ref-Hug9mzNZwqpBvvEK\n"
     ]
    },
    {
     "data": {
      "text/plain": [
       "<whylogs.api.logger.result_set.ProfileResultSet at 0x7f967d452da0>"
      ]
     },
     "execution_count": 2,
     "metadata": {},
     "output_type": "execute_result"
    }
   ],
   "source": [
    "import whylogs as why\n",
    "from whylogs.api.whylabs.config import load_testing_data\n",
    "\n",
    "why.init(anonymous=True)\n",
    "\n",
    "df = load_testing_data()\n",
    "why.log_reference(\"foo\", df)"
   ]
  },
  {
   "cell_type": "code",
   "execution_count": 4,
   "metadata": {},
   "outputs": [],
   "source": [
    "import pandas as pd\n",
    "\n",
    "url = \"https://whylabs-public.s3.us-west-2.amazonaws.com/whylogs_examples/WineQuality/winequality-red.csv\"\n",
    "wine = pd.read_csv(url)\n",
    "\n",
    "cond_reference = (wine['alcohol']<=11)\n",
    "wine_reference = wine.loc[cond_reference]\n",
    "\n",
    "cond_target = (wine['alcohol']>11)\n",
    "wine_target = wine.loc[cond_target]"
   ]
  },
  {
   "cell_type": "code",
   "execution_count": 5,
   "metadata": {},
   "outputs": [
    {
     "name": "stdout",
     "output_type": "stream",
     "text": [
      "Visualize and explore the profiles with one-click\n",
      "🔍 https://hub.whylabsapp.com/resources/model-1/profiles?sessionToken=session-jhThWP&profile=ref-1FpzzNzmEDSp7khh&profile=ref-E2hJexRpB4oazfEs\n",
      "\n",
      "Or view each profile individually\n",
      " ⤷ https://hub.whylabsapp.com/resources/model-1/profiles?profile=ref-1FpzzNzmEDSp7khh&sessionToken=session-jhThWP\n",
      " ⤷ https://hub.whylabsapp.com/resources/model-1/profiles?profile=ref-E2hJexRpB4oazfEs&sessionToken=session-jhThWP\n"
     ]
    },
    {
     "data": {
      "text/plain": [
       "[<whylogs.api.logger.result_set.ProfileResultSet at 0x7fe5a845c520>,\n",
       " <whylogs.api.logger.result_set.ProfileResultSet at 0x7fe5a8497340>]"
      ]
     },
     "execution_count": 5,
     "metadata": {},
     "output_type": "execute_result"
    }
   ],
   "source": [
    "result_sets = why.batch_log_reference({\n",
    "    'wine target': wine_target,\n",
    "    'wine reference': wine_reference\n",
    "})\n",
    "\n",
    "result_sets "
   ]
  },
  {
   "cell_type": "code",
   "execution_count": 5,
   "metadata": {},
   "outputs": [
    {
     "name": "stdout",
     "output_type": "stream",
     "text": [
      "Visualize and explore this profile with one-click\n",
      "🔍 https://hub.whylabsapp.com//assets/model-1/profiles?sessionToken=session-tXWwyy&profile=ref-kFE441MTMLw6qt0V\n"
     ]
    }
   ],
   "source": [
    "result_set = why.log_reference(\"test1\", {\"foo\": \"bar\", \"baz\": 1})"
   ]
  },
  {
   "attachments": {},
   "cell_type": "markdown",
   "metadata": {},
   "source": [
    "# TESTING"
   ]
  },
  {
   "cell_type": "code",
   "execution_count": 9,
   "metadata": {},
   "outputs": [
    {
     "name": "stdout",
     "output_type": "stream",
     "text": [
      "Requirement already satisfied: whylogs[datasets]==1.1.41.dev0 in /home/anthony/workspace/whylogs/python/.venv/lib/python3.10/site-packages (1.1.41.dev0)\n",
      "Requirement already satisfied: platformdirs<4.0.0,>=3.5.0 in /home/anthony/workspace/whylogs/python/.venv/lib/python3.10/site-packages (from whylogs[datasets]==1.1.41.dev0) (3.5.0)\n",
      "Requirement already satisfied: protobuf>=3.19.4 in /home/anthony/workspace/whylogs/python/.venv/lib/python3.10/site-packages (from whylogs[datasets]==1.1.41.dev0) (4.22.3)\n",
      "Requirement already satisfied: typing-extensions>=3.10 in /home/anthony/workspace/whylogs/python/.venv/lib/python3.10/site-packages (from whylogs[datasets]==1.1.41.dev0) (4.5.0)\n",
      "Requirement already satisfied: whylabs-client<1,>=0.4.4 in /home/anthony/workspace/whylogs/python/.venv/lib/python3.10/site-packages (from whylogs[datasets]==1.1.41.dev0) (0.5.0)\n",
      "Requirement already satisfied: whylogs-sketching>=3.4.1.dev3 in /home/anthony/workspace/whylogs/python/.venv/lib/python3.10/site-packages (from whylogs[datasets]==1.1.41.dev0) (3.4.1.dev3)\n",
      "Requirement already satisfied: pandas in /home/anthony/workspace/whylogs/python/.venv/lib/python3.10/site-packages (from whylogs[datasets]==1.1.41.dev0) (1.3.5)\n",
      "Requirement already satisfied: urllib3>=1.25.3 in /home/anthony/workspace/whylogs/python/.venv/lib/python3.10/site-packages (from whylabs-client<1,>=0.4.4->whylogs[datasets]==1.1.41.dev0) (1.26.15)\n",
      "Requirement already satisfied: python-dateutil in /home/anthony/workspace/whylogs/python/.venv/lib/python3.10/site-packages (from whylabs-client<1,>=0.4.4->whylogs[datasets]==1.1.41.dev0) (2.8.2)\n",
      "Requirement already satisfied: pytz>=2017.3 in /home/anthony/workspace/whylogs/python/.venv/lib/python3.10/site-packages (from pandas->whylogs[datasets]==1.1.41.dev0) (2022.7.1)\n",
      "Requirement already satisfied: numpy>=1.21.0 in /home/anthony/workspace/whylogs/python/.venv/lib/python3.10/site-packages (from pandas->whylogs[datasets]==1.1.41.dev0) (1.24.2)\n",
      "Requirement already satisfied: six>=1.5 in /home/anthony/workspace/whylogs/python/.venv/lib/python3.10/site-packages (from python-dateutil->whylabs-client<1,>=0.4.4->whylogs[datasets]==1.1.41.dev0) (1.16.0)\n",
      "\n",
      "\u001b[1m[\u001b[0m\u001b[34;49mnotice\u001b[0m\u001b[1;39;49m]\u001b[0m\u001b[39;49m A new release of pip is available: \u001b[0m\u001b[31;49m23.1\u001b[0m\u001b[39;49m -> \u001b[0m\u001b[32;49m23.1.2\u001b[0m\n",
      "\u001b[1m[\u001b[0m\u001b[34;49mnotice\u001b[0m\u001b[1;39;49m]\u001b[0m\u001b[39;49m To update, run: \u001b[0m\u001b[32;49m/home/anthony/workspace/whylogs/python/.venv/bin/python -m pip install --upgrade pip\u001b[0m\n",
      "Note: you may need to restart the kernel to use updated packages.\n"
     ]
    }
   ],
   "source": [
    "%pip install whylogs[datasets]==1.1.41.dev0"
   ]
  },
  {
   "cell_type": "code",
   "execution_count": 14,
   "metadata": {},
   "outputs": [
    {
     "name": "stdout",
     "output_type": "stream",
     "text": [
      "Visualize and explore this profile with one-click\n",
      "🔍 https://hub.whylabsapp.com/resources/model-1/profiles?sessionToken=session-tXWwyy&profile=ref-N0RbxzE0t6FPvcLy\n"
     ]
    },
    {
     "data": {
      "text/plain": [
       "<whylogs.api.logger.result_set.ProfileResultSet at 0x7fccebbafd90>"
      ]
     },
     "execution_count": 14,
     "metadata": {},
     "output_type": "execute_result"
    }
   ],
   "source": [
    "from whylogs.datasets import Ecommerce\n",
    "import whylogs as why\n",
    "\n",
    "dataset = Ecommerce(version=\"base\")\n",
    "baseline = dataset.get_baseline()\n",
    "df = baseline.features\n",
    "why.log_reference(\"features ecommerce\", df)"
   ]
  }
 ],
 "metadata": {
  "kernelspec": {
   "display_name": ".venv",
   "language": "python",
   "name": "python3"
  },
  "language_info": {
   "codemirror_mode": {
    "name": "ipython",
    "version": 3
   },
   "file_extension": ".py",
   "mimetype": "text/x-python",
   "name": "python",
   "nbconvert_exporter": "python",
   "pygments_lexer": "ipython3",
   "version": "3.10.11"
  },
  "orig_nbformat": 4
 },
 "nbformat": 4,
 "nbformat_minor": 2
}
