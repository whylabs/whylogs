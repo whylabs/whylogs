{
 "cells": [
  {
   "cell_type": "code",
   "execution_count": 1,
   "metadata": {},
   "outputs": [
    {
     "name": "stdout",
     "output_type": "stream",
     "text": [
      "Requirement already satisfied: whylogs in /home/anthony/workspace/whylogs/python/.venv/lib/python3.10/site-packages (1.1.38)\n",
      "Requirement already satisfied: platformdirs<4.0.0,>=3.5.0 in /home/anthony/workspace/whylogs/python/.venv/lib/python3.10/site-packages (from whylogs) (3.5.0)\n",
      "Requirement already satisfied: protobuf>=3.19.4 in /home/anthony/workspace/whylogs/python/.venv/lib/python3.10/site-packages (from whylogs) (4.22.3)\n",
      "Requirement already satisfied: typing-extensions>=3.10 in /home/anthony/workspace/whylogs/python/.venv/lib/python3.10/site-packages (from whylogs) (4.5.0)\n",
      "Requirement already satisfied: whylabs-client<1,>=0.4.4 in /home/anthony/workspace/whylogs/python/.venv/lib/python3.10/site-packages (from whylogs) (0.5.0)\n",
      "Requirement already satisfied: whylogs-sketching>=3.4.1.dev3 in /home/anthony/workspace/whylogs/python/.venv/lib/python3.10/site-packages (from whylogs) (3.4.1.dev3)\n",
      "Requirement already satisfied: urllib3>=1.25.3 in /home/anthony/workspace/whylogs/python/.venv/lib/python3.10/site-packages (from whylabs-client<1,>=0.4.4->whylogs) (1.26.15)\n",
      "Requirement already satisfied: python-dateutil in /home/anthony/workspace/whylogs/python/.venv/lib/python3.10/site-packages (from whylabs-client<1,>=0.4.4->whylogs) (2.8.2)\n",
      "Requirement already satisfied: six>=1.5 in /home/anthony/workspace/whylogs/python/.venv/lib/python3.10/site-packages (from python-dateutil->whylabs-client<1,>=0.4.4->whylogs) (1.16.0)\n",
      "\n",
      "\u001b[1m[\u001b[0m\u001b[34;49mnotice\u001b[0m\u001b[1;39;49m]\u001b[0m\u001b[39;49m A new release of pip is available: \u001b[0m\u001b[31;49m23.1\u001b[0m\u001b[39;49m -> \u001b[0m\u001b[32;49m23.1.2\u001b[0m\n",
      "\u001b[1m[\u001b[0m\u001b[34;49mnotice\u001b[0m\u001b[1;39;49m]\u001b[0m\u001b[39;49m To update, run: \u001b[0m\u001b[32;49m/home/anthony/workspace/whylogs/python/.venv/bin/python -m pip install --upgrade pip\u001b[0m\n",
      "Note: you may need to restart the kernel to use updated packages.\n"
     ]
    }
   ],
   "source": [
    "%pip install 'whylogs'"
   ]
  },
  {
   "cell_type": "code",
   "execution_count": 2,
   "metadata": {},
   "outputs": [
    {
     "name": "stderr",
     "output_type": "stream",
     "text": [
      "SessionManager is already initialized. Ignoring call to init()\n"
     ]
    }
   ],
   "source": [
    "import whylogs as why\n",
    "\n",
    "why.init(anonymous=True)\n",
    "why.init(anonymous=True)"
   ]
  },
  {
   "cell_type": "code",
   "execution_count": 3,
   "metadata": {},
   "outputs": [],
   "source": [
    "import pandas as pd\n",
    "\n",
    "url = \"https://whylabs-public.s3.us-west-2.amazonaws.com/whylogs_examples/WineQuality/winequality-red.csv\"\n",
    "wine = pd.read_csv(url)\n",
    "\n",
    "cond_reference = (wine['alcohol']<=11)\n",
    "wine_reference = wine.loc[cond_reference]\n",
    "\n",
    "cond_target = (wine['alcohol']>11)\n",
    "wine_target = wine.loc[cond_target]"
   ]
  },
  {
   "cell_type": "code",
   "execution_count": 12,
   "metadata": {},
   "outputs": [
    {
     "name": "stdout",
     "output_type": "stream",
     "text": [
      "Visualize and explore the profiles with one-click\n",
      "🔍 https://hub.whylabsapp.com//assets/model-1/profiles?sessionToken=session-tXWwyy&profile=ref-t6iPld8iA7U3vXWV&profile=ref-rhyxBNgq3fZOZXmz\n",
      "\n",
      "Or view each profile individually\n",
      " ⤷ https://hub.whylabsapp.com//assets/model-1/profiles?profile=ref-t6iPld8iA7U3vXWV&sessionToken=session-tXWwyy\n",
      " ⤷ https://hub.whylabsapp.com//assets/model-1/profiles?profile=ref-rhyxBNgq3fZOZXmz&sessionToken=session-tXWwyy\n"
     ]
    },
    {
     "data": {
      "text/plain": [
       "[<whylogs.api.logger.result_set.ProfileResultSet at 0x7f1c5a593f40>,\n",
       " <whylogs.api.logger.result_set.ProfileResultSet at 0x7f1c5a56a2c0>]"
      ]
     },
     "execution_count": 12,
     "metadata": {},
     "output_type": "execute_result"
    }
   ],
   "source": [
    "result_sets = why.batch_log_reference({\n",
    "    'wine target': wine_target,\n",
    "    'wine reference': wine_reference\n",
    "})\n",
    "\n",
    "result_sets "
   ]
  },
  {
   "cell_type": "code",
   "execution_count": 5,
   "metadata": {},
   "outputs": [
    {
     "name": "stdout",
     "output_type": "stream",
     "text": [
      "Visualize and explore this profile with one-click\n",
      "🔍 https://hub.whylabsapp.com//assets/model-1/profiles?sessionToken=session-tXWwyy&profile=ref-esn5AylF0oczlRB0\n"
     ]
    }
   ],
   "source": [
    "result_set = why.log_reference(\"test1\", {\"foo\": \"bar\", \"baz\": 1})"
   ]
  }
 ],
 "metadata": {
  "kernelspec": {
   "display_name": ".venv",
   "language": "python",
   "name": "python3"
  },
  "language_info": {
   "codemirror_mode": {
    "name": "ipython",
    "version": 3
   },
   "file_extension": ".py",
   "mimetype": "text/x-python",
   "name": "python",
   "nbconvert_exporter": "python",
   "pygments_lexer": "ipython3",
   "version": "3.10.11"
  },
  "orig_nbformat": 4
 },
 "nbformat": 4,
 "nbformat_minor": 2
}
