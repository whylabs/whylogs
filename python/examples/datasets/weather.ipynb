{
  "cells": [
    {
      "cell_type": "markdown",
      "metadata": {
        "id": "_bWxEq9oV2EP"
      },
      "source": [
        "# Weather Forecast Dataset - Usage Example"
      ]
    },
    {
      "cell_type": "markdown",
      "metadata": {},
      "source": [
        "[![Open in Colab](https://colab.research.google.com/assets/colab-badge.svg)](https://colab.research.google.com/github/whylabs/whylogs/blob/mainline/python/examples/datasets/weather.ipynb)"
      ]
    },
    {
      "cell_type": "markdown",
      "metadata": {},
      "source": [
        "This an example demonstrating the usage of the Weather Forecast Dataset.\n",
        "\n",
        "For more information about the dataset itself, check the documentation on :\n",
        "https://whylogs.readthedocs.io/en/latest/datasets/weather.html"
      ]
    },
    {
      "cell_type": "markdown",
      "metadata": {},
      "source": [
        "## Installing the datasets module\n",
        "\n",
        "Uncomment the cell below if you don't have the `datasets` module installed:"
      ]
    },
    {
      "cell_type": "code",
      "execution_count": null,
      "metadata": {},
      "outputs": [],
      "source": [
        "# %pip install -q whylogs[datasets]"
      ]
    },
    {
      "cell_type": "markdown",
      "metadata": {
        "id": "PqOUC2_gD3to"
      },
      "source": [
        "## Loading the Dataset"
      ]
    },
    {
      "cell_type": "markdown",
      "metadata": {
        "id": "RfIdpq5ly7dD"
      },
      "source": [
        "You can load the dataset of your choice by calling it from the `datasets` module:"
      ]
    },
    {
      "cell_type": "code",
      "execution_count": 2,
      "metadata": {
        "id": "hm5jgXoYVlNB"
      },
      "outputs": [],
      "source": [
        "from whylogs.datasets import Weather\n",
        "\n",
        "dataset = Weather(version=\"in_domain\")"
      ]
    },
    {
      "cell_type": "markdown",
      "metadata": {
        "id": "QlbNzl8zzLiU"
      },
      "source": [
        "This will create a folder in the current directory named `whylogs_data` with the csv files for the Weather Dataset. If the files already exist, the module will not redownload the files.\n",
        "\n",
        "Notice we're specifying the version of the dataset. A dataset can have multiple versions that can be used for differente purposes. In this case, the version \"in_domain\" has data from the same domain between baseline and inference subsets (data from the same set of regions - tropical, dry, polar, etc.).\n",
        "\n",
        "If we're interested in assessing drift issues, the version \"out_domain\" could be used, in which we have out-of-domain data in the inference subset, when compare to the baseline.\n",
        "\n",
        "Similarly, datasets could have other versions for other purposes, such as assessing data quality or outlier detection strategies."
      ]
    },
    {
      "cell_type": "markdown",
      "metadata": {
        "id": "ahX4GWZFEK8I"
      },
      "source": [
        "## Discovering Information"
      ]
    },
    {
      "cell_type": "markdown",
      "metadata": {
        "id": "SsuokUE90J1l"
      },
      "source": [
        "To know what are the available versions for a given dataset, you can call:"
      ]
    },
    {
      "cell_type": "code",
      "execution_count": 9,
      "metadata": {
        "colab": {
          "base_uri": "https://localhost:8080/"
        },
        "id": "ykm5JsXsD_uY",
        "outputId": "2d54fb35-571e-4d00-a627-0aa6af266eec"
      },
      "outputs": [
        {
          "data": {
            "text/plain": [
              "('in_domain', 'out_domain')"
            ]
          },
          "execution_count": 9,
          "metadata": {},
          "output_type": "execute_result"
        }
      ],
      "source": [
        "Weather.describe_versions()"
      ]
    },
    {
      "cell_type": "markdown",
      "metadata": {
        "id": "Ep2uEntK0RUM"
      },
      "source": [
        "To get access to overall description of the dataset:"
      ]
    },
    {
      "cell_type": "code",
      "execution_count": null,
      "metadata": {
        "colab": {
          "base_uri": "https://localhost:8080/"
        },
        "id": "E2IdCQ5iEETv",
        "outputId": "9c4aa363-3b57-45b9-da0a-6f82e1dd4807"
      },
      "outputs": [],
      "source": [
        "print(Weather.describe())"
      ]
    },
    {
      "cell_type": "markdown",
      "metadata": {},
      "source": [
        "note: the output was cleared as `describe()` will print a rather lengthy description."
      ]
    },
    {
      "cell_type": "markdown",
      "metadata": {
        "id": "vIMQqyRHPl63"
      },
      "source": [
        "## Getting Baseline Data"
      ]
    },
    {
      "cell_type": "markdown",
      "metadata": {
        "id": "83sr63LW0ZTk"
      },
      "source": [
        "You can access data from two different partitions: the baseline dataset and inference dataset.\n",
        "\n",
        "The baseline can be accessed as a whole, whereas the inference dataset can be accessed in periodic batches, defined by the user.\n",
        "\n",
        "To get a `baseline` object, just call `dataset.get_baseline()`:"
      ]
    },
    {
      "cell_type": "code",
      "execution_count": 9,
      "metadata": {
        "colab": {
          "base_uri": "https://localhost:8080/"
        },
        "id": "QY6Hdzl0EcnQ",
        "outputId": "409322a5-d972-49ee-b06d-61d081af4943"
      },
      "outputs": [],
      "source": [
        "from whylogs.datasets import Weather\n",
        "\n",
        "dataset = Weather(version=\"in_domain\")\n",
        "\n",
        "baseline = dataset.get_baseline()"
      ]
    },
    {
      "cell_type": "markdown",
      "metadata": {
        "id": "DGhEy3k403T0"
      },
      "source": [
        "`baseline` will contain different attributes - one timestamp and five dataframes.\n",
        "\n",
        "- timestamp: the batch's timestamp (at the start)\n",
        "- data: the complete dataframe\n",
        "- features: input features\n",
        "- target: output feature(s)\n",
        "- prediction: output prediction and, possibly, features such as uncertainty, confidence, probability\n",
        "- misc: metadata features that are not of any of the previous categories, but still contain relevant information about the data."
      ]
    },
    {
      "cell_type": "code",
      "execution_count": 6,
      "metadata": {
        "colab": {
          "base_uri": "https://localhost:8080/"
        },
        "id": "7-742tkdQIDb",
        "outputId": "92cc762c-845d-4eb6-c211-9c0de3cb69c0"
      },
      "outputs": [
        {
          "data": {
            "text/plain": [
              "datetime.date(2022, 8, 4)"
            ]
          },
          "execution_count": 6,
          "metadata": {},
          "output_type": "execute_result"
        }
      ],
      "source": [
        "baseline.timestamp"
      ]
    },
    {
      "cell_type": "code",
      "execution_count": 8,
      "metadata": {},
      "outputs": [
        {
          "data": {
            "text/html": [
              "<div>\n",
              "<style scoped>\n",
              "    .dataframe tbody tr th:only-of-type {\n",
              "        vertical-align: middle;\n",
              "    }\n",
              "\n",
              "    .dataframe tbody tr th {\n",
              "        vertical-align: top;\n",
              "    }\n",
              "\n",
              "    .dataframe thead th {\n",
              "        text-align: right;\n",
              "    }\n",
              "</style>\n",
              "<table border=\"1\" class=\"dataframe\">\n",
              "  <thead>\n",
              "    <tr style=\"text-align: right;\">\n",
              "      <th></th>\n",
              "      <th>meta_latitude</th>\n",
              "      <th>meta_longitude</th>\n",
              "      <th>meta_climate</th>\n",
              "      <th>date</th>\n",
              "    </tr>\n",
              "    <tr>\n",
              "      <th>date</th>\n",
              "      <th></th>\n",
              "      <th></th>\n",
              "      <th></th>\n",
              "      <th></th>\n",
              "    </tr>\n",
              "  </thead>\n",
              "  <tbody>\n",
              "    <tr>\n",
              "      <th>2022-08-04</th>\n",
              "      <td>28.702900</td>\n",
              "      <td>-105.964996</td>\n",
              "      <td>dry</td>\n",
              "      <td>2022-08-04</td>\n",
              "    </tr>\n",
              "    <tr>\n",
              "      <th>2022-08-04</th>\n",
              "      <td>-35.165298</td>\n",
              "      <td>147.466003</td>\n",
              "      <td>mild temperate</td>\n",
              "      <td>2022-08-04</td>\n",
              "    </tr>\n",
              "    <tr>\n",
              "      <th>2022-08-04</th>\n",
              "      <td>29.607300</td>\n",
              "      <td>-95.158798</td>\n",
              "      <td>mild temperate</td>\n",
              "      <td>2022-08-04</td>\n",
              "    </tr>\n",
              "    <tr>\n",
              "      <th>2022-08-04</th>\n",
              "      <td>39.077999</td>\n",
              "      <td>-77.557503</td>\n",
              "      <td>mild temperate</td>\n",
              "      <td>2022-08-04</td>\n",
              "    </tr>\n",
              "    <tr>\n",
              "      <th>2022-08-04</th>\n",
              "      <td>26.152599</td>\n",
              "      <td>-81.775299</td>\n",
              "      <td>mild temperate</td>\n",
              "      <td>2022-08-04</td>\n",
              "    </tr>\n",
              "  </tbody>\n",
              "</table>\n",
              "</div>"
            ],
            "text/plain": [
              "            meta_latitude  meta_longitude    meta_climate        date\n",
              "date                                                                 \n",
              "2022-08-04      28.702900     -105.964996             dry  2022-08-04\n",
              "2022-08-04     -35.165298      147.466003  mild temperate  2022-08-04\n",
              "2022-08-04      29.607300      -95.158798  mild temperate  2022-08-04\n",
              "2022-08-04      39.077999      -77.557503  mild temperate  2022-08-04\n",
              "2022-08-04      26.152599      -81.775299  mild temperate  2022-08-04"
            ]
          },
          "execution_count": 8,
          "metadata": {},
          "output_type": "execute_result"
        }
      ],
      "source": [
        "baseline.misc.head()"
      ]
    },
    {
      "cell_type": "markdown",
      "metadata": {
        "id": "zq--VQ7kQOWn"
      },
      "source": [
        "## Setting Parameters"
      ]
    },
    {
      "cell_type": "markdown",
      "metadata": {
        "id": "y6-NrLU813it"
      },
      "source": [
        "With `set_parameters`, you can specify the timestamps for both baseline and inference datasets, as well as the inference interval.\n",
        "\n",
        "By default, the timestamp is set as:\n",
        "- Current date for baseline dataset\n",
        "- Tomorrow's date for inference dataset\n",
        "\n",
        "These timestamps can be defined by the user to any given day, including the dataset's original date.\n",
        "\n",
        "The `inference_interval` defines the interval for each batch: '1d' means that we will have daily batches, while '7d' would mean weekly batches."
      ]
    },
    {
      "cell_type": "markdown",
      "metadata": {
        "id": "c35iQULHvAj4"
      },
      "source": [
        "To set the timestamps to the original dataset's date, set `original` to true, like below:"
      ]
    },
    {
      "cell_type": "code",
      "execution_count": 10,
      "metadata": {
        "id": "ENU8FVY5vJ_-"
      },
      "outputs": [],
      "source": [
        "# Currently, the inference interval takes a str in the format \"Xd\", where X is an integer between 1-30\n",
        "dataset.set_parameters(inference_interval=\"1d\", original=True)"
      ]
    },
    {
      "cell_type": "markdown",
      "metadata": {
        "id": "RZqtT98Ruvnp"
      },
      "source": [
        "You can set timestamp by using the `baseline_timestamp` and `inference_start_timestamp`, and the inference interval like below:"
      ]
    },
    {
      "cell_type": "code",
      "execution_count": 11,
      "metadata": {
        "id": "qG69ObDuQQjf"
      },
      "outputs": [],
      "source": [
        "from datetime import date\n",
        "today = date.today()\n",
        "dataset.set_parameters(baseline_timestamp=today, inference_start_timestamp=today, inference_interval=\"1d\")"
      ]
    },
    {
      "cell_type": "markdown",
      "metadata": {
        "id": "rZD-BWR7vRh2"
      },
      "source": [
        "Note that if both `original` and a timestamp (baseline or inference) is passed simultaneously, the defined timestamp will be overwritten by the original dataset timestamp."
      ]
    },
    {
      "cell_type": "markdown",
      "metadata": {
        "id": "Mvj9Jr_EQlH4"
      },
      "source": [
        "## Getting Inference Data #1 - By Date"
      ]
    },
    {
      "cell_type": "markdown",
      "metadata": {
        "id": "i5o19JBVvod_"
      },
      "source": [
        "You can get inference data in two different ways. The first is to specify the exact date you want, which will return a single batch:"
      ]
    },
    {
      "cell_type": "code",
      "execution_count": 12,
      "metadata": {
        "id": "ker8C5-lQqGI"
      },
      "outputs": [],
      "source": [
        "batch = dataset.get_inference_data(target_date=today)"
      ]
    },
    {
      "cell_type": "markdown",
      "metadata": {},
      "source": [
        "You can access the attributes just as showed before:"
      ]
    },
    {
      "cell_type": "code",
      "execution_count": 13,
      "metadata": {
        "colab": {
          "base_uri": "https://localhost:8080/"
        },
        "id": "AasIC_5dQvdH",
        "outputId": "9ceba128-6a21-4b96-aae6-e1412bbdebce"
      },
      "outputs": [
        {
          "data": {
            "text/plain": [
              "datetime.date(2022, 8, 4)"
            ]
          },
          "execution_count": 13,
          "metadata": {},
          "output_type": "execute_result"
        }
      ],
      "source": [
        "batch.timestamp"
      ]
    },
    {
      "cell_type": "code",
      "execution_count": 14,
      "metadata": {
        "colab": {
          "base_uri": "https://localhost:8080/",
          "height": 238
        },
        "id": "n41ImwgzQyPP",
        "outputId": "f56173a3-8c71-46f2-ca9d-d0a013792388"
      },
      "outputs": [
        {
          "data": {
            "text/html": [
              "<div>\n",
              "<style scoped>\n",
              "    .dataframe tbody tr th:only-of-type {\n",
              "        vertical-align: middle;\n",
              "    }\n",
              "\n",
              "    .dataframe tbody tr th {\n",
              "        vertical-align: top;\n",
              "    }\n",
              "\n",
              "    .dataframe thead th {\n",
              "        text-align: right;\n",
              "    }\n",
              "</style>\n",
              "<table border=\"1\" class=\"dataframe\">\n",
              "  <thead>\n",
              "    <tr style=\"text-align: right;\">\n",
              "      <th></th>\n",
              "      <th>prediction_temperature</th>\n",
              "      <th>uncertainty</th>\n",
              "    </tr>\n",
              "    <tr>\n",
              "      <th>date</th>\n",
              "      <th></th>\n",
              "      <th></th>\n",
              "    </tr>\n",
              "  </thead>\n",
              "  <tbody>\n",
              "    <tr>\n",
              "      <th>2022-08-04</th>\n",
              "      <td>9.163181</td>\n",
              "      <td>1.744749</td>\n",
              "    </tr>\n",
              "    <tr>\n",
              "      <th>2022-08-04</th>\n",
              "      <td>26.220221</td>\n",
              "      <td>3.051431</td>\n",
              "    </tr>\n",
              "    <tr>\n",
              "      <th>2022-08-04</th>\n",
              "      <td>13.178478</td>\n",
              "      <td>5.418665</td>\n",
              "    </tr>\n",
              "    <tr>\n",
              "      <th>2022-08-04</th>\n",
              "      <td>23.255124</td>\n",
              "      <td>2.586641</td>\n",
              "    </tr>\n",
              "    <tr>\n",
              "      <th>2022-08-04</th>\n",
              "      <td>27.851674</td>\n",
              "      <td>6.792959</td>\n",
              "    </tr>\n",
              "  </tbody>\n",
              "</table>\n",
              "</div>"
            ],
            "text/plain": [
              "            prediction_temperature  uncertainty\n",
              "date                                           \n",
              "2022-08-04                9.163181     1.744749\n",
              "2022-08-04               26.220221     3.051431\n",
              "2022-08-04               13.178478     5.418665\n",
              "2022-08-04               23.255124     2.586641\n",
              "2022-08-04               27.851674     6.792959"
            ]
          },
          "execution_count": 14,
          "metadata": {},
          "output_type": "execute_result"
        }
      ],
      "source": [
        "batch.prediction.head()"
      ]
    },
    {
      "cell_type": "markdown",
      "metadata": {
        "id": "iHTrgM8vQ6s3"
      },
      "source": [
        "## Getting Inference Data #2 - By Number of Batches"
      ]
    },
    {
      "cell_type": "markdown",
      "metadata": {
        "id": "1uSzyxcjv_lu"
      },
      "source": [
        "The second way is to specify the number of batches you want and also the date for the first batch.\n",
        "\n",
        "You can then iterate over the returned object to get the batches. You can then use the batch any way you want. Here's an example that retrieves daily batches for a period of 5 days and logs each one with __whylogs__:"
      ]
    },
    {
      "cell_type": "code",
      "execution_count": 15,
      "metadata": {
        "colab": {
          "base_uri": "https://localhost:8080/"
        },
        "id": "mtLnlHs3Wj_Q",
        "outputId": "c9bd891f-2502-4706-cde9-051fdd3fb861"
      },
      "outputs": [
        {
          "name": "stdout",
          "output_type": "stream",
          "text": [
            "logging batch of size 216 for 2022-08-04\n",
            "logging batch of size 242 for 2022-08-05\n",
            "logging batch of size 231 for 2022-08-06\n",
            "logging batch of size 225 for 2022-08-07\n",
            "logging batch of size 222 for 2022-08-08\n"
          ]
        }
      ],
      "source": [
        "import whylogs as why\n",
        "batches = dataset.get_inference_data(number_batches=5)\n",
        "\n",
        "for batch in batches:\n",
        "  print(\"logging batch of size {} for {}\".format(len(batch.data),batch.timestamp))\n",
        "  why.log(batch.data)"
      ]
    }
  ],
  "metadata": {
    "colab": {
      "name": "datasets.ipynb",
      "provenance": []
    },
    "kernelspec": {
      "display_name": "Python 3.8.10 ('.venv': poetry)",
      "language": "python",
      "name": "python3"
    },
    "language_info": {
      "codemirror_mode": {
        "name": "ipython",
        "version": 3
      },
      "file_extension": ".py",
      "mimetype": "text/x-python",
      "name": "python",
      "nbconvert_exporter": "python",
      "pygments_lexer": "ipython3",
      "version": "3.8.10"
    },
    "vscode": {
      "interpreter": {
        "hash": "8430e7bcc333486e417258c6fadac662061ebd166d9f3c5ccb12c1968aa41625"
      }
    }
  },
  "nbformat": 4,
  "nbformat_minor": 0
}
