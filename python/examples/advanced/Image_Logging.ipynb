{
  "nbformat": 4,
  "nbformat_minor": 0,
  "metadata": {
    "colab": {
      "provenance": [],
      "collapsed_sections": []
    },
    "kernelspec": {
      "name": "python3",
      "display_name": "Python 3"
    },
    "language_info": {
      "name": "python"
    }
  },
  "cells": [
    {
      "cell_type": "markdown",
      "source": [
        "# Image Logging\n",
        "\n",
        "Whylogs has optional support for logging data about images. This example demonstrates how to use whylogs with image data.\n",
        "\n",
        "## Install whylogs with Image Logging Support\n",
        "\n",
        "Whylogs uses [Pillow](https://python-pillow.org) for working with images. To install whylogs with the optional image support enabled, use the following:\n",
        "\n",
        "\n",
        "\n",
        "\n",
        "\n",
        "\n"
      ],
      "metadata": {
        "id": "5miDsaTTu3Fb"
      }
    },
    {
      "cell_type": "code",
      "source": [
        "pip install whylogs[image]"
      ],
      "metadata": {
        "id": "4MNaZsuHxiq2"
      },
      "execution_count": null,
      "outputs": []
    },
    {
      "cell_type": "markdown",
      "source": [
        "This will install all the dependencies whylogs needs to work with image data.\n",
        "\n",
        "## Basic Image Logging\n",
        "\n",
        "The `log_image()` function provides a simple interface for logging images."
      ],
      "metadata": {
        "id": "NsW-ivHNyLjU"
      }
    },
    {
      "cell_type": "code",
      "source": [
        "import os\n",
        "from PIL import Image\n",
        "\n",
        "from whylogs.extras.image_metric import log_image\n",
        "\n",
        "TEST_DATA_PATH = os.path.abspath(\n",
        "    os.path.join(\n",
        "        os.path.realpath(os.path.dirname(__file__)),\n",
        "        os.pardir, os.pardir,\n",
        "        \"testdata\", \"images\"\n",
        "    )\n",
        ")\n",
        "\n",
        "def load_image(file_name: str) -> Image.Image:\n",
        "  with open(os.path.join(TEST_DATA_PATH, file_name), \"rb\") as file_p:\n",
        "    return Image.open(file_p).copy()\n",
        "\n",
        "results = log_image(load_image(\"flowers2.jpg\"))\n",
        "print(results.view().get_column(\"image\").to_summary_dict())"
      ],
      "metadata": {
        "id": "Laud3_BTGRU1"
      },
      "execution_count": null,
      "outputs": []
    },
    {
      "cell_type": "markdown",
      "source": [
        "As you can see above, just passing in an `Image` results in a \"column\" named in the profile. You can pass in a list of images, which will append an index to each column name:"
      ],
      "metadata": {
        "id": "kd9IqAfXIzX4"
      }
    },
    {
      "cell_type": "code",
      "source": [
        "img = load_image(\"flowers2.jpg\")\n",
        "results = log_image([img, img, img])\n",
        "print(results.view().get_column(\"image2\").to_summary_dict())"
      ],
      "metadata": {
        "id": "uioACRBVKzxX"
      },
      "execution_count": null,
      "outputs": []
    },
    {
      "cell_type": "markdown",
      "source": [
        "You can change the default name if you like:"
      ],
      "metadata": {
        "id": "B2Niw5rwLBaS"
      }
    },
    {
      "cell_type": "code",
      "source": [
        "results = log_image([img, img], default_column_prefix=\"awesome_image\")\n",
        "print(results.view().get_column(\"awesome_image0\").to_summary_dict())"
      ],
      "metadata": {
        "id": "MqylDGGLNWl4"
      },
      "execution_count": null,
      "outputs": []
    },
    {
      "cell_type": "markdown",
      "source": [
        "You can also pass a dictionary of images to give each \"column\" a unique name:"
      ],
      "metadata": {
        "id": "bdvbyB10NrAs"
      }
    },
    {
      "cell_type": "code",
      "source": [
        "results = log_image({\"red\": img, \"blue\": img, \"green\": image})\n",
        "print(results.view().get_column(\"blue\").to_summary_dict())"
      ],
      "metadata": {
        "id": "ogb_0tJLNqY7"
      },
      "execution_count": null,
      "outputs": []
    },
    {
      "cell_type": "markdown",
      "source": [
        "## Advanced Image Logging\n",
        "\n",
        "The `log_image()` function provides a flexible interface for logging image data. If you want to log images along with other types of data, you can do so by setting up a custom `DatasetSchema` to specify which columns contain images."
      ],
      "metadata": {
        "id": "dmPj0szMSdpy"
      }
    },
    {
      "cell_type": "code",
      "source": [
        "import whylogs as why\n",
        "\n",
        "from whylogs.core.metrics import MetricConfig\n",
        "from whylogs.core.resolvers import StandardResolver\n",
        "from whylogs.core.schema import DatasetSchema\n",
        "from whylogs.extras.image_metric import ImageMetric\n",
        "\n",
        "class ImageResolver(StandardResolver):\n",
        "  def resolve(self, name: str, why_type: DataType, column_schema: ColumnSchema) -> Dict[str, Metric]:\n",
        "    if \"image\" in name:\n",
        "      return {ImageMetric.get_namespace(MetricConfig()): ImageMetric.zero(column_schema.cfg)}\n",
        "    return super(ImageResolver, self).resolve(name, column_schema)\n",
        "\n",
        "schema = DatasetSchema(resolvers=ImageResolvler())\n",
        "\n",
        "results = why.log(row={\"numbers\": 42, \"images\": img}, schema=schema)\n",
        "print(results.to_summary_dict())"
      ],
      "metadata": {
        "id": "6NyXGf30aegh"
      },
      "execution_count": null,
      "outputs": []
    }
  ]
}