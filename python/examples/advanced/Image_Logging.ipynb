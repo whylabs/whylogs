{
  "cells": [
    {
      "cell_type": "markdown",
      "metadata": {
        "id": "5miDsaTTu3Fb"
      },
      "source": [
        "# Image Logging\n",
        "\n",
        "Whylogs has optional support for logging data about images. This example demonstrates how to use whylogs with image data.\n",
        "\n",
        "## Install whylogs with Image Logging Support\n",
        "\n",
        "Whylogs uses [Pillow](https://python-pillow.org) for working with images. To install whylogs with the optional image support enabled, use the following:\n",
        "\n",
        "\n",
        "\n",
        "\n",
        "\n",
        "\n"
      ]
    },
    {
      "cell_type": "code",
      "execution_count": 29,
      "metadata": {
        "id": "4MNaZsuHxiq2",
        "vscode": {
          "languageId": "shellscript"
        },
        "outputId": "83e4c6f8-235d-43bc-ea5c-665cdc3838d5",
        "colab": {
          "base_uri": "https://localhost:8080/"
        }
      },
      "outputs": [
        {
          "output_type": "stream",
          "name": "stdout",
          "text": [
            "Looking in indexes: https://pypi.org/simple, https://us-python.pkg.dev/colab-wheels/public/simple/\n",
            "Requirement already satisfied: whylogs[image] in /usr/local/lib/python3.7/dist-packages (1.1.0)\n",
            "Requirement already satisfied: typing-extensions in /usr/local/lib/python3.7/dist-packages (from whylogs[image]) (4.1.1)\n",
            "Requirement already satisfied: importlib-metadata>=0.23 in /usr/local/lib/python3.7/dist-packages (from whylogs[image]) (4.12.0)\n",
            "Requirement already satisfied: whylogs-sketching>=3.4.1.dev3 in /usr/local/lib/python3.7/dist-packages (from whylogs[image]) (3.4.1.dev3)\n",
            "Requirement already satisfied: protobuf>=3.15.5 in /usr/local/lib/python3.7/dist-packages (from whylogs[image]) (3.17.3)\n",
            "Requirement already satisfied: Pillow<10.0.0,>=9.2.0 in /usr/local/lib/python3.7/dist-packages (from whylogs[image]) (9.2.0)\n",
            "Requirement already satisfied: zipp>=0.5 in /usr/local/lib/python3.7/dist-packages (from importlib-metadata>=0.23->whylogs[image]) (3.8.1)\n",
            "Requirement already satisfied: six>=1.9 in /usr/local/lib/python3.7/dist-packages (from protobuf>=3.15.5->whylogs[image]) (1.15.0)\n"
          ]
        }
      ],
      "source": [
        "pip install whylogs[image]"
      ]
    },
    {
      "cell_type": "markdown",
      "metadata": {
        "id": "NsW-ivHNyLjU"
      },
      "source": [
        "This will install all the dependencies whylogs needs to work with image data.\n",
        "\n",
        "## Basic Image Logging\n",
        "\n",
        "The `log_image()` function provides a simple interface for logging images."
      ]
    },
    {
      "cell_type": "code",
      "execution_count": 30,
      "metadata": {
        "id": "Laud3_BTGRU1",
        "outputId": "d5ff080a-fcba-4885-ad76-66e5813866ca",
        "colab": {
          "base_uri": "https://localhost:8080/"
        }
      },
      "outputs": [
        {
          "output_type": "stream",
          "name": "stdout",
          "text": [
            "{'image/image/ImagePixelWidth/mean': 256.0, 'image/image/ImagePixelWidth/stddev': 0.0, 'image/image/ImagePixelWidth/n': 1, 'image/image/ImagePixelWidth/max': 256.0, 'image/image/ImagePixelWidth/min': 256.0, 'image/image/ImagePixelWidth/q_01': 256.0, 'image/image/ImagePixelWidth/q_05': 256.0, 'image/image/ImagePixelWidth/q_10': 256.0, 'image/image/ImagePixelWidth/q_25': 256.0, 'image/image/ImagePixelWidth/median': 256.0, 'image/image/ImagePixelWidth/q_75': 256.0, 'image/image/ImagePixelWidth/q_90': 256.0, 'image/image/ImagePixelWidth/q_95': 256.0, 'image/image/ImagePixelWidth/q_99': 256.0, 'image/image/ImagePixelHeight/mean': 256.0, 'image/image/ImagePixelHeight/stddev': 0.0, 'image/image/ImagePixelHeight/n': 1, 'image/image/ImagePixelHeight/max': 256.0, 'image/image/ImagePixelHeight/min': 256.0, 'image/image/ImagePixelHeight/q_01': 256.0, 'image/image/ImagePixelHeight/q_05': 256.0, 'image/image/ImagePixelHeight/q_10': 256.0, 'image/image/ImagePixelHeight/q_25': 256.0, 'image/image/ImagePixelHeight/median': 256.0, 'image/image/ImagePixelHeight/q_75': 256.0, 'image/image/ImagePixelHeight/q_90': 256.0, 'image/image/ImagePixelHeight/q_95': 256.0, 'image/image/ImagePixelHeight/q_99': 256.0, 'image/image/Colorspace/frequent_strings': [FrequentItem(value='L', est=1, upper=1, lower=1)], 'image/image/Hue.mean/mean': 0.0, 'image/image/Hue.mean/stddev': 0.0, 'image/image/Hue.mean/n': 1, 'image/image/Hue.mean/max': 0.0, 'image/image/Hue.mean/min': 0.0, 'image/image/Hue.mean/q_01': 0.0, 'image/image/Hue.mean/q_05': 0.0, 'image/image/Hue.mean/q_10': 0.0, 'image/image/Hue.mean/q_25': 0.0, 'image/image/Hue.mean/median': 0.0, 'image/image/Hue.mean/q_75': 0.0, 'image/image/Hue.mean/q_90': 0.0, 'image/image/Hue.mean/q_95': 0.0, 'image/image/Hue.mean/q_99': 0.0, 'image/image/Hue.stddev/mean': 0.0, 'image/image/Hue.stddev/stddev': 0.0, 'image/image/Hue.stddev/n': 1, 'image/image/Hue.stddev/max': 0.0, 'image/image/Hue.stddev/min': 0.0, 'image/image/Hue.stddev/q_01': 0.0, 'image/image/Hue.stddev/q_05': 0.0, 'image/image/Hue.stddev/q_10': 0.0, 'image/image/Hue.stddev/q_25': 0.0, 'image/image/Hue.stddev/median': 0.0, 'image/image/Hue.stddev/q_75': 0.0, 'image/image/Hue.stddev/q_90': 0.0, 'image/image/Hue.stddev/q_95': 0.0, 'image/image/Hue.stddev/q_99': 0.0, 'image/image/Saturation.mean/mean': 0.0, 'image/image/Saturation.mean/stddev': 0.0, 'image/image/Saturation.mean/n': 1, 'image/image/Saturation.mean/max': 0.0, 'image/image/Saturation.mean/min': 0.0, 'image/image/Saturation.mean/q_01': 0.0, 'image/image/Saturation.mean/q_05': 0.0, 'image/image/Saturation.mean/q_10': 0.0, 'image/image/Saturation.mean/q_25': 0.0, 'image/image/Saturation.mean/median': 0.0, 'image/image/Saturation.mean/q_75': 0.0, 'image/image/Saturation.mean/q_90': 0.0, 'image/image/Saturation.mean/q_95': 0.0, 'image/image/Saturation.mean/q_99': 0.0, 'image/image/Saturation.stddev/mean': 0.0, 'image/image/Saturation.stddev/stddev': 0.0, 'image/image/Saturation.stddev/n': 1, 'image/image/Saturation.stddev/max': 0.0, 'image/image/Saturation.stddev/min': 0.0, 'image/image/Saturation.stddev/q_01': 0.0, 'image/image/Saturation.stddev/q_05': 0.0, 'image/image/Saturation.stddev/q_10': 0.0, 'image/image/Saturation.stddev/q_25': 0.0, 'image/image/Saturation.stddev/median': 0.0, 'image/image/Saturation.stddev/q_75': 0.0, 'image/image/Saturation.stddev/q_90': 0.0, 'image/image/Saturation.stddev/q_95': 0.0, 'image/image/Saturation.stddev/q_99': 0.0, 'image/image/Brightness.mean/mean': 91.99722290039062, 'image/image/Brightness.mean/stddev': 0.0, 'image/image/Brightness.mean/n': 1, 'image/image/Brightness.mean/max': 91.99722290039062, 'image/image/Brightness.mean/min': 91.99722290039062, 'image/image/Brightness.mean/q_01': 91.99722290039062, 'image/image/Brightness.mean/q_05': 91.99722290039062, 'image/image/Brightness.mean/q_10': 91.99722290039062, 'image/image/Brightness.mean/q_25': 91.99722290039062, 'image/image/Brightness.mean/median': 91.99722290039062, 'image/image/Brightness.mean/q_75': 91.99722290039062, 'image/image/Brightness.mean/q_90': 91.99722290039062, 'image/image/Brightness.mean/q_95': 91.99722290039062, 'image/image/Brightness.mean/q_99': 91.99722290039062, 'image/image/Brightness.stddev/mean': 41.904298558131785, 'image/image/Brightness.stddev/stddev': 0.0, 'image/image/Brightness.stddev/n': 1, 'image/image/Brightness.stddev/max': 41.904298558131785, 'image/image/Brightness.stddev/min': 41.904298558131785, 'image/image/Brightness.stddev/q_01': 41.904298558131785, 'image/image/Brightness.stddev/q_05': 41.904298558131785, 'image/image/Brightness.stddev/q_10': 41.904298558131785, 'image/image/Brightness.stddev/q_25': 41.904298558131785, 'image/image/Brightness.stddev/median': 41.904298558131785, 'image/image/Brightness.stddev/q_75': 41.904298558131785, 'image/image/Brightness.stddev/q_90': 41.904298558131785, 'image/image/Brightness.stddev/q_95': 41.904298558131785, 'image/image/Brightness.stddev/q_99': 41.904298558131785}\n"
          ]
        }
      ],
      "source": [
        "import os\n",
        "from PIL import Image\n",
        "\n",
        "from whylogs.extras.image_metric import log_image\n",
        "\n",
        "img1 = Image.effect_mandelbrot((256, 256), (-3, -2.5, 2, 2.5), 9)\n",
        "img2 = Image.effect_mandelbrot((256, 256), (-3, -2.5, 2, 2.5), 20)\n",
        "\n",
        "results = log_image(img1)\n",
        "print(results.view().get_column(\"image\").to_summary_dict())"
      ]
    },
    {
      "cell_type": "markdown",
      "metadata": {
        "id": "kd9IqAfXIzX4"
      },
      "source": [
        "As you can see above, just passing in an `Image` results in a \"column\" named in the profile. You can pass in a list of images, which will append an index to each column name:"
      ]
    },
    {
      "cell_type": "code",
      "execution_count": 31,
      "metadata": {
        "id": "uioACRBVKzxX",
        "outputId": "0738803d-9b8a-45e4-8daf-258afd328528",
        "colab": {
          "base_uri": "https://localhost:8080/",
          "height": 205
        }
      },
      "outputs": [
        {
          "output_type": "error",
          "ename": "AttributeError",
          "evalue": "ignored",
          "traceback": [
            "\u001b[0;31m---------------------------------------------------------------------------\u001b[0m",
            "\u001b[0;31mAttributeError\u001b[0m                            Traceback (most recent call last)",
            "\u001b[0;32m<ipython-input-31-3b41b984c632>\u001b[0m in \u001b[0;36m<module>\u001b[0;34m\u001b[0m\n\u001b[1;32m      1\u001b[0m \u001b[0mresults\u001b[0m \u001b[0;34m=\u001b[0m \u001b[0mlog_image\u001b[0m\u001b[0;34m(\u001b[0m\u001b[0;34m[\u001b[0m\u001b[0mimg1\u001b[0m\u001b[0;34m,\u001b[0m \u001b[0mimg2\u001b[0m\u001b[0;34m]\u001b[0m\u001b[0;34m)\u001b[0m\u001b[0;34m\u001b[0m\u001b[0;34m\u001b[0m\u001b[0m\n\u001b[0;32m----> 2\u001b[0;31m \u001b[0mprint\u001b[0m\u001b[0;34m(\u001b[0m\u001b[0mresults\u001b[0m\u001b[0;34m.\u001b[0m\u001b[0mview\u001b[0m\u001b[0;34m(\u001b[0m\u001b[0;34m)\u001b[0m\u001b[0;34m.\u001b[0m\u001b[0mget_column\u001b[0m\u001b[0;34m(\u001b[0m\u001b[0;34m\"image_1\"\u001b[0m\u001b[0;34m)\u001b[0m\u001b[0;34m.\u001b[0m\u001b[0mto_summary_dict\u001b[0m\u001b[0;34m(\u001b[0m\u001b[0;34m)\u001b[0m\u001b[0;34m)\u001b[0m\u001b[0;34m\u001b[0m\u001b[0;34m\u001b[0m\u001b[0m\n\u001b[0m",
            "\u001b[0;31mAttributeError\u001b[0m: 'NoneType' object has no attribute 'to_summary_dict'"
          ]
        }
      ],
      "source": [
        "results = log_image([img1, img2])\n",
        "print(results.view().get_column(\"image_1\").to_summary_dict())"
      ]
    },
    {
      "cell_type": "markdown",
      "metadata": {
        "id": "B2Niw5rwLBaS"
      },
      "source": [
        "You can change the default name if you like:"
      ]
    },
    {
      "cell_type": "code",
      "execution_count": 32,
      "metadata": {
        "id": "MqylDGGLNWl4",
        "outputId": "d708252a-8e49-448e-ba5c-18375151a134",
        "colab": {
          "base_uri": "https://localhost:8080/",
          "height": 205
        }
      },
      "outputs": [
        {
          "output_type": "error",
          "ename": "AttributeError",
          "evalue": "ignored",
          "traceback": [
            "\u001b[0;31m---------------------------------------------------------------------------\u001b[0m",
            "\u001b[0;31mAttributeError\u001b[0m                            Traceback (most recent call last)",
            "\u001b[0;32m<ipython-input-32-a372f507d75e>\u001b[0m in \u001b[0;36m<module>\u001b[0;34m\u001b[0m\n\u001b[1;32m      1\u001b[0m \u001b[0mresults\u001b[0m \u001b[0;34m=\u001b[0m \u001b[0mlog_image\u001b[0m\u001b[0;34m(\u001b[0m\u001b[0;34m[\u001b[0m\u001b[0mimg1\u001b[0m\u001b[0;34m,\u001b[0m \u001b[0mimg2\u001b[0m\u001b[0;34m]\u001b[0m\u001b[0;34m,\u001b[0m \u001b[0mdefault_column_prefix\u001b[0m\u001b[0;34m=\u001b[0m\u001b[0;34m\"awesome_image\"\u001b[0m\u001b[0;34m)\u001b[0m\u001b[0;34m\u001b[0m\u001b[0;34m\u001b[0m\u001b[0m\n\u001b[0;32m----> 2\u001b[0;31m \u001b[0mprint\u001b[0m\u001b[0;34m(\u001b[0m\u001b[0mresults\u001b[0m\u001b[0;34m.\u001b[0m\u001b[0mview\u001b[0m\u001b[0;34m(\u001b[0m\u001b[0;34m)\u001b[0m\u001b[0;34m.\u001b[0m\u001b[0mget_column\u001b[0m\u001b[0;34m(\u001b[0m\u001b[0;34m\"awesome_image_0\"\u001b[0m\u001b[0;34m)\u001b[0m\u001b[0;34m.\u001b[0m\u001b[0mto_summary_dict\u001b[0m\u001b[0;34m(\u001b[0m\u001b[0;34m)\u001b[0m\u001b[0;34m)\u001b[0m\u001b[0;34m\u001b[0m\u001b[0;34m\u001b[0m\u001b[0m\n\u001b[0m",
            "\u001b[0;31mAttributeError\u001b[0m: 'NoneType' object has no attribute 'to_summary_dict'"
          ]
        }
      ],
      "source": [
        "results = log_image([img1, img2], default_column_prefix=\"awesome_image\")\n",
        "print(results.view().get_column(\"awesome_image_0\").to_summary_dict())"
      ]
    },
    {
      "cell_type": "markdown",
      "metadata": {
        "id": "bdvbyB10NrAs"
      },
      "source": [
        "You can also pass a dictionary of images to give each \"column\" a unique name:"
      ]
    },
    {
      "cell_type": "code",
      "execution_count": 33,
      "metadata": {
        "id": "ogb_0tJLNqY7",
        "outputId": "9ec6ef8c-5f46-4b3c-bf77-aff29f02124d",
        "colab": {
          "base_uri": "https://localhost:8080/"
        }
      },
      "outputs": [
        {
          "output_type": "stream",
          "name": "stdout",
          "text": [
            "{'image/image/ImagePixelWidth/mean': 256.0, 'image/image/ImagePixelWidth/stddev': 0.0, 'image/image/ImagePixelWidth/n': 1, 'image/image/ImagePixelWidth/max': 256.0, 'image/image/ImagePixelWidth/min': 256.0, 'image/image/ImagePixelWidth/q_01': 256.0, 'image/image/ImagePixelWidth/q_05': 256.0, 'image/image/ImagePixelWidth/q_10': 256.0, 'image/image/ImagePixelWidth/q_25': 256.0, 'image/image/ImagePixelWidth/median': 256.0, 'image/image/ImagePixelWidth/q_75': 256.0, 'image/image/ImagePixelWidth/q_90': 256.0, 'image/image/ImagePixelWidth/q_95': 256.0, 'image/image/ImagePixelWidth/q_99': 256.0, 'image/image/ImagePixelHeight/mean': 256.0, 'image/image/ImagePixelHeight/stddev': 0.0, 'image/image/ImagePixelHeight/n': 1, 'image/image/ImagePixelHeight/max': 256.0, 'image/image/ImagePixelHeight/min': 256.0, 'image/image/ImagePixelHeight/q_01': 256.0, 'image/image/ImagePixelHeight/q_05': 256.0, 'image/image/ImagePixelHeight/q_10': 256.0, 'image/image/ImagePixelHeight/q_25': 256.0, 'image/image/ImagePixelHeight/median': 256.0, 'image/image/ImagePixelHeight/q_75': 256.0, 'image/image/ImagePixelHeight/q_90': 256.0, 'image/image/ImagePixelHeight/q_95': 256.0, 'image/image/ImagePixelHeight/q_99': 256.0, 'image/image/Colorspace/frequent_strings': [FrequentItem(value='L', est=1, upper=1, lower=1)], 'image/image/Hue.mean/mean': 0.0, 'image/image/Hue.mean/stddev': 0.0, 'image/image/Hue.mean/n': 1, 'image/image/Hue.mean/max': 0.0, 'image/image/Hue.mean/min': 0.0, 'image/image/Hue.mean/q_01': 0.0, 'image/image/Hue.mean/q_05': 0.0, 'image/image/Hue.mean/q_10': 0.0, 'image/image/Hue.mean/q_25': 0.0, 'image/image/Hue.mean/median': 0.0, 'image/image/Hue.mean/q_75': 0.0, 'image/image/Hue.mean/q_90': 0.0, 'image/image/Hue.mean/q_95': 0.0, 'image/image/Hue.mean/q_99': 0.0, 'image/image/Hue.stddev/mean': 0.0, 'image/image/Hue.stddev/stddev': 0.0, 'image/image/Hue.stddev/n': 1, 'image/image/Hue.stddev/max': 0.0, 'image/image/Hue.stddev/min': 0.0, 'image/image/Hue.stddev/q_01': 0.0, 'image/image/Hue.stddev/q_05': 0.0, 'image/image/Hue.stddev/q_10': 0.0, 'image/image/Hue.stddev/q_25': 0.0, 'image/image/Hue.stddev/median': 0.0, 'image/image/Hue.stddev/q_75': 0.0, 'image/image/Hue.stddev/q_90': 0.0, 'image/image/Hue.stddev/q_95': 0.0, 'image/image/Hue.stddev/q_99': 0.0, 'image/image/Saturation.mean/mean': 0.0, 'image/image/Saturation.mean/stddev': 0.0, 'image/image/Saturation.mean/n': 1, 'image/image/Saturation.mean/max': 0.0, 'image/image/Saturation.mean/min': 0.0, 'image/image/Saturation.mean/q_01': 0.0, 'image/image/Saturation.mean/q_05': 0.0, 'image/image/Saturation.mean/q_10': 0.0, 'image/image/Saturation.mean/q_25': 0.0, 'image/image/Saturation.mean/median': 0.0, 'image/image/Saturation.mean/q_75': 0.0, 'image/image/Saturation.mean/q_90': 0.0, 'image/image/Saturation.mean/q_95': 0.0, 'image/image/Saturation.mean/q_99': 0.0, 'image/image/Saturation.stddev/mean': 0.0, 'image/image/Saturation.stddev/stddev': 0.0, 'image/image/Saturation.stddev/n': 1, 'image/image/Saturation.stddev/max': 0.0, 'image/image/Saturation.stddev/min': 0.0, 'image/image/Saturation.stddev/q_01': 0.0, 'image/image/Saturation.stddev/q_05': 0.0, 'image/image/Saturation.stddev/q_10': 0.0, 'image/image/Saturation.stddev/q_25': 0.0, 'image/image/Saturation.stddev/median': 0.0, 'image/image/Saturation.stddev/q_75': 0.0, 'image/image/Saturation.stddev/q_90': 0.0, 'image/image/Saturation.stddev/q_95': 0.0, 'image/image/Saturation.stddev/q_99': 0.0, 'image/image/Brightness.mean/mean': 44.64898681640625, 'image/image/Brightness.mean/stddev': 0.0, 'image/image/Brightness.mean/n': 1, 'image/image/Brightness.mean/max': 44.64898681640625, 'image/image/Brightness.mean/min': 44.64898681640625, 'image/image/Brightness.mean/q_01': 44.64898681640625, 'image/image/Brightness.mean/q_05': 44.64898681640625, 'image/image/Brightness.mean/q_10': 44.64898681640625, 'image/image/Brightness.mean/q_25': 44.64898681640625, 'image/image/Brightness.mean/median': 44.64898681640625, 'image/image/Brightness.mean/q_75': 44.64898681640625, 'image/image/Brightness.mean/q_90': 44.64898681640625, 'image/image/Brightness.mean/q_95': 44.64898681640625, 'image/image/Brightness.mean/q_99': 44.64898681640625, 'image/image/Brightness.stddev/mean': 25.79447615661466, 'image/image/Brightness.stddev/stddev': 0.0, 'image/image/Brightness.stddev/n': 1, 'image/image/Brightness.stddev/max': 25.79447615661466, 'image/image/Brightness.stddev/min': 25.79447615661466, 'image/image/Brightness.stddev/q_01': 25.79447615661466, 'image/image/Brightness.stddev/q_05': 25.79447615661466, 'image/image/Brightness.stddev/q_10': 25.79447615661466, 'image/image/Brightness.stddev/q_25': 25.79447615661466, 'image/image/Brightness.stddev/median': 25.79447615661466, 'image/image/Brightness.stddev/q_75': 25.79447615661466, 'image/image/Brightness.stddev/q_90': 25.79447615661466, 'image/image/Brightness.stddev/q_95': 25.79447615661466, 'image/image/Brightness.stddev/q_99': 25.79447615661466}\n"
          ]
        }
      ],
      "source": [
        "results = log_image({\"red\": img1, \"blue\": img2})\n",
        "print(results.view().get_column(\"blue\").to_summary_dict())"
      ]
    },
    {
      "cell_type": "markdown",
      "metadata": {
        "id": "dmPj0szMSdpy"
      },
      "source": [
        "## Advanced Image Logging\n",
        "\n",
        "The `log_image()` function provides a flexible interface for logging image data. If you want to log images along with other types of data, you can do so by setting up a custom `DatasetSchema` to specify which columns contain images."
      ]
    },
    {
      "cell_type": "code",
      "execution_count": 36,
      "metadata": {
        "id": "6NyXGf30aegh",
        "outputId": "422ffd1a-8731-4d6b-8583-9aac879cf9a4",
        "colab": {
          "base_uri": "https://localhost:8080/"
        }
      },
      "outputs": [
        {
          "output_type": "stream",
          "name": "stdout",
          "text": [
            "{'counts/n': 1, 'counts/null': 0, 'types/integral': 1, 'types/fractional': 0, 'types/boolean': 0, 'types/string': 0, 'types/object': 0, 'distribution/mean': 42.0, 'distribution/stddev': 0.0, 'distribution/n': 1, 'distribution/max': 42.0, 'distribution/min': 42.0, 'distribution/q_01': 42.0, 'distribution/q_05': 42.0, 'distribution/q_10': 42.0, 'distribution/q_25': 42.0, 'distribution/median': 42.0, 'distribution/q_75': 42.0, 'distribution/q_90': 42.0, 'distribution/q_95': 42.0, 'distribution/q_99': 42.0, 'ints/max': 42, 'ints/min': 42, 'cardinality/est': 1.0, 'cardinality/upper_1': 1.000049929250618, 'cardinality/lower_1': 1.0, 'frequent_items/frequent_strings': [FrequentItem(value='42.000000', est=1, upper=1, lower=1)]}\n",
            "{'image/image/ImagePixelWidth/mean': 256.0, 'image/image/ImagePixelWidth/stddev': 0.0, 'image/image/ImagePixelWidth/n': 1, 'image/image/ImagePixelWidth/max': 256.0, 'image/image/ImagePixelWidth/min': 256.0, 'image/image/ImagePixelWidth/q_01': 256.0, 'image/image/ImagePixelWidth/q_05': 256.0, 'image/image/ImagePixelWidth/q_10': 256.0, 'image/image/ImagePixelWidth/q_25': 256.0, 'image/image/ImagePixelWidth/median': 256.0, 'image/image/ImagePixelWidth/q_75': 256.0, 'image/image/ImagePixelWidth/q_90': 256.0, 'image/image/ImagePixelWidth/q_95': 256.0, 'image/image/ImagePixelWidth/q_99': 256.0, 'image/image/ImagePixelHeight/mean': 256.0, 'image/image/ImagePixelHeight/stddev': 0.0, 'image/image/ImagePixelHeight/n': 1, 'image/image/ImagePixelHeight/max': 256.0, 'image/image/ImagePixelHeight/min': 256.0, 'image/image/ImagePixelHeight/q_01': 256.0, 'image/image/ImagePixelHeight/q_05': 256.0, 'image/image/ImagePixelHeight/q_10': 256.0, 'image/image/ImagePixelHeight/q_25': 256.0, 'image/image/ImagePixelHeight/median': 256.0, 'image/image/ImagePixelHeight/q_75': 256.0, 'image/image/ImagePixelHeight/q_90': 256.0, 'image/image/ImagePixelHeight/q_95': 256.0, 'image/image/ImagePixelHeight/q_99': 256.0, 'image/image/Colorspace/frequent_strings': [FrequentItem(value='L', est=1, upper=1, lower=1)], 'image/image/Hue.mean/mean': 0.0, 'image/image/Hue.mean/stddev': 0.0, 'image/image/Hue.mean/n': 1, 'image/image/Hue.mean/max': 0.0, 'image/image/Hue.mean/min': 0.0, 'image/image/Hue.mean/q_01': 0.0, 'image/image/Hue.mean/q_05': 0.0, 'image/image/Hue.mean/q_10': 0.0, 'image/image/Hue.mean/q_25': 0.0, 'image/image/Hue.mean/median': 0.0, 'image/image/Hue.mean/q_75': 0.0, 'image/image/Hue.mean/q_90': 0.0, 'image/image/Hue.mean/q_95': 0.0, 'image/image/Hue.mean/q_99': 0.0, 'image/image/Hue.stddev/mean': 0.0, 'image/image/Hue.stddev/stddev': 0.0, 'image/image/Hue.stddev/n': 1, 'image/image/Hue.stddev/max': 0.0, 'image/image/Hue.stddev/min': 0.0, 'image/image/Hue.stddev/q_01': 0.0, 'image/image/Hue.stddev/q_05': 0.0, 'image/image/Hue.stddev/q_10': 0.0, 'image/image/Hue.stddev/q_25': 0.0, 'image/image/Hue.stddev/median': 0.0, 'image/image/Hue.stddev/q_75': 0.0, 'image/image/Hue.stddev/q_90': 0.0, 'image/image/Hue.stddev/q_95': 0.0, 'image/image/Hue.stddev/q_99': 0.0, 'image/image/Saturation.mean/mean': 0.0, 'image/image/Saturation.mean/stddev': 0.0, 'image/image/Saturation.mean/n': 1, 'image/image/Saturation.mean/max': 0.0, 'image/image/Saturation.mean/min': 0.0, 'image/image/Saturation.mean/q_01': 0.0, 'image/image/Saturation.mean/q_05': 0.0, 'image/image/Saturation.mean/q_10': 0.0, 'image/image/Saturation.mean/q_25': 0.0, 'image/image/Saturation.mean/median': 0.0, 'image/image/Saturation.mean/q_75': 0.0, 'image/image/Saturation.mean/q_90': 0.0, 'image/image/Saturation.mean/q_95': 0.0, 'image/image/Saturation.mean/q_99': 0.0, 'image/image/Saturation.stddev/mean': 0.0, 'image/image/Saturation.stddev/stddev': 0.0, 'image/image/Saturation.stddev/n': 1, 'image/image/Saturation.stddev/max': 0.0, 'image/image/Saturation.stddev/min': 0.0, 'image/image/Saturation.stddev/q_01': 0.0, 'image/image/Saturation.stddev/q_05': 0.0, 'image/image/Saturation.stddev/q_10': 0.0, 'image/image/Saturation.stddev/q_25': 0.0, 'image/image/Saturation.stddev/median': 0.0, 'image/image/Saturation.stddev/q_75': 0.0, 'image/image/Saturation.stddev/q_90': 0.0, 'image/image/Saturation.stddev/q_95': 0.0, 'image/image/Saturation.stddev/q_99': 0.0, 'image/image/Brightness.mean/mean': 91.99722290039062, 'image/image/Brightness.mean/stddev': 0.0, 'image/image/Brightness.mean/n': 1, 'image/image/Brightness.mean/max': 91.99722290039062, 'image/image/Brightness.mean/min': 91.99722290039062, 'image/image/Brightness.mean/q_01': 91.99722290039062, 'image/image/Brightness.mean/q_05': 91.99722290039062, 'image/image/Brightness.mean/q_10': 91.99722290039062, 'image/image/Brightness.mean/q_25': 91.99722290039062, 'image/image/Brightness.mean/median': 91.99722290039062, 'image/image/Brightness.mean/q_75': 91.99722290039062, 'image/image/Brightness.mean/q_90': 91.99722290039062, 'image/image/Brightness.mean/q_95': 91.99722290039062, 'image/image/Brightness.mean/q_99': 91.99722290039062, 'image/image/Brightness.stddev/mean': 41.904298558131785, 'image/image/Brightness.stddev/stddev': 0.0, 'image/image/Brightness.stddev/n': 1, 'image/image/Brightness.stddev/max': 41.904298558131785, 'image/image/Brightness.stddev/min': 41.904298558131785, 'image/image/Brightness.stddev/q_01': 41.904298558131785, 'image/image/Brightness.stddev/q_05': 41.904298558131785, 'image/image/Brightness.stddev/q_10': 41.904298558131785, 'image/image/Brightness.stddev/q_25': 41.904298558131785, 'image/image/Brightness.stddev/median': 41.904298558131785, 'image/image/Brightness.stddev/q_75': 41.904298558131785, 'image/image/Brightness.stddev/q_90': 41.904298558131785, 'image/image/Brightness.stddev/q_95': 41.904298558131785, 'image/image/Brightness.stddev/q_99': 41.904298558131785}\n"
          ]
        }
      ],
      "source": [
        "from typing import Dict\n",
        "\n",
        "import whylogs as why\n",
        "from whylogs.core.datatypes import DataType\n",
        "from whylogs.core.metrics import Metric, MetricConfig\n",
        "from whylogs.core.resolvers import StandardResolver\n",
        "from whylogs.core.schema import DatasetSchema, ColumnSchema\n",
        "from whylogs.extras.image_metric import ImageMetric\n",
        "\n",
        "class ImageResolver(StandardResolver):\n",
        "  def resolve(self, name: str, why_type: DataType, column_schema: ColumnSchema) -> Dict[str, Metric]:\n",
        "    if \"image\" in name:\n",
        "      return {ImageMetric.get_namespace(MetricConfig()): ImageMetric.zero(column_schema.cfg)}\n",
        "    return super(ImageResolver, self).resolve(name, why_type, column_schema)\n",
        "\n",
        "schema = DatasetSchema(resolvers=ImageResolver())\n",
        "\n",
        "results = why.log(row={\"numbers\": 42, \"images\": img1}, schema=schema)\n",
        "print(results.view().get_column(\"numbers\").to_summary_dict())\n",
        "print(results.view().get_column(\"images\").to_summary_dict())"
      ]
    }
  ],
  "metadata": {
    "colab": {
      "collapsed_sections": [],
      "provenance": []
    },
    "kernelspec": {
      "display_name": "Python 3",
      "name": "python3"
    },
    "language_info": {
      "name": "python"
    }
  },
  "nbformat": 4,
  "nbformat_minor": 0
}
