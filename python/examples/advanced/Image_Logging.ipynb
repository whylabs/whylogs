{
  "nbformat": 4,
  "nbformat_minor": 0,
  "metadata": {
    "colab": {
      "provenance": [],
      "collapsed_sections": []
    },
    "kernelspec": {
      "name": "python3",
      "display_name": "Python 3"
    },
    "language_info": {
      "name": "python"
    }
  },
  "cells": [
    {
      "cell_type": "markdown",
      "source": [
        "# Image Logging\n",
        "\n",
        "Whylogs has optional support for logging data about images. This example demonstrates how to use whylogs with image data.\n",
        "\n",
        "## Install whylogs with Image Logging Support\n",
        "\n",
        "Whylogs uses [Pillow](https://python-pillow.org) for working with images. To install whylogs with the optional image support enabled, use the following:\n",
        "\n",
        "\n",
        "\n",
        "\n",
        "\n",
        "\n"
      ],
      "metadata": {
        "id": "5miDsaTTu3Fb"
      }
    },
    {
      "cell_type": "code",
      "source": [
        "# %pip install whylogs[image]"
      ],
      "metadata": {
        "id": "4MNaZsuHxiq2"
      },
      "execution_count": null,
      "outputs": []
    },
    {
      "cell_type": "markdown",
      "source": [
        "This will install all the dependencies whylogs needs to work with image data.\n",
        "\n",
        "## Basic Image Logging\n",
        "\n",
        "The `log_image()` function provides a simple interface for logging images."
      ],
      "metadata": {
        "id": "NsW-ivHNyLjU"
      }
    },
    {
      "cell_type": "code",
      "source": [
        "import os\n",
        "from PIL import Image\n",
        "\n",
        "from whylogs.extras.image_metric import log_image\n",
        "\n",
        "TEST_DATA_PATH = os.path.abspath(\n",
        "    os.path.join(\n",
        "        os.path.realpath(os.path.dirname(__file__)),\n",
        "        os.pardir, os.pardir,\n",
        "        \"testdata\", \"images\"\n",
        "    )\n",
        ")\n",
        "\n",
        "def load_image(file_name: str) -> Image.Image:\n",
        "  with open(os.path.join(TEST_DATA_PATH, file_name), \"rb\") as file_p:\n",
        "    return Image.open(file_p).copy()\n",
        "\n",
        "results = log_image(load_image(\"flowers2.jpg\"))\n",
        "print(results.get_column(\"image\").to_summary_dict())"
      ],
      "metadata": {
        "id": "Laud3_BTGRU1"
      },
      "execution_count": null,
      "outputs": []
    },
    {
      "cell_type": "markdown",
      "source": [
        "As you can see above, just passing in an `Image` results in a \"column\" named in the profile. You can pass in a list of images, which will append an index to each column name:"
      ],
      "metadata": {
        "id": "kd9IqAfXIzX4"
      }
    },
    {
      "cell_type": "code",
      "source": [
        "img = load_image(\"flowers2.jpg\")\n",
        "results = log_image([img, img, img])\n",
        "print(results.get_column(\"image2\").to_summary_dict())"
      ],
      "metadata": {
        "id": "uioACRBVKzxX"
      },
      "execution_count": null,
      "outputs": []
    },
    {
      "cell_type": "markdown",
      "source": [
        "You can change the default name if you like:"
      ],
      "metadata": {
        "id": "B2Niw5rwLBaS"
      }
    },
    {
      "cell_type": "code",
      "source": [
        "results = log_image(img, default_column_prefix=\"awesome_image\")\n",
        "print(results.get_column(\"awesome_image\").to_summary_dict())"
      ],
      "metadata": {
        "id": "MqylDGGLNWl4"
      },
      "execution_count": null,
      "outputs": []
    },
    {
      "cell_type": "markdown",
      "source": [
        "You can also pass a dictionary of images to give each \"column\" a unique name:"
      ],
      "metadata": {
        "id": "bdvbyB10NrAs"
      }
    },
    {
      "cell_type": "code",
      "source": [
        "results = log_image({\"red\": img, \"blue\": img, \"green\": image})\n",
        "print(results.get_column(\"blue\").to_summary_dict())"
      ],
      "metadata": {
        "id": "ogb_0tJLNqY7"
      },
      "execution_count": null,
      "outputs": []
    }
  ]
}
