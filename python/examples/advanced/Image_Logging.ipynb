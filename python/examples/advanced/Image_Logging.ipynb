{
  "cells": [
    {
      "cell_type": "markdown",
      "metadata": {
        "id": "5miDsaTTu3Fb"
      },
      "source": [
        "# Image Logging\n",
        "\n",
        "Whylogs has optional support for logging data about images. This example demonstrates how to use whylogs with image data.\n",
        "\n",
        "## Install whylogs with Image Logging Support\n",
        "\n",
        "Whylogs uses [Pillow](https://python-pillow.org) for working with images. To install whylogs with the optional image support enabled, use the following:\n",
        "\n",
        "\n",
        "\n",
        "\n",
        "\n",
        "\n"
      ]
    },
    {
      "cell_type": "code",
      "execution_count": null,
      "metadata": {
        "id": "4MNaZsuHxiq2",
        "vscode": {
          "languageId": "shellscript"
        }
      },
      "outputs": [],
      "source": [
        "pip install whylogs[image]"
      ]
    },
    {
      "cell_type": "markdown",
      "metadata": {
        "id": "NsW-ivHNyLjU"
      },
      "source": [
        "This will install all the dependencies whylogs needs to work with image data.\n",
        "\n",
        "## Basic Image Logging\n",
        "\n",
        "The `log_image()` function provides a simple interface for logging images."
      ]
    },
    {
      "cell_type": "code",
      "execution_count": null,
      "metadata": {
        "id": "Laud3_BTGRU1"
      },
      "outputs": [],
      "source": [
        "import os\n",
        "from PIL import Image\n",
        "\n",
        "from whylogs.extras.image_metric import log_image\n",
        "\n",
        "img1 = Image.effect_mandelbrot((256, 256), (-3, -2.5, 2, 2.5), 9)\n",
        "img2 = Image.effect_mandelbrot((256, 256), (-3, -2.5, 2, 2.5), 20)\n",
        "\n",
        "results = log_image(img1)\n",
        "print(results.view().get_column(\"image\").to_summary_dict())"
      ]
    },
    {
      "cell_type": "markdown",
      "metadata": {
        "id": "kd9IqAfXIzX4"
      },
      "source": [
        "As you can see above, just passing in an `Image` results in a \"column\" named in the profile. You can pass in a list of images, which will append an index to each column name:"
      ]
    },
    {
      "cell_type": "code",
      "execution_count": null,
      "metadata": {
        "id": "uioACRBVKzxX"
      },
      "outputs": [],
      "source": [
        "results = log_image([img1, img2])\n",
        "print(results.view().get_column(\"image_1\").to_summary_dict())"
      ]
    },
    {
      "cell_type": "markdown",
      "metadata": {
        "id": "B2Niw5rwLBaS"
      },
      "source": [
        "You can change the default name if you like:"
      ]
    },
    {
      "cell_type": "code",
      "execution_count": null,
      "metadata": {
        "id": "MqylDGGLNWl4"
      },
      "outputs": [],
      "source": [
        "results = log_image([img1, img2], default_column_prefix=\"awesome_image\")\n",
        "print(results.view().get_column(\"awesome_image_0\").to_summary_dict())"
      ]
    },
    {
      "cell_type": "markdown",
      "metadata": {
        "id": "bdvbyB10NrAs"
      },
      "source": [
        "You can also pass a dictionary of images to give each \"column\" a unique name:"
      ]
    },
    {
      "cell_type": "code",
      "execution_count": null,
      "metadata": {
        "id": "ogb_0tJLNqY7"
      },
      "outputs": [],
      "source": [
        "results = log_image({\"red\": img1, \"blue\": img2})\n",
        "print(results.view().get_column(\"blue\").to_summary_dict())"
      ]
    },
    {
      "cell_type": "markdown",
      "metadata": {
        "id": "dmPj0szMSdpy"
      },
      "source": [
        "## Advanced Image Logging\n",
        "\n",
        "The `log_image()` function provides a flexible interface for logging image data. If you want to log images along with other types of data, you can do so by setting up a custom `DatasetSchema` to specify which columns contain images."
      ]
    },
    {
      "cell_type": "code",
      "execution_count": null,
      "metadata": {
        "id": "6NyXGf30aegh"
      },
      "outputs": [],
      "source": [
        "import whylogs as why\n",
        "\n",
        "from whylogs.core.metrics import MetricConfig\n",
        "from whylogs.core.resolvers import StandardResolver\n",
        "from whylogs.core.schema import DatasetSchema\n",
        "from whylogs.extras.image_metric import ImageMetric\n",
        "\n",
        "class ImageResolver(StandardResolver):\n",
        "  def resolve(self, name: str, why_type: DataType, column_schema: ColumnSchema) -> Dict[str, Metric]:\n",
        "    if \"image\" in name:\n",
        "      return {ImageMetric.get_namespace(MetricConfig()): ImageMetric.zero(column_schema.cfg)}\n",
        "    return super(ImageResolver, self).resolve(name, column_schema)\n",
        "\n",
        "schema = DatasetSchema(resolvers=ImageResolvler())\n",
        "\n",
        "results = why.log(row={\"numbers\": 42, \"images\": img1}, schema=schema)\n",
        "print(results.to_summary_dict())"
      ]
    }
  ],
  "metadata": {
    "colab": {
      "collapsed_sections": [],
      "provenance": []
    },
    "kernelspec": {
      "display_name": "Python 3",
      "name": "python3"
    },
    "language_info": {
      "name": "python"
    }
  },
  "nbformat": 4,
  "nbformat_minor": 0
}
