{
 "cells": [
  {
   "cell_type": "markdown",
   "metadata": {},
   "source": [
    ">### 🚩 *Create a free WhyLabs account to get more value out of whylogs!*<br> \n",
    ">*Did you know you can store, visualize, and monitor whylogs profiles with the [WhyLabs Observability Platform](https://whylabs.ai/whylogs-free-signup?utm_source=whylogs-Github&utm_medium=whylogs-example&utm_campaign=Condition_Validators)? Sign up for a [free WhyLabs account](https://whylabs.ai/whylogs-free-signup?utm_source=whylogs-Github&utm_medium=whylogs-example&utm_campaign=Condition_Validators) to leverage the power of whylogs and WhyLabs together!*"
   ]
  },
  {
   "cell_type": "markdown",
   "metadata": {},
   "source": [
    "# Real-time Data Validation with Condition Validators"
   ]
  },
  {
   "cell_type": "markdown",
   "metadata": {},
   "source": [
    "[![Open in Colab](https://colab.research.google.com/assets/colab-badge.svg)](https://colab.research.google.com/github/whylabs/whylogs/blob/mainline/python/examples/advanced/Condition_Validators.ipynb)"
   ]
  },
  {
   "cell_type": "markdown",
   "metadata": {},
   "source": [
    "With __Condition Validators__, the user is able to evaluate conditions on individual values on real-time scenarios. These checks are done while data is being logged, and can trigger one or multiple actions when these conditions fail to be met. With __Condition Validators__, you are able to define actions where an immediate response is required, such as emiting an alert to key stakeholders, logging specific failures or throwing exceptions. Validators are designed with flexibility in mind, so you are free to customize your actions as well as the conditions that trigger those actions.\n",
    "\n",
    "In this example, we will cover how to:\n",
    "\n",
    "- Define conditions for data validations\n",
    "- Define actions to be triggered when conditions fail\n",
    "- Assemble a Condition Validator with defined conditions and actions\n",
    "- Bind validators to Columns\n",
    "- Apply validators to your data\n",
    "\n",
    "Showing the different types of conditions is NOT the focus of this example. If you wish to see the different types of conditions you can define, please refer to [Condition Count Metrics](https://whylogs.readthedocs.io/en/stable/examples/advanced/Condition_Count_Metrics.html).\n",
    "\n",
    "Unlike metrics, validators will not log properties into profiles. They are meant only to evaluate conditions and trigger actions while logging is under way.\n",
    "\n"
   ]
  },
  {
   "cell_type": "markdown",
   "metadata": {},
   "source": [
    "## Use-case: Validating email and credit card columns"
   ]
  },
  {
   "cell_type": "markdown",
   "metadata": {},
   "source": [
    "In this simple scenario, we want to make sure two things happen:\n",
    "\n",
    "- Single emails in the `emails` column (nothing else)\n",
    "- No credit cards information in the `transcriptions` column\n"
   ]
  },
  {
   "cell_type": "markdown",
   "metadata": {},
   "source": [
    "We'll use the following sample dataframe to evaluate on:"
   ]
  },
  {
   "cell_type": "code",
   "execution_count": 1,
   "metadata": {},
   "outputs": [],
   "source": [
    "import pandas as pd\n",
    "\n",
    "text_data = {\n",
    "    \"emails\": [\n",
    "        \"my email is my_email_1989@gmail.com\",\n",
    "        \"invalidEmail@xyz.toolong\",\n",
    "        \"this.is.ok@hotmail.com\",\n",
    "        \"not an email\",\n",
    "    ],\n",
    "    \"transcriptions\": [\n",
    "        \"Bob's credit card number is 4000000000000\",\n",
    "        \"Alice's credit card is XXXXXXXXXXXXX\",\n",
    "        \"Hi, my name is Bob\",\n",
    "        \"Hi, I'm Alice\",\n",
    "    ],\n",
    "}\n",
    "\n",
    "df = pd.DataFrame(data=text_data)\n"
   ]
  },
  {
   "cell_type": "markdown",
   "metadata": {},
   "source": [
    "## Defining the Conditions"
   ]
  },
  {
   "cell_type": "markdown",
   "metadata": {},
   "source": [
    "Let's translate the mentioned conditions into regex expressions:\n",
    "- A negation of a credit card pattern matching (\"No Credit Cards\")\n",
    "- A Full Match for an email pattern matching:"
   ]
  },
  {
   "cell_type": "markdown",
   "metadata": {},
   "source": [
    "> Our conditions are usually expected to evaluate to `True`. When something goes wrong, the condition should evaluate to `False`, triggering a certain action in the process. This is why we negate the first condition (because matching the pattern is bad) and do a match for the second one (because not finding an email is bad)"
   ]
  },
  {
   "cell_type": "code",
   "execution_count": 2,
   "metadata": {},
   "outputs": [],
   "source": [
    "from whylogs.core.metrics.condition_count_metric import Condition\n",
    "from whylogs.core.metrics.condition_count_metric import Relation as Rel\n",
    "from whylogs.core.metrics.condition_count_metric import relation as rel\n",
    "from whylogs.core.metrics.condition_count_metric import not_relation as not_rel\n",
    "\n",
    "\n",
    "credit_card_conditions = {\"noCreditCard\": Condition(not_rel(rel(Rel.match, \".*4[0-9]{12}(?:[0-9]{3})?\")))}\n",
    "\n",
    "email_conditions = {\"hasEmail\": Condition(rel(Rel.fullmatch, \"[\\w.]+[\\._]?[a-z0-9]+[@]\\w+[.]\\w{2,3}\"))}"
   ]
  },
  {
   "cell_type": "markdown",
   "metadata": {},
   "source": [
    "> Note: The regex expressions are for demonstrational purposes only. These expressions are not general - there will be emails and credit cards whose patterns will not be met by the expression."
   ]
  },
  {
   "cell_type": "markdown",
   "metadata": {},
   "source": [
    "## Defining the actions"
   ]
  },
  {
   "cell_type": "markdown",
   "metadata": {},
   "source": [
    "The action to be triggered when a contidion fails is created by simply defining a regular function.\n",
    "\n",
    "We should just remember to define the arguments: `validator_name`, `condition_name` and `value`. You can use these values to help with logging and debugging the failures."
   ]
  },
  {
   "cell_type": "code",
   "execution_count": 3,
   "metadata": {},
   "outputs": [],
   "source": [
    "from typing import Any\n",
    "\n",
    "def do_something_important(validator_name, condition_name: str, value: Any):\n",
    "    print(\"Validator: {}\\n    Condition name {} failed for value {}\".format(validator_name, condition_name, value))\n",
    "    return\n"
   ]
  },
  {
   "cell_type": "markdown",
   "metadata": {},
   "source": [
    "## Creating the Validators"
   ]
  },
  {
   "cell_type": "markdown",
   "metadata": {},
   "source": [
    "To create a Condition Validator, we need a name, a set of conditions, and a list of actions.\n",
    "\n",
    "Let's make a Validator for the credit card column and another Validator for the email column. Each validator has a single condition to be evaluated, and also a single action.\n"
   ]
  },
  {
   "cell_type": "markdown",
   "metadata": {},
   "source": [
    "> Note that for a single validator, we could have multiple conditions defined and also multiple actions to be triggered."
   ]
  },
  {
   "cell_type": "code",
   "execution_count": 4,
   "metadata": {},
   "outputs": [],
   "source": [
    "from whylogs.core.validators import ConditionValidator\n",
    "\n",
    "\n",
    "credit_card_validator = ConditionValidator(\n",
    "    name=\"no_credit_cards\",\n",
    "    conditions=credit_card_conditions,\n",
    "    actions=[do_something_important],\n",
    ")\n",
    "\n",
    "email_validator = ConditionValidator(\n",
    "    name=\"has_emails\",\n",
    "    conditions=email_conditions,\n",
    "    actions=[do_something_important],\n",
    ")\n"
   ]
  },
  {
   "cell_type": "markdown",
   "metadata": {},
   "source": [
    "## Bind the Validators to specific Columns"
   ]
  },
  {
   "cell_type": "markdown",
   "metadata": {},
   "source": [
    "Each validator instance should be mapped to a single column, but each column can have multiple validators attached to it.\n",
    "\n",
    "Assigning an instance to multiple columns will lead to an undefined behavior.\n",
    "\n",
    "In our case, we have only one validator for each of the columns:"
   ]
  },
  {
   "cell_type": "code",
   "execution_count": 5,
   "metadata": {},
   "outputs": [],
   "source": [
    "validators = {\n",
    "    \"emails\": [email_validator],\n",
    "    \"transcriptions\": [credit_card_validator]}"
   ]
  },
  {
   "cell_type": "markdown",
   "metadata": {},
   "source": [
    "## Apply Validators to Data"
   ]
  },
  {
   "cell_type": "markdown",
   "metadata": {},
   "source": [
    "Now, we only need to pass our set of validators to our DatasetSchema.\n",
    "\n",
    "This will make the validators to be applied while data is being logged. The actions will be triggered immediately when the conditions fail, and not only when the logging is done."
   ]
  },
  {
   "cell_type": "code",
   "execution_count": 6,
   "metadata": {},
   "outputs": [
    {
     "name": "stdout",
     "output_type": "stream",
     "text": [
      "Validator: has_emails\n",
      "    Condition name hasEmail failed for value my email is my_email_1989@gmail.com\n",
      "Validator: has_emails\n",
      "    Condition name hasEmail failed for value invalidEmail@xyz.toolong\n",
      "Validator: has_emails\n",
      "    Condition name hasEmail failed for value not an email\n",
      "Validator: no_credit_cards\n",
      "    Condition name noCreditCard failed for value Bob's credit card number is 4000000000000\n"
     ]
    }
   ],
   "source": [
    "from whylogs.core.schema import DatasetSchema\n",
    "import whylogs as why\n",
    "\n",
    "schema = DatasetSchema(validators=validators)\n",
    "profile = why.log(df, schema=schema).profile()"
   ]
  },
  {
   "cell_type": "markdown",
   "metadata": {},
   "source": [
    "We can see in the results above that our `has_emails` validator failed three times. The first time, the value has extra text, the second has an invalid email address and the third does not contain an email.\n",
    "\n",
    "The `no_credit_cards` validator failed once, because the pattern was found once."
   ]
  },
  {
   "cell_type": "markdown",
   "metadata": {},
   "source": [
    "We can also access a simple summary with the total number of evaluations, the number of total failures and the number of failures per condition present in the validator:"
   ]
  },
  {
   "cell_type": "code",
   "execution_count": 7,
   "metadata": {},
   "outputs": [
    {
     "data": {
      "text/plain": [
       "{'total_evaluations': 4, 'hasEmail': 3}"
      ]
     },
     "execution_count": 7,
     "metadata": {},
     "output_type": "execute_result"
    }
   ],
   "source": [
    "email_validator.to_summary_dict()"
   ]
  },
  {
   "cell_type": "code",
   "execution_count": 8,
   "metadata": {},
   "outputs": [
    {
     "data": {
      "text/plain": [
       "{'total_evaluations': 4, 'noCreditCard': 1}"
      ]
     },
     "execution_count": 8,
     "metadata": {},
     "output_type": "execute_result"
    }
   ],
   "source": [
    "credit_card_validator.to_summary_dict()"
   ]
  }
 ],
 "metadata": {
  "kernelspec": {
   "display_name": "Python 3.9.5 ('base')",
   "language": "python",
   "name": "python3"
  },
  "language_info": {
   "codemirror_mode": {
    "name": "ipython",
    "version": 3
   },
   "file_extension": ".py",
   "mimetype": "text/x-python",
   "name": "python",
   "nbconvert_exporter": "python",
   "pygments_lexer": "ipython3",
   "version": "3.9.5"
  },
  "orig_nbformat": 4,
  "vscode": {
   "interpreter": {
    "hash": "8148c804a5838694570acf40aa3269caeebb6c584d51452dd558e946dfc16d39"
   }
  }
 },
 "nbformat": 4,
 "nbformat_minor": 2
}
