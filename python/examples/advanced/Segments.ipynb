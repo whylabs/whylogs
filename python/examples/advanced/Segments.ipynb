{
 "cells": [
  {
   "cell_type": "markdown",
   "metadata": {},
   "source": [
    "## Segments"
   ]
  },
  {
   "cell_type": "markdown",
   "metadata": {},
   "source": [
    "[![Open in Colab](https://colab.research.google.com/assets/colab-badge.svg)](https://colab.research.google.com/github/whylabs/whylogs/blob/mainline/python/examples/advanced/Segments.ipynb)"
   ]
  },
  {
   "cell_type": "code",
   "execution_count": 1,
   "metadata": {},
   "outputs": [],
   "source": [
    "import os\n",
    "ANALYTICS_OPT_OUT = \"WHYLOGS_NO_ANALYTICS\"\n",
    "os.environ['ANALYTICS_OPT_OUT']= \"1\""
   ]
  },
  {
   "cell_type": "code",
   "execution_count": null,
   "metadata": {},
   "outputs": [],
   "source": [
    "# %pip install whylogs[whylabs]"
   ]
  },
  {
   "cell_type": "code",
   "execution_count": 1,
   "metadata": {},
   "outputs": [],
   "source": [
    "import numpy as np\n",
    "import pandas as pd\n",
    "\n",
    "import whylogs as why\n",
    "from whylogs.api.logger.result_set import SegmentedResultSet\n",
    "from whylogs.core.metrics.metrics import CardinalityMetric, DistributionMetric\n",
    "from whylogs.core.schema import DatasetSchema\n",
    "from whylogs.core.segment import Segment\n",
    "from whylogs.core.segmentation_partition import (\n",
    "    ColumnMapperFunction,\n",
    "    SegmentationPartition,\n",
    "    SegmentFilter,\n",
    "    segment_on_column,\n",
    ")"
   ]
  },
  {
   "cell_type": "code",
   "execution_count": 4,
   "metadata": {},
   "outputs": [
    {
     "name": "stdout",
     "output_type": "stream",
     "text": [
      "             col1          col2\n",
      "count  100.000000    100.000000\n",
      "mean    49.500000   3611.850000\n",
      "std     29.011492   3264.992284\n",
      "min      0.000000      0.000000\n",
      "25%     24.750000    674.025000\n",
      "50%     49.500000   2695.550000\n",
      "75%     74.250000   6064.575000\n",
      "max     99.000000  10781.100000\n",
      "After profiling the result set has: 5 segments\n"
     ]
    }
   ],
   "source": [
    "input_rows = 100\n",
    "segment_column = \"col3\"\n",
    "number_of_segments = 5\n",
    "d = {\n",
    "    \"col1\": [i for i in range(input_rows)],\n",
    "    \"col2\": [i * i * 1.1 for i in range(input_rows)],\n",
    "    segment_column: [f\"x{str(i%number_of_segments)}\" for i in range(input_rows)],\n",
    "}\n",
    "\n",
    "df = pd.DataFrame(data=d)\n",
    "print(df.describe())\n",
    "segmentation_partition = segment_on_column(\"col3\")\n",
    "segmentation_partition.filter = SegmentFilter(filter_function=lambda df: df.col1 > 49)\n",
    "test_segments = {segmentation_partition.name: segmentation_partition}\n",
    "results: SegmentedResultSet = why.log(df, schema=DatasetSchema(segments=test_segments))\n",
    "assert results.count == number_of_segments\n",
    "print(f\"After profiling the result set has: {results.count} segments\")\n",
    "partitions = results.partitions\n",
    "assert len(partitions) == 1\n",
    "partition = partitions[0]\n",
    "segments = results.segments_in_partition(partition)\n",
    "assert len(segments) == number_of_segments\n",
    "\n",
    "first_segment: Segment = next(iter(segments))\n",
    "first_segment_profile = results.profile(first_segment)\n",
    "assert first_segment.key == (\"x0\",)\n",
    "assert first_segment_profile is not None\n",
    "assert first_segment_profile._columns[\"col1\"]._schema.dtype == np.int64\n",
    "assert first_segment_profile._columns[\"col2\"]._schema.dtype == np.float64\n",
    "assert first_segment_profile._columns[\"col3\"]._schema.dtype.name == \"object\"\n",
    "segment_distribution: DistributionMetric = (\n",
    "    first_segment_profile.view().get_column(\"col1\").get_metric(\"distribution\")\n",
    ")\n",
    "count = segment_distribution.n\n",
    "assert count is not None\n",
    "assert count == 10"
   ]
  }
 ],
 "metadata": {
  "kernelspec": {
   "display_name": "Python 3.8.10 ('.venv': poetry)",
   "language": "python",
   "name": "python3"
  },
  "language_info": {
   "codemirror_mode": {
    "name": "ipython",
    "version": 3
   },
   "file_extension": ".py",
   "mimetype": "text/x-python",
   "name": "python",
   "nbconvert_exporter": "python",
   "pygments_lexer": "ipython3",
   "version": "3.8.10"
  },
  "orig_nbformat": 4,
  "vscode": {
   "interpreter": {
    "hash": "d39f874c9b8a97550ecbd783714b95e79c9b905449b34f44c40e3bf053b54b41"
   }
  }
 },
 "nbformat": 4,
 "nbformat_minor": 2
}
