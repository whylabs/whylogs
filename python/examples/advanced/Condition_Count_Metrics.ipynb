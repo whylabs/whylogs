{
  "cells": [
    {
      "cell_type": "markdown",
      "metadata": {
        "id": "XcM_iA58LESk"
      },
      "source": [
        ">### 🚩 *Create a free WhyLabs account to get more value out of whylogs!*<br> \n",
        ">*Did you know you can store, visualize, and monitor whylogs profiles with the [WhyLabs Observability Platform](https://whylabs.ai/whylogs-free-signup?utm_source=whylogs-Github&utm_medium=whylogs-example&utm_campaign=Condition_Count_Metrics)? Sign up for a [free WhyLabs account](https://whylabs.ai/whylogs-free-signup?utm_source=whylogs-Github&utm_medium=whylogs-example&utm_campaign=Condition_Count_Metrics) to leverage the power of whylogs and WhyLabs together!*"
      ]
    },
    {
      "cell_type": "markdown",
      "metadata": {
        "id": "-1c1qLf2LESo"
      },
      "source": [
        "# Condition Count Metrics"
      ]
    },
    {
      "cell_type": "markdown",
      "metadata": {
        "id": "GQtQSWaeLESp"
      },
      "source": [
        "[![Open in Colab](https://colab.research.google.com/assets/colab-badge.svg)](https://colab.research.google.com/github/whylabs/whylogs/blob/mainline/python/examples/advanced/Condition_Count_Metrics.ipynb)"
      ]
    },
    {
      "cell_type": "markdown",
      "metadata": {
        "id": "Ud4uQbvZLESp"
      },
      "source": [
        "By default, whylogs tracks several metrics, such as type counts, distribution metrics, cardinality and frequent items. Those are general metrics that are useful for a lot of use cases, but often we need metrics tailored for our application.\n",
        "\n",
        "__Condition Count Metrics__ gives you the flexibility to define your own customized metrics. It will return the results as counters, which is the number of times the condition was met for a given column. With it, you can define conditions such as regex matching for strings, equalities or inequalities for numerical features, and even define your own function to check for any given condition.\n",
        "\n",
        "In this example, we will cover:\n",
        "\n",
        "1. Create metrics for __regex matching__\n",
        "    - Examples: contains email/credit card number (String features)\n",
        "2. Create metrics for __(in)equalities__\n",
        "    - Examples: equal, less, greater, less than, greater than (Numerical features)\n",
        "3. Combining metrics with __logic operators__ (and, or, not)\n",
        "    - Examples: Between range, outside of range, not equal (Numerical features)\n",
        "4. Creating metrics with __custom functions__\n",
        "    - Examples: is even number, is text preprocessed (Any type)\n",
        "5. Going Further: Combining this example with other whylogs' features\n",
        "6. (APPENDIX) Complete code snippets - The complete code snippets (to make it easir to copy and paste)"
      ]
    },
    {
      "cell_type": "markdown",
      "metadata": {
        "id": "OXyozsmBLESq"
      },
      "source": [
        "## Installing whylogs and importing modules"
      ]
    },
    {
      "cell_type": "markdown",
      "metadata": {
        "id": "uGg7aTA_LESq"
      },
      "source": [
        "Uncomment the cell below if you don't have whylogs installed yet:"
      ]
    },
    {
      "cell_type": "code",
      "execution_count": null,
      "metadata": {
        "id": "XM5l89DYLESr"
      },
      "outputs": [],
      "source": [
        "%pip install whylogs"
      ]
    },
    {
      "cell_type": "markdown",
      "metadata": {
        "id": "GQ8_k2otLESs"
      },
      "source": [
        "Let's import all the dependencies for this example upfront:"
      ]
    },
    {
      "cell_type": "code",
      "execution_count": null,
      "metadata": {
        "id": "cUNUFdCNLESt"
      },
      "outputs": [],
      "source": [
        "import pandas as pd\n",
        "\n",
        "import re\n",
        "from typing import Any, Dict\n",
        "\n",
        "import whylogs as why\n",
        "\n",
        "from whylogs.core.resolvers import Resolver\n",
        "from whylogs.core.schema import ColumnSchema, DatasetSchema\n",
        "from whylogs.core.datatypes import DataType\n",
        "\n",
        "from whylogs.core.metrics import Metric\n",
        "from whylogs.core.metrics.condition_count_metric import (\n",
        "    Condition,\n",
        "    ConditionCountConfig,\n",
        "    ConditionCountMetric,\n",
        ")\n",
        "from whylogs.core.relations import Not, Predicate\n",
        "\n",
        "X = Predicate()"
      ]
    },
    {
      "cell_type": "markdown",
      "metadata": {
        "id": "eg_avmJcLESt"
      },
      "source": [
        "## 1. Regex Matching"
      ]
    },
    {
      "cell_type": "markdown",
      "metadata": {
        "id": "-w4mqELyLESu"
      },
      "source": [
        "Suppose we have textual columns in our data in which we want to make sure certain elements are present / not present.\n",
        "\n",
        "For example, for privacy and security issues, we might be interested in tracking the number of times a credit card number appears on a given column, or if we have sensitive email information in another column.\n",
        "\n",
        "With whylogs, we can define metrics that will count the number of occurences a certain regex pattern is met for a given column."
      ]
    },
    {
      "cell_type": "markdown",
      "metadata": {
        "id": "mvsHXXpoLESu"
      },
      "source": [
        "### Creating sample dataframe"
      ]
    },
    {
      "cell_type": "markdown",
      "metadata": {
        "id": "qFtzgMZkLESu"
      },
      "source": [
        "Let's create a simple dataframe.\n",
        "\n",
        "In this scenario, the `emails` column should have only a valid email, nothing else. As for the `trascriptions` column, we want to make sure existing credit card number was properly masked or removed."
      ]
    },
    {
      "cell_type": "code",
      "execution_count": null,
      "metadata": {
        "id": "w-bdwXUzLESv"
      },
      "outputs": [],
      "source": [
        "data = {\n",
        "    \"emails\": [\"my email is my_email_1989@gmail.com\",\"invalidEmail@xyz.toolong\",\"this.is.ok@hotmail.com\",\"not an email\"],\n",
        "    \"transcriptions\": [\"Bob's credit card number is 4000000000000\", \"Alice's credit card is XXXXXXXXXXXXX\", \"Hi, my name is Bob\", \"Hi, I'm Alice\"],\n",
        "}\n",
        "df = pd.DataFrame(data=data)"
      ]
    },
    {
      "cell_type": "markdown",
      "metadata": {
        "id": "XXv0B8KELESv"
      },
      "source": [
        "whylogs use `Resolvers` in order to define how a column name or data type gets mapped to different metrics.\n",
        "\n",
        "To define our regex-matching constraints, we will create a CustomResolver. In this example, we want only ConditionCountMetrics to be mapped for every column:\n"
      ]
    },
    {
      "cell_type": "code",
      "execution_count": null,
      "metadata": {
        "id": "dB0eBtOHLESw"
      },
      "outputs": [],
      "source": [
        "class CustomResolver(Resolver):\n",
        "    def resolve(self, name: str, why_type: DataType, column_schema: ColumnSchema) -> Dict[str, Metric]:\n",
        "        return {\"condition_count\": ConditionCountMetric.zero(column_schema.cfg)}"
      ]
    },
    {
      "cell_type": "markdown",
      "metadata": {
        "id": "cQ0BHCubLESw"
      },
      "source": [
        "We now have to define the conditions themselves:"
      ]
    },
    {
      "cell_type": "code",
      "execution_count": null,
      "metadata": {
        "id": "uKeefoVbLESx"
      },
      "outputs": [],
      "source": [
        "conditions = {\n",
        "    \"containsEmail\": Condition(X.fullmatch(\"[\\w.]+[\\._]?[a-z0-9]+[@]\\w+[.]\\w{2,3}\")),\n",
        "    \"containsCreditCard\": Condition(X.matches(\".*4[0-9]{12}(?:[0-9]{3})?\"))\n",
        "}"
      ]
    },
    {
      "cell_type": "markdown",
      "metadata": {
        "id": "5HdjR8UpLESx"
      },
      "source": [
        "> Note: The regex expressions are for demonstrational purposes only. These expressions are not general - there will be emails and credit cards whose patterns will not be met by the expression."
      ]
    },
    {
      "cell_type": "markdown",
      "metadata": {
        "id": "UyNqvzPsLESx"
      },
      "source": [
        "In order to define the schema used to track metrics in whylogs, we use a `DatasetSchema`.\n",
        "\n",
        "In a `DatasetSchema`, we have information such as the resolver used and extra configurations needed.\n",
        "\n",
        "We'll pass our custom resolver as our schema's resolver and also pass the conditions we created as part of our schema's configuration, like this:"
      ]
    },
    {
      "cell_type": "code",
      "execution_count": null,
      "metadata": {
        "id": "H2Skl3PkLESy"
      },
      "outputs": [],
      "source": [
        "config = ConditionCountConfig(conditions=conditions)\n",
        "resolver = CustomResolver()\n",
        "schema = DatasetSchema(default_configs=config, resolvers=resolver)"
      ]
    },
    {
      "cell_type": "markdown",
      "metadata": {
        "id": "2if1p-bELESy"
      },
      "source": [
        "Now, we only need to pass our schema when logging our data. Let's also take a look at the metrics, to make sure everythins was tracked correctly:"
      ]
    },
    {
      "cell_type": "code",
      "execution_count": null,
      "metadata": {
        "id": "Pf4x-8aBLESy"
      },
      "outputs": [],
      "source": [
        "prof_view = why.log(df, schema=schema).profile().view()\n",
        "prof_view.to_pandas()"
      ]
    },
    {
      "cell_type": "markdown",
      "metadata": {
        "id": "WYf6nZazLES0"
      },
      "source": [
        "Let's check the numbers:\n",
        "\n",
        "For `emails` feature, only one occurence was met for `containsEmail`. That is expected, because the only valid row is the third one (\"this.is.ok@hotmail.com\"). Others either don't contain an email, are invalid emails or have extra text that are not an email (note we're using `fullmatch` as the predicate for the email condition).\n",
        "\n",
        "For `transcriptions` column, we also have only one match. That is well, since only the first row has a match with the given pattern, and others either don't have a credit card number or are properly \"hidden\". Note that in this case we want to check for the pattern inside a broader text, so we're using `.*` before the pattern, so the text doesn't have to start with the pattern (whylogs' `Predicate.matches` uses python's `re.compile().match()` under the hood.)\n",
        "\n",
        "The available relations for regex matching are the ones used in this example:\n",
        "\n",
        "- `matches`\n",
        "- `fullmatch`"
      ]
    },
    {
      "cell_type": "markdown",
      "metadata": {
        "id": "zAxreFQ1LES0"
      },
      "source": [
        "## 2. Numerical Equalities and Inequalities"
      ]
    },
    {
      "cell_type": "markdown",
      "metadata": {
        "id": "JD_dyTLCLES0"
      },
      "source": [
        "For this one, let's create integer and floats columns:"
      ]
    },
    {
      "cell_type": "code",
      "execution_count": null,
      "metadata": {
        "id": "ukQNWndTLES1"
      },
      "outputs": [],
      "source": [
        "data = {\n",
        "    \"ints\": [1,12,42,4],\n",
        "    \"floats\": [1.2, 12.3, 42.2, 4.8]\n",
        "\n",
        "}\n",
        "df = pd.DataFrame(data=data)"
      ]
    },
    {
      "cell_type": "markdown",
      "metadata": {
        "id": "fmfszjBPLES1"
      },
      "source": [
        "As before, we want to create a `CustomResolver`, set our conditions and pass both to a `DatasetSchema`:"
      ]
    },
    {
      "cell_type": "code",
      "execution_count": null,
      "metadata": {
        "id": "WXqqGzEsLES1"
      },
      "outputs": [],
      "source": [
        "class CustomResolver(Resolver):\n",
        "    def resolve(self, name: str, why_type: DataType, column_schema: ColumnSchema) -> Dict[str, Metric]:\n",
        "        return {\"condition_count\": ConditionCountMetric.zero(column_schema.cfg)}\n",
        "\n",
        "conditions = {\n",
        "    \"equals42\": Condition(X.equals(42)),\n",
        "    \"equals42.2\": Condition(X.equals(42.2)),\n",
        "    \"lessthan5\": Condition(X.less_than(5)),\n",
        "    \"morethan40\": Condition(X.greater_than(40)),\n",
        "}\n",
        "\n",
        "config = ConditionCountConfig(conditions=conditions)\n",
        "resolver = CustomResolver()\n",
        "schema = DatasetSchema(default_configs=config, resolvers=resolver)\n",
        "\n"
      ]
    },
    {
      "cell_type": "markdown",
      "metadata": {
        "id": "S_pLqQg3LES2"
      },
      "source": [
        "Let's log and check the metrics:"
      ]
    },
    {
      "cell_type": "code",
      "execution_count": null,
      "metadata": {
        "id": "dcyX0FtwLES2"
      },
      "outputs": [],
      "source": [
        "prof_view = why.log(df, schema=schema).profile().view()\n",
        "prof_view.to_pandas()"
      ]
    },
    {
      "cell_type": "markdown",
      "metadata": {
        "id": "5aaL0ugwLES3"
      },
      "source": [
        "We can simply check the original data to verify that the metrics are correct.\n",
        "We used `equals`, `less_than` and `greater_than` in this example, but here's the complete list of available relations:\n",
        "\n",
        "- `equals` - equal to\n",
        "- `less_than` - less than\n",
        "- `less_or_equals` - less than or equal to\n",
        "- `greater_than` - greater than\n",
        "- `greater_or_equals` - greater than or equal to\n",
        "- `not_equal` - not equal to\n"
      ]
    },
    {
      "cell_type": "markdown",
      "metadata": {
        "id": "Ae6SrQMWLES3"
      },
      "source": [
        "## 3. Combining metrics with logical operators - AND, OR, NOT"
      ]
    },
    {
      "cell_type": "markdown",
      "metadata": {
        "id": "lOuLn__uLES4"
      },
      "source": [
        "You can also combine relations with logical operators such as __AND__, __OR__ and __NOT__.\n",
        "\n",
        "Let's stick with the numerical features to show how you can combine relations to assemble conditions such as:\n",
        "\n",
        "- Value is between a certain range\n",
        "- Value is outside a certin range\n",
        "- Value is NOT a certain number"
      ]
    },
    {
      "cell_type": "code",
      "execution_count": null,
      "metadata": {
        "colab": {
          "base_uri": "https://localhost:8080/",
          "height": 208
        },
        "id": "PV3ZG1MsLES5",
        "outputId": "9cfd388d-875d-45d0-fc49-b64b00fa18e0"
      },
      "outputs": [
        {
          "output_type": "execute_result",
          "data": {
            "text/plain": [
              "        condition_count/between10and50  condition_count/not_42  \\\n",
              "column                                                           \n",
              "floats                               2                       4   \n",
              "ints                                 2                       3   \n",
              "\n",
              "        condition_count/outside10and50  condition_count/total  \\\n",
              "column                                                          \n",
              "floats                               2                      4   \n",
              "ints                                 2                      4   \n",
              "\n",
              "                      type  \n",
              "column                      \n",
              "floats  SummaryType.COLUMN  \n",
              "ints    SummaryType.COLUMN  "
            ],
            "text/html": [
              "\n",
              "  <div id=\"df-e9b14aa9-2dcb-420c-ada4-a9d10e954ac3\">\n",
              "    <div class=\"colab-df-container\">\n",
              "      <div>\n",
              "<style scoped>\n",
              "    .dataframe tbody tr th:only-of-type {\n",
              "        vertical-align: middle;\n",
              "    }\n",
              "\n",
              "    .dataframe tbody tr th {\n",
              "        vertical-align: top;\n",
              "    }\n",
              "\n",
              "    .dataframe thead th {\n",
              "        text-align: right;\n",
              "    }\n",
              "</style>\n",
              "<table border=\"1\" class=\"dataframe\">\n",
              "  <thead>\n",
              "    <tr style=\"text-align: right;\">\n",
              "      <th></th>\n",
              "      <th>condition_count/between10and50</th>\n",
              "      <th>condition_count/not_42</th>\n",
              "      <th>condition_count/outside10and50</th>\n",
              "      <th>condition_count/total</th>\n",
              "      <th>type</th>\n",
              "    </tr>\n",
              "    <tr>\n",
              "      <th>column</th>\n",
              "      <th></th>\n",
              "      <th></th>\n",
              "      <th></th>\n",
              "      <th></th>\n",
              "      <th></th>\n",
              "    </tr>\n",
              "  </thead>\n",
              "  <tbody>\n",
              "    <tr>\n",
              "      <th>floats</th>\n",
              "      <td>2</td>\n",
              "      <td>4</td>\n",
              "      <td>2</td>\n",
              "      <td>4</td>\n",
              "      <td>SummaryType.COLUMN</td>\n",
              "    </tr>\n",
              "    <tr>\n",
              "      <th>ints</th>\n",
              "      <td>2</td>\n",
              "      <td>3</td>\n",
              "      <td>2</td>\n",
              "      <td>4</td>\n",
              "      <td>SummaryType.COLUMN</td>\n",
              "    </tr>\n",
              "  </tbody>\n",
              "</table>\n",
              "</div>\n",
              "      <button class=\"colab-df-convert\" onclick=\"convertToInteractive('df-e9b14aa9-2dcb-420c-ada4-a9d10e954ac3')\"\n",
              "              title=\"Convert this dataframe to an interactive table.\"\n",
              "              style=\"display:none;\">\n",
              "        \n",
              "  <svg xmlns=\"http://www.w3.org/2000/svg\" height=\"24px\"viewBox=\"0 0 24 24\"\n",
              "       width=\"24px\">\n",
              "    <path d=\"M0 0h24v24H0V0z\" fill=\"none\"/>\n",
              "    <path d=\"M18.56 5.44l.94 2.06.94-2.06 2.06-.94-2.06-.94-.94-2.06-.94 2.06-2.06.94zm-11 1L8.5 8.5l.94-2.06 2.06-.94-2.06-.94L8.5 2.5l-.94 2.06-2.06.94zm10 10l.94 2.06.94-2.06 2.06-.94-2.06-.94-.94-2.06-.94 2.06-2.06.94z\"/><path d=\"M17.41 7.96l-1.37-1.37c-.4-.4-.92-.59-1.43-.59-.52 0-1.04.2-1.43.59L10.3 9.45l-7.72 7.72c-.78.78-.78 2.05 0 2.83L4 21.41c.39.39.9.59 1.41.59.51 0 1.02-.2 1.41-.59l7.78-7.78 2.81-2.81c.8-.78.8-2.07 0-2.86zM5.41 20L4 18.59l7.72-7.72 1.47 1.35L5.41 20z\"/>\n",
              "  </svg>\n",
              "      </button>\n",
              "      \n",
              "  <style>\n",
              "    .colab-df-container {\n",
              "      display:flex;\n",
              "      flex-wrap:wrap;\n",
              "      gap: 12px;\n",
              "    }\n",
              "\n",
              "    .colab-df-convert {\n",
              "      background-color: #E8F0FE;\n",
              "      border: none;\n",
              "      border-radius: 50%;\n",
              "      cursor: pointer;\n",
              "      display: none;\n",
              "      fill: #1967D2;\n",
              "      height: 32px;\n",
              "      padding: 0 0 0 0;\n",
              "      width: 32px;\n",
              "    }\n",
              "\n",
              "    .colab-df-convert:hover {\n",
              "      background-color: #E2EBFA;\n",
              "      box-shadow: 0px 1px 2px rgba(60, 64, 67, 0.3), 0px 1px 3px 1px rgba(60, 64, 67, 0.15);\n",
              "      fill: #174EA6;\n",
              "    }\n",
              "\n",
              "    [theme=dark] .colab-df-convert {\n",
              "      background-color: #3B4455;\n",
              "      fill: #D2E3FC;\n",
              "    }\n",
              "\n",
              "    [theme=dark] .colab-df-convert:hover {\n",
              "      background-color: #434B5C;\n",
              "      box-shadow: 0px 1px 3px 1px rgba(0, 0, 0, 0.15);\n",
              "      filter: drop-shadow(0px 1px 2px rgba(0, 0, 0, 0.3));\n",
              "      fill: #FFFFFF;\n",
              "    }\n",
              "  </style>\n",
              "\n",
              "      <script>\n",
              "        const buttonEl =\n",
              "          document.querySelector('#df-e9b14aa9-2dcb-420c-ada4-a9d10e954ac3 button.colab-df-convert');\n",
              "        buttonEl.style.display =\n",
              "          google.colab.kernel.accessAllowed ? 'block' : 'none';\n",
              "\n",
              "        async function convertToInteractive(key) {\n",
              "          const element = document.querySelector('#df-e9b14aa9-2dcb-420c-ada4-a9d10e954ac3');\n",
              "          const dataTable =\n",
              "            await google.colab.kernel.invokeFunction('convertToInteractive',\n",
              "                                                     [key], {});\n",
              "          if (!dataTable) return;\n",
              "\n",
              "          const docLinkHtml = 'Like what you see? Visit the ' +\n",
              "            '<a target=\"_blank\" href=https://colab.research.google.com/notebooks/data_table.ipynb>data table notebook</a>'\n",
              "            + ' to learn more about interactive tables.';\n",
              "          element.innerHTML = '';\n",
              "          dataTable['output_type'] = 'display_data';\n",
              "          await google.colab.output.renderOutput(dataTable, element);\n",
              "          const docLink = document.createElement('div');\n",
              "          docLink.innerHTML = docLinkHtml;\n",
              "          element.appendChild(docLink);\n",
              "        }\n",
              "      </script>\n",
              "    </div>\n",
              "  </div>\n",
              "  "
            ]
          },
          "metadata": {},
          "execution_count": 16
        }
      ],
      "source": [
        "class CustomResolver(Resolver):\n",
        "    def resolve(self, name: str, why_type: DataType, column_schema: ColumnSchema) -> Dict[str, Metric]:\n",
        "        return {\"condition_count\": ConditionCountMetric.zero(column_schema.cfg)}\n",
        "\n",
        "conditions = {\n",
        "    \"between10and50\": Condition(X.greater_than(10).and_(X.less_than(50))),\n",
        "    \"outside10and50\": Condition(X.less_than(10).or_(X.greater_than(50))),\n",
        "    \"not_42\": Condition(Not(X.equals(42))),  # could also use X.not_equal(42)  or  X.not_.equals(42)\n",
        "}\n",
        "\n",
        "config = ConditionCountConfig(conditions=conditions)\n",
        "resolver = CustomResolver()\n",
        "schema = DatasetSchema(default_configs=config, resolvers=resolver)\n",
        "\n",
        "\n",
        "prof_view = why.log(df, schema=schema).profile().view()\n",
        "prof_view.to_pandas()\n"
      ]
    },
    {
      "cell_type": "markdown",
      "metadata": {
        "id": "7L4VKkP-LES6"
      },
      "source": [
        "Available logical operators are:\n",
        "- `and_`\n",
        "- `or_`\n",
        "- `not_`\n",
        "- `Not`\n",
        "\n",
        "Note that `and_`, `or_`, and `not_` are methods called on a `Predicate` and passed another `Predicate`, while `Not` is a function that takes a single `Predicate` argument.\n",
        "Even though we showed these operators with numerical features, this also works with regex matching conditions shown previously."
      ]
    },
    {
      "cell_type": "markdown",
      "metadata": {
        "id": "TjzelbFXLES6"
      },
      "source": [
        "## 4. Custom Condition with User-defined functions"
      ]
    },
    {
      "cell_type": "markdown",
      "metadata": {
        "id": "axVo_aiDLES7"
      },
      "source": [
        "If none of the previously conditions are suited to your use case, you are free to define your own custom function to create your own metrics.\n",
        "\n",
        "Let's see a simple example: suppose we want to check if a certain number is even.\n",
        "\n",
        "We can define a `even` predicate function, as simple as:"
      ]
    },
    {
      "cell_type": "code",
      "execution_count": null,
      "metadata": {
        "id": "uPo7Jj0DLES7"
      },
      "outputs": [],
      "source": [
        "def even(x: Any) -> bool:\n",
        "    return x % 2 == 0"
      ]
    },
    {
      "cell_type": "markdown",
      "metadata": {
        "id": "kCitdHZ9LES7"
      },
      "source": [
        "And then we proceed as usual, defining our resolver and conditions.\n",
        "\n",
        "We only have to pass the name of the function to `conditions` as a `Condition` object, like below:"
      ]
    },
    {
      "cell_type": "code",
      "execution_count": null,
      "metadata": {
        "colab": {
          "base_uri": "https://localhost:8080/",
          "height": 164
        },
        "id": "yvLsXjXnLES8",
        "outputId": "814594ec-a61c-41e8-c7e0-0c8497be1bd4"
      },
      "outputs": [
        {
          "output_type": "execute_result",
          "data": {
            "text/plain": [
              "        condition_count/isEven  condition_count/total                type\n",
              "column                                                                   \n",
              "floats                       0                      4  SummaryType.COLUMN\n",
              "ints                         3                      4  SummaryType.COLUMN"
            ],
            "text/html": [
              "\n",
              "  <div id=\"df-2592c9b8-9bb2-4345-ad73-92412b086290\">\n",
              "    <div class=\"colab-df-container\">\n",
              "      <div>\n",
              "<style scoped>\n",
              "    .dataframe tbody tr th:only-of-type {\n",
              "        vertical-align: middle;\n",
              "    }\n",
              "\n",
              "    .dataframe tbody tr th {\n",
              "        vertical-align: top;\n",
              "    }\n",
              "\n",
              "    .dataframe thead th {\n",
              "        text-align: right;\n",
              "    }\n",
              "</style>\n",
              "<table border=\"1\" class=\"dataframe\">\n",
              "  <thead>\n",
              "    <tr style=\"text-align: right;\">\n",
              "      <th></th>\n",
              "      <th>condition_count/isEven</th>\n",
              "      <th>condition_count/total</th>\n",
              "      <th>type</th>\n",
              "    </tr>\n",
              "    <tr>\n",
              "      <th>column</th>\n",
              "      <th></th>\n",
              "      <th></th>\n",
              "      <th></th>\n",
              "    </tr>\n",
              "  </thead>\n",
              "  <tbody>\n",
              "    <tr>\n",
              "      <th>floats</th>\n",
              "      <td>0</td>\n",
              "      <td>4</td>\n",
              "      <td>SummaryType.COLUMN</td>\n",
              "    </tr>\n",
              "    <tr>\n",
              "      <th>ints</th>\n",
              "      <td>3</td>\n",
              "      <td>4</td>\n",
              "      <td>SummaryType.COLUMN</td>\n",
              "    </tr>\n",
              "  </tbody>\n",
              "</table>\n",
              "</div>\n",
              "      <button class=\"colab-df-convert\" onclick=\"convertToInteractive('df-2592c9b8-9bb2-4345-ad73-92412b086290')\"\n",
              "              title=\"Convert this dataframe to an interactive table.\"\n",
              "              style=\"display:none;\">\n",
              "        \n",
              "  <svg xmlns=\"http://www.w3.org/2000/svg\" height=\"24px\"viewBox=\"0 0 24 24\"\n",
              "       width=\"24px\">\n",
              "    <path d=\"M0 0h24v24H0V0z\" fill=\"none\"/>\n",
              "    <path d=\"M18.56 5.44l.94 2.06.94-2.06 2.06-.94-2.06-.94-.94-2.06-.94 2.06-2.06.94zm-11 1L8.5 8.5l.94-2.06 2.06-.94-2.06-.94L8.5 2.5l-.94 2.06-2.06.94zm10 10l.94 2.06.94-2.06 2.06-.94-2.06-.94-.94-2.06-.94 2.06-2.06.94z\"/><path d=\"M17.41 7.96l-1.37-1.37c-.4-.4-.92-.59-1.43-.59-.52 0-1.04.2-1.43.59L10.3 9.45l-7.72 7.72c-.78.78-.78 2.05 0 2.83L4 21.41c.39.39.9.59 1.41.59.51 0 1.02-.2 1.41-.59l7.78-7.78 2.81-2.81c.8-.78.8-2.07 0-2.86zM5.41 20L4 18.59l7.72-7.72 1.47 1.35L5.41 20z\"/>\n",
              "  </svg>\n",
              "      </button>\n",
              "      \n",
              "  <style>\n",
              "    .colab-df-container {\n",
              "      display:flex;\n",
              "      flex-wrap:wrap;\n",
              "      gap: 12px;\n",
              "    }\n",
              "\n",
              "    .colab-df-convert {\n",
              "      background-color: #E8F0FE;\n",
              "      border: none;\n",
              "      border-radius: 50%;\n",
              "      cursor: pointer;\n",
              "      display: none;\n",
              "      fill: #1967D2;\n",
              "      height: 32px;\n",
              "      padding: 0 0 0 0;\n",
              "      width: 32px;\n",
              "    }\n",
              "\n",
              "    .colab-df-convert:hover {\n",
              "      background-color: #E2EBFA;\n",
              "      box-shadow: 0px 1px 2px rgba(60, 64, 67, 0.3), 0px 1px 3px 1px rgba(60, 64, 67, 0.15);\n",
              "      fill: #174EA6;\n",
              "    }\n",
              "\n",
              "    [theme=dark] .colab-df-convert {\n",
              "      background-color: #3B4455;\n",
              "      fill: #D2E3FC;\n",
              "    }\n",
              "\n",
              "    [theme=dark] .colab-df-convert:hover {\n",
              "      background-color: #434B5C;\n",
              "      box-shadow: 0px 1px 3px 1px rgba(0, 0, 0, 0.15);\n",
              "      filter: drop-shadow(0px 1px 2px rgba(0, 0, 0, 0.3));\n",
              "      fill: #FFFFFF;\n",
              "    }\n",
              "  </style>\n",
              "\n",
              "      <script>\n",
              "        const buttonEl =\n",
              "          document.querySelector('#df-2592c9b8-9bb2-4345-ad73-92412b086290 button.colab-df-convert');\n",
              "        buttonEl.style.display =\n",
              "          google.colab.kernel.accessAllowed ? 'block' : 'none';\n",
              "\n",
              "        async function convertToInteractive(key) {\n",
              "          const element = document.querySelector('#df-2592c9b8-9bb2-4345-ad73-92412b086290');\n",
              "          const dataTable =\n",
              "            await google.colab.kernel.invokeFunction('convertToInteractive',\n",
              "                                                     [key], {});\n",
              "          if (!dataTable) return;\n",
              "\n",
              "          const docLinkHtml = 'Like what you see? Visit the ' +\n",
              "            '<a target=\"_blank\" href=https://colab.research.google.com/notebooks/data_table.ipynb>data table notebook</a>'\n",
              "            + ' to learn more about interactive tables.';\n",
              "          element.innerHTML = '';\n",
              "          dataTable['output_type'] = 'display_data';\n",
              "          await google.colab.output.renderOutput(dataTable, element);\n",
              "          const docLink = document.createElement('div');\n",
              "          docLink.innerHTML = docLinkHtml;\n",
              "          element.appendChild(docLink);\n",
              "        }\n",
              "      </script>\n",
              "    </div>\n",
              "  </div>\n",
              "  "
            ]
          },
          "metadata": {},
          "execution_count": 20
        }
      ],
      "source": [
        "class CustomResolver(Resolver):\n",
        "    def resolve(self, name: str, why_type: DataType, column_schema: ColumnSchema) -> Dict[str, Metric]:\n",
        "        return {\"condition_count\": ConditionCountMetric.zero(column_schema.cfg)}\n",
        "\n",
        "conditions = {\n",
        "    \"isEven\": Condition(X.is_(even)),\n",
        "}\n",
        "\n",
        "config = ConditionCountConfig(conditions=conditions)\n",
        "resolver = CustomResolver()\n",
        "schema = DatasetSchema(default_configs=config, resolvers=resolver)\n",
        "\n",
        "\n",
        "prof_view = why.log(df, schema=schema).profile().view()\n",
        "prof_view.to_pandas()\n"
      ]
    },
    {
      "cell_type": "markdown",
      "metadata": {
        "id": "qt613cdkLES8"
      },
      "source": [
        "### NLP example"
      ]
    },
    {
      "cell_type": "markdown",
      "metadata": {
        "id": "6vCGaYihLES9"
      },
      "source": [
        "For user-defined functions, the sky's the limit for what you can do.\n",
        "\n",
        "Let's think of another simple cenario for NLP. Suppose our model assumes text to be a certain way. Maybe it was trained and expects:\n",
        "\n",
        "- lowercased characters\n",
        "- no digits\n",
        "- no stopwords"
      ]
    },
    {
      "cell_type": "markdown",
      "metadata": {
        "id": "-l6AOeHgLES9"
      },
      "source": [
        "Let's check these conditions for the data below:"
      ]
    },
    {
      "cell_type": "code",
      "execution_count": null,
      "metadata": {
        "id": "GQdw9WvSLES-"
      },
      "outputs": [],
      "source": [
        "data = {\n",
        "    \"trasncriptions\": [\"I AM BOB AND I LIKE TO SCREAM\",\"i am bob\",\"am alice and am xx years old\",\"am bob and am 42 years old\"],\n",
        "    \"ints\": [0,1,2,3],\n",
        "}\n",
        "df = pd.DataFrame(data=data)"
      ]
    },
    {
      "cell_type": "markdown",
      "metadata": {
        "id": "E0AmapoKLES-"
      },
      "source": [
        "Once again, let's define our function:"
      ]
    },
    {
      "cell_type": "code",
      "execution_count": null,
      "metadata": {
        "id": "cH8mavgcLES-"
      },
      "outputs": [],
      "source": [
        "def preprocessed(x: Any) -> bool:\n",
        "    stopwords = [\"i\", \"me\", \"myself\"]\n",
        "    if not isinstance(x, str):\n",
        "        return False\n",
        "    \n",
        "    # should have only lowercase letters and space (no digits)\n",
        "    if not all(c.islower() or c.isspace() for c in x):\n",
        "        return False\n",
        "    # should not contain any words in our stopwords list\n",
        "    if any(c in stopwords for c in x.split()):\n",
        "        return False\n",
        "    return True"
      ]
    },
    {
      "cell_type": "markdown",
      "metadata": {
        "id": "nmZksJuaLES_"
      },
      "source": [
        "> Since this is an example, our `stopwords` list is only a placeholder for the real thing."
      ]
    },
    {
      "cell_type": "markdown",
      "metadata": {
        "id": "0Fa4qoodLES_"
      },
      "source": [
        "The rest is the same as before:"
      ]
    },
    {
      "cell_type": "code",
      "execution_count": null,
      "metadata": {
        "colab": {
          "base_uri": "https://localhost:8080/",
          "height": 164
        },
        "id": "RZ-upW26LES_",
        "outputId": "e5a6fddd-9ecb-48b5-9f07-8d9601efa51e"
      },
      "outputs": [
        {
          "output_type": "execute_result",
          "data": {
            "text/plain": [
              "        condition_count/isPreprocessed  condition_count/total  \\\n",
              "column                                                          \n",
              "floats                               0                      4   \n",
              "ints                                 0                      4   \n",
              "\n",
              "                      type  \n",
              "column                      \n",
              "floats  SummaryType.COLUMN  \n",
              "ints    SummaryType.COLUMN  "
            ],
            "text/html": [
              "\n",
              "  <div id=\"df-9f91867e-56a1-4a62-aab4-0a0694efe063\">\n",
              "    <div class=\"colab-df-container\">\n",
              "      <div>\n",
              "<style scoped>\n",
              "    .dataframe tbody tr th:only-of-type {\n",
              "        vertical-align: middle;\n",
              "    }\n",
              "\n",
              "    .dataframe tbody tr th {\n",
              "        vertical-align: top;\n",
              "    }\n",
              "\n",
              "    .dataframe thead th {\n",
              "        text-align: right;\n",
              "    }\n",
              "</style>\n",
              "<table border=\"1\" class=\"dataframe\">\n",
              "  <thead>\n",
              "    <tr style=\"text-align: right;\">\n",
              "      <th></th>\n",
              "      <th>condition_count/isPreprocessed</th>\n",
              "      <th>condition_count/total</th>\n",
              "      <th>type</th>\n",
              "    </tr>\n",
              "    <tr>\n",
              "      <th>column</th>\n",
              "      <th></th>\n",
              "      <th></th>\n",
              "      <th></th>\n",
              "    </tr>\n",
              "  </thead>\n",
              "  <tbody>\n",
              "    <tr>\n",
              "      <th>floats</th>\n",
              "      <td>0</td>\n",
              "      <td>4</td>\n",
              "      <td>SummaryType.COLUMN</td>\n",
              "    </tr>\n",
              "    <tr>\n",
              "      <th>ints</th>\n",
              "      <td>0</td>\n",
              "      <td>4</td>\n",
              "      <td>SummaryType.COLUMN</td>\n",
              "    </tr>\n",
              "  </tbody>\n",
              "</table>\n",
              "</div>\n",
              "      <button class=\"colab-df-convert\" onclick=\"convertToInteractive('df-9f91867e-56a1-4a62-aab4-0a0694efe063')\"\n",
              "              title=\"Convert this dataframe to an interactive table.\"\n",
              "              style=\"display:none;\">\n",
              "        \n",
              "  <svg xmlns=\"http://www.w3.org/2000/svg\" height=\"24px\"viewBox=\"0 0 24 24\"\n",
              "       width=\"24px\">\n",
              "    <path d=\"M0 0h24v24H0V0z\" fill=\"none\"/>\n",
              "    <path d=\"M18.56 5.44l.94 2.06.94-2.06 2.06-.94-2.06-.94-.94-2.06-.94 2.06-2.06.94zm-11 1L8.5 8.5l.94-2.06 2.06-.94-2.06-.94L8.5 2.5l-.94 2.06-2.06.94zm10 10l.94 2.06.94-2.06 2.06-.94-2.06-.94-.94-2.06-.94 2.06-2.06.94z\"/><path d=\"M17.41 7.96l-1.37-1.37c-.4-.4-.92-.59-1.43-.59-.52 0-1.04.2-1.43.59L10.3 9.45l-7.72 7.72c-.78.78-.78 2.05 0 2.83L4 21.41c.39.39.9.59 1.41.59.51 0 1.02-.2 1.41-.59l7.78-7.78 2.81-2.81c.8-.78.8-2.07 0-2.86zM5.41 20L4 18.59l7.72-7.72 1.47 1.35L5.41 20z\"/>\n",
              "  </svg>\n",
              "      </button>\n",
              "      \n",
              "  <style>\n",
              "    .colab-df-container {\n",
              "      display:flex;\n",
              "      flex-wrap:wrap;\n",
              "      gap: 12px;\n",
              "    }\n",
              "\n",
              "    .colab-df-convert {\n",
              "      background-color: #E8F0FE;\n",
              "      border: none;\n",
              "      border-radius: 50%;\n",
              "      cursor: pointer;\n",
              "      display: none;\n",
              "      fill: #1967D2;\n",
              "      height: 32px;\n",
              "      padding: 0 0 0 0;\n",
              "      width: 32px;\n",
              "    }\n",
              "\n",
              "    .colab-df-convert:hover {\n",
              "      background-color: #E2EBFA;\n",
              "      box-shadow: 0px 1px 2px rgba(60, 64, 67, 0.3), 0px 1px 3px 1px rgba(60, 64, 67, 0.15);\n",
              "      fill: #174EA6;\n",
              "    }\n",
              "\n",
              "    [theme=dark] .colab-df-convert {\n",
              "      background-color: #3B4455;\n",
              "      fill: #D2E3FC;\n",
              "    }\n",
              "\n",
              "    [theme=dark] .colab-df-convert:hover {\n",
              "      background-color: #434B5C;\n",
              "      box-shadow: 0px 1px 3px 1px rgba(0, 0, 0, 0.15);\n",
              "      filter: drop-shadow(0px 1px 2px rgba(0, 0, 0, 0.3));\n",
              "      fill: #FFFFFF;\n",
              "    }\n",
              "  </style>\n",
              "\n",
              "      <script>\n",
              "        const buttonEl =\n",
              "          document.querySelector('#df-9f91867e-56a1-4a62-aab4-0a0694efe063 button.colab-df-convert');\n",
              "        buttonEl.style.display =\n",
              "          google.colab.kernel.accessAllowed ? 'block' : 'none';\n",
              "\n",
              "        async function convertToInteractive(key) {\n",
              "          const element = document.querySelector('#df-9f91867e-56a1-4a62-aab4-0a0694efe063');\n",
              "          const dataTable =\n",
              "            await google.colab.kernel.invokeFunction('convertToInteractive',\n",
              "                                                     [key], {});\n",
              "          if (!dataTable) return;\n",
              "\n",
              "          const docLinkHtml = 'Like what you see? Visit the ' +\n",
              "            '<a target=\"_blank\" href=https://colab.research.google.com/notebooks/data_table.ipynb>data table notebook</a>'\n",
              "            + ' to learn more about interactive tables.';\n",
              "          element.innerHTML = '';\n",
              "          dataTable['output_type'] = 'display_data';\n",
              "          await google.colab.output.renderOutput(dataTable, element);\n",
              "          const docLink = document.createElement('div');\n",
              "          docLink.innerHTML = docLinkHtml;\n",
              "          element.appendChild(docLink);\n",
              "        }\n",
              "      </script>\n",
              "    </div>\n",
              "  </div>\n",
              "  "
            ]
          },
          "metadata": {},
          "execution_count": 22
        }
      ],
      "source": [
        "class CustomResolver(Resolver):\n",
        "    def resolve(self, name: str, why_type: DataType, column_schema: ColumnSchema) -> Dict[str, Metric]:\n",
        "        return {\"condition_count\": ConditionCountMetric.zero(column_schema.cfg)}\n",
        "\n",
        "conditions = {\n",
        "    \"isPreprocessed\": Condition(X.is_(preprocessed)),\n",
        "}\n",
        "\n",
        "config = ConditionCountConfig(conditions=conditions)\n",
        "resolver = CustomResolver()\n",
        "schema = DatasetSchema(default_configs=config, resolvers=resolver)\n",
        "\n",
        "\n",
        "prof_view = why.log(df, schema=schema).profile().view()\n",
        "prof_view.to_pandas()\n"
      ]
    },
    {
      "cell_type": "markdown",
      "metadata": {
        "id": "qfIELSXpLETA"
      },
      "source": [
        "For the `transcriptions` feature, we can see that only the second row is properly preprocessed (\"am alice and am xx years old\"). The first one contained uppercase characters, the third contained a stopword and the last one contained digits. For the integers column, isPreprocessed returns 0, since it's not a string value. "
      ]
    },
    {
      "cell_type": "markdown",
      "metadata": {
        "id": "VXXvWKAKLETA"
      },
      "source": [
        "## 5. Going Further"
      ]
    },
    {
      "cell_type": "markdown",
      "metadata": {
        "id": "pLdUNP_rLETA"
      },
      "source": [
        "You can combine this example with other whylogs' features to cover even more scenarios.\n",
        "\n",
        "Here are some pointers for some possible use cases:\n",
        "\n",
        "- I want to track other types of metrics, not only Condition Counts!\n",
        "    - Check the [Schema Configuration](https://whylogs.readthedocs.io/en/stable/examples/basic/Schema_Configuration.html) example!\n",
        "- Ok, I have counters. What now?\n",
        "    - You can set constraints (such as `containsCreditCardNumber` should always be 0). Check the [Metric Constraints](https://whylogs.readthedocs.io/en/stable/examples/basic/Metric_Constraints.html) example!\n",
        "    - You can store it locally or on S3 for future inspection - Check the [Writing Profiles](https://whylogs.readthedocs.io/en/stable/examples/integrations/writers/Writing_Profiles.html) example!\n",
        "    - You can send your profiles to a monitoring platform, such as WhyLabs - Check the [Writing Profiles to WhyLabs](https://whylogs.readthedocs.io/en/stable/examples/integrations/writers/Writing_to_WhyLabs.html) example!"
      ]
    },
    {
      "cell_type": "markdown",
      "metadata": {
        "id": "Fw5DTL9YLETA"
      },
      "source": [
        "## Appendix - Complete Code Snippets"
      ]
    },
    {
      "cell_type": "markdown",
      "metadata": {
        "id": "SY9CWzZRLETB"
      },
      "source": [
        "Here are the complete code snippets - just to make it easier to copy/paste!"
      ]
    },
    {
      "cell_type": "markdown",
      "metadata": {
        "id": "wt2HwhvoLETB"
      },
      "source": [
        "### Regex example"
      ]
    },
    {
      "cell_type": "code",
      "execution_count": null,
      "metadata": {
        "colab": {
          "base_uri": "https://localhost:8080/",
          "height": 208
        },
        "id": "5wZg7OdHLETB",
        "outputId": "4a15d8ff-5dbc-4acb-f6d9-f1ab9e700cad"
      },
      "outputs": [
        {
          "output_type": "execute_result",
          "data": {
            "text/plain": [
              "                condition_count/containsCreditCard  \\\n",
              "column                                               \n",
              "emails                                           0   \n",
              "transcriptions                                   1   \n",
              "\n",
              "                condition_count/containsEmail  condition_count/total  \\\n",
              "column                                                                 \n",
              "emails                                      1                      4   \n",
              "transcriptions                              0                      4   \n",
              "\n",
              "                              type  \n",
              "column                              \n",
              "emails          SummaryType.COLUMN  \n",
              "transcriptions  SummaryType.COLUMN  "
            ],
            "text/html": [
              "\n",
              "  <div id=\"df-fd80b596-4462-432a-b0d8-0454ea183145\">\n",
              "    <div class=\"colab-df-container\">\n",
              "      <div>\n",
              "<style scoped>\n",
              "    .dataframe tbody tr th:only-of-type {\n",
              "        vertical-align: middle;\n",
              "    }\n",
              "\n",
              "    .dataframe tbody tr th {\n",
              "        vertical-align: top;\n",
              "    }\n",
              "\n",
              "    .dataframe thead th {\n",
              "        text-align: right;\n",
              "    }\n",
              "</style>\n",
              "<table border=\"1\" class=\"dataframe\">\n",
              "  <thead>\n",
              "    <tr style=\"text-align: right;\">\n",
              "      <th></th>\n",
              "      <th>condition_count/containsCreditCard</th>\n",
              "      <th>condition_count/containsEmail</th>\n",
              "      <th>condition_count/total</th>\n",
              "      <th>type</th>\n",
              "    </tr>\n",
              "    <tr>\n",
              "      <th>column</th>\n",
              "      <th></th>\n",
              "      <th></th>\n",
              "      <th></th>\n",
              "      <th></th>\n",
              "    </tr>\n",
              "  </thead>\n",
              "  <tbody>\n",
              "    <tr>\n",
              "      <th>emails</th>\n",
              "      <td>0</td>\n",
              "      <td>1</td>\n",
              "      <td>4</td>\n",
              "      <td>SummaryType.COLUMN</td>\n",
              "    </tr>\n",
              "    <tr>\n",
              "      <th>transcriptions</th>\n",
              "      <td>1</td>\n",
              "      <td>0</td>\n",
              "      <td>4</td>\n",
              "      <td>SummaryType.COLUMN</td>\n",
              "    </tr>\n",
              "  </tbody>\n",
              "</table>\n",
              "</div>\n",
              "      <button class=\"colab-df-convert\" onclick=\"convertToInteractive('df-fd80b596-4462-432a-b0d8-0454ea183145')\"\n",
              "              title=\"Convert this dataframe to an interactive table.\"\n",
              "              style=\"display:none;\">\n",
              "        \n",
              "  <svg xmlns=\"http://www.w3.org/2000/svg\" height=\"24px\"viewBox=\"0 0 24 24\"\n",
              "       width=\"24px\">\n",
              "    <path d=\"M0 0h24v24H0V0z\" fill=\"none\"/>\n",
              "    <path d=\"M18.56 5.44l.94 2.06.94-2.06 2.06-.94-2.06-.94-.94-2.06-.94 2.06-2.06.94zm-11 1L8.5 8.5l.94-2.06 2.06-.94-2.06-.94L8.5 2.5l-.94 2.06-2.06.94zm10 10l.94 2.06.94-2.06 2.06-.94-2.06-.94-.94-2.06-.94 2.06-2.06.94z\"/><path d=\"M17.41 7.96l-1.37-1.37c-.4-.4-.92-.59-1.43-.59-.52 0-1.04.2-1.43.59L10.3 9.45l-7.72 7.72c-.78.78-.78 2.05 0 2.83L4 21.41c.39.39.9.59 1.41.59.51 0 1.02-.2 1.41-.59l7.78-7.78 2.81-2.81c.8-.78.8-2.07 0-2.86zM5.41 20L4 18.59l7.72-7.72 1.47 1.35L5.41 20z\"/>\n",
              "  </svg>\n",
              "      </button>\n",
              "      \n",
              "  <style>\n",
              "    .colab-df-container {\n",
              "      display:flex;\n",
              "      flex-wrap:wrap;\n",
              "      gap: 12px;\n",
              "    }\n",
              "\n",
              "    .colab-df-convert {\n",
              "      background-color: #E8F0FE;\n",
              "      border: none;\n",
              "      border-radius: 50%;\n",
              "      cursor: pointer;\n",
              "      display: none;\n",
              "      fill: #1967D2;\n",
              "      height: 32px;\n",
              "      padding: 0 0 0 0;\n",
              "      width: 32px;\n",
              "    }\n",
              "\n",
              "    .colab-df-convert:hover {\n",
              "      background-color: #E2EBFA;\n",
              "      box-shadow: 0px 1px 2px rgba(60, 64, 67, 0.3), 0px 1px 3px 1px rgba(60, 64, 67, 0.15);\n",
              "      fill: #174EA6;\n",
              "    }\n",
              "\n",
              "    [theme=dark] .colab-df-convert {\n",
              "      background-color: #3B4455;\n",
              "      fill: #D2E3FC;\n",
              "    }\n",
              "\n",
              "    [theme=dark] .colab-df-convert:hover {\n",
              "      background-color: #434B5C;\n",
              "      box-shadow: 0px 1px 3px 1px rgba(0, 0, 0, 0.15);\n",
              "      filter: drop-shadow(0px 1px 2px rgba(0, 0, 0, 0.3));\n",
              "      fill: #FFFFFF;\n",
              "    }\n",
              "  </style>\n",
              "\n",
              "      <script>\n",
              "        const buttonEl =\n",
              "          document.querySelector('#df-fd80b596-4462-432a-b0d8-0454ea183145 button.colab-df-convert');\n",
              "        buttonEl.style.display =\n",
              "          google.colab.kernel.accessAllowed ? 'block' : 'none';\n",
              "\n",
              "        async function convertToInteractive(key) {\n",
              "          const element = document.querySelector('#df-fd80b596-4462-432a-b0d8-0454ea183145');\n",
              "          const dataTable =\n",
              "            await google.colab.kernel.invokeFunction('convertToInteractive',\n",
              "                                                     [key], {});\n",
              "          if (!dataTable) return;\n",
              "\n",
              "          const docLinkHtml = 'Like what you see? Visit the ' +\n",
              "            '<a target=\"_blank\" href=https://colab.research.google.com/notebooks/data_table.ipynb>data table notebook</a>'\n",
              "            + ' to learn more about interactive tables.';\n",
              "          element.innerHTML = '';\n",
              "          dataTable['output_type'] = 'display_data';\n",
              "          await google.colab.output.renderOutput(dataTable, element);\n",
              "          const docLink = document.createElement('div');\n",
              "          docLink.innerHTML = docLinkHtml;\n",
              "          element.appendChild(docLink);\n",
              "        }\n",
              "      </script>\n",
              "    </div>\n",
              "  </div>\n",
              "  "
            ]
          },
          "metadata": {},
          "execution_count": 23
        }
      ],
      "source": [
        "import pandas as pd\n",
        "\n",
        "import re\n",
        "from typing import Any, Dict\n",
        "\n",
        "import whylogs as why\n",
        "\n",
        "from whylogs.core.resolvers import Resolver\n",
        "from whylogs.core.schema import ColumnSchema, DatasetSchema\n",
        "from whylogs.core.datatypes import DataType\n",
        "\n",
        "from whylogs.core.metrics import Metric\n",
        "from whylogs.core.metrics.condition_count_metric import (\n",
        "    Condition,\n",
        "    ConditionCountConfig,\n",
        "    ConditionCountMetric,\n",
        ")\n",
        "from whylogs.core.relations import Not, Predicate\n",
        "\n",
        "X = Predicate()\n",
        "\n",
        "data = {\n",
        "    \"emails\": [\"my email is my_email_1989@gmail.com\",\"invalidEmail@xyz.toolong\",\"this.is.ok@hotmail.com\",\"not an email\"],\n",
        "    \"transcriptions\": [\"Bob's credit card number is 4000000000000\", \"Alice's credit card is XXXXXXXXXXXXX\", \"Hi, my name is Bob\", \"Hi, I'm Alice\"],\n",
        "}\n",
        "df = pd.DataFrame(data=data)\n",
        "\n",
        "class CustomResolver(Resolver):\n",
        "    def resolve(self, name: str, why_type: DataType, column_schema: ColumnSchema) -> Dict[str, Metric]:\n",
        "        return {\"condition_count\": ConditionCountMetric.zero(column_schema.cfg)}\n",
        "\n",
        "conditions = {\n",
        "    \"containsEmail\": Condition(X.fullmatch(\"[\\w.]+[\\._]?[a-z0-9]+[@]\\w+[.]\\w{2,3}\")),\n",
        "    \"containsCreditCard\": Condition(X.matches(\".*4[0-9]{12}(?:[0-9]{3})?\"))\n",
        "}\n",
        "\n",
        "config = ConditionCountConfig(conditions=conditions)\n",
        "resolver = CustomResolver()\n",
        "schema = DatasetSchema(default_configs=config, resolvers=resolver)\n",
        "\n",
        "prof_view = why.log(df, schema=schema).profile().view()\n",
        "prof_view.to_pandas()"
      ]
    },
    {
      "cell_type": "markdown",
      "metadata": {
        "id": "3eRAQaGALETB"
      },
      "source": [
        "### Equalities Example"
      ]
    },
    {
      "cell_type": "code",
      "execution_count": null,
      "metadata": {
        "colab": {
          "base_uri": "https://localhost:8080/",
          "height": 208
        },
        "id": "R8uNVop2LETC",
        "outputId": "4a0f5460-ccf4-4a1a-e904-9051af25f42b"
      },
      "outputs": [
        {
          "output_type": "execute_result",
          "data": {
            "text/plain": [
              "        condition_count/equals42  condition_count/equals42.2  \\\n",
              "column                                                         \n",
              "floats                         0                           1   \n",
              "ints                           1                           0   \n",
              "\n",
              "        condition_count/lessthan5  condition_count/morethan40  \\\n",
              "column                                                          \n",
              "floats                          2                           1   \n",
              "ints                            2                           1   \n",
              "\n",
              "        condition_count/total                type  \n",
              "column                                             \n",
              "floats                      4  SummaryType.COLUMN  \n",
              "ints                        4  SummaryType.COLUMN  "
            ],
            "text/html": [
              "\n",
              "  <div id=\"df-806fa713-1cff-4453-9433-6c837790efe5\">\n",
              "    <div class=\"colab-df-container\">\n",
              "      <div>\n",
              "<style scoped>\n",
              "    .dataframe tbody tr th:only-of-type {\n",
              "        vertical-align: middle;\n",
              "    }\n",
              "\n",
              "    .dataframe tbody tr th {\n",
              "        vertical-align: top;\n",
              "    }\n",
              "\n",
              "    .dataframe thead th {\n",
              "        text-align: right;\n",
              "    }\n",
              "</style>\n",
              "<table border=\"1\" class=\"dataframe\">\n",
              "  <thead>\n",
              "    <tr style=\"text-align: right;\">\n",
              "      <th></th>\n",
              "      <th>condition_count/equals42</th>\n",
              "      <th>condition_count/equals42.2</th>\n",
              "      <th>condition_count/lessthan5</th>\n",
              "      <th>condition_count/morethan40</th>\n",
              "      <th>condition_count/total</th>\n",
              "      <th>type</th>\n",
              "    </tr>\n",
              "    <tr>\n",
              "      <th>column</th>\n",
              "      <th></th>\n",
              "      <th></th>\n",
              "      <th></th>\n",
              "      <th></th>\n",
              "      <th></th>\n",
              "      <th></th>\n",
              "    </tr>\n",
              "  </thead>\n",
              "  <tbody>\n",
              "    <tr>\n",
              "      <th>floats</th>\n",
              "      <td>0</td>\n",
              "      <td>1</td>\n",
              "      <td>2</td>\n",
              "      <td>1</td>\n",
              "      <td>4</td>\n",
              "      <td>SummaryType.COLUMN</td>\n",
              "    </tr>\n",
              "    <tr>\n",
              "      <th>ints</th>\n",
              "      <td>1</td>\n",
              "      <td>0</td>\n",
              "      <td>2</td>\n",
              "      <td>1</td>\n",
              "      <td>4</td>\n",
              "      <td>SummaryType.COLUMN</td>\n",
              "    </tr>\n",
              "  </tbody>\n",
              "</table>\n",
              "</div>\n",
              "      <button class=\"colab-df-convert\" onclick=\"convertToInteractive('df-806fa713-1cff-4453-9433-6c837790efe5')\"\n",
              "              title=\"Convert this dataframe to an interactive table.\"\n",
              "              style=\"display:none;\">\n",
              "        \n",
              "  <svg xmlns=\"http://www.w3.org/2000/svg\" height=\"24px\"viewBox=\"0 0 24 24\"\n",
              "       width=\"24px\">\n",
              "    <path d=\"M0 0h24v24H0V0z\" fill=\"none\"/>\n",
              "    <path d=\"M18.56 5.44l.94 2.06.94-2.06 2.06-.94-2.06-.94-.94-2.06-.94 2.06-2.06.94zm-11 1L8.5 8.5l.94-2.06 2.06-.94-2.06-.94L8.5 2.5l-.94 2.06-2.06.94zm10 10l.94 2.06.94-2.06 2.06-.94-2.06-.94-.94-2.06-.94 2.06-2.06.94z\"/><path d=\"M17.41 7.96l-1.37-1.37c-.4-.4-.92-.59-1.43-.59-.52 0-1.04.2-1.43.59L10.3 9.45l-7.72 7.72c-.78.78-.78 2.05 0 2.83L4 21.41c.39.39.9.59 1.41.59.51 0 1.02-.2 1.41-.59l7.78-7.78 2.81-2.81c.8-.78.8-2.07 0-2.86zM5.41 20L4 18.59l7.72-7.72 1.47 1.35L5.41 20z\"/>\n",
              "  </svg>\n",
              "      </button>\n",
              "      \n",
              "  <style>\n",
              "    .colab-df-container {\n",
              "      display:flex;\n",
              "      flex-wrap:wrap;\n",
              "      gap: 12px;\n",
              "    }\n",
              "\n",
              "    .colab-df-convert {\n",
              "      background-color: #E8F0FE;\n",
              "      border: none;\n",
              "      border-radius: 50%;\n",
              "      cursor: pointer;\n",
              "      display: none;\n",
              "      fill: #1967D2;\n",
              "      height: 32px;\n",
              "      padding: 0 0 0 0;\n",
              "      width: 32px;\n",
              "    }\n",
              "\n",
              "    .colab-df-convert:hover {\n",
              "      background-color: #E2EBFA;\n",
              "      box-shadow: 0px 1px 2px rgba(60, 64, 67, 0.3), 0px 1px 3px 1px rgba(60, 64, 67, 0.15);\n",
              "      fill: #174EA6;\n",
              "    }\n",
              "\n",
              "    [theme=dark] .colab-df-convert {\n",
              "      background-color: #3B4455;\n",
              "      fill: #D2E3FC;\n",
              "    }\n",
              "\n",
              "    [theme=dark] .colab-df-convert:hover {\n",
              "      background-color: #434B5C;\n",
              "      box-shadow: 0px 1px 3px 1px rgba(0, 0, 0, 0.15);\n",
              "      filter: drop-shadow(0px 1px 2px rgba(0, 0, 0, 0.3));\n",
              "      fill: #FFFFFF;\n",
              "    }\n",
              "  </style>\n",
              "\n",
              "      <script>\n",
              "        const buttonEl =\n",
              "          document.querySelector('#df-806fa713-1cff-4453-9433-6c837790efe5 button.colab-df-convert');\n",
              "        buttonEl.style.display =\n",
              "          google.colab.kernel.accessAllowed ? 'block' : 'none';\n",
              "\n",
              "        async function convertToInteractive(key) {\n",
              "          const element = document.querySelector('#df-806fa713-1cff-4453-9433-6c837790efe5');\n",
              "          const dataTable =\n",
              "            await google.colab.kernel.invokeFunction('convertToInteractive',\n",
              "                                                     [key], {});\n",
              "          if (!dataTable) return;\n",
              "\n",
              "          const docLinkHtml = 'Like what you see? Visit the ' +\n",
              "            '<a target=\"_blank\" href=https://colab.research.google.com/notebooks/data_table.ipynb>data table notebook</a>'\n",
              "            + ' to learn more about interactive tables.';\n",
              "          element.innerHTML = '';\n",
              "          dataTable['output_type'] = 'display_data';\n",
              "          await google.colab.output.renderOutput(dataTable, element);\n",
              "          const docLink = document.createElement('div');\n",
              "          docLink.innerHTML = docLinkHtml;\n",
              "          element.appendChild(docLink);\n",
              "        }\n",
              "      </script>\n",
              "    </div>\n",
              "  </div>\n",
              "  "
            ]
          },
          "metadata": {},
          "execution_count": 24
        }
      ],
      "source": [
        "import pandas as pd\n",
        "\n",
        "import re\n",
        "from typing import Any, Dict\n",
        "\n",
        "import whylogs as why\n",
        "\n",
        "from whylogs.core.resolvers import Resolver\n",
        "from whylogs.core.schema import ColumnSchema, DatasetSchema\n",
        "from whylogs.core.datatypes import DataType\n",
        "\n",
        "from whylogs.core.metrics import Metric\n",
        "from whylogs.core.metrics.condition_count_metric import (\n",
        "    Condition,\n",
        "    ConditionCountConfig,\n",
        "    ConditionCountMetric,\n",
        ")\n",
        "from whylogs.core.relations import Not, Predicate\n",
        "\n",
        "X = Predicate()\n",
        "\n",
        "data = {\n",
        "    \"ints\": [1,12,42,4],\n",
        "    \"floats\": [1.2, 12.3, 42.2, 4.8]\n",
        "\n",
        "}\n",
        "df = pd.DataFrame(data=data)\n",
        "\n",
        "class CustomResolver(Resolver):\n",
        "    def resolve(self, name: str, why_type: DataType, column_schema: ColumnSchema) -> Dict[str, Metric]:\n",
        "        return {\"condition_count\": ConditionCountMetric.zero(column_schema.cfg)}\n",
        "\n",
        "conditions = {\n",
        "    \"equals42\": Condition(X.equals(42)),\n",
        "    \"equals42.2\": Condition(X.equals(42.2)),\n",
        "    \"lessthan5\": Condition(X.less_than(5)),\n",
        "    \"morethan40\": Condition(X.greater_than(40)),\n",
        "}\n",
        "\n",
        "config = ConditionCountConfig(conditions=conditions)\n",
        "resolver = CustomResolver()\n",
        "schema = DatasetSchema(default_configs=config, resolvers=resolver)\n",
        "\n",
        "prof_view = why.log(df, schema=schema).profile().view()\n",
        "prof_view.to_pandas()"
      ]
    },
    {
      "cell_type": "markdown",
      "metadata": {
        "id": "Hiwgne8NLETC"
      },
      "source": [
        "### Logical Operators Example"
      ]
    },
    {
      "cell_type": "code",
      "execution_count": null,
      "metadata": {
        "colab": {
          "base_uri": "https://localhost:8080/",
          "height": 208
        },
        "id": "8Xn-DDLoLETC",
        "outputId": "cc5e5a15-fa1c-4de4-f16e-26c361e3794f"
      },
      "outputs": [
        {
          "output_type": "execute_result",
          "data": {
            "text/plain": [
              "        condition_count/between10and50  condition_count/not_42  \\\n",
              "column                                                           \n",
              "floats                               2                       4   \n",
              "ints                                 2                       3   \n",
              "\n",
              "        condition_count/outside10and50  condition_count/total  \\\n",
              "column                                                          \n",
              "floats                               2                      4   \n",
              "ints                                 2                      4   \n",
              "\n",
              "                      type  \n",
              "column                      \n",
              "floats  SummaryType.COLUMN  \n",
              "ints    SummaryType.COLUMN  "
            ],
            "text/html": [
              "\n",
              "  <div id=\"df-f436c34d-7cbd-4388-9094-e85de1080bb6\">\n",
              "    <div class=\"colab-df-container\">\n",
              "      <div>\n",
              "<style scoped>\n",
              "    .dataframe tbody tr th:only-of-type {\n",
              "        vertical-align: middle;\n",
              "    }\n",
              "\n",
              "    .dataframe tbody tr th {\n",
              "        vertical-align: top;\n",
              "    }\n",
              "\n",
              "    .dataframe thead th {\n",
              "        text-align: right;\n",
              "    }\n",
              "</style>\n",
              "<table border=\"1\" class=\"dataframe\">\n",
              "  <thead>\n",
              "    <tr style=\"text-align: right;\">\n",
              "      <th></th>\n",
              "      <th>condition_count/between10and50</th>\n",
              "      <th>condition_count/not_42</th>\n",
              "      <th>condition_count/outside10and50</th>\n",
              "      <th>condition_count/total</th>\n",
              "      <th>type</th>\n",
              "    </tr>\n",
              "    <tr>\n",
              "      <th>column</th>\n",
              "      <th></th>\n",
              "      <th></th>\n",
              "      <th></th>\n",
              "      <th></th>\n",
              "      <th></th>\n",
              "    </tr>\n",
              "  </thead>\n",
              "  <tbody>\n",
              "    <tr>\n",
              "      <th>floats</th>\n",
              "      <td>2</td>\n",
              "      <td>4</td>\n",
              "      <td>2</td>\n",
              "      <td>4</td>\n",
              "      <td>SummaryType.COLUMN</td>\n",
              "    </tr>\n",
              "    <tr>\n",
              "      <th>ints</th>\n",
              "      <td>2</td>\n",
              "      <td>3</td>\n",
              "      <td>2</td>\n",
              "      <td>4</td>\n",
              "      <td>SummaryType.COLUMN</td>\n",
              "    </tr>\n",
              "  </tbody>\n",
              "</table>\n",
              "</div>\n",
              "      <button class=\"colab-df-convert\" onclick=\"convertToInteractive('df-f436c34d-7cbd-4388-9094-e85de1080bb6')\"\n",
              "              title=\"Convert this dataframe to an interactive table.\"\n",
              "              style=\"display:none;\">\n",
              "        \n",
              "  <svg xmlns=\"http://www.w3.org/2000/svg\" height=\"24px\"viewBox=\"0 0 24 24\"\n",
              "       width=\"24px\">\n",
              "    <path d=\"M0 0h24v24H0V0z\" fill=\"none\"/>\n",
              "    <path d=\"M18.56 5.44l.94 2.06.94-2.06 2.06-.94-2.06-.94-.94-2.06-.94 2.06-2.06.94zm-11 1L8.5 8.5l.94-2.06 2.06-.94-2.06-.94L8.5 2.5l-.94 2.06-2.06.94zm10 10l.94 2.06.94-2.06 2.06-.94-2.06-.94-.94-2.06-.94 2.06-2.06.94z\"/><path d=\"M17.41 7.96l-1.37-1.37c-.4-.4-.92-.59-1.43-.59-.52 0-1.04.2-1.43.59L10.3 9.45l-7.72 7.72c-.78.78-.78 2.05 0 2.83L4 21.41c.39.39.9.59 1.41.59.51 0 1.02-.2 1.41-.59l7.78-7.78 2.81-2.81c.8-.78.8-2.07 0-2.86zM5.41 20L4 18.59l7.72-7.72 1.47 1.35L5.41 20z\"/>\n",
              "  </svg>\n",
              "      </button>\n",
              "      \n",
              "  <style>\n",
              "    .colab-df-container {\n",
              "      display:flex;\n",
              "      flex-wrap:wrap;\n",
              "      gap: 12px;\n",
              "    }\n",
              "\n",
              "    .colab-df-convert {\n",
              "      background-color: #E8F0FE;\n",
              "      border: none;\n",
              "      border-radius: 50%;\n",
              "      cursor: pointer;\n",
              "      display: none;\n",
              "      fill: #1967D2;\n",
              "      height: 32px;\n",
              "      padding: 0 0 0 0;\n",
              "      width: 32px;\n",
              "    }\n",
              "\n",
              "    .colab-df-convert:hover {\n",
              "      background-color: #E2EBFA;\n",
              "      box-shadow: 0px 1px 2px rgba(60, 64, 67, 0.3), 0px 1px 3px 1px rgba(60, 64, 67, 0.15);\n",
              "      fill: #174EA6;\n",
              "    }\n",
              "\n",
              "    [theme=dark] .colab-df-convert {\n",
              "      background-color: #3B4455;\n",
              "      fill: #D2E3FC;\n",
              "    }\n",
              "\n",
              "    [theme=dark] .colab-df-convert:hover {\n",
              "      background-color: #434B5C;\n",
              "      box-shadow: 0px 1px 3px 1px rgba(0, 0, 0, 0.15);\n",
              "      filter: drop-shadow(0px 1px 2px rgba(0, 0, 0, 0.3));\n",
              "      fill: #FFFFFF;\n",
              "    }\n",
              "  </style>\n",
              "\n",
              "      <script>\n",
              "        const buttonEl =\n",
              "          document.querySelector('#df-f436c34d-7cbd-4388-9094-e85de1080bb6 button.colab-df-convert');\n",
              "        buttonEl.style.display =\n",
              "          google.colab.kernel.accessAllowed ? 'block' : 'none';\n",
              "\n",
              "        async function convertToInteractive(key) {\n",
              "          const element = document.querySelector('#df-f436c34d-7cbd-4388-9094-e85de1080bb6');\n",
              "          const dataTable =\n",
              "            await google.colab.kernel.invokeFunction('convertToInteractive',\n",
              "                                                     [key], {});\n",
              "          if (!dataTable) return;\n",
              "\n",
              "          const docLinkHtml = 'Like what you see? Visit the ' +\n",
              "            '<a target=\"_blank\" href=https://colab.research.google.com/notebooks/data_table.ipynb>data table notebook</a>'\n",
              "            + ' to learn more about interactive tables.';\n",
              "          element.innerHTML = '';\n",
              "          dataTable['output_type'] = 'display_data';\n",
              "          await google.colab.output.renderOutput(dataTable, element);\n",
              "          const docLink = document.createElement('div');\n",
              "          docLink.innerHTML = docLinkHtml;\n",
              "          element.appendChild(docLink);\n",
              "        }\n",
              "      </script>\n",
              "    </div>\n",
              "  </div>\n",
              "  "
            ]
          },
          "metadata": {},
          "execution_count": 25
        }
      ],
      "source": [
        "import pandas as pd\n",
        "\n",
        "import re\n",
        "from typing import Any, Dict\n",
        "\n",
        "import whylogs as why\n",
        "\n",
        "from whylogs.core.resolvers import Resolver\n",
        "from whylogs.core.schema import ColumnSchema, DatasetSchema\n",
        "from whylogs.core.datatypes import DataType\n",
        "\n",
        "from whylogs.core.metrics import Metric\n",
        "from whylogs.core.metrics.condition_count_metric import (\n",
        "    Condition,\n",
        "    ConditionCountConfig,\n",
        "    ConditionCountMetric,\n",
        ")\n",
        "from whylogs.core.relations import Not, Predicate\n",
        "\n",
        "X = Predicate()\n",
        "\n",
        "data = {\n",
        "    \"ints\": [1,12,42,4],\n",
        "    \"floats\": [1.2, 12.3, 42.2, 4.8]\n",
        "\n",
        "}\n",
        "df = pd.DataFrame(data=data)\n",
        "\n",
        "class CustomResolver(Resolver):\n",
        "    def resolve(self, name: str, why_type: DataType, column_schema: ColumnSchema) -> Dict[str, Metric]:\n",
        "        return {\"condition_count\": ConditionCountMetric.zero(column_schema.cfg)}\n",
        "\n",
        "conditions = {\n",
        "    \"between10and50\": Condition(X.greater_than(10).and_(X.less_than(50))),\n",
        "    \"outside10and50\": Condition(X.less_than(10).or_(X.greater_than(50))),\n",
        "    \"not_42\": Condition(Not(X.equals(42))),\n",
        "}\n",
        "\n",
        "config = ConditionCountConfig(conditions=conditions)\n",
        "resolver = CustomResolver()\n",
        "schema = DatasetSchema(default_configs=config, resolvers=resolver)\n",
        "\n",
        "\n",
        "prof_view = why.log(df, schema=schema).profile().view()\n",
        "prof_view.to_pandas()\n"
      ]
    },
    {
      "cell_type": "markdown",
      "metadata": {
        "id": "w67opSs-LETD"
      },
      "source": [
        "### User-defined function  - even"
      ]
    },
    {
      "cell_type": "code",
      "execution_count": null,
      "metadata": {
        "colab": {
          "base_uri": "https://localhost:8080/",
          "height": 240
        },
        "id": "Q-vZQamsLETD",
        "outputId": "7d2c2553-8ac2-43c6-c3c8-6de8f7e03950"
      },
      "outputs": [
        {
          "output_type": "execute_result",
          "data": {
            "text/plain": [
              "                condition_count/isEven  condition_count/isPreprocessed  \\\n",
              "column                                                                   \n",
              "floats                               0                               0   \n",
              "ints                                 3                               0   \n",
              "trasncriptions                       0                               1   \n",
              "\n",
              "                condition_count/total                type  \n",
              "column                                                     \n",
              "floats                              4  SummaryType.COLUMN  \n",
              "ints                                4  SummaryType.COLUMN  \n",
              "trasncriptions                      4  SummaryType.COLUMN  "
            ],
            "text/html": [
              "\n",
              "  <div id=\"df-5f8813de-2372-495d-bf77-3e8e459efd37\">\n",
              "    <div class=\"colab-df-container\">\n",
              "      <div>\n",
              "<style scoped>\n",
              "    .dataframe tbody tr th:only-of-type {\n",
              "        vertical-align: middle;\n",
              "    }\n",
              "\n",
              "    .dataframe tbody tr th {\n",
              "        vertical-align: top;\n",
              "    }\n",
              "\n",
              "    .dataframe thead th {\n",
              "        text-align: right;\n",
              "    }\n",
              "</style>\n",
              "<table border=\"1\" class=\"dataframe\">\n",
              "  <thead>\n",
              "    <tr style=\"text-align: right;\">\n",
              "      <th></th>\n",
              "      <th>condition_count/isEven</th>\n",
              "      <th>condition_count/isPreprocessed</th>\n",
              "      <th>condition_count/total</th>\n",
              "      <th>type</th>\n",
              "    </tr>\n",
              "    <tr>\n",
              "      <th>column</th>\n",
              "      <th></th>\n",
              "      <th></th>\n",
              "      <th></th>\n",
              "      <th></th>\n",
              "    </tr>\n",
              "  </thead>\n",
              "  <tbody>\n",
              "    <tr>\n",
              "      <th>floats</th>\n",
              "      <td>0</td>\n",
              "      <td>0</td>\n",
              "      <td>4</td>\n",
              "      <td>SummaryType.COLUMN</td>\n",
              "    </tr>\n",
              "    <tr>\n",
              "      <th>ints</th>\n",
              "      <td>3</td>\n",
              "      <td>0</td>\n",
              "      <td>4</td>\n",
              "      <td>SummaryType.COLUMN</td>\n",
              "    </tr>\n",
              "    <tr>\n",
              "      <th>trasncriptions</th>\n",
              "      <td>0</td>\n",
              "      <td>1</td>\n",
              "      <td>4</td>\n",
              "      <td>SummaryType.COLUMN</td>\n",
              "    </tr>\n",
              "  </tbody>\n",
              "</table>\n",
              "</div>\n",
              "      <button class=\"colab-df-convert\" onclick=\"convertToInteractive('df-5f8813de-2372-495d-bf77-3e8e459efd37')\"\n",
              "              title=\"Convert this dataframe to an interactive table.\"\n",
              "              style=\"display:none;\">\n",
              "        \n",
              "  <svg xmlns=\"http://www.w3.org/2000/svg\" height=\"24px\"viewBox=\"0 0 24 24\"\n",
              "       width=\"24px\">\n",
              "    <path d=\"M0 0h24v24H0V0z\" fill=\"none\"/>\n",
              "    <path d=\"M18.56 5.44l.94 2.06.94-2.06 2.06-.94-2.06-.94-.94-2.06-.94 2.06-2.06.94zm-11 1L8.5 8.5l.94-2.06 2.06-.94-2.06-.94L8.5 2.5l-.94 2.06-2.06.94zm10 10l.94 2.06.94-2.06 2.06-.94-2.06-.94-.94-2.06-.94 2.06-2.06.94z\"/><path d=\"M17.41 7.96l-1.37-1.37c-.4-.4-.92-.59-1.43-.59-.52 0-1.04.2-1.43.59L10.3 9.45l-7.72 7.72c-.78.78-.78 2.05 0 2.83L4 21.41c.39.39.9.59 1.41.59.51 0 1.02-.2 1.41-.59l7.78-7.78 2.81-2.81c.8-.78.8-2.07 0-2.86zM5.41 20L4 18.59l7.72-7.72 1.47 1.35L5.41 20z\"/>\n",
              "  </svg>\n",
              "      </button>\n",
              "      \n",
              "  <style>\n",
              "    .colab-df-container {\n",
              "      display:flex;\n",
              "      flex-wrap:wrap;\n",
              "      gap: 12px;\n",
              "    }\n",
              "\n",
              "    .colab-df-convert {\n",
              "      background-color: #E8F0FE;\n",
              "      border: none;\n",
              "      border-radius: 50%;\n",
              "      cursor: pointer;\n",
              "      display: none;\n",
              "      fill: #1967D2;\n",
              "      height: 32px;\n",
              "      padding: 0 0 0 0;\n",
              "      width: 32px;\n",
              "    }\n",
              "\n",
              "    .colab-df-convert:hover {\n",
              "      background-color: #E2EBFA;\n",
              "      box-shadow: 0px 1px 2px rgba(60, 64, 67, 0.3), 0px 1px 3px 1px rgba(60, 64, 67, 0.15);\n",
              "      fill: #174EA6;\n",
              "    }\n",
              "\n",
              "    [theme=dark] .colab-df-convert {\n",
              "      background-color: #3B4455;\n",
              "      fill: #D2E3FC;\n",
              "    }\n",
              "\n",
              "    [theme=dark] .colab-df-convert:hover {\n",
              "      background-color: #434B5C;\n",
              "      box-shadow: 0px 1px 3px 1px rgba(0, 0, 0, 0.15);\n",
              "      filter: drop-shadow(0px 1px 2px rgba(0, 0, 0, 0.3));\n",
              "      fill: #FFFFFF;\n",
              "    }\n",
              "  </style>\n",
              "\n",
              "      <script>\n",
              "        const buttonEl =\n",
              "          document.querySelector('#df-5f8813de-2372-495d-bf77-3e8e459efd37 button.colab-df-convert');\n",
              "        buttonEl.style.display =\n",
              "          google.colab.kernel.accessAllowed ? 'block' : 'none';\n",
              "\n",
              "        async function convertToInteractive(key) {\n",
              "          const element = document.querySelector('#df-5f8813de-2372-495d-bf77-3e8e459efd37');\n",
              "          const dataTable =\n",
              "            await google.colab.kernel.invokeFunction('convertToInteractive',\n",
              "                                                     [key], {});\n",
              "          if (!dataTable) return;\n",
              "\n",
              "          const docLinkHtml = 'Like what you see? Visit the ' +\n",
              "            '<a target=\"_blank\" href=https://colab.research.google.com/notebooks/data_table.ipynb>data table notebook</a>'\n",
              "            + ' to learn more about interactive tables.';\n",
              "          element.innerHTML = '';\n",
              "          dataTable['output_type'] = 'display_data';\n",
              "          await google.colab.output.renderOutput(dataTable, element);\n",
              "          const docLink = document.createElement('div');\n",
              "          docLink.innerHTML = docLinkHtml;\n",
              "          element.appendChild(docLink);\n",
              "        }\n",
              "      </script>\n",
              "    </div>\n",
              "  </div>\n",
              "  "
            ]
          },
          "metadata": {},
          "execution_count": 27
        }
      ],
      "source": [
        "import pandas as pd\n",
        "\n",
        "import re\n",
        "from typing import Any, Dict\n",
        "\n",
        "import whylogs as why\n",
        "\n",
        "from whylogs.core.resolvers import Resolver\n",
        "from whylogs.core.schema import ColumnSchema, DatasetSchema\n",
        "from whylogs.core.datatypes import DataType\n",
        "\n",
        "from whylogs.core.metrics import Metric\n",
        "from whylogs.core.metrics.condition_count_metric import (\n",
        "    Condition,\n",
        "    ConditionCountConfig,\n",
        "    ConditionCountMetric,\n",
        ")\n",
        "from whylogs.core.relations import Not, Predicate\n",
        "\n",
        "X = Predicate()\n",
        "\n",
        "def even(x: Any) -> bool:\n",
        "    return x % 2 == 0\n",
        "\n",
        "def preprocessed(x: Any) -> bool:\n",
        "    stopwords = [\"i\", \"me\", \"myself\"]\n",
        "    if not isinstance(x, str):\n",
        "        return False\n",
        "    \n",
        "    # should have only lowercase letters and space (no digits)\n",
        "    if not all(c.islower() or c.isspace() for c in x):\n",
        "        return False\n",
        "    # should not contain any words in our stopwords list\n",
        "    if any(c in stopwords for c in x.split()):\n",
        "        return False\n",
        "    return True\n",
        "\n",
        "data = {\n",
        "    \"trasncriptions\": [\"I AM BOB AND I LIKE TO SCREAM\",\"i am bob\",\"am alice and am xx years old\",\"am bob and am 42 years old\"],\n",
        "    \"ints\": [1,12,42,4],\n",
        "    \"floats\": [1.2, 12.3, 42.2, 4.8]\n",
        "}\n",
        "df = pd.DataFrame(data=data)\n",
        "\n",
        "class CustomResolver(Resolver):\n",
        "    def resolve(self, name: str, why_type: DataType, column_schema: ColumnSchema) -> Dict[str, Metric]:\n",
        "        return {\"condition_count\": ConditionCountMetric.zero(column_schema.cfg)}\n",
        "\n",
        "conditions = {\n",
        "    \"isPreprocessed\": Condition(X.is_(preprocessed)),\n",
        "    \"isEven\": Condition(X.is_(even))\n",
        "}\n",
        "\n",
        "config = ConditionCountConfig(conditions=conditions)\n",
        "resolver = CustomResolver()\n",
        "schema = DatasetSchema(default_configs=config, resolvers=resolver)\n",
        "\n",
        "\n",
        "prof_view = why.log(df, schema=schema).profile().view()\n",
        "prof_view.to_pandas()\n"
      ]
    }
  ],
  "metadata": {
    "kernelspec": {
      "display_name": "Python 3.9.5 ('base')",
      "language": "python",
      "name": "python3"
    },
    "language_info": {
      "codemirror_mode": {
        "name": "ipython",
        "version": 3
      },
      "file_extension": ".py",
      "mimetype": "text/x-python",
      "name": "python",
      "nbconvert_exporter": "python",
      "pygments_lexer": "ipython3",
      "version": "3.9.5"
    },
    "orig_nbformat": 4,
    "vscode": {
      "interpreter": {
        "hash": "8148c804a5838694570acf40aa3269caeebb6c584d51452dd558e946dfc16d39"
      }
    },
    "colab": {
      "provenance": []
    }
  },
  "nbformat": 4,
  "nbformat_minor": 0
}
