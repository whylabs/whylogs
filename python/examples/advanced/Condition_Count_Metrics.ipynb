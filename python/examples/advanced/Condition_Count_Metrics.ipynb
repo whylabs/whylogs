{
 "cells": [
  {
   "cell_type": "markdown",
   "metadata": {},
   "source": [
    "# Condition Count Metrics"
   ]
  },
  {
   "cell_type": "markdown",
   "metadata": {},
   "source": [
    "[![Open in Colab](https://colab.research.google.com/assets/colab-badge.svg)](https://colab.research.google.com/github/whylabs/whylogs/blob/mainline/python/examples/advanced/Condition_Count_Metrics.ipynb)"
   ]
  },
  {
   "cell_type": "markdown",
   "metadata": {},
   "source": [
    "By default, whylogs tracks several metrics, such as type counts, distribution metrics, cardinality and frequent items. Those are general metrics that are useful for a lot of use cases, but often we need metrics tailored for our application.\n",
    "\n",
    "__Condition Count Metrics__ gives you the flexibility to define your own customized metrics. It will return the results as counters, which is the number of times the condition was met for a given column. With it, you can define conditions such as regex matching for strings, equalities or inequalities for numerical features, and even define your own function to check for any given condition.\n",
    "\n",
    "In this example, we will cover:\n",
    "\n",
    "1. Create metrics for __regex matching__\n",
    "    - Examples: contains email/credit card number (String features)\n",
    "2. Create metrics for __(in)equalities__\n",
    "    - Examples: equal, less, greater, less than, greater than (Numerical features)\n",
    "3. Combining metrics with __logic operators__ (and, or, not)\n",
    "    - Examples: Between range, outside of range, not equal (Numerical features)\n",
    "4. Creating metrics with __custom functions__\n",
    "    - Examples: is even number, is text preprocessed (Any type)\n",
    "5. Going Further: Combining this example with other whylogs' features\n",
    "6. (APPENDIX) Complete code snippets - The complete code snippets (to make it easir to copy and paste)"
   ]
  },
  {
   "cell_type": "markdown",
   "metadata": {},
   "source": [
    "## Installing whylogs and importing modules"
   ]
  },
  {
   "cell_type": "markdown",
   "metadata": {},
   "source": [
    "Uncomment the cell below if you don't have whylogs installed yet:"
   ]
  },
  {
   "cell_type": "code",
   "execution_count": 1,
   "metadata": {},
   "outputs": [],
   "source": [
    "# %pip install whylogs"
   ]
  },
  {
   "cell_type": "markdown",
   "metadata": {},
   "source": [
    "Let's import all the dependencies for this example upfront:"
   ]
  },
  {
   "cell_type": "code",
   "execution_count": 2,
   "metadata": {},
   "outputs": [],
   "source": [
    "import pandas as pd\n",
    "\n",
    "import re\n",
    "from typing import Any, Dict\n",
    "\n",
    "import whylogs as why\n",
    "\n",
    "from whylogs.core.resolvers import Resolver\n",
    "from whylogs.core.schema import ColumnSchema, DatasetSchema\n",
    "from whylogs.core.datatypes import DataType\n",
    "\n",
    "from whylogs.core.metrics import Metric\n",
    "from whylogs.core.metrics.condition_count_metric import (\n",
    "    Condition,\n",
    "    ConditionCountConfig,\n",
    "    ConditionCountMetric,\n",
    ")\n",
    "from whylogs.core.metrics.condition_count_metric import Relation as Rel\n",
    "from whylogs.core.metrics.condition_count_metric import relation as rel\n",
    "from whylogs.core.metrics.condition_count_metric import and_relations as and_rel\n",
    "from whylogs.core.metrics.condition_count_metric import or_relations as or_rel\n",
    "from whylogs.core.metrics.condition_count_metric import not_relation as not_rel\n"
   ]
  },
  {
   "cell_type": "markdown",
   "metadata": {},
   "source": [
    "## 1. Regex Matching"
   ]
  },
  {
   "cell_type": "markdown",
   "metadata": {},
   "source": [
    "Suppose we have textual columns in our data in which we want to make sure certain elements are present / not present.\n",
    "\n",
    "For example, for privacy and security issues, we might be interested in tracking the number of times a credit card number appears on a given column, or if we have sensitive email information in another column.\n",
    "\n",
    "With whylogs, we can define metrics that will count the number of occurences a certain regex pattern is met for a given column."
   ]
  },
  {
   "cell_type": "markdown",
   "metadata": {},
   "source": [
    "### Creating sample dataframe"
   ]
  },
  {
   "cell_type": "markdown",
   "metadata": {},
   "source": [
    "Let's create a simple dataframe.\n",
    "\n",
    "In this scenario, the `emails` column should have only a valid email, nothing else. As for the `trascriptions` column, we want to make sure existing credit card number was properly masked or removed."
   ]
  },
  {
   "cell_type": "code",
   "execution_count": 3,
   "metadata": {},
   "outputs": [],
   "source": [
    "data = {\n",
    "    \"emails\": [\"my email is my_email_1989@gmail.com\",\"invalidEmail@xyz.toolong\",\"this.is.ok@hotmail.com\",\"not an email\"],\n",
    "    \"transcriptions\": [\"Bob's credit card number is 4000000000000\", \"Alice's credit card is XXXXXXXXXXXXX\", \"Hi, my name is Bob\", \"Hi, I'm Alice\"],\n",
    "}\n",
    "df = pd.DataFrame(data=data)"
   ]
  },
  {
   "cell_type": "markdown",
   "metadata": {},
   "source": [
    "whylogs use `Resolvers` in order to define how a column name or data type gets mapped to different metrics.\n",
    "\n",
    "To define our regex-matching constraints, we will create a CustomResolver. In this example, we want only ConditionCountMetrics to be mapped for every column:\n"
   ]
  },
  {
   "cell_type": "code",
   "execution_count": 4,
   "metadata": {},
   "outputs": [],
   "source": [
    "class CustomResolver(Resolver):\n",
    "    def resolve(self, name: str, why_type: DataType, column_schema: ColumnSchema) -> Dict[str, Metric]:\n",
    "        return {\"condition_count\": ConditionCountMetric.zero(column_schema.cfg)}"
   ]
  },
  {
   "cell_type": "markdown",
   "metadata": {},
   "source": [
    "We now have to define the conditions themselves:"
   ]
  },
  {
   "cell_type": "code",
   "execution_count": 5,
   "metadata": {},
   "outputs": [],
   "source": [
    "conditions = {\n",
    "    \"containsEmail\": Condition(rel(Rel.fullmatch, \"[\\w.]+[\\._]?[a-z0-9]+[@]\\w+[.]\\w{2,3}\")),\n",
    "    \"containsCreditCard\": Condition(rel(Rel.match, \".*4[0-9]{12}(?:[0-9]{3})?\"))\n",
    "}"
   ]
  },
  {
   "cell_type": "markdown",
   "metadata": {},
   "source": [
    "> Note: The regex expressions are for demonstrational purposes only. These expressions are not general - there will be emails and credit cards whose patterns will not be met by the expression."
   ]
  },
  {
   "cell_type": "markdown",
   "metadata": {},
   "source": [
    "In order to define the schema used to track metrics in whylogs, we use a `DatasetSchema`.\n",
    "\n",
    "In a `DatasetSchema`, we have informations such as the resolver used and extra configurations needed.\n",
    "\n",
    "We'll pass our custom resolver as our schema's resolver and also pass the conditions we created as part of our schema's configuration, like this:"
   ]
  },
  {
   "cell_type": "code",
   "execution_count": 6,
   "metadata": {},
   "outputs": [],
   "source": [
    "config = ConditionCountConfig(conditions=conditions)\n",
    "resolver = CustomResolver()\n",
    "schema = DatasetSchema(default_configs=config, resolvers=resolver)"
   ]
  },
  {
   "cell_type": "markdown",
   "metadata": {},
   "source": [
    "Now, we only need to pass our schema when logging our data. Let's also take a look at the metrics, to make sure everythins was tracked correctly:"
   ]
  },
  {
   "cell_type": "code",
   "execution_count": 7,
   "metadata": {},
   "outputs": [
    {
     "data": {
      "text/html": [
       "<div>\n",
       "<style scoped>\n",
       "    .dataframe tbody tr th:only-of-type {\n",
       "        vertical-align: middle;\n",
       "    }\n",
       "\n",
       "    .dataframe tbody tr th {\n",
       "        vertical-align: top;\n",
       "    }\n",
       "\n",
       "    .dataframe thead th {\n",
       "        text-align: right;\n",
       "    }\n",
       "</style>\n",
       "<table border=\"1\" class=\"dataframe\">\n",
       "  <thead>\n",
       "    <tr style=\"text-align: right;\">\n",
       "      <th></th>\n",
       "      <th>condition_count/containsCreditCard</th>\n",
       "      <th>condition_count/containsEmail</th>\n",
       "      <th>condition_count/total</th>\n",
       "      <th>type</th>\n",
       "    </tr>\n",
       "    <tr>\n",
       "      <th>column</th>\n",
       "      <th></th>\n",
       "      <th></th>\n",
       "      <th></th>\n",
       "      <th></th>\n",
       "    </tr>\n",
       "  </thead>\n",
       "  <tbody>\n",
       "    <tr>\n",
       "      <th>emails</th>\n",
       "      <td>0</td>\n",
       "      <td>1</td>\n",
       "      <td>4</td>\n",
       "      <td>SummaryType.COLUMN</td>\n",
       "    </tr>\n",
       "    <tr>\n",
       "      <th>transcriptions</th>\n",
       "      <td>1</td>\n",
       "      <td>0</td>\n",
       "      <td>4</td>\n",
       "      <td>SummaryType.COLUMN</td>\n",
       "    </tr>\n",
       "  </tbody>\n",
       "</table>\n",
       "</div>"
      ],
      "text/plain": [
       "                condition_count/containsCreditCard  \\\n",
       "column                                               \n",
       "emails                                           0   \n",
       "transcriptions                                   1   \n",
       "\n",
       "                condition_count/containsEmail  condition_count/total  \\\n",
       "column                                                                 \n",
       "emails                                      1                      4   \n",
       "transcriptions                              0                      4   \n",
       "\n",
       "                              type  \n",
       "column                              \n",
       "emails          SummaryType.COLUMN  \n",
       "transcriptions  SummaryType.COLUMN  "
      ]
     },
     "execution_count": 7,
     "metadata": {},
     "output_type": "execute_result"
    }
   ],
   "source": [
    "prof_view = why.log(df, schema=schema).profile().view()\n",
    "prof_view.to_pandas()"
   ]
  },
  {
   "cell_type": "markdown",
   "metadata": {},
   "source": [
    "Let's check the numbers:\n",
    "\n",
    "For `emails` feature, only one occurence was met for `containsEmail`. That is expected, because the only valid row is the third one (\"this.is.ok@hotmail.com\"). Others either don't contain an email, are invalid emails or have extra text that are not an email (note we're using `fullmatch` as Relation for the email condition).\n",
    "\n",
    "For `transcriptions` column, we also have only one match. That is well, since only the first row has a match with the given pattern, and others either don't have a credit card number or are properly \"hidden\". Note that in this case we want to check for the pattern inside a broader text, so we're using `.*` before the pattern, so the text doesn't have to start with the pattern (whylogs' `Rel.match` uses python's `re.compile().match()` under the hood.)\n",
    "\n",
    "The available relations for regex matching are the ones used in this example:\n",
    "\n",
    "- `match`\n",
    "- `fullmatch`"
   ]
  },
  {
   "cell_type": "markdown",
   "metadata": {},
   "source": [
    "## 2. Numerical Equalities and Inequalities"
   ]
  },
  {
   "cell_type": "markdown",
   "metadata": {},
   "source": [
    "For this one, let's create integer and floats columns:"
   ]
  },
  {
   "cell_type": "code",
   "execution_count": 8,
   "metadata": {},
   "outputs": [],
   "source": [
    "data = {\n",
    "    \"ints\": [1,12,42,4],\n",
    "    \"floats\": [1.2, 12.3, 42.2, 4.8]\n",
    "\n",
    "}\n",
    "df = pd.DataFrame(data=data)"
   ]
  },
  {
   "cell_type": "markdown",
   "metadata": {},
   "source": [
    "As before, we want to create a `CustomResolver`, set our conditions and pass both to a `DatasetSchema`:"
   ]
  },
  {
   "cell_type": "code",
   "execution_count": 9,
   "metadata": {},
   "outputs": [],
   "source": [
    "class CustomResolver(Resolver):\n",
    "    def resolve(self, name: str, why_type: DataType, column_schema: ColumnSchema) -> Dict[str, Metric]:\n",
    "        return {\"condition_count\": ConditionCountMetric.zero(column_schema.cfg)}\n",
    "\n",
    "conditions = {\n",
    "    \"equals42\": Condition(rel(Rel.equal, 42)),\n",
    "    \"equals42.2\": Condition(rel(Rel.equal, 42.2)),\n",
    "    \"lessthan5\": Condition(rel(Rel.less, 5)),\n",
    "    \"morethan40\": Condition(rel(Rel.greater, 40)),\n",
    "}\n",
    "\n",
    "config = ConditionCountConfig(conditions=conditions)\n",
    "resolver = CustomResolver()\n",
    "schema = DatasetSchema(default_configs=config, resolvers=resolver)\n",
    "\n"
   ]
  },
  {
   "cell_type": "markdown",
   "metadata": {},
   "source": [
    "Let's log and check the metrics:"
   ]
  },
  {
   "cell_type": "code",
   "execution_count": 10,
   "metadata": {},
   "outputs": [
    {
     "data": {
      "text/html": [
       "<div>\n",
       "<style scoped>\n",
       "    .dataframe tbody tr th:only-of-type {\n",
       "        vertical-align: middle;\n",
       "    }\n",
       "\n",
       "    .dataframe tbody tr th {\n",
       "        vertical-align: top;\n",
       "    }\n",
       "\n",
       "    .dataframe thead th {\n",
       "        text-align: right;\n",
       "    }\n",
       "</style>\n",
       "<table border=\"1\" class=\"dataframe\">\n",
       "  <thead>\n",
       "    <tr style=\"text-align: right;\">\n",
       "      <th></th>\n",
       "      <th>condition_count/equals42</th>\n",
       "      <th>condition_count/equals42.2</th>\n",
       "      <th>condition_count/lessthan5</th>\n",
       "      <th>condition_count/morethan40</th>\n",
       "      <th>condition_count/total</th>\n",
       "      <th>type</th>\n",
       "    </tr>\n",
       "    <tr>\n",
       "      <th>column</th>\n",
       "      <th></th>\n",
       "      <th></th>\n",
       "      <th></th>\n",
       "      <th></th>\n",
       "      <th></th>\n",
       "      <th></th>\n",
       "    </tr>\n",
       "  </thead>\n",
       "  <tbody>\n",
       "    <tr>\n",
       "      <th>floats</th>\n",
       "      <td>0</td>\n",
       "      <td>1</td>\n",
       "      <td>2</td>\n",
       "      <td>1</td>\n",
       "      <td>4</td>\n",
       "      <td>SummaryType.COLUMN</td>\n",
       "    </tr>\n",
       "    <tr>\n",
       "      <th>ints</th>\n",
       "      <td>1</td>\n",
       "      <td>0</td>\n",
       "      <td>2</td>\n",
       "      <td>1</td>\n",
       "      <td>4</td>\n",
       "      <td>SummaryType.COLUMN</td>\n",
       "    </tr>\n",
       "  </tbody>\n",
       "</table>\n",
       "</div>"
      ],
      "text/plain": [
       "        condition_count/equals42  condition_count/equals42.2  \\\n",
       "column                                                         \n",
       "floats                         0                           1   \n",
       "ints                           1                           0   \n",
       "\n",
       "        condition_count/lessthan5  condition_count/morethan40  \\\n",
       "column                                                          \n",
       "floats                          2                           1   \n",
       "ints                            2                           1   \n",
       "\n",
       "        condition_count/total                type  \n",
       "column                                             \n",
       "floats                      4  SummaryType.COLUMN  \n",
       "ints                        4  SummaryType.COLUMN  "
      ]
     },
     "execution_count": 10,
     "metadata": {},
     "output_type": "execute_result"
    }
   ],
   "source": [
    "prof_view = why.log(df, schema=schema).profile().view()\n",
    "prof_view.to_pandas()"
   ]
  },
  {
   "cell_type": "markdown",
   "metadata": {},
   "source": [
    "We can simply check the original data to verify that the metrics are correct.\n",
    "\n",
    "We used `equal`, `less` and `greater` in this example, but here's the complete list of available relations:\n",
    "\n",
    "- `equal` - equal to\n",
    "- `less` - less than\n",
    "- `leq` - less than or equal to\n",
    "- `greater` - greater than\n",
    "- `geq` - greater than or equal to\n",
    "- `neq` - not equal to\n"
   ]
  },
  {
   "cell_type": "markdown",
   "metadata": {},
   "source": [
    "## 3. Combining metrics with logical operators - AND, OR, NOT"
   ]
  },
  {
   "cell_type": "markdown",
   "metadata": {},
   "source": [
    "You can also combine relations with logical operators such as __AND__, __OR__ and __NOT__.\n",
    "\n",
    "Let's stick with the numerical features to show how you can combine relations to assemble conditions such as:\n",
    "\n",
    "- Value is between a certain range\n",
    "- Value is outside a certin range\n",
    "- Value is NOT a certain number"
   ]
  },
  {
   "cell_type": "code",
   "execution_count": 11,
   "metadata": {},
   "outputs": [
    {
     "data": {
      "text/html": [
       "<div>\n",
       "<style scoped>\n",
       "    .dataframe tbody tr th:only-of-type {\n",
       "        vertical-align: middle;\n",
       "    }\n",
       "\n",
       "    .dataframe tbody tr th {\n",
       "        vertical-align: top;\n",
       "    }\n",
       "\n",
       "    .dataframe thead th {\n",
       "        text-align: right;\n",
       "    }\n",
       "</style>\n",
       "<table border=\"1\" class=\"dataframe\">\n",
       "  <thead>\n",
       "    <tr style=\"text-align: right;\">\n",
       "      <th></th>\n",
       "      <th>condition_count/between10and50</th>\n",
       "      <th>condition_count/not_42</th>\n",
       "      <th>condition_count/outside10and50</th>\n",
       "      <th>condition_count/total</th>\n",
       "      <th>type</th>\n",
       "    </tr>\n",
       "    <tr>\n",
       "      <th>column</th>\n",
       "      <th></th>\n",
       "      <th></th>\n",
       "      <th></th>\n",
       "      <th></th>\n",
       "      <th></th>\n",
       "    </tr>\n",
       "  </thead>\n",
       "  <tbody>\n",
       "    <tr>\n",
       "      <th>floats</th>\n",
       "      <td>2</td>\n",
       "      <td>4</td>\n",
       "      <td>2</td>\n",
       "      <td>4</td>\n",
       "      <td>SummaryType.COLUMN</td>\n",
       "    </tr>\n",
       "    <tr>\n",
       "      <th>ints</th>\n",
       "      <td>2</td>\n",
       "      <td>3</td>\n",
       "      <td>2</td>\n",
       "      <td>4</td>\n",
       "      <td>SummaryType.COLUMN</td>\n",
       "    </tr>\n",
       "  </tbody>\n",
       "</table>\n",
       "</div>"
      ],
      "text/plain": [
       "        condition_count/between10and50  condition_count/not_42  \\\n",
       "column                                                           \n",
       "floats                               2                       4   \n",
       "ints                                 2                       3   \n",
       "\n",
       "        condition_count/outside10and50  condition_count/total  \\\n",
       "column                                                          \n",
       "floats                               2                      4   \n",
       "ints                                 2                      4   \n",
       "\n",
       "                      type  \n",
       "column                      \n",
       "floats  SummaryType.COLUMN  \n",
       "ints    SummaryType.COLUMN  "
      ]
     },
     "execution_count": 11,
     "metadata": {},
     "output_type": "execute_result"
    }
   ],
   "source": [
    "class CustomResolver(Resolver):\n",
    "    def resolve(self, name: str, why_type: DataType, column_schema: ColumnSchema) -> Dict[str, Metric]:\n",
    "        return {\"condition_count\": ConditionCountMetric.zero(column_schema.cfg)}\n",
    "\n",
    "conditions = {\n",
    "    \"between10and50\": Condition(and_rel(rel(Rel.greater, 10), rel(Rel.less, 50))),\n",
    "    \"outside10and50\": Condition(or_rel(rel(Rel.less, 10), rel(Rel.greater, 50))),\n",
    "    \"not_42\": Condition(not_rel(rel(Rel.equal, 42))),\n",
    "}\n",
    "\n",
    "config = ConditionCountConfig(conditions=conditions)\n",
    "resolver = CustomResolver()\n",
    "schema = DatasetSchema(default_configs=config, resolvers=resolver)\n",
    "\n",
    "\n",
    "prof_view = why.log(df, schema=schema).profile().view()\n",
    "prof_view.to_pandas()\n"
   ]
  },
  {
   "cell_type": "markdown",
   "metadata": {},
   "source": [
    "Available logical operators are:\n",
    "- `and_rel`\n",
    "- `or_rel`\n",
    "- `not_rel`\n",
    "\n",
    "Even though we showed these operators with numerical features, this also works with regex matching conditions shown previously."
   ]
  },
  {
   "cell_type": "markdown",
   "metadata": {},
   "source": [
    "## 4. Custom Condition with User-defined functions"
   ]
  },
  {
   "cell_type": "markdown",
   "metadata": {},
   "source": [
    "If none of the previously conditions are suited to your use case, you are free to define your own custom function to create your own metrics.\n",
    "\n",
    "Let's see a simple example: suppose we want to check if a certain number is even.\n",
    "\n",
    "We can define a `is_even` function, as simple as:"
   ]
  },
  {
   "cell_type": "code",
   "execution_count": 12,
   "metadata": {},
   "outputs": [],
   "source": [
    "def is_even(x: Any) -> bool:\n",
    "    return x % 2 == 0"
   ]
  },
  {
   "cell_type": "markdown",
   "metadata": {},
   "source": [
    "And then we proceed as usual, defining our resolver and conditions.\n",
    "\n",
    "We only have to pass the name of the function to `conditions` as a `Condition` object, like below:"
   ]
  },
  {
   "cell_type": "code",
   "execution_count": 13,
   "metadata": {},
   "outputs": [
    {
     "data": {
      "text/html": [
       "<div>\n",
       "<style scoped>\n",
       "    .dataframe tbody tr th:only-of-type {\n",
       "        vertical-align: middle;\n",
       "    }\n",
       "\n",
       "    .dataframe tbody tr th {\n",
       "        vertical-align: top;\n",
       "    }\n",
       "\n",
       "    .dataframe thead th {\n",
       "        text-align: right;\n",
       "    }\n",
       "</style>\n",
       "<table border=\"1\" class=\"dataframe\">\n",
       "  <thead>\n",
       "    <tr style=\"text-align: right;\">\n",
       "      <th></th>\n",
       "      <th>condition_count/isEven</th>\n",
       "      <th>condition_count/total</th>\n",
       "      <th>type</th>\n",
       "    </tr>\n",
       "    <tr>\n",
       "      <th>column</th>\n",
       "      <th></th>\n",
       "      <th></th>\n",
       "      <th></th>\n",
       "    </tr>\n",
       "  </thead>\n",
       "  <tbody>\n",
       "    <tr>\n",
       "      <th>floats</th>\n",
       "      <td>0</td>\n",
       "      <td>4</td>\n",
       "      <td>SummaryType.COLUMN</td>\n",
       "    </tr>\n",
       "    <tr>\n",
       "      <th>ints</th>\n",
       "      <td>3</td>\n",
       "      <td>4</td>\n",
       "      <td>SummaryType.COLUMN</td>\n",
       "    </tr>\n",
       "  </tbody>\n",
       "</table>\n",
       "</div>"
      ],
      "text/plain": [
       "        condition_count/isEven  condition_count/total                type\n",
       "column                                                                   \n",
       "floats                       0                      4  SummaryType.COLUMN\n",
       "ints                         3                      4  SummaryType.COLUMN"
      ]
     },
     "execution_count": 13,
     "metadata": {},
     "output_type": "execute_result"
    }
   ],
   "source": [
    "class CustomResolver(Resolver):\n",
    "    def resolve(self, name: str, why_type: DataType, column_schema: ColumnSchema) -> Dict[str, Metric]:\n",
    "        return {\"condition_count\": ConditionCountMetric.zero(column_schema.cfg)}\n",
    "\n",
    "conditions = {\n",
    "    \"isEven\": Condition(is_even),\n",
    "}\n",
    "\n",
    "config = ConditionCountConfig(conditions=conditions)\n",
    "resolver = CustomResolver()\n",
    "schema = DatasetSchema(default_configs=config, resolvers=resolver)\n",
    "\n",
    "\n",
    "prof_view = why.log(df, schema=schema).profile().view()\n",
    "prof_view.to_pandas()\n"
   ]
  },
  {
   "cell_type": "markdown",
   "metadata": {},
   "source": [
    "### NLP example"
   ]
  },
  {
   "cell_type": "markdown",
   "metadata": {},
   "source": [
    "For user-defined functions, the sky's the limit for what you can do.\n",
    "\n",
    "Let's think of another simple cenario for NLP. Suppose our model assumes text to be a certain way. Maybe it was trained and expects:\n",
    "\n",
    "- lowercased characters\n",
    "- no digits\n",
    "- no stopwords"
   ]
  },
  {
   "cell_type": "markdown",
   "metadata": {},
   "source": [
    "Let's check these conditions for the data below:"
   ]
  },
  {
   "cell_type": "code",
   "execution_count": 14,
   "metadata": {},
   "outputs": [],
   "source": [
    "data = {\n",
    "    \"trasncriptions\": [\"I AM BOB AND I LIKE TO SCREAM\",\"i am bob\",\"am alice and am xx years old\",\"am bob and am 42 years old\"],\n",
    "    \"ints\": [0,1,2,3],\n",
    "}\n",
    "df = pd.DataFrame(data=data)"
   ]
  },
  {
   "cell_type": "markdown",
   "metadata": {},
   "source": [
    "Once again, let's define our function:"
   ]
  },
  {
   "cell_type": "code",
   "execution_count": 15,
   "metadata": {},
   "outputs": [],
   "source": [
    "def ispreprocessed(x: Any) -> bool:\n",
    "    stopwords = [\"i\", \"me\", \"myself\"]\n",
    "    if not isinstance(x, str):\n",
    "        return False\n",
    "    \n",
    "    # should have only lowercase letters and space (no digits)\n",
    "    if not all(c.islower() or c.isspace() for c in x):\n",
    "        return False\n",
    "    # should not contain any words in our stopwords list\n",
    "    if any(c in stopwords for c in x.split()):\n",
    "        return False\n",
    "    return True"
   ]
  },
  {
   "cell_type": "markdown",
   "metadata": {},
   "source": [
    "> Since this is an example, our `stopwords` list is only a placeholder for the real thing."
   ]
  },
  {
   "cell_type": "markdown",
   "metadata": {},
   "source": [
    "The rest is the same as before:"
   ]
  },
  {
   "cell_type": "code",
   "execution_count": 16,
   "metadata": {},
   "outputs": [
    {
     "data": {
      "text/html": [
       "<div>\n",
       "<style scoped>\n",
       "    .dataframe tbody tr th:only-of-type {\n",
       "        vertical-align: middle;\n",
       "    }\n",
       "\n",
       "    .dataframe tbody tr th {\n",
       "        vertical-align: top;\n",
       "    }\n",
       "\n",
       "    .dataframe thead th {\n",
       "        text-align: right;\n",
       "    }\n",
       "</style>\n",
       "<table border=\"1\" class=\"dataframe\">\n",
       "  <thead>\n",
       "    <tr style=\"text-align: right;\">\n",
       "      <th></th>\n",
       "      <th>condition_count/isPreprocessed</th>\n",
       "      <th>condition_count/total</th>\n",
       "      <th>type</th>\n",
       "    </tr>\n",
       "    <tr>\n",
       "      <th>column</th>\n",
       "      <th></th>\n",
       "      <th></th>\n",
       "      <th></th>\n",
       "    </tr>\n",
       "  </thead>\n",
       "  <tbody>\n",
       "    <tr>\n",
       "      <th>ints</th>\n",
       "      <td>0</td>\n",
       "      <td>4</td>\n",
       "      <td>SummaryType.COLUMN</td>\n",
       "    </tr>\n",
       "    <tr>\n",
       "      <th>trasncriptions</th>\n",
       "      <td>1</td>\n",
       "      <td>4</td>\n",
       "      <td>SummaryType.COLUMN</td>\n",
       "    </tr>\n",
       "  </tbody>\n",
       "</table>\n",
       "</div>"
      ],
      "text/plain": [
       "                condition_count/isPreprocessed  condition_count/total  \\\n",
       "column                                                                  \n",
       "ints                                         0                      4   \n",
       "trasncriptions                               1                      4   \n",
       "\n",
       "                              type  \n",
       "column                              \n",
       "ints            SummaryType.COLUMN  \n",
       "trasncriptions  SummaryType.COLUMN  "
      ]
     },
     "execution_count": 16,
     "metadata": {},
     "output_type": "execute_result"
    }
   ],
   "source": [
    "class CustomResolver(Resolver):\n",
    "    def resolve(self, name: str, why_type: DataType, column_schema: ColumnSchema) -> Dict[str, Metric]:\n",
    "        return {\"condition_count\": ConditionCountMetric.zero(column_schema.cfg)}\n",
    "\n",
    "conditions = {\n",
    "    \"isPreprocessed\": Condition(ispreprocessed),\n",
    "}\n",
    "\n",
    "config = ConditionCountConfig(conditions=conditions)\n",
    "resolver = CustomResolver()\n",
    "schema = DatasetSchema(default_configs=config, resolvers=resolver)\n",
    "\n",
    "\n",
    "prof_view = why.log(df, schema=schema).profile().view()\n",
    "prof_view.to_pandas()\n"
   ]
  },
  {
   "cell_type": "markdown",
   "metadata": {},
   "source": [
    "For the `transcriptions` feature, we can see that only the second row is properly preprocessed (\"am alice and am xx years old\"). The first one contained uppercase characters, the third contained a stopword and the last one contained digits. For the integers column, isPreprocessed returns 0, since it's not a string value. "
   ]
  },
  {
   "cell_type": "markdown",
   "metadata": {},
   "source": [
    "## 5. Going Further"
   ]
  },
  {
   "cell_type": "markdown",
   "metadata": {},
   "source": [
    "You can combine this example with other whylogs' features to cover even more scenarios.\n",
    "\n",
    "Here are some pointers for some possible use cases:\n",
    "\n",
    "- I want to track other types of metrics, not only Condition Counts!\n",
    "    - Check the [Schema Configuration](https://whylogs.readthedocs.io/en/stable/examples/basic/Schema_Configuration.html) example!\n",
    "- Ok, I have counters. What now?\n",
    "    - You can set constraints (such as `containsCreditCardNumber` should always be 0). Check the [Metric Constraints](https://whylogs.readthedocs.io/en/stable/examples/basic/Metric_Constraints.html) example!\n",
    "    - You can store it locally or on S3 for future inspection - Check the [Writing Profiles](https://whylogs.readthedocs.io/en/stable/examples/integrations/writers/Writing_Profiles.html) example!\n",
    "    - You can send your profiles to a monitoring platform, such as WhyLabs - Check the [Writing Profiles to WhyLabs](https://whylogs.readthedocs.io/en/stable/examples/integrations/writers/Writing_to_WhyLabs.html) example!"
   ]
  },
  {
   "cell_type": "markdown",
   "metadata": {},
   "source": [
    "## Appendix - Complete Code Snippets"
   ]
  },
  {
   "cell_type": "markdown",
   "metadata": {},
   "source": [
    "Here are the complete code snippets - just to make it easier to copy/paste!"
   ]
  },
  {
   "cell_type": "markdown",
   "metadata": {},
   "source": [
    "### Regex example"
   ]
  },
  {
   "cell_type": "code",
   "execution_count": 17,
   "metadata": {},
   "outputs": [
    {
     "data": {
      "text/html": [
       "<div>\n",
       "<style scoped>\n",
       "    .dataframe tbody tr th:only-of-type {\n",
       "        vertical-align: middle;\n",
       "    }\n",
       "\n",
       "    .dataframe tbody tr th {\n",
       "        vertical-align: top;\n",
       "    }\n",
       "\n",
       "    .dataframe thead th {\n",
       "        text-align: right;\n",
       "    }\n",
       "</style>\n",
       "<table border=\"1\" class=\"dataframe\">\n",
       "  <thead>\n",
       "    <tr style=\"text-align: right;\">\n",
       "      <th></th>\n",
       "      <th>condition_count/containsCreditCard</th>\n",
       "      <th>condition_count/containsEmail</th>\n",
       "      <th>condition_count/total</th>\n",
       "      <th>type</th>\n",
       "    </tr>\n",
       "    <tr>\n",
       "      <th>column</th>\n",
       "      <th></th>\n",
       "      <th></th>\n",
       "      <th></th>\n",
       "      <th></th>\n",
       "    </tr>\n",
       "  </thead>\n",
       "  <tbody>\n",
       "    <tr>\n",
       "      <th>emails</th>\n",
       "      <td>0</td>\n",
       "      <td>1</td>\n",
       "      <td>4</td>\n",
       "      <td>SummaryType.COLUMN</td>\n",
       "    </tr>\n",
       "    <tr>\n",
       "      <th>transcriptions</th>\n",
       "      <td>1</td>\n",
       "      <td>0</td>\n",
       "      <td>4</td>\n",
       "      <td>SummaryType.COLUMN</td>\n",
       "    </tr>\n",
       "  </tbody>\n",
       "</table>\n",
       "</div>"
      ],
      "text/plain": [
       "                condition_count/containsCreditCard  \\\n",
       "column                                               \n",
       "emails                                           0   \n",
       "transcriptions                                   1   \n",
       "\n",
       "                condition_count/containsEmail  condition_count/total  \\\n",
       "column                                                                 \n",
       "emails                                      1                      4   \n",
       "transcriptions                              0                      4   \n",
       "\n",
       "                              type  \n",
       "column                              \n",
       "emails          SummaryType.COLUMN  \n",
       "transcriptions  SummaryType.COLUMN  "
      ]
     },
     "execution_count": 17,
     "metadata": {},
     "output_type": "execute_result"
    }
   ],
   "source": [
    "import pandas as pd\n",
    "\n",
    "import re\n",
    "from typing import Any, Dict\n",
    "\n",
    "import whylogs as why\n",
    "\n",
    "from whylogs.core.resolvers import Resolver\n",
    "from whylogs.core.schema import ColumnSchema, DatasetSchema\n",
    "from whylogs.core.datatypes import DataType\n",
    "\n",
    "from whylogs.core.metrics import Metric\n",
    "from whylogs.core.metrics.condition_count_metric import (\n",
    "    Condition,\n",
    "    ConditionCountConfig,\n",
    "    ConditionCountMetric,\n",
    ")\n",
    "from whylogs.core.metrics.condition_count_metric import Relation as Rel\n",
    "from whylogs.core.metrics.condition_count_metric import relation as rel\n",
    "\n",
    "data = {\n",
    "    \"emails\": [\"my email is my_email_1989@gmail.com\",\"invalidEmail@xyz.toolong\",\"this.is.ok@hotmail.com\",\"not an email\"],\n",
    "    \"transcriptions\": [\"Bob's credit card number is 4000000000000\", \"Alice's credit card is XXXXXXXXXXXXX\", \"Hi, my name is Bob\", \"Hi, I'm Alice\"],\n",
    "}\n",
    "df = pd.DataFrame(data=data)\n",
    "\n",
    "class CustomResolver(Resolver):\n",
    "    def resolve(self, name: str, why_type: DataType, column_schema: ColumnSchema) -> Dict[str, Metric]:\n",
    "        return {\"condition_count\": ConditionCountMetric.zero(column_schema.cfg)}\n",
    "\n",
    "conditions = {\n",
    "    \"containsEmail\": Condition(rel(Rel.fullmatch, \"[\\w.]+[\\._]?[a-z0-9]+[@]\\w+[.]\\w{2,3}\")),\n",
    "    \"containsCreditCard\": Condition(rel(Rel.match, \".*4[0-9]{12}(?:[0-9]{3})?\"))\n",
    "}\n",
    "\n",
    "config = ConditionCountConfig(conditions=conditions)\n",
    "resolver = CustomResolver()\n",
    "schema = DatasetSchema(default_configs=config, resolvers=resolver)\n",
    "\n",
    "prof_view = why.log(df, schema=schema).profile().view()\n",
    "prof_view.to_pandas()"
   ]
  },
  {
   "cell_type": "markdown",
   "metadata": {},
   "source": [
    "### Equalities Example"
   ]
  },
  {
   "cell_type": "code",
   "execution_count": 18,
   "metadata": {},
   "outputs": [
    {
     "data": {
      "text/html": [
       "<div>\n",
       "<style scoped>\n",
       "    .dataframe tbody tr th:only-of-type {\n",
       "        vertical-align: middle;\n",
       "    }\n",
       "\n",
       "    .dataframe tbody tr th {\n",
       "        vertical-align: top;\n",
       "    }\n",
       "\n",
       "    .dataframe thead th {\n",
       "        text-align: right;\n",
       "    }\n",
       "</style>\n",
       "<table border=\"1\" class=\"dataframe\">\n",
       "  <thead>\n",
       "    <tr style=\"text-align: right;\">\n",
       "      <th></th>\n",
       "      <th>condition_count/equals42</th>\n",
       "      <th>condition_count/equals42.2</th>\n",
       "      <th>condition_count/lessthan5</th>\n",
       "      <th>condition_count/morethan40</th>\n",
       "      <th>condition_count/total</th>\n",
       "      <th>type</th>\n",
       "    </tr>\n",
       "    <tr>\n",
       "      <th>column</th>\n",
       "      <th></th>\n",
       "      <th></th>\n",
       "      <th></th>\n",
       "      <th></th>\n",
       "      <th></th>\n",
       "      <th></th>\n",
       "    </tr>\n",
       "  </thead>\n",
       "  <tbody>\n",
       "    <tr>\n",
       "      <th>floats</th>\n",
       "      <td>0</td>\n",
       "      <td>1</td>\n",
       "      <td>2</td>\n",
       "      <td>1</td>\n",
       "      <td>4</td>\n",
       "      <td>SummaryType.COLUMN</td>\n",
       "    </tr>\n",
       "    <tr>\n",
       "      <th>ints</th>\n",
       "      <td>1</td>\n",
       "      <td>0</td>\n",
       "      <td>2</td>\n",
       "      <td>1</td>\n",
       "      <td>4</td>\n",
       "      <td>SummaryType.COLUMN</td>\n",
       "    </tr>\n",
       "  </tbody>\n",
       "</table>\n",
       "</div>"
      ],
      "text/plain": [
       "        condition_count/equals42  condition_count/equals42.2  \\\n",
       "column                                                         \n",
       "floats                         0                           1   \n",
       "ints                           1                           0   \n",
       "\n",
       "        condition_count/lessthan5  condition_count/morethan40  \\\n",
       "column                                                          \n",
       "floats                          2                           1   \n",
       "ints                            2                           1   \n",
       "\n",
       "        condition_count/total                type  \n",
       "column                                             \n",
       "floats                      4  SummaryType.COLUMN  \n",
       "ints                        4  SummaryType.COLUMN  "
      ]
     },
     "execution_count": 18,
     "metadata": {},
     "output_type": "execute_result"
    }
   ],
   "source": [
    "import pandas as pd\n",
    "\n",
    "import re\n",
    "from typing import Any, Dict\n",
    "\n",
    "import whylogs as why\n",
    "\n",
    "from whylogs.core.resolvers import Resolver\n",
    "from whylogs.core.schema import ColumnSchema, DatasetSchema\n",
    "from whylogs.core.datatypes import DataType\n",
    "\n",
    "from whylogs.core.metrics import Metric\n",
    "from whylogs.core.metrics.condition_count_metric import (\n",
    "    Condition,\n",
    "    ConditionCountConfig,\n",
    "    ConditionCountMetric,\n",
    ")\n",
    "from whylogs.core.metrics.condition_count_metric import Relation as Rel\n",
    "from whylogs.core.metrics.condition_count_metric import relation as rel\n",
    "\n",
    "data = {\n",
    "    \"ints\": [1,12,42,4],\n",
    "    \"floats\": [1.2, 12.3, 42.2, 4.8]\n",
    "\n",
    "}\n",
    "df = pd.DataFrame(data=data)\n",
    "\n",
    "class CustomResolver(Resolver):\n",
    "    def resolve(self, name: str, why_type: DataType, column_schema: ColumnSchema) -> Dict[str, Metric]:\n",
    "        return {\"condition_count\": ConditionCountMetric.zero(column_schema.cfg)}\n",
    "\n",
    "conditions = {\n",
    "    \"equals42\": Condition(rel(Rel.equal, 42)),\n",
    "    \"equals42.2\": Condition(rel(Rel.equal, 42.2)),\n",
    "    \"lessthan5\": Condition(rel(Rel.less, 5)),\n",
    "    \"morethan40\": Condition(rel(Rel.greater, 40)),\n",
    "}\n",
    "\n",
    "config = ConditionCountConfig(conditions=conditions)\n",
    "resolver = CustomResolver()\n",
    "schema = DatasetSchema(default_configs=config, resolvers=resolver)\n",
    "\n",
    "prof_view = why.log(df, schema=schema).profile().view()\n",
    "prof_view.to_pandas()"
   ]
  },
  {
   "cell_type": "markdown",
   "metadata": {},
   "source": [
    "### Logical Operators Example"
   ]
  },
  {
   "cell_type": "code",
   "execution_count": 19,
   "metadata": {},
   "outputs": [
    {
     "data": {
      "text/html": [
       "<div>\n",
       "<style scoped>\n",
       "    .dataframe tbody tr th:only-of-type {\n",
       "        vertical-align: middle;\n",
       "    }\n",
       "\n",
       "    .dataframe tbody tr th {\n",
       "        vertical-align: top;\n",
       "    }\n",
       "\n",
       "    .dataframe thead th {\n",
       "        text-align: right;\n",
       "    }\n",
       "</style>\n",
       "<table border=\"1\" class=\"dataframe\">\n",
       "  <thead>\n",
       "    <tr style=\"text-align: right;\">\n",
       "      <th></th>\n",
       "      <th>condition_count/between10and50</th>\n",
       "      <th>condition_count/not_42</th>\n",
       "      <th>condition_count/outside10and50</th>\n",
       "      <th>condition_count/total</th>\n",
       "      <th>type</th>\n",
       "    </tr>\n",
       "    <tr>\n",
       "      <th>column</th>\n",
       "      <th></th>\n",
       "      <th></th>\n",
       "      <th></th>\n",
       "      <th></th>\n",
       "      <th></th>\n",
       "    </tr>\n",
       "  </thead>\n",
       "  <tbody>\n",
       "    <tr>\n",
       "      <th>floats</th>\n",
       "      <td>2</td>\n",
       "      <td>4</td>\n",
       "      <td>2</td>\n",
       "      <td>4</td>\n",
       "      <td>SummaryType.COLUMN</td>\n",
       "    </tr>\n",
       "    <tr>\n",
       "      <th>ints</th>\n",
       "      <td>2</td>\n",
       "      <td>3</td>\n",
       "      <td>2</td>\n",
       "      <td>4</td>\n",
       "      <td>SummaryType.COLUMN</td>\n",
       "    </tr>\n",
       "  </tbody>\n",
       "</table>\n",
       "</div>"
      ],
      "text/plain": [
       "        condition_count/between10and50  condition_count/not_42  \\\n",
       "column                                                           \n",
       "floats                               2                       4   \n",
       "ints                                 2                       3   \n",
       "\n",
       "        condition_count/outside10and50  condition_count/total  \\\n",
       "column                                                          \n",
       "floats                               2                      4   \n",
       "ints                                 2                      4   \n",
       "\n",
       "                      type  \n",
       "column                      \n",
       "floats  SummaryType.COLUMN  \n",
       "ints    SummaryType.COLUMN  "
      ]
     },
     "execution_count": 19,
     "metadata": {},
     "output_type": "execute_result"
    }
   ],
   "source": [
    "import pandas as pd\n",
    "\n",
    "import re\n",
    "from typing import Any, Dict\n",
    "\n",
    "import whylogs as why\n",
    "\n",
    "from whylogs.core.resolvers import Resolver\n",
    "from whylogs.core.schema import ColumnSchema, DatasetSchema\n",
    "from whylogs.core.datatypes import DataType\n",
    "\n",
    "from whylogs.core.metrics import Metric\n",
    "from whylogs.core.metrics.condition_count_metric import (\n",
    "    Condition,\n",
    "    ConditionCountConfig,\n",
    "    ConditionCountMetric,\n",
    ")\n",
    "from whylogs.core.metrics.condition_count_metric import Relation as Rel\n",
    "from whylogs.core.metrics.condition_count_metric import relation as rel\n",
    "\n",
    "from whylogs.core.metrics.condition_count_metric import and_relations as and_rel\n",
    "from whylogs.core.metrics.condition_count_metric import or_relations as or_rel\n",
    "from whylogs.core.metrics.condition_count_metric import not_relation as not_rel\n",
    "\n",
    "data = {\n",
    "    \"ints\": [1,12,42,4],\n",
    "    \"floats\": [1.2, 12.3, 42.2, 4.8]\n",
    "\n",
    "}\n",
    "df = pd.DataFrame(data=data)\n",
    "\n",
    "class CustomResolver(Resolver):\n",
    "    def resolve(self, name: str, why_type: DataType, column_schema: ColumnSchema) -> Dict[str, Metric]:\n",
    "        return {\"condition_count\": ConditionCountMetric.zero(column_schema.cfg)}\n",
    "\n",
    "conditions = {\n",
    "    \"between10and50\": Condition(and_rel(rel(Rel.greater, 10), rel(Rel.less, 50))),\n",
    "    \"outside10and50\": Condition(or_rel(rel(Rel.less, 10), rel(Rel.greater, 50))),\n",
    "    \"not_42\": Condition(not_rel(rel(Rel.equal, 42))),\n",
    "}\n",
    "\n",
    "config = ConditionCountConfig(conditions=conditions)\n",
    "resolver = CustomResolver()\n",
    "schema = DatasetSchema(default_configs=config, resolvers=resolver)\n",
    "\n",
    "\n",
    "prof_view = why.log(df, schema=schema).profile().view()\n",
    "prof_view.to_pandas()\n"
   ]
  },
  {
   "cell_type": "markdown",
   "metadata": {},
   "source": [
    "### User-defined function  - isEven"
   ]
  },
  {
   "cell_type": "code",
   "execution_count": 20,
   "metadata": {},
   "outputs": [
    {
     "data": {
      "text/html": [
       "<div>\n",
       "<style scoped>\n",
       "    .dataframe tbody tr th:only-of-type {\n",
       "        vertical-align: middle;\n",
       "    }\n",
       "\n",
       "    .dataframe tbody tr th {\n",
       "        vertical-align: top;\n",
       "    }\n",
       "\n",
       "    .dataframe thead th {\n",
       "        text-align: right;\n",
       "    }\n",
       "</style>\n",
       "<table border=\"1\" class=\"dataframe\">\n",
       "  <thead>\n",
       "    <tr style=\"text-align: right;\">\n",
       "      <th></th>\n",
       "      <th>condition_count/isEven</th>\n",
       "      <th>condition_count/isPreprocessed</th>\n",
       "      <th>condition_count/total</th>\n",
       "      <th>type</th>\n",
       "    </tr>\n",
       "    <tr>\n",
       "      <th>column</th>\n",
       "      <th></th>\n",
       "      <th></th>\n",
       "      <th></th>\n",
       "      <th></th>\n",
       "    </tr>\n",
       "  </thead>\n",
       "  <tbody>\n",
       "    <tr>\n",
       "      <th>floats</th>\n",
       "      <td>0</td>\n",
       "      <td>0</td>\n",
       "      <td>4</td>\n",
       "      <td>SummaryType.COLUMN</td>\n",
       "    </tr>\n",
       "    <tr>\n",
       "      <th>ints</th>\n",
       "      <td>3</td>\n",
       "      <td>0</td>\n",
       "      <td>4</td>\n",
       "      <td>SummaryType.COLUMN</td>\n",
       "    </tr>\n",
       "    <tr>\n",
       "      <th>trasncriptions</th>\n",
       "      <td>0</td>\n",
       "      <td>1</td>\n",
       "      <td>4</td>\n",
       "      <td>SummaryType.COLUMN</td>\n",
       "    </tr>\n",
       "  </tbody>\n",
       "</table>\n",
       "</div>"
      ],
      "text/plain": [
       "                condition_count/isEven  condition_count/isPreprocessed  \\\n",
       "column                                                                   \n",
       "floats                               0                               0   \n",
       "ints                                 3                               0   \n",
       "trasncriptions                       0                               1   \n",
       "\n",
       "                condition_count/total                type  \n",
       "column                                                     \n",
       "floats                              4  SummaryType.COLUMN  \n",
       "ints                                4  SummaryType.COLUMN  \n",
       "trasncriptions                      4  SummaryType.COLUMN  "
      ]
     },
     "execution_count": 20,
     "metadata": {},
     "output_type": "execute_result"
    }
   ],
   "source": [
    "import pandas as pd\n",
    "\n",
    "import re\n",
    "from typing import Any, Dict\n",
    "\n",
    "import whylogs as why\n",
    "\n",
    "from whylogs.core.resolvers import Resolver\n",
    "from whylogs.core.schema import ColumnSchema, DatasetSchema\n",
    "from whylogs.core.datatypes import DataType\n",
    "\n",
    "from whylogs.core.metrics import Metric\n",
    "from whylogs.core.metrics.condition_count_metric import (\n",
    "    Condition,\n",
    "    ConditionCountConfig,\n",
    "    ConditionCountMetric,\n",
    ")\n",
    "from whylogs.core.metrics.condition_count_metric import Relation as Rel\n",
    "from whylogs.core.metrics.condition_count_metric import relation as rel\n",
    "\n",
    "def is_even(x: Any) -> bool:\n",
    "    return x % 2 == 0\n",
    "\n",
    "def ispreprocessed(x: Any) -> bool:\n",
    "    stopwords = [\"i\", \"me\", \"myself\"]\n",
    "    if not isinstance(x, str):\n",
    "        return False\n",
    "    \n",
    "    # should have only lowercase letters and space (no digits)\n",
    "    if not all(c.islower() or c.isspace() for c in x):\n",
    "        return False\n",
    "    # should not contain any words in our stopwords list\n",
    "    if any(c in stopwords for c in x.split()):\n",
    "        return False\n",
    "    return True\n",
    "\n",
    "data = {\n",
    "    \"trasncriptions\": [\"I AM BOB AND I LIKE TO SCREAM\",\"i am bob\",\"am alice and am xx years old\",\"am bob and am 42 years old\"],\n",
    "    \"ints\": [1,12,42,4],\n",
    "    \"floats\": [1.2, 12.3, 42.2, 4.8]\n",
    "}\n",
    "df = pd.DataFrame(data=data)\n",
    "\n",
    "class CustomResolver(Resolver):\n",
    "    def resolve(self, name: str, why_type: DataType, column_schema: ColumnSchema) -> Dict[str, Metric]:\n",
    "        return {\"condition_count\": ConditionCountMetric.zero(column_schema.cfg)}\n",
    "\n",
    "conditions = {\n",
    "    \"isPreprocessed\": Condition(ispreprocessed),\n",
    "    \"isEven\": Condition(is_even)\n",
    "}\n",
    "\n",
    "config = ConditionCountConfig(conditions=conditions)\n",
    "resolver = CustomResolver()\n",
    "schema = DatasetSchema(default_configs=config, resolvers=resolver)\n",
    "\n",
    "\n",
    "prof_view = why.log(df, schema=schema).profile().view()\n",
    "prof_view.to_pandas()\n"
   ]
  }
 ],
 "metadata": {
  "kernelspec": {
   "display_name": "Python 3.8.10 ('.venv': poetry)",
   "language": "python",
   "name": "python3"
  },
  "language_info": {
   "codemirror_mode": {
    "name": "ipython",
    "version": 3
   },
   "file_extension": ".py",
   "mimetype": "text/x-python",
   "name": "python",
   "nbconvert_exporter": "python",
   "pygments_lexer": "ipython3",
   "version": "3.8.10"
  },
  "orig_nbformat": 4,
  "vscode": {
   "interpreter": {
    "hash": "8430e7bcc333486e417258c6fadac662061ebd166d9f3c5ccb12c1968aa41625"
   }
  }
 },
 "nbformat": 4,
 "nbformat_minor": 2
}
