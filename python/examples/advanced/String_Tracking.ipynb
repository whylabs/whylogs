{
 "cells": [
  {
   "cell_type": "markdown",
   "metadata": {},
   "source": [
    ">### 🚩 *Create a free WhyLabs account to get more value out of whylogs!*<br> \n",
    ">*Did you know you can store, visualize, and monitor whylogs profiles with the [WhyLabs Observability Platform](https://whylabs.ai/whylogs-free-signup?utm_source=whylogs-Github&utm_medium=whylogs-example&utm_campaign=String_Tracking)? Sign up for a [free WhyLabs account](https://whylabs.ai/whylogs-free-signup?utm_source=whylogs-Github&utm_medium=whylogs-example&utm_campaign=String_Tracking) to leverage the power of whylogs and WhyLabs together!*"
   ]
  },
  {
   "cell_type": "markdown",
   "metadata": {},
   "source": [
    "# String Tracking - Unicode Range and String Length"
   ]
  },
  {
   "cell_type": "markdown",
   "metadata": {},
   "source": [
    "[![Open in Colab](https://colab.research.google.com/assets/colab-badge.svg)](https://colab.research.google.com/github/whylabs/whylogs/blob/mainline/python/examples/advanced/String_Tracking.ipynb)"
   ]
  },
  {
   "cell_type": "markdown",
   "metadata": {},
   "source": [
    "By default, columns of type `str` will have the following metrics, when logged with whylogs:\n",
    "- Counts\n",
    "- Types\n",
    "- Frequent Items/Frequent Strings\n",
    "- Cardinality"
   ]
  },
  {
   "cell_type": "markdown",
   "metadata": {},
   "source": [
    "In this example, we'll see how you can track further metrics for string columns. We will do that by counting, for each string record, the number of characters that fall in a given unicode range, and then generating distribution metrics, such as `mean`, `stddev` and quantile values based on these counts. In addition to specific unicode ranges, we'll do the same approach, but for the overall string length."
   ]
  },
  {
   "cell_type": "markdown",
   "metadata": {},
   "source": [
    "In this example, we're interested in tracking two specific ranges of characters:\n",
    "- ASCII Digits (unicode range 48-57)\n",
    "- Latin alphabet (unicode range 97-122)"
   ]
  },
  {
   "cell_type": "markdown",
   "metadata": {},
   "source": [
    "For more info on the unicode list of characters, check this [Wikipedia Article](https://en.wikipedia.org/wiki/List_of_Unicode_characters)"
   ]
  },
  {
   "cell_type": "markdown",
   "metadata": {},
   "source": [
    "## Installing whylogs\n",
    "\n",
    "If you haven't already, install whylogs: "
   ]
  },
  {
   "cell_type": "code",
   "execution_count": 1,
   "metadata": {},
   "outputs": [],
   "source": [
    "%pip install whylogs"
   ]
  },
  {
   "cell_type": "markdown",
   "metadata": {},
   "source": [
    "## Creating the Data"
   ]
  },
  {
   "cell_type": "markdown",
   "metadata": {},
   "source": [
    "Let's create a simple dataframe to demonstrate. To better visualize how the metrics work, we'll create 3 columns:\n",
    "- `onlyDigits`: Column of strings that contain only digit characters\n",
    "- `onlyAlpha`: Column of strings that contain only latin letters (no digits)\n",
    "- `mixed`: Column of strings that contain, digits, letters and other types of charachters, like punctuation and symbols"
   ]
  },
  {
   "cell_type": "code",
   "execution_count": 3,
   "metadata": {},
   "outputs": [
    {
     "data": {
      "text/html": [
       "<div>\n",
       "<style scoped>\n",
       "    .dataframe tbody tr th:only-of-type {\n",
       "        vertical-align: middle;\n",
       "    }\n",
       "\n",
       "    .dataframe tbody tr th {\n",
       "        vertical-align: top;\n",
       "    }\n",
       "\n",
       "    .dataframe thead th {\n",
       "        text-align: right;\n",
       "    }\n",
       "</style>\n",
       "<table border=\"1\" class=\"dataframe\">\n",
       "  <thead>\n",
       "    <tr style=\"text-align: right;\">\n",
       "      <th></th>\n",
       "      <th>onlyDigits</th>\n",
       "      <th>onlyAlpha</th>\n",
       "      <th>mixed</th>\n",
       "    </tr>\n",
       "  </thead>\n",
       "  <tbody>\n",
       "    <tr>\n",
       "      <th>0</th>\n",
       "      <td>12</td>\n",
       "      <td>Alice</td>\n",
       "      <td>my_email_1989@gmail.com</td>\n",
       "    </tr>\n",
       "    <tr>\n",
       "      <th>1</th>\n",
       "      <td>83</td>\n",
       "      <td>Bob</td>\n",
       "      <td>ADK-1171</td>\n",
       "    </tr>\n",
       "    <tr>\n",
       "      <th>2</th>\n",
       "      <td>1</td>\n",
       "      <td>Chelsea</td>\n",
       "      <td>Copacabana 272 - Rio de Janeiro</td>\n",
       "    </tr>\n",
       "    <tr>\n",
       "      <th>3</th>\n",
       "      <td>992</td>\n",
       "      <td>Danny</td>\n",
       "      <td>21º C Friday - Sao Paulo, Brasil</td>\n",
       "    </tr>\n",
       "    <tr>\n",
       "      <th>4</th>\n",
       "      <td>7</td>\n",
       "      <td>Eddie</td>\n",
       "      <td>18127819ASW</td>\n",
       "    </tr>\n",
       "  </tbody>\n",
       "</table>\n",
       "</div>"
      ],
      "text/plain": [
       "  onlyDigits onlyAlpha                             mixed\n",
       "0         12     Alice           my_email_1989@gmail.com\n",
       "1         83       Bob                          ADK-1171\n",
       "2          1   Chelsea   Copacabana 272 - Rio de Janeiro\n",
       "3        992     Danny  21º C Friday - Sao Paulo, Brasil\n",
       "4          7     Eddie                       18127819ASW"
      ]
     },
     "execution_count": 3,
     "metadata": {},
     "output_type": "execute_result"
    }
   ],
   "source": [
    "import whylogs as why\n",
    "import pandas as pd\n",
    "data = {\n",
    "    \"onlyDigits\": [\"12\", \"83\", \"1\", \"992\", \"7\"],\n",
    "    \"onlyAlpha\": [\"Alice\", \"Bob\", \"Chelsea\", \"Danny\", \"Eddie\"],\n",
    "    \"mixed\": [\"my_email_1989@gmail.com\",\"ADK-1171\",\"Copacabana 272 - Rio de Janeiro\",\"21º C Friday - Sao Paulo, Brasil\",\"18127819ASW\"]\n",
    "}\n",
    "df = pd.DataFrame(data)\n",
    "df.head()"
   ]
  },
  {
   "cell_type": "markdown",
   "metadata": {},
   "source": [
    "## Configuring the Metrics in the DatasetSchema"
   ]
  },
  {
   "cell_type": "markdown",
   "metadata": {},
   "source": [
    "whylogs uses `Resolvers` in order to define the set of metrics tracked for a column name or data type.\n",
    "In this case, we'll create a custom Resolver to apply the UnicodeRangeMetric to all of the columns.\n",
    "\n",
    "> If you're interested in seeing how you can add or remove different metrics according to the column type or column name, please refer to this example on [Schema Configuration](https://whylogs.readthedocs.io/en/stable/examples/basic/Schema_Configuration.html)\n"
   ]
  },
  {
   "cell_type": "code",
   "execution_count": 5,
   "metadata": {},
   "outputs": [],
   "source": [
    "from whylogs.core.schema import ColumnSchema, DatasetSchema\n",
    "from whylogs.core.metrics.unicode_range import UnicodeRangeMetric\n",
    "from whylogs.core.resolvers import Resolver\n",
    "from whylogs.core.datatypes import DataType\n",
    "from typing import Dict\n",
    "from whylogs.core.metrics import Metric, MetricConfig\n",
    "\n",
    "class UnicodeResolver(Resolver):\n",
    "    def resolve(self, name: str, why_type: DataType, column_schema: ColumnSchema) -> Dict[str, Metric]:\n",
    "        return {UnicodeRangeMetric.get_namespace(column_schema.cfg): UnicodeRangeMetric.zero(column_schema.cfg)}"
   ]
  },
  {
   "cell_type": "markdown",
   "metadata": {},
   "source": [
    "Resolvers are passed to whylogs through a `DatasetSchema`, so we'll have to create a custom Schema as well.\n",
    "\n",
    "We'll just have to:\n",
    "- Pass the UnicodeResolver created previously\n",
    "- Since we're interested in changing the default character ranges, we'll also pass a Metric Configuration with the desired ranges"
   ]
  },
  {
   "cell_type": "code",
   "execution_count": 6,
   "metadata": {},
   "outputs": [],
   "source": [
    "config = MetricConfig(unicode_ranges={\"digits\": (48, 57), \"alpha\": (97, 122)})\n",
    "schema = DatasetSchema(resolvers=UnicodeResolver(), default_configs=config)\n"
   ]
  },
  {
   "cell_type": "markdown",
   "metadata": {},
   "source": [
    "If a default MetricConfig is not passed, it would use the default unicode ranges, which would track the default ranges such as: emoticons, control characters and extended latin. "
   ]
  },
  {
   "cell_type": "markdown",
   "metadata": {},
   "source": [
    "We can now log the dataframe and pass our schema when calling `log`:"
   ]
  },
  {
   "cell_type": "code",
   "execution_count": 7,
   "metadata": {},
   "outputs": [],
   "source": [
    "import whylogs as why\n",
    "\n",
    "prof_results = why.log(df, schema=DatasetSchema(resolvers=UnicodeResolver(), default_configs=MetricConfig(unicode_ranges={\"digits\": (48, 57), \"alpha\": (97, 122)})))\n",
    "prof = prof_results.profile()"
   ]
  },
  {
   "cell_type": "markdown",
   "metadata": {},
   "source": [
    "## Unicode Range and String Length Metrics"
   ]
  },
  {
   "cell_type": "markdown",
   "metadata": {},
   "source": [
    "Let's take a look at the __Profile View__:"
   ]
  },
  {
   "cell_type": "code",
   "execution_count": 8,
   "metadata": {},
   "outputs": [
    {
     "data": {
      "text/html": [
       "<div>\n",
       "<style scoped>\n",
       "    .dataframe tbody tr th:only-of-type {\n",
       "        vertical-align: middle;\n",
       "    }\n",
       "\n",
       "    .dataframe tbody tr th {\n",
       "        vertical-align: top;\n",
       "    }\n",
       "\n",
       "    .dataframe thead th {\n",
       "        text-align: right;\n",
       "    }\n",
       "</style>\n",
       "<table border=\"1\" class=\"dataframe\">\n",
       "  <thead>\n",
       "    <tr style=\"text-align: right;\">\n",
       "      <th></th>\n",
       "      <th>unicode_range/unicode_range/digits/mean</th>\n",
       "      <th>unicode_range/unicode_range/digits/stddev</th>\n",
       "      <th>unicode_range/unicode_range/digits/n</th>\n",
       "      <th>unicode_range/unicode_range/digits/max</th>\n",
       "      <th>unicode_range/unicode_range/digits/min</th>\n",
       "      <th>unicode_range/unicode_range/digits/q_01</th>\n",
       "      <th>unicode_range/unicode_range/digits/q_05</th>\n",
       "      <th>unicode_range/unicode_range/digits/q_10</th>\n",
       "      <th>unicode_range/unicode_range/digits/q_25</th>\n",
       "      <th>unicode_range/unicode_range/digits/median</th>\n",
       "      <th>...</th>\n",
       "      <th>unicode_range/unicode_range/string_length/q_01</th>\n",
       "      <th>unicode_range/unicode_range/string_length/q_05</th>\n",
       "      <th>unicode_range/unicode_range/string_length/q_10</th>\n",
       "      <th>unicode_range/unicode_range/string_length/q_25</th>\n",
       "      <th>unicode_range/unicode_range/string_length/median</th>\n",
       "      <th>unicode_range/unicode_range/string_length/q_75</th>\n",
       "      <th>unicode_range/unicode_range/string_length/q_90</th>\n",
       "      <th>unicode_range/unicode_range/string_length/q_95</th>\n",
       "      <th>unicode_range/unicode_range/string_length/q_99</th>\n",
       "      <th>type</th>\n",
       "    </tr>\n",
       "    <tr>\n",
       "      <th>column</th>\n",
       "      <th></th>\n",
       "      <th></th>\n",
       "      <th></th>\n",
       "      <th></th>\n",
       "      <th></th>\n",
       "      <th></th>\n",
       "      <th></th>\n",
       "      <th></th>\n",
       "      <th></th>\n",
       "      <th></th>\n",
       "      <th></th>\n",
       "      <th></th>\n",
       "      <th></th>\n",
       "      <th></th>\n",
       "      <th></th>\n",
       "      <th></th>\n",
       "      <th></th>\n",
       "      <th></th>\n",
       "      <th></th>\n",
       "      <th></th>\n",
       "      <th></th>\n",
       "    </tr>\n",
       "  </thead>\n",
       "  <tbody>\n",
       "    <tr>\n",
       "      <th>onlyDigits</th>\n",
       "      <td>1.8</td>\n",
       "      <td>0.748331</td>\n",
       "      <td>5</td>\n",
       "      <td>3.0</td>\n",
       "      <td>1.0</td>\n",
       "      <td>1.0</td>\n",
       "      <td>1.0</td>\n",
       "      <td>1.0</td>\n",
       "      <td>1.0</td>\n",
       "      <td>2.0</td>\n",
       "      <td>...</td>\n",
       "      <td>1.0</td>\n",
       "      <td>1.0</td>\n",
       "      <td>1.0</td>\n",
       "      <td>1.0</td>\n",
       "      <td>2.0</td>\n",
       "      <td>2.0</td>\n",
       "      <td>3.0</td>\n",
       "      <td>3.0</td>\n",
       "      <td>3.0</td>\n",
       "      <td>SummaryType.COLUMN</td>\n",
       "    </tr>\n",
       "    <tr>\n",
       "      <th>mixed</th>\n",
       "      <td>4.2</td>\n",
       "      <td>2.039608</td>\n",
       "      <td>5</td>\n",
       "      <td>8.0</td>\n",
       "      <td>2.0</td>\n",
       "      <td>2.0</td>\n",
       "      <td>2.0</td>\n",
       "      <td>2.0</td>\n",
       "      <td>3.0</td>\n",
       "      <td>4.0</td>\n",
       "      <td>...</td>\n",
       "      <td>8.0</td>\n",
       "      <td>8.0</td>\n",
       "      <td>8.0</td>\n",
       "      <td>11.0</td>\n",
       "      <td>23.0</td>\n",
       "      <td>31.0</td>\n",
       "      <td>32.0</td>\n",
       "      <td>32.0</td>\n",
       "      <td>32.0</td>\n",
       "      <td>SummaryType.COLUMN</td>\n",
       "    </tr>\n",
       "    <tr>\n",
       "      <th>onlyAlpha</th>\n",
       "      <td>0.0</td>\n",
       "      <td>0.000000</td>\n",
       "      <td>5</td>\n",
       "      <td>0.0</td>\n",
       "      <td>0.0</td>\n",
       "      <td>0.0</td>\n",
       "      <td>0.0</td>\n",
       "      <td>0.0</td>\n",
       "      <td>0.0</td>\n",
       "      <td>0.0</td>\n",
       "      <td>...</td>\n",
       "      <td>3.0</td>\n",
       "      <td>3.0</td>\n",
       "      <td>3.0</td>\n",
       "      <td>5.0</td>\n",
       "      <td>5.0</td>\n",
       "      <td>5.0</td>\n",
       "      <td>7.0</td>\n",
       "      <td>7.0</td>\n",
       "      <td>7.0</td>\n",
       "      <td>SummaryType.COLUMN</td>\n",
       "    </tr>\n",
       "  </tbody>\n",
       "</table>\n",
       "<p>3 rows × 57 columns</p>\n",
       "</div>"
      ],
      "text/plain": [
       "            unicode_range/unicode_range/digits/mean  \\\n",
       "column                                                \n",
       "onlyDigits                                      1.8   \n",
       "mixed                                           4.2   \n",
       "onlyAlpha                                       0.0   \n",
       "\n",
       "            unicode_range/unicode_range/digits/stddev  \\\n",
       "column                                                  \n",
       "onlyDigits                                   0.748331   \n",
       "mixed                                        2.039608   \n",
       "onlyAlpha                                    0.000000   \n",
       "\n",
       "            unicode_range/unicode_range/digits/n  \\\n",
       "column                                             \n",
       "onlyDigits                                     5   \n",
       "mixed                                          5   \n",
       "onlyAlpha                                      5   \n",
       "\n",
       "            unicode_range/unicode_range/digits/max  \\\n",
       "column                                               \n",
       "onlyDigits                                     3.0   \n",
       "mixed                                          8.0   \n",
       "onlyAlpha                                      0.0   \n",
       "\n",
       "            unicode_range/unicode_range/digits/min  \\\n",
       "column                                               \n",
       "onlyDigits                                     1.0   \n",
       "mixed                                          2.0   \n",
       "onlyAlpha                                      0.0   \n",
       "\n",
       "            unicode_range/unicode_range/digits/q_01  \\\n",
       "column                                                \n",
       "onlyDigits                                      1.0   \n",
       "mixed                                           2.0   \n",
       "onlyAlpha                                       0.0   \n",
       "\n",
       "            unicode_range/unicode_range/digits/q_05  \\\n",
       "column                                                \n",
       "onlyDigits                                      1.0   \n",
       "mixed                                           2.0   \n",
       "onlyAlpha                                       0.0   \n",
       "\n",
       "            unicode_range/unicode_range/digits/q_10  \\\n",
       "column                                                \n",
       "onlyDigits                                      1.0   \n",
       "mixed                                           2.0   \n",
       "onlyAlpha                                       0.0   \n",
       "\n",
       "            unicode_range/unicode_range/digits/q_25  \\\n",
       "column                                                \n",
       "onlyDigits                                      1.0   \n",
       "mixed                                           3.0   \n",
       "onlyAlpha                                       0.0   \n",
       "\n",
       "            unicode_range/unicode_range/digits/median  ...  \\\n",
       "column                                                 ...   \n",
       "onlyDigits                                        2.0  ...   \n",
       "mixed                                             4.0  ...   \n",
       "onlyAlpha                                         0.0  ...   \n",
       "\n",
       "            unicode_range/unicode_range/string_length/q_01  \\\n",
       "column                                                       \n",
       "onlyDigits                                             1.0   \n",
       "mixed                                                  8.0   \n",
       "onlyAlpha                                              3.0   \n",
       "\n",
       "            unicode_range/unicode_range/string_length/q_05  \\\n",
       "column                                                       \n",
       "onlyDigits                                             1.0   \n",
       "mixed                                                  8.0   \n",
       "onlyAlpha                                              3.0   \n",
       "\n",
       "            unicode_range/unicode_range/string_length/q_10  \\\n",
       "column                                                       \n",
       "onlyDigits                                             1.0   \n",
       "mixed                                                  8.0   \n",
       "onlyAlpha                                              3.0   \n",
       "\n",
       "            unicode_range/unicode_range/string_length/q_25  \\\n",
       "column                                                       \n",
       "onlyDigits                                             1.0   \n",
       "mixed                                                 11.0   \n",
       "onlyAlpha                                              5.0   \n",
       "\n",
       "            unicode_range/unicode_range/string_length/median  \\\n",
       "column                                                         \n",
       "onlyDigits                                               2.0   \n",
       "mixed                                                   23.0   \n",
       "onlyAlpha                                                5.0   \n",
       "\n",
       "            unicode_range/unicode_range/string_length/q_75  \\\n",
       "column                                                       \n",
       "onlyDigits                                             2.0   \n",
       "mixed                                                 31.0   \n",
       "onlyAlpha                                              5.0   \n",
       "\n",
       "            unicode_range/unicode_range/string_length/q_90  \\\n",
       "column                                                       \n",
       "onlyDigits                                             3.0   \n",
       "mixed                                                 32.0   \n",
       "onlyAlpha                                              7.0   \n",
       "\n",
       "            unicode_range/unicode_range/string_length/q_95  \\\n",
       "column                                                       \n",
       "onlyDigits                                             3.0   \n",
       "mixed                                                 32.0   \n",
       "onlyAlpha                                              7.0   \n",
       "\n",
       "            unicode_range/unicode_range/string_length/q_99                type  \n",
       "column                                                                          \n",
       "onlyDigits                                             3.0  SummaryType.COLUMN  \n",
       "mixed                                                 32.0  SummaryType.COLUMN  \n",
       "onlyAlpha                                              7.0  SummaryType.COLUMN  \n",
       "\n",
       "[3 rows x 57 columns]"
      ]
     },
     "execution_count": 8,
     "metadata": {},
     "output_type": "execute_result"
    }
   ],
   "source": [
    "profile_view_df = prof.view().to_pandas()\n",
    "profile_view_df"
   ]
  },
  {
   "cell_type": "markdown",
   "metadata": {},
   "source": [
    "You can see there's a lot of different metrics for each of the original dataframe's columns. In the `unicode_range` metric, we'll have additional sub metrics. In this case, we have metrics for:\n",
    "\n",
    "- digits: distribution metrics for characters inside the unicode's digit range\n",
    "- alpha: distribution metrics for characters inside the unicode's lowercase letters range\n",
    "- UNKNOWN: distribution metrics for character that fall anywhere outside the predefined range (digits and alpha)\n",
    "- string_length: distribution metrics for overall string length\n",
    "\n",
    "For each of these submetrics, we have metric components such as:\n",
    "\n",
    "- mean: the calculated mean for the column\n",
    "- stddev: the calculated standard deviation for the column\n",
    "- n: the total number of record for the column\n",
    "- max, min: maximum and minimum values for the column\n",
    "- q_xx: the xx-th quantile value of the data’s distribution\n",
    "- median: the median for the column\n",
    "\n",
    "For instance, let's check the mean for `alpha`"
   ]
  },
  {
   "cell_type": "code",
   "execution_count": 9,
   "metadata": {},
   "outputs": [
    {
     "data": {
      "text/plain": [
       "column\n",
       "onlyDigits     0.0\n",
       "mixed         12.8\n",
       "onlyAlpha      5.0\n",
       "Name: unicode_range/unicode_range/alpha/mean, dtype: float64"
      ]
     },
     "execution_count": 9,
     "metadata": {},
     "output_type": "execute_result"
    }
   ],
   "source": [
    "profile_view_df['unicode_range/unicode_range/alpha/mean']"
   ]
  },
  {
   "cell_type": "markdown",
   "metadata": {},
   "source": [
    "The above values shows a mean of 0 for `onlyDigits` - which is expected, since we don't have any letters in this column, only digits. We also have a mean of 5 for `onlyAlpha`, which will coincide of the string's length mean for the same column, since we only have letters characters in this columns. For `mixed` the mean is 12.8, and we can indeed see that this column has a higher count of letter character than the previous columns."
   ]
  },
  {
   "cell_type": "markdown",
   "metadata": {},
   "source": [
    "> You might notice that, even though we defined the range for only lowercase letters, uppercase characters also are included when calculating the metrics. That happens because the strings are all lowercased during preprocessing before tracking the strings. "
   ]
  },
  {
   "cell_type": "markdown",
   "metadata": {},
   "source": [
    "Let's now check the `UNKNOWN` namespace: "
   ]
  },
  {
   "cell_type": "code",
   "execution_count": 10,
   "metadata": {},
   "outputs": [
    {
     "data": {
      "text/plain": [
       "column\n",
       "onlyDigits     0.0\n",
       "mixed         24.8\n",
       "onlyAlpha      5.0\n",
       "Name: unicode_range/unicode_range/UNKNOWN/mean, dtype: float64"
      ]
     },
     "execution_count": 10,
     "metadata": {},
     "output_type": "execute_result"
    }
   ],
   "source": [
    "profile_view_df['unicode_range/unicode_range/UNKNOWN/mean']"
   ]
  },
  {
   "cell_type": "markdown",
   "metadata": {},
   "source": [
    "Since we have only digits and letters in `onlyDigit` and `onlyAlpha`, there are no characters outside of the defined ranges, yielding means of 0. In the `mixed`, however, this value is non-zero, since there are characters such as `., -, º`, and whitespaces, that are not in any of the predefined ranges."
   ]
  },
  {
   "cell_type": "markdown",
   "metadata": {},
   "source": [
    "The last namespace `string_lenth`, contains metrics for the string's length:"
   ]
  },
  {
   "cell_type": "code",
   "execution_count": 11,
   "metadata": {},
   "outputs": [
    {
     "data": {
      "text/plain": [
       "column\n",
       "onlyDigits    1.0\n",
       "mixed         8.0\n",
       "onlyAlpha     3.0\n",
       "Name: unicode_range/unicode_range/string_length/min, dtype: float64"
      ]
     },
     "execution_count": 11,
     "metadata": {},
     "output_type": "execute_result"
    }
   ],
   "source": [
    "profile_view_df['unicode_range/unicode_range/string_length/min']"
   ]
  },
  {
   "cell_type": "markdown",
   "metadata": {},
   "source": [
    "The `string_length` doesn't take into account any particular range. It containts aggregate metrics for the overall string length of each column. In this case, we're seeing the minimum value for the 3 columns: 1 for `onlyDigits`, 3 for `onlyAlpha` and 8 for `mixed`. Since the dataframe used here is very small, we can easily check the original data and verify that these metrics are indeed correct."
   ]
  },
  {
   "cell_type": "markdown",
   "metadata": {},
   "source": [
    "## Conclusion"
   ]
  },
  {
   "cell_type": "markdown",
   "metadata": {},
   "source": [
    "Feel free to define your own ranges of interest and combine the UnicodeRange metrics with other standard metrics as you see fit!\n",
    "\n",
    "The resulting profiles can be:\n",
    "- merged together\n",
    "- stored locally or in the cloud (AWS' S3)\n",
    "\n",
    "or used for other purposes, such as:\n",
    "- Setting constraints for data quality validation\n",
    "- Visualizing and comparing profiles\n",
    "- Sent to monitoring and observability platforms\n",
    "\n",
    "Be sure to check the other examples at [whylogs' Documentation](https://whylogs.readthedocs.io/en/stable/examples.html)!"
   ]
  }
 ],
 "metadata": {
  "kernelspec": {
   "display_name": "Python 3.8.13 ('v1.x')",
   "language": "python",
   "name": "python3"
  },
  "language_info": {
   "codemirror_mode": {
    "name": "ipython",
    "version": 3
   },
   "file_extension": ".py",
   "mimetype": "text/x-python",
   "name": "python",
   "nbconvert_exporter": "python",
   "pygments_lexer": "ipython3",
   "version": "3.8.13"
  },
  "orig_nbformat": 4,
  "vscode": {
   "interpreter": {
    "hash": "f76ec28949fecf16b926a3fc5a03c1aa6468ee82fa5da4ce6fd607df021af5b5"
   }
  }
 },
 "nbformat": 4,
 "nbformat_minor": 2
}
