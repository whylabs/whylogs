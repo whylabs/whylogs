{
 "cells": [
  {
   "cell_type": "code",
<<<<<<< HEAD
   "execution_count": 31,
=======
   "execution_count": 37,
>>>>>>> 4511d00ad105a0fb0ca88c646d31acfee1503c64
   "metadata": {},
   "outputs": [],
   "source": [
    "import pandas as pd\n",
    "import whylogs as why\n",
    "import numpy as np"
   ]
  },
  {
   "cell_type": "code",
<<<<<<< HEAD
   "execution_count": 32,
=======
   "execution_count": 38,
>>>>>>> 4511d00ad105a0fb0ca88c646d31acfee1503c64
   "metadata": {},
   "outputs": [],
   "source": [
    "df = pd.DataFrame({\"arrays\": [[0.1, 0.1, 0.1], [0.6, 0.6, 0.6], [2, 2, 2]]})\n",
    "df_dl = pd.DataFrame({\"arrays\": [[0.1, 0.1, 0.1], [0.6, 0.6], [2, 2, 2]]}) # different lengths, must check this\n",
    "df_nonnum = pd.DataFrame({\"arrays\": [[0.1, 0.1, 0.1], [0.6, 0.6, \"a\"], [2, 2, 2]]}) # non-numeric, must check this"
   ]
  },
  {
   "cell_type": "code",
<<<<<<< HEAD
   "execution_count": 33,
=======
   "execution_count": 39,
>>>>>>> 4511d00ad105a0fb0ca88c646d31acfee1503c64
   "metadata": {},
   "outputs": [],
   "source": [
    "df_np = pd.DataFrame({\"arrays\": [np.array([0.1, 0.1, 0.1]), np.array([0.6, 0.6, 0.6]), np.array([2, 2, 2])]})\n",
    "df_np_dl = pd.DataFrame({\"arrays\": [np.array([0.1, 0.1, 0.1]), np.array([0.6, 0.6]), np.array([2, 2, 2])]}) # different lengths, must check this\n",
    "df_np_nonnum = pd.DataFrame({\"arrays\": [np.array([0.1, 0.1, 0.1]), np.array([0.6, 0.6, \"a\"]), np.array([2, 2, 2])]}) # non-numeric, must check this"
   ]
  },
  {
   "cell_type": "code",
<<<<<<< HEAD
   "execution_count": 34,
=======
   "execution_count": 40,
>>>>>>> 4511d00ad105a0fb0ca88c646d31acfee1503c64
   "metadata": {},
   "outputs": [],
   "source": [
    "df_np[\"prediction\"] = [\"cat\", \"dog\", \"cat\"]"
   ]
  },
  {
   "cell_type": "code",
<<<<<<< HEAD
   "execution_count": 35,
=======
   "execution_count": 41,
>>>>>>> 4511d00ad105a0fb0ca88c646d31acfee1503c64
   "metadata": {},
   "outputs": [
    {
     "data": {
      "text/html": [
       "<div>\n",
       "<style scoped>\n",
       "    .dataframe tbody tr th:only-of-type {\n",
       "        vertical-align: middle;\n",
       "    }\n",
       "\n",
       "    .dataframe tbody tr th {\n",
       "        vertical-align: top;\n",
       "    }\n",
       "\n",
       "    .dataframe thead th {\n",
       "        text-align: right;\n",
       "    }\n",
       "</style>\n",
       "<table border=\"1\" class=\"dataframe\">\n",
       "  <thead>\n",
       "    <tr style=\"text-align: right;\">\n",
       "      <th></th>\n",
       "      <th>arrays</th>\n",
       "      <th>prediction</th>\n",
       "    </tr>\n",
       "  </thead>\n",
       "  <tbody>\n",
       "    <tr>\n",
       "      <th>0</th>\n",
       "      <td>[0.1, 0.1, 0.1]</td>\n",
       "      <td>cat</td>\n",
       "    </tr>\n",
       "    <tr>\n",
       "      <th>1</th>\n",
       "      <td>[0.6, 0.6, 0.6]</td>\n",
       "      <td>dog</td>\n",
       "    </tr>\n",
       "    <tr>\n",
       "      <th>2</th>\n",
       "      <td>[2, 2, 2]</td>\n",
       "      <td>cat</td>\n",
       "    </tr>\n",
       "  </tbody>\n",
       "</table>\n",
       "</div>"
      ],
      "text/plain": [
       "            arrays prediction\n",
       "0  [0.1, 0.1, 0.1]        cat\n",
       "1  [0.6, 0.6, 0.6]        dog\n",
       "2        [2, 2, 2]        cat"
      ]
     },
<<<<<<< HEAD
     "execution_count": 35,
=======
     "execution_count": 41,
>>>>>>> 4511d00ad105a0fb0ca88c646d31acfee1503c64
     "metadata": {},
     "output_type": "execute_result"
    }
   ],
   "source": [
    "df_np"
   ]
  },
  {
   "cell_type": "code",
<<<<<<< HEAD
   "execution_count": 36,
   "metadata": {},
   "outputs": [],
   "source": [
    "prof = why.log(row={\"arrays\": np.array([[0.1, 0.1, 0.1], [0.6, 0.6, 0.6], [2, 2, 2]])})"
=======
   "execution_count": 42,
   "metadata": {},
   "outputs": [],
   "source": [
    "prof = why.log(pandas=df_np)"
>>>>>>> 4511d00ad105a0fb0ca88c646d31acfee1503c64
   ]
  },
  {
   "cell_type": "code",
<<<<<<< HEAD
   "execution_count": 37,
   "metadata": {},
   "outputs": [],
   "source": [
    "prof = why.log(row={\"arrays\": [1,2,3]})"
=======
   "execution_count": 50,
   "metadata": {},
   "outputs": [],
   "source": [
    "prof = why.log(row={\"test\": np.array([1,2,3])})"
>>>>>>> 4511d00ad105a0fb0ca88c646d31acfee1503c64
   ]
  },
  {
   "cell_type": "code",
<<<<<<< HEAD
   "execution_count": 38,
   "metadata": {},
   "outputs": [],
   "source": [
    "prof = why.log(pandas=df_np)"
=======
   "execution_count": 51,
   "metadata": {},
   "outputs": [
    {
     "data": {
      "text/html": [
       "<div>\n",
       "<style scoped>\n",
       "    .dataframe tbody tr th:only-of-type {\n",
       "        vertical-align: middle;\n",
       "    }\n",
       "\n",
       "    .dataframe tbody tr th {\n",
       "        vertical-align: top;\n",
       "    }\n",
       "\n",
       "    .dataframe thead th {\n",
       "        text-align: right;\n",
       "    }\n",
       "</style>\n",
       "<table border=\"1\" class=\"dataframe\">\n",
       "  <thead>\n",
       "    <tr style=\"text-align: right;\">\n",
       "      <th></th>\n",
       "      <th>counts/inf</th>\n",
       "      <th>counts/n</th>\n",
       "      <th>counts/nan</th>\n",
       "      <th>counts/null</th>\n",
       "      <th>type</th>\n",
       "      <th>types/boolean</th>\n",
       "      <th>types/fractional</th>\n",
       "      <th>types/integral</th>\n",
       "      <th>types/object</th>\n",
       "      <th>types/string</th>\n",
       "      <th>types/vector</th>\n",
       "    </tr>\n",
       "    <tr>\n",
       "      <th>column</th>\n",
       "      <th></th>\n",
       "      <th></th>\n",
       "      <th></th>\n",
       "      <th></th>\n",
       "      <th></th>\n",
       "      <th></th>\n",
       "      <th></th>\n",
       "      <th></th>\n",
       "      <th></th>\n",
       "      <th></th>\n",
       "      <th></th>\n",
       "    </tr>\n",
       "  </thead>\n",
       "  <tbody>\n",
       "    <tr>\n",
       "      <th>test</th>\n",
       "      <td>0</td>\n",
       "      <td>3</td>\n",
       "      <td>0</td>\n",
       "      <td>0</td>\n",
       "      <td>SummaryType.COLUMN</td>\n",
       "      <td>0</td>\n",
       "      <td>0</td>\n",
       "      <td>3</td>\n",
       "      <td>0</td>\n",
       "      <td>0</td>\n",
       "      <td>0</td>\n",
       "    </tr>\n",
       "  </tbody>\n",
       "</table>\n",
       "</div>"
      ],
      "text/plain": [
       "        counts/inf  counts/n  counts/nan  counts/null                type  \\\n",
       "column                                                                      \n",
       "test             0         3           0            0  SummaryType.COLUMN   \n",
       "\n",
       "        types/boolean  types/fractional  types/integral  types/object  \\\n",
       "column                                                                  \n",
       "test                0                 0               3             0   \n",
       "\n",
       "        types/string  types/vector  \n",
       "column                              \n",
       "test               0             0  "
      ]
     },
     "execution_count": 51,
     "metadata": {},
     "output_type": "execute_result"
    }
   ],
   "source": [
    "prof.profile().view().to_pandas()"
>>>>>>> 4511d00ad105a0fb0ca88c646d31acfee1503c64
   ]
  },
  {
   "cell_type": "code",
<<<<<<< HEAD
   "execution_count": 39,
=======
   "execution_count": 43,
>>>>>>> 4511d00ad105a0fb0ca88c646d31acfee1503c64
   "metadata": {},
   "outputs": [
    {
     "data": {
      "text/html": [
       "<div>\n",
       "<style scoped>\n",
       "    .dataframe tbody tr th:only-of-type {\n",
       "        vertical-align: middle;\n",
       "    }\n",
       "\n",
       "    .dataframe tbody tr th {\n",
       "        vertical-align: top;\n",
       "    }\n",
       "\n",
       "    .dataframe thead th {\n",
       "        text-align: right;\n",
       "    }\n",
       "</style>\n",
       "<table border=\"1\" class=\"dataframe\">\n",
       "  <thead>\n",
       "    <tr style=\"text-align: right;\">\n",
       "      <th></th>\n",
       "      <th>cardinality/est</th>\n",
       "      <th>cardinality/lower_1</th>\n",
       "      <th>cardinality/upper_1</th>\n",
       "      <th>counts/inf</th>\n",
       "      <th>counts/n</th>\n",
       "      <th>counts/nan</th>\n",
       "      <th>counts/null</th>\n",
       "      <th>distribution/max</th>\n",
       "      <th>distribution/mean</th>\n",
       "      <th>distribution/median</th>\n",
       "      <th>...</th>\n",
       "      <th>distribution/q_99</th>\n",
       "      <th>distribution/stddev</th>\n",
       "      <th>frequent_items/frequent_strings</th>\n",
       "      <th>type</th>\n",
       "      <th>types/boolean</th>\n",
       "      <th>types/fractional</th>\n",
       "      <th>types/integral</th>\n",
       "      <th>types/object</th>\n",
       "      <th>types/string</th>\n",
<<<<<<< HEAD
       "      <th>types/tensor</th>\n",
=======
       "      <th>types/vector</th>\n",
>>>>>>> 4511d00ad105a0fb0ca88c646d31acfee1503c64
       "    </tr>\n",
       "    <tr>\n",
       "      <th>column</th>\n",
       "      <th></th>\n",
       "      <th></th>\n",
       "      <th></th>\n",
       "      <th></th>\n",
       "      <th></th>\n",
       "      <th></th>\n",
       "      <th></th>\n",
       "      <th></th>\n",
       "      <th></th>\n",
       "      <th></th>\n",
       "      <th></th>\n",
       "      <th></th>\n",
       "      <th></th>\n",
       "      <th></th>\n",
       "      <th></th>\n",
       "      <th></th>\n",
       "      <th></th>\n",
       "      <th></th>\n",
       "      <th></th>\n",
       "      <th></th>\n",
       "      <th></th>\n",
       "    </tr>\n",
       "  </thead>\n",
       "  <tbody>\n",
       "    <tr>\n",
       "      <th>arrays</th>\n",
       "      <td>0.0</td>\n",
       "      <td>0.0</td>\n",
       "      <td>0.0000</td>\n",
       "      <td>0</td>\n",
       "      <td>3</td>\n",
       "      <td>0</td>\n",
       "      <td>0</td>\n",
       "      <td>NaN</td>\n",
       "      <td>0.0</td>\n",
       "      <td>None</td>\n",
       "      <td>...</td>\n",
       "      <td>None</td>\n",
       "      <td>0.0</td>\n",
       "      <td>[]</td>\n",
       "      <td>SummaryType.COLUMN</td>\n",
       "      <td>0</td>\n",
       "      <td>0</td>\n",
       "      <td>0</td>\n",
       "      <td>0</td>\n",
       "      <td>0</td>\n",
       "      <td>3</td>\n",
       "    </tr>\n",
       "    <tr>\n",
       "      <th>prediction</th>\n",
       "      <td>2.0</td>\n",
       "      <td>2.0</td>\n",
       "      <td>2.0001</td>\n",
       "      <td>0</td>\n",
       "      <td>3</td>\n",
       "      <td>0</td>\n",
       "      <td>0</td>\n",
       "      <td>NaN</td>\n",
       "      <td>0.0</td>\n",
       "      <td>None</td>\n",
       "      <td>...</td>\n",
       "      <td>None</td>\n",
       "      <td>0.0</td>\n",
       "      <td>[FrequentItem(value='cat', est=2, upper=2, low...</td>\n",
       "      <td>SummaryType.COLUMN</td>\n",
       "      <td>0</td>\n",
       "      <td>0</td>\n",
       "      <td>0</td>\n",
       "      <td>0</td>\n",
       "      <td>3</td>\n",
       "      <td>0</td>\n",
       "    </tr>\n",
       "  </tbody>\n",
       "</table>\n",
       "<p>2 rows × 29 columns</p>\n",
       "</div>"
      ],
      "text/plain": [
       "            cardinality/est  cardinality/lower_1  cardinality/upper_1  \\\n",
       "column                                                                  \n",
       "arrays                  0.0                  0.0               0.0000   \n",
       "prediction              2.0                  2.0               2.0001   \n",
       "\n",
       "            counts/inf  counts/n  counts/nan  counts/null  distribution/max  \\\n",
       "column                                                                        \n",
       "arrays               0         3           0            0               NaN   \n",
       "prediction           0         3           0            0               NaN   \n",
       "\n",
       "            distribution/mean distribution/median  ...  distribution/q_99  \\\n",
       "column                                             ...                      \n",
       "arrays                    0.0                None  ...               None   \n",
       "prediction                0.0                None  ...               None   \n",
       "\n",
       "            distribution/stddev  \\\n",
       "column                            \n",
       "arrays                      0.0   \n",
       "prediction                  0.0   \n",
       "\n",
       "                              frequent_items/frequent_strings  \\\n",
       "column                                                          \n",
       "arrays                                                     []   \n",
       "prediction  [FrequentItem(value='cat', est=2, upper=2, low...   \n",
       "\n",
       "                          type types/boolean types/fractional types/integral  \\\n",
       "column                                                                         \n",
       "arrays      SummaryType.COLUMN             0                0              0   \n",
       "prediction  SummaryType.COLUMN             0                0              0   \n",
       "\n",
<<<<<<< HEAD
       "           types/object types/string types/tensor  \n",
=======
       "           types/object types/string types/vector  \n",
>>>>>>> 4511d00ad105a0fb0ca88c646d31acfee1503c64
       "column                                             \n",
       "arrays                0            0            3  \n",
       "prediction            0            3            0  \n",
       "\n",
       "[2 rows x 29 columns]"
      ]
     },
<<<<<<< HEAD
     "execution_count": 39,
=======
     "execution_count": 43,
>>>>>>> 4511d00ad105a0fb0ca88c646d31acfee1503c64
     "metadata": {},
     "output_type": "execute_result"
    }
   ],
   "source": [
    "prof.profile().view().to_pandas()"
   ]
  },
  {
   "cell_type": "code",
<<<<<<< HEAD
   "execution_count": 40,
=======
   "execution_count": 44,
>>>>>>> 4511d00ad105a0fb0ca88c646d31acfee1503c64
   "metadata": {},
   "outputs": [
    {
     "data": {
      "text/plain": [
<<<<<<< HEAD
       "{'counts': ColumnCountsMetric(n=<whylogs.core.metrics.metric_components.IntegralComponent object at 0x7fdf0f4ddc10>, null=<whylogs.core.metrics.metric_components.IntegralComponent object at 0x7fdefd47cd90>, nan=<whylogs.core.metrics.metric_components.IntegralComponent object at 0x7fdefd47c820>, inf=<whylogs.core.metrics.metric_components.IntegralComponent object at 0x7fdefd47cf40>),\n",
       " 'types': TypeCountersMetric(integral=<whylogs.core.metrics.metric_components.IntegralComponent object at 0x7fdefd47cc70>, fractional=<whylogs.core.metrics.metric_components.IntegralComponent object at 0x7fdefd4f5b50>, boolean=<whylogs.core.metrics.metric_components.IntegralComponent object at 0x7fdefd4f59d0>, string=<whylogs.core.metrics.metric_components.IntegralComponent object at 0x7fdefd4f5850>, tensor=<whylogs.core.metrics.metric_components.IntegralComponent object at 0x7fdefd4f5790>, object=<whylogs.core.metrics.metric_components.IntegralComponent object at 0x7fdefd4f56d0>),\n",
       " 'cardinality': CardinalityMetric(hll=<whylogs.core.metrics.metric_components.HllComponent object at 0x7fdf0f4e5d30>),\n",
       " 'distribution': DistributionMetric(kll=<whylogs.core.metrics.metric_components.KllComponent object at 0x7fdf0f4e5c10>, mean=<whylogs.core.metrics.metric_components.FractionalComponent object at 0x7fdf0f4e5a30>, m2=<whylogs.core.metrics.metric_components.FractionalComponent object at 0x7fdf0f4e5af0>),\n",
       " 'frequent_items': FrequentItemsMetric(frequent_strings=<whylogs.core.metrics.metric_components.FrequentStringsComponent object at 0x7fdf0f4e58b0>, max_frequent_item_size=128)}"
      ]
     },
     "execution_count": 40,
=======
       "{'counts': ColumnCountsMetric(n=<whylogs.core.metrics.metric_components.IntegralComponent object at 0x7f0d7af903a0>, null=<whylogs.core.metrics.metric_components.IntegralComponent object at 0x7f0d7af75e80>, nan=<whylogs.core.metrics.metric_components.IntegralComponent object at 0x7f0d7af75100>, inf=<whylogs.core.metrics.metric_components.IntegralComponent object at 0x7f0d7af75790>),\n",
       " 'types': TypeCountersMetric(integral=<whylogs.core.metrics.metric_components.IntegralComponent object at 0x7f0d7af754c0>, fractional=<whylogs.core.metrics.metric_components.IntegralComponent object at 0x7f0d7a42beb0>, boolean=<whylogs.core.metrics.metric_components.IntegralComponent object at 0x7f0d7a42b700>, string=<whylogs.core.metrics.metric_components.IntegralComponent object at 0x7f0d7a42be80>, vector=<whylogs.core.metrics.metric_components.IntegralComponent object at 0x7f0d7a42bc40>, object=<whylogs.core.metrics.metric_components.IntegralComponent object at 0x7f0d7a42b340>),\n",
       " 'cardinality': CardinalityMetric(hll=<whylogs.core.metrics.metric_components.HllComponent object at 0x7f0d7a42b370>),\n",
       " 'distribution': DistributionMetric(kll=<whylogs.core.metrics.metric_components.KllComponent object at 0x7f0d7a42b040>, mean=<whylogs.core.metrics.metric_components.FractionalComponent object at 0x7f0d7a422c40>, m2=<whylogs.core.metrics.metric_components.FractionalComponent object at 0x7f0d7a422df0>),\n",
       " 'frequent_items': FrequentItemsMetric(frequent_strings=<whylogs.core.metrics.metric_components.FrequentStringsComponent object at 0x7f0d7cfedeb0>)}"
      ]
     },
     "execution_count": 44,
>>>>>>> 4511d00ad105a0fb0ca88c646d31acfee1503c64
     "metadata": {},
     "output_type": "execute_result"
    }
   ],
   "source": [
    "prof.profile()._columns[\"arrays\"]._metrics"
   ]
  },
  {
   "cell_type": "code",
<<<<<<< HEAD
   "execution_count": 41,
=======
   "execution_count": 46,
>>>>>>> 4511d00ad105a0fb0ca88c646d31acfee1503c64
   "metadata": {},
   "outputs": [],
   "source": [
    "import whylogs as why\n",
    "from whylogs.core.resolvers import MetricSpec, ResolverSpec\n",
    "from whylogs.core.schema import DeclarativeSchema\n",
<<<<<<< HEAD
    "from whylogs.experimental.extras.embedding_metric import (\n",
=======
    "from whylogs.experimental.core.metrics.embedding_metric import (\n",
>>>>>>> 4511d00ad105a0fb0ca88c646d31acfee1503c64
    "    DistanceFunction,\n",
    "    EmbeddingConfig,\n",
    "    EmbeddingMetric,\n",
    ")\n",
    "\n",
    "config = EmbeddingConfig(\n",
    "    references=np.array([[0.01, 0.01, 0.01], [1, 1, 1]]),\n",
    "    labels=[\"B\", \"A\"],\n",
    "    distance_fn=DistanceFunction.euclidean,\n",
    ")\n",
    "schema = DeclarativeSchema([ResolverSpec(column_name=\"arrays\", metrics=[MetricSpec(EmbeddingMetric, config)])])\n",
    "sample_data = np.array([[0.1, 0.1, 0.1], [0.6, 0.6, 0.6], [2, 2, 2]])"
   ]
  },
  {
   "cell_type": "code",
<<<<<<< HEAD
   "execution_count": 42,
   "metadata": {},
   "outputs": [
    {
     "name": "stdout",
     "output_type": "stream",
     "text": [
      "[array([[0.1, 0.1, 0.1],\n",
      "       [0.6, 0.6, 0.6],\n",
      "       [2. , 2. , 2. ]])]\n"
     ]
    },
    {
     "ename": "ValueError",
     "evalue": "Found array with dim 3. check_pairwise_arrays expected <= 2.",
     "output_type": "error",
     "traceback": [
      "\u001b[0;31m---------------------------------------------------------------------------\u001b[0m",
      "\u001b[0;31mValueError\u001b[0m                                Traceback (most recent call last)",
      "\u001b[0;32m/tmp/ipykernel_2668/288539767.py\u001b[0m in \u001b[0;36m<cell line: 1>\u001b[0;34m()\u001b[0m\n\u001b[0;32m----> 1\u001b[0;31m \u001b[0mprofile_row_api\u001b[0m \u001b[0;34m=\u001b[0m \u001b[0mwhy\u001b[0m\u001b[0;34m.\u001b[0m\u001b[0mlog\u001b[0m\u001b[0;34m(\u001b[0m\u001b[0mrow\u001b[0m\u001b[0;34m=\u001b[0m\u001b[0;34m{\u001b[0m\u001b[0;34m\"arrays\"\u001b[0m\u001b[0;34m:\u001b[0m \u001b[0msample_data\u001b[0m\u001b[0;34m}\u001b[0m\u001b[0;34m,\u001b[0m \u001b[0mschema\u001b[0m\u001b[0;34m=\u001b[0m\u001b[0mschema\u001b[0m\u001b[0;34m)\u001b[0m\u001b[0;34m\u001b[0m\u001b[0;34m\u001b[0m\u001b[0m\n\u001b[0m",
      "\u001b[0;32m~/whylabs/repos/whylogs/python/whylogs/api/logger/__init__.py\u001b[0m in \u001b[0;36mlog\u001b[0;34m(obj, pandas, row, schema)\u001b[0m\n\u001b[1;32m     34\u001b[0m     \u001b[0mschema\u001b[0m\u001b[0;34m:\u001b[0m \u001b[0mOptional\u001b[0m\u001b[0;34m[\u001b[0m\u001b[0mDatasetSchema\u001b[0m\u001b[0;34m]\u001b[0m \u001b[0;34m=\u001b[0m \u001b[0;32mNone\u001b[0m\u001b[0;34m,\u001b[0m\u001b[0;34m\u001b[0m\u001b[0;34m\u001b[0m\u001b[0m\n\u001b[1;32m     35\u001b[0m ) -> ResultSet:\n\u001b[0;32m---> 36\u001b[0;31m     \u001b[0;32mreturn\u001b[0m \u001b[0mTransientLogger\u001b[0m\u001b[0;34m(\u001b[0m\u001b[0mschema\u001b[0m\u001b[0;34m=\u001b[0m\u001b[0mschema\u001b[0m\u001b[0;34m)\u001b[0m\u001b[0;34m.\u001b[0m\u001b[0mlog\u001b[0m\u001b[0;34m(\u001b[0m\u001b[0mobj\u001b[0m\u001b[0;34m,\u001b[0m \u001b[0mpandas\u001b[0m\u001b[0;34m=\u001b[0m\u001b[0mpandas\u001b[0m\u001b[0;34m,\u001b[0m \u001b[0mrow\u001b[0m\u001b[0;34m=\u001b[0m\u001b[0mrow\u001b[0m\u001b[0;34m)\u001b[0m\u001b[0;34m\u001b[0m\u001b[0;34m\u001b[0m\u001b[0m\n\u001b[0m\u001b[1;32m     37\u001b[0m \u001b[0;34m\u001b[0m\u001b[0m\n\u001b[1;32m     38\u001b[0m \u001b[0;34m\u001b[0m\u001b[0m\n",
      "\u001b[0;32m~/whylabs/repos/whylogs/python/whylogs/api/logger/logger.py\u001b[0m in \u001b[0;36mlog\u001b[0;34m(self, obj, pandas, row, schema)\u001b[0m\n\u001b[1;32m     87\u001b[0m \u001b[0;34m\u001b[0m\u001b[0m\n\u001b[1;32m     88\u001b[0m         \u001b[0;32mfor\u001b[0m \u001b[0mprof\u001b[0m \u001b[0;32min\u001b[0m \u001b[0mprofiles\u001b[0m\u001b[0;34m:\u001b[0m\u001b[0;34m\u001b[0m\u001b[0;34m\u001b[0m\u001b[0m\n\u001b[0;32m---> 89\u001b[0;31m             \u001b[0mprof\u001b[0m\u001b[0;34m.\u001b[0m\u001b[0mtrack\u001b[0m\u001b[0;34m(\u001b[0m\u001b[0mobj\u001b[0m\u001b[0;34m,\u001b[0m \u001b[0mpandas\u001b[0m\u001b[0;34m=\u001b[0m\u001b[0mpandas\u001b[0m\u001b[0;34m,\u001b[0m \u001b[0mrow\u001b[0m\u001b[0;34m=\u001b[0m\u001b[0mrow\u001b[0m\u001b[0;34m)\u001b[0m\u001b[0;34m\u001b[0m\u001b[0;34m\u001b[0m\u001b[0m\n\u001b[0m\u001b[1;32m     90\u001b[0m \u001b[0;34m\u001b[0m\u001b[0m\n\u001b[1;32m     91\u001b[0m         \u001b[0;32mreturn\u001b[0m \u001b[0mProfileResultSet\u001b[0m\u001b[0;34m(\u001b[0m\u001b[0mprofiles\u001b[0m\u001b[0;34m[\u001b[0m\u001b[0;36m0\u001b[0m\u001b[0;34m]\u001b[0m\u001b[0;34m)\u001b[0m\u001b[0;34m\u001b[0m\u001b[0;34m\u001b[0m\u001b[0m\n",
      "\u001b[0;32m~/whylabs/repos/whylogs/python/whylogs/core/dataset_profile.py\u001b[0m in \u001b[0;36mtrack\u001b[0;34m(self, obj, pandas, row)\u001b[0m\n\u001b[1;32m    111\u001b[0m             \u001b[0mself\u001b[0m\u001b[0;34m.\u001b[0m\u001b[0m_is_active\u001b[0m \u001b[0;34m=\u001b[0m \u001b[0;32mTrue\u001b[0m\u001b[0;34m\u001b[0m\u001b[0;34m\u001b[0m\u001b[0m\n\u001b[1;32m    112\u001b[0m             \u001b[0mself\u001b[0m\u001b[0;34m.\u001b[0m\u001b[0m_track_count\u001b[0m \u001b[0;34m+=\u001b[0m \u001b[0;36m1\u001b[0m\u001b[0;34m\u001b[0m\u001b[0;34m\u001b[0m\u001b[0m\n\u001b[0;32m--> 113\u001b[0;31m             \u001b[0mself\u001b[0m\u001b[0;34m.\u001b[0m\u001b[0m_do_track\u001b[0m\u001b[0;34m(\u001b[0m\u001b[0mobj\u001b[0m\u001b[0;34m,\u001b[0m \u001b[0mpandas\u001b[0m\u001b[0;34m=\u001b[0m\u001b[0mpandas\u001b[0m\u001b[0;34m,\u001b[0m \u001b[0mrow\u001b[0m\u001b[0;34m=\u001b[0m\u001b[0mrow\u001b[0m\u001b[0;34m)\u001b[0m\u001b[0;34m\u001b[0m\u001b[0;34m\u001b[0m\u001b[0m\n\u001b[0m\u001b[1;32m    114\u001b[0m         \u001b[0;32mfinally\u001b[0m\u001b[0;34m:\u001b[0m\u001b[0;34m\u001b[0m\u001b[0;34m\u001b[0m\u001b[0m\n\u001b[1;32m    115\u001b[0m             \u001b[0mself\u001b[0m\u001b[0;34m.\u001b[0m\u001b[0m_is_active\u001b[0m \u001b[0;34m=\u001b[0m \u001b[0;32mFalse\u001b[0m\u001b[0;34m\u001b[0m\u001b[0;34m\u001b[0m\u001b[0m\n",
      "\u001b[0;32m~/whylabs/repos/whylogs/python/whylogs/core/dataset_profile.py\u001b[0m in \u001b[0;36m_do_track\u001b[0;34m(self, obj, pandas, row)\u001b[0m\n\u001b[1;32m    133\u001b[0m         \u001b[0;32mif\u001b[0m \u001b[0mrow\u001b[0m \u001b[0;32mis\u001b[0m \u001b[0;32mnot\u001b[0m \u001b[0;32mNone\u001b[0m\u001b[0;34m:\u001b[0m\u001b[0;34m\u001b[0m\u001b[0;34m\u001b[0m\u001b[0m\n\u001b[1;32m    134\u001b[0m             \u001b[0;32mfor\u001b[0m \u001b[0mk\u001b[0m \u001b[0;32min\u001b[0m \u001b[0mrow\u001b[0m\u001b[0;34m.\u001b[0m\u001b[0mkeys\u001b[0m\u001b[0;34m(\u001b[0m\u001b[0;34m)\u001b[0m\u001b[0;34m:\u001b[0m\u001b[0;34m\u001b[0m\u001b[0;34m\u001b[0m\u001b[0m\n\u001b[0;32m--> 135\u001b[0;31m                 \u001b[0mself\u001b[0m\u001b[0;34m.\u001b[0m\u001b[0m_columns\u001b[0m\u001b[0;34m[\u001b[0m\u001b[0mk\u001b[0m\u001b[0;34m]\u001b[0m\u001b[0;34m.\u001b[0m\u001b[0m_track_datum\u001b[0m\u001b[0;34m(\u001b[0m\u001b[0mrow\u001b[0m\u001b[0;34m[\u001b[0m\u001b[0mk\u001b[0m\u001b[0;34m]\u001b[0m\u001b[0;34m)\u001b[0m\u001b[0;34m\u001b[0m\u001b[0;34m\u001b[0m\u001b[0m\n\u001b[0m\u001b[1;32m    136\u001b[0m             \u001b[0;32mreturn\u001b[0m\u001b[0;34m\u001b[0m\u001b[0;34m\u001b[0m\u001b[0m\n\u001b[1;32m    137\u001b[0m         \u001b[0;32melif\u001b[0m \u001b[0mpandas\u001b[0m \u001b[0;32mis\u001b[0m \u001b[0;32mnot\u001b[0m \u001b[0;32mNone\u001b[0m\u001b[0;34m:\u001b[0m\u001b[0;34m\u001b[0m\u001b[0;34m\u001b[0m\u001b[0m\n",
      "\u001b[0;32m~/whylabs/repos/whylogs/python/whylogs/core/column_profile.py\u001b[0m in \u001b[0;36m_track_datum\u001b[0;34m(self, value)\u001b[0m\n\u001b[1;32m     64\u001b[0m     \u001b[0;32mdef\u001b[0m \u001b[0m_track_datum\u001b[0m\u001b[0;34m(\u001b[0m\u001b[0mself\u001b[0m\u001b[0;34m,\u001b[0m \u001b[0mvalue\u001b[0m\u001b[0;34m:\u001b[0m \u001b[0mAny\u001b[0m\u001b[0;34m)\u001b[0m \u001b[0;34m->\u001b[0m \u001b[0;32mNone\u001b[0m\u001b[0;34m:\u001b[0m\u001b[0;34m\u001b[0m\u001b[0;34m\u001b[0m\u001b[0m\n\u001b[1;32m     65\u001b[0m         \u001b[0mex_col\u001b[0m \u001b[0;34m=\u001b[0m \u001b[0mPreprocessedColumn\u001b[0m\u001b[0;34m.\u001b[0m\u001b[0m_process_scalar_value\u001b[0m\u001b[0;34m(\u001b[0m\u001b[0mvalue\u001b[0m\u001b[0;34m)\u001b[0m\u001b[0;34m\u001b[0m\u001b[0;34m\u001b[0m\u001b[0m\n\u001b[0;32m---> 66\u001b[0;31m         \u001b[0mself\u001b[0m\u001b[0;34m.\u001b[0m\u001b[0m_process_extracted_column\u001b[0m\u001b[0;34m(\u001b[0m\u001b[0mex_col\u001b[0m\u001b[0;34m)\u001b[0m\u001b[0;34m\u001b[0m\u001b[0;34m\u001b[0m\u001b[0m\n\u001b[0m\u001b[1;32m     67\u001b[0m \u001b[0;34m\u001b[0m\u001b[0m\n\u001b[1;32m     68\u001b[0m     \u001b[0;32mdef\u001b[0m \u001b[0mto_protobuf\u001b[0m\u001b[0;34m(\u001b[0m\u001b[0mself\u001b[0m\u001b[0;34m)\u001b[0m \u001b[0;34m->\u001b[0m \u001b[0mColumnMessage\u001b[0m\u001b[0;34m:\u001b[0m\u001b[0;34m\u001b[0m\u001b[0;34m\u001b[0m\u001b[0m\n",
      "\u001b[0;32m~/whylabs/repos/whylogs/python/whylogs/core/column_profile.py\u001b[0m in \u001b[0;36m_process_extracted_column\u001b[0;34m(self, extracted_column)\u001b[0m\n\u001b[1;32m     52\u001b[0m     \u001b[0;32mdef\u001b[0m \u001b[0m_process_extracted_column\u001b[0m\u001b[0;34m(\u001b[0m\u001b[0mself\u001b[0m\u001b[0;34m,\u001b[0m \u001b[0mextracted_column\u001b[0m\u001b[0;34m:\u001b[0m \u001b[0mPreprocessedColumn\u001b[0m\u001b[0;34m)\u001b[0m \u001b[0;34m->\u001b[0m \u001b[0;32mNone\u001b[0m\u001b[0;34m:\u001b[0m\u001b[0;34m\u001b[0m\u001b[0;34m\u001b[0m\u001b[0m\n\u001b[1;32m     53\u001b[0m         \u001b[0;32mfor\u001b[0m \u001b[0mmetric\u001b[0m \u001b[0;32min\u001b[0m \u001b[0mself\u001b[0m\u001b[0;34m.\u001b[0m\u001b[0m_metrics\u001b[0m\u001b[0;34m.\u001b[0m\u001b[0mvalues\u001b[0m\u001b[0;34m(\u001b[0m\u001b[0;34m)\u001b[0m\u001b[0;34m:\u001b[0m\u001b[0;34m\u001b[0m\u001b[0;34m\u001b[0m\u001b[0m\n\u001b[0;32m---> 54\u001b[0;31m             \u001b[0mres\u001b[0m \u001b[0;34m=\u001b[0m \u001b[0mmetric\u001b[0m\u001b[0;34m.\u001b[0m\u001b[0mcolumnar_update\u001b[0m\u001b[0;34m(\u001b[0m\u001b[0mextracted_column\u001b[0m\u001b[0;34m)\u001b[0m\u001b[0;34m\u001b[0m\u001b[0;34m\u001b[0m\u001b[0m\n\u001b[0m\u001b[1;32m     55\u001b[0m             \u001b[0mself\u001b[0m\u001b[0;34m.\u001b[0m\u001b[0m_failure_count\u001b[0m \u001b[0;34m+=\u001b[0m \u001b[0mres\u001b[0m\u001b[0;34m.\u001b[0m\u001b[0mfailures\u001b[0m\u001b[0;34m\u001b[0m\u001b[0;34m\u001b[0m\u001b[0m\n\u001b[1;32m     56\u001b[0m             \u001b[0mself\u001b[0m\u001b[0;34m.\u001b[0m\u001b[0m_success_count\u001b[0m \u001b[0;34m+=\u001b[0m \u001b[0mres\u001b[0m\u001b[0;34m.\u001b[0m\u001b[0msuccesses\u001b[0m\u001b[0;34m\u001b[0m\u001b[0;34m\u001b[0m\u001b[0m\n",
      "\u001b[0;32m~/whylabs/repos/whylogs/python/whylogs/experimental/extras/embedding_metric.py\u001b[0m in \u001b[0;36mcolumnar_update\u001b[0;34m(self, data)\u001b[0m\n\u001b[1;32m    154\u001b[0m         \u001b[0mmatrices\u001b[0m \u001b[0;34m=\u001b[0m \u001b[0;34m[\u001b[0m\u001b[0mX\u001b[0m \u001b[0;32mfor\u001b[0m \u001b[0mX\u001b[0m \u001b[0;32min\u001b[0m \u001b[0;34m[\u001b[0m\u001b[0mpandas_tensors\u001b[0m\u001b[0;34m,\u001b[0m \u001b[0mlist_tensors\u001b[0m\u001b[0;34m]\u001b[0m \u001b[0;32mif\u001b[0m \u001b[0mX\u001b[0m \u001b[0;32mis\u001b[0m \u001b[0;32mnot\u001b[0m \u001b[0;32mNone\u001b[0m\u001b[0;34m]\u001b[0m\u001b[0;34m\u001b[0m\u001b[0;34m\u001b[0m\u001b[0m\n\u001b[1;32m    155\u001b[0m         \u001b[0;32mfor\u001b[0m \u001b[0mX\u001b[0m \u001b[0;32min\u001b[0m \u001b[0mmatrices\u001b[0m\u001b[0;34m:\u001b[0m  \u001b[0;31m# TODO: throw if not 2D ndarray\u001b[0m\u001b[0;34m\u001b[0m\u001b[0;34m\u001b[0m\u001b[0m\n\u001b[0;32m--> 156\u001b[0;31m             \u001b[0mX_ref_dists\u001b[0m \u001b[0;34m=\u001b[0m \u001b[0mself\u001b[0m\u001b[0;34m.\u001b[0m\u001b[0mdistance_fn\u001b[0m\u001b[0;34m(\u001b[0m\u001b[0mX\u001b[0m\u001b[0;34m,\u001b[0m \u001b[0mself\u001b[0m\u001b[0;34m.\u001b[0m\u001b[0mreferences\u001b[0m\u001b[0;34m.\u001b[0m\u001b[0mvalue\u001b[0m\u001b[0;34m)\u001b[0m  \u001b[0;31m# type: ignore\u001b[0m\u001b[0;34m\u001b[0m\u001b[0;34m\u001b[0m\u001b[0m\n\u001b[0m\u001b[1;32m    157\u001b[0m             \u001b[0mX_ref_closest\u001b[0m \u001b[0;34m=\u001b[0m \u001b[0mnp\u001b[0m\u001b[0;34m.\u001b[0m\u001b[0margmin\u001b[0m\u001b[0;34m(\u001b[0m\u001b[0mX_ref_dists\u001b[0m\u001b[0;34m,\u001b[0m \u001b[0maxis\u001b[0m\u001b[0;34m=\u001b[0m\u001b[0;36m1\u001b[0m\u001b[0;34m)\u001b[0m\u001b[0;34m\u001b[0m\u001b[0;34m\u001b[0m\u001b[0m\n\u001b[1;32m    158\u001b[0m             \u001b[0;32mfor\u001b[0m \u001b[0mi\u001b[0m \u001b[0;32min\u001b[0m \u001b[0mrange\u001b[0m\u001b[0;34m(\u001b[0m\u001b[0mX_ref_dists\u001b[0m\u001b[0;34m.\u001b[0m\u001b[0mshape\u001b[0m\u001b[0;34m[\u001b[0m\u001b[0;36m1\u001b[0m\u001b[0;34m]\u001b[0m\u001b[0;34m)\u001b[0m\u001b[0;34m:\u001b[0m\u001b[0;34m\u001b[0m\u001b[0;34m\u001b[0m\u001b[0m\n",
      "\u001b[0;32m~/whylabs/repos/whylogs/python/.venv/lib/python3.8/site-packages/sklearn/metrics/pairwise.py\u001b[0m in \u001b[0;36meuclidean_distances\u001b[0;34m(X, Y, Y_norm_squared, squared, X_norm_squared)\u001b[0m\n\u001b[1;32m    300\u001b[0m            [1.41421356]])\n\u001b[1;32m    301\u001b[0m     \"\"\"\n\u001b[0;32m--> 302\u001b[0;31m     \u001b[0mX\u001b[0m\u001b[0;34m,\u001b[0m \u001b[0mY\u001b[0m \u001b[0;34m=\u001b[0m \u001b[0mcheck_pairwise_arrays\u001b[0m\u001b[0;34m(\u001b[0m\u001b[0mX\u001b[0m\u001b[0;34m,\u001b[0m \u001b[0mY\u001b[0m\u001b[0;34m)\u001b[0m\u001b[0;34m\u001b[0m\u001b[0;34m\u001b[0m\u001b[0m\n\u001b[0m\u001b[1;32m    303\u001b[0m \u001b[0;34m\u001b[0m\u001b[0m\n\u001b[1;32m    304\u001b[0m     \u001b[0;32mif\u001b[0m \u001b[0mX_norm_squared\u001b[0m \u001b[0;32mis\u001b[0m \u001b[0;32mnot\u001b[0m \u001b[0;32mNone\u001b[0m\u001b[0;34m:\u001b[0m\u001b[0;34m\u001b[0m\u001b[0;34m\u001b[0m\u001b[0m\n",
      "\u001b[0;32m~/whylabs/repos/whylogs/python/.venv/lib/python3.8/site-packages/sklearn/metrics/pairwise.py\u001b[0m in \u001b[0;36mcheck_pairwise_arrays\u001b[0;34m(X, Y, precomputed, dtype, accept_sparse, force_all_finite, copy)\u001b[0m\n\u001b[1;32m    154\u001b[0m         )\n\u001b[1;32m    155\u001b[0m     \u001b[0;32melse\u001b[0m\u001b[0;34m:\u001b[0m\u001b[0;34m\u001b[0m\u001b[0;34m\u001b[0m\u001b[0m\n\u001b[0;32m--> 156\u001b[0;31m         X = check_array(\n\u001b[0m\u001b[1;32m    157\u001b[0m             \u001b[0mX\u001b[0m\u001b[0;34m,\u001b[0m\u001b[0;34m\u001b[0m\u001b[0;34m\u001b[0m\u001b[0m\n\u001b[1;32m    158\u001b[0m             \u001b[0maccept_sparse\u001b[0m\u001b[0;34m=\u001b[0m\u001b[0maccept_sparse\u001b[0m\u001b[0;34m,\u001b[0m\u001b[0;34m\u001b[0m\u001b[0;34m\u001b[0m\u001b[0m\n",
      "\u001b[0;32m~/whylabs/repos/whylogs/python/.venv/lib/python3.8/site-packages/sklearn/utils/validation.py\u001b[0m in \u001b[0;36mcheck_array\u001b[0;34m(array, accept_sparse, accept_large_sparse, dtype, order, copy, force_all_finite, ensure_2d, allow_nd, ensure_min_samples, ensure_min_features, estimator)\u001b[0m\n\u001b[1;32m    792\u001b[0m                 ) from e\n\u001b[1;32m    793\u001b[0m         \u001b[0;32mif\u001b[0m \u001b[0;32mnot\u001b[0m \u001b[0mallow_nd\u001b[0m \u001b[0;32mand\u001b[0m \u001b[0marray\u001b[0m\u001b[0;34m.\u001b[0m\u001b[0mndim\u001b[0m \u001b[0;34m>=\u001b[0m \u001b[0;36m3\u001b[0m\u001b[0;34m:\u001b[0m\u001b[0;34m\u001b[0m\u001b[0;34m\u001b[0m\u001b[0m\n\u001b[0;32m--> 794\u001b[0;31m             raise ValueError(\n\u001b[0m\u001b[1;32m    795\u001b[0m                 \u001b[0;34m\"Found array with dim %d. %s expected <= 2.\"\u001b[0m\u001b[0;34m\u001b[0m\u001b[0;34m\u001b[0m\u001b[0m\n\u001b[1;32m    796\u001b[0m                 \u001b[0;34m%\u001b[0m \u001b[0;34m(\u001b[0m\u001b[0marray\u001b[0m\u001b[0;34m.\u001b[0m\u001b[0mndim\u001b[0m\u001b[0;34m,\u001b[0m \u001b[0mestimator_name\u001b[0m\u001b[0;34m)\u001b[0m\u001b[0;34m\u001b[0m\u001b[0;34m\u001b[0m\u001b[0m\n",
      "\u001b[0;31mValueError\u001b[0m: Found array with dim 3. check_pairwise_arrays expected <= 2."
     ]
    }
   ],
=======
   "execution_count": 47,
   "metadata": {},
   "outputs": [],
>>>>>>> 4511d00ad105a0fb0ca88c646d31acfee1503c64
   "source": [
    "profile_row_api = why.log(row={\"arrays\": sample_data}, schema=schema)"
   ]
  },
  {
   "cell_type": "code",
<<<<<<< HEAD
   "execution_count": null,
=======
   "execution_count": 48,
>>>>>>> 4511d00ad105a0fb0ca88c646d31acfee1503c64
   "metadata": {},
   "outputs": [],
   "source": [
    "profile_df_api = why.log(pandas=df_np, schema=schema)"
   ]
  },
  {
   "cell_type": "code",
<<<<<<< HEAD
   "execution_count": null,
   "metadata": {},
   "outputs": [],
   "source": [
    "profile_row_api.profile().view().to_pandas().T"
   ]
  },
  {
   "cell_type": "code",
   "execution_count": null,
   "metadata": {},
   "outputs": [],
   "source": [
    "df"
   ]
  },
  {
   "cell_type": "code",
   "execution_count": 14,
   "metadata": {},
   "outputs": [],
   "source": [
    "data_list_tensors = [np.array([[0.1, 0.1, 0.1], [0.6, 0.6, 0.6], [2, 2, 2]])]"
   ]
  },
  {
   "cell_type": "code",
   "execution_count": 16,
   "metadata": {},
   "outputs": [
    {
     "data": {
      "text/plain": [
       "array([[0.1, 0.1, 0.1],\n",
       "       [0.6, 0.6, 0.6],\n",
       "       [2. , 2. , 2. ]])"
      ]
     },
     "execution_count": 16,
     "metadata": {},
     "output_type": "execute_result"
    }
   ],
   "source": [
    "np.concatenate(data_list_tensors)"
   ]
  },
  {
   "cell_type": "code",
   "execution_count": 30,
=======
   "execution_count": 49,
>>>>>>> 4511d00ad105a0fb0ca88c646d31acfee1503c64
   "metadata": {},
   "outputs": [
    {
     "data": {
<<<<<<< HEAD
      "text/plain": [
       "array([[0.1, 0.1, 0.1],\n",
       "       [0.6, 0.6, 0.6],\n",
       "       [2. , 2. , 2. ]])"
      ]
     },
     "execution_count": 30,
=======
      "text/html": [
       "<div>\n",
       "<style scoped>\n",
       "    .dataframe tbody tr th:only-of-type {\n",
       "        vertical-align: middle;\n",
       "    }\n",
       "\n",
       "    .dataframe tbody tr th {\n",
       "        vertical-align: top;\n",
       "    }\n",
       "\n",
       "    .dataframe thead th {\n",
       "        text-align: right;\n",
       "    }\n",
       "</style>\n",
       "<table border=\"1\" class=\"dataframe\">\n",
       "  <thead>\n",
       "    <tr style=\"text-align: right;\">\n",
       "      <th>column</th>\n",
       "      <th>arrays</th>\n",
       "      <th>prediction</th>\n",
       "    </tr>\n",
       "  </thead>\n",
       "  <tbody>\n",
       "    <tr>\n",
       "      <th>embedding/A_distance:counts/inf</th>\n",
       "      <td>0.0</td>\n",
       "      <td>NaN</td>\n",
       "    </tr>\n",
       "    <tr>\n",
       "      <th>embedding/A_distance:counts/n</th>\n",
       "      <td>3.0</td>\n",
       "      <td>NaN</td>\n",
       "    </tr>\n",
       "    <tr>\n",
       "      <th>embedding/A_distance:counts/nan</th>\n",
       "      <td>0.0</td>\n",
       "      <td>NaN</td>\n",
       "    </tr>\n",
       "    <tr>\n",
       "      <th>embedding/A_distance:counts/null</th>\n",
       "      <td>0.0</td>\n",
       "      <td>NaN</td>\n",
       "    </tr>\n",
       "    <tr>\n",
       "      <th>embedding/A_distance:distribution/max</th>\n",
       "      <td>1.403567</td>\n",
       "      <td>NaN</td>\n",
       "    </tr>\n",
       "    <tr>\n",
       "      <th>embedding/A_distance:distribution/mean</th>\n",
       "      <td>1.403567</td>\n",
       "      <td>NaN</td>\n",
       "    </tr>\n",
       "    <tr>\n",
       "      <th>embedding/A_distance:distribution/median</th>\n",
       "      <td>1.403567</td>\n",
       "      <td>NaN</td>\n",
       "    </tr>\n",
       "    <tr>\n",
       "      <th>embedding/A_distance:distribution/min</th>\n",
       "      <td>1.403567</td>\n",
       "      <td>NaN</td>\n",
       "    </tr>\n",
       "    <tr>\n",
       "      <th>embedding/A_distance:distribution/n</th>\n",
       "      <td>3.0</td>\n",
       "      <td>NaN</td>\n",
       "    </tr>\n",
       "    <tr>\n",
       "      <th>embedding/A_distance:distribution/q_01</th>\n",
       "      <td>1.403567</td>\n",
       "      <td>NaN</td>\n",
       "    </tr>\n",
       "    <tr>\n",
       "      <th>embedding/A_distance:distribution/q_05</th>\n",
       "      <td>1.403567</td>\n",
       "      <td>NaN</td>\n",
       "    </tr>\n",
       "    <tr>\n",
       "      <th>embedding/A_distance:distribution/q_10</th>\n",
       "      <td>1.403567</td>\n",
       "      <td>NaN</td>\n",
       "    </tr>\n",
       "    <tr>\n",
       "      <th>embedding/A_distance:distribution/q_25</th>\n",
       "      <td>1.403567</td>\n",
       "      <td>NaN</td>\n",
       "    </tr>\n",
       "    <tr>\n",
       "      <th>embedding/A_distance:distribution/q_75</th>\n",
       "      <td>1.403567</td>\n",
       "      <td>NaN</td>\n",
       "    </tr>\n",
       "    <tr>\n",
       "      <th>embedding/A_distance:distribution/q_90</th>\n",
       "      <td>1.403567</td>\n",
       "      <td>NaN</td>\n",
       "    </tr>\n",
       "    <tr>\n",
       "      <th>embedding/A_distance:distribution/q_95</th>\n",
       "      <td>1.403567</td>\n",
       "      <td>NaN</td>\n",
       "    </tr>\n",
       "    <tr>\n",
       "      <th>embedding/A_distance:distribution/q_99</th>\n",
       "      <td>1.403567</td>\n",
       "      <td>NaN</td>\n",
       "    </tr>\n",
       "    <tr>\n",
       "      <th>embedding/A_distance:distribution/stddev</th>\n",
       "      <td>0.0</td>\n",
       "      <td>NaN</td>\n",
       "    </tr>\n",
       "    <tr>\n",
       "      <th>embedding/A_distance:types/boolean</th>\n",
       "      <td>0.0</td>\n",
       "      <td>NaN</td>\n",
       "    </tr>\n",
       "    <tr>\n",
       "      <th>embedding/A_distance:types/fractional</th>\n",
       "      <td>3.0</td>\n",
       "      <td>NaN</td>\n",
       "    </tr>\n",
       "    <tr>\n",
       "      <th>embedding/A_distance:types/integral</th>\n",
       "      <td>0.0</td>\n",
       "      <td>NaN</td>\n",
       "    </tr>\n",
       "    <tr>\n",
       "      <th>embedding/A_distance:types/object</th>\n",
       "      <td>0.0</td>\n",
       "      <td>NaN</td>\n",
       "    </tr>\n",
       "    <tr>\n",
       "      <th>embedding/A_distance:types/string</th>\n",
       "      <td>0.0</td>\n",
       "      <td>NaN</td>\n",
       "    </tr>\n",
       "    <tr>\n",
       "      <th>embedding/A_distance:types/vector</th>\n",
       "      <td>0.0</td>\n",
       "      <td>NaN</td>\n",
       "    </tr>\n",
       "    <tr>\n",
       "      <th>embedding/B_distance:counts/inf</th>\n",
       "      <td>0.0</td>\n",
       "      <td>NaN</td>\n",
       "    </tr>\n",
       "    <tr>\n",
       "      <th>embedding/B_distance:counts/n</th>\n",
       "      <td>3.0</td>\n",
       "      <td>NaN</td>\n",
       "    </tr>\n",
       "    <tr>\n",
       "      <th>embedding/B_distance:counts/nan</th>\n",
       "      <td>0.0</td>\n",
       "      <td>NaN</td>\n",
       "    </tr>\n",
       "    <tr>\n",
       "      <th>embedding/B_distance:counts/null</th>\n",
       "      <td>0.0</td>\n",
       "      <td>NaN</td>\n",
       "    </tr>\n",
       "    <tr>\n",
       "      <th>embedding/B_distance:distribution/max</th>\n",
       "      <td>2.077571</td>\n",
       "      <td>NaN</td>\n",
       "    </tr>\n",
       "    <tr>\n",
       "      <th>embedding/B_distance:distribution/mean</th>\n",
       "      <td>2.077571</td>\n",
       "      <td>NaN</td>\n",
       "    </tr>\n",
       "    <tr>\n",
       "      <th>embedding/B_distance:distribution/median</th>\n",
       "      <td>2.077571</td>\n",
       "      <td>NaN</td>\n",
       "    </tr>\n",
       "    <tr>\n",
       "      <th>embedding/B_distance:distribution/min</th>\n",
       "      <td>2.077571</td>\n",
       "      <td>NaN</td>\n",
       "    </tr>\n",
       "    <tr>\n",
       "      <th>embedding/B_distance:distribution/n</th>\n",
       "      <td>3.0</td>\n",
       "      <td>NaN</td>\n",
       "    </tr>\n",
       "    <tr>\n",
       "      <th>embedding/B_distance:distribution/q_01</th>\n",
       "      <td>2.077571</td>\n",
       "      <td>NaN</td>\n",
       "    </tr>\n",
       "    <tr>\n",
       "      <th>embedding/B_distance:distribution/q_05</th>\n",
       "      <td>2.077571</td>\n",
       "      <td>NaN</td>\n",
       "    </tr>\n",
       "    <tr>\n",
       "      <th>embedding/B_distance:distribution/q_10</th>\n",
       "      <td>2.077571</td>\n",
       "      <td>NaN</td>\n",
       "    </tr>\n",
       "    <tr>\n",
       "      <th>embedding/B_distance:distribution/q_25</th>\n",
       "      <td>2.077571</td>\n",
       "      <td>NaN</td>\n",
       "    </tr>\n",
       "    <tr>\n",
       "      <th>embedding/B_distance:distribution/q_75</th>\n",
       "      <td>2.077571</td>\n",
       "      <td>NaN</td>\n",
       "    </tr>\n",
       "    <tr>\n",
       "      <th>embedding/B_distance:distribution/q_90</th>\n",
       "      <td>2.077571</td>\n",
       "      <td>NaN</td>\n",
       "    </tr>\n",
       "    <tr>\n",
       "      <th>embedding/B_distance:distribution/q_95</th>\n",
       "      <td>2.077571</td>\n",
       "      <td>NaN</td>\n",
       "    </tr>\n",
       "    <tr>\n",
       "      <th>embedding/B_distance:distribution/q_99</th>\n",
       "      <td>2.077571</td>\n",
       "      <td>NaN</td>\n",
       "    </tr>\n",
       "    <tr>\n",
       "      <th>embedding/B_distance:distribution/stddev</th>\n",
       "      <td>0.0</td>\n",
       "      <td>NaN</td>\n",
       "    </tr>\n",
       "    <tr>\n",
       "      <th>embedding/B_distance:types/boolean</th>\n",
       "      <td>0.0</td>\n",
       "      <td>NaN</td>\n",
       "    </tr>\n",
       "    <tr>\n",
       "      <th>embedding/B_distance:types/fractional</th>\n",
       "      <td>3.0</td>\n",
       "      <td>NaN</td>\n",
       "    </tr>\n",
       "    <tr>\n",
       "      <th>embedding/B_distance:types/integral</th>\n",
       "      <td>0.0</td>\n",
       "      <td>NaN</td>\n",
       "    </tr>\n",
       "    <tr>\n",
       "      <th>embedding/B_distance:types/object</th>\n",
       "      <td>0.0</td>\n",
       "      <td>NaN</td>\n",
       "    </tr>\n",
       "    <tr>\n",
       "      <th>embedding/B_distance:types/string</th>\n",
       "      <td>0.0</td>\n",
       "      <td>NaN</td>\n",
       "    </tr>\n",
       "    <tr>\n",
       "      <th>embedding/B_distance:types/vector</th>\n",
       "      <td>0.0</td>\n",
       "      <td>NaN</td>\n",
       "    </tr>\n",
       "    <tr>\n",
       "      <th>embedding/closest:counts/inf</th>\n",
       "      <td>0.0</td>\n",
       "      <td>NaN</td>\n",
       "    </tr>\n",
       "    <tr>\n",
       "      <th>embedding/closest:counts/n</th>\n",
       "      <td>3.0</td>\n",
       "      <td>NaN</td>\n",
       "    </tr>\n",
       "    <tr>\n",
       "      <th>embedding/closest:counts/nan</th>\n",
       "      <td>0.0</td>\n",
       "      <td>NaN</td>\n",
       "    </tr>\n",
       "    <tr>\n",
       "      <th>embedding/closest:counts/null</th>\n",
       "      <td>0.0</td>\n",
       "      <td>NaN</td>\n",
       "    </tr>\n",
       "    <tr>\n",
       "      <th>embedding/closest:frequent_items/frequent_strings</th>\n",
       "      <td>[FrequentItem(value='A', est=3, upper=3, lower...</td>\n",
       "      <td>NaN</td>\n",
       "    </tr>\n",
       "    <tr>\n",
       "      <th>embedding/closest:types/boolean</th>\n",
       "      <td>0.0</td>\n",
       "      <td>NaN</td>\n",
       "    </tr>\n",
       "    <tr>\n",
       "      <th>embedding/closest:types/fractional</th>\n",
       "      <td>0.0</td>\n",
       "      <td>NaN</td>\n",
       "    </tr>\n",
       "    <tr>\n",
       "      <th>embedding/closest:types/integral</th>\n",
       "      <td>0.0</td>\n",
       "      <td>NaN</td>\n",
       "    </tr>\n",
       "    <tr>\n",
       "      <th>embedding/closest:types/object</th>\n",
       "      <td>0.0</td>\n",
       "      <td>NaN</td>\n",
       "    </tr>\n",
       "    <tr>\n",
       "      <th>embedding/closest:types/string</th>\n",
       "      <td>3.0</td>\n",
       "      <td>NaN</td>\n",
       "    </tr>\n",
       "    <tr>\n",
       "      <th>embedding/closest:types/vector</th>\n",
       "      <td>0.0</td>\n",
       "      <td>NaN</td>\n",
       "    </tr>\n",
       "    <tr>\n",
       "      <th>type</th>\n",
       "      <td>SummaryType.COLUMN</td>\n",
       "      <td>SummaryType.COLUMN</td>\n",
       "    </tr>\n",
       "  </tbody>\n",
       "</table>\n",
       "</div>"
      ],
      "text/plain": [
       "column                                                                                        arrays  \\\n",
       "embedding/A_distance:counts/inf                                                                  0.0   \n",
       "embedding/A_distance:counts/n                                                                    3.0   \n",
       "embedding/A_distance:counts/nan                                                                  0.0   \n",
       "embedding/A_distance:counts/null                                                                 0.0   \n",
       "embedding/A_distance:distribution/max                                                       1.403567   \n",
       "embedding/A_distance:distribution/mean                                                      1.403567   \n",
       "embedding/A_distance:distribution/median                                                    1.403567   \n",
       "embedding/A_distance:distribution/min                                                       1.403567   \n",
       "embedding/A_distance:distribution/n                                                              3.0   \n",
       "embedding/A_distance:distribution/q_01                                                      1.403567   \n",
       "embedding/A_distance:distribution/q_05                                                      1.403567   \n",
       "embedding/A_distance:distribution/q_10                                                      1.403567   \n",
       "embedding/A_distance:distribution/q_25                                                      1.403567   \n",
       "embedding/A_distance:distribution/q_75                                                      1.403567   \n",
       "embedding/A_distance:distribution/q_90                                                      1.403567   \n",
       "embedding/A_distance:distribution/q_95                                                      1.403567   \n",
       "embedding/A_distance:distribution/q_99                                                      1.403567   \n",
       "embedding/A_distance:distribution/stddev                                                         0.0   \n",
       "embedding/A_distance:types/boolean                                                               0.0   \n",
       "embedding/A_distance:types/fractional                                                            3.0   \n",
       "embedding/A_distance:types/integral                                                              0.0   \n",
       "embedding/A_distance:types/object                                                                0.0   \n",
       "embedding/A_distance:types/string                                                                0.0   \n",
       "embedding/A_distance:types/vector                                                                0.0   \n",
       "embedding/B_distance:counts/inf                                                                  0.0   \n",
       "embedding/B_distance:counts/n                                                                    3.0   \n",
       "embedding/B_distance:counts/nan                                                                  0.0   \n",
       "embedding/B_distance:counts/null                                                                 0.0   \n",
       "embedding/B_distance:distribution/max                                                       2.077571   \n",
       "embedding/B_distance:distribution/mean                                                      2.077571   \n",
       "embedding/B_distance:distribution/median                                                    2.077571   \n",
       "embedding/B_distance:distribution/min                                                       2.077571   \n",
       "embedding/B_distance:distribution/n                                                              3.0   \n",
       "embedding/B_distance:distribution/q_01                                                      2.077571   \n",
       "embedding/B_distance:distribution/q_05                                                      2.077571   \n",
       "embedding/B_distance:distribution/q_10                                                      2.077571   \n",
       "embedding/B_distance:distribution/q_25                                                      2.077571   \n",
       "embedding/B_distance:distribution/q_75                                                      2.077571   \n",
       "embedding/B_distance:distribution/q_90                                                      2.077571   \n",
       "embedding/B_distance:distribution/q_95                                                      2.077571   \n",
       "embedding/B_distance:distribution/q_99                                                      2.077571   \n",
       "embedding/B_distance:distribution/stddev                                                         0.0   \n",
       "embedding/B_distance:types/boolean                                                               0.0   \n",
       "embedding/B_distance:types/fractional                                                            3.0   \n",
       "embedding/B_distance:types/integral                                                              0.0   \n",
       "embedding/B_distance:types/object                                                                0.0   \n",
       "embedding/B_distance:types/string                                                                0.0   \n",
       "embedding/B_distance:types/vector                                                                0.0   \n",
       "embedding/closest:counts/inf                                                                     0.0   \n",
       "embedding/closest:counts/n                                                                       3.0   \n",
       "embedding/closest:counts/nan                                                                     0.0   \n",
       "embedding/closest:counts/null                                                                    0.0   \n",
       "embedding/closest:frequent_items/frequent_strings  [FrequentItem(value='A', est=3, upper=3, lower...   \n",
       "embedding/closest:types/boolean                                                                  0.0   \n",
       "embedding/closest:types/fractional                                                               0.0   \n",
       "embedding/closest:types/integral                                                                 0.0   \n",
       "embedding/closest:types/object                                                                   0.0   \n",
       "embedding/closest:types/string                                                                   3.0   \n",
       "embedding/closest:types/vector                                                                   0.0   \n",
       "type                                                                              SummaryType.COLUMN   \n",
       "\n",
       "column                                                     prediction  \n",
       "embedding/A_distance:counts/inf                                   NaN  \n",
       "embedding/A_distance:counts/n                                     NaN  \n",
       "embedding/A_distance:counts/nan                                   NaN  \n",
       "embedding/A_distance:counts/null                                  NaN  \n",
       "embedding/A_distance:distribution/max                             NaN  \n",
       "embedding/A_distance:distribution/mean                            NaN  \n",
       "embedding/A_distance:distribution/median                          NaN  \n",
       "embedding/A_distance:distribution/min                             NaN  \n",
       "embedding/A_distance:distribution/n                               NaN  \n",
       "embedding/A_distance:distribution/q_01                            NaN  \n",
       "embedding/A_distance:distribution/q_05                            NaN  \n",
       "embedding/A_distance:distribution/q_10                            NaN  \n",
       "embedding/A_distance:distribution/q_25                            NaN  \n",
       "embedding/A_distance:distribution/q_75                            NaN  \n",
       "embedding/A_distance:distribution/q_90                            NaN  \n",
       "embedding/A_distance:distribution/q_95                            NaN  \n",
       "embedding/A_distance:distribution/q_99                            NaN  \n",
       "embedding/A_distance:distribution/stddev                          NaN  \n",
       "embedding/A_distance:types/boolean                                NaN  \n",
       "embedding/A_distance:types/fractional                             NaN  \n",
       "embedding/A_distance:types/integral                               NaN  \n",
       "embedding/A_distance:types/object                                 NaN  \n",
       "embedding/A_distance:types/string                                 NaN  \n",
       "embedding/A_distance:types/vector                                 NaN  \n",
       "embedding/B_distance:counts/inf                                   NaN  \n",
       "embedding/B_distance:counts/n                                     NaN  \n",
       "embedding/B_distance:counts/nan                                   NaN  \n",
       "embedding/B_distance:counts/null                                  NaN  \n",
       "embedding/B_distance:distribution/max                             NaN  \n",
       "embedding/B_distance:distribution/mean                            NaN  \n",
       "embedding/B_distance:distribution/median                          NaN  \n",
       "embedding/B_distance:distribution/min                             NaN  \n",
       "embedding/B_distance:distribution/n                               NaN  \n",
       "embedding/B_distance:distribution/q_01                            NaN  \n",
       "embedding/B_distance:distribution/q_05                            NaN  \n",
       "embedding/B_distance:distribution/q_10                            NaN  \n",
       "embedding/B_distance:distribution/q_25                            NaN  \n",
       "embedding/B_distance:distribution/q_75                            NaN  \n",
       "embedding/B_distance:distribution/q_90                            NaN  \n",
       "embedding/B_distance:distribution/q_95                            NaN  \n",
       "embedding/B_distance:distribution/q_99                            NaN  \n",
       "embedding/B_distance:distribution/stddev                          NaN  \n",
       "embedding/B_distance:types/boolean                                NaN  \n",
       "embedding/B_distance:types/fractional                             NaN  \n",
       "embedding/B_distance:types/integral                               NaN  \n",
       "embedding/B_distance:types/object                                 NaN  \n",
       "embedding/B_distance:types/string                                 NaN  \n",
       "embedding/B_distance:types/vector                                 NaN  \n",
       "embedding/closest:counts/inf                                      NaN  \n",
       "embedding/closest:counts/n                                        NaN  \n",
       "embedding/closest:counts/nan                                      NaN  \n",
       "embedding/closest:counts/null                                     NaN  \n",
       "embedding/closest:frequent_items/frequent_strings                 NaN  \n",
       "embedding/closest:types/boolean                                   NaN  \n",
       "embedding/closest:types/fractional                                NaN  \n",
       "embedding/closest:types/integral                                  NaN  \n",
       "embedding/closest:types/object                                    NaN  \n",
       "embedding/closest:types/string                                    NaN  \n",
       "embedding/closest:types/vector                                    NaN  \n",
       "type                                               SummaryType.COLUMN  "
      ]
     },
     "execution_count": 49,
>>>>>>> 4511d00ad105a0fb0ca88c646d31acfee1503c64
     "metadata": {},
     "output_type": "execute_result"
    }
   ],
   "source": [
<<<<<<< HEAD
    "np.stack(df_np[\"arrays\"].to_numpy(), axis=0)"
=======
    "profile_df_api.profile().view().to_pandas().T"
>>>>>>> 4511d00ad105a0fb0ca88c646d31acfee1503c64
   ]
  },
  {
   "cell_type": "code",
   "execution_count": null,
   "metadata": {},
   "outputs": [],
   "source": []
  }
 ],
 "metadata": {
  "kernelspec": {
   "display_name": ".venv",
   "language": "python",
   "name": "python3"
  },
  "language_info": {
   "codemirror_mode": {
    "name": "ipython",
    "version": 3
   },
   "file_extension": ".py",
   "mimetype": "text/x-python",
   "name": "python",
   "nbconvert_exporter": "python",
   "pygments_lexer": "ipython3",
   "version": "3.8.2"
  },
  "orig_nbformat": 4,
  "vscode": {
   "interpreter": {
    "hash": "430afe8a58005ca0c1ea815795903e4adca034007f45e252f863136057f48b2b"
   }
  }
 },
 "nbformat": 4,
 "nbformat_minor": 2
}
